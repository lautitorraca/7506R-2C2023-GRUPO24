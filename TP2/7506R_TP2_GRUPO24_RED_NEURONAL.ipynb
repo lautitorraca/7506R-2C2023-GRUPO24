{
  "nbformat": 4,
  "nbformat_minor": 0,
  "metadata": {
    "colab": {
      "provenance": [],
      "authorship_tag": "ABX9TyNFpXGC4jlSfY0co8l79J3d",
      "include_colab_link": true
    },
    "kernelspec": {
      "name": "python3",
      "display_name": "Python 3"
    },
    "language_info": {
      "name": "python"
    }
  },
  "cells": [
    {
      "cell_type": "markdown",
      "metadata": {
        "id": "view-in-github",
        "colab_type": "text"
      },
      "source": [
        "<a href=\"https://colab.research.google.com/github/lautitorraca/7506R-2C2023-GRUPO24/blob/main/TP2/7506R_TP2_GRUPO24_RED_NEURONAL.ipynb\" target=\"_parent\"><img src=\"https://colab.research.google.com/assets/colab-badge.svg\" alt=\"Open In Colab\"/></a>"
      ]
    },
    {
      "cell_type": "markdown",
      "source": [
        "𝔾𝕣𝕦𝕡𝕠 𝟚𝟜 (Merequetengue👍)\n",
        "\n",
        "➢ Torraca Lautaro - 108813\n",
        "\n",
        "➢ Negrotti Gianluca - 108184\n",
        "\n",
        "➢ Marco Tosi - 107237"
      ],
      "metadata": {
        "id": "n8kHAUXWFVG4"
      }
    },
    {
      "cell_type": "markdown",
      "source": [
        "### > Imports"
      ],
      "metadata": {
        "id": "wub9oeo8F--R"
      }
    },
    {
      "cell_type": "code",
      "source": [
        "import numpy as np\n",
        "import pandas as pd\n",
        "from tensorflow.keras.models import Sequential\n",
        "from tensorflow.keras.layers import Embedding, GRU, Dense\n",
        "from tensorflow.keras.preprocessing.text import Tokenizer\n",
        "from tensorflow.keras.preprocessing.sequence import pad_sequences\n",
        "from tensorflow.keras.callbacks import EarlyStopping\n",
        "from tensorflow.keras import optimizers\n",
        "from tensorflow.keras.metrics import BinaryAccuracy\n",
        "\n",
        "# Optimización de hiperparámetros\n",
        "from sklearn.model_selection import train_test_split, StratifiedKFold, KFold, RepeatedKFold\n",
        "\n",
        "# Manejo de modelos\n",
        "from pickle import dump\n",
        "from pickle import load"
      ],
      "metadata": {
        "id": "apRGqdQ25_-F"
      },
      "execution_count": 12,
      "outputs": []
    },
    {
      "cell_type": "markdown",
      "source": [
        "### > Lectura de los datasets"
      ],
      "metadata": {
        "id": "5wxqoxXTGA_D"
      }
    },
    {
      "cell_type": "code",
      "source": [
        "url_train = '/content/train_limpio.csv'\n",
        "url_test = '/content/test_limpio.csv'\n",
        "\n",
        "df_train = pd.read_csv(url_train)\n",
        "df_test = pd.read_csv(url_test)\n",
        "\n",
        "train = df_train.copy()\n",
        "test = df_test.copy()"
      ],
      "metadata": {
        "id": "FIFvy50-6hk0"
      },
      "execution_count": 13,
      "outputs": []
    },
    {
      "cell_type": "markdown",
      "source": [
        "### Red neuronal"
      ],
      "metadata": {
        "id": "0hRVe4OJGDv4"
      }
    },
    {
      "cell_type": "markdown",
      "source": [
        "- Division y preprocesamiento de los datos\n",
        "\n"
      ],
      "metadata": {
        "id": "s_u4tEBGGK6_"
      }
    },
    {
      "cell_type": "code",
      "source": [
        "target = 'sentimiento'\n",
        "features = 'review_es_clean'"
      ],
      "metadata": {
        "id": "D0WV-1qD6Ron"
      },
      "execution_count": 14,
      "outputs": []
    },
    {
      "cell_type": "code",
      "source": [
        "X_train, X_test, y_train, y_test = train_test_split(train[features],\n",
        "                                                    train[target],\n",
        "                                                    test_size=0.3,\n",
        "                                                    random_state=42,\n",
        "                                                    stratify=train[target],\n",
        "                                                    shuffle=True)\n",
        "\n"
      ],
      "metadata": {
        "id": "8xMTT2el6WDU"
      },
      "execution_count": 15,
      "outputs": []
    },
    {
      "cell_type": "markdown",
      "source": [
        "- Tokenizacion\n",
        "\n"
      ],
      "metadata": {
        "id": "03Omr8FCGM0k"
      }
    },
    {
      "cell_type": "code",
      "source": [
        "# Convertir las críticas de texto a secuencias numéricas\n",
        "tokenizer = Tokenizer(num_words=20000)\n",
        "tokenizer.fit_on_texts(X_train)\n",
        "sequences = tokenizer.texts_to_sequences(X_train)\n",
        "word_index = tokenizer.word_index\n",
        "\n",
        "# Ajustar el tamaño del vocabulario en la capa Embedding\n",
        "vocab_size = min(len(word_index) + 1, 20000)\n",
        "\n",
        "# Limitar la longitud de las secuencias a un tamaño fijo\n",
        "max_sequence_length = 200\n",
        "X_train_padded = pad_sequences(sequences, maxlen=max_sequence_length)\n",
        "\n",
        "# Convertir las etiquetas a valores numéricos\n",
        "labels = np.array(y_train.replace({\"negativo\": 0, \"positivo\": 1}))\n"
      ],
      "metadata": {
        "id": "yti4H_crGVB8"
      },
      "execution_count": null,
      "outputs": []
    },
    {
      "cell_type": "markdown",
      "source": [
        "- Creacion del modelo de RNN"
      ],
      "metadata": {
        "id": "zA_AqqqNGWzn"
      }
    },
    {
      "cell_type": "code",
      "source": [
        "\n",
        "\n",
        "# Crear el modelo de RNN con capas GRU\n",
        "model_opt = Sequential()\n",
        "model_opt.add(Embedding(vocab_size, 100, input_length=max_sequence_length))\n",
        "model_opt.add(GRU(64, dropout=0.2))  # Considera quitar recurrent_dropout si afecta el rendimiento en GPU\n",
        "model_opt.add(Dense(1, activation='sigmoid'))\n",
        "\n",
        "# Configurar el optimizador\n",
        "optimizer = optimizers.Adam()\n",
        "\n",
        "# Compilar el modelo\n",
        "model_opt.compile(loss='binary_crossentropy', optimizer=optimizer, metrics=[BinaryAccuracy(name='accuracy')])\n",
        "\n",
        "# Cantidad de épocas de entrenamiento\n",
        "cant_epochs = 8\n",
        "\n",
        "# Configurar el callback de Early Stopping\n",
        "early_stopping = EarlyStopping(monitor='val_accuracy',\n",
        "                               patience=4,\n",
        "                               mode='max',\n",
        "                               restore_best_weights=True,\n",
        "                               min_delta=0.0001)\n",
        "\n",
        "# Entrenar el modelo\n",
        "history_model_rn = model_opt.fit(X_train_padded,\n",
        "                                 labels,\n",
        "                                 epochs=cant_epochs,\n",
        "                                 batch_size=32,\n",
        "                                 validation_split=0.2,\n",
        "                                 verbose=1,\n",
        "                                 callbacks=[early_stopping])\n"
      ],
      "metadata": {
        "colab": {
          "base_uri": "https://localhost:8080/"
        },
        "id": "H_rKl7m_6egn",
        "outputId": "457a8199-dc32-423f-8fed-7070bd220445"
      },
      "execution_count": 16,
      "outputs": [
        {
          "output_type": "stream",
          "name": "stdout",
          "text": [
            "Epoch 1/8\n",
            "875/875 [==============================] - 134s 151ms/step - loss: 0.4159 - accuracy: 0.8062 - val_loss: 0.3444 - val_accuracy: 0.8560\n",
            "Epoch 2/8\n",
            "875/875 [==============================] - 129s 147ms/step - loss: 0.2308 - accuracy: 0.9096 - val_loss: 0.3603 - val_accuracy: 0.8577\n",
            "Epoch 3/8\n",
            "875/875 [==============================] - 126s 144ms/step - loss: 0.1341 - accuracy: 0.9522 - val_loss: 0.4257 - val_accuracy: 0.8586\n",
            "Epoch 4/8\n",
            "875/875 [==============================] - 135s 155ms/step - loss: 0.0792 - accuracy: 0.9727 - val_loss: 0.4733 - val_accuracy: 0.8484\n",
            "Epoch 5/8\n",
            "875/875 [==============================] - 152s 174ms/step - loss: 0.0437 - accuracy: 0.9855 - val_loss: 0.6644 - val_accuracy: 0.8467\n",
            "Epoch 6/8\n",
            "875/875 [==============================] - 139s 159ms/step - loss: 0.0265 - accuracy: 0.9913 - val_loss: 0.7513 - val_accuracy: 0.8421\n",
            "Epoch 7/8\n",
            "875/875 [==============================] - 143s 163ms/step - loss: 0.0227 - accuracy: 0.9928 - val_loss: 0.7730 - val_accuracy: 0.8403\n"
          ]
        }
      ]
    },
    {
      "cell_type": "markdown",
      "source": [
        "- Entrenamiento del modelo"
      ],
      "metadata": {
        "id": "U_vE7PtqGaFV"
      }
    },
    {
      "cell_type": "code",
      "source": [
        "# Entrenar el modelo\n",
        "history_model_rn = model_opt.fit(X_train_padded,\n",
        "                                 labels,\n",
        "                                 epochs=cant_epochs,\n",
        "                                 batch_size=32,\n",
        "                                 validation_split=0.2,\n",
        "                                 verbose=1,\n",
        "                                 callbacks=[early_stopping])\n"
      ],
      "metadata": {
        "id": "FByAJ41zGciM"
      },
      "execution_count": null,
      "outputs": []
    },
    {
      "cell_type": "markdown",
      "source": [
        "- Prediccion y muestra de la matriz"
      ],
      "metadata": {
        "id": "vAa8ZtXGGhxv"
      }
    },
    {
      "cell_type": "code",
      "source": [
        "from sklearn.metrics import confusion_matrix\n",
        "import numpy as np\n",
        "\n",
        "\n",
        "# Convertir las críticas de texto de prueba a secuencias numéricas\n",
        "sequences_test = tokenizer.texts_to_sequences(X_test)\n",
        "X_test_padded = pad_sequences(sequences_test, maxlen=max_sequence_length)\n",
        "\n",
        "# Realizar predicciones\n",
        "predictions = model_opt.predict(X_test_padded)\n",
        "\n",
        "# Convertir las predicciones a etiquetas binarias\n",
        "predicted_labels = [1 if p > 0.5 else 0 for p in np.ravel(predictions)]\n",
        "\n",
        "# Convertir y_test a valores numéricos si es necesario\n",
        "y_test_numeric = np.array(y_test.replace({\"negativo\": 0, \"positivo\": 1}))\n",
        "\n",
        "# Calcular la matriz de confusión\n",
        "conf_matrix = confusion_matrix(y_test_numeric, predicted_labels)\n",
        "print(\"Matriz de Confusión:\")\n",
        "print(conf_matrix)\n"
      ],
      "metadata": {
        "colab": {
          "base_uri": "https://localhost:8080/"
        },
        "id": "LqW6hg2_6m3J",
        "outputId": "3b625bdb-e21c-445f-ffb0-63159d2d328f"
      },
      "execution_count": 18,
      "outputs": [
        {
          "output_type": "stream",
          "name": "stdout",
          "text": [
            "469/469 [==============================] - 28s 57ms/step\n",
            "Matriz de Confusión:\n",
            "[[6592  908]\n",
            " [1198 6302]]\n"
          ]
        }
      ]
    },
    {
      "cell_type": "markdown",
      "source": [
        "- Guardado del modelo en H5 (similar a pickle)"
      ],
      "metadata": {
        "id": "9Cpw06g-GdDQ"
      }
    },
    {
      "cell_type": "code",
      "source": [
        "model_opt.save('red_neuronal.h5')  # Guarda el modelo en formato H5\n",
        "from google.colab import files\n",
        "files.download('red_neuronal.h5')\n"
      ],
      "metadata": {
        "colab": {
          "base_uri": "https://localhost:8080/",
          "height": 74
        },
        "id": "wSlzm4I1Fuj6",
        "outputId": "d83bcd13-8077-47b6-83e5-b77fd3edefe2"
      },
      "execution_count": 20,
      "outputs": [
        {
          "output_type": "stream",
          "name": "stderr",
          "text": [
            "/usr/local/lib/python3.10/dist-packages/keras/src/engine/training.py:3079: UserWarning: You are saving your model as an HDF5 file via `model.save()`. This file format is considered legacy. We recommend using instead the native Keras format, e.g. `model.save('my_model.keras')`.\n",
            "  saving_api.save_model(\n"
          ]
        },
        {
          "output_type": "display_data",
          "data": {
            "text/plain": [
              "<IPython.core.display.Javascript object>"
            ],
            "application/javascript": [
              "\n",
              "    async function download(id, filename, size) {\n",
              "      if (!google.colab.kernel.accessAllowed) {\n",
              "        return;\n",
              "      }\n",
              "      const div = document.createElement('div');\n",
              "      const label = document.createElement('label');\n",
              "      label.textContent = `Downloading \"${filename}\": `;\n",
              "      div.appendChild(label);\n",
              "      const progress = document.createElement('progress');\n",
              "      progress.max = size;\n",
              "      div.appendChild(progress);\n",
              "      document.body.appendChild(div);\n",
              "\n",
              "      const buffers = [];\n",
              "      let downloaded = 0;\n",
              "\n",
              "      const channel = await google.colab.kernel.comms.open(id);\n",
              "      // Send a message to notify the kernel that we're ready.\n",
              "      channel.send({})\n",
              "\n",
              "      for await (const message of channel.messages) {\n",
              "        // Send a message to notify the kernel that we're ready.\n",
              "        channel.send({})\n",
              "        if (message.buffers) {\n",
              "          for (const buffer of message.buffers) {\n",
              "            buffers.push(buffer);\n",
              "            downloaded += buffer.byteLength;\n",
              "            progress.value = downloaded;\n",
              "          }\n",
              "        }\n",
              "      }\n",
              "      const blob = new Blob(buffers, {type: 'application/binary'});\n",
              "      const a = document.createElement('a');\n",
              "      a.href = window.URL.createObjectURL(blob);\n",
              "      a.download = filename;\n",
              "      div.appendChild(a);\n",
              "      a.click();\n",
              "      div.remove();\n",
              "    }\n",
              "  "
            ]
          },
          "metadata": {}
        },
        {
          "output_type": "display_data",
          "data": {
            "text/plain": [
              "<IPython.core.display.Javascript object>"
            ],
            "application/javascript": [
              "download(\"download_ef12efdd-667f-4e01-9627-9a87e5bbdd63\", \"red_neuronal.h5\", 24418424)"
            ]
          },
          "metadata": {}
        }
      ]
    },
    {
      "cell_type": "markdown",
      "source": [
        "- Prediccion con el dataset Test"
      ],
      "metadata": {
        "id": "9HMQr_aTGtl3"
      }
    },
    {
      "cell_type": "code",
      "source": [
        "import pandas as pd\n",
        "from tensorflow.keras.preprocessing.sequence import pad_sequences\n",
        "\n",
        "# Convertir las revisiones de texto a secuencias numéricas\n",
        "test_sequences = tokenizer.texts_to_sequences(test['review_es_clean'])\n",
        "\n",
        "\n",
        "max_sequence_length = 200\n",
        "X_test_tokenizer = pad_sequences(test_sequences, maxlen=max_sequence_length)\n",
        "\n",
        "# Realizar predicciones\n",
        "predictions = model_opt.predict(X_test_tokenizer)\n",
        "predicted_sentiment = ['positivo' if pred > 0.5 else 'negativo' for pred in predictions]\n",
        "\n",
        "# Agregar las predicciones al DataFrame de prueba\n",
        "test['predicted_sentiment'] = predicted_sentiment\n",
        "\n",
        "# Seleccionar solo las columnas ID y predicted_sentiment\n",
        "output = test[['ID', 'predicted_sentiment']]\n",
        "\n",
        "# Guardar las predicciones en un nuevo archivo CSV\n",
        "output.to_csv('test_predictions.csv', index=False)\n"
      ],
      "metadata": {
        "colab": {
          "base_uri": "https://localhost:8080/",
          "height": 35
        },
        "id": "3gYbEZkED5Kp",
        "outputId": "765129ef-a69a-4144-ac75-20d2745f2c0e"
      },
      "execution_count": 19,
      "outputs": [
        {
          "output_type": "stream",
          "name": "stdout",
          "text": [
            "269/269 [==============================] - 12s 46ms/step\n"
          ]
        },
        {
          "output_type": "display_data",
          "data": {
            "text/plain": [
              "<IPython.core.display.Javascript object>"
            ],
            "application/javascript": [
              "\n",
              "    async function download(id, filename, size) {\n",
              "      if (!google.colab.kernel.accessAllowed) {\n",
              "        return;\n",
              "      }\n",
              "      const div = document.createElement('div');\n",
              "      const label = document.createElement('label');\n",
              "      label.textContent = `Downloading \"${filename}\": `;\n",
              "      div.appendChild(label);\n",
              "      const progress = document.createElement('progress');\n",
              "      progress.max = size;\n",
              "      div.appendChild(progress);\n",
              "      document.body.appendChild(div);\n",
              "\n",
              "      const buffers = [];\n",
              "      let downloaded = 0;\n",
              "\n",
              "      const channel = await google.colab.kernel.comms.open(id);\n",
              "      // Send a message to notify the kernel that we're ready.\n",
              "      channel.send({})\n",
              "\n",
              "      for await (const message of channel.messages) {\n",
              "        // Send a message to notify the kernel that we're ready.\n",
              "        channel.send({})\n",
              "        if (message.buffers) {\n",
              "          for (const buffer of message.buffers) {\n",
              "            buffers.push(buffer);\n",
              "            downloaded += buffer.byteLength;\n",
              "            progress.value = downloaded;\n",
              "          }\n",
              "        }\n",
              "      }\n",
              "      const blob = new Blob(buffers, {type: 'application/binary'});\n",
              "      const a = document.createElement('a');\n",
              "      a.href = window.URL.createObjectURL(blob);\n",
              "      a.download = filename;\n",
              "      div.appendChild(a);\n",
              "      a.click();\n",
              "      div.remove();\n",
              "    }\n",
              "  "
            ]
          },
          "metadata": {}
        },
        {
          "output_type": "display_data",
          "data": {
            "text/plain": [
              "<IPython.core.display.Javascript object>"
            ],
            "application/javascript": [
              "download(\"download_c008bee4-fa7a-44dc-bcbb-69bf9dd8fbe1\", \"test_predictions.csv\", 129008)"
            ]
          },
          "metadata": {}
        }
      ]
    },
    {
      "cell_type": "markdown",
      "source": [
        "- Descarga de la prediccion"
      ],
      "metadata": {
        "id": "3XxpkS8JG1iL"
      }
    },
    {
      "cell_type": "code",
      "source": [
        "# Descargar el archivo (útil en Jupyter Notebook o Google Colab)\n",
        "try:\n",
        "    from google.colab import files\n",
        "    files.download('test_predictions.csv')\n",
        "except ImportError:\n",
        "    print(\"La función de descarga solo funciona en entornos como Google Colab.\")\n"
      ],
      "metadata": {
        "id": "VFMCWFStG4iw"
      },
      "execution_count": null,
      "outputs": []
    }
  ]
}