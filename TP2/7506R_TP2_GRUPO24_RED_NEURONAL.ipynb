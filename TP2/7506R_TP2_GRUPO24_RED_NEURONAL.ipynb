{
  "nbformat": 4,
  "nbformat_minor": 0,
  "metadata": {
    "colab": {
      "provenance": [],
      "mount_file_id": "1xiva6CTgjO6mXlLwBIV9CoOwMHXY2mkK",
      "authorship_tag": "ABX9TyPpgZiwJxFSoxfRawEebec5",
      "include_colab_link": true
    },
    "kernelspec": {
      "name": "python3",
      "display_name": "Python 3"
    },
    "language_info": {
      "name": "python"
    }
  },
  "cells": [
    {
      "cell_type": "markdown",
      "metadata": {
        "id": "view-in-github",
        "colab_type": "text"
      },
      "source": [
        "<a href=\"https://colab.research.google.com/github/lautitorraca/7506R-2C2023-GRUPO24/blob/main/TP2/7506R_TP2_GRUPO24_RED_NEURONAL.ipynb\" target=\"_parent\"><img src=\"https://colab.research.google.com/assets/colab-badge.svg\" alt=\"Open In Colab\"/></a>"
      ]
    },
    {
      "cell_type": "markdown",
      "source": [
        "𝔾𝕣𝕦𝕡𝕠 𝟚𝟜 (Merequetengue👍)\n",
        "\n",
        "➢ Torraca Lautaro - 108813\n",
        "\n",
        "➢ Negrotti Gianluca - 108184\n",
        "\n",
        "➢ Marco Tosi - 107237"
      ],
      "metadata": {
        "id": "n8kHAUXWFVG4"
      }
    },
    {
      "cell_type": "markdown",
      "source": [
        "### > Imports"
      ],
      "metadata": {
        "id": "wub9oeo8F--R"
      }
    },
    {
      "cell_type": "code",
      "source": [
        "import numpy as np\n",
        "import pandas as pd\n",
        "from tensorflow.keras.models import Sequential\n",
        "from tensorflow.keras.layers import Embedding, GRU, Dense\n",
        "from tensorflow.keras.preprocessing.text import Tokenizer\n",
        "from tensorflow.keras.preprocessing.sequence import pad_sequences\n",
        "from tensorflow.keras.callbacks import EarlyStopping\n",
        "from tensorflow.keras import optimizers\n",
        "from tensorflow.keras.metrics import BinaryAccuracy\n",
        "import tensorflow as tf\n",
        "from tensorflow.keras import backend as K\n",
        "from tensorflow.keras import regularizers\n",
        "from tensorflow import keras\n",
        "from sklearn.preprocessing import StandardScaler\n",
        "\n",
        "# Optimización de hiperparámetros\n",
        "from sklearn.model_selection import train_test_split, StratifiedKFold, KFold, RepeatedKFold\n",
        "\n",
        "# Manejo de modelos\n",
        "from pickle import dump\n",
        "from pickle import load"
      ],
      "metadata": {
        "id": "apRGqdQ25_-F"
      },
      "execution_count": null,
      "outputs": []
    },
    {
      "cell_type": "markdown",
      "source": [
        "### > Lectura de los datasets"
      ],
      "metadata": {
        "id": "5wxqoxXTGA_D"
      }
    },
    {
      "cell_type": "code",
      "source": [
        "url_train = '/content/drive/MyDrive/Colab Notebooks/train_limpio.csv'\n",
        "url_test = '/content/drive/MyDrive/Colab Notebooks/test_limpio.csv'\n",
        "\n",
        "\n",
        "df_train = pd.read_csv(url_train)\n",
        "df_test = pd.read_csv(url_test)\n",
        "\n",
        "train = df_train.copy()\n",
        "test = df_test.copy()"
      ],
      "metadata": {
        "id": "FIFvy50-6hk0"
      },
      "execution_count": null,
      "outputs": []
    },
    {
      "cell_type": "markdown",
      "source": [
        "- Division y preprocesamiento de los datos\n",
        "\n"
      ],
      "metadata": {
        "id": "s_u4tEBGGK6_"
      }
    },
    {
      "cell_type": "code",
      "source": [
        "target = 'sentimiento'\n",
        "features = 'review_es_clean'"
      ],
      "metadata": {
        "id": "D0WV-1qD6Ron"
      },
      "execution_count": null,
      "outputs": []
    },
    {
      "cell_type": "code",
      "source": [
        "X_train, X_test, y_train, y_test = train_test_split(train[features],\n",
        "                                                    train[target],\n",
        "                                                    test_size=0.05,\n",
        "                                                    random_state=42,\n",
        "                                                    stratify=train[target],\n",
        "                                                    shuffle=True)\n",
        "\n"
      ],
      "metadata": {
        "id": "8xMTT2el6WDU"
      },
      "execution_count": null,
      "outputs": []
    },
    {
      "cell_type": "markdown",
      "source": [
        "### Red neuronal"
      ],
      "metadata": {
        "id": "0hRVe4OJGDv4"
      }
    },
    {
      "cell_type": "markdown",
      "source": [
        "- Tokenizacion\n",
        "\n"
      ],
      "metadata": {
        "id": "03Omr8FCGM0k"
      }
    },
    {
      "cell_type": "code",
      "source": [
        "# Convertir las críticas de texto a secuencias numéricas\n",
        "tokenizer = Tokenizer(num_words=10000)\n",
        "tokenizer.fit_on_texts(X_train)\n",
        "sequences = tokenizer.texts_to_sequences(X_train)\n",
        "word_index = tokenizer.word_index\n",
        "\n",
        "# Ajustar el tamaño del vocabulario en la capa Embedding\n",
        "vocab_size = min(len(word_index) + 1, 10000)\n",
        "\n",
        "# Limitar la longitud de las secuencias a un tamaño fijo\n",
        "max_sequence_length = 128\n",
        "X_train_padded = pad_sequences(sequences, maxlen=max_sequence_length)\n",
        "\n",
        "# Convertir las etiquetas a valores numéricos\n",
        "labels = np.array(y_train.replace({\"negativo\": 0, \"positivo\": 1}))\n"
      ],
      "metadata": {
        "id": "yti4H_crGVB8"
      },
      "execution_count": null,
      "outputs": []
    },
    {
      "cell_type": "markdown",
      "source": [
        "- Creacion de funcion para optimizar f1"
      ],
      "metadata": {
        "id": "XKXc2HnbNej3"
      }
    },
    {
      "cell_type": "code",
      "source": [
        "def f1_score(y_true, y_pred):\n",
        "    y_pred = K.round(y_pred)\n",
        "    tp = K.sum(K.cast(y_true * y_pred, 'float'), axis=0)\n",
        "    fp = K.sum(K.cast((1 - y_true) * y_pred, 'float'), axis=0)\n",
        "    fn = K.sum(K.cast(y_true * (1 - y_pred), 'float'), axis=0)\n",
        "\n",
        "    p = tp / (tp + fp + K.epsilon())\n",
        "    r = tp / (tp + fn + K.epsilon())\n",
        "\n",
        "    f1 = 2 * p * r / (p + r + K.epsilon())\n",
        "    f1 = tf.where(tf.math.is_nan(f1), tf.zeros_like(f1), f1)\n",
        "    return K.mean(f1)\n"
      ],
      "metadata": {
        "id": "6VUywrSVNd8m"
      },
      "execution_count": null,
      "outputs": []
    },
    {
      "cell_type": "markdown",
      "source": [
        "- Creacion del modelo de RNN"
      ],
      "metadata": {
        "id": "zA_AqqqNGWzn"
      }
    },
    {
      "cell_type": "code",
      "source": [
        "# Crear el modelo de RNN con capas GRU\n",
        "model_opt = Sequential()\n",
        "model_opt.add(Embedding(vocab_size, 100, input_length=max_sequence_length))\n",
        "model_opt.add(GRU(64, dropout=0.2))\n",
        "model_opt.add(Dense(1, activation='sigmoid'))\n",
        "\n",
        "# Configurar el optimizador\n",
        "optimizer = optimizers.Adam()\n",
        "\n",
        "# Compilar el modelo\n",
        "model_opt.compile(loss='binary_crossentropy', optimizer=optimizer, metrics=[BinaryAccuracy(name='accuracy')])\n",
        "\n",
        "\n"
      ],
      "metadata": {
        "id": "H_rKl7m_6egn"
      },
      "execution_count": null,
      "outputs": []
    },
    {
      "cell_type": "markdown",
      "source": [
        "- Entrenamiento del modelo"
      ],
      "metadata": {
        "id": "U_vE7PtqGaFV"
      }
    },
    {
      "cell_type": "code",
      "source": [
        "# Compilar el modelo\n",
        "model_opt.compile(loss='binary_crossentropy', optimizer=optimizer, metrics=[f1_score])\n",
        "\n",
        "# Cantidad de épocas de entrenamiento\n",
        "cant_epochs = 8\n",
        "\n",
        "# Configurar el callback de Early Stopping para monitorear el f1_score\n",
        "early_stopping = EarlyStopping(monitor='val_f1_score',\n",
        "                               patience=4,\n",
        "                               mode='max',\n",
        "                               restore_best_weights=True,\n",
        "                               min_delta=0.0001)\n",
        "\n",
        "# Entrenar el modelo\n",
        "history_model_rn = model_opt.fit(X_train_padded,\n",
        "                                 labels,\n",
        "                                 epochs=cant_epochs,\n",
        "                                 batch_size=32,\n",
        "                                 validation_split=0.2,\n",
        "                                 verbose=1,\n",
        "                                 callbacks=[early_stopping])\n"
      ],
      "metadata": {
        "colab": {
          "base_uri": "https://localhost:8080/"
        },
        "id": "gyKi3AF4NWPp",
        "outputId": "608c929c-eef3-4020-fe79-3385d709154c"
      },
      "execution_count": null,
      "outputs": [
        {
          "output_type": "stream",
          "name": "stdout",
          "text": [
            "Epoch 1/8\n",
            "1188/1188 [==============================] - 146s 120ms/step - loss: 0.4073 - f1_score: 0.8115 - val_loss: 0.3402 - val_f1_score: 0.8457\n",
            "Epoch 2/8\n",
            "1188/1188 [==============================] - 141s 118ms/step - loss: 0.2614 - f1_score: 0.8927 - val_loss: 0.3328 - val_f1_score: 0.8564\n",
            "Epoch 3/8\n",
            "1188/1188 [==============================] - 145s 122ms/step - loss: 0.1901 - f1_score: 0.9263 - val_loss: 0.3814 - val_f1_score: 0.8622\n",
            "Epoch 4/8\n",
            "1188/1188 [==============================] - 140s 118ms/step - loss: 0.1318 - f1_score: 0.9499 - val_loss: 0.4441 - val_f1_score: 0.8481\n",
            "Epoch 5/8\n",
            "1188/1188 [==============================] - 143s 120ms/step - loss: 0.0887 - f1_score: 0.9679 - val_loss: 0.5029 - val_f1_score: 0.8358\n",
            "Epoch 6/8\n",
            "1188/1188 [==============================] - 142s 120ms/step - loss: 0.0625 - f1_score: 0.9769 - val_loss: 0.6554 - val_f1_score: 0.8349\n",
            "Epoch 7/8\n",
            "1188/1188 [==============================] - 140s 118ms/step - loss: 0.0466 - f1_score: 0.9831 - val_loss: 0.6885 - val_f1_score: 0.8324\n"
          ]
        }
      ]
    },
    {
      "cell_type": "markdown",
      "source": [
        "- Prediccion y muestra de la matriz"
      ],
      "metadata": {
        "id": "vAa8ZtXGGhxv"
      }
    },
    {
      "cell_type": "code",
      "source": [
        "from sklearn.metrics import confusion_matrix\n",
        "import numpy as np\n",
        "\n",
        "\n",
        "# Convertir las críticas de texto de prueba a secuencias numéricas\n",
        "sequences_test = tokenizer.texts_to_sequences(X_test)\n",
        "X_test_padded = pad_sequences(sequences_test, maxlen=max_sequence_length)\n",
        "\n",
        "# Realizar predicciones\n",
        "predictions = model_opt.predict(X_test_padded)\n",
        "\n",
        "# Convertir las predicciones a etiquetas binarias\n",
        "predicted_labels = [1 if p >= 0.5 else 0 for p in np.ravel(predictions)]\n",
        "\n",
        "# Convertir y_test a valores numéricos si es necesario\n",
        "y_test_numeric = np.array(y_test.replace({\"negativo\": 0, \"positivo\": 1}))\n",
        "\n",
        "# Calcular la matriz de confusión\n",
        "conf_matrix = confusion_matrix(y_test_numeric, predicted_labels)\n",
        "print(\"Matriz de Confusión:\")\n",
        "print(conf_matrix)\n"
      ],
      "metadata": {
        "colab": {
          "base_uri": "https://localhost:8080/"
        },
        "id": "LqW6hg2_6m3J",
        "outputId": "2045a802-673d-4175-ca7a-57dbddbbf98f"
      },
      "execution_count": null,
      "outputs": [
        {
          "output_type": "stream",
          "name": "stdout",
          "text": [
            "79/79 [==============================] - 3s 27ms/step\n",
            "Matriz de Confusión:\n",
            "[[1029  221]\n",
            " [ 120 1130]]\n"
          ]
        }
      ]
    },
    {
      "cell_type": "markdown",
      "source": [
        "- Guardado del modelo en H5 (similar a pickle)"
      ],
      "metadata": {
        "id": "9Cpw06g-GdDQ"
      }
    },
    {
      "cell_type": "code",
      "source": [
        "model_opt.save('red_neuronal.h5')  # Guarda el modelo en formato H5\n",
        "from google.colab import files\n",
        "files.download('red_neuronal.h5')\n"
      ],
      "metadata": {
        "colab": {
          "base_uri": "https://localhost:8080/",
          "height": 89
        },
        "id": "wSlzm4I1Fuj6",
        "outputId": "8c0f0bcd-9cd6-49b8-fa48-e49bc50c2bce"
      },
      "execution_count": null,
      "outputs": [
        {
          "output_type": "stream",
          "name": "stderr",
          "text": [
            "/usr/local/lib/python3.10/dist-packages/keras/src/engine/training.py:3079: UserWarning: You are saving your model as an HDF5 file via `model.save()`. This file format is considered legacy. We recommend using instead the native Keras format, e.g. `model.save('my_model.keras')`.\n",
            "  saving_api.save_model(\n"
          ]
        },
        {
          "output_type": "display_data",
          "data": {
            "text/plain": [
              "<IPython.core.display.Javascript object>"
            ],
            "application/javascript": [
              "\n",
              "    async function download(id, filename, size) {\n",
              "      if (!google.colab.kernel.accessAllowed) {\n",
              "        return;\n",
              "      }\n",
              "      const div = document.createElement('div');\n",
              "      const label = document.createElement('label');\n",
              "      label.textContent = `Downloading \"${filename}\": `;\n",
              "      div.appendChild(label);\n",
              "      const progress = document.createElement('progress');\n",
              "      progress.max = size;\n",
              "      div.appendChild(progress);\n",
              "      document.body.appendChild(div);\n",
              "\n",
              "      const buffers = [];\n",
              "      let downloaded = 0;\n",
              "\n",
              "      const channel = await google.colab.kernel.comms.open(id);\n",
              "      // Send a message to notify the kernel that we're ready.\n",
              "      channel.send({})\n",
              "\n",
              "      for await (const message of channel.messages) {\n",
              "        // Send a message to notify the kernel that we're ready.\n",
              "        channel.send({})\n",
              "        if (message.buffers) {\n",
              "          for (const buffer of message.buffers) {\n",
              "            buffers.push(buffer);\n",
              "            downloaded += buffer.byteLength;\n",
              "            progress.value = downloaded;\n",
              "          }\n",
              "        }\n",
              "      }\n",
              "      const blob = new Blob(buffers, {type: 'application/binary'});\n",
              "      const a = document.createElement('a');\n",
              "      a.href = window.URL.createObjectURL(blob);\n",
              "      a.download = filename;\n",
              "      div.appendChild(a);\n",
              "      a.click();\n",
              "      div.remove();\n",
              "    }\n",
              "  "
            ]
          },
          "metadata": {}
        },
        {
          "output_type": "display_data",
          "data": {
            "text/plain": [
              "<IPython.core.display.Javascript object>"
            ],
            "application/javascript": [
              "download(\"download_6701e6c1-f089-4af0-8f60-de98d5a89c81\", \"red_neuronal.h5\", 12418424)"
            ]
          },
          "metadata": {}
        }
      ]
    },
    {
      "cell_type": "markdown",
      "source": [
        "- Prediccion con el dataset Test"
      ],
      "metadata": {
        "id": "9HMQr_aTGtl3"
      }
    },
    {
      "cell_type": "code",
      "source": [
        "import pandas as pd\n",
        "from tensorflow.keras.preprocessing.sequence import pad_sequences\n",
        "\n",
        "# Convertir las revisiones de texto a secuencias numéricas\n",
        "test_sequences = tokenizer.texts_to_sequences(test['review_es_clean'])\n",
        "\n",
        "\n",
        "max_sequence_length = 200\n",
        "X_test_tokenizer = pad_sequences(test_sequences, maxlen=max_sequence_length)\n",
        "\n",
        "# Realizar predicciones\n",
        "predictions = model_opt.predict(X_test_tokenizer)\n",
        "predicted_sentiment = ['positivo' if pred >= 0.5 else 'negativo' for pred in predictions]\n",
        "\n",
        "# Agregar las predicciones al DataFrame de prueba\n",
        "test['sentimiento'] = predicted_sentiment\n",
        "\n",
        "# Seleccionar solo las columnas ID y predicted_sentiment\n",
        "output = test[['ID', 'sentimiento']]\n",
        "\n",
        "# Guardar las predicciones en un nuevo archivo CSV\n",
        "output.to_csv('prediccion_RN.csv', index=False)\n"
      ],
      "metadata": {
        "colab": {
          "base_uri": "https://localhost:8080/"
        },
        "id": "3gYbEZkED5Kp",
        "outputId": "c43d5bae-6639-4ca7-eab5-d52a39355780"
      },
      "execution_count": null,
      "outputs": [
        {
          "output_type": "stream",
          "name": "stdout",
          "text": [
            "269/269 [==============================] - 9s 31ms/step\n"
          ]
        }
      ]
    },
    {
      "cell_type": "markdown",
      "source": [
        "- Descarga de la prediccion"
      ],
      "metadata": {
        "id": "3XxpkS8JG1iL"
      }
    },
    {
      "cell_type": "code",
      "source": [
        "# Descargar el archivo (útil en Jupyter Notebook o Google Colab)\n",
        "try:\n",
        "    from google.colab import files\n",
        "    files.download('prediccion_RN.csv')\n",
        "except ImportError:\n",
        "    print(\"La función de descarga solo funciona en entornos como Google Colab.\")\n"
      ],
      "metadata": {
        "colab": {
          "base_uri": "https://localhost:8080/",
          "height": 34
        },
        "id": "VFMCWFStG4iw",
        "outputId": "b8852bc5-d8dd-47e7-ccca-a68a38337a48"
      },
      "execution_count": null,
      "outputs": [
        {
          "output_type": "display_data",
          "data": {
            "text/plain": [
              "<IPython.core.display.Javascript object>"
            ],
            "application/javascript": [
              "\n",
              "    async function download(id, filename, size) {\n",
              "      if (!google.colab.kernel.accessAllowed) {\n",
              "        return;\n",
              "      }\n",
              "      const div = document.createElement('div');\n",
              "      const label = document.createElement('label');\n",
              "      label.textContent = `Downloading \"${filename}\": `;\n",
              "      div.appendChild(label);\n",
              "      const progress = document.createElement('progress');\n",
              "      progress.max = size;\n",
              "      div.appendChild(progress);\n",
              "      document.body.appendChild(div);\n",
              "\n",
              "      const buffers = [];\n",
              "      let downloaded = 0;\n",
              "\n",
              "      const channel = await google.colab.kernel.comms.open(id);\n",
              "      // Send a message to notify the kernel that we're ready.\n",
              "      channel.send({})\n",
              "\n",
              "      for await (const message of channel.messages) {\n",
              "        // Send a message to notify the kernel that we're ready.\n",
              "        channel.send({})\n",
              "        if (message.buffers) {\n",
              "          for (const buffer of message.buffers) {\n",
              "            buffers.push(buffer);\n",
              "            downloaded += buffer.byteLength;\n",
              "            progress.value = downloaded;\n",
              "          }\n",
              "        }\n",
              "      }\n",
              "      const blob = new Blob(buffers, {type: 'application/binary'});\n",
              "      const a = document.createElement('a');\n",
              "      a.href = window.URL.createObjectURL(blob);\n",
              "      a.download = filename;\n",
              "      div.appendChild(a);\n",
              "      a.click();\n",
              "      div.remove();\n",
              "    }\n",
              "  "
            ]
          },
          "metadata": {}
        },
        {
          "output_type": "display_data",
          "data": {
            "text/plain": [
              "<IPython.core.display.Javascript object>"
            ],
            "application/javascript": [
              "download(\"download_0049a495-0a92-43b9-b017-e1eb117b291c\", \"prediccion_RN.csv\", 129000)"
            ]
          },
          "metadata": {}
        }
      ]
    },
    {
      "cell_type": "markdown",
      "source": [
        "### >  Segundo modelo de Red Neuronal"
      ],
      "metadata": {
        "id": "9K-VxxsDzwUD"
      }
    },
    {
      "cell_type": "code",
      "source": [
        "import pandas as pd\n",
        "import numpy as np\n",
        "from sklearn.model_selection import train_test_split\n",
        "from sklearn.preprocessing import LabelEncoder\n",
        "from tensorflow import keras\n",
        "from keras.preprocessing.text import Tokenizer\n",
        "from tensorflow.keras.preprocessing.sequence import pad_sequences\n",
        "\n",
        "\n",
        "\n",
        "\n",
        "# Codificación de las etiquetas\n",
        "label_encoder = LabelEncoder()\n",
        "train['sentimiento_encoded'] = label_encoder.fit_transform(train['sentimiento'])\n",
        "\n",
        "# Vectorización de las reseñas\n",
        "tokenizer = Tokenizer(num_words=5000)\n",
        "tokenizer.fit_on_texts(train['review_es_clean'])\n",
        "\n",
        "X = tokenizer.texts_to_sequences(train['review_es_clean'])\n",
        "X = pad_sequences(X, maxlen=200) # Ajusta este valor según la longitud de tus reseñas\n",
        "\n",
        "y = train['sentimiento_encoded']\n",
        "\n",
        "# Dividir en entrenamiento y prueba\n",
        "X_train, X_test, y_train, y_test = train_test_split(X, y, test_size=0.2, random_state=42)\n"
      ],
      "metadata": {
        "id": "WeYU4WGb5dUy"
      },
      "execution_count": null,
      "outputs": []
    },
    {
      "cell_type": "code",
      "source": [
        "# Parámetros del modelo\n",
        "cant_clases = len(np.unique(y_train))\n",
        "d_in = X_train.shape[1]\n",
        "\n",
        "modelo_1 = keras.Sequential([\n",
        "    keras.layers.Dense(32, input_shape=(d_in,), activation='relu', kernel_initializer='uniform'), # Capa de entrada\n",
        "    keras.layers.Dense(32, activation='relu'),\n",
        "\n",
        "    keras.layers.Dropout(0.6),\n",
        "\n",
        "    keras.layers.Dense(32, input_shape=(d_in,), activation='relu', kernel_initializer='uniform'),\n",
        "    keras.layers.Dense(32, activation='relu'),\n",
        "\n",
        "    keras.layers.Dropout(0.6),\n",
        "    keras.layers.Dense(cant_clases, activation='sigmoid') # Capa de salida\n",
        "])\n",
        "\n",
        "modelo_1.compile(optimizer='adam',\n",
        "                 loss='sparse_categorical_crossentropy',\n",
        "                 metrics=['accuracy'])\n"
      ],
      "metadata": {
        "id": "t8HEJqW15eHS"
      },
      "execution_count": null,
      "outputs": []
    },
    {
      "cell_type": "code",
      "source": [
        "history = modelo_1.fit(X_train, y_train, epochs=5, batch_size=32, validation_split=0.2)\n"
      ],
      "metadata": {
        "id": "vUja3kKn5fDH",
        "colab": {
          "base_uri": "https://localhost:8080/"
        },
        "outputId": "3146e253-81e4-4cde-aff7-6d9ef7697bf3"
      },
      "execution_count": null,
      "outputs": [
        {
          "output_type": "stream",
          "name": "stdout",
          "text": [
            "Epoch 1/5\n",
            "1000/1000 [==============================] - 5s 3ms/step - loss: 0.9735 - accuracy: 0.4987 - val_loss: 0.6930 - val_accuracy: 0.5041\n",
            "Epoch 2/5\n",
            "1000/1000 [==============================] - 3s 3ms/step - loss: 0.6939 - accuracy: 0.4978 - val_loss: 0.6938 - val_accuracy: 0.5004\n",
            "Epoch 3/5\n",
            "1000/1000 [==============================] - 3s 3ms/step - loss: 0.6941 - accuracy: 0.5001 - val_loss: 0.6932 - val_accuracy: 0.5040\n",
            "Epoch 4/5\n",
            "1000/1000 [==============================] - 4s 4ms/step - loss: 0.6940 - accuracy: 0.4995 - val_loss: 0.6932 - val_accuracy: 0.5026\n",
            "Epoch 5/5\n",
            "1000/1000 [==============================] - 4s 4ms/step - loss: 0.6936 - accuracy: 0.4965 - val_loss: 0.6931 - val_accuracy: 0.5081\n"
          ]
        }
      ]
    },
    {
      "cell_type": "markdown",
      "source": [
        "- Evaluacion y prediccion del modelo"
      ],
      "metadata": {
        "id": "fg9fBUHd9i_5"
      }
    },
    {
      "cell_type": "code",
      "source": [
        "# Evaluación del modelo\n",
        "test_loss, test_acc = modelo_1.evaluate(X_test, y_test)\n",
        "\n",
        "print('Test Accuracy:', test_acc)\n",
        "\n",
        "# Realizar predicciones\n",
        "predictions = modelo_1.predict(X_test)\n"
      ],
      "metadata": {
        "id": "k94vaMWd5q3c",
        "colab": {
          "base_uri": "https://localhost:8080/"
        },
        "outputId": "be82cfab-dc6a-482f-aa99-cd3b0e4605bb"
      },
      "execution_count": null,
      "outputs": [
        {
          "output_type": "stream",
          "name": "stdout",
          "text": [
            "313/313 [==============================] - 1s 2ms/step - loss: 0.6931 - accuracy: 0.4988\n",
            "Test Accuracy: 0.49880000948905945\n",
            "313/313 [==============================] - 1s 2ms/step\n"
          ]
        }
      ]
    },
    {
      "cell_type": "markdown",
      "source": [
        "- Guardado del archivo con pickle"
      ],
      "metadata": {
        "id": "oZIaV0U09sUb"
      }
    },
    {
      "cell_type": "code",
      "source": [
        "import pickle\n",
        "\n",
        "# Guardar el modelo\n",
        "with open('modelo_1.pkl', 'wb') as file:\n",
        "    pickle.dump(modelo_1, file)\n"
      ],
      "metadata": {
        "id": "waCNxgtH55Zv"
      },
      "execution_count": null,
      "outputs": []
    },
    {
      "cell_type": "markdown",
      "source": [
        "- Prediccion con el dataset de test"
      ],
      "metadata": {
        "id": "TADPGnMV9vP7"
      }
    },
    {
      "cell_type": "code",
      "source": [
        "\n",
        "X_nuevo = tokenizer.texts_to_sequences(test['review_es_clean'])\n",
        "X_nuevo = pad_sequences(X_nuevo, maxlen=200)  # Usa la misma longitud máxima que antes\n"
      ],
      "metadata": {
        "id": "mg8QDzQu6x_a"
      },
      "execution_count": null,
      "outputs": []
    },
    {
      "cell_type": "code",
      "source": [
        "nuevas_predicciones = modelo_1.predict(X_nuevo)\n"
      ],
      "metadata": {
        "id": "pGQYZRPg6Dow",
        "colab": {
          "base_uri": "https://localhost:8080/"
        },
        "outputId": "908f9289-51b7-4d2e-a596-28c8cd0b1137"
      },
      "execution_count": null,
      "outputs": [
        {
          "output_type": "stream",
          "name": "stdout",
          "text": [
            "269/269 [==============================] - 0s 2ms/step\n"
          ]
        }
      ]
    },
    {
      "cell_type": "markdown",
      "source": [
        "- Preparacion del csv para bajar"
      ],
      "metadata": {
        "id": "UH1FTlto91TE"
      }
    },
    {
      "cell_type": "code",
      "source": [
        "\n",
        "\n",
        "# Convertir las salidas del modelo en índices de clase\n",
        "indices_predicciones = np.argmax(nuevas_predicciones, axis=1)\n",
        "\n",
        "\n",
        "mapeo_etiquetas = {0: 'Negativo', 1: 'Positivo'}\n",
        "etiquetas_predicciones = [mapeo_etiquetas[i] for i in indices_predicciones]\n"
      ],
      "metadata": {
        "id": "HbDSu6xX7q64"
      },
      "execution_count": null,
      "outputs": []
    },
    {
      "cell_type": "markdown",
      "source": [
        "- Bajado del archivo de prediccion"
      ],
      "metadata": {
        "id": "SjjAmAPR94LA"
      }
    },
    {
      "cell_type": "code",
      "source": [
        "# Supongamos que 'nuevo_dataset' tiene una columna 'ID'\n",
        "nuevo_dataset_predicciones = pd.DataFrame({\n",
        "    'ID': test['ID'],\n",
        "    'sentimiento': etiquetas_predicciones\n",
        "})\n",
        "\n",
        "# Guardar en un archivo CSV\n",
        "nuevo_dataset_predicciones.to_csv('predicciones_red2.csv', index=False)\n",
        "try:\n",
        "    from google.colab import files\n",
        "    files.download('predicciones_red2.csv')\n",
        "except ImportError:\n",
        "    print(\"La función de descarga solo funciona en entornos como Google Colab.\")"
      ],
      "metadata": {
        "id": "_5IF7CaM7r6z",
        "colab": {
          "base_uri": "https://localhost:8080/",
          "height": 34
        },
        "outputId": "f3f97b6a-a5a2-4560-c8cf-3e70f26b9277"
      },
      "execution_count": null,
      "outputs": [
        {
          "output_type": "display_data",
          "data": {
            "text/plain": [
              "<IPython.core.display.Javascript object>"
            ],
            "application/javascript": [
              "\n",
              "    async function download(id, filename, size) {\n",
              "      if (!google.colab.kernel.accessAllowed) {\n",
              "        return;\n",
              "      }\n",
              "      const div = document.createElement('div');\n",
              "      const label = document.createElement('label');\n",
              "      label.textContent = `Downloading \"${filename}\": `;\n",
              "      div.appendChild(label);\n",
              "      const progress = document.createElement('progress');\n",
              "      progress.max = size;\n",
              "      div.appendChild(progress);\n",
              "      document.body.appendChild(div);\n",
              "\n",
              "      const buffers = [];\n",
              "      let downloaded = 0;\n",
              "\n",
              "      const channel = await google.colab.kernel.comms.open(id);\n",
              "      // Send a message to notify the kernel that we're ready.\n",
              "      channel.send({})\n",
              "\n",
              "      for await (const message of channel.messages) {\n",
              "        // Send a message to notify the kernel that we're ready.\n",
              "        channel.send({})\n",
              "        if (message.buffers) {\n",
              "          for (const buffer of message.buffers) {\n",
              "            buffers.push(buffer);\n",
              "            downloaded += buffer.byteLength;\n",
              "            progress.value = downloaded;\n",
              "          }\n",
              "        }\n",
              "      }\n",
              "      const blob = new Blob(buffers, {type: 'application/binary'});\n",
              "      const a = document.createElement('a');\n",
              "      a.href = window.URL.createObjectURL(blob);\n",
              "      a.download = filename;\n",
              "      div.appendChild(a);\n",
              "      a.click();\n",
              "      div.remove();\n",
              "    }\n",
              "  "
            ]
          },
          "metadata": {}
        },
        {
          "output_type": "display_data",
          "data": {
            "text/plain": [
              "<IPython.core.display.Javascript object>"
            ],
            "application/javascript": [
              "download(\"download_7c134411-c930-41bc-94a1-21db7e70dede\", \"predicciones_red2.csv\", 129000)"
            ]
          },
          "metadata": {}
        }
      ]
    }
  ]
}