{
  "nbformat": 4,
  "nbformat_minor": 0,
  "metadata": {
    "colab": {
      "provenance": [],
      "mount_file_id": "1FMCwUcZO12dWW_iSlJ7KQMNYmZTzl-Jx",
      "authorship_tag": "ABX9TyN7yqcwiDSE1ZsouUN8PYoH",
      "include_colab_link": true
    },
    "kernelspec": {
      "name": "python3",
      "display_name": "Python 3"
    },
    "language_info": {
      "name": "python"
    }
  },
  "cells": [
    {
      "cell_type": "markdown",
      "metadata": {
        "id": "view-in-github",
        "colab_type": "text"
      },
      "source": [
        "<a href=\"https://colab.research.google.com/github/lautitorraca/7506R-2C2023-GRUPO24/blob/main/TP2/7506R_TP2_GRUPO24_BAYES_NAIVE.ipynb\" target=\"_parent\"><img src=\"https://colab.research.google.com/assets/colab-badge.svg\" alt=\"Open In Colab\"/></a>"
      ]
    },
    {
      "cell_type": "markdown",
      "source": [
        "### 𝔾𝕣𝕦𝕡𝕠 𝟚𝟜 (Merequetengue👍)\n",
        "\n",
        "  ➢ Torraca Lautaro - 108813\n",
        "\n",
        "  ➢ Negrotti Gianluca - 108184\n",
        "\n",
        "  ➢ Marco Tosi - 107237"
      ],
      "metadata": {
        "id": "g9bRb-5h4Vfg"
      }
    },
    {
      "cell_type": "markdown",
      "source": [
        "## > Imports"
      ],
      "metadata": {
        "id": "vaM1vZoKj9wC"
      }
    },
    {
      "cell_type": "code",
      "execution_count": null,
      "metadata": {
        "id": "p8zozBzK4TXZ"
      },
      "outputs": [],
      "source": [
        "import pandas as pd\n",
        "import numpy as np\n",
        "import pickle\n",
        "\n",
        "import seaborn as sns\n",
        "from matplotlib import pyplot as plt\n",
        "\n",
        "from sklearn.model_selection import train_test_split\n",
        "from sklearn.feature_extraction.text import CountVectorizer\n",
        "from sklearn.naive_bayes import MultinomialNB\n",
        "from sklearn.metrics import confusion_matrix, classification_report\n",
        "from sklearn.metrics import f1_score, precision_score, recall_score, accuracy_score\n",
        "from sklearn.pipeline import make_pipeline\n",
        "from sklearn.preprocessing import LabelEncoder\n",
        "import nltk\n",
        "from nltk.corpus import stopwords\n",
        "\n",
        "\n",
        "from sklearn.model_selection import RandomizedSearchCV\n",
        "from scipy.stats import uniform\n",
        "\n"
      ]
    },
    {
      "cell_type": "markdown",
      "source": [
        "### > Lectura y muestra de los datasets\n"
      ],
      "metadata": {
        "id": "2TVy2KRwkDpI"
      }
    },
    {
      "cell_type": "code",
      "source": [
        "url_train = '/content/drive/MyDrive/Colab Notebooks/train_limpio.csv'\n",
        "url_test = '/content/drive/MyDrive/Colab Notebooks/test_limpio.csv'\n",
        "\n",
        "train = pd.read_csv(url_train)\n",
        "test = pd.read_csv(url_test)"
      ],
      "metadata": {
        "id": "qJM_hcCO4hGA"
      },
      "execution_count": null,
      "outputs": []
    },
    {
      "cell_type": "code",
      "source": [
        "train.shape"
      ],
      "metadata": {
        "colab": {
          "base_uri": "https://localhost:8080/"
        },
        "id": "IO-6bqcK2tw0",
        "outputId": "9a3ddcac-c641-4e03-8cf4-ad40bb8e80d4"
      },
      "execution_count": null,
      "outputs": [
        {
          "output_type": "execute_result",
          "data": {
            "text/plain": [
              "(50000, 4)"
            ]
          },
          "metadata": {},
          "execution_count": 3
        }
      ]
    },
    {
      "cell_type": "code",
      "source": [
        "test.shape"
      ],
      "metadata": {
        "id": "VZZr9uPx24Fe",
        "outputId": "3021c591-adc3-41ec-f3c7-2d5de1ec12ea",
        "colab": {
          "base_uri": "https://localhost:8080/"
        }
      },
      "execution_count": null,
      "outputs": [
        {
          "output_type": "execute_result",
          "data": {
            "text/plain": [
              "(8599, 4)"
            ]
          },
          "metadata": {},
          "execution_count": 5
        }
      ]
    },
    {
      "cell_type": "code",
      "source": [
        "train.head()"
      ],
      "metadata": {
        "colab": {
          "base_uri": "https://localhost:8080/",
          "height": 206
        },
        "id": "xiw1AgyN4plh",
        "outputId": "31ee602c-1711-42ad-ed6f-3bb57054b531"
      },
      "execution_count": null,
      "outputs": [
        {
          "output_type": "execute_result",
          "data": {
            "text/plain": [
              "                                           review_es sentimiento  is_spanish  \\\n",
              "0  Uno de los otros críticos ha mencionado que de...    positivo        True   \n",
              "1  Una pequeña pequeña producción.La técnica de f...    positivo        True   \n",
              "2  Pensé que esta era una manera maravillosa de p...    positivo        True   \n",
              "3  Básicamente, hay una familia donde un niño peq...    negativo        True   \n",
              "4  El \"amor en el tiempo\" de Petter Mattei es una...    positivo        True   \n",
              "\n",
              "                                     review_es_clean  \n",
              "0  critico mencionado despu ver solo oz episodio ...  \n",
              "1  pequén pequén tecnico filmacion incuestionable...  \n",
              "2  pense manera maravilloso pasar tiempo fin sema...  \n",
              "3  basicamente familia nino pequeno jake pensar z...  \n",
              "4  amor tiempo petter mattei pelicular visualment...  "
            ],
            "text/html": [
              "\n",
              "  <div id=\"df-f86752f7-b88e-4ad4-a7fc-cf660d5120c9\" class=\"colab-df-container\">\n",
              "    <div>\n",
              "<style scoped>\n",
              "    .dataframe tbody tr th:only-of-type {\n",
              "        vertical-align: middle;\n",
              "    }\n",
              "\n",
              "    .dataframe tbody tr th {\n",
              "        vertical-align: top;\n",
              "    }\n",
              "\n",
              "    .dataframe thead th {\n",
              "        text-align: right;\n",
              "    }\n",
              "</style>\n",
              "<table border=\"1\" class=\"dataframe\">\n",
              "  <thead>\n",
              "    <tr style=\"text-align: right;\">\n",
              "      <th></th>\n",
              "      <th>review_es</th>\n",
              "      <th>sentimiento</th>\n",
              "      <th>is_spanish</th>\n",
              "      <th>review_es_clean</th>\n",
              "    </tr>\n",
              "  </thead>\n",
              "  <tbody>\n",
              "    <tr>\n",
              "      <th>0</th>\n",
              "      <td>Uno de los otros críticos ha mencionado que de...</td>\n",
              "      <td>positivo</td>\n",
              "      <td>True</td>\n",
              "      <td>critico mencionado despu ver solo oz episodio ...</td>\n",
              "    </tr>\n",
              "    <tr>\n",
              "      <th>1</th>\n",
              "      <td>Una pequeña pequeña producción.La técnica de f...</td>\n",
              "      <td>positivo</td>\n",
              "      <td>True</td>\n",
              "      <td>pequén pequén tecnico filmacion incuestionable...</td>\n",
              "    </tr>\n",
              "    <tr>\n",
              "      <th>2</th>\n",
              "      <td>Pensé que esta era una manera maravillosa de p...</td>\n",
              "      <td>positivo</td>\n",
              "      <td>True</td>\n",
              "      <td>pense manera maravilloso pasar tiempo fin sema...</td>\n",
              "    </tr>\n",
              "    <tr>\n",
              "      <th>3</th>\n",
              "      <td>Básicamente, hay una familia donde un niño peq...</td>\n",
              "      <td>negativo</td>\n",
              "      <td>True</td>\n",
              "      <td>basicamente familia nino pequeno jake pensar z...</td>\n",
              "    </tr>\n",
              "    <tr>\n",
              "      <th>4</th>\n",
              "      <td>El \"amor en el tiempo\" de Petter Mattei es una...</td>\n",
              "      <td>positivo</td>\n",
              "      <td>True</td>\n",
              "      <td>amor tiempo petter mattei pelicular visualment...</td>\n",
              "    </tr>\n",
              "  </tbody>\n",
              "</table>\n",
              "</div>\n",
              "    <div class=\"colab-df-buttons\">\n",
              "\n",
              "  <div class=\"colab-df-container\">\n",
              "    <button class=\"colab-df-convert\" onclick=\"convertToInteractive('df-f86752f7-b88e-4ad4-a7fc-cf660d5120c9')\"\n",
              "            title=\"Convert this dataframe to an interactive table.\"\n",
              "            style=\"display:none;\">\n",
              "\n",
              "  <svg xmlns=\"http://www.w3.org/2000/svg\" height=\"24px\" viewBox=\"0 -960 960 960\">\n",
              "    <path d=\"M120-120v-720h720v720H120Zm60-500h600v-160H180v160Zm220 220h160v-160H400v160Zm0 220h160v-160H400v160ZM180-400h160v-160H180v160Zm440 0h160v-160H620v160ZM180-180h160v-160H180v160Zm440 0h160v-160H620v160Z\"/>\n",
              "  </svg>\n",
              "    </button>\n",
              "\n",
              "  <style>\n",
              "    .colab-df-container {\n",
              "      display:flex;\n",
              "      gap: 12px;\n",
              "    }\n",
              "\n",
              "    .colab-df-convert {\n",
              "      background-color: #E8F0FE;\n",
              "      border: none;\n",
              "      border-radius: 50%;\n",
              "      cursor: pointer;\n",
              "      display: none;\n",
              "      fill: #1967D2;\n",
              "      height: 32px;\n",
              "      padding: 0 0 0 0;\n",
              "      width: 32px;\n",
              "    }\n",
              "\n",
              "    .colab-df-convert:hover {\n",
              "      background-color: #E2EBFA;\n",
              "      box-shadow: 0px 1px 2px rgba(60, 64, 67, 0.3), 0px 1px 3px 1px rgba(60, 64, 67, 0.15);\n",
              "      fill: #174EA6;\n",
              "    }\n",
              "\n",
              "    .colab-df-buttons div {\n",
              "      margin-bottom: 4px;\n",
              "    }\n",
              "\n",
              "    [theme=dark] .colab-df-convert {\n",
              "      background-color: #3B4455;\n",
              "      fill: #D2E3FC;\n",
              "    }\n",
              "\n",
              "    [theme=dark] .colab-df-convert:hover {\n",
              "      background-color: #434B5C;\n",
              "      box-shadow: 0px 1px 3px 1px rgba(0, 0, 0, 0.15);\n",
              "      filter: drop-shadow(0px 1px 2px rgba(0, 0, 0, 0.3));\n",
              "      fill: #FFFFFF;\n",
              "    }\n",
              "  </style>\n",
              "\n",
              "    <script>\n",
              "      const buttonEl =\n",
              "        document.querySelector('#df-f86752f7-b88e-4ad4-a7fc-cf660d5120c9 button.colab-df-convert');\n",
              "      buttonEl.style.display =\n",
              "        google.colab.kernel.accessAllowed ? 'block' : 'none';\n",
              "\n",
              "      async function convertToInteractive(key) {\n",
              "        const element = document.querySelector('#df-f86752f7-b88e-4ad4-a7fc-cf660d5120c9');\n",
              "        const dataTable =\n",
              "          await google.colab.kernel.invokeFunction('convertToInteractive',\n",
              "                                                    [key], {});\n",
              "        if (!dataTable) return;\n",
              "\n",
              "        const docLinkHtml = 'Like what you see? Visit the ' +\n",
              "          '<a target=\"_blank\" href=https://colab.research.google.com/notebooks/data_table.ipynb>data table notebook</a>'\n",
              "          + ' to learn more about interactive tables.';\n",
              "        element.innerHTML = '';\n",
              "        dataTable['output_type'] = 'display_data';\n",
              "        await google.colab.output.renderOutput(dataTable, element);\n",
              "        const docLink = document.createElement('div');\n",
              "        docLink.innerHTML = docLinkHtml;\n",
              "        element.appendChild(docLink);\n",
              "      }\n",
              "    </script>\n",
              "  </div>\n",
              "\n",
              "\n",
              "<div id=\"df-0cc45472-55d2-4655-b0f8-853b09cc879d\">\n",
              "  <button class=\"colab-df-quickchart\" onclick=\"quickchart('df-0cc45472-55d2-4655-b0f8-853b09cc879d')\"\n",
              "            title=\"Suggest charts\"\n",
              "            style=\"display:none;\">\n",
              "\n",
              "<svg xmlns=\"http://www.w3.org/2000/svg\" height=\"24px\"viewBox=\"0 0 24 24\"\n",
              "     width=\"24px\">\n",
              "    <g>\n",
              "        <path d=\"M19 3H5c-1.1 0-2 .9-2 2v14c0 1.1.9 2 2 2h14c1.1 0 2-.9 2-2V5c0-1.1-.9-2-2-2zM9 17H7v-7h2v7zm4 0h-2V7h2v10zm4 0h-2v-4h2v4z\"/>\n",
              "    </g>\n",
              "</svg>\n",
              "  </button>\n",
              "\n",
              "<style>\n",
              "  .colab-df-quickchart {\n",
              "      --bg-color: #E8F0FE;\n",
              "      --fill-color: #1967D2;\n",
              "      --hover-bg-color: #E2EBFA;\n",
              "      --hover-fill-color: #174EA6;\n",
              "      --disabled-fill-color: #AAA;\n",
              "      --disabled-bg-color: #DDD;\n",
              "  }\n",
              "\n",
              "  [theme=dark] .colab-df-quickchart {\n",
              "      --bg-color: #3B4455;\n",
              "      --fill-color: #D2E3FC;\n",
              "      --hover-bg-color: #434B5C;\n",
              "      --hover-fill-color: #FFFFFF;\n",
              "      --disabled-bg-color: #3B4455;\n",
              "      --disabled-fill-color: #666;\n",
              "  }\n",
              "\n",
              "  .colab-df-quickchart {\n",
              "    background-color: var(--bg-color);\n",
              "    border: none;\n",
              "    border-radius: 50%;\n",
              "    cursor: pointer;\n",
              "    display: none;\n",
              "    fill: var(--fill-color);\n",
              "    height: 32px;\n",
              "    padding: 0;\n",
              "    width: 32px;\n",
              "  }\n",
              "\n",
              "  .colab-df-quickchart:hover {\n",
              "    background-color: var(--hover-bg-color);\n",
              "    box-shadow: 0 1px 2px rgba(60, 64, 67, 0.3), 0 1px 3px 1px rgba(60, 64, 67, 0.15);\n",
              "    fill: var(--button-hover-fill-color);\n",
              "  }\n",
              "\n",
              "  .colab-df-quickchart-complete:disabled,\n",
              "  .colab-df-quickchart-complete:disabled:hover {\n",
              "    background-color: var(--disabled-bg-color);\n",
              "    fill: var(--disabled-fill-color);\n",
              "    box-shadow: none;\n",
              "  }\n",
              "\n",
              "  .colab-df-spinner {\n",
              "    border: 2px solid var(--fill-color);\n",
              "    border-color: transparent;\n",
              "    border-bottom-color: var(--fill-color);\n",
              "    animation:\n",
              "      spin 1s steps(1) infinite;\n",
              "  }\n",
              "\n",
              "  @keyframes spin {\n",
              "    0% {\n",
              "      border-color: transparent;\n",
              "      border-bottom-color: var(--fill-color);\n",
              "      border-left-color: var(--fill-color);\n",
              "    }\n",
              "    20% {\n",
              "      border-color: transparent;\n",
              "      border-left-color: var(--fill-color);\n",
              "      border-top-color: var(--fill-color);\n",
              "    }\n",
              "    30% {\n",
              "      border-color: transparent;\n",
              "      border-left-color: var(--fill-color);\n",
              "      border-top-color: var(--fill-color);\n",
              "      border-right-color: var(--fill-color);\n",
              "    }\n",
              "    40% {\n",
              "      border-color: transparent;\n",
              "      border-right-color: var(--fill-color);\n",
              "      border-top-color: var(--fill-color);\n",
              "    }\n",
              "    60% {\n",
              "      border-color: transparent;\n",
              "      border-right-color: var(--fill-color);\n",
              "    }\n",
              "    80% {\n",
              "      border-color: transparent;\n",
              "      border-right-color: var(--fill-color);\n",
              "      border-bottom-color: var(--fill-color);\n",
              "    }\n",
              "    90% {\n",
              "      border-color: transparent;\n",
              "      border-bottom-color: var(--fill-color);\n",
              "    }\n",
              "  }\n",
              "</style>\n",
              "\n",
              "  <script>\n",
              "    async function quickchart(key) {\n",
              "      const quickchartButtonEl =\n",
              "        document.querySelector('#' + key + ' button');\n",
              "      quickchartButtonEl.disabled = true;  // To prevent multiple clicks.\n",
              "      quickchartButtonEl.classList.add('colab-df-spinner');\n",
              "      try {\n",
              "        const charts = await google.colab.kernel.invokeFunction(\n",
              "            'suggestCharts', [key], {});\n",
              "      } catch (error) {\n",
              "        console.error('Error during call to suggestCharts:', error);\n",
              "      }\n",
              "      quickchartButtonEl.classList.remove('colab-df-spinner');\n",
              "      quickchartButtonEl.classList.add('colab-df-quickchart-complete');\n",
              "    }\n",
              "    (() => {\n",
              "      let quickchartButtonEl =\n",
              "        document.querySelector('#df-0cc45472-55d2-4655-b0f8-853b09cc879d button');\n",
              "      quickchartButtonEl.style.display =\n",
              "        google.colab.kernel.accessAllowed ? 'block' : 'none';\n",
              "    })();\n",
              "  </script>\n",
              "</div>\n",
              "    </div>\n",
              "  </div>\n"
            ]
          },
          "metadata": {},
          "execution_count": 3
        }
      ]
    },
    {
      "cell_type": "code",
      "source": [
        "test.head()"
      ],
      "metadata": {
        "colab": {
          "base_uri": "https://localhost:8080/",
          "height": 206
        },
        "id": "9_IyVZJz6Iry",
        "outputId": "a6e12f46-1269-42b3-f027-488bac9969aa"
      },
      "execution_count": null,
      "outputs": [
        {
          "output_type": "execute_result",
          "data": {
            "text/plain": [
              "      ID                                          review_es  is_spanish  \\\n",
              "0  60000  La mayor virtud de esta película es su existen...        True   \n",
              "1  60001  No soy un experto cinéfilo, pero pocas veces m...        True   \n",
              "2  60002  Si no eres un incondicional del humor estilo T...        True   \n",
              "3  60003  No sé qué está pasando, si la gente se deja ll...        True   \n",
              "4  60004  Pero cuando amanece,y me quedo solo,siento en ...        True   \n",
              "\n",
              "                                     review_es_clean  \n",
              "0  mayor virtud peliculo hecho poder jugar topico...  \n",
              "1  experto cinefilo poco vez habia tanto juego sa...  \n",
              "2  si incondicional humor estilo tele termina cap...  \n",
              "3  pasar si gente dejar llevar moda si verdad gus...  \n",
              "4  amanecer quedo solo siento fondoun mar vacio s...  "
            ],
            "text/html": [
              "\n",
              "  <div id=\"df-1a53b4b2-0482-44c1-adce-731fb6e4cfb8\" class=\"colab-df-container\">\n",
              "    <div>\n",
              "<style scoped>\n",
              "    .dataframe tbody tr th:only-of-type {\n",
              "        vertical-align: middle;\n",
              "    }\n",
              "\n",
              "    .dataframe tbody tr th {\n",
              "        vertical-align: top;\n",
              "    }\n",
              "\n",
              "    .dataframe thead th {\n",
              "        text-align: right;\n",
              "    }\n",
              "</style>\n",
              "<table border=\"1\" class=\"dataframe\">\n",
              "  <thead>\n",
              "    <tr style=\"text-align: right;\">\n",
              "      <th></th>\n",
              "      <th>ID</th>\n",
              "      <th>review_es</th>\n",
              "      <th>is_spanish</th>\n",
              "      <th>review_es_clean</th>\n",
              "    </tr>\n",
              "  </thead>\n",
              "  <tbody>\n",
              "    <tr>\n",
              "      <th>0</th>\n",
              "      <td>60000</td>\n",
              "      <td>La mayor virtud de esta película es su existen...</td>\n",
              "      <td>True</td>\n",
              "      <td>mayor virtud peliculo hecho poder jugar topico...</td>\n",
              "    </tr>\n",
              "    <tr>\n",
              "      <th>1</th>\n",
              "      <td>60001</td>\n",
              "      <td>No soy un experto cinéfilo, pero pocas veces m...</td>\n",
              "      <td>True</td>\n",
              "      <td>experto cinefilo poco vez habia tanto juego sa...</td>\n",
              "    </tr>\n",
              "    <tr>\n",
              "      <th>2</th>\n",
              "      <td>60002</td>\n",
              "      <td>Si no eres un incondicional del humor estilo T...</td>\n",
              "      <td>True</td>\n",
              "      <td>si incondicional humor estilo tele termina cap...</td>\n",
              "    </tr>\n",
              "    <tr>\n",
              "      <th>3</th>\n",
              "      <td>60003</td>\n",
              "      <td>No sé qué está pasando, si la gente se deja ll...</td>\n",
              "      <td>True</td>\n",
              "      <td>pasar si gente dejar llevar moda si verdad gus...</td>\n",
              "    </tr>\n",
              "    <tr>\n",
              "      <th>4</th>\n",
              "      <td>60004</td>\n",
              "      <td>Pero cuando amanece,y me quedo solo,siento en ...</td>\n",
              "      <td>True</td>\n",
              "      <td>amanecer quedo solo siento fondoun mar vacio s...</td>\n",
              "    </tr>\n",
              "  </tbody>\n",
              "</table>\n",
              "</div>\n",
              "    <div class=\"colab-df-buttons\">\n",
              "\n",
              "  <div class=\"colab-df-container\">\n",
              "    <button class=\"colab-df-convert\" onclick=\"convertToInteractive('df-1a53b4b2-0482-44c1-adce-731fb6e4cfb8')\"\n",
              "            title=\"Convert this dataframe to an interactive table.\"\n",
              "            style=\"display:none;\">\n",
              "\n",
              "  <svg xmlns=\"http://www.w3.org/2000/svg\" height=\"24px\" viewBox=\"0 -960 960 960\">\n",
              "    <path d=\"M120-120v-720h720v720H120Zm60-500h600v-160H180v160Zm220 220h160v-160H400v160Zm0 220h160v-160H400v160ZM180-400h160v-160H180v160Zm440 0h160v-160H620v160ZM180-180h160v-160H180v160Zm440 0h160v-160H620v160Z\"/>\n",
              "  </svg>\n",
              "    </button>\n",
              "\n",
              "  <style>\n",
              "    .colab-df-container {\n",
              "      display:flex;\n",
              "      gap: 12px;\n",
              "    }\n",
              "\n",
              "    .colab-df-convert {\n",
              "      background-color: #E8F0FE;\n",
              "      border: none;\n",
              "      border-radius: 50%;\n",
              "      cursor: pointer;\n",
              "      display: none;\n",
              "      fill: #1967D2;\n",
              "      height: 32px;\n",
              "      padding: 0 0 0 0;\n",
              "      width: 32px;\n",
              "    }\n",
              "\n",
              "    .colab-df-convert:hover {\n",
              "      background-color: #E2EBFA;\n",
              "      box-shadow: 0px 1px 2px rgba(60, 64, 67, 0.3), 0px 1px 3px 1px rgba(60, 64, 67, 0.15);\n",
              "      fill: #174EA6;\n",
              "    }\n",
              "\n",
              "    .colab-df-buttons div {\n",
              "      margin-bottom: 4px;\n",
              "    }\n",
              "\n",
              "    [theme=dark] .colab-df-convert {\n",
              "      background-color: #3B4455;\n",
              "      fill: #D2E3FC;\n",
              "    }\n",
              "\n",
              "    [theme=dark] .colab-df-convert:hover {\n",
              "      background-color: #434B5C;\n",
              "      box-shadow: 0px 1px 3px 1px rgba(0, 0, 0, 0.15);\n",
              "      filter: drop-shadow(0px 1px 2px rgba(0, 0, 0, 0.3));\n",
              "      fill: #FFFFFF;\n",
              "    }\n",
              "  </style>\n",
              "\n",
              "    <script>\n",
              "      const buttonEl =\n",
              "        document.querySelector('#df-1a53b4b2-0482-44c1-adce-731fb6e4cfb8 button.colab-df-convert');\n",
              "      buttonEl.style.display =\n",
              "        google.colab.kernel.accessAllowed ? 'block' : 'none';\n",
              "\n",
              "      async function convertToInteractive(key) {\n",
              "        const element = document.querySelector('#df-1a53b4b2-0482-44c1-adce-731fb6e4cfb8');\n",
              "        const dataTable =\n",
              "          await google.colab.kernel.invokeFunction('convertToInteractive',\n",
              "                                                    [key], {});\n",
              "        if (!dataTable) return;\n",
              "\n",
              "        const docLinkHtml = 'Like what you see? Visit the ' +\n",
              "          '<a target=\"_blank\" href=https://colab.research.google.com/notebooks/data_table.ipynb>data table notebook</a>'\n",
              "          + ' to learn more about interactive tables.';\n",
              "        element.innerHTML = '';\n",
              "        dataTable['output_type'] = 'display_data';\n",
              "        await google.colab.output.renderOutput(dataTable, element);\n",
              "        const docLink = document.createElement('div');\n",
              "        docLink.innerHTML = docLinkHtml;\n",
              "        element.appendChild(docLink);\n",
              "      }\n",
              "    </script>\n",
              "  </div>\n",
              "\n",
              "\n",
              "<div id=\"df-9f94554a-bcd3-4939-9588-fc9e7b5f2e79\">\n",
              "  <button class=\"colab-df-quickchart\" onclick=\"quickchart('df-9f94554a-bcd3-4939-9588-fc9e7b5f2e79')\"\n",
              "            title=\"Suggest charts\"\n",
              "            style=\"display:none;\">\n",
              "\n",
              "<svg xmlns=\"http://www.w3.org/2000/svg\" height=\"24px\"viewBox=\"0 0 24 24\"\n",
              "     width=\"24px\">\n",
              "    <g>\n",
              "        <path d=\"M19 3H5c-1.1 0-2 .9-2 2v14c0 1.1.9 2 2 2h14c1.1 0 2-.9 2-2V5c0-1.1-.9-2-2-2zM9 17H7v-7h2v7zm4 0h-2V7h2v10zm4 0h-2v-4h2v4z\"/>\n",
              "    </g>\n",
              "</svg>\n",
              "  </button>\n",
              "\n",
              "<style>\n",
              "  .colab-df-quickchart {\n",
              "      --bg-color: #E8F0FE;\n",
              "      --fill-color: #1967D2;\n",
              "      --hover-bg-color: #E2EBFA;\n",
              "      --hover-fill-color: #174EA6;\n",
              "      --disabled-fill-color: #AAA;\n",
              "      --disabled-bg-color: #DDD;\n",
              "  }\n",
              "\n",
              "  [theme=dark] .colab-df-quickchart {\n",
              "      --bg-color: #3B4455;\n",
              "      --fill-color: #D2E3FC;\n",
              "      --hover-bg-color: #434B5C;\n",
              "      --hover-fill-color: #FFFFFF;\n",
              "      --disabled-bg-color: #3B4455;\n",
              "      --disabled-fill-color: #666;\n",
              "  }\n",
              "\n",
              "  .colab-df-quickchart {\n",
              "    background-color: var(--bg-color);\n",
              "    border: none;\n",
              "    border-radius: 50%;\n",
              "    cursor: pointer;\n",
              "    display: none;\n",
              "    fill: var(--fill-color);\n",
              "    height: 32px;\n",
              "    padding: 0;\n",
              "    width: 32px;\n",
              "  }\n",
              "\n",
              "  .colab-df-quickchart:hover {\n",
              "    background-color: var(--hover-bg-color);\n",
              "    box-shadow: 0 1px 2px rgba(60, 64, 67, 0.3), 0 1px 3px 1px rgba(60, 64, 67, 0.15);\n",
              "    fill: var(--button-hover-fill-color);\n",
              "  }\n",
              "\n",
              "  .colab-df-quickchart-complete:disabled,\n",
              "  .colab-df-quickchart-complete:disabled:hover {\n",
              "    background-color: var(--disabled-bg-color);\n",
              "    fill: var(--disabled-fill-color);\n",
              "    box-shadow: none;\n",
              "  }\n",
              "\n",
              "  .colab-df-spinner {\n",
              "    border: 2px solid var(--fill-color);\n",
              "    border-color: transparent;\n",
              "    border-bottom-color: var(--fill-color);\n",
              "    animation:\n",
              "      spin 1s steps(1) infinite;\n",
              "  }\n",
              "\n",
              "  @keyframes spin {\n",
              "    0% {\n",
              "      border-color: transparent;\n",
              "      border-bottom-color: var(--fill-color);\n",
              "      border-left-color: var(--fill-color);\n",
              "    }\n",
              "    20% {\n",
              "      border-color: transparent;\n",
              "      border-left-color: var(--fill-color);\n",
              "      border-top-color: var(--fill-color);\n",
              "    }\n",
              "    30% {\n",
              "      border-color: transparent;\n",
              "      border-left-color: var(--fill-color);\n",
              "      border-top-color: var(--fill-color);\n",
              "      border-right-color: var(--fill-color);\n",
              "    }\n",
              "    40% {\n",
              "      border-color: transparent;\n",
              "      border-right-color: var(--fill-color);\n",
              "      border-top-color: var(--fill-color);\n",
              "    }\n",
              "    60% {\n",
              "      border-color: transparent;\n",
              "      border-right-color: var(--fill-color);\n",
              "    }\n",
              "    80% {\n",
              "      border-color: transparent;\n",
              "      border-right-color: var(--fill-color);\n",
              "      border-bottom-color: var(--fill-color);\n",
              "    }\n",
              "    90% {\n",
              "      border-color: transparent;\n",
              "      border-bottom-color: var(--fill-color);\n",
              "    }\n",
              "  }\n",
              "</style>\n",
              "\n",
              "  <script>\n",
              "    async function quickchart(key) {\n",
              "      const quickchartButtonEl =\n",
              "        document.querySelector('#' + key + ' button');\n",
              "      quickchartButtonEl.disabled = true;  // To prevent multiple clicks.\n",
              "      quickchartButtonEl.classList.add('colab-df-spinner');\n",
              "      try {\n",
              "        const charts = await google.colab.kernel.invokeFunction(\n",
              "            'suggestCharts', [key], {});\n",
              "      } catch (error) {\n",
              "        console.error('Error during call to suggestCharts:', error);\n",
              "      }\n",
              "      quickchartButtonEl.classList.remove('colab-df-spinner');\n",
              "      quickchartButtonEl.classList.add('colab-df-quickchart-complete');\n",
              "    }\n",
              "    (() => {\n",
              "      let quickchartButtonEl =\n",
              "        document.querySelector('#df-9f94554a-bcd3-4939-9588-fc9e7b5f2e79 button');\n",
              "      quickchartButtonEl.style.display =\n",
              "        google.colab.kernel.accessAllowed ? 'block' : 'none';\n",
              "    })();\n",
              "  </script>\n",
              "</div>\n",
              "    </div>\n",
              "  </div>\n"
            ]
          },
          "metadata": {},
          "execution_count": 4
        }
      ]
    },
    {
      "cell_type": "code",
      "source": [
        "test.isna().sum()"
      ],
      "metadata": {
        "colab": {
          "base_uri": "https://localhost:8080/"
        },
        "id": "js5fGbFn9v4A",
        "outputId": "02c6a33c-c7b5-423e-bd8f-65a6d62e2d6c"
      },
      "execution_count": null,
      "outputs": [
        {
          "output_type": "execute_result",
          "data": {
            "text/plain": [
              "ID                 0\n",
              "review_es          0\n",
              "is_spanish         0\n",
              "review_es_clean    0\n",
              "dtype: int64"
            ]
          },
          "metadata": {},
          "execution_count": 5
        }
      ]
    },
    {
      "cell_type": "markdown",
      "source": [
        "### Bayes Naive"
      ],
      "metadata": {
        "id": "dLObU1tN7Doz"
      }
    },
    {
      "cell_type": "markdown",
      "source": [
        " - Seteo constantes"
      ],
      "metadata": {
        "id": "AmsHcCjakObc"
      }
    },
    {
      "cell_type": "code",
      "source": [
        "# Constantes\n",
        "SEED=24\n",
        "JOBS=-2"
      ],
      "metadata": {
        "id": "RO-Drf8NkOI4"
      },
      "execution_count": null,
      "outputs": []
    },
    {
      "cell_type": "markdown",
      "source": [
        "- Preparacion previa a aplicar Bayes Naive"
      ],
      "metadata": {
        "id": "6BnXJ0Nzl07T"
      }
    },
    {
      "cell_type": "code",
      "source": [
        "# Descargar stopwords de NLTK\n",
        "nltk.download('stopwords')\n",
        "\n",
        "# Cargar stopwords en español\n",
        "spanish_stopwords = stopwords.words('spanish')\n",
        "\n",
        "# Convertir etiquetas a numéricas\n",
        "label_encoder = LabelEncoder()\n",
        "train['sentimiento'] = label_encoder.fit_transform(train['sentimiento'])\n",
        "\n",
        "# Dividir el conjunto de datos en un conjunto de entrenamiento y un conjunto de prueba\n",
        "X_train, X_test, y_train, y_test = train_test_split(\n",
        "    train['review_es_clean'], train['sentimiento'], test_size=0.05, random_state=SEED)\n",
        "\n",
        "# Crear un pipeline con CountVectorizer y MultinomialNB\n",
        "pipeline = make_pipeline(\n",
        "    CountVectorizer(stop_words=spanish_stopwords),\n",
        "    MultinomialNB()\n",
        ")\n",
        "\n",
        "from sklearn.model_selection import RandomizedSearchCV\n",
        "from scipy.stats import uniform\n",
        "\n",
        "# Crear un pipeline con CountVectorizer y MultinomialNB\n",
        "pipeline = make_pipeline(\n",
        "    CountVectorizer(stop_words=spanish_stopwords),\n",
        "    MultinomialNB()\n",
        ")\n",
        "\n"
      ],
      "metadata": {
        "colab": {
          "base_uri": "https://localhost:8080/"
        },
        "id": "nQs0dtR8-shw",
        "outputId": "74f22268-87a4-4529-f27f-85736f13ff3e"
      },
      "execution_count": null,
      "outputs": [
        {
          "output_type": "stream",
          "name": "stderr",
          "text": [
            "[nltk_data] Downloading package stopwords to /root/nltk_data...\n",
            "[nltk_data]   Unzipping corpora/stopwords.zip.\n"
          ]
        }
      ]
    },
    {
      "cell_type": "markdown",
      "source": [
        "- Optimizacion de parametros con cross validation y random search"
      ],
      "metadata": {
        "id": "pg_o6LzVxkHM"
      }
    },
    {
      "cell_type": "code",
      "source": [
        "# Definir el espacio de búsqueda para la optimización de hiperparámetros\n",
        "parameters = {\n",
        "    'countvectorizer__max_features': [10000],\n",
        "    'countvectorizer__ngram_range': [(1, 1), (1, 2)],\n",
        "    'multinomialnb__alpha': uniform(0.01, 1)  # Distribución uniforme entre 0.01 y 1.01\n",
        "}\n",
        "\n",
        "# Búsqueda aleatoria con validación cruzada\n",
        "random_search = RandomizedSearchCV(pipeline, parameters, n_iter=5, cv=3, n_jobs=-1, scoring='f1', random_state=42)\n",
        "random_search.fit(X_train, y_train)\n",
        "\n",
        "\n"
      ],
      "metadata": {
        "id": "Puqjg4Kkxji7",
        "colab": {
          "base_uri": "https://localhost:8080/",
          "height": 152
        },
        "outputId": "4d6467a0-714c-40fe-e993-7119bfd3277f"
      },
      "execution_count": null,
      "outputs": [
        {
          "output_type": "execute_result",
          "data": {
            "text/plain": [
              "RandomizedSearchCV(cv=3,\n",
              "                   estimator=Pipeline(steps=[('countvectorizer',\n",
              "                                              CountVectorizer(stop_words=['de',\n",
              "                                                                          'la',\n",
              "                                                                          'que',\n",
              "                                                                          'el',\n",
              "                                                                          'en',\n",
              "                                                                          'y',\n",
              "                                                                          'a',\n",
              "                                                                          'los',\n",
              "                                                                          'del',\n",
              "                                                                          'se',\n",
              "                                                                          'las',\n",
              "                                                                          'por',\n",
              "                                                                          'un',\n",
              "                                                                          'para',\n",
              "                                                                          'con',\n",
              "                                                                          'no',\n",
              "                                                                          'una',\n",
              "                                                                          'su',\n",
              "                                                                          'al',\n",
              "                                                                          'lo',\n",
              "                                                                          'como',\n",
              "                                                                          'más',\n",
              "                                                                          'pero',\n",
              "                                                                          'sus',\n",
              "                                                                          'le',\n",
              "                                                                          'ya',\n",
              "                                                                          'o',\n",
              "                                                                          'este',\n",
              "                                                                          'sí',\n",
              "                                                                          'porque', ...])),\n",
              "                                             ('multinomialnb',\n",
              "                                              MultinomialNB())]),\n",
              "                   n_iter=5, n_jobs=-1,\n",
              "                   param_distributions={'countvectorizer__max_features': [10000],\n",
              "                                        'countvectorizer__ngram_range': [(1, 1),\n",
              "                                                                         (1,\n",
              "                                                                          2)],\n",
              "                                        'multinomialnb__alpha': <scipy.stats._distn_infrastructure.rv_continuous_frozen object at 0x7b4d0a982110>},\n",
              "                   random_state=42, scoring='f1')"
            ],
            "text/html": [
              "<style>#sk-container-id-1 {color: black;background-color: white;}#sk-container-id-1 pre{padding: 0;}#sk-container-id-1 div.sk-toggleable {background-color: white;}#sk-container-id-1 label.sk-toggleable__label {cursor: pointer;display: block;width: 100%;margin-bottom: 0;padding: 0.3em;box-sizing: border-box;text-align: center;}#sk-container-id-1 label.sk-toggleable__label-arrow:before {content: \"▸\";float: left;margin-right: 0.25em;color: #696969;}#sk-container-id-1 label.sk-toggleable__label-arrow:hover:before {color: black;}#sk-container-id-1 div.sk-estimator:hover label.sk-toggleable__label-arrow:before {color: black;}#sk-container-id-1 div.sk-toggleable__content {max-height: 0;max-width: 0;overflow: hidden;text-align: left;background-color: #f0f8ff;}#sk-container-id-1 div.sk-toggleable__content pre {margin: 0.2em;color: black;border-radius: 0.25em;background-color: #f0f8ff;}#sk-container-id-1 input.sk-toggleable__control:checked~div.sk-toggleable__content {max-height: 200px;max-width: 100%;overflow: auto;}#sk-container-id-1 input.sk-toggleable__control:checked~label.sk-toggleable__label-arrow:before {content: \"▾\";}#sk-container-id-1 div.sk-estimator input.sk-toggleable__control:checked~label.sk-toggleable__label {background-color: #d4ebff;}#sk-container-id-1 div.sk-label input.sk-toggleable__control:checked~label.sk-toggleable__label {background-color: #d4ebff;}#sk-container-id-1 input.sk-hidden--visually {border: 0;clip: rect(1px 1px 1px 1px);clip: rect(1px, 1px, 1px, 1px);height: 1px;margin: -1px;overflow: hidden;padding: 0;position: absolute;width: 1px;}#sk-container-id-1 div.sk-estimator {font-family: monospace;background-color: #f0f8ff;border: 1px dotted black;border-radius: 0.25em;box-sizing: border-box;margin-bottom: 0.5em;}#sk-container-id-1 div.sk-estimator:hover {background-color: #d4ebff;}#sk-container-id-1 div.sk-parallel-item::after {content: \"\";width: 100%;border-bottom: 1px solid gray;flex-grow: 1;}#sk-container-id-1 div.sk-label:hover label.sk-toggleable__label {background-color: #d4ebff;}#sk-container-id-1 div.sk-serial::before {content: \"\";position: absolute;border-left: 1px solid gray;box-sizing: border-box;top: 0;bottom: 0;left: 50%;z-index: 0;}#sk-container-id-1 div.sk-serial {display: flex;flex-direction: column;align-items: center;background-color: white;padding-right: 0.2em;padding-left: 0.2em;position: relative;}#sk-container-id-1 div.sk-item {position: relative;z-index: 1;}#sk-container-id-1 div.sk-parallel {display: flex;align-items: stretch;justify-content: center;background-color: white;position: relative;}#sk-container-id-1 div.sk-item::before, #sk-container-id-1 div.sk-parallel-item::before {content: \"\";position: absolute;border-left: 1px solid gray;box-sizing: border-box;top: 0;bottom: 0;left: 50%;z-index: -1;}#sk-container-id-1 div.sk-parallel-item {display: flex;flex-direction: column;z-index: 1;position: relative;background-color: white;}#sk-container-id-1 div.sk-parallel-item:first-child::after {align-self: flex-end;width: 50%;}#sk-container-id-1 div.sk-parallel-item:last-child::after {align-self: flex-start;width: 50%;}#sk-container-id-1 div.sk-parallel-item:only-child::after {width: 0;}#sk-container-id-1 div.sk-dashed-wrapped {border: 1px dashed gray;margin: 0 0.4em 0.5em 0.4em;box-sizing: border-box;padding-bottom: 0.4em;background-color: white;}#sk-container-id-1 div.sk-label label {font-family: monospace;font-weight: bold;display: inline-block;line-height: 1.2em;}#sk-container-id-1 div.sk-label-container {text-align: center;}#sk-container-id-1 div.sk-container {/* jupyter's `normalize.less` sets `[hidden] { display: none; }` but bootstrap.min.css set `[hidden] { display: none !important; }` so we also need the `!important` here to be able to override the default hidden behavior on the sphinx rendered scikit-learn.org. See: https://github.com/scikit-learn/scikit-learn/issues/21755 */display: inline-block !important;position: relative;}#sk-container-id-1 div.sk-text-repr-fallback {display: none;}</style><div id=\"sk-container-id-1\" class=\"sk-top-container\"><div class=\"sk-text-repr-fallback\"><pre>RandomizedSearchCV(cv=3,\n",
              "                   estimator=Pipeline(steps=[(&#x27;countvectorizer&#x27;,\n",
              "                                              CountVectorizer(stop_words=[&#x27;de&#x27;,\n",
              "                                                                          &#x27;la&#x27;,\n",
              "                                                                          &#x27;que&#x27;,\n",
              "                                                                          &#x27;el&#x27;,\n",
              "                                                                          &#x27;en&#x27;,\n",
              "                                                                          &#x27;y&#x27;,\n",
              "                                                                          &#x27;a&#x27;,\n",
              "                                                                          &#x27;los&#x27;,\n",
              "                                                                          &#x27;del&#x27;,\n",
              "                                                                          &#x27;se&#x27;,\n",
              "                                                                          &#x27;las&#x27;,\n",
              "                                                                          &#x27;por&#x27;,\n",
              "                                                                          &#x27;un&#x27;,\n",
              "                                                                          &#x27;para&#x27;,\n",
              "                                                                          &#x27;con&#x27;,\n",
              "                                                                          &#x27;no&#x27;,\n",
              "                                                                          &#x27;una&#x27;,\n",
              "                                                                          &#x27;su&#x27;,\n",
              "                                                                          &#x27;al&#x27;,\n",
              "                                                                          &#x27;lo&#x27;,\n",
              "                                                                          &#x27;como&#x27;,\n",
              "                                                                          &#x27;más&#x27;,\n",
              "                                                                          &#x27;pero&#x27;,\n",
              "                                                                          &#x27;sus&#x27;,\n",
              "                                                                          &#x27;le&#x27;,\n",
              "                                                                          &#x27;ya&#x27;,\n",
              "                                                                          &#x27;o&#x27;,\n",
              "                                                                          &#x27;este&#x27;,\n",
              "                                                                          &#x27;sí&#x27;,\n",
              "                                                                          &#x27;porque&#x27;, ...])),\n",
              "                                             (&#x27;multinomialnb&#x27;,\n",
              "                                              MultinomialNB())]),\n",
              "                   n_iter=5, n_jobs=-1,\n",
              "                   param_distributions={&#x27;countvectorizer__max_features&#x27;: [10000],\n",
              "                                        &#x27;countvectorizer__ngram_range&#x27;: [(1, 1),\n",
              "                                                                         (1,\n",
              "                                                                          2)],\n",
              "                                        &#x27;multinomialnb__alpha&#x27;: &lt;scipy.stats._distn_infrastructure.rv_continuous_frozen object at 0x7b4d0a982110&gt;},\n",
              "                   random_state=42, scoring=&#x27;f1&#x27;)</pre><b>In a Jupyter environment, please rerun this cell to show the HTML representation or trust the notebook. <br />On GitHub, the HTML representation is unable to render, please try loading this page with nbviewer.org.</b></div><div class=\"sk-container\" hidden><div class=\"sk-item sk-dashed-wrapped\"><div class=\"sk-label-container\"><div class=\"sk-label sk-toggleable\"><input class=\"sk-toggleable__control sk-hidden--visually\" id=\"sk-estimator-id-1\" type=\"checkbox\" ><label for=\"sk-estimator-id-1\" class=\"sk-toggleable__label sk-toggleable__label-arrow\">RandomizedSearchCV</label><div class=\"sk-toggleable__content\"><pre>RandomizedSearchCV(cv=3,\n",
              "                   estimator=Pipeline(steps=[(&#x27;countvectorizer&#x27;,\n",
              "                                              CountVectorizer(stop_words=[&#x27;de&#x27;,\n",
              "                                                                          &#x27;la&#x27;,\n",
              "                                                                          &#x27;que&#x27;,\n",
              "                                                                          &#x27;el&#x27;,\n",
              "                                                                          &#x27;en&#x27;,\n",
              "                                                                          &#x27;y&#x27;,\n",
              "                                                                          &#x27;a&#x27;,\n",
              "                                                                          &#x27;los&#x27;,\n",
              "                                                                          &#x27;del&#x27;,\n",
              "                                                                          &#x27;se&#x27;,\n",
              "                                                                          &#x27;las&#x27;,\n",
              "                                                                          &#x27;por&#x27;,\n",
              "                                                                          &#x27;un&#x27;,\n",
              "                                                                          &#x27;para&#x27;,\n",
              "                                                                          &#x27;con&#x27;,\n",
              "                                                                          &#x27;no&#x27;,\n",
              "                                                                          &#x27;una&#x27;,\n",
              "                                                                          &#x27;su&#x27;,\n",
              "                                                                          &#x27;al&#x27;,\n",
              "                                                                          &#x27;lo&#x27;,\n",
              "                                                                          &#x27;como&#x27;,\n",
              "                                                                          &#x27;más&#x27;,\n",
              "                                                                          &#x27;pero&#x27;,\n",
              "                                                                          &#x27;sus&#x27;,\n",
              "                                                                          &#x27;le&#x27;,\n",
              "                                                                          &#x27;ya&#x27;,\n",
              "                                                                          &#x27;o&#x27;,\n",
              "                                                                          &#x27;este&#x27;,\n",
              "                                                                          &#x27;sí&#x27;,\n",
              "                                                                          &#x27;porque&#x27;, ...])),\n",
              "                                             (&#x27;multinomialnb&#x27;,\n",
              "                                              MultinomialNB())]),\n",
              "                   n_iter=5, n_jobs=-1,\n",
              "                   param_distributions={&#x27;countvectorizer__max_features&#x27;: [10000],\n",
              "                                        &#x27;countvectorizer__ngram_range&#x27;: [(1, 1),\n",
              "                                                                         (1,\n",
              "                                                                          2)],\n",
              "                                        &#x27;multinomialnb__alpha&#x27;: &lt;scipy.stats._distn_infrastructure.rv_continuous_frozen object at 0x7b4d0a982110&gt;},\n",
              "                   random_state=42, scoring=&#x27;f1&#x27;)</pre></div></div></div><div class=\"sk-parallel\"><div class=\"sk-parallel-item\"><div class=\"sk-item\"><div class=\"sk-label-container\"><div class=\"sk-label sk-toggleable\"><input class=\"sk-toggleable__control sk-hidden--visually\" id=\"sk-estimator-id-2\" type=\"checkbox\" ><label for=\"sk-estimator-id-2\" class=\"sk-toggleable__label sk-toggleable__label-arrow\">estimator: Pipeline</label><div class=\"sk-toggleable__content\"><pre>Pipeline(steps=[(&#x27;countvectorizer&#x27;,\n",
              "                 CountVectorizer(stop_words=[&#x27;de&#x27;, &#x27;la&#x27;, &#x27;que&#x27;, &#x27;el&#x27;, &#x27;en&#x27;, &#x27;y&#x27;,\n",
              "                                             &#x27;a&#x27;, &#x27;los&#x27;, &#x27;del&#x27;, &#x27;se&#x27;, &#x27;las&#x27;,\n",
              "                                             &#x27;por&#x27;, &#x27;un&#x27;, &#x27;para&#x27;, &#x27;con&#x27;, &#x27;no&#x27;,\n",
              "                                             &#x27;una&#x27;, &#x27;su&#x27;, &#x27;al&#x27;, &#x27;lo&#x27;, &#x27;como&#x27;,\n",
              "                                             &#x27;más&#x27;, &#x27;pero&#x27;, &#x27;sus&#x27;, &#x27;le&#x27;, &#x27;ya&#x27;,\n",
              "                                             &#x27;o&#x27;, &#x27;este&#x27;, &#x27;sí&#x27;, &#x27;porque&#x27;, ...])),\n",
              "                (&#x27;multinomialnb&#x27;, MultinomialNB())])</pre></div></div></div><div class=\"sk-serial\"><div class=\"sk-item\"><div class=\"sk-serial\"><div class=\"sk-item\"><div class=\"sk-estimator sk-toggleable\"><input class=\"sk-toggleable__control sk-hidden--visually\" id=\"sk-estimator-id-3\" type=\"checkbox\" ><label for=\"sk-estimator-id-3\" class=\"sk-toggleable__label sk-toggleable__label-arrow\">CountVectorizer</label><div class=\"sk-toggleable__content\"><pre>CountVectorizer(stop_words=[&#x27;de&#x27;, &#x27;la&#x27;, &#x27;que&#x27;, &#x27;el&#x27;, &#x27;en&#x27;, &#x27;y&#x27;, &#x27;a&#x27;, &#x27;los&#x27;,\n",
              "                            &#x27;del&#x27;, &#x27;se&#x27;, &#x27;las&#x27;, &#x27;por&#x27;, &#x27;un&#x27;, &#x27;para&#x27;, &#x27;con&#x27;,\n",
              "                            &#x27;no&#x27;, &#x27;una&#x27;, &#x27;su&#x27;, &#x27;al&#x27;, &#x27;lo&#x27;, &#x27;como&#x27;, &#x27;más&#x27;,\n",
              "                            &#x27;pero&#x27;, &#x27;sus&#x27;, &#x27;le&#x27;, &#x27;ya&#x27;, &#x27;o&#x27;, &#x27;este&#x27;, &#x27;sí&#x27;,\n",
              "                            &#x27;porque&#x27;, ...])</pre></div></div></div><div class=\"sk-item\"><div class=\"sk-estimator sk-toggleable\"><input class=\"sk-toggleable__control sk-hidden--visually\" id=\"sk-estimator-id-4\" type=\"checkbox\" ><label for=\"sk-estimator-id-4\" class=\"sk-toggleable__label sk-toggleable__label-arrow\">MultinomialNB</label><div class=\"sk-toggleable__content\"><pre>MultinomialNB()</pre></div></div></div></div></div></div></div></div></div></div></div></div>"
            ]
          },
          "metadata": {},
          "execution_count": 8
        }
      ]
    },
    {
      "cell_type": "markdown",
      "source": [
        "- Muestra de los mejores hiperparemtros y f1 score"
      ],
      "metadata": {
        "id": "IXCYwZqdxr5d"
      }
    },
    {
      "cell_type": "code",
      "source": [
        "# Mejores parámetros y puntuación\n",
        "print(\"Mejores parámetros:\", random_search.best_params_)\n",
        "print(\"Mejor puntuación (F1-score):\", random_search.best_score_)\n",
        "\n",
        "# Evaluar en el conjunto de prueba\n",
        "y_pred = random_search.predict(X_test)\n",
        "f1 = f1_score(y_test, y_pred)\n",
        "print(\"F1-score en el conjunto de prueba:\", f1)\n"
      ],
      "metadata": {
        "id": "obQYfbfQxrbX",
        "colab": {
          "base_uri": "https://localhost:8080/"
        },
        "outputId": "e22d9963-025c-4cb7-9f13-d33abd049cb4"
      },
      "execution_count": null,
      "outputs": [
        {
          "output_type": "stream",
          "name": "stdout",
          "text": [
            "Mejores parámetros: {'countvectorizer__max_features': 10000, 'countvectorizer__ngram_range': (1, 2), 'multinomialnb__alpha': 0.16599452033620266}\n",
            "Mejor puntuación (F1-score): 0.8259221453069922\n",
            "F1-score en el conjunto de prueba: 0.8242862887012465\n"
          ]
        }
      ]
    },
    {
      "cell_type": "code",
      "source": [
        "# Entrenar el clasificador\n",
        "pipeline.fit(X_train, y_train)\n",
        "\n",
        "# Hacer predicciones\n",
        "y_pred = pipeline.predict(X_test)\n",
        "\n"
      ],
      "metadata": {
        "id": "UBFFCgr_lKar"
      },
      "execution_count": null,
      "outputs": []
    },
    {
      "cell_type": "markdown",
      "source": [
        "- Guardado del modelo con pickle"
      ],
      "metadata": {
        "id": "joe4mfYUl-2L"
      }
    },
    {
      "cell_type": "code",
      "source": [
        "# Guardar el modelo entrenado con pickle\n",
        "with open('modelo_entrenado.pkl', 'wb') as file:\n",
        "    pickle.dump(pipeline, file)\n",
        "\n",
        "# Descargar el archivO\n",
        "try:\n",
        "    from google.colab import files\n",
        "    files.download('modelo_entrenado.pkl')\n",
        "except ImportError:\n",
        "    print(\"La función de descarga solo funciona en Google Colab.\")"
      ],
      "metadata": {
        "colab": {
          "base_uri": "https://localhost:8080/",
          "height": 17
        },
        "id": "Fd9au7-vl-T6",
        "outputId": "7c8ed936-988d-4c85-880f-0e321da86bb2"
      },
      "execution_count": null,
      "outputs": [
        {
          "output_type": "display_data",
          "data": {
            "text/plain": [
              "<IPython.core.display.Javascript object>"
            ],
            "application/javascript": [
              "\n",
              "    async function download(id, filename, size) {\n",
              "      if (!google.colab.kernel.accessAllowed) {\n",
              "        return;\n",
              "      }\n",
              "      const div = document.createElement('div');\n",
              "      const label = document.createElement('label');\n",
              "      label.textContent = `Downloading \"${filename}\": `;\n",
              "      div.appendChild(label);\n",
              "      const progress = document.createElement('progress');\n",
              "      progress.max = size;\n",
              "      div.appendChild(progress);\n",
              "      document.body.appendChild(div);\n",
              "\n",
              "      const buffers = [];\n",
              "      let downloaded = 0;\n",
              "\n",
              "      const channel = await google.colab.kernel.comms.open(id);\n",
              "      // Send a message to notify the kernel that we're ready.\n",
              "      channel.send({})\n",
              "\n",
              "      for await (const message of channel.messages) {\n",
              "        // Send a message to notify the kernel that we're ready.\n",
              "        channel.send({})\n",
              "        if (message.buffers) {\n",
              "          for (const buffer of message.buffers) {\n",
              "            buffers.push(buffer);\n",
              "            downloaded += buffer.byteLength;\n",
              "            progress.value = downloaded;\n",
              "          }\n",
              "        }\n",
              "      }\n",
              "      const blob = new Blob(buffers, {type: 'application/binary'});\n",
              "      const a = document.createElement('a');\n",
              "      a.href = window.URL.createObjectURL(blob);\n",
              "      a.download = filename;\n",
              "      div.appendChild(a);\n",
              "      a.click();\n",
              "      div.remove();\n",
              "    }\n",
              "  "
            ]
          },
          "metadata": {}
        },
        {
          "output_type": "display_data",
          "data": {
            "text/plain": [
              "<IPython.core.display.Javascript object>"
            ],
            "application/javascript": [
              "download(\"download_cca25361-1fef-40cd-9b01-b76fd332c2ec\", \"modelo_entrenado.pkl\", 7155150)"
            ]
          },
          "metadata": {}
        }
      ]
    },
    {
      "cell_type": "markdown",
      "source": [
        "- Calculo de metricas y muestra de la matriz de confunsion"
      ],
      "metadata": {
        "id": "DSSd9r8Glp1m"
      }
    },
    {
      "cell_type": "code",
      "source": [
        "# Calcular métricas de evaluación\n",
        "report = classification_report(y_test, y_pred, target_names=label_encoder.classes_)\n",
        "print(\"\\nReporte de clasificación:\")\n",
        "print(report)\n",
        "\n",
        "# Imprimir métricas individuales\n",
        "accuracy = accuracy_score(y_test, y_pred)\n",
        "precision = precision_score(y_test, y_pred)\n",
        "recall = recall_score(y_test, y_pred)\n",
        "f1 = f1_score(y_test, y_pred)\n",
        "\n",
        "print(f\"Accuracy: {accuracy:.4f}\")\n",
        "print(f\"Precision: {precision:.4f}\")\n",
        "print(f\"Recall: {recall:.4f}\")\n",
        "print(f\"F1 Score: {f1:.4f}\")"
      ],
      "metadata": {
        "colab": {
          "base_uri": "https://localhost:8080/"
        },
        "id": "GLhkCXDClpW1",
        "outputId": "9e3efdbe-2a39-4933-b5d0-ac559dd9bc85"
      },
      "execution_count": null,
      "outputs": [
        {
          "output_type": "stream",
          "name": "stdout",
          "text": [
            "\n",
            "Reporte de clasificación:\n",
            "              precision    recall  f1-score   support\n",
            "\n",
            "    negativo       0.81      0.86      0.84      1237\n",
            "    positivo       0.86      0.80      0.83      1263\n",
            "\n",
            "    accuracy                           0.83      2500\n",
            "   macro avg       0.83      0.83      0.83      2500\n",
            "weighted avg       0.83      0.83      0.83      2500\n",
            "\n",
            "Accuracy: 0.8316\n",
            "Precision: 0.8562\n",
            "Recall: 0.8013\n",
            "F1 Score: 0.8278\n"
          ]
        }
      ]
    },
    {
      "cell_type": "code",
      "source": [
        "# Evaluar el modelo\n",
        "cm = confusion_matrix(y_test, y_pred)\n",
        "print(\"Matriz de confusión:\")\n",
        "sns.heatmap(cm, annot=True, fmt='d', cmap='Blues', xticklabels=label_encoder.classes_, yticklabels=label_encoder.classes_)\n",
        "plt.ylabel('Verdaderos')\n",
        "plt.xlabel('Predicciones')\n",
        "plt.title('Matriz de Confusión')\n",
        "plt.show()"
      ],
      "metadata": {
        "colab": {
          "base_uri": "https://localhost:8080/",
          "height": 490
        },
        "id": "9obdPoQJmDJj",
        "outputId": "102bb80b-652d-4910-e8c9-42987db92a21"
      },
      "execution_count": null,
      "outputs": [
        {
          "output_type": "stream",
          "name": "stdout",
          "text": [
            "Matriz de confusión:\n"
          ]
        },
        {
          "output_type": "display_data",
          "data": {
            "text/plain": [
              "<Figure size 640x480 with 2 Axes>"
            ],
            "image/png": "[encoded data removed]"
          },
          "metadata": {}
        }
      ]
    },
    {
      "cell_type": "markdown",
      "source": [
        "### > Prediccion con el dataset de Test"
      ],
      "metadata": {
        "id": "odI2-0FGlu6X"
      }
    },
    {
      "cell_type": "code",
      "source": [
        "test_predictions = pipeline.predict(test['review_es_clean'])\n",
        "\n",
        "output = pd.DataFrame(zip(test[\"ID\"], label_encoder.inverse_transform(test_predictions)),columns = ['ID','sentimiento'])\n",
        "\n",
        "output.to_csv('prediccion_BN.csv', index=False)\n",
        "\n",
        "# Descargar el archivo de predicciones (esto funcionará en entornos como Jupyter o Google Colab)\n",
        "try:\n",
        "    from google.colab import files\n",
        "    files.download('prediccion_BN.csv')\n",
        "except ImportError:\n",
        "    print(\"La función de descarga solo funciona en entornos como Google Colab.\")"
      ],
      "metadata": {
        "colab": {
          "base_uri": "https://localhost:8080/",
          "height": 17
        },
        "id": "ApUc0-wHALed",
        "outputId": "4c39ab04-41f0-4e0e-c53a-193a233fff03"
      },
      "execution_count": null,
      "outputs": [
        {
          "output_type": "display_data",
          "data": {
            "text/plain": [
              "<IPython.core.display.Javascript object>"
            ],
            "application/javascript": [
              "\n",
              "    async function download(id, filename, size) {\n",
              "      if (!google.colab.kernel.accessAllowed) {\n",
              "        return;\n",
              "      }\n",
              "      const div = document.createElement('div');\n",
              "      const label = document.createElement('label');\n",
              "      label.textContent = `Downloading \"${filename}\": `;\n",
              "      div.appendChild(label);\n",
              "      const progress = document.createElement('progress');\n",
              "      progress.max = size;\n",
              "      div.appendChild(progress);\n",
              "      document.body.appendChild(div);\n",
              "\n",
              "      const buffers = [];\n",
              "      let downloaded = 0;\n",
              "\n",
              "      const channel = await google.colab.kernel.comms.open(id);\n",
              "      // Send a message to notify the kernel that we're ready.\n",
              "      channel.send({})\n",
              "\n",
              "      for await (const message of channel.messages) {\n",
              "        // Send a message to notify the kernel that we're ready.\n",
              "        channel.send({})\n",
              "        if (message.buffers) {\n",
              "          for (const buffer of message.buffers) {\n",
              "            buffers.push(buffer);\n",
              "            downloaded += buffer.byteLength;\n",
              "            progress.value = downloaded;\n",
              "          }\n",
              "        }\n",
              "      }\n",
              "      const blob = new Blob(buffers, {type: 'application/binary'});\n",
              "      const a = document.createElement('a');\n",
              "      a.href = window.URL.createObjectURL(blob);\n",
              "      a.download = filename;\n",
              "      div.appendChild(a);\n",
              "      a.click();\n",
              "      div.remove();\n",
              "    }\n",
              "  "
            ]
          },
          "metadata": {}
        },
        {
          "output_type": "display_data",
          "data": {
            "text/plain": [
              "<IPython.core.display.Javascript object>"
            ],
            "application/javascript": [
              "download(\"download_7106a10c-8a7a-41d9-b8e8-8341606bc547\", \"prediccion_BN.csv\", 129000)"
            ]
          },
          "metadata": {}
        }
      ]
    }
  ]
}