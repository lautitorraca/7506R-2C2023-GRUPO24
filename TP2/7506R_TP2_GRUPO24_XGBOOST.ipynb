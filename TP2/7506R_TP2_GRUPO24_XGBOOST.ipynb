{
  "nbformat": 4,
  "nbformat_minor": 0,
  "metadata": {
    "colab": {
      "provenance": [],
      "authorship_tag": "ABX9TyO8Hn5vJcWTmmIpOfpFP1Aa",
      "include_colab_link": true
    },
    "kernelspec": {
      "name": "python3",
      "display_name": "Python 3"
    },
    "language_info": {
      "name": "python"
    }
  },
  "cells": [
    {
      "cell_type": "markdown",
      "metadata": {
        "id": "view-in-github",
        "colab_type": "text"
      },
      "source": [
        "<a href=\"https://colab.research.google.com/github/lautitorraca/7506R-2C2023-GRUPO24/blob/main/TP2/7506R_TP2_GRUPO24_XGBOOST.ipynb\" target=\"_parent\"><img src=\"https://colab.research.google.com/assets/colab-badge.svg\" alt=\"Open In Colab\"/></a>"
      ]
    },
    {
      "cell_type": "markdown",
      "source": [
        "### 𝔾𝕣𝕦𝕡𝕠 𝟚𝟜 (Merequetengue👍)\n",
        "\n",
        "  ➢ Torraca Lautaro - 108813\n",
        "\n",
        "  ➢ Negrotti Gianluca - 108184\n",
        "\n",
        "  ➢ Marco Tosi - 107237"
      ],
      "metadata": {
        "id": "E6DJGpzfVEK8"
      }
    },
    {
      "cell_type": "code",
      "source": [
        "# !pip install scikit-optimize\n"
      ],
      "metadata": {
        "id": "Wc_srt86Xnyg"
      },
      "execution_count": 1,
      "outputs": []
    },
    {
      "cell_type": "markdown",
      "source": [
        "### > Imports"
      ],
      "metadata": {
        "id": "xwFcHtFhw_I1"
      }
    },
    {
      "cell_type": "code",
      "source": [
        "import pandas as pd\n",
        "import numpy as np\n",
        "from sklearn.model_selection import train_test_split, RandomizedSearchCV\n",
        "from sklearn.feature_extraction.text import TfidfVectorizer\n",
        "from sklearn.preprocessing import LabelEncoder\n",
        "from xgboost import XGBClassifier\n",
        "from sklearn.metrics import classification_report, f1_score, confusion_matrix\n",
        "from sklearn.metrics import precision_score, recall_score, accuracy_score, make_scorer\n",
        "import seaborn as sns\n",
        "import matplotlib.pyplot as plt\n",
        "from sklearn.pipeline import Pipeline\n",
        "from skopt import BayesSearchCV\n",
        "from skopt.space import Real, Categorical, Integer\n",
        "import pickle\n"
      ],
      "metadata": {
        "id": "tqbJe45uV_rK"
      },
      "execution_count": 2,
      "outputs": []
    },
    {
      "cell_type": "markdown",
      "source": [
        "### > Lectura de los datasets"
      ],
      "metadata": {
        "id": "-m-FsGi0xBwQ"
      }
    },
    {
      "cell_type": "code",
      "source": [
        "\n",
        "url_train = '/content/train_limpio.csv'\n",
        "url_test = '/content/test_limpio.csv'\n",
        "\n",
        "train = pd.read_csv(url_train)\n",
        "test = pd.read_csv(url_test)\n"
      ],
      "metadata": {
        "id": "FiK6UQpqxCS9"
      },
      "execution_count": 3,
      "outputs": []
    },
    {
      "cell_type": "markdown",
      "source": [
        "### XGBOOST"
      ],
      "metadata": {
        "id": "zVRoNvXxxS30"
      }
    },
    {
      "cell_type": "markdown",
      "source": [
        "- Division y preprocesamiento de los datos"
      ],
      "metadata": {
        "id": "E4-NwRp6yMwk"
      }
    },
    {
      "cell_type": "code",
      "source": [
        "\n",
        "from sklearn.feature_extraction.text import TfidfVectorizer\n",
        "\n",
        "# Dividir el dataset en conjuntos de entrenamiento y prueba\n",
        "train_df, test_df = train_test_split(train, test_size=0.2, random_state=42)\n",
        "\n",
        "# Preprocesamiento de los datos con parámetros ajustados\n",
        "tfidf = TfidfVectorizer(\n",
        "    max_features=6000,  # Reducido para mejorar el rendimiento\n",
        "    ngram_range=(1, 2),  # Considerar unigramas y bigramas\n",
        "    min_df=5,  # Ignorar términos que aparecen en menos de 5 documentos\n",
        "    max_df=0.9,  # Ignorar términos que aparecen en más del 90% de los documentos\n",
        "    sublinear_tf=True,  # Aplicar escala logarítmica a la frecuencia de términos\n",
        "    norm='l1', # Normalización por filas (cada fila suma 1)\n",
        "    strip_accents='unicode' # Remueve acentos y tildes\n",
        "\n",
        ")\n",
        "\n",
        "X_train = tfidf.fit_transform(train_df['review_es_clean']).toarray()\n",
        "X_test = tfidf.transform(test_df['review_es_clean']).toarray()\n",
        "\n",
        "\n"
      ],
      "metadata": {
        "id": "KwAtAmV2TrG2"
      },
      "execution_count": 4,
      "outputs": []
    },
    {
      "cell_type": "markdown",
      "source": [
        "- Codifacion del texto con laber encoder"
      ],
      "metadata": {
        "id": "SjCKp-fmyYsF"
      }
    },
    {
      "cell_type": "code",
      "source": [
        "# Codificar la variable objetivo\n",
        "label_encoder = LabelEncoder()\n",
        "y_train = label_encoder.fit_transform(train_df['sentimiento'])\n",
        "y_test = label_encoder.transform(test_df['sentimiento'])\n"
      ],
      "metadata": {
        "id": "__2oh42wyaIR"
      },
      "execution_count": 5,
      "outputs": []
    },
    {
      "cell_type": "markdown",
      "source": [
        "- Creacion del predictor y ptimizacion de hiperparametros  con BayesSearch cross validation"
      ],
      "metadata": {
        "id": "4-_dTw7NyeWW"
      }
    },
    {
      "cell_type": "code",
      "source": [
        "# Definir el espacio de búsqueda de hiperparámetros\n",
        "\n",
        "search_space = {\n",
        "    'max_depth': list(np.arange(10, 20, 50)),\n",
        "    'learning_rate':list(np.arange(0.1, 0.2, 0.01)),\n",
        "    'n_estimators': list(np.arange(10, 50, 500)),\n",
        "    'subsample': list(np.arange(0.05, 0.1, 0.5))\n",
        "}\n",
        "\n",
        "# Crear el modelo XGBoost\n",
        "model = XGBClassifier(objective='binary:logistic', eval_metric='logloss',  n_jobs=-1)\n",
        "\n",
        "# Crear el objeto BayesSearchCV\n",
        "opt = BayesSearchCV(\n",
        "    model,\n",
        "    search_space,\n",
        "    n_iter=5,\n",
        "    scoring=make_scorer(f1_score),\n",
        "    random_state=42,\n",
        "    cv=2\n",
        ")\n",
        "\n",
        "# Ejecutar la búsqueda bayesiana\n",
        "opt.fit(X_train, y_train)\n",
        "\n"
      ],
      "metadata": {
        "id": "wKRY6j0oycD8",
        "colab": {
          "base_uri": "https://localhost:8080/",
          "height": 117
        },
        "outputId": "179ab45c-25ab-4810-8693-3442d8eb299e"
      },
      "execution_count": 6,
      "outputs": [
        {
          "output_type": "execute_result",
          "data": {
            "text/plain": [
              "BayesSearchCV(cv=2,\n",
              "              estimator=XGBClassifier(base_score=None, booster=None,\n",
              "                                      callbacks=None, colsample_bylevel=None,\n",
              "                                      colsample_bynode=None,\n",
              "                                      colsample_bytree=None, device=None,\n",
              "                                      early_stopping_rounds=None,\n",
              "                                      enable_categorical=False,\n",
              "                                      eval_metric='logloss', feature_types=None,\n",
              "                                      gamma=None, grow_policy=None,\n",
              "                                      importance_type=None,\n",
              "                                      interaction_constraints=None,\n",
              "                                      learning_rate...\n",
              "                                      multi_strategy=None, n_estimators=None,\n",
              "                                      n_jobs=-1, num_parallel_tree=None,\n",
              "                                      random_state=None, ...),\n",
              "              n_iter=5, random_state=42, scoring=make_scorer(f1_score),\n",
              "              search_spaces={'learning_rate': [0.1, 0.11, 0.12, 0.13,\n",
              "                                               0.13999999999999999,\n",
              "                                               0.14999999999999997,\n",
              "                                               0.15999999999999998,\n",
              "                                               0.16999999999999998,\n",
              "                                               0.17999999999999997,\n",
              "                                               0.18999999999999995],\n",
              "                             'max_depth': [10], 'n_estimators': [10],\n",
              "                             'subsample': [0.05]})"
            ],
            "text/html": [
              "<style>#sk-container-id-1 {color: black;background-color: white;}#sk-container-id-1 pre{padding: 0;}#sk-container-id-1 div.sk-toggleable {background-color: white;}#sk-container-id-1 label.sk-toggleable__label {cursor: pointer;display: block;width: 100%;margin-bottom: 0;padding: 0.3em;box-sizing: border-box;text-align: center;}#sk-container-id-1 label.sk-toggleable__label-arrow:before {content: \"▸\";float: left;margin-right: 0.25em;color: #696969;}#sk-container-id-1 label.sk-toggleable__label-arrow:hover:before {color: black;}#sk-container-id-1 div.sk-estimator:hover label.sk-toggleable__label-arrow:before {color: black;}#sk-container-id-1 div.sk-toggleable__content {max-height: 0;max-width: 0;overflow: hidden;text-align: left;background-color: #f0f8ff;}#sk-container-id-1 div.sk-toggleable__content pre {margin: 0.2em;color: black;border-radius: 0.25em;background-color: #f0f8ff;}#sk-container-id-1 input.sk-toggleable__control:checked~div.sk-toggleable__content {max-height: 200px;max-width: 100%;overflow: auto;}#sk-container-id-1 input.sk-toggleable__control:checked~label.sk-toggleable__label-arrow:before {content: \"▾\";}#sk-container-id-1 div.sk-estimator input.sk-toggleable__control:checked~label.sk-toggleable__label {background-color: #d4ebff;}#sk-container-id-1 div.sk-label input.sk-toggleable__control:checked~label.sk-toggleable__label {background-color: #d4ebff;}#sk-container-id-1 input.sk-hidden--visually {border: 0;clip: rect(1px 1px 1px 1px);clip: rect(1px, 1px, 1px, 1px);height: 1px;margin: -1px;overflow: hidden;padding: 0;position: absolute;width: 1px;}#sk-container-id-1 div.sk-estimator {font-family: monospace;background-color: #f0f8ff;border: 1px dotted black;border-radius: 0.25em;box-sizing: border-box;margin-bottom: 0.5em;}#sk-container-id-1 div.sk-estimator:hover {background-color: #d4ebff;}#sk-container-id-1 div.sk-parallel-item::after {content: \"\";width: 100%;border-bottom: 1px solid gray;flex-grow: 1;}#sk-container-id-1 div.sk-label:hover label.sk-toggleable__label {background-color: #d4ebff;}#sk-container-id-1 div.sk-serial::before {content: \"\";position: absolute;border-left: 1px solid gray;box-sizing: border-box;top: 0;bottom: 0;left: 50%;z-index: 0;}#sk-container-id-1 div.sk-serial {display: flex;flex-direction: column;align-items: center;background-color: white;padding-right: 0.2em;padding-left: 0.2em;position: relative;}#sk-container-id-1 div.sk-item {position: relative;z-index: 1;}#sk-container-id-1 div.sk-parallel {display: flex;align-items: stretch;justify-content: center;background-color: white;position: relative;}#sk-container-id-1 div.sk-item::before, #sk-container-id-1 div.sk-parallel-item::before {content: \"\";position: absolute;border-left: 1px solid gray;box-sizing: border-box;top: 0;bottom: 0;left: 50%;z-index: -1;}#sk-container-id-1 div.sk-parallel-item {display: flex;flex-direction: column;z-index: 1;position: relative;background-color: white;}#sk-container-id-1 div.sk-parallel-item:first-child::after {align-self: flex-end;width: 50%;}#sk-container-id-1 div.sk-parallel-item:last-child::after {align-self: flex-start;width: 50%;}#sk-container-id-1 div.sk-parallel-item:only-child::after {width: 0;}#sk-container-id-1 div.sk-dashed-wrapped {border: 1px dashed gray;margin: 0 0.4em 0.5em 0.4em;box-sizing: border-box;padding-bottom: 0.4em;background-color: white;}#sk-container-id-1 div.sk-label label {font-family: monospace;font-weight: bold;display: inline-block;line-height: 1.2em;}#sk-container-id-1 div.sk-label-container {text-align: center;}#sk-container-id-1 div.sk-container {/* jupyter's `normalize.less` sets `[hidden] { display: none; }` but bootstrap.min.css set `[hidden] { display: none !important; }` so we also need the `!important` here to be able to override the default hidden behavior on the sphinx rendered scikit-learn.org. See: https://github.com/scikit-learn/scikit-learn/issues/21755 */display: inline-block !important;position: relative;}#sk-container-id-1 div.sk-text-repr-fallback {display: none;}</style><div id=\"sk-container-id-1\" class=\"sk-top-container\"><div class=\"sk-text-repr-fallback\"><pre>BayesSearchCV(cv=2,\n",
              "              estimator=XGBClassifier(base_score=None, booster=None,\n",
              "                                      callbacks=None, colsample_bylevel=None,\n",
              "                                      colsample_bynode=None,\n",
              "                                      colsample_bytree=None, device=None,\n",
              "                                      early_stopping_rounds=None,\n",
              "                                      enable_categorical=False,\n",
              "                                      eval_metric=&#x27;logloss&#x27;, feature_types=None,\n",
              "                                      gamma=None, grow_policy=None,\n",
              "                                      importance_type=None,\n",
              "                                      interaction_constraints=None,\n",
              "                                      learning_rate...\n",
              "                                      multi_strategy=None, n_estimators=None,\n",
              "                                      n_jobs=-1, num_parallel_tree=None,\n",
              "                                      random_state=None, ...),\n",
              "              n_iter=5, random_state=42, scoring=make_scorer(f1_score),\n",
              "              search_spaces={&#x27;learning_rate&#x27;: [0.1, 0.11, 0.12, 0.13,\n",
              "                                               0.13999999999999999,\n",
              "                                               0.14999999999999997,\n",
              "                                               0.15999999999999998,\n",
              "                                               0.16999999999999998,\n",
              "                                               0.17999999999999997,\n",
              "                                               0.18999999999999995],\n",
              "                             &#x27;max_depth&#x27;: [10], &#x27;n_estimators&#x27;: [10],\n",
              "                             &#x27;subsample&#x27;: [0.05]})</pre><b>In a Jupyter environment, please rerun this cell to show the HTML representation or trust the notebook. <br />On GitHub, the HTML representation is unable to render, please try loading this page with nbviewer.org.</b></div><div class=\"sk-container\" hidden><div class=\"sk-item sk-dashed-wrapped\"><div class=\"sk-label-container\"><div class=\"sk-label sk-toggleable\"><input class=\"sk-toggleable__control sk-hidden--visually\" id=\"sk-estimator-id-1\" type=\"checkbox\" ><label for=\"sk-estimator-id-1\" class=\"sk-toggleable__label sk-toggleable__label-arrow\">BayesSearchCV</label><div class=\"sk-toggleable__content\"><pre>BayesSearchCV(cv=2,\n",
              "              estimator=XGBClassifier(base_score=None, booster=None,\n",
              "                                      callbacks=None, colsample_bylevel=None,\n",
              "                                      colsample_bynode=None,\n",
              "                                      colsample_bytree=None, device=None,\n",
              "                                      early_stopping_rounds=None,\n",
              "                                      enable_categorical=False,\n",
              "                                      eval_metric=&#x27;logloss&#x27;, feature_types=None,\n",
              "                                      gamma=None, grow_policy=None,\n",
              "                                      importance_type=None,\n",
              "                                      interaction_constraints=None,\n",
              "                                      learning_rate...\n",
              "                                      multi_strategy=None, n_estimators=None,\n",
              "                                      n_jobs=-1, num_parallel_tree=None,\n",
              "                                      random_state=None, ...),\n",
              "              n_iter=5, random_state=42, scoring=make_scorer(f1_score),\n",
              "              search_spaces={&#x27;learning_rate&#x27;: [0.1, 0.11, 0.12, 0.13,\n",
              "                                               0.13999999999999999,\n",
              "                                               0.14999999999999997,\n",
              "                                               0.15999999999999998,\n",
              "                                               0.16999999999999998,\n",
              "                                               0.17999999999999997,\n",
              "                                               0.18999999999999995],\n",
              "                             &#x27;max_depth&#x27;: [10], &#x27;n_estimators&#x27;: [10],\n",
              "                             &#x27;subsample&#x27;: [0.05]})</pre></div></div></div><div class=\"sk-parallel\"><div class=\"sk-parallel-item\"><div class=\"sk-item\"><div class=\"sk-label-container\"><div class=\"sk-label sk-toggleable\"><input class=\"sk-toggleable__control sk-hidden--visually\" id=\"sk-estimator-id-2\" type=\"checkbox\" ><label for=\"sk-estimator-id-2\" class=\"sk-toggleable__label sk-toggleable__label-arrow\">estimator: XGBClassifier</label><div class=\"sk-toggleable__content\"><pre>XGBClassifier(base_score=None, booster=None, callbacks=None,\n",
              "              colsample_bylevel=None, colsample_bynode=None,\n",
              "              colsample_bytree=None, device=None, early_stopping_rounds=None,\n",
              "              enable_categorical=False, eval_metric=&#x27;logloss&#x27;,\n",
              "              feature_types=None, gamma=None, grow_policy=None,\n",
              "              importance_type=None, interaction_constraints=None,\n",
              "              learning_rate=None, max_bin=None, max_cat_threshold=None,\n",
              "              max_cat_to_onehot=None, max_delta_step=None, max_depth=None,\n",
              "              max_leaves=None, min_child_weight=None, missing=nan,\n",
              "              monotone_constraints=None, multi_strategy=None, n_estimators=None,\n",
              "              n_jobs=-1, num_parallel_tree=None, random_state=None, ...)</pre></div></div></div><div class=\"sk-serial\"><div class=\"sk-item\"><div class=\"sk-estimator sk-toggleable\"><input class=\"sk-toggleable__control sk-hidden--visually\" id=\"sk-estimator-id-3\" type=\"checkbox\" ><label for=\"sk-estimator-id-3\" class=\"sk-toggleable__label sk-toggleable__label-arrow\">XGBClassifier</label><div class=\"sk-toggleable__content\"><pre>XGBClassifier(base_score=None, booster=None, callbacks=None,\n",
              "              colsample_bylevel=None, colsample_bynode=None,\n",
              "              colsample_bytree=None, device=None, early_stopping_rounds=None,\n",
              "              enable_categorical=False, eval_metric=&#x27;logloss&#x27;,\n",
              "              feature_types=None, gamma=None, grow_policy=None,\n",
              "              importance_type=None, interaction_constraints=None,\n",
              "              learning_rate=None, max_bin=None, max_cat_threshold=None,\n",
              "              max_cat_to_onehot=None, max_delta_step=None, max_depth=None,\n",
              "              max_leaves=None, min_child_weight=None, missing=nan,\n",
              "              monotone_constraints=None, multi_strategy=None, n_estimators=None,\n",
              "              n_jobs=-1, num_parallel_tree=None, random_state=None, ...)</pre></div></div></div></div></div></div></div></div></div></div>"
            ]
          },
          "metadata": {},
          "execution_count": 6
        }
      ]
    },
    {
      "cell_type": "markdown",
      "source": [
        "- Muestra de los mejores hiperparametros y entranmeinto del modelo"
      ],
      "metadata": {
        "id": "U1ioNEDJyo6I"
      }
    },
    {
      "cell_type": "code",
      "source": [
        "# Mejores parámetros encontrados\n",
        "print(\"Mejores parámetros: \", opt.best_params_)\n",
        "\n",
        "# Entrenar el modelo con los mejores parámetros\n",
        "best_model = XGBClassifier(**opt.best_params_, objective='binary:logistic', eval_metric='logloss')\n",
        "best_model.fit(X_train, y_train)\n"
      ],
      "metadata": {
        "id": "jIwXC_hcylgn",
        "colab": {
          "base_uri": "https://localhost:8080/",
          "height": 270
        },
        "outputId": "c59b97c1-d903-473a-bc09-40a8df72a9a3"
      },
      "execution_count": 7,
      "outputs": [
        {
          "output_type": "stream",
          "name": "stdout",
          "text": [
            "Mejores parámetros:  OrderedDict([('learning_rate', 0.16999999999999998), ('max_depth', 10), ('n_estimators', 10), ('subsample', 0.05)])\n"
          ]
        },
        {
          "output_type": "execute_result",
          "data": {
            "text/plain": [
              "XGBClassifier(base_score=None, booster=None, callbacks=None,\n",
              "              colsample_bylevel=None, colsample_bynode=None,\n",
              "              colsample_bytree=None, device=None, early_stopping_rounds=None,\n",
              "              enable_categorical=False, eval_metric='logloss',\n",
              "              feature_types=None, gamma=None, grow_policy=None,\n",
              "              importance_type=None, interaction_constraints=None,\n",
              "              learning_rate=0.16999999999999998, max_bin=None,\n",
              "              max_cat_threshold=None, max_cat_to_onehot=None,\n",
              "              max_delta_step=None, max_depth=10, max_leaves=None,\n",
              "              min_child_weight=None, missing=nan, monotone_constraints=None,\n",
              "              multi_strategy=None, n_estimators=10, n_jobs=None,\n",
              "              num_parallel_tree=None, random_state=None, ...)"
            ],
            "text/html": [
              "<style>#sk-container-id-2 {color: black;background-color: white;}#sk-container-id-2 pre{padding: 0;}#sk-container-id-2 div.sk-toggleable {background-color: white;}#sk-container-id-2 label.sk-toggleable__label {cursor: pointer;display: block;width: 100%;margin-bottom: 0;padding: 0.3em;box-sizing: border-box;text-align: center;}#sk-container-id-2 label.sk-toggleable__label-arrow:before {content: \"▸\";float: left;margin-right: 0.25em;color: #696969;}#sk-container-id-2 label.sk-toggleable__label-arrow:hover:before {color: black;}#sk-container-id-2 div.sk-estimator:hover label.sk-toggleable__label-arrow:before {color: black;}#sk-container-id-2 div.sk-toggleable__content {max-height: 0;max-width: 0;overflow: hidden;text-align: left;background-color: #f0f8ff;}#sk-container-id-2 div.sk-toggleable__content pre {margin: 0.2em;color: black;border-radius: 0.25em;background-color: #f0f8ff;}#sk-container-id-2 input.sk-toggleable__control:checked~div.sk-toggleable__content {max-height: 200px;max-width: 100%;overflow: auto;}#sk-container-id-2 input.sk-toggleable__control:checked~label.sk-toggleable__label-arrow:before {content: \"▾\";}#sk-container-id-2 div.sk-estimator input.sk-toggleable__control:checked~label.sk-toggleable__label {background-color: #d4ebff;}#sk-container-id-2 div.sk-label input.sk-toggleable__control:checked~label.sk-toggleable__label {background-color: #d4ebff;}#sk-container-id-2 input.sk-hidden--visually {border: 0;clip: rect(1px 1px 1px 1px);clip: rect(1px, 1px, 1px, 1px);height: 1px;margin: -1px;overflow: hidden;padding: 0;position: absolute;width: 1px;}#sk-container-id-2 div.sk-estimator {font-family: monospace;background-color: #f0f8ff;border: 1px dotted black;border-radius: 0.25em;box-sizing: border-box;margin-bottom: 0.5em;}#sk-container-id-2 div.sk-estimator:hover {background-color: #d4ebff;}#sk-container-id-2 div.sk-parallel-item::after {content: \"\";width: 100%;border-bottom: 1px solid gray;flex-grow: 1;}#sk-container-id-2 div.sk-label:hover label.sk-toggleable__label {background-color: #d4ebff;}#sk-container-id-2 div.sk-serial::before {content: \"\";position: absolute;border-left: 1px solid gray;box-sizing: border-box;top: 0;bottom: 0;left: 50%;z-index: 0;}#sk-container-id-2 div.sk-serial {display: flex;flex-direction: column;align-items: center;background-color: white;padding-right: 0.2em;padding-left: 0.2em;position: relative;}#sk-container-id-2 div.sk-item {position: relative;z-index: 1;}#sk-container-id-2 div.sk-parallel {display: flex;align-items: stretch;justify-content: center;background-color: white;position: relative;}#sk-container-id-2 div.sk-item::before, #sk-container-id-2 div.sk-parallel-item::before {content: \"\";position: absolute;border-left: 1px solid gray;box-sizing: border-box;top: 0;bottom: 0;left: 50%;z-index: -1;}#sk-container-id-2 div.sk-parallel-item {display: flex;flex-direction: column;z-index: 1;position: relative;background-color: white;}#sk-container-id-2 div.sk-parallel-item:first-child::after {align-self: flex-end;width: 50%;}#sk-container-id-2 div.sk-parallel-item:last-child::after {align-self: flex-start;width: 50%;}#sk-container-id-2 div.sk-parallel-item:only-child::after {width: 0;}#sk-container-id-2 div.sk-dashed-wrapped {border: 1px dashed gray;margin: 0 0.4em 0.5em 0.4em;box-sizing: border-box;padding-bottom: 0.4em;background-color: white;}#sk-container-id-2 div.sk-label label {font-family: monospace;font-weight: bold;display: inline-block;line-height: 1.2em;}#sk-container-id-2 div.sk-label-container {text-align: center;}#sk-container-id-2 div.sk-container {/* jupyter's `normalize.less` sets `[hidden] { display: none; }` but bootstrap.min.css set `[hidden] { display: none !important; }` so we also need the `!important` here to be able to override the default hidden behavior on the sphinx rendered scikit-learn.org. See: https://github.com/scikit-learn/scikit-learn/issues/21755 */display: inline-block !important;position: relative;}#sk-container-id-2 div.sk-text-repr-fallback {display: none;}</style><div id=\"sk-container-id-2\" class=\"sk-top-container\"><div class=\"sk-text-repr-fallback\"><pre>XGBClassifier(base_score=None, booster=None, callbacks=None,\n",
              "              colsample_bylevel=None, colsample_bynode=None,\n",
              "              colsample_bytree=None, device=None, early_stopping_rounds=None,\n",
              "              enable_categorical=False, eval_metric=&#x27;logloss&#x27;,\n",
              "              feature_types=None, gamma=None, grow_policy=None,\n",
              "              importance_type=None, interaction_constraints=None,\n",
              "              learning_rate=0.16999999999999998, max_bin=None,\n",
              "              max_cat_threshold=None, max_cat_to_onehot=None,\n",
              "              max_delta_step=None, max_depth=10, max_leaves=None,\n",
              "              min_child_weight=None, missing=nan, monotone_constraints=None,\n",
              "              multi_strategy=None, n_estimators=10, n_jobs=None,\n",
              "              num_parallel_tree=None, random_state=None, ...)</pre><b>In a Jupyter environment, please rerun this cell to show the HTML representation or trust the notebook. <br />On GitHub, the HTML representation is unable to render, please try loading this page with nbviewer.org.</b></div><div class=\"sk-container\" hidden><div class=\"sk-item\"><div class=\"sk-estimator sk-toggleable\"><input class=\"sk-toggleable__control sk-hidden--visually\" id=\"sk-estimator-id-4\" type=\"checkbox\" checked><label for=\"sk-estimator-id-4\" class=\"sk-toggleable__label sk-toggleable__label-arrow\">XGBClassifier</label><div class=\"sk-toggleable__content\"><pre>XGBClassifier(base_score=None, booster=None, callbacks=None,\n",
              "              colsample_bylevel=None, colsample_bynode=None,\n",
              "              colsample_bytree=None, device=None, early_stopping_rounds=None,\n",
              "              enable_categorical=False, eval_metric=&#x27;logloss&#x27;,\n",
              "              feature_types=None, gamma=None, grow_policy=None,\n",
              "              importance_type=None, interaction_constraints=None,\n",
              "              learning_rate=0.16999999999999998, max_bin=None,\n",
              "              max_cat_threshold=None, max_cat_to_onehot=None,\n",
              "              max_delta_step=None, max_depth=10, max_leaves=None,\n",
              "              min_child_weight=None, missing=nan, monotone_constraints=None,\n",
              "              multi_strategy=None, n_estimators=10, n_jobs=None,\n",
              "              num_parallel_tree=None, random_state=None, ...)</pre></div></div></div></div></div>"
            ]
          },
          "metadata": {},
          "execution_count": 7
        }
      ]
    },
    {
      "cell_type": "markdown",
      "source": [
        "- Evaluacion del modelo y muestra de la matriz de confusion"
      ],
      "metadata": {
        "id": "bUk5RX-Yyu7-"
      }
    },
    {
      "cell_type": "code",
      "source": [
        "# Hacer predicciones y evaluar el modelo\n",
        "y_pred = best_model.predict(X_test)\n",
        "accuracy = accuracy_score(y_test, y_pred)\n",
        "f1 = f1_score(y_test, y_pred)\n",
        "print(f\"Exactitud del modelo: {accuracy * 100:.2f}%\")\n",
        "print(f\"F1 Score: {f1:.2f}\")\n",
        "\n"
      ],
      "metadata": {
        "id": "_C8ukPcMyuZf",
        "colab": {
          "base_uri": "https://localhost:8080/"
        },
        "outputId": "577d6d9c-598b-4766-dda0-69e97478d13a"
      },
      "execution_count": 8,
      "outputs": [
        {
          "output_type": "stream",
          "name": "stdout",
          "text": [
            "Exactitud del modelo: 74.94%\n",
            "F1 Score: 0.76\n"
          ]
        }
      ]
    },
    {
      "cell_type": "code",
      "source": [
        "# Evaluar el modelo\n",
        "cm = confusion_matrix(y_test, y_pred)\n",
        "print(\"Matriz de confusión:\")\n",
        "sns.heatmap(cm, annot=True, fmt='d', cmap='Blues', xticklabels=label_encoder.classes_, yticklabels=label_encoder.classes_)\n",
        "plt.ylabel('Verdaderos')\n",
        "plt.xlabel('Predicciones')\n",
        "plt.title('Matriz de Confusión')\n",
        "plt.show()\n"
      ],
      "metadata": {
        "id": "5AXAL0ogVlfX",
        "colab": {
          "base_uri": "https://localhost:8080/",
          "height": 490
        },
        "outputId": "c6c38d25-454b-4bfd-b98a-dfa8667ca29f"
      },
      "execution_count": 9,
      "outputs": [
        {
          "output_type": "stream",
          "name": "stdout",
          "text": [
            "Matriz de confusión:\n"
          ]
        },
        {
          "output_type": "display_data",
          "data": {
            "text/plain": [
              "<Figure size 640x480 with 2 Axes>"
            ],
            "image/png": "[encoded data removed]"
          },
          "metadata": {}
        }
      ]
    },
    {
      "cell_type": "code",
      "source": [
        "# Imprimir métricas individuales\n",
        "accuracy = accuracy_score(y_test, y_pred)\n",
        "precision = precision_score(y_test, y_pred)\n",
        "recall = recall_score(y_test, y_pred)\n",
        "f1 = f1_score(y_test, y_pred)\n",
        "\n",
        "print(f\"Accuracy: {accuracy:.4f}\")\n",
        "print(f\"Precision: {precision:.4f}\")\n",
        "print(f\"Recall: {recall:.4f}\")\n",
        "print(f\"F1 Score: {f1:.4f}\")\n"
      ],
      "metadata": {
        "id": "S4gKd-HgVmoP",
        "colab": {
          "base_uri": "https://localhost:8080/"
        },
        "outputId": "a33ebe75-4ab8-44bd-dbbc-2cd4d244ce55"
      },
      "execution_count": 10,
      "outputs": [
        {
          "output_type": "stream",
          "name": "stdout",
          "text": [
            "Accuracy: 0.7494\n",
            "Precision: 0.7338\n",
            "Recall: 0.7888\n",
            "F1 Score: 0.7603\n"
          ]
        }
      ]
    },
    {
      "cell_type": "markdown",
      "source": [
        "- Guardado del modelo con pickle"
      ],
      "metadata": {
        "id": "CgvN2o-Fy6e8"
      }
    },
    {
      "cell_type": "code",
      "source": [
        "import pickle\n",
        "\n",
        "# Guardar el modelo XGBoost\n",
        "best_model.save_model('xgboost_optimizado.json')\n",
        "\n",
        "# Descargar los archivos (funciona en Google Colab)\n",
        "try:\n",
        "    from google.colab import files\n",
        "    files.download('xgboost_optimizado.json')\n",
        "\n",
        "except ImportError:\n",
        "    print(\"La función de descarga solo funciona en entornos como Google Colab.\")\n"
      ],
      "metadata": {
        "id": "wTw92iKny2hq",
        "colab": {
          "base_uri": "https://localhost:8080/",
          "height": 17
        },
        "outputId": "bf8fe556-8a0a-44d7-f0cd-44856bf10d96"
      },
      "execution_count": 13,
      "outputs": [
        {
          "output_type": "display_data",
          "data": {
            "text/plain": [
              "<IPython.core.display.Javascript object>"
            ],
            "application/javascript": [
              "\n",
              "    async function download(id, filename, size) {\n",
              "      if (!google.colab.kernel.accessAllowed) {\n",
              "        return;\n",
              "      }\n",
              "      const div = document.createElement('div');\n",
              "      const label = document.createElement('label');\n",
              "      label.textContent = `Downloading \"${filename}\": `;\n",
              "      div.appendChild(label);\n",
              "      const progress = document.createElement('progress');\n",
              "      progress.max = size;\n",
              "      div.appendChild(progress);\n",
              "      document.body.appendChild(div);\n",
              "\n",
              "      const buffers = [];\n",
              "      let downloaded = 0;\n",
              "\n",
              "      const channel = await google.colab.kernel.comms.open(id);\n",
              "      // Send a message to notify the kernel that we're ready.\n",
              "      channel.send({})\n",
              "\n",
              "      for await (const message of channel.messages) {\n",
              "        // Send a message to notify the kernel that we're ready.\n",
              "        channel.send({})\n",
              "        if (message.buffers) {\n",
              "          for (const buffer of message.buffers) {\n",
              "            buffers.push(buffer);\n",
              "            downloaded += buffer.byteLength;\n",
              "            progress.value = downloaded;\n",
              "          }\n",
              "        }\n",
              "      }\n",
              "      const blob = new Blob(buffers, {type: 'application/binary'});\n",
              "      const a = document.createElement('a');\n",
              "      a.href = window.URL.createObjectURL(blob);\n",
              "      a.download = filename;\n",
              "      div.appendChild(a);\n",
              "      a.click();\n",
              "      div.remove();\n",
              "    }\n",
              "  "
            ]
          },
          "metadata": {}
        },
        {
          "output_type": "display_data",
          "data": {
            "text/plain": [
              "<IPython.core.display.Javascript object>"
            ],
            "application/javascript": [
              "download(\"download_13013463-20dd-4386-b002-6f673395e120\", \"xgboost_optimizado.json\", 72877)"
            ]
          },
          "metadata": {}
        }
      ]
    },
    {
      "cell_type": "markdown",
      "source": [
        "> Prediccion con el dataset de Test"
      ],
      "metadata": {
        "id": "oT7kEejXy9O-"
      }
    },
    {
      "cell_type": "code",
      "source": [
        "\n",
        "\n",
        "test['review_es_clean'] = test['review_es_clean'].astype(str)\n",
        "\n",
        "# Transformar las características de prueba con el TfidfVectorizer\n",
        "test_features = tfidf.transform(test['review_es_clean'])\n",
        "\n",
        "# Hacer predicciones con el modelo\n",
        "test_predictions = best_model.predict(test_features)\n",
        "\n",
        "# Crear un DataFrame con los resultados\n",
        "output = pd.DataFrame(zip(test[\"ID\"], label_encoder.inverse_transform(test_predictions)), columns=['ID', 'sentimiento'])\n",
        "\n",
        "# Guardar las predicciones en un archivo CSV\n",
        "output.to_csv('prediccion_XGBoost.csv', index=False)\n",
        "\n",
        "# Descargar el archivo de predicciones (esto funcionará en entornos como Jupyter o Google Colab)\n",
        "try:\n",
        "    from google.colab import files\n",
        "    files.download('prediccion_XGBoost.csv')\n",
        "except ImportError:\n",
        "    print(\"La función de descarga solo funciona en entornos como Google Colab.\")\n"
      ],
      "metadata": {
        "id": "yyy9DyMoVntU",
        "colab": {
          "base_uri": "https://localhost:8080/",
          "height": 17
        },
        "outputId": "f1ef53df-1497-4c32-f1fb-160a0c60fb40"
      },
      "execution_count": 12,
      "outputs": [
        {
          "output_type": "display_data",
          "data": {
            "text/plain": [
              "<IPython.core.display.Javascript object>"
            ],
            "application/javascript": [
              "\n",
              "    async function download(id, filename, size) {\n",
              "      if (!google.colab.kernel.accessAllowed) {\n",
              "        return;\n",
              "      }\n",
              "      const div = document.createElement('div');\n",
              "      const label = document.createElement('label');\n",
              "      label.textContent = `Downloading \"${filename}\": `;\n",
              "      div.appendChild(label);\n",
              "      const progress = document.createElement('progress');\n",
              "      progress.max = size;\n",
              "      div.appendChild(progress);\n",
              "      document.body.appendChild(div);\n",
              "\n",
              "      const buffers = [];\n",
              "      let downloaded = 0;\n",
              "\n",
              "      const channel = await google.colab.kernel.comms.open(id);\n",
              "      // Send a message to notify the kernel that we're ready.\n",
              "      channel.send({})\n",
              "\n",
              "      for await (const message of channel.messages) {\n",
              "        // Send a message to notify the kernel that we're ready.\n",
              "        channel.send({})\n",
              "        if (message.buffers) {\n",
              "          for (const buffer of message.buffers) {\n",
              "            buffers.push(buffer);\n",
              "            downloaded += buffer.byteLength;\n",
              "            progress.value = downloaded;\n",
              "          }\n",
              "        }\n",
              "      }\n",
              "      const blob = new Blob(buffers, {type: 'application/binary'});\n",
              "      const a = document.createElement('a');\n",
              "      a.href = window.URL.createObjectURL(blob);\n",
              "      a.download = filename;\n",
              "      div.appendChild(a);\n",
              "      a.click();\n",
              "      div.remove();\n",
              "    }\n",
              "  "
            ]
          },
          "metadata": {}
        },
        {
          "output_type": "display_data",
          "data": {
            "text/plain": [
              "<IPython.core.display.Javascript object>"
            ],
            "application/javascript": [
              "download(\"download_f06078a0-fbf0-4347-8c98-23387f1d8ec4\", \"prediccion_XGBoost.csv\", 129000)"
            ]
          },
          "metadata": {}
        }
      ]
    }
  ]
}