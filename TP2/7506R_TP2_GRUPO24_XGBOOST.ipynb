{
  "nbformat": 4,
  "nbformat_minor": 0,
  "metadata": {
    "colab": {
      "provenance": [],
      "authorship_tag": "ABX9TyMLWPX/7FttLKMe0ragjS4/",
      "include_colab_link": true
    },
    "kernelspec": {
      "name": "python3",
      "display_name": "Python 3"
    },
    "language_info": {
      "name": "python"
    }
  },
  "cells": [
    {
      "cell_type": "markdown",
      "metadata": {
        "id": "view-in-github",
        "colab_type": "text"
      },
      "source": [
        "<a href=\"https://colab.research.google.com/github/lautitorraca/7506R-2C2023-GRUPO24/blob/main/TP2/7506R_TP2_GRUPO24_XGBOOST.ipynb\" target=\"_parent\"><img src=\"https://colab.research.google.com/assets/colab-badge.svg\" alt=\"Open In Colab\"/></a>"
      ]
    },
    {
      "cell_type": "markdown",
      "source": [
        "### 𝔾𝕣𝕦𝕡𝕠 𝟚𝟜 (Merequetengue👍)\n",
        "\n",
        "  ➢ Torraca Lautaro - 108813\n",
        "\n",
        "  ➢ Negrotti Gianluca - 108184\n",
        "\n",
        "  ➢ Marco Tosi - 107237"
      ],
      "metadata": {
        "id": "E6DJGpzfVEK8"
      }
    },
    {
      "cell_type": "code",
      "source": [
        "# !pip install scikit-optimize\n"
      ],
      "metadata": {
        "id": "Wc_srt86Xnyg"
      },
      "execution_count": 2,
      "outputs": []
    },
    {
      "cell_type": "markdown",
      "source": [
        "### > Imports"
      ],
      "metadata": {
        "id": "xwFcHtFhw_I1"
      }
    },
    {
      "cell_type": "code",
      "source": [
        "import pandas as pd\n",
        "import numpy as np\n",
        "from sklearn.model_selection import train_test_split, RandomizedSearchCV\n",
        "from sklearn.feature_extraction.text import TfidfVectorizer\n",
        "from sklearn.preprocessing import LabelEncoder\n",
        "from xgboost import XGBClassifier\n",
        "from sklearn.metrics import classification_report, f1_score, confusion_matrix\n",
        "from sklearn.metrics import precision_score, recall_score, accuracy_score, make_scorer\n",
        "import seaborn as sns\n",
        "import matplotlib.pyplot as plt\n",
        "from sklearn.pipeline import Pipeline\n",
        "from skopt import BayesSearchCV\n",
        "from skopt.space import Real, Categorical, Integer\n",
        "import pickle\n"
      ],
      "metadata": {
        "id": "tqbJe45uV_rK",
        "colab": {
          "base_uri": "https://localhost:8080/",
          "height": 401
        },
        "outputId": "46ab22b2-001f-48da-f152-0fd5eb7a3608"
      },
      "execution_count": 3,
      "outputs": [
        {
          "output_type": "error",
          "ename": "ModuleNotFoundError",
          "evalue": "ignored",
          "traceback": [
            "\u001b[0;31m---------------------------------------------------------------------------\u001b[0m",
            "\u001b[0;31mModuleNotFoundError\u001b[0m                       Traceback (most recent call last)",
            "\u001b[0;32m<ipython-input-3-ca7ce7429be1>\u001b[0m in \u001b[0;36m<cell line: 12>\u001b[0;34m()\u001b[0m\n\u001b[1;32m     10\u001b[0m \u001b[0;32mimport\u001b[0m \u001b[0mmatplotlib\u001b[0m\u001b[0;34m.\u001b[0m\u001b[0mpyplot\u001b[0m \u001b[0;32mas\u001b[0m \u001b[0mplt\u001b[0m\u001b[0;34m\u001b[0m\u001b[0;34m\u001b[0m\u001b[0m\n\u001b[1;32m     11\u001b[0m \u001b[0;32mfrom\u001b[0m \u001b[0msklearn\u001b[0m\u001b[0;34m.\u001b[0m\u001b[0mpipeline\u001b[0m \u001b[0;32mimport\u001b[0m \u001b[0mPipeline\u001b[0m\u001b[0;34m\u001b[0m\u001b[0;34m\u001b[0m\u001b[0m\n\u001b[0;32m---> 12\u001b[0;31m \u001b[0;32mfrom\u001b[0m \u001b[0mskopt\u001b[0m \u001b[0;32mimport\u001b[0m \u001b[0mBayesSearchCV\u001b[0m\u001b[0;34m\u001b[0m\u001b[0;34m\u001b[0m\u001b[0m\n\u001b[0m\u001b[1;32m     13\u001b[0m \u001b[0;32mfrom\u001b[0m \u001b[0mskopt\u001b[0m\u001b[0;34m.\u001b[0m\u001b[0mspace\u001b[0m \u001b[0;32mimport\u001b[0m \u001b[0mReal\u001b[0m\u001b[0;34m,\u001b[0m \u001b[0mCategorical\u001b[0m\u001b[0;34m,\u001b[0m \u001b[0mInteger\u001b[0m\u001b[0;34m\u001b[0m\u001b[0;34m\u001b[0m\u001b[0m\n\u001b[1;32m     14\u001b[0m \u001b[0;32mimport\u001b[0m \u001b[0mpickle\u001b[0m\u001b[0;34m\u001b[0m\u001b[0;34m\u001b[0m\u001b[0m\n",
            "\u001b[0;31mModuleNotFoundError\u001b[0m: No module named 'skopt'",
            "",
            "\u001b[0;31m---------------------------------------------------------------------------\u001b[0;32m\nNOTE: If your import is failing due to a missing package, you can\nmanually install dependencies using either !pip or !apt.\n\nTo view examples of installing some common dependencies, click the\n\"Open Examples\" button below.\n\u001b[0;31m---------------------------------------------------------------------------\u001b[0m\n"
          ],
          "errorDetails": {
            "actions": [
              {
                "action": "open_url",
                "actionText": "Open Examples",
                "url": "/notebooks/snippets/importing_libraries.ipynb"
              }
            ]
          }
        }
      ]
    },
    {
      "cell_type": "markdown",
      "source": [
        "### > Lectura de los datasets"
      ],
      "metadata": {
        "id": "-m-FsGi0xBwQ"
      }
    },
    {
      "cell_type": "code",
      "source": [
        "\n",
        "url_train = '/content/train_limpio.csv'\n",
        "url_test = '/content/test_limpio.csv'\n",
        "\n",
        "train = pd.read_csv(url_train)\n",
        "test = pd.read_csv(url_test)\n"
      ],
      "metadata": {
        "id": "FiK6UQpqxCS9"
      },
      "execution_count": null,
      "outputs": []
    },
    {
      "cell_type": "markdown",
      "source": [
        "### XGBOOST"
      ],
      "metadata": {
        "id": "zVRoNvXxxS30"
      }
    },
    {
      "cell_type": "markdown",
      "source": [
        "- Division y preprocesamiento de los datos"
      ],
      "metadata": {
        "id": "E4-NwRp6yMwk"
      }
    },
    {
      "cell_type": "code",
      "source": [
        "\n",
        "\n",
        "# Dividir el dataset en conjuntos de entrenamiento y prueba\n",
        "train_df, test_df = train_test_split(train, test_size=0.3, random_state=42)\n",
        "\n",
        "# Preprocesamiento de los datos\n",
        "tfidf = TfidfVectorizer(max_features=5000)\n",
        "X_train = tfidf.fit_transform(train_df['review_es_clean']).toarray()\n",
        "X_test = tfidf.transform(test_df['review_es_clean']).toarray()\n",
        "\n"
      ],
      "metadata": {
        "id": "KwAtAmV2TrG2"
      },
      "execution_count": null,
      "outputs": []
    },
    {
      "cell_type": "markdown",
      "source": [
        "- Codifacion del texto con laber encoder"
      ],
      "metadata": {
        "id": "SjCKp-fmyYsF"
      }
    },
    {
      "cell_type": "code",
      "source": [
        "# Codificar la variable objetivo\n",
        "label_encoder = LabelEncoder()\n",
        "y_train = label_encoder.fit_transform(train_df['sentimiento'])\n",
        "y_test = label_encoder.transform(test_df['sentimiento'])\n"
      ],
      "metadata": {
        "id": "__2oh42wyaIR"
      },
      "execution_count": null,
      "outputs": []
    },
    {
      "cell_type": "markdown",
      "source": [
        "- Creacion del predictor y ptimizacion de hiperparametros  con BayesSearch cross validation"
      ],
      "metadata": {
        "id": "4-_dTw7NyeWW"
      }
    },
    {
      "cell_type": "code",
      "source": [
        "# Definir el espacio de búsqueda de hiperparámetros\n",
        "search_space = {\n",
        "    'max_depth': list(np.arange(10, 20, 50)),\n",
        "    'learning_rate':list(np.arange(0.1, 0.2, 0.01)),\n",
        "    'n_estimators': list(np.arange(10, 50, 500)),\n",
        "    'subsample': list(np.arange(0.05, 0.1, 0.5))\n",
        "}\n",
        "\n",
        "# Crear el modelo XGBoost\n",
        "model = XGBClassifier(objective='binary:logistic', eval_metric='logloss')\n",
        "\n",
        "# Crear el objeto BayesSearchCV\n",
        "opt = BayesSearchCV(\n",
        "    model,\n",
        "    search_space,\n",
        "    n_iter=10,  # Reducido para mayor eficiencia\n",
        "    scoring=make_scorer(f1_score),\n",
        "    random_state=42,\n",
        "    cv=2  # Reducido para mayor eficiencia\n",
        ")\n",
        "\n",
        "# Ejecutar la búsqueda bayesiana\n",
        "opt.fit(X_train, y_train)\n",
        "\n"
      ],
      "metadata": {
        "id": "wKRY6j0oycD8"
      },
      "execution_count": null,
      "outputs": []
    },
    {
      "cell_type": "markdown",
      "source": [
        "- Muestra de los mejores hiperparametros y entranmeinto del modelo"
      ],
      "metadata": {
        "id": "U1ioNEDJyo6I"
      }
    },
    {
      "cell_type": "code",
      "source": [
        "# Mejores parámetros encontrados\n",
        "print(\"Mejores parámetros: \", opt.best_params_)\n",
        "\n",
        "# Entrenar el modelo con los mejores parámetros\n",
        "best_model = XGBClassifier(**opt.best_params_, objective='binary:logistic', eval_metric='logloss')\n",
        "best_model.fit(X_train, y_train)\n"
      ],
      "metadata": {
        "id": "jIwXC_hcylgn"
      },
      "execution_count": null,
      "outputs": []
    },
    {
      "cell_type": "markdown",
      "source": [
        "- Evaluacion del modelo y muestra de la matriz de confusion"
      ],
      "metadata": {
        "id": "bUk5RX-Yyu7-"
      }
    },
    {
      "cell_type": "code",
      "source": [
        "# Hacer predicciones y evaluar el modelo\n",
        "y_pred = best_model.predict(X_test)\n",
        "accuracy = accuracy_score(y_test, y_pred)\n",
        "f1 = f1_score(y_test, y_pred)\n",
        "print(f\"Exactitud del modelo: {accuracy * 100:.2f}%\")\n",
        "print(f\"F1 Score: {f1:.2f}\")\n",
        "\n"
      ],
      "metadata": {
        "id": "_C8ukPcMyuZf"
      },
      "execution_count": null,
      "outputs": []
    },
    {
      "cell_type": "code",
      "source": [
        "# Evaluar el modelo\n",
        "cm = confusion_matrix(y_test, y_pred)\n",
        "print(\"Matriz de confusión:\")\n",
        "sns.heatmap(cm, annot=True, fmt='d', cmap='Blues', xticklabels=label_encoder.classes_, yticklabels=label_encoder.classes_)\n",
        "plt.ylabel('Verdaderos')\n",
        "plt.xlabel('Predicciones')\n",
        "plt.title('Matriz de Confusión')\n",
        "plt.show()\n"
      ],
      "metadata": {
        "id": "5AXAL0ogVlfX"
      },
      "execution_count": null,
      "outputs": []
    },
    {
      "cell_type": "code",
      "source": [
        "# Imprimir métricas individuales\n",
        "accuracy = accuracy_score(y_test, y_pred)\n",
        "precision = precision_score(y_test, y_pred)\n",
        "recall = recall_score(y_test, y_pred)\n",
        "f1 = f1_score(y_test, y_pred)\n",
        "\n",
        "print(f\"Accuracy: {accuracy:.4f}\")\n",
        "print(f\"Precision: {precision:.4f}\")\n",
        "print(f\"Recall: {recall:.4f}\")\n",
        "print(f\"F1 Score: {f1:.4f}\")\n"
      ],
      "metadata": {
        "id": "S4gKd-HgVmoP"
      },
      "execution_count": null,
      "outputs": []
    },
    {
      "cell_type": "markdown",
      "source": [
        "- Guardado del modelo con pickle"
      ],
      "metadata": {
        "id": "CgvN2o-Fy6e8"
      }
    },
    {
      "cell_type": "code",
      "source": [
        "import pickle\n",
        "\n",
        "# Guardar el modelo XGBoost\n",
        "best_model.save_model('xgboost_optimizado.json')\n",
        "\n",
        "# Guardar el vectorizador TF-IDF\n",
        "with open('tfidf_vectorizer_xgboost.pkl', 'wb') as tfidf_model_file:\n",
        "    pickle.dump(tfidf, tfidf_model_file)\n",
        "\n",
        "# Descargar los archivos (funciona en Google Colab)\n",
        "try:\n",
        "    from google.colab import files\n",
        "    files.download('xgboost_optimizado.json')\n",
        "    files.download('tfidf_vectorizer.pkl')\n",
        "except ImportError:\n",
        "    print(\"La función de descarga solo funciona en entornos como Google Colab.\")\n"
      ],
      "metadata": {
        "id": "wTw92iKny2hq"
      },
      "execution_count": null,
      "outputs": []
    },
    {
      "cell_type": "markdown",
      "source": [
        "> Prediccion con el dataset de Test"
      ],
      "metadata": {
        "id": "oT7kEejXy9O-"
      }
    },
    {
      "cell_type": "code",
      "source": [
        "\n",
        "\n",
        "test['review_es_clean'] = test['review_es_clean'].astype(str)\n",
        "\n",
        "# Transformar las características de prueba con el TfidfVectorizer\n",
        "test_features = tfidf.transform(test['review_es_clean'])\n",
        "\n",
        "# Hacer predicciones con el modelo\n",
        "test_predictions = best_model.predict(test_features)\n",
        "\n",
        "# Crear un DataFrame con los resultados\n",
        "output = pd.DataFrame(zip(test[\"ID\"], label_encoder.inverse_transform(test_predictions)), columns=['ID', 'sentimiento'])\n",
        "\n",
        "# Guardar las predicciones en un archivo CSV\n",
        "output.to_csv('prediccion_XGBoost.csv', index=False)\n",
        "\n",
        "# Descargar el archivo de predicciones (esto funcionará en entornos como Jupyter o Google Colab)\n",
        "try:\n",
        "    from google.colab import files\n",
        "    files.download('prediccion_XGBoost.csv')\n",
        "except ImportError:\n",
        "    print(\"La función de descarga solo funciona en entornos como Google Colab.\")\n"
      ],
      "metadata": {
        "id": "yyy9DyMoVntU"
      },
      "execution_count": null,
      "outputs": []
    }
  ]
}