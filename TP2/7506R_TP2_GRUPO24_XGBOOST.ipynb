{
  "nbformat": 4,
  "nbformat_minor": 0,
  "metadata": {
    "colab": {
      "provenance": [],
      "mount_file_id": "1Tc0wr5UrtOOWscV69v-TV-ZrsX_mjr-T",
      "authorship_tag": "ABX9TyMCz8YevUfHbKB04VkLTNi2",
      "include_colab_link": true
    },
    "kernelspec": {
      "name": "python3",
      "display_name": "Python 3"
    },
    "language_info": {
      "name": "python"
    }
  },
  "cells": [
    {
      "cell_type": "markdown",
      "metadata": {
        "id": "view-in-github",
        "colab_type": "text"
      },
      "source": [
        "<a href=\"https://colab.research.google.com/github/lautitorraca/7506R-2C2023-GRUPO24/blob/main/TP2/7506R_TP2_GRUPO24_XGBOOST.ipynb\" target=\"_parent\"><img src=\"https://colab.research.google.com/assets/colab-badge.svg\" alt=\"Open In Colab\"/></a>"
      ]
    },
    {
      "cell_type": "markdown",
      "source": [
        "### 𝔾𝕣𝕦𝕡𝕠 𝟚𝟜 (Merequetengue👍)\n",
        "\n",
        "  ➢ Torraca Lautaro - 108813\n",
        "\n",
        "  ➢ Negrotti Gianluca - 108184\n",
        "\n",
        "  ➢ Marco Tosi - 107237"
      ],
      "metadata": {
        "id": "E6DJGpzfVEK8"
      }
    },
    {
      "cell_type": "code",
      "source": [
        "!pip install scikit-optimize\n"
      ],
      "metadata": {
        "id": "Wc_srt86Xnyg",
        "colab": {
          "base_uri": "https://localhost:8080/"
        },
        "outputId": "8183236f-cdc5-43b9-a803-4b16da2631b7"
      },
      "execution_count": null,
      "outputs": [
        {
          "output_type": "stream",
          "name": "stdout",
          "text": [
            "Requirement already satisfied: scikit-optimize in /usr/local/lib/python3.10/dist-packages (0.9.0)\n",
            "Requirement already satisfied: joblib>=0.11 in /usr/local/lib/python3.10/dist-packages (from scikit-optimize) (1.3.2)\n",
            "Requirement already satisfied: pyaml>=16.9 in /usr/local/lib/python3.10/dist-packages (from scikit-optimize) (23.9.7)\n",
            "Requirement already satisfied: numpy>=1.13.3 in /usr/local/lib/python3.10/dist-packages (from scikit-optimize) (1.23.5)\n",
            "Requirement already satisfied: scipy>=0.19.1 in /usr/local/lib/python3.10/dist-packages (from scikit-optimize) (1.11.4)\n",
            "Requirement already satisfied: scikit-learn>=0.20.0 in /usr/local/lib/python3.10/dist-packages (from scikit-optimize) (1.2.2)\n",
            "Requirement already satisfied: PyYAML in /usr/local/lib/python3.10/dist-packages (from pyaml>=16.9->scikit-optimize) (6.0.1)\n",
            "Requirement already satisfied: threadpoolctl>=2.0.0 in /usr/local/lib/python3.10/dist-packages (from scikit-learn>=0.20.0->scikit-optimize) (3.2.0)\n"
          ]
        }
      ]
    },
    {
      "cell_type": "markdown",
      "source": [
        "### > Imports"
      ],
      "metadata": {
        "id": "xwFcHtFhw_I1"
      }
    },
    {
      "cell_type": "code",
      "source": [
        "import pandas as pd\n",
        "import numpy as np\n",
        "from sklearn.model_selection import train_test_split, RandomizedSearchCV\n",
        "from sklearn.feature_extraction.text import TfidfVectorizer\n",
        "from sklearn.preprocessing import LabelEncoder\n",
        "from xgboost import XGBClassifier\n",
        "from sklearn.metrics import classification_report, f1_score, confusion_matrix\n",
        "from sklearn.metrics import precision_score, recall_score, accuracy_score, make_scorer\n",
        "import seaborn as sns\n",
        "import matplotlib.pyplot as plt\n",
        "from sklearn.pipeline import Pipeline\n",
        "from skopt import BayesSearchCV\n",
        "from skopt.space import Real, Categorical, Integer\n",
        "import pickle\n"
      ],
      "metadata": {
        "id": "tqbJe45uV_rK"
      },
      "execution_count": null,
      "outputs": []
    },
    {
      "cell_type": "markdown",
      "source": [
        "### > Lectura de los datasets"
      ],
      "metadata": {
        "id": "-m-FsGi0xBwQ"
      }
    },
    {
      "cell_type": "code",
      "source": [
        "url_train = '/content/drive/MyDrive/Colab Notebooks/train_limpio.csv'\n",
        "url_test = '/content/drive/MyDrive/Colab Notebooks/test_limpio.csv'\n",
        "\n",
        "train = pd.read_csv(url_train)\n",
        "test = pd.read_csv(url_test)\n",
        "\n",
        "train = pd.read_csv(url_train)\n",
        "test = pd.read_csv(url_test)\n"
      ],
      "metadata": {
        "id": "FiK6UQpqxCS9"
      },
      "execution_count": null,
      "outputs": []
    },
    {
      "cell_type": "markdown",
      "source": [
        "### XGBOOST"
      ],
      "metadata": {
        "id": "zVRoNvXxxS30"
      }
    },
    {
      "cell_type": "markdown",
      "source": [
        "- Division y preprocesamiento de los datos\n",
        "\n",
        "\n",
        "\n"
      ],
      "metadata": {
        "id": "E4-NwRp6yMwk"
      }
    },
    {
      "cell_type": "code",
      "source": [
        "\n",
        "from sklearn.feature_extraction.text import TfidfVectorizer\n",
        "\n",
        "# Dividir el dataset en conjuntos de entrenamiento y prueba\n",
        "train_df, test_df = train_test_split(train, test_size=0.05, random_state=42)\n",
        "\n",
        "# Preprocesamiento de los datos con parámetros ajustados\n",
        "tfidf = TfidfVectorizer(\n",
        "    max_features=6000,  # Reducido para mejorar el rendimiento\n",
        "    ngram_range=(1, 2),  # Considerar unigramas y bigramas\n",
        "    min_df=5,  # Ignorar términos que aparecen en menos de 5 documentos\n",
        "    max_df=0.9,  # Ignorar términos que aparecen en más del 90% de los documentos\n",
        "    sublinear_tf=True,  # Aplicar escala logarítmica a la frecuencia de términos\n",
        "    norm='l1', # Normalización por filas (cada fila suma 1)\n",
        "    strip_accents='unicode' # Remueve acentos y tildes\n",
        "\n",
        ")\n",
        "\n",
        "X_train = tfidf.fit_transform(train_df['review_es_clean']).toarray()\n",
        "y_train = train_df['sentimiento'].values\n",
        "\n",
        "X_test = tfidf.transform(test_df['review_es_clean']).toarray()\n",
        "y_test = test_df['sentimiento'].values"
      ],
      "metadata": {
        "id": "KwAtAmV2TrG2"
      },
      "execution_count": null,
      "outputs": []
    },
    {
      "cell_type": "markdown",
      "source": [
        "- Encodeado de y_train e y_test con label encoder"
      ],
      "metadata": {
        "id": "6e2hm1xxqCmh"
      }
    },
    {
      "cell_type": "code",
      "source": [
        "from sklearn.preprocessing import LabelEncoder\n",
        "\n",
        "\n",
        "label_encoder = LabelEncoder()\n",
        "y_train = label_encoder.fit_transform(train_df['sentimiento'])\n",
        "y_test = label_encoder.transform(test_df['sentimiento'])\n",
        "\n"
      ],
      "metadata": {
        "id": "kJspK1qsqB6O"
      },
      "execution_count": null,
      "outputs": []
    },
    {
      "cell_type": "markdown",
      "source": [
        "- Creacion del predictor y ptimizacion de hiperparametros  con BayesSearch cross validation"
      ],
      "metadata": {
        "id": "4-_dTw7NyeWW"
      }
    },
    {
      "cell_type": "code",
      "source": [
        "# Definir el espacio de búsqueda de hiperparámetros\n",
        "\n",
        "search_space = {\n",
        "    'max_depth': list(np.arange(10, 20, 50)),\n",
        "    'learning_rate':list(np.arange(0.1, 0.2, 0.01)),\n",
        "    'n_estimators': list(np.arange(10, 50, 500)),\n",
        "    'subsample': list(np.arange(0.05, 0.1, 0.5))\n",
        "}\n",
        "\n",
        "# Crear el modelo XGBoost\n",
        "model = XGBClassifier(objective='binary:logistic', eval_metric='logloss',  n_jobs=-1)\n",
        "\n",
        "# Crear el objeto BayesSearchCV\n",
        "opt = BayesSearchCV(\n",
        "    model,\n",
        "    search_space,\n",
        "    n_iter=5,\n",
        "    scoring=make_scorer(f1_score),\n",
        "    random_state=42,\n",
        "    cv=2\n",
        ")\n",
        "\n",
        "# Ejecutar la búsqueda bayesiana\n",
        "opt.fit(X_train, y_train)\n",
        "\n"
      ],
      "metadata": {
        "id": "wKRY6j0oycD8"
      },
      "execution_count": null,
      "outputs": []
    },
    {
      "cell_type": "markdown",
      "source": [
        "- Muestra de los mejores hiperparametros y entranmeinto del modelo"
      ],
      "metadata": {
        "id": "U1ioNEDJyo6I"
      }
    },
    {
      "cell_type": "code",
      "source": [
        "# Mejores parámetros encontrados\n",
        "print(\"Mejores parámetros: \", opt.best_params_)\n",
        "\n",
        "# Entrenar el modelo con los mejores parámetros\n",
        "best_model = XGBClassifier(**opt.best_params_, objective='binary:logistic', eval_metric='logloss')\n",
        "best_model.fit(X_train, y_train)\n"
      ],
      "metadata": {
        "id": "jIwXC_hcylgn"
      },
      "execution_count": null,
      "outputs": []
    },
    {
      "cell_type": "markdown",
      "source": [
        "- Evaluacion del modelo y muestra de la matriz de confusion"
      ],
      "metadata": {
        "id": "bUk5RX-Yyu7-"
      }
    },
    {
      "cell_type": "code",
      "source": [
        "# Hacer predicciones y evaluar el modelo\n",
        "y_pred = best_model.predict(X_test)\n",
        "accuracy = accuracy_score(y_test, y_pred)\n",
        "f1 = f1_score(y_test, y_pred)\n",
        "print(f\"Exactitud del modelo: {accuracy * 100:.2f}%\")\n",
        "print(f\"F1 Score: {f1:.2f}\")\n",
        "\n"
      ],
      "metadata": {
        "id": "_C8ukPcMyuZf"
      },
      "execution_count": null,
      "outputs": []
    },
    {
      "cell_type": "code",
      "source": [
        "# Evaluar el modelo\n",
        "cm = confusion_matrix(y_test, y_pred)\n",
        "print(\"Matriz de confusión:\")\n",
        "sns.heatmap(cm, annot=True, fmt='d', cmap='Blues', xticklabels=label_encoder.classes_, yticklabels=label_encoder.classes_)\n",
        "plt.ylabel('Verdaderos')\n",
        "plt.xlabel('Predicciones')\n",
        "plt.title('Matriz de Confusión')\n",
        "plt.show()\n"
      ],
      "metadata": {
        "id": "5AXAL0ogVlfX"
      },
      "execution_count": null,
      "outputs": []
    },
    {
      "cell_type": "code",
      "source": [
        "# Imprimir métricas individuales\n",
        "accuracy = accuracy_score(y_test, y_pred)\n",
        "precision = precision_score(y_test, y_pred)\n",
        "recall = recall_score(y_test, y_pred)\n",
        "f1 = f1_score(y_test, y_pred)\n",
        "\n",
        "print(f\"Accuracy: {accuracy:.4f}\")\n",
        "print(f\"Precision: {precision:.4f}\")\n",
        "print(f\"Recall: {recall:.4f}\")\n",
        "print(f\"F1 Score: {f1:.4f}\")\n"
      ],
      "metadata": {
        "id": "S4gKd-HgVmoP"
      },
      "execution_count": null,
      "outputs": []
    },
    {
      "cell_type": "markdown",
      "source": [
        "- Guardado del modelo con pickle"
      ],
      "metadata": {
        "id": "CgvN2o-Fy6e8"
      }
    },
    {
      "cell_type": "code",
      "source": [
        "import pickle\n",
        "\n",
        "# Guardar el modelo XGBoost\n",
        "best_model.save_model('xgboost_optimizado.json')\n",
        "\n",
        "# Descargar los archivos (funciona en Google Colab)\n",
        "try:\n",
        "    from google.colab import files\n",
        "    files.download('xgboost_optimizado.json')\n",
        "\n",
        "except ImportError:\n",
        "    print(\"La función de descarga solo funciona en entornos como Google Colab.\")\n"
      ],
      "metadata": {
        "id": "wTw92iKny2hq"
      },
      "execution_count": null,
      "outputs": []
    },
    {
      "cell_type": "markdown",
      "source": [
        "> Prediccion con el dataset de Test"
      ],
      "metadata": {
        "id": "oT7kEejXy9O-"
      }
    },
    {
      "cell_type": "code",
      "source": [
        "\n",
        "\n",
        "test['review_es_clean'] = test['review_es_clean'].astype(str)\n",
        "\n",
        "# Transformar las características de prueba con el TfidfVectorizer\n",
        "test_features = tfidf.transform(test['review_es_clean'])\n",
        "\n",
        "# Hacer predicciones con el modelo\n",
        "test_predictions = best_model.predict(test_features)\n",
        "\n",
        "# Crear un DataFrame con los resultados\n",
        "output = pd.DataFrame(zip(test[\"ID\"], label_encoder.inverse_transform(test_predictions)), columns=['ID', 'sentimiento'])\n",
        "\n",
        "# Guardar las predicciones en un archivo CSV\n",
        "output.to_csv('prediccion_XGBoost.csv', index=False)\n",
        "\n",
        "# Descargar el archivo de predicciones (esto funcionará en entornos como Jupyter o Google Colab)\n",
        "try:\n",
        "    from google.colab import files\n",
        "    files.download('prediccion_XGBoost.csv')\n",
        "except ImportError:\n",
        "    print(\"La función de descarga solo funciona en entornos como Google Colab.\")\n"
      ],
      "metadata": {
        "id": "yyy9DyMoVntU"
      },
      "execution_count": null,
      "outputs": []
    }
  ]
}