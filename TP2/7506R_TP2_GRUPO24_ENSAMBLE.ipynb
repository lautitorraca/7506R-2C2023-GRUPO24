{
  "nbformat": 4,
  "nbformat_minor": 0,
  "metadata": {
    "colab": {
      "provenance": [],
      "include_colab_link": true
    },
    "kernelspec": {
      "name": "python3",
      "display_name": "Python 3"
    },
    "language_info": {
      "name": "python"
    }
  },
  "cells": [
    {
      "cell_type": "markdown",
      "metadata": {
        "id": "view-in-github",
        "colab_type": "text"
      },
      "source": [
        "<a href=\"https://colab.research.google.com/github/lautitorraca/7506R-2C2023-GRUPO24/blob/main/TP2/7506R_TP2_GRUPO24_ENSAMBLE.ipynb\" target=\"_parent\"><img src=\"https://colab.research.google.com/assets/colab-badge.svg\" alt=\"Open In Colab\"/></a>"
      ]
    },
    {
      "cell_type": "markdown",
      "source": [
        "### 𝔾𝕣𝕦𝕡𝕠 𝟚𝟜 (Merequetengue👍)\n",
        "\n",
        "  ➢ Torraca Lautaro - 108813\n",
        "\n",
        "  ➢ Negrotti Gianluca - 108184\n",
        "\n",
        "  ➢ Marco Tosi - 107237"
      ],
      "metadata": {
        "id": "PBWnDmM-ZHIf"
      }
    },
    {
      "cell_type": "markdown",
      "source": [
        "### > Imports"
      ],
      "metadata": {
        "id": "llCiSo15ZLjV"
      }
    },
    {
      "cell_type": "code",
      "execution_count": null,
      "metadata": {
        "id": "xtYQqoZzIH-t"
      },
      "outputs": [],
      "source": [
        "import pandas as pd\n",
        "import pickle\n",
        "from sklearn.model_selection import train_test_split\n",
        "from sklearn.feature_extraction.text import TfidfVectorizer\n",
        "from sklearn.ensemble import RandomForestClassifier, VotingClassifier, StackingClassifier\n",
        "from xgboost import XGBClassifier\n",
        "from sklearn.naive_bayes import MultinomialNB\n",
        "from sklearn.metrics import accuracy_score,precision_score, recall_score, f1_score, confusion_matrix\n",
        "import matplotlib.pyplot as plt\n",
        "from sklearn.preprocessing import LabelEncoder\n",
        "import seaborn as sns\n",
        "from sklearn.linear_model import LogisticRegression\n",
        "\n"
      ]
    },
    {
      "cell_type": "markdown",
      "source": [
        "### > Lectura de los datasets"
      ],
      "metadata": {
        "id": "bnNQcTCmZd7w"
      }
    },
    {
      "cell_type": "code",
      "source": [
        "url_train = '/content/train_limpio.csv'\n",
        "url_test = '/content/test_limpio.csv'\n",
        "\n",
        "df_train = pd.read_csv(url_train)\n",
        "df_test = pd.read_csv(url_test)\n",
        "\n",
        "train = df_train.copy()\n",
        "test = df_test.copy()"
      ],
      "metadata": {
        "id": "pvKLaA6kJJtk"
      },
      "execution_count": null,
      "outputs": []
    },
    {
      "cell_type": "markdown",
      "source": [
        "### > Ensamble Voting"
      ],
      "metadata": {
        "id": "H3CYUxT2cVjY"
      }
    },
    {
      "cell_type": "markdown",
      "source": [
        "- Division y vecotirzacion de los textos"
      ],
      "metadata": {
        "id": "PIU-e7QwcYyz"
      }
    },
    {
      "cell_type": "code",
      "source": [
        "print(train['sentimiento'].value_counts())"
      ],
      "metadata": {
        "colab": {
          "base_uri": "https://localhost:8080/"
        },
        "id": "6mFKOuyXgPyU",
        "outputId": "c0402580-c1f0-495f-a0e7-5fef88927b29"
      },
      "execution_count": null,
      "outputs": [
        {
          "output_type": "stream",
          "name": "stdout",
          "text": [
            "positivo    25000\n",
            "negativo    25000\n",
            "Name: sentimiento, dtype: int64\n"
          ]
        }
      ]
    },
    {
      "cell_type": "code",
      "source": [
        "\n",
        "# Separar los datos en características y objetivo\n",
        "X = train['review_es_clean']\n",
        "y = train['sentimiento'].apply(lambda x: 1 if x == 'positiva' else 0)\n",
        "\n",
        "#Encodeado de los textos\n",
        "label_encoder = LabelEncoder()\n",
        "y_encoded = label_encoder.fit_transform(train['sentimiento'])\n",
        "\n",
        "\n",
        "# Dividir los datos en conjuntos de entrenamiento y prueba\n",
        "X_train, X_test, y_train, y_test = train_test_split(X, y_encoded, test_size=0.2, random_state=42, stratify= train['sentimiento'],\n",
        "                                                    shuffle=True)\n",
        "\n",
        "# Vectorización de los textos\n",
        "vectorizer = TfidfVectorizer()\n",
        "X_train_tfidf = vectorizer.fit_transform(X_train)\n",
        "X_test_tfidf = vectorizer.transform(X_test)\n",
        "\n"
      ],
      "metadata": {
        "id": "kNqT1jAGUunl"
      },
      "execution_count": null,
      "outputs": []
    },
    {
      "cell_type": "markdown",
      "source": [
        "- Creacion de los modelos y creacion del ensamble"
      ],
      "metadata": {
        "id": "LLUJTchVckYn"
      }
    },
    {
      "cell_type": "code",
      "source": [
        "# Crear los modelos\n",
        "rf = RandomForestClassifier(n_estimators=100, random_state=42)\n",
        "nb = MultinomialNB()\n",
        "xgb = XGBClassifier(use_label_encoder=False, eval_metric='logloss')\n",
        "\n",
        "# Ensamble Voting Classifier\n",
        "voting_clf = VotingClassifier(estimators=[('rf', rf), ('nb', nb), ('xgb', xgb)], voting='soft')\n"
      ],
      "metadata": {
        "id": "2AjNtX1ecgzp"
      },
      "execution_count": null,
      "outputs": []
    },
    {
      "cell_type": "markdown",
      "source": [
        "- Entrenamiento y prediccion"
      ],
      "metadata": {
        "id": "PlR4ZVRscvPC"
      }
    },
    {
      "cell_type": "code",
      "source": [
        "# Entrenar el modelo de ensamble\n",
        "voting_clf.fit(X_train_tfidf, y_train)\n",
        "\n",
        "# Predeccion\n",
        "y_pred = voting_clf.predict(X_test_tfidf)"
      ],
      "metadata": {
        "id": "ZadVTRIw4bla"
      },
      "execution_count": null,
      "outputs": []
    },
    {
      "cell_type": "markdown",
      "source": [
        "- Guardado del modelo con pickle"
      ],
      "metadata": {
        "id": "EN0N7DTGc0XG"
      }
    },
    {
      "cell_type": "code",
      "source": [
        "# Guardar el modelo entrenado\n",
        "with open('ensamble_voting.pkl', 'wb') as file:\n",
        "    pickle.dump(voting_clf, file)\n",
        "\n",
        "# Descargar el archivO\n",
        "try:\n",
        "    from google.colab import files\n",
        "    files.download('ensamble_voting.pkl')\n",
        "except ImportError:\n",
        "    print(\"Error\")"
      ],
      "metadata": {
        "colab": {
          "base_uri": "https://localhost:8080/",
          "height": 34
        },
        "id": "i-cUHPpdc5O1",
        "outputId": "624a70ce-db69-4313-c6f3-3fd3b43704a7"
      },
      "execution_count": null,
      "outputs": [
        {
          "output_type": "display_data",
          "data": {
            "text/plain": [
              "<IPython.core.display.Javascript object>"
            ],
            "application/javascript": [
              "\n",
              "    async function download(id, filename, size) {\n",
              "      if (!google.colab.kernel.accessAllowed) {\n",
              "        return;\n",
              "      }\n",
              "      const div = document.createElement('div');\n",
              "      const label = document.createElement('label');\n",
              "      label.textContent = `Downloading \"${filename}\": `;\n",
              "      div.appendChild(label);\n",
              "      const progress = document.createElement('progress');\n",
              "      progress.max = size;\n",
              "      div.appendChild(progress);\n",
              "      document.body.appendChild(div);\n",
              "\n",
              "      const buffers = [];\n",
              "      let downloaded = 0;\n",
              "\n",
              "      const channel = await google.colab.kernel.comms.open(id);\n",
              "      // Send a message to notify the kernel that we're ready.\n",
              "      channel.send({})\n",
              "\n",
              "      for await (const message of channel.messages) {\n",
              "        // Send a message to notify the kernel that we're ready.\n",
              "        channel.send({})\n",
              "        if (message.buffers) {\n",
              "          for (const buffer of message.buffers) {\n",
              "            buffers.push(buffer);\n",
              "            downloaded += buffer.byteLength;\n",
              "            progress.value = downloaded;\n",
              "          }\n",
              "        }\n",
              "      }\n",
              "      const blob = new Blob(buffers, {type: 'application/binary'});\n",
              "      const a = document.createElement('a');\n",
              "      a.href = window.URL.createObjectURL(blob);\n",
              "      a.download = filename;\n",
              "      div.appendChild(a);\n",
              "      a.click();\n",
              "      div.remove();\n",
              "    }\n",
              "  "
            ]
          },
          "metadata": {}
        },
        {
          "output_type": "display_data",
          "data": {
            "text/plain": [
              "<IPython.core.display.Javascript object>"
            ],
            "application/javascript": [
              "download(\"download_eb8ed604-19c1-47bf-8e55-041cdfa4ac20\", \"ensamble_voting.pkl\", 175237322)"
            ]
          },
          "metadata": {}
        }
      ]
    },
    {
      "cell_type": "markdown",
      "source": [
        "- Muestra de metricas y matriz de confusion"
      ],
      "metadata": {
        "id": "F4aDYdHBc5Il"
      }
    },
    {
      "cell_type": "code",
      "source": [
        "# Matriz de confusión\n",
        "cm = confusion_matrix(y_test, y_pred)\n",
        "sns.heatmap(cm, annot=True, fmt='d')\n",
        "plt.xlabel('Predicted')\n",
        "plt.ylabel('Truth')\n",
        "plt.show()"
      ],
      "metadata": {
        "colab": {
          "base_uri": "https://localhost:8080/",
          "height": 449
        },
        "id": "jeXY7dIyc9iJ",
        "outputId": "61139c52-c5d7-4257-a582-b35dcd1b61d5"
      },
      "execution_count": null,
      "outputs": [
        {
          "output_type": "display_data",
          "data": {
            "text/plain": [
              "<Figure size 640x480 with 2 Axes>"
            ],
            "image/png": "[encoded data removed]"
          },
          "metadata": {}
        }
      ]
    },
    {
      "cell_type": "code",
      "source": [
        "def mostrar_metricas(y_test, y_pred):\n",
        "  accuracy = accuracy_score(y_test, y_pred)\n",
        "  precision = precision_score(y_test, y_pred)\n",
        "  recall = recall_score(y_test, y_pred)\n",
        "  f1 = f1_score(y_test, y_pred)\n",
        "\n",
        "  print(f\"Accuracy: {accuracy:.4f}\")\n",
        "  print(f\"Precision: {precision:.4f}\")\n",
        "  print(f\"Recall: {recall:.4f}\")\n",
        "  print(f\"F1 Score: {f1:.4f}\")"
      ],
      "metadata": {
        "id": "fL68N3_gb9BL"
      },
      "execution_count": null,
      "outputs": []
    },
    {
      "cell_type": "code",
      "source": [
        "mostrar_metricas(y_test, y_pred)"
      ],
      "metadata": {
        "colab": {
          "base_uri": "https://localhost:8080/"
        },
        "id": "DNmeWYofb9R5",
        "outputId": "ff457f68-9f76-4dba-8126-a19653f3b222"
      },
      "execution_count": null,
      "outputs": [
        {
          "output_type": "stream",
          "name": "stdout",
          "text": [
            "Accuracy: 0.8655\n",
            "Precision: 0.8567\n",
            "Recall: 0.8778\n",
            "F1 Score: 0.8671\n"
          ]
        }
      ]
    },
    {
      "cell_type": "markdown",
      "source": [
        "- Prediccion con voting"
      ],
      "metadata": {
        "id": "wRaxn4EOkXxL"
      }
    },
    {
      "cell_type": "code",
      "source": [
        "\n",
        "# Transformar las reviews del conjunto de prueba usando el vectorizador\n",
        "X_test_tfidf = vectorizer.transform(test['review_es_clean'])\n",
        "\n",
        "# Realizar predicciones con el ensamble de voting\n",
        "prediccion_voting = voting_clf.predict(X_test_tfidf)\n",
        "\n",
        "# Crear un DataFrame con los resultados\n",
        "prediccion_voting = pd.DataFrame({'ID': test['ID'], 'sentimiento': prediccion_voting})\n",
        "\n",
        "# Convertir las etiquetas numéricas a etiquetas de texto\n",
        "prediccion_voting['sentimiento'] = prediccion_voting['sentimiento'].map({0: 'negativo', 1: 'positivo'})\n",
        "\n",
        "# Guardar las predicciones en un archivo CSV\n",
        "prediccion_voting.to_csv('predicciones_ensamble_voting.csv', index=False)\n",
        "\n",
        "# Descargar el archivo de predicciones\n",
        "try:\n",
        "    from google.colab import files\n",
        "    files.download('predicciones_ensamble_voting.csv')\n",
        "except ImportError:\n",
        "    print(\"La función de descarga solo funciona en entornos como Google Colab.\")\n"
      ],
      "metadata": {
        "id": "nP4QFZP6O7tZ",
        "colab": {
          "base_uri": "https://localhost:8080/",
          "height": 17
        },
        "outputId": "5221f1d1-269f-48b8-f34a-8ccaeb228f00"
      },
      "execution_count": null,
      "outputs": [
        {
          "output_type": "display_data",
          "data": {
            "text/plain": [
              "<IPython.core.display.Javascript object>"
            ],
            "application/javascript": [
              "\n",
              "    async function download(id, filename, size) {\n",
              "      if (!google.colab.kernel.accessAllowed) {\n",
              "        return;\n",
              "      }\n",
              "      const div = document.createElement('div');\n",
              "      const label = document.createElement('label');\n",
              "      label.textContent = `Downloading \"${filename}\": `;\n",
              "      div.appendChild(label);\n",
              "      const progress = document.createElement('progress');\n",
              "      progress.max = size;\n",
              "      div.appendChild(progress);\n",
              "      document.body.appendChild(div);\n",
              "\n",
              "      const buffers = [];\n",
              "      let downloaded = 0;\n",
              "\n",
              "      const channel = await google.colab.kernel.comms.open(id);\n",
              "      // Send a message to notify the kernel that we're ready.\n",
              "      channel.send({})\n",
              "\n",
              "      for await (const message of channel.messages) {\n",
              "        // Send a message to notify the kernel that we're ready.\n",
              "        channel.send({})\n",
              "        if (message.buffers) {\n",
              "          for (const buffer of message.buffers) {\n",
              "            buffers.push(buffer);\n",
              "            downloaded += buffer.byteLength;\n",
              "            progress.value = downloaded;\n",
              "          }\n",
              "        }\n",
              "      }\n",
              "      const blob = new Blob(buffers, {type: 'application/binary'});\n",
              "      const a = document.createElement('a');\n",
              "      a.href = window.URL.createObjectURL(blob);\n",
              "      a.download = filename;\n",
              "      div.appendChild(a);\n",
              "      a.click();\n",
              "      div.remove();\n",
              "    }\n",
              "  "
            ]
          },
          "metadata": {}
        },
        {
          "output_type": "display_data",
          "data": {
            "text/plain": [
              "<IPython.core.display.Javascript object>"
            ],
            "application/javascript": [
              "download(\"download_04011df4-9d7d-48f8-9127-9e7bc2574c55\", \"predicciones_ensamble_voting.csv\", 129000)"
            ]
          },
          "metadata": {}
        }
      ]
    },
    {
      "cell_type": "markdown",
      "source": [
        "### > Ensamble Stacking"
      ],
      "metadata": {
        "id": "yZK8Lc5wkbv_"
      }
    },
    {
      "cell_type": "markdown",
      "source": [
        "Para stacking utilizamos todo la anterior"
      ],
      "metadata": {
        "id": "_1otSbR3kuPC"
      }
    },
    {
      "cell_type": "code",
      "source": [
        "lr = LogisticRegression()\n",
        "# Stacking Classifier\n",
        "stacking_clf = StackingClassifier(estimators=[('rf', rf), ('nb', nb), ('xgb', xgb)], final_estimator=lr)"
      ],
      "metadata": {
        "id": "dPptrM82T6Wq"
      },
      "execution_count": null,
      "outputs": []
    },
    {
      "cell_type": "markdown",
      "source": [
        "- Entrenamiento y prediccion"
      ],
      "metadata": {
        "id": "V34F0IECk8sc"
      }
    },
    {
      "cell_type": "code",
      "source": [
        "# Entrenamiento del modelo\n",
        "stacking_clf.fit(X_train_tfidf, y_train)\n",
        "\n",
        "# Predeccion\n",
        "y_pred_stacking = voting_clf.predict(X_test_tfidf)"
      ],
      "metadata": {
        "id": "7kyphYOwk5CX"
      },
      "execution_count": null,
      "outputs": []
    },
    {
      "cell_type": "markdown",
      "source": [
        "- Guardado del modelo con pickle"
      ],
      "metadata": {
        "id": "9xPOCW94k_ld"
      }
    },
    {
      "cell_type": "code",
      "source": [
        "\n",
        "\n",
        "with open('stacking_classifier.pkl', 'wb') as file:\n",
        "    pickle.dump(stacking_clf, file)\n",
        "\n",
        "# Descargar el archivO\n",
        "try:\n",
        "    from google.colab import files\n",
        "    files.download('stacking_classifier.pkl')\n",
        "except ImportError:\n",
        "    print(\"Error\")"
      ],
      "metadata": {
        "id": "I3IdJtsik98f",
        "colab": {
          "base_uri": "https://localhost:8080/",
          "height": 34
        },
        "outputId": "e9c808da-43e7-4ff5-bd65-81193d841fee"
      },
      "execution_count": null,
      "outputs": [
        {
          "output_type": "display_data",
          "data": {
            "text/plain": [
              "<IPython.core.display.Javascript object>"
            ],
            "application/javascript": [
              "\n",
              "    async function download(id, filename, size) {\n",
              "      if (!google.colab.kernel.accessAllowed) {\n",
              "        return;\n",
              "      }\n",
              "      const div = document.createElement('div');\n",
              "      const label = document.createElement('label');\n",
              "      label.textContent = `Downloading \"${filename}\": `;\n",
              "      div.appendChild(label);\n",
              "      const progress = document.createElement('progress');\n",
              "      progress.max = size;\n",
              "      div.appendChild(progress);\n",
              "      document.body.appendChild(div);\n",
              "\n",
              "      const buffers = [];\n",
              "      let downloaded = 0;\n",
              "\n",
              "      const channel = await google.colab.kernel.comms.open(id);\n",
              "      // Send a message to notify the kernel that we're ready.\n",
              "      channel.send({})\n",
              "\n",
              "      for await (const message of channel.messages) {\n",
              "        // Send a message to notify the kernel that we're ready.\n",
              "        channel.send({})\n",
              "        if (message.buffers) {\n",
              "          for (const buffer of message.buffers) {\n",
              "            buffers.push(buffer);\n",
              "            downloaded += buffer.byteLength;\n",
              "            progress.value = downloaded;\n",
              "          }\n",
              "        }\n",
              "      }\n",
              "      const blob = new Blob(buffers, {type: 'application/binary'});\n",
              "      const a = document.createElement('a');\n",
              "      a.href = window.URL.createObjectURL(blob);\n",
              "      a.download = filename;\n",
              "      div.appendChild(a);\n",
              "      a.click();\n",
              "      div.remove();\n",
              "    }\n",
              "  "
            ]
          },
          "metadata": {}
        },
        {
          "output_type": "display_data",
          "data": {
            "text/plain": [
              "<IPython.core.display.Javascript object>"
            ],
            "application/javascript": [
              "download(\"download_1058def1-269f-47c5-83a7-8fcd339a7d63\", \"stacking_classifier.pkl\", 175238308)"
            ]
          },
          "metadata": {}
        }
      ]
    },
    {
      "cell_type": "markdown",
      "source": [
        "- Prediccion con stacking"
      ],
      "metadata": {
        "id": "FigcJ5xUllg8"
      }
    },
    {
      "cell_type": "code",
      "source": [
        "\n",
        "# Transformar las reviews del conjunto de prueba usando el vectorizador TF-IDF\n",
        "X_test_tfidf = vectorizer.transform(test['review_es_clean'])\n",
        "\n",
        "# Realizar predicciones con el ensamble de stacking\n",
        "prediccion_stacking = stacking_clf.predict(X_test_tfidf)\n",
        "\n",
        "# Crear un DataFrame con los resultados\n",
        "prediccion_stacking = pd.DataFrame({'ID': test['ID'], 'sentimiento': prediccion_stacking})\n",
        "\n",
        "# Convertir las etiquetas numéricas a etiquetas de texto\n",
        "prediccion_stacking['sentimiento'] = prediccion_stacking['sentimiento'].map({0: 'negativo', 1: 'positivo'})\n",
        "\n",
        "# Guardar las predicciones en un archivo CSV\n",
        "prediccion_stacking.to_csv('predicciones_ensamble_stacking.csv', index=False)\n",
        "\n",
        "# Descargar el archivo de predicciones\n",
        "try:\n",
        "    from google.colab import files\n",
        "    files.download('predicciones_ensamble_stacking.csv')\n",
        "except ImportError:\n",
        "    print(\"La función de descarga solo funciona en entornos como Google Colab.\")\n"
      ],
      "metadata": {
        "id": "3WkOSOzBlnjB",
        "colab": {
          "base_uri": "https://localhost:8080/",
          "height": 17
        },
        "outputId": "8e020832-4d27-437c-9f4f-c5d2f6190b5c"
      },
      "execution_count": null,
      "outputs": [
        {
          "output_type": "display_data",
          "data": {
            "text/plain": [
              "<IPython.core.display.Javascript object>"
            ],
            "application/javascript": [
              "\n",
              "    async function download(id, filename, size) {\n",
              "      if (!google.colab.kernel.accessAllowed) {\n",
              "        return;\n",
              "      }\n",
              "      const div = document.createElement('div');\n",
              "      const label = document.createElement('label');\n",
              "      label.textContent = `Downloading \"${filename}\": `;\n",
              "      div.appendChild(label);\n",
              "      const progress = document.createElement('progress');\n",
              "      progress.max = size;\n",
              "      div.appendChild(progress);\n",
              "      document.body.appendChild(div);\n",
              "\n",
              "      const buffers = [];\n",
              "      let downloaded = 0;\n",
              "\n",
              "      const channel = await google.colab.kernel.comms.open(id);\n",
              "      // Send a message to notify the kernel that we're ready.\n",
              "      channel.send({})\n",
              "\n",
              "      for await (const message of channel.messages) {\n",
              "        // Send a message to notify the kernel that we're ready.\n",
              "        channel.send({})\n",
              "        if (message.buffers) {\n",
              "          for (const buffer of message.buffers) {\n",
              "            buffers.push(buffer);\n",
              "            downloaded += buffer.byteLength;\n",
              "            progress.value = downloaded;\n",
              "          }\n",
              "        }\n",
              "      }\n",
              "      const blob = new Blob(buffers, {type: 'application/binary'});\n",
              "      const a = document.createElement('a');\n",
              "      a.href = window.URL.createObjectURL(blob);\n",
              "      a.download = filename;\n",
              "      div.appendChild(a);\n",
              "      a.click();\n",
              "      div.remove();\n",
              "    }\n",
              "  "
            ]
          },
          "metadata": {}
        },
        {
          "output_type": "display_data",
          "data": {
            "text/plain": [
              "<IPython.core.display.Javascript object>"
            ],
            "application/javascript": [
              "download(\"download_c0cff579-ceb8-4e16-a03a-40b5ed960800\", \"predicciones_ensamble_stacking.csv\", 129000)"
            ]
          },
          "metadata": {}
        }
      ]
    }
  ]
}