{
  "cells": [
    {
      "cell_type": "markdown",
      "metadata": {
        "id": "view-in-github",
        "colab_type": "text"
      },
      "source": [
        "<a href=\"https://colab.research.google.com/github/lautitorraca/7506R-2C2023-GRUPO24/blob/main/TP2/7506R_TP2_GRUPO24_RANDOM_FOREST.ipynb\" target=\"_parent\"><img src=\"https://colab.research.google.com/assets/colab-badge.svg\" alt=\"Open In Colab\"/></a>"
      ]
    },
    {
      "cell_type": "code",
      "execution_count": null,
      "metadata": {
        "id": "0SUPQzdKFIiR"
      },
      "outputs": [],
      "source": [
        "import pandas as pd\n",
        "import numpy as np\n",
        "\n",
        "from sklearn.model_selection import train_test_split\n",
        "from sklearn.neighbors import KNeighborsClassifier, NeighborhoodComponentsAnalysis\n",
        "from sklearn.metrics import (\n",
        "    accuracy_score,\n",
        "    confusion_matrix,\n",
        "    classification_report,\n",
        "    precision_recall_curve,\n",
        "    roc_curve,\n",
        "    recall_score,\n",
        "    f1_score,\n",
        "    precision_score,\n",
        ")\n",
        "\n",
        "# Visualización\n",
        "import matplotlib.pyplot as plt\n",
        "import seaborn as sns\n",
        "\n",
        "# Modelos y métricas\n",
        "from sklearn import tree\n",
        "from sklearn.model_selection import GridSearchCV, RandomizedSearchCV\n",
        "from sklearn.ensemble import RandomForestClassifier\n",
        "from sklearn.preprocessing import MinMaxScaler\n",
        "from sklearn.svm import SVC\n",
        "from sklearn.datasets import make_classification\n",
        "from xgboost import XGBClassifier\n",
        "import xgboost as xgb\n",
        "from sklearn.linear_model import LogisticRegression, LogisticRegressionCV\n",
        "from sklearn.ensemble import VotingClassifier\n",
        "from sklearn.model_selection import StratifiedKFold, KFold\n",
        "from sklearn.metrics import roc_auc_score\n",
        "from sklearn.neural_network import MLPClassifier\n",
        "from collections import defaultdict\n",
        "from sklearn.model_selection import cross_val_score, RepeatedStratifiedKFold\n",
        "from sklearn.model_selection import train_test_split\n",
        "from sklearn.neighbors import KNeighborsClassifier\n",
        "\n",
        "#Download\n",
        "from google.colab import files\n"
      ]
    },
    {
      "cell_type": "code",
      "execution_count": null,
      "metadata": {
        "id": "OnSqxH98FKHn"
      },
      "outputs": [],
      "source": [
        "\n",
        "url_train = '/content/train_limpio.csv'\n",
        "url_test = '/content/test_limpio.csv'\n",
        "\n",
        "train = pd.read_csv(url_train)\n",
        "test = pd.read_csv(url_test)"
      ]
    },
    {
      "cell_type": "code",
      "execution_count": null,
      "metadata": {
        "colab": {
          "base_uri": "https://localhost:8080/"
        },
        "id": "rJxpTm0XFLXB",
        "outputId": "e22339f4-49df-4bc6-c5d6-921b18a9e5a9"
      },
      "outputs": [
        {
          "name": "stdout",
          "output_type": "stream",
          "text": [
            "(50000, 4)\n",
            "(8599, 4)\n"
          ]
        }
      ],
      "source": [
        "print(train.shape)\n",
        "print(test.shape)"
      ]
    },
    {
      "cell_type": "code",
      "execution_count": null,
      "metadata": {
        "id": "IkhszfjiFLSB"
      },
      "outputs": [],
      "source": [
        "from sklearn.model_selection import train_test_split\n",
        "from sklearn.feature_extraction.text import TfidfVectorizer\n",
        "from sklearn.preprocessing import LabelEncoder\n",
        "\n",
        "\n",
        "df_train = train.copy()\n",
        "df_test = test.copy()\n",
        "\n",
        "X = df_train['review_es_clean']\n",
        "y = df_train['sentimiento']\n",
        "\n",
        "label_encoder = LabelEncoder()\n",
        "y_encoded = label_encoder.fit_transform(y)\n",
        "\n",
        "X_train, X_test, y_train, y_test = train_test_split(X, y_encoded, test_size=0.2, random_state=42)\n",
        "\n",
        "# Vectorización de los textos\n",
        "tfidf_vectorizer = TfidfVectorizer(max_features=5000)\n",
        "X_train_tfidf = tfidf_vectorizer.fit_transform(X_train)\n",
        "X_test_tfidf = tfidf_vectorizer.transform(X_test)\n"
      ]
    },
    {
      "cell_type": "code",
      "execution_count": null,
      "metadata": {
        "colab": {
          "base_uri": "https://localhost:8080/"
        },
        "id": "kNJU4g4GFK6v",
        "outputId": "c8206d79-e462-4697-fcc0-acaf13639f42"
      },
      "outputs": [
        {
          "name": "stderr",
          "output_type": "stream",
          "text": [
            "/usr/local/lib/python3.10/dist-packages/sklearn/ensemble/_forest.py:424: FutureWarning: `max_features='auto'` has been deprecated in 1.1 and will be removed in 1.3. To keep the past behaviour, explicitly set `max_features='sqrt'` or remove this parameter as it is also the default value for RandomForestClassifiers and ExtraTreesClassifiers.\n",
            "  warn(\n"
          ]
        }
      ],
      "source": [
        "rfc = RandomForestClassifier(max_features='auto',\n",
        "                             oob_score=True,\n",
        "                             random_state=2,\n",
        "                             n_jobs=-1,\n",
        "                             criterion=\"entropy\",\n",
        "                             min_samples_leaf=5,\n",
        "                             min_samples_split=5,\n",
        "                             n_estimators=50 )\n",
        "\n",
        "#Entrenamos el modelo\n",
        "model = rfc.fit(X = X_train_tfidf, y = y_train)"
      ]
    },
    {
      "cell_type": "code",
      "execution_count": null,
      "metadata": {
        "id": "JgPpxhjoGLmB"
      },
      "outputs": [],
      "source": [
        "y_predRF = model.predict(X_test_tfidf)\n",
        "\n",
        "# Decodificar las etiquetas numéricas a categóricas para y_pred\n",
        "y_pred_labels = label_encoder.inverse_transform(y_predRF)\n",
        "\n",
        "# Decodificar las etiquetas numéricas a categóricas para y_test\n",
        "y_test_labels = label_encoder.inverse_transform(y_test)\n",
        "\n",
        "\n",
        "# Métricas de evaluación\n",
        "\n",
        "positive_label_index = list(label_encoder.classes_).index('positivo')\n",
        "f1 = f1_score(y_test, y_predRF, pos_label=positive_label_index)\n"
      ]
    },
    {
      "cell_type": "code",
      "execution_count": null,
      "metadata": {
        "colab": {
          "base_uri": "https://localhost:8080/",
          "height": 467
        },
        "id": "NMj2Zk5z_tZf",
        "outputId": "a8ddc052-d01f-49a7-a17b-d4a47a02e7b7"
      },
      "outputs": [
        {
          "data": {
            "text/plain": [
              "Text(50.722222222222214, 0.5, 'True')"
            ]
          },
          "execution_count": 28,
          "metadata": {},
          "output_type": "execute_result"
        },
        {
          "data": {
            "image/png": "[encoded data removed]",
            "text/plain": [
              "<Figure size 640x480 with 2 Axes>"
            ]
          },
          "metadata": {},
          "output_type": "display_data"
        }
      ],
      "source": [
        "tabla=confusion_matrix(y_test, y_predRF)\n",
        "\n",
        "sns.heatmap(tabla,cmap='GnBu',annot=True,fmt='g')\n",
        "plt.xlabel('Predicted')\n",
        "plt.ylabel('True')"
      ]
    },
    {
      "cell_type": "code",
      "execution_count": null,
      "metadata": {
        "id": "Y99QoAhHGYY4"
      },
      "outputs": [],
      "source": [
        "def mostrar_metricas(y_test, y_pred):\n",
        "  accuracy = accuracy_score(y_test, y_pred)\n",
        "  precision = precision_score(y_test, y_pred)\n",
        "  recall = recall_score(y_test, y_pred)\n",
        "  f1 = f1_score(y_test, y_pred)\n",
        "\n",
        "  print(f\"Accuracy: {accuracy:.4f}\")\n",
        "  print(f\"Precision: {precision:.4f}\")\n",
        "  print(f\"Recall: {recall:.4f}\")\n",
        "  print(f\"F1 Score: {f1:.4f}\")\n",
        "\n",
        "\n"
      ]
    },
    {
      "cell_type": "code",
      "execution_count": null,
      "metadata": {
        "colab": {
          "base_uri": "https://localhost:8080/"
        },
        "id": "CaAs5n208lul",
        "outputId": "c5752560-48a2-4d26-d6e3-a001b19d4357"
      },
      "outputs": [
        {
          "name": "stdout",
          "output_type": "stream",
          "text": [
            "Accuracy: 0.8196\n",
            "Precision: 0.8162\n",
            "Recall: 0.8285\n",
            "F1 Score: 0.8223\n"
          ]
        }
      ],
      "source": [
        "mostrar_metricas(y_test, y_predRF)"
      ]
    },
    {
      "cell_type": "code",
      "execution_count": null,
      "metadata": {
        "id": "Xp9pDy02Alk5"
      },
      "outputs": [],
      "source": [
        "# test['review_es_clean'] = test['review_es_clean'].astype('category')\n",
        "\n",
        "# test_features = tfidf_vectorizer.transform(test['review_es_clean'])\n",
        "\n",
        "# test_predictionsRF = model.predict(test_features)\n",
        "\n",
        "# output = pd.DataFrame(zip(test[\"ID\"], label_encoder.inverse_transform(test_predictionsRF)),columns = ['ID','sentimiento'])\n",
        "\n",
        "# output.to_csv('prediccion_RF.csv', index=False)\n",
        "\n",
        "# # Descargar el archivo de predicciones (esto funcionará en entornos como Jupyter o Google Colab)\n",
        "# try:\n",
        "#     from google.colab import files\n",
        "#     files.download('prediccion_RF.csv')\n",
        "# except ImportError:\n",
        "#     print(\"La función de descarga solo funciona en entornos como Google Colab.\")"
      ]
    },
    {
      "cell_type": "markdown",
      "metadata": {
        "id": "MQJwA43NAmpx"
      },
      "source": [
        "RANDOM FOREST OPTIMIZADO"
      ]
    },
    {
      "cell_type": "code",
      "execution_count": null,
      "metadata": {
        "colab": {
          "background_save": true
        },
        "id": "Y7NuTwmQGLdK",
        "outputId": "6db6043f-7b37-49ca-e3f3-be6d99b40724"
      },
      "outputs": [
        {
          "name": "stderr",
          "output_type": "stream",
          "text": [
            "/usr/local/lib/python3.10/dist-packages/sklearn/ensemble/_forest.py:583: UserWarning: Some inputs do not have OOB scores. This probably means too few trees were used to compute any reliable OOB estimates.\n",
            "  warn(\n"
          ]
        }
      ],
      "source": [
        "rf_cv = RandomForestClassifier(max_features='auto', oob_score=True, random_state=1, n_jobs=-1)\n",
        "\n",
        "param_grid = { \"criterion\" : [\"gini\"],\n",
        "               \"min_samples_leaf\" : [ 5, 10],\n",
        "               \"min_samples_split\" :  [10, 12, 16],\n",
        "               \"n_estimators\": [10,20] }\n",
        "\n",
        "gs = RandomizedSearchCV(estimator=rf_cv, param_distributions=param_grid, scoring=\"f1\", cv=5, n_jobs=-1)\n",
        "gs_fit = gs.fit(X = X_train_tfidf, y = y_train)"
      ]
    },
    {
      "cell_type": "code",
      "execution_count": null,
      "metadata": {
        "colab": {
          "base_uri": "https://localhost:8080/"
        },
        "id": "Gm3lbkv3GLa4",
        "outputId": "c17b9672-15cf-42eb-a3e7-62cf5089aa1d"
      },
      "outputs": [
        {
          "output_type": "execute_result",
          "data": {
            "text/plain": [
              "{'n_estimators': 20,\n",
              " 'min_samples_split': 16,\n",
              " 'min_samples_leaf': 5,\n",
              " 'criterion': 'gini'}"
            ]
          },
          "metadata": {},
          "execution_count": 39
        }
      ],
      "source": [
        "gs_fit.best_params_\n",
        "\n",
        "#El mejor resultado\n",
        "# {'n_estimators': 20,\n",
        "#  'min_samples_split': 16,\n",
        "#  'min_samples_leaf': 5,\n",
        "#  'criterion': 'gini'}"
      ]
    },
    {
      "cell_type": "code",
      "execution_count": null,
      "metadata": {
        "colab": {
          "base_uri": "https://localhost:8080/"
        },
        "id": "2U6iSYM4GLYw",
        "outputId": "1dd5d527-e3ef-4198-e0b6-f748f40108a5"
      },
      "outputs": [
        {
          "output_type": "stream",
          "name": "stdout",
          "text": [
            "F1 en entrenamiento con cv: 0.77277039765943\n"
          ]
        }
      ],
      "source": [
        "print(\"F1 en entrenamiento con cv: \"+str(gs_fit.best_score_))"
      ]
    },
    {
      "cell_type": "code",
      "execution_count": null,
      "metadata": {
        "colab": {
          "base_uri": "https://localhost:8080/"
        },
        "id": "UckozZNtGchD",
        "outputId": "8ac9fcb8-356a-4f09-9dbf-ba49fe4b0ff4"
      },
      "outputs": [
        {
          "output_type": "stream",
          "name": "stderr",
          "text": [
            "/usr/local/lib/python3.10/dist-packages/sklearn/ensemble/_forest.py:424: FutureWarning: `max_features='auto'` has been deprecated in 1.1 and will be removed in 1.3. To keep the past behaviour, explicitly set `max_features='sqrt'` or remove this parameter as it is also the default value for RandomForestClassifiers and ExtraTreesClassifiers.\n",
            "  warn(\n",
            "/usr/local/lib/python3.10/dist-packages/sklearn/ensemble/_forest.py:583: UserWarning: Some inputs do not have OOB scores. This probably means too few trees were used to compute any reliable OOB estimates.\n",
            "  warn(\n"
          ]
        }
      ],
      "source": [
        "# rf_cv_best=gs_fit.best_estimator_\n",
        "\n",
        "# y_pred_rf_cv_best = rf_cv_best.predict(X_train_tfidf)\n",
        "\n",
        "rfc2 = RandomForestClassifier(max_features='auto',\n",
        "                             oob_score=True,\n",
        "                             random_state=2,\n",
        "                             n_jobs=-1,\n",
        "                             criterion=\"gini\",\n",
        "                             min_samples_leaf=16,\n",
        "                             min_samples_split=5,\n",
        "                             n_estimators=20 )\n",
        "\n",
        "#Entrenamos el modelo\n",
        "rf_cv_best = rfc2.fit(X = X_train_tfidf, y = y_train)\n",
        "\n",
        "y_pred_rf_cv_best = rf_cv_best.predict(X_test_tfidf)"
      ]
    },
    {
      "cell_type": "code",
      "execution_count": null,
      "metadata": {
        "colab": {
          "base_uri": "https://localhost:8080/",
          "height": 613
        },
        "id": "T3v4BfukGcev",
        "outputId": "9633d666-c4f7-44bf-ab61-6ddda0f4a4cd"
      },
      "outputs": [
        {
          "output_type": "stream",
          "name": "stdout",
          "text": [
            "              precision    recall  f1-score   support\n",
            "\n",
            "           0       0.80      0.80      0.80      4961\n",
            "           1       0.80      0.81      0.81      5039\n",
            "\n",
            "    accuracy                           0.80     10000\n",
            "   macro avg       0.80      0.80      0.80     10000\n",
            "weighted avg       0.80      0.80      0.80     10000\n",
            "\n"
          ]
        },
        {
          "output_type": "display_data",
          "data": {
            "text/plain": [
              "<Figure size 640x480 with 2 Axes>"
            ],
            "image/png": "[encoded data removed]"
          },
          "metadata": {}
        }
      ],
      "source": [
        "tabla=confusion_matrix(y_test, y_pred_rf_cv_best)\n",
        "\n",
        "sns.heatmap(tabla, cmap='Blues',annot=True,fmt='g')\n",
        "plt.xlabel('Predicted')\n",
        "plt.ylabel('True')\n",
        "\n",
        "print(classification_report(y_test,y_pred_rf_cv_best))"
      ]
    },
    {
      "cell_type": "code",
      "execution_count": null,
      "metadata": {
        "colab": {
          "base_uri": "https://localhost:8080/"
        },
        "id": "mqDmnqABGccY",
        "outputId": "f8a87e01-ef96-458c-b2ba-3cea8bffc21b"
      },
      "outputs": [
        {
          "output_type": "stream",
          "name": "stdout",
          "text": [
            "Accuracy: 0.8033\n",
            "Precision: 0.8022\n",
            "Recall: 0.8091\n",
            "F1 Score: 0.8057\n"
          ]
        }
      ],
      "source": [
        "mostrar_metricas(y_test, y_pred_rf_cv_best)"
      ]
    },
    {
      "cell_type": "code",
      "execution_count": null,
      "metadata": {
        "colab": {
          "base_uri": "https://localhost:8080/",
          "height": 34
        },
        "id": "X3VQ6VpIGcaH",
        "outputId": "41a77769-ad55-46e9-8133-e1340970a146"
      },
      "outputs": [
        {
          "output_type": "display_data",
          "data": {
            "text/plain": [
              "<IPython.core.display.Javascript object>"
            ],
            "application/javascript": [
              "\n",
              "    async function download(id, filename, size) {\n",
              "      if (!google.colab.kernel.accessAllowed) {\n",
              "        return;\n",
              "      }\n",
              "      const div = document.createElement('div');\n",
              "      const label = document.createElement('label');\n",
              "      label.textContent = `Downloading \"${filename}\": `;\n",
              "      div.appendChild(label);\n",
              "      const progress = document.createElement('progress');\n",
              "      progress.max = size;\n",
              "      div.appendChild(progress);\n",
              "      document.body.appendChild(div);\n",
              "\n",
              "      const buffers = [];\n",
              "      let downloaded = 0;\n",
              "\n",
              "      const channel = await google.colab.kernel.comms.open(id);\n",
              "      // Send a message to notify the kernel that we're ready.\n",
              "      channel.send({})\n",
              "\n",
              "      for await (const message of channel.messages) {\n",
              "        // Send a message to notify the kernel that we're ready.\n",
              "        channel.send({})\n",
              "        if (message.buffers) {\n",
              "          for (const buffer of message.buffers) {\n",
              "            buffers.push(buffer);\n",
              "            downloaded += buffer.byteLength;\n",
              "            progress.value = downloaded;\n",
              "          }\n",
              "        }\n",
              "      }\n",
              "      const blob = new Blob(buffers, {type: 'application/binary'});\n",
              "      const a = document.createElement('a');\n",
              "      a.href = window.URL.createObjectURL(blob);\n",
              "      a.download = filename;\n",
              "      div.appendChild(a);\n",
              "      a.click();\n",
              "      div.remove();\n",
              "    }\n",
              "  "
            ]
          },
          "metadata": {}
        },
        {
          "output_type": "display_data",
          "data": {
            "text/plain": [
              "<IPython.core.display.Javascript object>"
            ],
            "application/javascript": [
              "download(\"download_2d48bad7-16d2-44d3-90c8-e2dcf941bbd3\", \"predictionsRF_Optimized.csv\", 129000)"
            ]
          },
          "metadata": {}
        }
      ],
      "source": [
        "test['review_es_clean'] = test['review_es_clean'].astype('category')\n",
        "\n",
        "test_features_2 = tfidf_vectorizer.transform(test['review_es_clean'])\n",
        "\n",
        "test_predictionsRF_Optimized = rf_cv_best.predict(test_features_2)\n",
        "\n",
        "output = pd.DataFrame(zip(test[\"ID\"], label_encoder.inverse_transform(test_predictionsRF_Optimized)),columns = ['ID','sentimiento'])\n",
        "\n",
        "output.to_csv('predictionsRF_Optimized.csv', index=False)\n",
        "\n",
        "# Descargar el archivo de predicciones (esto funcionará en entornos como Jupyter o Google Colab)\n",
        "try:\n",
        "    from google.colab import files\n",
        "    files.download('predictionsRF_Optimized.csv')\n",
        "except ImportError:\n",
        "    print(\"La función de descarga solo funciona en entornos como Google Colab.\")"
      ]
    }
  ],
  "metadata": {
    "colab": {
      "provenance": [],
      "include_colab_link": true
    },
    "kernelspec": {
      "display_name": "Python 3",
      "name": "python3"
    },
    "language_info": {
      "name": "python"
    }
  },
  "nbformat": 4,
  "nbformat_minor": 0
}