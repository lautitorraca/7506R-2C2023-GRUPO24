{
  "nbformat": 4,
  "nbformat_minor": 0,
  "metadata": {
    "colab": {
      "provenance": [],
      "authorship_tag": "ABX9TyO1aUeoP1W9r9qCaItkEZcx",
      "include_colab_link": true
    },
    "kernelspec": {
      "name": "python3",
      "display_name": "Python 3"
    },
    "language_info": {
      "name": "python"
    }
  },
  "cells": [
    {
      "cell_type": "markdown",
      "metadata": {
        "id": "view-in-github",
        "colab_type": "text"
      },
      "source": [
        "<a href=\"https://colab.research.google.com/github/lautitorraca/7506R-2C2023-GRUPO24/blob/main/TP1/7506R_TP1_GRUPO24_CHP4_ENTREGA.ipynb\" target=\"_parent\"><img src=\"https://colab.research.google.com/assets/colab-badge.svg\" alt=\"Open In Colab\"/></a>"
      ]
    },
    {
      "cell_type": "code",
      "execution_count": 31,
      "metadata": {
        "id": "imTl2eHTrP8D"
      },
      "outputs": [],
      "source": [
        "# !pip install keras==2.12.0\n",
        "# !pip uninstall tensorflow -y\n",
        "# !pip install tensorflow==2.12.0"
      ]
    },
    {
      "cell_type": "code",
      "source": [
        "import matplotlib.pyplot as plt\n",
        "import seaborn as sns\n",
        "\n",
        "import pandas as pd\n",
        "import numpy as np\n",
        "\n",
        "from sklearn.metrics import f1_score,  recall_score, precision_score, accuracy_score\n",
        "from sklearn.preprocessing import StandardScaler\n",
        "from sklearn.model_selection import train_test_split\n",
        "\n",
        "\n",
        "import tensorflow as tf\n",
        "from tensorflow import keras\n",
        "# from keras.utils.vis_utils import plot_model\n",
        "# import visualkeras\n",
        "\n",
        "np.random.seed(1)\n",
        "tf.random.set_seed(1)\n",
        "\n",
        "import warnings\n",
        "warnings.filterwarnings(\"ignore\", category=DeprecationWarning)"
      ],
      "metadata": {
        "id": "UGEt_CZMsYUT"
      },
      "execution_count": 32,
      "outputs": []
    },
    {
      "cell_type": "code",
      "source": [
        "url_train = 'https://raw.githubusercontent.com/lautitorraca/7506R-2C2023-GRUPO24/main/TP1/DataSets/df_train_limpio.csv'\n",
        "url_test = 'https://raw.githubusercontent.com/lautitorraca/7506R-2C2023-GRUPO24/main/TP1/DataSets/df_test_limpio.csv'\n",
        "\n",
        "ds_train_base = pd.read_csv(url_train)\n",
        "ds_test_base = pd.read_csv(url_test)\n",
        "\n",
        "ds_test = ds_test_base.copy()\n",
        "df_test = pd.DataFrame(ds_test_base)\n",
        "\n",
        "ds_train = ds_train_base.copy()\n",
        "df_train = pd.DataFrame(ds_train_base)"
      ],
      "metadata": {
        "id": "OPsJud3OsaOz"
      },
      "execution_count": 33,
      "outputs": []
    },
    {
      "cell_type": "code",
      "source": [
        "\n",
        "from sklearn.preprocessing import OneHotEncoder, StandardScaler\n",
        "from keras.layers import Dense\n",
        "\n",
        "\n",
        "X = df_train.drop(['is_canceled', 'id'], axis=1)\n",
        "y = df_train['is_canceled']\n",
        "\n",
        "# Split the data set into training and testing\n",
        "x_train, x_test, y_train, y_test = train_test_split(X, y,\n",
        "                                                    test_size=0.3,\n",
        "                                                    random_state=22)\n",
        "\n",
        "# One hot encoding\n",
        "enc = OneHotEncoder()\n",
        "y_train_encoder = enc.fit_transform(y_train[:, np.newaxis]).toarray()\n",
        "y_test_encoder = enc.transform(y_test[:, np.newaxis]).toarray()\n",
        "\n",
        "scaler = StandardScaler()\n",
        "x_train_scaled = scaler.fit_transform(x_train)\n",
        "x_test_scaled = scaler.transform(x_test)"
      ],
      "metadata": {
        "colab": {
          "base_uri": "https://localhost:8080/"
        },
        "id": "AJsVy2TB0Cb3",
        "outputId": "1cf5b13b-a266-4bba-ca42-bc15cc6ef0bf"
      },
      "execution_count": 34,
      "outputs": [
        {
          "output_type": "stream",
          "name": "stderr",
          "text": [
            "<ipython-input-34-72fc2a78716a>:15: FutureWarning: Support for multi-dimensional indexing (e.g. `obj[:, None]`) is deprecated and will be removed in a future version.  Convert to a numpy array before indexing instead.\n",
            "  y_train_encoder = enc.fit_transform(y_train[:, np.newaxis]).toarray()\n",
            "<ipython-input-34-72fc2a78716a>:16: FutureWarning: Support for multi-dimensional indexing (e.g. `obj[:, None]`) is deprecated and will be removed in a future version.  Convert to a numpy array before indexing instead.\n",
            "  y_test_encoder = enc.transform(y_test[:, np.newaxis]).toarray()\n"
          ]
        }
      ]
    },
    {
      "cell_type": "code",
      "source": [
        "# calcula la cantidad de clases\n",
        "cant_clases=len(np.unique(y_train))\n",
        "\n",
        "d_in=len(x_train.columns)\n",
        "modelo_1 = keras.Sequential([\n",
        "    keras.layers.Dense(1,input_shape=(d_in,), activation='relu',kernel_initializer='uniform'), #capa entrada\n",
        "    keras.layers.Dense(20,activation='relu'),\n",
        "    keras.layers.Dense(2, activation='softmax')]) #capa salida\n",
        "\n"
      ],
      "metadata": {
        "id": "TzfX07RMungG"
      },
      "execution_count": 50,
      "outputs": []
    },
    {
      "cell_type": "code",
      "source": [
        "x_train_scaled.shape"
      ],
      "metadata": {
        "colab": {
          "base_uri": "https://localhost:8080/"
        },
        "id": "YVGVsMj-0_Ip",
        "outputId": "7b5c7939-9ce2-4972-a891-c2dd799bce55"
      },
      "execution_count": 48,
      "outputs": [
        {
          "output_type": "execute_result",
          "data": {
            "text/plain": [
              "(43339, 50)"
            ]
          },
          "metadata": {},
          "execution_count": 48
        }
      ]
    },
    {
      "cell_type": "code",
      "source": [
        "modelo_1.summary()"
      ],
      "metadata": {
        "colab": {
          "base_uri": "https://localhost:8080/"
        },
        "id": "cwiVyqCtAAns",
        "outputId": "40699b1a-0564-4acc-c8b8-671473de9533"
      },
      "execution_count": 49,
      "outputs": [
        {
          "output_type": "stream",
          "name": "stdout",
          "text": [
            "Model: \"sequential_6\"\n",
            "_________________________________________________________________\n",
            " Layer (type)                Output Shape              Param #   \n",
            "=================================================================\n",
            " dense_12 (Dense)            (None, 1)                 51        \n",
            "                                                                 \n",
            " dense_13 (Dense)            (None, 20)                40        \n",
            "                                                                 \n",
            " dense_14 (Dense)            (None, 2)                 42        \n",
            "                                                                 \n",
            "=================================================================\n",
            "Total params: 133 (532.00 Byte)\n",
            "Trainable params: 133 (532.00 Byte)\n",
            "Non-trainable params: 0 (0.00 Byte)\n",
            "_________________________________________________________________\n"
          ]
        }
      ]
    },
    {
      "cell_type": "code",
      "source": [
        "\n",
        "\n",
        "modelo_1.compile(\n",
        "  optimizer=keras.optimizers.SGD(learning_rate=0.001),\n",
        "  loss='binary_crossentropy',\n",
        "  # metricas para ir calculando en cada iteracion o batch\n",
        "  metrics=['AUC'],\n",
        ")\n",
        "\n",
        "cant_epochs=100\n",
        "\n",
        "historia_modelo_1=modelo_1.fit(x_train_scaled,y_train_encoder,epochs=cant_epochs,\n",
        "                                         batch_size=50,verbose=False)"
      ],
      "metadata": {
        "id": "jJEi87YItyct"
      },
      "execution_count": 44,
      "outputs": []
    },
    {
      "cell_type": "code",
      "source": [
        "y_predic1 = modelo_1.predict(x_test_scaled)"
      ],
      "metadata": {
        "id": "onzoNX1qu0qv"
      },
      "execution_count": null,
      "outputs": []
    },
    {
      "cell_type": "code",
      "source": [
        "y_predic1.shape"
      ],
      "metadata": {
        "id": "sapfkcEF3B4I"
      },
      "execution_count": null,
      "outputs": []
    },
    {
      "cell_type": "code",
      "source": [
        "\n",
        "y_predic_cat_1 = np.where(y_predic1>0.7,1,0)\n",
        "y_predic_cat_1= y_predic_cat_1[:, 1]\n",
        "\n",
        "ds_validacion=pd.DataFrame(y_predic_cat_1 ,y_test).reset_index()\n",
        "ds_validacion.columns=['y_pred','y_real']\n",
        "\n",
        "tabla=pd.crosstab(ds_validacion.y_pred, ds_validacion.y_real)\n",
        "grf=sns.heatmap(tabla,annot=True, cmap = 'Blues')\n",
        "plt.show()"
      ],
      "metadata": {
        "id": "cx3P6XwuFUFZ"
      },
      "execution_count": null,
      "outputs": []
    },
    {
      "cell_type": "code",
      "source": [
        "modelo_1.evaluate(x_test_scaled, y_test_encoder, verbose=2)"
      ],
      "metadata": {
        "id": "oANHVfFs3q2L"
      },
      "execution_count": null,
      "outputs": []
    },
    {
      "cell_type": "code",
      "source": [
        "from google.colab import files\n",
        "df_test_pred = df_test.drop(['is_canceled', 'id'], axis=1)\n",
        "\n",
        "ids = df_test['id'].copy()\n",
        "\n",
        "df_test_scal  = scaler.transform(df_test_pred)\n",
        "\n",
        "prediccion = modelo_1.predict(df_test_scal)\n",
        "prediccion_bin = np.where(prediccion > 0.7, 1, 0).astype(int)\n",
        "prediccion_bin= prediccion_bin[:, 1]\n",
        "\n",
        "\n",
        "# df_pred = pd.DataFrame({'id': ids, 'is_canceled': prediccion_bin})\n",
        "# df_pred.to_csv('df_pred.csv', sep=',', index=False)\n",
        "# files.download('df_pred.csv')"
      ],
      "metadata": {
        "id": "-ihyXX574kiU"
      },
      "execution_count": null,
      "outputs": []
    },
    {
      "cell_type": "code",
      "source": [
        "AGREGAR CROSS VAL RS"
      ],
      "metadata": {
        "id": "_HvmeUeGD6tO"
      },
      "execution_count": null,
      "outputs": []
    }
  ]
}