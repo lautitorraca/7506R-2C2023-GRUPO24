{
  "nbformat": 4,
  "nbformat_minor": 0,
  "metadata": {
    "colab": {
      "provenance": [],
      "authorship_tag": "ABX9TyPuv1x1SN9im5XxEjJoXdKD",
      "include_colab_link": true
    },
    "kernelspec": {
      "name": "python3",
      "display_name": "Python 3"
    },
    "language_info": {
      "name": "python"
    }
  },
  "cells": [
    {
      "cell_type": "markdown",
      "metadata": {
        "id": "view-in-github",
        "colab_type": "text"
      },
      "source": [
        "<a href=\"https://colab.research.google.com/github/lautitorraca/7506R-2C2023-GRUPO24/blob/main/TP1/7506R_TP1_GRUPO24_CHP4_ENTREGA.ipynb\" target=\"_parent\"><img src=\"https://colab.research.google.com/assets/colab-badge.svg\" alt=\"Open In Colab\"/></a>"
      ]
    },
    {
      "cell_type": "code",
      "execution_count": null,
      "metadata": {
        "id": "ehGvC-NyRJ68"
      },
      "outputs": [],
      "source": [
        "# !pip install keras==2.12.0\n",
        "# !pip uninstall tensorflow -y\n",
        "# !pip install tensorflow==2.12.0"
      ]
    },
    {
      "cell_type": "code",
      "source": [
        "# !pip install keras==2.3.1"
      ],
      "metadata": {
        "id": "jurHjxcd5EDM"
      },
      "execution_count": null,
      "outputs": []
    },
    {
      "cell_type": "code",
      "source": [
        "import matplotlib.pyplot as plt\n",
        "import seaborn as sns\n",
        "\n",
        "import pandas as pd\n",
        "import numpy as np\n",
        "\n",
        "from sklearn.metrics import f1_score,  recall_score, precision_score, accuracy_score\n",
        "from sklearn.preprocessing import StandardScaler\n",
        "from sklearn.model_selection import train_test_split\n",
        "\n",
        "\n",
        "import tensorflow as tf\n",
        "from tensorflow import keras\n",
        "# from keras.utils.vis_utils import plot_model\n",
        "# import visualkeras\n",
        "\n",
        "np.random.seed(1)\n",
        "tf.random.set_seed(1)\n",
        "\n",
        "import warnings\n",
        "warnings.filterwarnings(\"ignore\", category=DeprecationWarning)"
      ],
      "metadata": {
        "id": "vIKPivkGRTlu"
      },
      "execution_count": null,
      "outputs": []
    },
    {
      "cell_type": "code",
      "source": [
        "url_train = 'https://raw.githubusercontent.com/lautitorraca/7506R-2C2023-GRUPO24/main/TP1/DataSets/df_train_limpio.csv'\n",
        "url_test = 'https://raw.githubusercontent.com/lautitorraca/7506R-2C2023-GRUPO24/main/TP1/DataSets/df_test_limpio.csv'\n",
        "\n",
        "ds_train_base = pd.read_csv(url_train)\n",
        "ds_test_base = pd.read_csv(url_test)\n",
        "\n",
        "ds_test = ds_test_base.copy()\n",
        "df_test = pd.DataFrame(ds_test_base)\n",
        "\n",
        "ds_train = ds_train_base.copy()\n",
        "df_train = pd.DataFrame(ds_train_base)"
      ],
      "metadata": {
        "id": "UrACfkPURWyl"
      },
      "execution_count": null,
      "outputs": []
    },
    {
      "cell_type": "code",
      "source": [
        "from sklearn.preprocessing import OneHotEncoder, StandardScaler\n",
        "from keras.layers import Dense\n",
        "\n",
        "X = df_train.drop(['is_canceled', 'id'], axis=1)\n",
        "y = df_train['is_canceled']\n",
        "\n",
        "# Split the data set into training and testing\n",
        "x_train, x_test, y_train, y_test = train_test_split(X, y,\n",
        "                                                    test_size=0.3,\n",
        "                                                    random_state=22)\n",
        "# One hot encoding\n",
        "enc = OneHotEncoder()\n",
        "y_train_encoder = enc.fit_transform(y_train[:, np.newaxis]).toarray()\n",
        "y_test_encoder = enc.transform(y_test[:, np.newaxis]).toarray()\n",
        "\n",
        "scaler = StandardScaler()\n",
        "x_train_scaled = scaler.fit_transform(x_train)\n",
        "x_test_scaled = scaler.transform(x_test)"
      ],
      "metadata": {
        "colab": {
          "base_uri": "https://localhost:8080/"
        },
        "id": "myEpBf9QRb0y",
        "outputId": "1007b48c-b010-409f-d06f-6d075bcfc609"
      },
      "execution_count": null,
      "outputs": [
        {
          "output_type": "stream",
          "name": "stderr",
          "text": [
            "<ipython-input-21-25d7f762fe8d>:13: FutureWarning: Support for multi-dimensional indexing (e.g. `obj[:, None]`) is deprecated and will be removed in a future version.  Convert to a numpy array before indexing instead.\n",
            "  y_train_encoder = enc.fit_transform(y_train[:, np.newaxis]).toarray()\n",
            "<ipython-input-21-25d7f762fe8d>:14: FutureWarning: Support for multi-dimensional indexing (e.g. `obj[:, None]`) is deprecated and will be removed in a future version.  Convert to a numpy array before indexing instead.\n",
            "  y_test_encoder = enc.transform(y_test[:, np.newaxis]).toarray()\n"
          ]
        }
      ]
    },
    {
      "cell_type": "code",
      "source": [
        "from tensorflow.keras import regularizers\n",
        "# calcula la cantidad de clases\n",
        "cant_clases=len(np.unique(y_train))\n",
        "\n",
        "l1_factor = 0.001\n",
        "l2_factor = 0.001\n",
        "\n",
        "d_in=len(x_train.columns)\n",
        "modelo_1 = keras.Sequential([\n",
        "    keras.layers.Dense(128,input_shape=(d_in,), activation='relu',kernel_initializer='uniform'), #capa entrada\n",
        "    keras.layers.Dropout(0.4),\n",
        "    keras.layers.Dense(64,activation='relu'),\n",
        "    keras.layers.Dropout(0.4),\n",
        "    keras.layers.Dense(2, activation='sigmoid')]) #capa salida\n",
        "\n",
        "\n",
        "modelo_l1 = keras.Sequential([\n",
        "    keras.layers.Dense(128, input_shape=(d_in,), activation='relu', kernel_initializer='uniform',\n",
        "                       kernel_regularizer=regularizers.l1(l1_factor)),\n",
        "    keras.layers.Dropout(0.4),\n",
        "    keras.layers.Dense(64, activation='relu',\n",
        "                       kernel_regularizer=regularizers.l1(l1_factor)),\n",
        "    keras.layers.Dropout(0.4),\n",
        "    keras.layers.Dense(2, activation='sigmoid',\n",
        "                       kernel_regularizer=regularizers.l1(l1_factor))\n",
        "])\n",
        "\n",
        "modelo_l2 = keras.Sequential([\n",
        "    keras.layers.Dense(128, input_shape=(d_in,), activation='relu', kernel_initializer='uniform',\n",
        "                       kernel_regularizer=regularizers.l2(l2_factor)),\n",
        "    keras.layers.Dropout(0.4),\n",
        "    keras.layers.Dense(64, activation='relu',\n",
        "                       kernel_regularizer=regularizers.l2(l2_factor)),\n",
        "    keras.layers.Dropout(0.4),\n",
        "    keras.layers.Dense(2, activation='sigmoid',\n",
        "                       kernel_regularizer=regularizers.l2(l2_factor))\n",
        "])\n",
        "\n",
        "modelo_l1_l2 = keras.Sequential([\n",
        "    keras.layers.Dense(128, input_shape=(d_in,), activation='relu', kernel_initializer='uniform',\n",
        "                       kernel_regularizer=regularizers.l1_l2(l1=l1_factor, l2=l2_factor)),\n",
        "    keras.layers.Dense(64, activation='relu',\n",
        "                       kernel_regularizer=regularizers.l1_l2(l1=l1_factor, l2=l2_factor)),\n",
        "    keras.layers.Dropout(0.4),\n",
        "    keras.layers.Dense(2, activation='sigmoid',\n",
        "                       kernel_regularizer=regularizers.l1_l2(l1=l1_factor, l2=l2_factor))\n",
        "])\n"
      ],
      "metadata": {
        "id": "ZPM6UX0_Rdtf"
      },
      "execution_count": null,
      "outputs": []
    },
    {
      "cell_type": "code",
      "source": [
        "modelo_1.summary()"
      ],
      "metadata": {
        "colab": {
          "base_uri": "https://localhost:8080/"
        },
        "id": "TJdRhWbTReqb",
        "outputId": "7fdf3b42-0e37-4c0b-a5c2-f715050ee8ed"
      },
      "execution_count": null,
      "outputs": [
        {
          "output_type": "stream",
          "name": "stdout",
          "text": [
            "Model: \"sequential_3\"\n",
            "_________________________________________________________________\n",
            " Layer (type)                Output Shape              Param #   \n",
            "=================================================================\n",
            " dense_9 (Dense)             (None, 128)               6528      \n",
            "                                                                 \n",
            " dropout_6 (Dropout)         (None, 128)               0         \n",
            "                                                                 \n",
            " dense_10 (Dense)            (None, 64)                8256      \n",
            "                                                                 \n",
            " dropout_7 (Dropout)         (None, 64)                0         \n",
            "                                                                 \n",
            " dense_11 (Dense)            (None, 2)                 130       \n",
            "                                                                 \n",
            "=================================================================\n",
            "Total params: 14914 (58.26 KB)\n",
            "Trainable params: 14914 (58.26 KB)\n",
            "Non-trainable params: 0 (0.00 Byte)\n",
            "_________________________________________________________________\n"
          ]
        }
      ]
    },
    {
      "cell_type": "code",
      "source": [
        "modelo_1.compile(\n",
        "  optimizer=keras.optimizers.Adam(learning_rate=0.001, beta_1=0.9, beta_2= 0.999),\n",
        "  loss='binary_crossentropy',\n",
        "  # metricas para ir calculando en cada iteracion o batch\n",
        "  metrics=['AUC'],\n",
        ")\n",
        "\n",
        "cant_epochs=100\n",
        "\n",
        "historia_modelo_1=modelo_1.fit(x_train_scaled,y_train_encoder,epochs=cant_epochs,\n",
        "                                         batch_size=50,verbose=False)\n",
        "\n",
        "modelo_l1.compile(\n",
        "  optimizer=keras.optimizers.Adam(learning_rate=0.001, beta_1=0.9, beta_2= 0.999),\n",
        "  loss='binary_crossentropy',\n",
        "  # metricas para ir calculando en cada iteracion o batch\n",
        "  metrics=['AUC'],\n",
        ")\n",
        "\n",
        "\n",
        "historia_modelo_l1=modelo_l1.fit(x_train_scaled,y_train_encoder,epochs=cant_epochs,\n",
        "                                         batch_size=50,verbose=False)\n",
        "\n",
        "\n",
        "modelo_l2.compile(\n",
        "  optimizer=keras.optimizers.Adam(learning_rate=0.001, beta_1=0.9, beta_2= 0.999),\n",
        "  loss='binary_crossentropy',\n",
        "  # metricas para ir calculando en cada iteracion o batch\n",
        "  metrics=['AUC'],\n",
        ")\n",
        "\n",
        "\n",
        "historia_modelo_l2=modelo_l2.fit(x_train_scaled,y_train_encoder,epochs=cant_epochs,\n",
        "                                         batch_size=50,verbose=False)\n",
        "\n",
        "modelo_l1_l2.compile(\n",
        "  optimizer=keras.optimizers.Adam(learning_rate=0.001, beta_1=0.9, beta_2= 0.999),\n",
        "  loss='binary_crossentropy',\n",
        "  # metricas para ir calculando en cada iteracion o batch\n",
        "  metrics=['AUC'],\n",
        ")\n",
        "\n",
        "cant_epochs=100\n",
        "\n",
        "historia_modelo_l1_l2=modelo_l1_l2.fit(x_train_scaled,y_train_encoder,epochs=cant_epochs,\n",
        "                                         batch_size=50,verbose=False)"
      ],
      "metadata": {
        "id": "UaUowlcURfV9"
      },
      "execution_count": null,
      "outputs": []
    },
    {
      "cell_type": "code",
      "source": [
        "y_predic1 = modelo_1.predict(x_test_scaled)\n",
        "y_predicl1 = modelo_l1.predict(x_test_scaled)\n",
        "y_predicl2 = modelo_l2.predict(x_test_scaled)\n",
        "y_predicl1_l2 = modelo_l1_l2.predict(x_test_scaled)"
      ],
      "metadata": {
        "colab": {
          "base_uri": "https://localhost:8080/"
        },
        "id": "y4yk6qpwRgvq",
        "outputId": "8cdcf28c-cf6a-433d-9d34-c50be449db47"
      },
      "execution_count": null,
      "outputs": [
        {
          "output_type": "stream",
          "name": "stdout",
          "text": [
            "581/581 [==============================] - 1s 1ms/step\n",
            "581/581 [==============================] - 2s 3ms/step\n",
            "581/581 [==============================] - 2s 3ms/step\n",
            "581/581 [==============================] - 1s 2ms/step\n"
          ]
        }
      ]
    },
    {
      "cell_type": "markdown",
      "source": [
        "Modelos Dropout"
      ],
      "metadata": {
        "id": "hR5ytaRACvx9"
      }
    },
    {
      "cell_type": "code",
      "source": [
        "\n",
        "y_predic_cat_1 = np.where(y_predic1>=0.7,1,0)\n",
        "y_predic_cat_1= y_predic_cat_1[:, 1]\n",
        "\n",
        "ds_validacion=pd.DataFrame(y_predic_cat_1 ,y_test).reset_index()\n",
        "ds_validacion.columns=['y_pred','y_real']\n",
        "\n",
        "tabla1=pd.crosstab(ds_validacion.y_pred, ds_validacion.y_real)\n",
        "grf1=sns.heatmap(tabla1,annot=True, cmap = 'Blues', fmt='g')\n",
        "plt.show()"
      ],
      "metadata": {
        "colab": {
          "base_uri": "https://localhost:8080/",
          "height": 450
        },
        "id": "Xak88k0LRikS",
        "outputId": "c3a27dbe-c307-4fee-dc61-4cd8b5122922"
      },
      "execution_count": null,
      "outputs": [
        {
          "output_type": "display_data",
          "data": {
            "text/plain": [
              "<Figure size 640x480 with 2 Axes>"
            ],
            "image/png": "[encoded data removed]"
          },
          "metadata": {}
        }
      ]
    },
    {
      "cell_type": "code",
      "source": [
        "modelo_1.evaluate(x_test_scaled, y_test_encoder, verbose=2)"
      ],
      "metadata": {
        "colab": {
          "base_uri": "https://localhost:8080/"
        },
        "id": "u7gjmqLkRjW6",
        "outputId": "e36cebb2-8d4e-4b20-c6eb-0603d44c9979"
      },
      "execution_count": null,
      "outputs": [
        {
          "output_type": "stream",
          "name": "stdout",
          "text": [
            "581/581 - 1s - loss: 0.3186 - auc: 0.9353 - 1s/epoch - 2ms/step\n"
          ]
        },
        {
          "output_type": "execute_result",
          "data": {
            "text/plain": [
              "[0.3185735046863556, 0.9352980256080627]"
            ]
          },
          "metadata": {},
          "execution_count": 29
        }
      ]
    },
    {
      "cell_type": "code",
      "source": [
        "from google.colab import files\n",
        "df_test_pred = df_test.drop(['is_canceled', 'id'], axis=1)\n",
        "\n",
        "ids = df_test['id'].copy()\n",
        "\n",
        "df_test_scal  = scaler.transform(df_test_pred)\n",
        "\n",
        "prediccion_dropout = modelo_1.predict(df_test_scal)\n",
        "prediccion_bin_dropout = np.where(prediccion_dropout > 0.7, 1, 0).astype(int)\n",
        "prediccion_bin_dropout= prediccion_bin_dropout[:, 1]\n",
        "\n",
        "\n",
        "df_pred_drop = pd.DataFrame({'id': ids, 'is_canceled': prediccion_bin_dropout})\n",
        "df_pred_drop.to_csv('df_pred_drop.csv', sep=',', index=False)\n",
        "files.download('df_pred_drop.csv')"
      ],
      "metadata": {
        "colab": {
          "base_uri": "https://localhost:8080/",
          "height": 35
        },
        "id": "238cqc6mHgWr",
        "outputId": "e64509b5-b72e-430a-a1ca-e74f9a574b3b"
      },
      "execution_count": null,
      "outputs": [
        {
          "output_type": "stream",
          "name": "stdout",
          "text": [
            "830/830 [==============================] - 2s 2ms/step\n"
          ]
        },
        {
          "output_type": "display_data",
          "data": {
            "text/plain": [
              "<IPython.core.display.Javascript object>"
            ],
            "application/javascript": [
              "\n",
              "    async function download(id, filename, size) {\n",
              "      if (!google.colab.kernel.accessAllowed) {\n",
              "        return;\n",
              "      }\n",
              "      const div = document.createElement('div');\n",
              "      const label = document.createElement('label');\n",
              "      label.textContent = `Downloading \"${filename}\": `;\n",
              "      div.appendChild(label);\n",
              "      const progress = document.createElement('progress');\n",
              "      progress.max = size;\n",
              "      div.appendChild(progress);\n",
              "      document.body.appendChild(div);\n",
              "\n",
              "      const buffers = [];\n",
              "      let downloaded = 0;\n",
              "\n",
              "      const channel = await google.colab.kernel.comms.open(id);\n",
              "      // Send a message to notify the kernel that we're ready.\n",
              "      channel.send({})\n",
              "\n",
              "      for await (const message of channel.messages) {\n",
              "        // Send a message to notify the kernel that we're ready.\n",
              "        channel.send({})\n",
              "        if (message.buffers) {\n",
              "          for (const buffer of message.buffers) {\n",
              "            buffers.push(buffer);\n",
              "            downloaded += buffer.byteLength;\n",
              "            progress.value = downloaded;\n",
              "          }\n",
              "        }\n",
              "      }\n",
              "      const blob = new Blob(buffers, {type: 'application/binary'});\n",
              "      const a = document.createElement('a');\n",
              "      a.href = window.URL.createObjectURL(blob);\n",
              "      a.download = filename;\n",
              "      div.appendChild(a);\n",
              "      a.click();\n",
              "      div.remove();\n",
              "    }\n",
              "  "
            ]
          },
          "metadata": {}
        },
        {
          "output_type": "display_data",
          "data": {
            "text/plain": [
              "<IPython.core.display.Javascript object>"
            ],
            "application/javascript": [
              "download(\"download_398290a0-5ebc-447d-b5c8-79024f367416\", \"df_pred_drop.csv\", 1034880)"
            ]
          },
          "metadata": {}
        }
      ]
    },
    {
      "cell_type": "markdown",
      "source": [
        "Modelo con L1"
      ],
      "metadata": {
        "id": "albn6xwNC4ab"
      }
    },
    {
      "cell_type": "code",
      "source": [
        "\n",
        "y_predic_cat_l1 = np.where(y_predicl1>=0.7,1,0)\n",
        "y_predic_cat_l1= y_predic_cat_l1[:, 1]\n",
        "\n",
        "ds_validacion_l1=pd.DataFrame(y_predic_cat_1 ,y_test).reset_index()\n",
        "ds_validacion_l1.columns=['y_pred','y_real']\n",
        "\n",
        "tabla2=pd.crosstab(ds_validacion_l1.y_pred, ds_validacion_l1.y_real)\n",
        "grf2=sns.heatmap(tabla2,annot=True, cmap = 'Blues', fmt='g')\n",
        "plt.show()"
      ],
      "metadata": {
        "colab": {
          "base_uri": "https://localhost:8080/",
          "height": 450
        },
        "id": "LXcMFtDII3yi",
        "outputId": "4ceab57d-1372-48b5-c7d4-38296bcec81a"
      },
      "execution_count": null,
      "outputs": [
        {
          "output_type": "display_data",
          "data": {
            "text/plain": [
              "<Figure size 640x480 with 2 Axes>"
            ],
            "image/png": "[encoded data removed]"
          },
          "metadata": {}
        }
      ]
    },
    {
      "cell_type": "code",
      "source": [
        "modelo_l1.evaluate(x_test_scaled, y_test_encoder, verbose=2)"
      ],
      "metadata": {
        "colab": {
          "base_uri": "https://localhost:8080/"
        },
        "id": "R3D1kuv8C5lt",
        "outputId": "848476fd-66ec-45f7-9c5f-edd052b6090c"
      },
      "execution_count": null,
      "outputs": [
        {
          "output_type": "stream",
          "name": "stdout",
          "text": [
            "581/581 - 2s - loss: 0.4292 - auc: 0.9202 - 2s/epoch - 3ms/step\n"
          ]
        },
        {
          "output_type": "execute_result",
          "data": {
            "text/plain": [
              "[0.4291686713695526, 0.9201831221580505]"
            ]
          },
          "metadata": {},
          "execution_count": 31
        }
      ]
    },
    {
      "cell_type": "code",
      "source": [
        "prediccion_l1 = modelo_l1.predict(df_test_scal)\n",
        "prediccion_bin_l1 = np.where(prediccion_l1 > 0.7, 1, 0).astype(int)\n",
        "prediccion_bin_l1 = prediccion_bin_l1[:, 1]\n",
        "\n",
        "\n",
        "df_pred_l1 = pd.DataFrame({'id': ids, 'is_canceled': prediccion_bin_l1})\n",
        "df_pred_l1.to_csv('df_pred_l1.csv', sep=',', index=False)\n",
        "files.download('df_pred_l1.csv')"
      ],
      "metadata": {
        "colab": {
          "base_uri": "https://localhost:8080/",
          "height": 35
        },
        "id": "Gu3NhUReHf0O",
        "outputId": "d7cf0503-8f11-456a-828d-b43d2aeb3fdf"
      },
      "execution_count": null,
      "outputs": [
        {
          "output_type": "stream",
          "name": "stdout",
          "text": [
            "830/830 [==============================] - 1s 1ms/step\n"
          ]
        },
        {
          "output_type": "display_data",
          "data": {
            "text/plain": [
              "<IPython.core.display.Javascript object>"
            ],
            "application/javascript": [
              "\n",
              "    async function download(id, filename, size) {\n",
              "      if (!google.colab.kernel.accessAllowed) {\n",
              "        return;\n",
              "      }\n",
              "      const div = document.createElement('div');\n",
              "      const label = document.createElement('label');\n",
              "      label.textContent = `Downloading \"${filename}\": `;\n",
              "      div.appendChild(label);\n",
              "      const progress = document.createElement('progress');\n",
              "      progress.max = size;\n",
              "      div.appendChild(progress);\n",
              "      document.body.appendChild(div);\n",
              "\n",
              "      const buffers = [];\n",
              "      let downloaded = 0;\n",
              "\n",
              "      const channel = await google.colab.kernel.comms.open(id);\n",
              "      // Send a message to notify the kernel that we're ready.\n",
              "      channel.send({})\n",
              "\n",
              "      for await (const message of channel.messages) {\n",
              "        // Send a message to notify the kernel that we're ready.\n",
              "        channel.send({})\n",
              "        if (message.buffers) {\n",
              "          for (const buffer of message.buffers) {\n",
              "            buffers.push(buffer);\n",
              "            downloaded += buffer.byteLength;\n",
              "            progress.value = downloaded;\n",
              "          }\n",
              "        }\n",
              "      }\n",
              "      const blob = new Blob(buffers, {type: 'application/binary'});\n",
              "      const a = document.createElement('a');\n",
              "      a.href = window.URL.createObjectURL(blob);\n",
              "      a.download = filename;\n",
              "      div.appendChild(a);\n",
              "      a.click();\n",
              "      div.remove();\n",
              "    }\n",
              "  "
            ]
          },
          "metadata": {}
        },
        {
          "output_type": "display_data",
          "data": {
            "text/plain": [
              "<IPython.core.display.Javascript object>"
            ],
            "application/javascript": [
              "download(\"download_ebf0b1e1-aa7e-46ef-bb59-07ee7a62474a\", \"df_pred_l1.csv\", 1034880)"
            ]
          },
          "metadata": {}
        }
      ]
    },
    {
      "cell_type": "markdown",
      "source": [
        "Modelo con L2"
      ],
      "metadata": {
        "id": "wArbkOuXC6T3"
      }
    },
    {
      "cell_type": "code",
      "source": [
        "\n",
        "y_predic_cat_l2 = np.where(y_predicl2>=0.7,1,0)\n",
        "y_predic_cat_l2= y_predic_cat_l2[:, 1]\n",
        "\n",
        "ds_validacion_l2=pd.DataFrame(y_predic_cat_l2 ,y_test).reset_index()\n",
        "ds_validacion_l2.columns=['y_pred','y_real']\n",
        "\n",
        "tabla3=pd.crosstab(ds_validacion_l2.y_pred, ds_validacion_l2.y_real)\n",
        "grf3=sns.heatmap(tabla3,annot=True, cmap = 'Blues', fmt='g')\n",
        "plt.show()"
      ],
      "metadata": {
        "colab": {
          "base_uri": "https://localhost:8080/",
          "height": 450
        },
        "id": "QwrqBqxzJRBc",
        "outputId": "859f5210-4016-417f-d4cd-d72d8b811bd3"
      },
      "execution_count": null,
      "outputs": [
        {
          "output_type": "display_data",
          "data": {
            "text/plain": [
              "<Figure size 640x480 with 2 Axes>"
            ],
            "image/png": "[encoded data removed]"
          },
          "metadata": {}
        }
      ]
    },
    {
      "cell_type": "code",
      "source": [
        "modelo_l2.evaluate(x_test_scaled, y_test_encoder, verbose=2)"
      ],
      "metadata": {
        "colab": {
          "base_uri": "https://localhost:8080/"
        },
        "id": "PzNLdFrCC7aS",
        "outputId": "edaeea37-ee0e-47b7-e1b9-2f94f02c0248"
      },
      "execution_count": null,
      "outputs": [
        {
          "output_type": "stream",
          "name": "stdout",
          "text": [
            "581/581 - 1s - loss: 0.3662 - auc: 0.9275 - 1s/epoch - 2ms/step\n"
          ]
        },
        {
          "output_type": "execute_result",
          "data": {
            "text/plain": [
              "[0.36615464091300964, 0.9275435209274292]"
            ]
          },
          "metadata": {},
          "execution_count": 36
        }
      ]
    },
    {
      "cell_type": "code",
      "source": [
        "prediccion_l2 = modelo_l2.predict(df_test_scal)\n",
        "prediccion_bin_l2 = np.where(prediccion_l2 > 0.7, 1, 0).astype(int)\n",
        "prediccion_bin_l2 = prediccion_bin_l2[:, 1]\n",
        "\n",
        "\n",
        "df_pred_l2 = pd.DataFrame({'id': ids, 'is_canceled': prediccion_bin_l2})\n",
        "df_pred_l2.to_csv('df_pred_l2.csv', sep=',', index=False)\n",
        "files.download('df_pred_l2.csv')"
      ],
      "metadata": {
        "colab": {
          "base_uri": "https://localhost:8080/",
          "height": 35
        },
        "id": "QNtC1FJvHfkX",
        "outputId": "33b02e23-d444-4001-b43e-93e2addbaf95"
      },
      "execution_count": null,
      "outputs": [
        {
          "output_type": "stream",
          "name": "stdout",
          "text": [
            "830/830 [==============================] - 2s 2ms/step\n"
          ]
        },
        {
          "output_type": "display_data",
          "data": {
            "text/plain": [
              "<IPython.core.display.Javascript object>"
            ],
            "application/javascript": [
              "\n",
              "    async function download(id, filename, size) {\n",
              "      if (!google.colab.kernel.accessAllowed) {\n",
              "        return;\n",
              "      }\n",
              "      const div = document.createElement('div');\n",
              "      const label = document.createElement('label');\n",
              "      label.textContent = `Downloading \"${filename}\": `;\n",
              "      div.appendChild(label);\n",
              "      const progress = document.createElement('progress');\n",
              "      progress.max = size;\n",
              "      div.appendChild(progress);\n",
              "      document.body.appendChild(div);\n",
              "\n",
              "      const buffers = [];\n",
              "      let downloaded = 0;\n",
              "\n",
              "      const channel = await google.colab.kernel.comms.open(id);\n",
              "      // Send a message to notify the kernel that we're ready.\n",
              "      channel.send({})\n",
              "\n",
              "      for await (const message of channel.messages) {\n",
              "        // Send a message to notify the kernel that we're ready.\n",
              "        channel.send({})\n",
              "        if (message.buffers) {\n",
              "          for (const buffer of message.buffers) {\n",
              "            buffers.push(buffer);\n",
              "            downloaded += buffer.byteLength;\n",
              "            progress.value = downloaded;\n",
              "          }\n",
              "        }\n",
              "      }\n",
              "      const blob = new Blob(buffers, {type: 'application/binary'});\n",
              "      const a = document.createElement('a');\n",
              "      a.href = window.URL.createObjectURL(blob);\n",
              "      a.download = filename;\n",
              "      div.appendChild(a);\n",
              "      a.click();\n",
              "      div.remove();\n",
              "    }\n",
              "  "
            ]
          },
          "metadata": {}
        },
        {
          "output_type": "display_data",
          "data": {
            "text/plain": [
              "<IPython.core.display.Javascript object>"
            ],
            "application/javascript": [
              "download(\"download_d9bb3f70-d0b4-4441-8a09-0ee3b7840fad\", \"df_pred_l2.csv\", 1034880)"
            ]
          },
          "metadata": {}
        }
      ]
    },
    {
      "cell_type": "markdown",
      "source": [
        "Modelo con L1 y L2"
      ],
      "metadata": {
        "id": "8yITdBSbC8_m"
      }
    },
    {
      "cell_type": "code",
      "source": [
        "y_predic_cat_l1_l2 = np.where(y_predicl1_l2>=0.7,1,0)\n",
        "y_predic_cat_l1_l2= y_predic_cat_l1_l2[:, 1]\n",
        "\n",
        "ds_validacion_l1_l2=pd.DataFrame(y_predic_cat_l1_l2 ,y_test).reset_index()\n",
        "ds_validacion_l1_l2.columns=['y_pred','y_real']\n",
        "\n",
        "tabla4=pd.crosstab(ds_validacion_l1_l2.y_pred, ds_validacion_l1_l2.y_real)\n",
        "grf4=sns.heatmap(tabla4,annot=True, cmap = 'Blues', fmt='g')\n",
        "plt.show()"
      ],
      "metadata": {
        "colab": {
          "base_uri": "https://localhost:8080/",
          "height": 450
        },
        "id": "QlqyqXPrJV0T",
        "outputId": "0ffe90d7-9a21-48dc-8e8e-a861f9add26b"
      },
      "execution_count": null,
      "outputs": [
        {
          "output_type": "display_data",
          "data": {
            "text/plain": [
              "<Figure size 640x480 with 2 Axes>"
            ],
            "image/png": "[encoded data removed]"
          },
          "metadata": {}
        }
      ]
    },
    {
      "cell_type": "code",
      "source": [
        "modelo_l1_l2.evaluate(x_test_scaled, y_test_encoder, verbose=2)"
      ],
      "metadata": {
        "colab": {
          "base_uri": "https://localhost:8080/"
        },
        "id": "riut7DxHC-3a",
        "outputId": "27836386-7dc2-43a4-ced3-9cc1ceb493c8"
      },
      "execution_count": null,
      "outputs": [
        {
          "output_type": "stream",
          "name": "stdout",
          "text": [
            "581/581 - 1s - loss: 0.4138 - auc: 0.9212 - 1s/epoch - 2ms/step\n"
          ]
        },
        {
          "output_type": "execute_result",
          "data": {
            "text/plain": [
              "[0.41379863023757935, 0.9212386608123779]"
            ]
          },
          "metadata": {},
          "execution_count": 38
        }
      ]
    },
    {
      "cell_type": "code",
      "source": [
        "\n",
        "prediccion_l1_l2 = modelo_l1_l2.predict(df_test_scal)\n",
        "prediccion_bin_l1_l2 = np.where(prediccion_l1_l2 > 0.7, 1, 0).astype(int)\n",
        "prediccion_bin_l1_l2 = prediccion_bin_l1_l2[:, 1]\n",
        "\n",
        "df_pred_l1_l2= pd.DataFrame({'id': ids, 'is_canceled': prediccion_bin_l1_l2})\n",
        "df_pred_l1_l2.to_csv('df_pred_l1_l2.csv', sep=',', index=False)\n",
        "files.download('df_pred_l1_l2.csv')"
      ],
      "metadata": {
        "colab": {
          "base_uri": "https://localhost:8080/",
          "height": 35
        },
        "id": "_rM9zJQsRj-3",
        "outputId": "986eb064-cab0-4188-e2df-6dc02dc754be"
      },
      "execution_count": null,
      "outputs": [
        {
          "output_type": "stream",
          "name": "stdout",
          "text": [
            "830/830 [==============================] - 2s 2ms/step\n"
          ]
        },
        {
          "output_type": "display_data",
          "data": {
            "text/plain": [
              "<IPython.core.display.Javascript object>"
            ],
            "application/javascript": [
              "\n",
              "    async function download(id, filename, size) {\n",
              "      if (!google.colab.kernel.accessAllowed) {\n",
              "        return;\n",
              "      }\n",
              "      const div = document.createElement('div');\n",
              "      const label = document.createElement('label');\n",
              "      label.textContent = `Downloading \"${filename}\": `;\n",
              "      div.appendChild(label);\n",
              "      const progress = document.createElement('progress');\n",
              "      progress.max = size;\n",
              "      div.appendChild(progress);\n",
              "      document.body.appendChild(div);\n",
              "\n",
              "      const buffers = [];\n",
              "      let downloaded = 0;\n",
              "\n",
              "      const channel = await google.colab.kernel.comms.open(id);\n",
              "      // Send a message to notify the kernel that we're ready.\n",
              "      channel.send({})\n",
              "\n",
              "      for await (const message of channel.messages) {\n",
              "        // Send a message to notify the kernel that we're ready.\n",
              "        channel.send({})\n",
              "        if (message.buffers) {\n",
              "          for (const buffer of message.buffers) {\n",
              "            buffers.push(buffer);\n",
              "            downloaded += buffer.byteLength;\n",
              "            progress.value = downloaded;\n",
              "          }\n",
              "        }\n",
              "      }\n",
              "      const blob = new Blob(buffers, {type: 'application/binary'});\n",
              "      const a = document.createElement('a');\n",
              "      a.href = window.URL.createObjectURL(blob);\n",
              "      a.download = filename;\n",
              "      div.appendChild(a);\n",
              "      a.click();\n",
              "      div.remove();\n",
              "    }\n",
              "  "
            ]
          },
          "metadata": {}
        },
        {
          "output_type": "display_data",
          "data": {
            "text/plain": [
              "<IPython.core.display.Javascript object>"
            ],
            "application/javascript": [
              "download(\"download_e62db573-50de-4c94-abc9-84554c303b1a\", \"df_pred_l1_l2.csv\", 1034880)"
            ]
          },
          "metadata": {}
        }
      ]
    },
    {
      "cell_type": "code",
      "source": [
        "from keras import Sequential, layers, optimizers\n",
        "from keras.metrics import AUC\n",
        "\n",
        "# Función para crear y entrenar un modelo con parámetros específicos\n",
        "def train_model(epochs, batch_size):\n",
        "    modelo = Sequential([\n",
        "        layers.Dense(128, input_shape=(d_in,), activation='relu', kernel_initializer='uniform'),\n",
        "        layers.Dropout(0.4),\n",
        "        layers.Dense(64, activation='relu'),\n",
        "        layers.Dropout(0.4),\n",
        "        layers.Dense(2, activation='sigmoid')\n",
        "    ])\n",
        "\n",
        "    modelo.compile(\n",
        "        optimizer=optimizers.Adam(learning_rate=0.001, beta_1=0.0, beta_2=0.999),\n",
        "        loss='binary_crossentropy',\n",
        "        metrics=[AUC(name='auc')],\n",
        "    )\n",
        "\n",
        "    history = modelo.fit(x_train_scaled, y_train_encoder, epochs=epochs, batch_size=batch_size, verbose=0, validation_split=0.2)\n",
        "    return history.history['val_auc'][-1]\n",
        "\n",
        "\n",
        "# Definir los parámetros para la búsqueda\n",
        "epochs_options = [50,100]\n",
        "batches_options = [5,10]\n",
        "\n",
        "best_auc = 0\n",
        "best_params = {}\n",
        "\n",
        "# Realizar la búsqueda manualmente\n",
        "for epochs in epochs_options:\n",
        "    for batch_size in batches_options:\n",
        "        auc = train_model(epochs, batch_size)\n",
        "        if auc > best_auc:\n",
        "            best_auc = auc\n",
        "            best_params = {'epochs': epochs, 'batch_size': batch_size}\n",
        "\n"
      ],
      "metadata": {
        "id": "rvbVqfzLRlf7"
      },
      "execution_count": null,
      "outputs": []
    },
    {
      "cell_type": "code",
      "source": [
        "print(f\"Mejor AUC: {best_auc} usando {best_params}\")"
      ],
      "metadata": {
        "id": "hkdJMAdwZPVA"
      },
      "execution_count": null,
      "outputs": []
    },
    {
      "cell_type": "markdown",
      "source": [
        "Mejor AUC: 0.932507336139679 usando {'epochs': 100, 'batch_size': 20}"
      ],
      "metadata": {
        "id": "rbRoBer89FFY"
      }
    },
    {
      "cell_type": "code",
      "source": [
        "modelo_2 = keras.Sequential([\n",
        "        layers.Dense(128, input_shape=(d_in,), activation='relu', kernel_initializer='uniform'),\n",
        "        layers.Dropout(0.4),\n",
        "        layers.Dense(64, activation='relu'),\n",
        "        layers.Dropout(0.4),\n",
        "        layers.Dense(2, activation='sigmoid')\n",
        "    ])\n",
        "\n",
        "modelo_2.compile(\n",
        "  optimizer=keras.optimizers.Adam(learning_rate=0.001, beta_1=0.9, beta_2= 0.999),\n",
        "  loss='binary_crossentropy',\n",
        "  # metricas para ir calculando en cada iteracion o batch\n",
        "  metrics=['AUC'],\n",
        ")\n",
        "\n",
        "historia_modelo_2=modelo_2.fit(x_train_scaled,y_train_encoder,epochs=100,\n",
        "                                         batch_size=20,verbose=False)"
      ],
      "metadata": {
        "id": "Wk_xx3SOYZci"
      },
      "execution_count": null,
      "outputs": []
    },
    {
      "cell_type": "code",
      "source": [
        "y_predic2 = modelo_2.predict(x_test_scaled)"
      ],
      "metadata": {
        "id": "eAtd_n77SY_Q"
      },
      "execution_count": null,
      "outputs": []
    },
    {
      "cell_type": "code",
      "source": [
        "y_predic_cat_2 = np.where(y_predic2>=0.7,1,0)\n",
        "y_predic_cat_2= y_predic_cat_2[:, 1]\n",
        "\n",
        "ds_validacion2=pd.DataFrame(y_predic_cat_2 ,y_test).reset_index()\n",
        "ds_validacion2.columns=['y_pred','y_real']\n",
        "\n",
        "tabla2=pd.crosstab(ds_validacion2.y_pred, ds_validacion2.y_real)\n",
        "grf2=sns.heatmap(tabla2,annot=True, cmap = 'Blues')\n",
        "plt.show()"
      ],
      "metadata": {
        "id": "092aIp7qSZrm"
      },
      "execution_count": null,
      "outputs": []
    },
    {
      "cell_type": "code",
      "source": [
        "modelo_2.evaluate(x_test_scaled, y_test_encoder, verbose=2)"
      ],
      "metadata": {
        "id": "xtq0NFDWSayM"
      },
      "execution_count": null,
      "outputs": []
    },
    {
      "cell_type": "code",
      "source": [
        "\n",
        "\n",
        "prediccion2 = modelo_2.predict(df_test_scal)\n",
        "prediccion_bin2 = np.where(prediccion2 > 0.7, 1, 0).astype(int)\n",
        "prediccion_bin2 = prediccion_bin2[:, 1]\n",
        "\n",
        "\n",
        "df_pred2 = pd.DataFrame({'id': ids, 'is_canceled': prediccion_bin2})\n",
        "df_pred2.to_csv('df_pred.csv', sep=',', index=False)\n",
        "files.download('df_pred.csv')"
      ],
      "metadata": {
        "id": "rM5YiwY5bCKO"
      },
      "execution_count": null,
      "outputs": []
    }
  ]
}