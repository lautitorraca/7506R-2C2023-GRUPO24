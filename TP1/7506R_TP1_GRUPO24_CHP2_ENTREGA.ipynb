{
  "nbformat": 4,
  "nbformat_minor": 0,
  "metadata": {
    "colab": {
      "provenance": [],
      "authorship_tag": "ABX9TyPXO0UvsPEEf94js7cdJc3B",
      "include_colab_link": true
    },
    "kernelspec": {
      "name": "python3",
      "display_name": "Python 3"
    },
    "language_info": {
      "name": "python"
    }
  },
  "cells": [
    {
      "cell_type": "markdown",
      "metadata": {
        "id": "view-in-github",
        "colab_type": "text"
      },
      "source": [
        "<a href=\"https://colab.research.google.com/github/lautitorraca/7506R-2C2023-GRUPO24/blob/main/TP1/7506R_TP1_GRUPO24_CHP2_ENTREGA.ipynb\" target=\"_parent\"><img src=\"https://colab.research.google.com/assets/colab-badge.svg\" alt=\"Open In Colab\"/></a>"
      ]
    },
    {
      "cell_type": "markdown",
      "source": [
        "# Trabajo Practico 1: Reservas de Hotel\n",
        "\n",
        "## 𝔾𝕣𝕦𝕡𝕠 𝟚𝟜 (Merequetengue👍)\n",
        "\n",
        "      ➢ Torraca Lautaro - 108813\n",
        "      ➢ Negrotti Gianluca - 108184\n",
        "      ➢ Marco Tosi - 107237"
      ],
      "metadata": {
        "id": "qeh6KskeUyzU"
      }
    },
    {
      "cell_type": "markdown",
      "source": [
        "### » Imports"
      ],
      "metadata": {
        "id": "eJEpV3GZ4zvJ"
      }
    },
    {
      "cell_type": "code",
      "source": [
        "import pandas as pd\n",
        "import numpy as np\n",
        "\n",
        "import matplotlib.pyplot as plt\n",
        "import seaborn as sns\n",
        "\n",
        "from sklearn import tree\n",
        "from sklearn.model_selection import train_test_split\n",
        "from sklearn.metrics import precision_score, recall_score, accuracy_score,f1_score\n",
        "from sklearn.metrics import confusion_matrix, classification_report\n",
        "from sklearn.model_selection import train_test_split\n",
        "\n",
        "from sklearn.preprocessing import MinMaxScaler\n",
        "\n",
        "from google.colab import files\n",
        "\n",
        "\n",
        "import warnings\n",
        "warnings.simplefilter(action='ignore', category=FutureWarning)\n",
        "warnings.simplefilter(action='ignore', category=UserWarning)"
      ],
      "metadata": {
        "id": "92asqtvlSlaP"
      },
      "execution_count": 2912,
      "outputs": []
    },
    {
      "cell_type": "markdown",
      "source": [
        "# » Lectura de los archivos"
      ],
      "metadata": {
        "id": "HGPN2owAU8PS"
      }
    },
    {
      "cell_type": "code",
      "source": [
        "url_train = 'https://raw.githubusercontent.com/lautitorraca/7506R-2C2023-GRUPO24/main/TP1/DataSets/hotels_train.csv'\n",
        "url_test = 'https://raw.githubusercontent.com/lautitorraca/7506R-2C2023-GRUPO24/main/TP1/DataSets/test_limpio%20-%20ds_unificado.csv'\n",
        "\n",
        "ds_train_base = pd.read_csv(url_train)\n",
        "ds_test_base = pd.read_csv(url_test)\n",
        "\n",
        "ds_test = ds_test_base.copy()\n",
        "df_test = pd.DataFrame(ds_test_base)\n",
        "\n",
        "ds_train = ds_train_base.copy()\n",
        "df_train = pd.DataFrame(ds_train_base)"
      ],
      "metadata": {
        "id": "yfzqoZ_PSqe6"
      },
      "execution_count": 2913,
      "outputs": []
    },
    {
      "cell_type": "markdown",
      "source": [
        "# » Analisis del DataSet de train\n",
        "\n",
        "\n",
        "Realizamos un breve analizis sobre el dataset para ver valores atipicos y/o valores nulos los cuales no queremos tenerlos en cuenta."
      ],
      "metadata": {
        "id": "y9DIfF8947xJ"
      }
    },
    {
      "cell_type": "markdown",
      "source": [
        "### » Muestra del DataSet de Train\n"
      ],
      "metadata": {
        "id": "46dFZ4P_U_rx"
      }
    },
    {
      "cell_type": "code",
      "source": [
        "ds_train.head()"
      ],
      "metadata": {
        "colab": {
          "base_uri": "https://localhost:8080/",
          "height": 516
        },
        "id": "6qAVzZI3VB-3",
        "outputId": "3d341de2-b708-4342-93a0-376be5e112e7"
      },
      "execution_count": 2914,
      "outputs": [
        {
          "output_type": "execute_result",
          "data": {
            "text/plain": [
              "          hotel  lead_time  arrival_date_year arrival_date_month  \\\n",
              "0    City Hotel         49               2016          September   \n",
              "1  Resort Hotel          4               2015            October   \n",
              "2    City Hotel         25               2016            October   \n",
              "3    City Hotel         26               2016           December   \n",
              "4    City Hotel        104               2017              March   \n",
              "\n",
              "   arrival_date_week_number  arrival_date_day_of_month  \\\n",
              "0                        37                          5   \n",
              "1                        44                         31   \n",
              "2                        42                         13   \n",
              "3                        51                         12   \n",
              "4                        12                         19   \n",
              "\n",
              "   stays_in_weekend_nights  stays_in_week_nights  adults  children  ...  \\\n",
              "0                        1                     2       1       0.0  ...   \n",
              "1                        0                     1       2       0.0  ...   \n",
              "2                        0                     1       2       2.0  ...   \n",
              "3                        2                     5       2       0.0  ...   \n",
              "4                        2                     5       2       0.0  ...   \n",
              "\n",
              "   deposit_type  agent company days_in_waiting_list    customer_type    adr  \\\n",
              "0    No Deposit    9.0     NaN                    0        Transient  115.5   \n",
              "1    No Deposit    NaN     NaN                    0        Transient   42.0   \n",
              "2    No Deposit    9.0     NaN                    0        Transient  229.0   \n",
              "3    Non Refund  154.0     NaN                    0        Transient   75.0   \n",
              "4    No Deposit   20.0     NaN                    0  Transient-Party   75.0   \n",
              "\n",
              "   required_car_parking_spaces  total_of_special_requests  \\\n",
              "0                            0                          1   \n",
              "1                            1                          0   \n",
              "2                            0                          2   \n",
              "3                            0                          0   \n",
              "4                            0                          1   \n",
              "\n",
              "                                     id is_canceled  \n",
              "0  7aa4cc6b-b92c-4061-b21d-4f9e0cac4689           1  \n",
              "1  b1428f80-c56c-4ae4-91a9-6962edae08b1           0  \n",
              "2  2226c018-ea20-4c4e-8f71-ea66aee70d7c           0  \n",
              "3  314f56dc-2e4d-4298-9bdd-27bb008bffff           1  \n",
              "4  28c75445-c603-413a-babf-ad377018b592           0  \n",
              "\n",
              "[5 rows x 31 columns]"
            ],
            "text/html": [
              "\n",
              "  <div id=\"df-cd459e95-4d7b-4c42-a56c-c6ecc124fc35\" class=\"colab-df-container\">\n",
              "    <div>\n",
              "<style scoped>\n",
              "    .dataframe tbody tr th:only-of-type {\n",
              "        vertical-align: middle;\n",
              "    }\n",
              "\n",
              "    .dataframe tbody tr th {\n",
              "        vertical-align: top;\n",
              "    }\n",
              "\n",
              "    .dataframe thead th {\n",
              "        text-align: right;\n",
              "    }\n",
              "</style>\n",
              "<table border=\"1\" class=\"dataframe\">\n",
              "  <thead>\n",
              "    <tr style=\"text-align: right;\">\n",
              "      <th></th>\n",
              "      <th>hotel</th>\n",
              "      <th>lead_time</th>\n",
              "      <th>arrival_date_year</th>\n",
              "      <th>arrival_date_month</th>\n",
              "      <th>arrival_date_week_number</th>\n",
              "      <th>arrival_date_day_of_month</th>\n",
              "      <th>stays_in_weekend_nights</th>\n",
              "      <th>stays_in_week_nights</th>\n",
              "      <th>adults</th>\n",
              "      <th>children</th>\n",
              "      <th>...</th>\n",
              "      <th>deposit_type</th>\n",
              "      <th>agent</th>\n",
              "      <th>company</th>\n",
              "      <th>days_in_waiting_list</th>\n",
              "      <th>customer_type</th>\n",
              "      <th>adr</th>\n",
              "      <th>required_car_parking_spaces</th>\n",
              "      <th>total_of_special_requests</th>\n",
              "      <th>id</th>\n",
              "      <th>is_canceled</th>\n",
              "    </tr>\n",
              "  </thead>\n",
              "  <tbody>\n",
              "    <tr>\n",
              "      <th>0</th>\n",
              "      <td>City Hotel</td>\n",
              "      <td>49</td>\n",
              "      <td>2016</td>\n",
              "      <td>September</td>\n",
              "      <td>37</td>\n",
              "      <td>5</td>\n",
              "      <td>1</td>\n",
              "      <td>2</td>\n",
              "      <td>1</td>\n",
              "      <td>0.0</td>\n",
              "      <td>...</td>\n",
              "      <td>No Deposit</td>\n",
              "      <td>9.0</td>\n",
              "      <td>NaN</td>\n",
              "      <td>0</td>\n",
              "      <td>Transient</td>\n",
              "      <td>115.5</td>\n",
              "      <td>0</td>\n",
              "      <td>1</td>\n",
              "      <td>7aa4cc6b-b92c-4061-b21d-4f9e0cac4689</td>\n",
              "      <td>1</td>\n",
              "    </tr>\n",
              "    <tr>\n",
              "      <th>1</th>\n",
              "      <td>Resort Hotel</td>\n",
              "      <td>4</td>\n",
              "      <td>2015</td>\n",
              "      <td>October</td>\n",
              "      <td>44</td>\n",
              "      <td>31</td>\n",
              "      <td>0</td>\n",
              "      <td>1</td>\n",
              "      <td>2</td>\n",
              "      <td>0.0</td>\n",
              "      <td>...</td>\n",
              "      <td>No Deposit</td>\n",
              "      <td>NaN</td>\n",
              "      <td>NaN</td>\n",
              "      <td>0</td>\n",
              "      <td>Transient</td>\n",
              "      <td>42.0</td>\n",
              "      <td>1</td>\n",
              "      <td>0</td>\n",
              "      <td>b1428f80-c56c-4ae4-91a9-6962edae08b1</td>\n",
              "      <td>0</td>\n",
              "    </tr>\n",
              "    <tr>\n",
              "      <th>2</th>\n",
              "      <td>City Hotel</td>\n",
              "      <td>25</td>\n",
              "      <td>2016</td>\n",
              "      <td>October</td>\n",
              "      <td>42</td>\n",
              "      <td>13</td>\n",
              "      <td>0</td>\n",
              "      <td>1</td>\n",
              "      <td>2</td>\n",
              "      <td>2.0</td>\n",
              "      <td>...</td>\n",
              "      <td>No Deposit</td>\n",
              "      <td>9.0</td>\n",
              "      <td>NaN</td>\n",
              "      <td>0</td>\n",
              "      <td>Transient</td>\n",
              "      <td>229.0</td>\n",
              "      <td>0</td>\n",
              "      <td>2</td>\n",
              "      <td>2226c018-ea20-4c4e-8f71-ea66aee70d7c</td>\n",
              "      <td>0</td>\n",
              "    </tr>\n",
              "    <tr>\n",
              "      <th>3</th>\n",
              "      <td>City Hotel</td>\n",
              "      <td>26</td>\n",
              "      <td>2016</td>\n",
              "      <td>December</td>\n",
              "      <td>51</td>\n",
              "      <td>12</td>\n",
              "      <td>2</td>\n",
              "      <td>5</td>\n",
              "      <td>2</td>\n",
              "      <td>0.0</td>\n",
              "      <td>...</td>\n",
              "      <td>Non Refund</td>\n",
              "      <td>154.0</td>\n",
              "      <td>NaN</td>\n",
              "      <td>0</td>\n",
              "      <td>Transient</td>\n",
              "      <td>75.0</td>\n",
              "      <td>0</td>\n",
              "      <td>0</td>\n",
              "      <td>314f56dc-2e4d-4298-9bdd-27bb008bffff</td>\n",
              "      <td>1</td>\n",
              "    </tr>\n",
              "    <tr>\n",
              "      <th>4</th>\n",
              "      <td>City Hotel</td>\n",
              "      <td>104</td>\n",
              "      <td>2017</td>\n",
              "      <td>March</td>\n",
              "      <td>12</td>\n",
              "      <td>19</td>\n",
              "      <td>2</td>\n",
              "      <td>5</td>\n",
              "      <td>2</td>\n",
              "      <td>0.0</td>\n",
              "      <td>...</td>\n",
              "      <td>No Deposit</td>\n",
              "      <td>20.0</td>\n",
              "      <td>NaN</td>\n",
              "      <td>0</td>\n",
              "      <td>Transient-Party</td>\n",
              "      <td>75.0</td>\n",
              "      <td>0</td>\n",
              "      <td>1</td>\n",
              "      <td>28c75445-c603-413a-babf-ad377018b592</td>\n",
              "      <td>0</td>\n",
              "    </tr>\n",
              "  </tbody>\n",
              "</table>\n",
              "<p>5 rows × 31 columns</p>\n",
              "</div>\n",
              "    <div class=\"colab-df-buttons\">\n",
              "\n",
              "  <div class=\"colab-df-container\">\n",
              "    <button class=\"colab-df-convert\" onclick=\"convertToInteractive('df-cd459e95-4d7b-4c42-a56c-c6ecc124fc35')\"\n",
              "            title=\"Convert this dataframe to an interactive table.\"\n",
              "            style=\"display:none;\">\n",
              "\n",
              "  <svg xmlns=\"http://www.w3.org/2000/svg\" height=\"24px\" viewBox=\"0 -960 960 960\">\n",
              "    <path d=\"M120-120v-720h720v720H120Zm60-500h600v-160H180v160Zm220 220h160v-160H400v160Zm0 220h160v-160H400v160ZM180-400h160v-160H180v160Zm440 0h160v-160H620v160ZM180-180h160v-160H180v160Zm440 0h160v-160H620v160Z\"/>\n",
              "  </svg>\n",
              "    </button>\n",
              "\n",
              "  <style>\n",
              "    .colab-df-container {\n",
              "      display:flex;\n",
              "      gap: 12px;\n",
              "    }\n",
              "\n",
              "    .colab-df-convert {\n",
              "      background-color: #E8F0FE;\n",
              "      border: none;\n",
              "      border-radius: 50%;\n",
              "      cursor: pointer;\n",
              "      display: none;\n",
              "      fill: #1967D2;\n",
              "      height: 32px;\n",
              "      padding: 0 0 0 0;\n",
              "      width: 32px;\n",
              "    }\n",
              "\n",
              "    .colab-df-convert:hover {\n",
              "      background-color: #E2EBFA;\n",
              "      box-shadow: 0px 1px 2px rgba(60, 64, 67, 0.3), 0px 1px 3px 1px rgba(60, 64, 67, 0.15);\n",
              "      fill: #174EA6;\n",
              "    }\n",
              "\n",
              "    .colab-df-buttons div {\n",
              "      margin-bottom: 4px;\n",
              "    }\n",
              "\n",
              "    [theme=dark] .colab-df-convert {\n",
              "      background-color: #3B4455;\n",
              "      fill: #D2E3FC;\n",
              "    }\n",
              "\n",
              "    [theme=dark] .colab-df-convert:hover {\n",
              "      background-color: #434B5C;\n",
              "      box-shadow: 0px 1px 3px 1px rgba(0, 0, 0, 0.15);\n",
              "      filter: drop-shadow(0px 1px 2px rgba(0, 0, 0, 0.3));\n",
              "      fill: #FFFFFF;\n",
              "    }\n",
              "  </style>\n",
              "\n",
              "    <script>\n",
              "      const buttonEl =\n",
              "        document.querySelector('#df-cd459e95-4d7b-4c42-a56c-c6ecc124fc35 button.colab-df-convert');\n",
              "      buttonEl.style.display =\n",
              "        google.colab.kernel.accessAllowed ? 'block' : 'none';\n",
              "\n",
              "      async function convertToInteractive(key) {\n",
              "        const element = document.querySelector('#df-cd459e95-4d7b-4c42-a56c-c6ecc124fc35');\n",
              "        const dataTable =\n",
              "          await google.colab.kernel.invokeFunction('convertToInteractive',\n",
              "                                                    [key], {});\n",
              "        if (!dataTable) return;\n",
              "\n",
              "        const docLinkHtml = 'Like what you see? Visit the ' +\n",
              "          '<a target=\"_blank\" href=https://colab.research.google.com/notebooks/data_table.ipynb>data table notebook</a>'\n",
              "          + ' to learn more about interactive tables.';\n",
              "        element.innerHTML = '';\n",
              "        dataTable['output_type'] = 'display_data';\n",
              "        await google.colab.output.renderOutput(dataTable, element);\n",
              "        const docLink = document.createElement('div');\n",
              "        docLink.innerHTML = docLinkHtml;\n",
              "        element.appendChild(docLink);\n",
              "      }\n",
              "    </script>\n",
              "  </div>\n",
              "\n",
              "\n",
              "<div id=\"df-6d4afe16-e272-4bea-81ce-d777f318c14a\">\n",
              "  <button class=\"colab-df-quickchart\" onclick=\"quickchart('df-6d4afe16-e272-4bea-81ce-d777f318c14a')\"\n",
              "            title=\"Suggest charts.\"\n",
              "            style=\"display:none;\">\n",
              "\n",
              "<svg xmlns=\"http://www.w3.org/2000/svg\" height=\"24px\"viewBox=\"0 0 24 24\"\n",
              "     width=\"24px\">\n",
              "    <g>\n",
              "        <path d=\"M19 3H5c-1.1 0-2 .9-2 2v14c0 1.1.9 2 2 2h14c1.1 0 2-.9 2-2V5c0-1.1-.9-2-2-2zM9 17H7v-7h2v7zm4 0h-2V7h2v10zm4 0h-2v-4h2v4z\"/>\n",
              "    </g>\n",
              "</svg>\n",
              "  </button>\n",
              "\n",
              "<style>\n",
              "  .colab-df-quickchart {\n",
              "      --bg-color: #E8F0FE;\n",
              "      --fill-color: #1967D2;\n",
              "      --hover-bg-color: #E2EBFA;\n",
              "      --hover-fill-color: #174EA6;\n",
              "      --disabled-fill-color: #AAA;\n",
              "      --disabled-bg-color: #DDD;\n",
              "  }\n",
              "\n",
              "  [theme=dark] .colab-df-quickchart {\n",
              "      --bg-color: #3B4455;\n",
              "      --fill-color: #D2E3FC;\n",
              "      --hover-bg-color: #434B5C;\n",
              "      --hover-fill-color: #FFFFFF;\n",
              "      --disabled-bg-color: #3B4455;\n",
              "      --disabled-fill-color: #666;\n",
              "  }\n",
              "\n",
              "  .colab-df-quickchart {\n",
              "    background-color: var(--bg-color);\n",
              "    border: none;\n",
              "    border-radius: 50%;\n",
              "    cursor: pointer;\n",
              "    display: none;\n",
              "    fill: var(--fill-color);\n",
              "    height: 32px;\n",
              "    padding: 0;\n",
              "    width: 32px;\n",
              "  }\n",
              "\n",
              "  .colab-df-quickchart:hover {\n",
              "    background-color: var(--hover-bg-color);\n",
              "    box-shadow: 0 1px 2px rgba(60, 64, 67, 0.3), 0 1px 3px 1px rgba(60, 64, 67, 0.15);\n",
              "    fill: var(--button-hover-fill-color);\n",
              "  }\n",
              "\n",
              "  .colab-df-quickchart-complete:disabled,\n",
              "  .colab-df-quickchart-complete:disabled:hover {\n",
              "    background-color: var(--disabled-bg-color);\n",
              "    fill: var(--disabled-fill-color);\n",
              "    box-shadow: none;\n",
              "  }\n",
              "\n",
              "  .colab-df-spinner {\n",
              "    border: 2px solid var(--fill-color);\n",
              "    border-color: transparent;\n",
              "    border-bottom-color: var(--fill-color);\n",
              "    animation:\n",
              "      spin 1s steps(1) infinite;\n",
              "  }\n",
              "\n",
              "  @keyframes spin {\n",
              "    0% {\n",
              "      border-color: transparent;\n",
              "      border-bottom-color: var(--fill-color);\n",
              "      border-left-color: var(--fill-color);\n",
              "    }\n",
              "    20% {\n",
              "      border-color: transparent;\n",
              "      border-left-color: var(--fill-color);\n",
              "      border-top-color: var(--fill-color);\n",
              "    }\n",
              "    30% {\n",
              "      border-color: transparent;\n",
              "      border-left-color: var(--fill-color);\n",
              "      border-top-color: var(--fill-color);\n",
              "      border-right-color: var(--fill-color);\n",
              "    }\n",
              "    40% {\n",
              "      border-color: transparent;\n",
              "      border-right-color: var(--fill-color);\n",
              "      border-top-color: var(--fill-color);\n",
              "    }\n",
              "    60% {\n",
              "      border-color: transparent;\n",
              "      border-right-color: var(--fill-color);\n",
              "    }\n",
              "    80% {\n",
              "      border-color: transparent;\n",
              "      border-right-color: var(--fill-color);\n",
              "      border-bottom-color: var(--fill-color);\n",
              "    }\n",
              "    90% {\n",
              "      border-color: transparent;\n",
              "      border-bottom-color: var(--fill-color);\n",
              "    }\n",
              "  }\n",
              "</style>\n",
              "\n",
              "  <script>\n",
              "    async function quickchart(key) {\n",
              "      const quickchartButtonEl =\n",
              "        document.querySelector('#' + key + ' button');\n",
              "      quickchartButtonEl.disabled = true;  // To prevent multiple clicks.\n",
              "      quickchartButtonEl.classList.add('colab-df-spinner');\n",
              "      try {\n",
              "        const charts = await google.colab.kernel.invokeFunction(\n",
              "            'suggestCharts', [key], {});\n",
              "      } catch (error) {\n",
              "        console.error('Error during call to suggestCharts:', error);\n",
              "      }\n",
              "      quickchartButtonEl.classList.remove('colab-df-spinner');\n",
              "      quickchartButtonEl.classList.add('colab-df-quickchart-complete');\n",
              "    }\n",
              "    (() => {\n",
              "      let quickchartButtonEl =\n",
              "        document.querySelector('#df-6d4afe16-e272-4bea-81ce-d777f318c14a button');\n",
              "      quickchartButtonEl.style.display =\n",
              "        google.colab.kernel.accessAllowed ? 'block' : 'none';\n",
              "    })();\n",
              "  </script>\n",
              "</div>\n",
              "    </div>\n",
              "  </div>\n"
            ]
          },
          "metadata": {},
          "execution_count": 2914
        }
      ]
    },
    {
      "cell_type": "markdown",
      "source": [
        "#### - **Cantidad de columnas y filas**"
      ],
      "metadata": {
        "id": "_7Hm4ImK8AP_"
      }
    },
    {
      "cell_type": "code",
      "source": [
        "ds_train.shape"
      ],
      "metadata": {
        "colab": {
          "base_uri": "https://localhost:8080/"
        },
        "id": "JpJCJ8ni_teq",
        "outputId": "f72f8356-e971-45cf-d97f-ea43e8cfeb24"
      },
      "execution_count": 2915,
      "outputs": [
        {
          "output_type": "execute_result",
          "data": {
            "text/plain": [
              "(61913, 31)"
            ]
          },
          "metadata": {},
          "execution_count": 2915
        }
      ]
    },
    {
      "cell_type": "markdown",
      "source": [
        "### » Tipos de las varibales"
      ],
      "metadata": {
        "id": "5cfdfTXZVIqT"
      }
    },
    {
      "cell_type": "code",
      "source": [
        "ds_train.dtypes"
      ],
      "metadata": {
        "colab": {
          "base_uri": "https://localhost:8080/"
        },
        "id": "x3GZbIHWVJLY",
        "outputId": "9cad450d-5abb-47df-82e1-607a09ffd2d6"
      },
      "execution_count": 2916,
      "outputs": [
        {
          "output_type": "execute_result",
          "data": {
            "text/plain": [
              "hotel                              object\n",
              "lead_time                           int64\n",
              "arrival_date_year                   int64\n",
              "arrival_date_month                 object\n",
              "arrival_date_week_number            int64\n",
              "arrival_date_day_of_month           int64\n",
              "stays_in_weekend_nights             int64\n",
              "stays_in_week_nights                int64\n",
              "adults                              int64\n",
              "children                          float64\n",
              "babies                              int64\n",
              "meal                               object\n",
              "country                            object\n",
              "market_segment                     object\n",
              "distribution_channel               object\n",
              "is_repeated_guest                   int64\n",
              "previous_cancellations              int64\n",
              "previous_bookings_not_canceled      int64\n",
              "reserved_room_type                 object\n",
              "assigned_room_type                 object\n",
              "booking_changes                     int64\n",
              "deposit_type                       object\n",
              "agent                             float64\n",
              "company                           float64\n",
              "days_in_waiting_list                int64\n",
              "customer_type                      object\n",
              "adr                               float64\n",
              "required_car_parking_spaces         int64\n",
              "total_of_special_requests           int64\n",
              "id                                 object\n",
              "is_canceled                         int64\n",
              "dtype: object"
            ]
          },
          "metadata": {},
          "execution_count": 2916
        }
      ]
    },
    {
      "cell_type": "markdown",
      "source": [
        "### » Separación de variables cuantitativas"
      ],
      "metadata": {
        "id": "17a2Q1ZU6XUw"
      }
    },
    {
      "cell_type": "code",
      "source": [
        "nombre_variables_cuantitativas = ['lead_time','arrival_date_week_number', 'stays_in_weekend_nights', 'adults',\n",
        "                                  'children','babies', 'is_repeated_guest', 'previous_cancellations', 'previous_bookings_not_canceled',\n",
        "                                  'booking_changes', 'agent', 'adr', 'required_car_parking_spaces', 'total_of_special_requests' ]\n",
        "\n",
        "ds_cuantitativo = ds_train.loc[:, nombre_variables_cuantitativas]\n",
        "df = pd.DataFrame()\n",
        "df['media'] = round(ds_cuantitativo.mean(), 2)\n",
        "df['mediana'] = ds_cuantitativo.median()\n",
        "df['moda'] = ds_cuantitativo.mode().iloc[0]\n",
        "df['max'] = ds_cuantitativo.max()\n",
        "df"
      ],
      "metadata": {
        "colab": {
          "base_uri": "https://localhost:8080/",
          "height": 488
        },
        "id": "kfqAj6LP7HK1",
        "outputId": "a65773ef-4ef5-48cb-af04-092a5c3cd6a6"
      },
      "execution_count": 2917,
      "outputs": [
        {
          "output_type": "execute_result",
          "data": {
            "text/plain": [
              "                                 media  mediana  moda    max\n",
              "lead_time                       112.25     78.0   0.0  629.0\n",
              "arrival_date_week_number         27.22     28.0  33.0   53.0\n",
              "stays_in_weekend_nights           0.92      1.0   0.0   16.0\n",
              "adults                            1.86      2.0   2.0   55.0\n",
              "children                          0.10      0.0   0.0   10.0\n",
              "babies                            0.01      0.0   0.0    9.0\n",
              "is_repeated_guest                 0.03      0.0   0.0    1.0\n",
              "previous_cancellations            0.11      0.0   0.0   26.0\n",
              "previous_bookings_not_canceled    0.12      0.0   0.0   70.0\n",
              "booking_changes                   0.20      0.0   0.0   17.0\n",
              "agent                            84.54     12.0   9.0  535.0\n",
              "adr                             102.38     95.0  62.0  510.0\n",
              "required_car_parking_spaces       0.05      0.0   0.0    8.0\n",
              "total_of_special_requests         0.52      0.0   0.0    5.0"
            ],
            "text/html": [
              "\n",
              "  <div id=\"df-1fbda8e2-9400-49b8-b1d6-d7b791b2f922\" class=\"colab-df-container\">\n",
              "    <div>\n",
              "<style scoped>\n",
              "    .dataframe tbody tr th:only-of-type {\n",
              "        vertical-align: middle;\n",
              "    }\n",
              "\n",
              "    .dataframe tbody tr th {\n",
              "        vertical-align: top;\n",
              "    }\n",
              "\n",
              "    .dataframe thead th {\n",
              "        text-align: right;\n",
              "    }\n",
              "</style>\n",
              "<table border=\"1\" class=\"dataframe\">\n",
              "  <thead>\n",
              "    <tr style=\"text-align: right;\">\n",
              "      <th></th>\n",
              "      <th>media</th>\n",
              "      <th>mediana</th>\n",
              "      <th>moda</th>\n",
              "      <th>max</th>\n",
              "    </tr>\n",
              "  </thead>\n",
              "  <tbody>\n",
              "    <tr>\n",
              "      <th>lead_time</th>\n",
              "      <td>112.25</td>\n",
              "      <td>78.0</td>\n",
              "      <td>0.0</td>\n",
              "      <td>629.0</td>\n",
              "    </tr>\n",
              "    <tr>\n",
              "      <th>arrival_date_week_number</th>\n",
              "      <td>27.22</td>\n",
              "      <td>28.0</td>\n",
              "      <td>33.0</td>\n",
              "      <td>53.0</td>\n",
              "    </tr>\n",
              "    <tr>\n",
              "      <th>stays_in_weekend_nights</th>\n",
              "      <td>0.92</td>\n",
              "      <td>1.0</td>\n",
              "      <td>0.0</td>\n",
              "      <td>16.0</td>\n",
              "    </tr>\n",
              "    <tr>\n",
              "      <th>adults</th>\n",
              "      <td>1.86</td>\n",
              "      <td>2.0</td>\n",
              "      <td>2.0</td>\n",
              "      <td>55.0</td>\n",
              "    </tr>\n",
              "    <tr>\n",
              "      <th>children</th>\n",
              "      <td>0.10</td>\n",
              "      <td>0.0</td>\n",
              "      <td>0.0</td>\n",
              "      <td>10.0</td>\n",
              "    </tr>\n",
              "    <tr>\n",
              "      <th>babies</th>\n",
              "      <td>0.01</td>\n",
              "      <td>0.0</td>\n",
              "      <td>0.0</td>\n",
              "      <td>9.0</td>\n",
              "    </tr>\n",
              "    <tr>\n",
              "      <th>is_repeated_guest</th>\n",
              "      <td>0.03</td>\n",
              "      <td>0.0</td>\n",
              "      <td>0.0</td>\n",
              "      <td>1.0</td>\n",
              "    </tr>\n",
              "    <tr>\n",
              "      <th>previous_cancellations</th>\n",
              "      <td>0.11</td>\n",
              "      <td>0.0</td>\n",
              "      <td>0.0</td>\n",
              "      <td>26.0</td>\n",
              "    </tr>\n",
              "    <tr>\n",
              "      <th>previous_bookings_not_canceled</th>\n",
              "      <td>0.12</td>\n",
              "      <td>0.0</td>\n",
              "      <td>0.0</td>\n",
              "      <td>70.0</td>\n",
              "    </tr>\n",
              "    <tr>\n",
              "      <th>booking_changes</th>\n",
              "      <td>0.20</td>\n",
              "      <td>0.0</td>\n",
              "      <td>0.0</td>\n",
              "      <td>17.0</td>\n",
              "    </tr>\n",
              "    <tr>\n",
              "      <th>agent</th>\n",
              "      <td>84.54</td>\n",
              "      <td>12.0</td>\n",
              "      <td>9.0</td>\n",
              "      <td>535.0</td>\n",
              "    </tr>\n",
              "    <tr>\n",
              "      <th>adr</th>\n",
              "      <td>102.38</td>\n",
              "      <td>95.0</td>\n",
              "      <td>62.0</td>\n",
              "      <td>510.0</td>\n",
              "    </tr>\n",
              "    <tr>\n",
              "      <th>required_car_parking_spaces</th>\n",
              "      <td>0.05</td>\n",
              "      <td>0.0</td>\n",
              "      <td>0.0</td>\n",
              "      <td>8.0</td>\n",
              "    </tr>\n",
              "    <tr>\n",
              "      <th>total_of_special_requests</th>\n",
              "      <td>0.52</td>\n",
              "      <td>0.0</td>\n",
              "      <td>0.0</td>\n",
              "      <td>5.0</td>\n",
              "    </tr>\n",
              "  </tbody>\n",
              "</table>\n",
              "</div>\n",
              "    <div class=\"colab-df-buttons\">\n",
              "\n",
              "  <div class=\"colab-df-container\">\n",
              "    <button class=\"colab-df-convert\" onclick=\"convertToInteractive('df-1fbda8e2-9400-49b8-b1d6-d7b791b2f922')\"\n",
              "            title=\"Convert this dataframe to an interactive table.\"\n",
              "            style=\"display:none;\">\n",
              "\n",
              "  <svg xmlns=\"http://www.w3.org/2000/svg\" height=\"24px\" viewBox=\"0 -960 960 960\">\n",
              "    <path d=\"M120-120v-720h720v720H120Zm60-500h600v-160H180v160Zm220 220h160v-160H400v160Zm0 220h160v-160H400v160ZM180-400h160v-160H180v160Zm440 0h160v-160H620v160ZM180-180h160v-160H180v160Zm440 0h160v-160H620v160Z\"/>\n",
              "  </svg>\n",
              "    </button>\n",
              "\n",
              "  <style>\n",
              "    .colab-df-container {\n",
              "      display:flex;\n",
              "      gap: 12px;\n",
              "    }\n",
              "\n",
              "    .colab-df-convert {\n",
              "      background-color: #E8F0FE;\n",
              "      border: none;\n",
              "      border-radius: 50%;\n",
              "      cursor: pointer;\n",
              "      display: none;\n",
              "      fill: #1967D2;\n",
              "      height: 32px;\n",
              "      padding: 0 0 0 0;\n",
              "      width: 32px;\n",
              "    }\n",
              "\n",
              "    .colab-df-convert:hover {\n",
              "      background-color: #E2EBFA;\n",
              "      box-shadow: 0px 1px 2px rgba(60, 64, 67, 0.3), 0px 1px 3px 1px rgba(60, 64, 67, 0.15);\n",
              "      fill: #174EA6;\n",
              "    }\n",
              "\n",
              "    .colab-df-buttons div {\n",
              "      margin-bottom: 4px;\n",
              "    }\n",
              "\n",
              "    [theme=dark] .colab-df-convert {\n",
              "      background-color: #3B4455;\n",
              "      fill: #D2E3FC;\n",
              "    }\n",
              "\n",
              "    [theme=dark] .colab-df-convert:hover {\n",
              "      background-color: #434B5C;\n",
              "      box-shadow: 0px 1px 3px 1px rgba(0, 0, 0, 0.15);\n",
              "      filter: drop-shadow(0px 1px 2px rgba(0, 0, 0, 0.3));\n",
              "      fill: #FFFFFF;\n",
              "    }\n",
              "  </style>\n",
              "\n",
              "    <script>\n",
              "      const buttonEl =\n",
              "        document.querySelector('#df-1fbda8e2-9400-49b8-b1d6-d7b791b2f922 button.colab-df-convert');\n",
              "      buttonEl.style.display =\n",
              "        google.colab.kernel.accessAllowed ? 'block' : 'none';\n",
              "\n",
              "      async function convertToInteractive(key) {\n",
              "        const element = document.querySelector('#df-1fbda8e2-9400-49b8-b1d6-d7b791b2f922');\n",
              "        const dataTable =\n",
              "          await google.colab.kernel.invokeFunction('convertToInteractive',\n",
              "                                                    [key], {});\n",
              "        if (!dataTable) return;\n",
              "\n",
              "        const docLinkHtml = 'Like what you see? Visit the ' +\n",
              "          '<a target=\"_blank\" href=https://colab.research.google.com/notebooks/data_table.ipynb>data table notebook</a>'\n",
              "          + ' to learn more about interactive tables.';\n",
              "        element.innerHTML = '';\n",
              "        dataTable['output_type'] = 'display_data';\n",
              "        await google.colab.output.renderOutput(dataTable, element);\n",
              "        const docLink = document.createElement('div');\n",
              "        docLink.innerHTML = docLinkHtml;\n",
              "        element.appendChild(docLink);\n",
              "      }\n",
              "    </script>\n",
              "  </div>\n",
              "\n",
              "\n",
              "<div id=\"df-38873fc2-a30d-4a1d-8e81-7f86c9b021da\">\n",
              "  <button class=\"colab-df-quickchart\" onclick=\"quickchart('df-38873fc2-a30d-4a1d-8e81-7f86c9b021da')\"\n",
              "            title=\"Suggest charts.\"\n",
              "            style=\"display:none;\">\n",
              "\n",
              "<svg xmlns=\"http://www.w3.org/2000/svg\" height=\"24px\"viewBox=\"0 0 24 24\"\n",
              "     width=\"24px\">\n",
              "    <g>\n",
              "        <path d=\"M19 3H5c-1.1 0-2 .9-2 2v14c0 1.1.9 2 2 2h14c1.1 0 2-.9 2-2V5c0-1.1-.9-2-2-2zM9 17H7v-7h2v7zm4 0h-2V7h2v10zm4 0h-2v-4h2v4z\"/>\n",
              "    </g>\n",
              "</svg>\n",
              "  </button>\n",
              "\n",
              "<style>\n",
              "  .colab-df-quickchart {\n",
              "      --bg-color: #E8F0FE;\n",
              "      --fill-color: #1967D2;\n",
              "      --hover-bg-color: #E2EBFA;\n",
              "      --hover-fill-color: #174EA6;\n",
              "      --disabled-fill-color: #AAA;\n",
              "      --disabled-bg-color: #DDD;\n",
              "  }\n",
              "\n",
              "  [theme=dark] .colab-df-quickchart {\n",
              "      --bg-color: #3B4455;\n",
              "      --fill-color: #D2E3FC;\n",
              "      --hover-bg-color: #434B5C;\n",
              "      --hover-fill-color: #FFFFFF;\n",
              "      --disabled-bg-color: #3B4455;\n",
              "      --disabled-fill-color: #666;\n",
              "  }\n",
              "\n",
              "  .colab-df-quickchart {\n",
              "    background-color: var(--bg-color);\n",
              "    border: none;\n",
              "    border-radius: 50%;\n",
              "    cursor: pointer;\n",
              "    display: none;\n",
              "    fill: var(--fill-color);\n",
              "    height: 32px;\n",
              "    padding: 0;\n",
              "    width: 32px;\n",
              "  }\n",
              "\n",
              "  .colab-df-quickchart:hover {\n",
              "    background-color: var(--hover-bg-color);\n",
              "    box-shadow: 0 1px 2px rgba(60, 64, 67, 0.3), 0 1px 3px 1px rgba(60, 64, 67, 0.15);\n",
              "    fill: var(--button-hover-fill-color);\n",
              "  }\n",
              "\n",
              "  .colab-df-quickchart-complete:disabled,\n",
              "  .colab-df-quickchart-complete:disabled:hover {\n",
              "    background-color: var(--disabled-bg-color);\n",
              "    fill: var(--disabled-fill-color);\n",
              "    box-shadow: none;\n",
              "  }\n",
              "\n",
              "  .colab-df-spinner {\n",
              "    border: 2px solid var(--fill-color);\n",
              "    border-color: transparent;\n",
              "    border-bottom-color: var(--fill-color);\n",
              "    animation:\n",
              "      spin 1s steps(1) infinite;\n",
              "  }\n",
              "\n",
              "  @keyframes spin {\n",
              "    0% {\n",
              "      border-color: transparent;\n",
              "      border-bottom-color: var(--fill-color);\n",
              "      border-left-color: var(--fill-color);\n",
              "    }\n",
              "    20% {\n",
              "      border-color: transparent;\n",
              "      border-left-color: var(--fill-color);\n",
              "      border-top-color: var(--fill-color);\n",
              "    }\n",
              "    30% {\n",
              "      border-color: transparent;\n",
              "      border-left-color: var(--fill-color);\n",
              "      border-top-color: var(--fill-color);\n",
              "      border-right-color: var(--fill-color);\n",
              "    }\n",
              "    40% {\n",
              "      border-color: transparent;\n",
              "      border-right-color: var(--fill-color);\n",
              "      border-top-color: var(--fill-color);\n",
              "    }\n",
              "    60% {\n",
              "      border-color: transparent;\n",
              "      border-right-color: var(--fill-color);\n",
              "    }\n",
              "    80% {\n",
              "      border-color: transparent;\n",
              "      border-right-color: var(--fill-color);\n",
              "      border-bottom-color: var(--fill-color);\n",
              "    }\n",
              "    90% {\n",
              "      border-color: transparent;\n",
              "      border-bottom-color: var(--fill-color);\n",
              "    }\n",
              "  }\n",
              "</style>\n",
              "\n",
              "  <script>\n",
              "    async function quickchart(key) {\n",
              "      const quickchartButtonEl =\n",
              "        document.querySelector('#' + key + ' button');\n",
              "      quickchartButtonEl.disabled = true;  // To prevent multiple clicks.\n",
              "      quickchartButtonEl.classList.add('colab-df-spinner');\n",
              "      try {\n",
              "        const charts = await google.colab.kernel.invokeFunction(\n",
              "            'suggestCharts', [key], {});\n",
              "      } catch (error) {\n",
              "        console.error('Error during call to suggestCharts:', error);\n",
              "      }\n",
              "      quickchartButtonEl.classList.remove('colab-df-spinner');\n",
              "      quickchartButtonEl.classList.add('colab-df-quickchart-complete');\n",
              "    }\n",
              "    (() => {\n",
              "      let quickchartButtonEl =\n",
              "        document.querySelector('#df-38873fc2-a30d-4a1d-8e81-7f86c9b021da button');\n",
              "      quickchartButtonEl.style.display =\n",
              "        google.colab.kernel.accessAllowed ? 'block' : 'none';\n",
              "    })();\n",
              "  </script>\n",
              "</div>\n",
              "    </div>\n",
              "  </div>\n"
            ]
          },
          "metadata": {},
          "execution_count": 2917
        }
      ]
    },
    {
      "cell_type": "markdown",
      "source": [
        "### » Separación de las variables cualitativas"
      ],
      "metadata": {
        "id": "ApIL7DKf6dJd"
      }
    },
    {
      "cell_type": "code",
      "source": [
        "nombre_variables_cualitativas = ['hotel', 'arrival_date_month', 'meal', 'country', 'market_segment', 'reserved_room_type', 'distribution_channel', 'assigned_room_type',\n",
        "                                 'deposit_type', 'customer_type']\n",
        "\n",
        "ds_cualitativo = ds_train.loc[:, nombre_variables_cualitativas]"
      ],
      "metadata": {
        "id": "tZcrizwEVxYE"
      },
      "execution_count": 2918,
      "outputs": []
    },
    {
      "cell_type": "markdown",
      "source": [
        "### » Cantidad de valores que admiten las varibles cualitativas."
      ],
      "metadata": {
        "id": "POQuZmMA6hDq"
      }
    },
    {
      "cell_type": "code",
      "source": [
        "ds_cualitativo.nunique().sort_values(ascending=True)"
      ],
      "metadata": {
        "colab": {
          "base_uri": "https://localhost:8080/"
        },
        "id": "YPssMTFUW7hV",
        "outputId": "679a5ae3-cf96-4c27-d21b-3a812a18d209"
      },
      "execution_count": 2919,
      "outputs": [
        {
          "output_type": "execute_result",
          "data": {
            "text/plain": [
              "hotel                     2\n",
              "deposit_type              3\n",
              "customer_type             4\n",
              "meal                      5\n",
              "distribution_channel      5\n",
              "market_segment            8\n",
              "reserved_room_type       10\n",
              "arrival_date_month       12\n",
              "assigned_room_type       12\n",
              "country                 149\n",
              "dtype: int64"
            ]
          },
          "metadata": {},
          "execution_count": 2919
        }
      ]
    },
    {
      "cell_type": "markdown",
      "source": [
        "### » Frecuencia de los valores"
      ],
      "metadata": {
        "id": "VItIp_ss6kER"
      }
    },
    {
      "cell_type": "markdown",
      "source": [
        "- **Hoteles.**"
      ],
      "metadata": {
        "id": "ExmPlf4F6mpH"
      }
    },
    {
      "cell_type": "code",
      "source": [
        "round(ds_cualitativo.hotel.value_counts(normalize=True) * 100, 2)"
      ],
      "metadata": {
        "colab": {
          "base_uri": "https://localhost:8080/"
        },
        "id": "f2y6NzLGXtx7",
        "outputId": "5de9f952-7104-4992-9d57-652cdb0bba20"
      },
      "execution_count": 2920,
      "outputs": [
        {
          "output_type": "execute_result",
          "data": {
            "text/plain": [
              "City Hotel      68.05\n",
              "Resort Hotel    31.95\n",
              "Name: hotel, dtype: float64"
            ]
          },
          "metadata": {},
          "execution_count": 2920
        }
      ]
    },
    {
      "cell_type": "markdown",
      "source": [
        "\n",
        "- **Tipo de depósito.**"
      ],
      "metadata": {
        "id": "YsMTX-4S6nib"
      }
    },
    {
      "cell_type": "code",
      "source": [
        "round(ds_cualitativo.deposit_type.value_counts(normalize=True) * 100, 2)"
      ],
      "metadata": {
        "colab": {
          "base_uri": "https://localhost:8080/"
        },
        "id": "LKMGWAzgXulK",
        "outputId": "7a4bd6fe-c909-4710-e084-8cfc67fbfaed"
      },
      "execution_count": 2921,
      "outputs": [
        {
          "output_type": "execute_result",
          "data": {
            "text/plain": [
              "No Deposit    83.48\n",
              "Non Refund    16.39\n",
              "Refundable     0.13\n",
              "Name: deposit_type, dtype: float64"
            ]
          },
          "metadata": {},
          "execution_count": 2921
        }
      ]
    },
    {
      "cell_type": "markdown",
      "source": [
        "tiene Undefined"
      ],
      "metadata": {
        "id": "Tp6aV6yJYB9i"
      }
    },
    {
      "cell_type": "markdown",
      "source": [
        "\n",
        "- **Canal de distribución.**"
      ],
      "metadata": {
        "id": "0UlDtmp46qkT"
      }
    },
    {
      "cell_type": "code",
      "source": [
        "round(ds_cualitativo.distribution_channel.value_counts(normalize=True) * 100, 2)"
      ],
      "metadata": {
        "colab": {
          "base_uri": "https://localhost:8080/"
        },
        "id": "neQ6jRfgXvpp",
        "outputId": "f870342b-6224-42a2-8868-15fb5bae53f5"
      },
      "execution_count": 2922,
      "outputs": [
        {
          "output_type": "execute_result",
          "data": {
            "text/plain": [
              "TA/TO        83.74\n",
              "Direct       10.98\n",
              "Corporate     5.12\n",
              "GDS           0.14\n",
              "Undefined     0.01\n",
              "Name: distribution_channel, dtype: float64"
            ]
          },
          "metadata": {},
          "execution_count": 2922
        }
      ]
    },
    {
      "cell_type": "markdown",
      "source": [
        "- **Tipo de cliente.**"
      ],
      "metadata": {
        "id": "fwCC8aRm6t3z"
      }
    },
    {
      "cell_type": "code",
      "source": [
        "round(ds_cualitativo.customer_type.value_counts(normalize=True) * 100, 2)"
      ],
      "metadata": {
        "colab": {
          "base_uri": "https://localhost:8080/"
        },
        "id": "gLSiB4hZXwUc",
        "outputId": "01146378-cca7-4339-f660-f33b0393e256"
      },
      "execution_count": 2923,
      "outputs": [
        {
          "output_type": "execute_result",
          "data": {
            "text/plain": [
              "Transient          76.64\n",
              "Transient-Party    19.65\n",
              "Contract            3.28\n",
              "Group               0.42\n",
              "Name: customer_type, dtype: float64"
            ]
          },
          "metadata": {},
          "execution_count": 2923
        }
      ]
    },
    {
      "cell_type": "markdown",
      "source": [
        "- **Comida.**"
      ],
      "metadata": {
        "id": "HP05q-E66x-H"
      }
    },
    {
      "cell_type": "code",
      "source": [
        "round(ds_cualitativo.meal.value_counts(normalize=True) * 100, 2)"
      ],
      "metadata": {
        "colab": {
          "base_uri": "https://localhost:8080/"
        },
        "id": "Hd3qTh9VXxCI",
        "outputId": "ec67f062-43c0-430d-9939-e1f9bf4fa6c4"
      },
      "execution_count": 2924,
      "outputs": [
        {
          "output_type": "execute_result",
          "data": {
            "text/plain": [
              "BB           77.26\n",
              "HB           12.04\n",
              "SC            8.97\n",
              "Undefined     0.95\n",
              "FB            0.77\n",
              "Name: meal, dtype: float64"
            ]
          },
          "metadata": {},
          "execution_count": 2924
        }
      ]
    },
    {
      "cell_type": "markdown",
      "source": [
        "tiene Undefined"
      ],
      "metadata": {
        "id": "Axx_W8aQYOe-"
      }
    },
    {
      "cell_type": "markdown",
      "source": [
        "- **Segmento de mercado (método de reserva).**"
      ],
      "metadata": {
        "id": "Kff7KHmt6zVu"
      }
    },
    {
      "cell_type": "code",
      "source": [
        "round(ds_cualitativo.market_segment.value_counts(normalize=True) * 100, 3)"
      ],
      "metadata": {
        "colab": {
          "base_uri": "https://localhost:8080/"
        },
        "id": "FeXg4DD0XyJJ",
        "outputId": "08ac0a8c-80f8-4e4e-b4a9-9fb68768c331"
      },
      "execution_count": 2925,
      "outputs": [
        {
          "output_type": "execute_result",
          "data": {
            "text/plain": [
              "Online TA        47.274\n",
              "Offline TA/TO    20.002\n",
              "Groups           18.647\n",
              "Direct            9.299\n",
              "Corporate         4.012\n",
              "Complementary     0.580\n",
              "Aviation          0.183\n",
              "Undefined         0.003\n",
              "Name: market_segment, dtype: float64"
            ]
          },
          "metadata": {},
          "execution_count": 2925
        }
      ]
    },
    {
      "cell_type": "markdown",
      "source": [
        "- **Mes de llegada**"
      ],
      "metadata": {
        "id": "s2hem_0f62an"
      }
    },
    {
      "cell_type": "code",
      "source": [
        "round(ds_cualitativo.arrival_date_month.value_counts(normalize=True) * 100, 2)"
      ],
      "metadata": {
        "colab": {
          "base_uri": "https://localhost:8080/"
        },
        "id": "gtm4RudrXy_L",
        "outputId": "a22d726c-9152-4fe4-fbcf-afbe5262e322"
      },
      "execution_count": 2926,
      "outputs": [
        {
          "output_type": "execute_result",
          "data": {
            "text/plain": [
              "August       11.59\n",
              "July         10.54\n",
              "May           9.95\n",
              "April         9.49\n",
              "October       9.47\n",
              "June          9.32\n",
              "September     9.08\n",
              "March         7.91\n",
              "February      6.66\n",
              "December      5.64\n",
              "November      5.50\n",
              "January       4.85\n",
              "Name: arrival_date_month, dtype: float64"
            ]
          },
          "metadata": {},
          "execution_count": 2926
        }
      ]
    },
    {
      "cell_type": "markdown",
      "source": [
        "- **País**"
      ],
      "metadata": {
        "id": "Xj4n0XZ_64eT"
      }
    },
    {
      "cell_type": "code",
      "source": [
        "ds_cualitativo.country.value_counts(normalize=True) * 100"
      ],
      "metadata": {
        "colab": {
          "base_uri": "https://localhost:8080/"
        },
        "id": "zjBUx148Xz3B",
        "outputId": "914aefcb-0dbf-4f50-a029-07e11e086056"
      },
      "execution_count": 2927,
      "outputs": [
        {
          "output_type": "execute_result",
          "data": {
            "text/plain": [
              "PRT    45.305712\n",
              "GBR     9.292939\n",
              "FRA     7.795176\n",
              "ESP     6.824224\n",
              "DEU     5.368605\n",
              "         ...    \n",
              "HND     0.001621\n",
              "FJI     0.001621\n",
              "LIE     0.001621\n",
              "ATA     0.001621\n",
              "RWA     0.001621\n",
              "Name: country, Length: 149, dtype: float64"
            ]
          },
          "metadata": {},
          "execution_count": 2927
        }
      ]
    },
    {
      "cell_type": "markdown",
      "source": [
        "### » Separacion de las variables ordinales"
      ],
      "metadata": {
        "id": "kHad3PWu66FH"
      }
    },
    {
      "cell_type": "code",
      "source": [
        "nombre_variables_ordinales = ['reserved_room_type', 'assigned_room_type']\n",
        "\n",
        "ds_ordinales = ds_train.loc[:, nombre_variables_ordinales]"
      ],
      "metadata": {
        "id": "YsM-1FSWX1I6"
      },
      "execution_count": 2928,
      "outputs": []
    },
    {
      "cell_type": "markdown",
      "source": [
        "- **Tipo de habitación reservada.**"
      ],
      "metadata": {
        "id": "-0TYO8xy69cD"
      }
    },
    {
      "cell_type": "code",
      "source": [
        "round(ds_ordinales.reserved_room_type.value_counts(normalize=True) * 100, 3)"
      ],
      "metadata": {
        "colab": {
          "base_uri": "https://localhost:8080/"
        },
        "id": "BuvHu3oLX2gy",
        "outputId": "8291550c-2689-4a2c-ce71-8db583ed5811"
      },
      "execution_count": 2929,
      "outputs": [
        {
          "output_type": "execute_result",
          "data": {
            "text/plain": [
              "A    72.899\n",
              "D    15.481\n",
              "E     5.248\n",
              "F     2.344\n",
              "G     1.761\n",
              "B     0.937\n",
              "C     0.779\n",
              "H     0.539\n",
              "P     0.011\n",
              "L     0.002\n",
              "Name: reserved_room_type, dtype: float64"
            ]
          },
          "metadata": {},
          "execution_count": 2929
        }
      ]
    },
    {
      "cell_type": "markdown",
      "source": [
        "- **Tipo de habitación asignada**"
      ],
      "metadata": {
        "id": "Tm0IRDPr6-GM"
      }
    },
    {
      "cell_type": "code",
      "source": [
        "round(ds_ordinales.assigned_room_type.value_counts(normalize=True) * 100, 3)"
      ],
      "metadata": {
        "colab": {
          "base_uri": "https://localhost:8080/"
        },
        "id": "o16WcqrUX3cQ",
        "outputId": "a6db2d02-a911-4742-db97-f45ba9af2e69"
      },
      "execution_count": 2930,
      "outputs": [
        {
          "output_type": "execute_result",
          "data": {
            "text/plain": [
              "A    64.618\n",
              "D    19.689\n",
              "E     6.104\n",
              "F     2.941\n",
              "G     2.063\n",
              "C     1.820\n",
              "B     1.706\n",
              "H     0.620\n",
              "I     0.234\n",
              "K     0.192\n",
              "P     0.011\n",
              "L     0.002\n",
              "Name: assigned_room_type, dtype: float64"
            ]
          },
          "metadata": {},
          "execution_count": 2930
        }
      ]
    },
    {
      "cell_type": "markdown",
      "source": [
        "# » Analisis de nulos en el DataSet"
      ],
      "metadata": {
        "id": "7QB6PKTd7Heb"
      }
    },
    {
      "cell_type": "code",
      "source": [
        "ds_train.isna().sum()"
      ],
      "metadata": {
        "colab": {
          "base_uri": "https://localhost:8080/"
        },
        "id": "AIvYtq6XXJc8",
        "outputId": "05a21be0-b372-4581-fedd-81ece3f2b504"
      },
      "execution_count": 2931,
      "outputs": [
        {
          "output_type": "execute_result",
          "data": {
            "text/plain": [
              "hotel                                 0\n",
              "lead_time                             0\n",
              "arrival_date_year                     0\n",
              "arrival_date_month                    0\n",
              "arrival_date_week_number              0\n",
              "arrival_date_day_of_month             0\n",
              "stays_in_weekend_nights               0\n",
              "stays_in_week_nights                  0\n",
              "adults                                0\n",
              "children                              4\n",
              "babies                                0\n",
              "meal                                  0\n",
              "country                             221\n",
              "market_segment                        0\n",
              "distribution_channel                  0\n",
              "is_repeated_guest                     0\n",
              "previous_cancellations                0\n",
              "previous_bookings_not_canceled        0\n",
              "reserved_room_type                    0\n",
              "assigned_room_type                    0\n",
              "booking_changes                       0\n",
              "deposit_type                          0\n",
              "agent                              7890\n",
              "company                           58761\n",
              "days_in_waiting_list                  0\n",
              "customer_type                         0\n",
              "adr                                   0\n",
              "required_car_parking_spaces           0\n",
              "total_of_special_requests             0\n",
              "id                                    0\n",
              "is_canceled                           0\n",
              "dtype: int64"
            ]
          },
          "metadata": {},
          "execution_count": 2931
        }
      ]
    },
    {
      "cell_type": "markdown",
      "source": [
        "# » Valores atipicos e imputaciones.\n",
        "\n",
        "\n",
        "Luego de analizar los valores mostrados anteriormente procedemos a relizar distintas tectnicas de imputaciones a los valores que consideramos como outsiders y que creemos que pueden ser utiles para la prediccion.\n"
      ],
      "metadata": {
        "id": "i3jz6jN1Yo_6"
      }
    },
    {
      "cell_type": "markdown",
      "source": [
        "- **Adulto**"
      ],
      "metadata": {
        "id": "1DRviFxS78V7"
      }
    },
    {
      "cell_type": "code",
      "source": [
        "grf = sns.boxplot(y=ds_train.adults, data= ds_train ).set(title=\"Boxplot cantidad de adultos por habitación\",xlabel=\"\",ylabel=\"Cantidad de adultos\")"
      ],
      "metadata": {
        "colab": {
          "base_uri": "https://localhost:8080/",
          "height": 434
        },
        "id": "mjoKlNNHZIMh",
        "outputId": "e8251c8c-fdb8-421e-ba3d-fa474741ee69"
      },
      "execution_count": 2932,
      "outputs": [
        {
          "output_type": "display_data",
          "data": {
            "text/plain": [
              "<Figure size 640x480 with 1 Axes>"
            ],
            "image/png": "[encoded data removed]"
          },
          "metadata": {}
        }
      ]
    },
    {
      "cell_type": "markdown",
      "source": [
        "  Filtrado de los datos"
      ],
      "metadata": {
        "id": "zaS8eGr28hxH"
      }
    },
    {
      "cell_type": "code",
      "source": [
        "ds_adults = ds_train.loc[:, 'adults']\n",
        "\n",
        "df_train['adults'].mask(df_train['adults'] >= 8, ds_adults.median(), inplace=True)\n",
        "df_train['adults'].mask(df_train['adults'] < 1, ds_adults.median(), inplace=True)"
      ],
      "metadata": {
        "id": "svteXW62ZDwY"
      },
      "execution_count": 2933,
      "outputs": []
    },
    {
      "cell_type": "code",
      "source": [
        "grf = sns.boxplot(y=ds_adults, data= df_train ).set(title=\"Boxplot cantidad de adultos por habitación filtrado\",xlabel=\"\",ylabel=\"Cantidad de adultos\")"
      ],
      "metadata": {
        "colab": {
          "base_uri": "https://localhost:8080/",
          "height": 434
        },
        "id": "7IQtJfhgZHy1",
        "outputId": "afd2a555-0bef-4271-ceb4-26ba4be66708"
      },
      "execution_count": 2934,
      "outputs": [
        {
          "output_type": "display_data",
          "data": {
            "text/plain": [
              "<Figure size 640x480 with 1 Axes>"
            ],
            "image/png": "[encoded data removed]"
          },
          "metadata": {}
        }
      ]
    },
    {
      "cell_type": "markdown",
      "source": [
        "- **Hijos**\n"
      ],
      "metadata": {
        "id": "hXYrJ6EvZQKd"
      }
    },
    {
      "cell_type": "code",
      "source": [
        "grf = sns.boxplot(y=df_train.children, data= df_train).set(title=\"Boxplot cantidad de hijos por habitación\",xlabel=\"\",ylabel=\"Cantidad de hijos\")"
      ],
      "metadata": {
        "colab": {
          "base_uri": "https://localhost:8080/",
          "height": 434
        },
        "id": "N5vOezcSZQVc",
        "outputId": "0c8fccdb-4fed-4314-8cf5-91ba35227600"
      },
      "execution_count": 2935,
      "outputs": [
        {
          "output_type": "display_data",
          "data": {
            "text/plain": [
              "<Figure size 640x480 with 1 Axes>"
            ],
            "image/png": "[encoded data removed]"
          },
          "metadata": {}
        }
      ]
    },
    {
      "cell_type": "markdown",
      "source": [
        "Filtrado de los datos"
      ],
      "metadata": {
        "id": "fkuXS-mD9awv"
      }
    },
    {
      "cell_type": "code",
      "source": [
        "ds_children = df_train.loc[:, 'children']\n",
        "\n",
        "df_train['children'].mask(df_train['children'] >= 6, ds_children.median(), inplace=True)\n",
        "df_train['children'].mask(df_train['children'] < 1, ds_children.median(), inplace=True)"
      ],
      "metadata": {
        "id": "ogeUFdg4ZV5V"
      },
      "execution_count": 2936,
      "outputs": []
    },
    {
      "cell_type": "code",
      "source": [
        "grf = sns.boxplot(y=ds_children, data= df_train ).set(title=\"Boxplot cantidad de hijos por habitación filtrado\",xlabel=\"\",ylabel=\"Cantidad de hijos\")\n",
        "plt.ylim(-1,5)\n",
        "plt.show()"
      ],
      "metadata": {
        "colab": {
          "base_uri": "https://localhost:8080/",
          "height": 437
        },
        "id": "cX6lCySiZWus",
        "outputId": "e4279378-cd6a-4007-bf15-16366905db88"
      },
      "execution_count": 2937,
      "outputs": [
        {
          "output_type": "display_data",
          "data": {
            "text/plain": [
              "<Figure size 640x480 with 1 Axes>"
            ],
            "image/png": "[encoded data removed]"
          },
          "metadata": {}
        }
      ]
    },
    {
      "cell_type": "markdown",
      "source": [
        "- **Bebes**"
      ],
      "metadata": {
        "id": "S1d-fRIEZl8P"
      }
    },
    {
      "cell_type": "code",
      "source": [
        "grf = sns.boxplot(y=df_train.babies, data= df_train ).set(title=\"Boxplot cantidad de bebes por habitación filtrado\",xlabel=\"\",ylabel=\"Cantidad de bebes\")"
      ],
      "metadata": {
        "colab": {
          "base_uri": "https://localhost:8080/",
          "height": 434
        },
        "id": "36gMGvceZmOy",
        "outputId": "470bc3fe-46d5-488c-91bb-2dbfcfc01ab2"
      },
      "execution_count": 2938,
      "outputs": [
        {
          "output_type": "display_data",
          "data": {
            "text/plain": [
              "<Figure size 640x480 with 1 Axes>"
            ],
            "image/png": "[encoded data removed]"
          },
          "metadata": {}
        }
      ]
    },
    {
      "cell_type": "markdown",
      "source": [
        "Filtrado de los datos"
      ],
      "metadata": {
        "id": "08rMAriJ9LJ3"
      }
    },
    {
      "cell_type": "code",
      "source": [
        "ds_babies = df_train.loc[:, 'babies']\n",
        "\n",
        "df_train['babies'].mask(df_train['babies'] >= 4, ds_babies.median(), inplace=True)\n",
        "df_train['babies'].mask(df_train['babies'] < 1, ds_babies.median(), inplace=True)"
      ],
      "metadata": {
        "id": "0NCMYttdZmcv"
      },
      "execution_count": 2939,
      "outputs": []
    },
    {
      "cell_type": "code",
      "source": [
        "grf = sns.boxplot(y=ds_babies, data= df_train ).set(title=\"Boxplot cantidad de bebes por habitación filtrado\",xlabel=\"\",ylabel=\"Cantidad de bebes\")\n",
        "plt.ylim(-1,5)\n",
        "plt.show()"
      ],
      "metadata": {
        "colab": {
          "base_uri": "https://localhost:8080/",
          "height": 437
        },
        "id": "uHBjURWWZmto",
        "outputId": "719acce5-805f-48c2-e3c0-6f8bf3227bb6"
      },
      "execution_count": 2940,
      "outputs": [
        {
          "output_type": "display_data",
          "data": {
            "text/plain": [
              "<Figure size 640x480 with 1 Axes>"
            ],
            "image/png": "[encoded data removed]"
          },
          "metadata": {}
        }
      ]
    },
    {
      "cell_type": "markdown",
      "source": [
        "- **Playas de estacionamientos**"
      ],
      "metadata": {
        "id": "o8TTctAgcqXY"
      }
    },
    {
      "cell_type": "code",
      "source": [
        "grf = sns.boxplot(y=df_train.required_car_parking_spaces, data= df_train ).set(title=\"Boxplot cantidad de playas de estacionamiento solicitados\",xlabel=\"\",ylabel=\"Cantidad de playas de estacionamiento\")"
      ],
      "metadata": {
        "colab": {
          "base_uri": "https://localhost:8080/",
          "height": 433
        },
        "id": "VzYbCndGcrRZ",
        "outputId": "7bb8ac0f-f9ac-4940-97f3-c2e2433ff1b5"
      },
      "execution_count": 2941,
      "outputs": [
        {
          "output_type": "display_data",
          "data": {
            "text/plain": [
              "<Figure size 640x480 with 1 Axes>"
            ],
            "image/png": "[encoded data removed]"
          },
          "metadata": {}
        }
      ]
    },
    {
      "cell_type": "markdown",
      "source": [
        "Filtrado de los datos"
      ],
      "metadata": {
        "id": "j_v_GNOf9ML_"
      }
    },
    {
      "cell_type": "code",
      "source": [
        "ds_required_car_parking_spaces = df_train.loc[:, 'required_car_parking_spaces']\n",
        "\n",
        "df_train['required_car_parking_spaces'].mask(df_train['required_car_parking_spaces'] > 3, ds_required_car_parking_spaces.median(), inplace=True)\n",
        "df_train['required_car_parking_spaces'].mask(df_train['required_car_parking_spaces'] < 1, ds_required_car_parking_spaces.median(), inplace=True)"
      ],
      "metadata": {
        "id": "Efd4a9BOc_-9"
      },
      "execution_count": 2942,
      "outputs": []
    },
    {
      "cell_type": "code",
      "source": [
        "grf = sns.boxplot(y=ds_required_car_parking_spaces, data= ds_required_car_parking_spaces ).set(title=\"Boxplot cantidad de playas de estacionamiento\",xlabel=\"\",ylabel=\"Cantidad de playas de estacionamiento\")\n",
        "plt.ylim(-1,5)\n",
        "plt.show()"
      ],
      "metadata": {
        "colab": {
          "base_uri": "https://localhost:8080/",
          "height": 437
        },
        "id": "unTXXYpydARu",
        "outputId": "adeb7ca9-6e1f-4751-974f-3d90f75932b1"
      },
      "execution_count": 2943,
      "outputs": [
        {
          "output_type": "display_data",
          "data": {
            "text/plain": [
              "<Figure size 640x480 with 1 Axes>"
            ],
            "image/png": "[encoded data removed]"
          },
          "metadata": {}
        }
      ]
    },
    {
      "cell_type": "markdown",
      "source": [
        "## - **Muestra del DataSet limpio**"
      ],
      "metadata": {
        "id": "vDZB9CXXgxiW"
      }
    },
    {
      "cell_type": "code",
      "source": [
        "nombre_variables_cuantitativas = ['lead_time','arrival_date_week_number', 'stays_in_weekend_nights', 'adults',\n",
        "                                  'children','babies', 'is_repeated_guest', 'previous_cancellations', 'previous_bookings_not_canceled',\n",
        "                                  'booking_changes', 'agent', 'adr', 'required_car_parking_spaces', 'total_of_special_requests' ]\n",
        "\n",
        "ds_cuantitativo = df_train.loc[:, nombre_variables_cuantitativas]\n",
        "df = pd.DataFrame()\n",
        "df['media'] = round(ds_cuantitativo.mean(), 2)\n",
        "df['mediana'] = ds_cuantitativo.median()\n",
        "df['moda'] = ds_cuantitativo.mode().iloc[0]\n",
        "df['max'] = ds_cuantitativo.max()\n",
        "df"
      ],
      "metadata": {
        "colab": {
          "base_uri": "https://localhost:8080/",
          "height": 488
        },
        "id": "UjpHWw2fdx_-",
        "outputId": "bd16beec-2d8b-4ccd-9ca0-bef961e11595"
      },
      "execution_count": 2944,
      "outputs": [
        {
          "output_type": "execute_result",
          "data": {
            "text/plain": [
              "                                 media  mediana  moda    max\n",
              "lead_time                       112.25     78.0   0.0  629.0\n",
              "arrival_date_week_number         27.22     28.0  33.0   53.0\n",
              "stays_in_weekend_nights           0.92      1.0   0.0   16.0\n",
              "adults                            1.87      2.0   2.0    6.0\n",
              "children                          0.10      0.0   0.0    3.0\n",
              "babies                            0.01      0.0   0.0    2.0\n",
              "is_repeated_guest                 0.03      0.0   0.0    1.0\n",
              "previous_cancellations            0.11      0.0   0.0   26.0\n",
              "previous_bookings_not_canceled    0.12      0.0   0.0   70.0\n",
              "booking_changes                   0.20      0.0   0.0   17.0\n",
              "agent                            84.54     12.0   9.0  535.0\n",
              "adr                             102.38     95.0  62.0  510.0\n",
              "required_car_parking_spaces       0.05      0.0   0.0    3.0\n",
              "total_of_special_requests         0.52      0.0   0.0    5.0"
            ],
            "text/html": [
              "\n",
              "  <div id=\"df-50de1a28-3bf6-407b-8e08-0da57934bc7e\" class=\"colab-df-container\">\n",
              "    <div>\n",
              "<style scoped>\n",
              "    .dataframe tbody tr th:only-of-type {\n",
              "        vertical-align: middle;\n",
              "    }\n",
              "\n",
              "    .dataframe tbody tr th {\n",
              "        vertical-align: top;\n",
              "    }\n",
              "\n",
              "    .dataframe thead th {\n",
              "        text-align: right;\n",
              "    }\n",
              "</style>\n",
              "<table border=\"1\" class=\"dataframe\">\n",
              "  <thead>\n",
              "    <tr style=\"text-align: right;\">\n",
              "      <th></th>\n",
              "      <th>media</th>\n",
              "      <th>mediana</th>\n",
              "      <th>moda</th>\n",
              "      <th>max</th>\n",
              "    </tr>\n",
              "  </thead>\n",
              "  <tbody>\n",
              "    <tr>\n",
              "      <th>lead_time</th>\n",
              "      <td>112.25</td>\n",
              "      <td>78.0</td>\n",
              "      <td>0.0</td>\n",
              "      <td>629.0</td>\n",
              "    </tr>\n",
              "    <tr>\n",
              "      <th>arrival_date_week_number</th>\n",
              "      <td>27.22</td>\n",
              "      <td>28.0</td>\n",
              "      <td>33.0</td>\n",
              "      <td>53.0</td>\n",
              "    </tr>\n",
              "    <tr>\n",
              "      <th>stays_in_weekend_nights</th>\n",
              "      <td>0.92</td>\n",
              "      <td>1.0</td>\n",
              "      <td>0.0</td>\n",
              "      <td>16.0</td>\n",
              "    </tr>\n",
              "    <tr>\n",
              "      <th>adults</th>\n",
              "      <td>1.87</td>\n",
              "      <td>2.0</td>\n",
              "      <td>2.0</td>\n",
              "      <td>6.0</td>\n",
              "    </tr>\n",
              "    <tr>\n",
              "      <th>children</th>\n",
              "      <td>0.10</td>\n",
              "      <td>0.0</td>\n",
              "      <td>0.0</td>\n",
              "      <td>3.0</td>\n",
              "    </tr>\n",
              "    <tr>\n",
              "      <th>babies</th>\n",
              "      <td>0.01</td>\n",
              "      <td>0.0</td>\n",
              "      <td>0.0</td>\n",
              "      <td>2.0</td>\n",
              "    </tr>\n",
              "    <tr>\n",
              "      <th>is_repeated_guest</th>\n",
              "      <td>0.03</td>\n",
              "      <td>0.0</td>\n",
              "      <td>0.0</td>\n",
              "      <td>1.0</td>\n",
              "    </tr>\n",
              "    <tr>\n",
              "      <th>previous_cancellations</th>\n",
              "      <td>0.11</td>\n",
              "      <td>0.0</td>\n",
              "      <td>0.0</td>\n",
              "      <td>26.0</td>\n",
              "    </tr>\n",
              "    <tr>\n",
              "      <th>previous_bookings_not_canceled</th>\n",
              "      <td>0.12</td>\n",
              "      <td>0.0</td>\n",
              "      <td>0.0</td>\n",
              "      <td>70.0</td>\n",
              "    </tr>\n",
              "    <tr>\n",
              "      <th>booking_changes</th>\n",
              "      <td>0.20</td>\n",
              "      <td>0.0</td>\n",
              "      <td>0.0</td>\n",
              "      <td>17.0</td>\n",
              "    </tr>\n",
              "    <tr>\n",
              "      <th>agent</th>\n",
              "      <td>84.54</td>\n",
              "      <td>12.0</td>\n",
              "      <td>9.0</td>\n",
              "      <td>535.0</td>\n",
              "    </tr>\n",
              "    <tr>\n",
              "      <th>adr</th>\n",
              "      <td>102.38</td>\n",
              "      <td>95.0</td>\n",
              "      <td>62.0</td>\n",
              "      <td>510.0</td>\n",
              "    </tr>\n",
              "    <tr>\n",
              "      <th>required_car_parking_spaces</th>\n",
              "      <td>0.05</td>\n",
              "      <td>0.0</td>\n",
              "      <td>0.0</td>\n",
              "      <td>3.0</td>\n",
              "    </tr>\n",
              "    <tr>\n",
              "      <th>total_of_special_requests</th>\n",
              "      <td>0.52</td>\n",
              "      <td>0.0</td>\n",
              "      <td>0.0</td>\n",
              "      <td>5.0</td>\n",
              "    </tr>\n",
              "  </tbody>\n",
              "</table>\n",
              "</div>\n",
              "    <div class=\"colab-df-buttons\">\n",
              "\n",
              "  <div class=\"colab-df-container\">\n",
              "    <button class=\"colab-df-convert\" onclick=\"convertToInteractive('df-50de1a28-3bf6-407b-8e08-0da57934bc7e')\"\n",
              "            title=\"Convert this dataframe to an interactive table.\"\n",
              "            style=\"display:none;\">\n",
              "\n",
              "  <svg xmlns=\"http://www.w3.org/2000/svg\" height=\"24px\" viewBox=\"0 -960 960 960\">\n",
              "    <path d=\"M120-120v-720h720v720H120Zm60-500h600v-160H180v160Zm220 220h160v-160H400v160Zm0 220h160v-160H400v160ZM180-400h160v-160H180v160Zm440 0h160v-160H620v160ZM180-180h160v-160H180v160Zm440 0h160v-160H620v160Z\"/>\n",
              "  </svg>\n",
              "    </button>\n",
              "\n",
              "  <style>\n",
              "    .colab-df-container {\n",
              "      display:flex;\n",
              "      gap: 12px;\n",
              "    }\n",
              "\n",
              "    .colab-df-convert {\n",
              "      background-color: #E8F0FE;\n",
              "      border: none;\n",
              "      border-radius: 50%;\n",
              "      cursor: pointer;\n",
              "      display: none;\n",
              "      fill: #1967D2;\n",
              "      height: 32px;\n",
              "      padding: 0 0 0 0;\n",
              "      width: 32px;\n",
              "    }\n",
              "\n",
              "    .colab-df-convert:hover {\n",
              "      background-color: #E2EBFA;\n",
              "      box-shadow: 0px 1px 2px rgba(60, 64, 67, 0.3), 0px 1px 3px 1px rgba(60, 64, 67, 0.15);\n",
              "      fill: #174EA6;\n",
              "    }\n",
              "\n",
              "    .colab-df-buttons div {\n",
              "      margin-bottom: 4px;\n",
              "    }\n",
              "\n",
              "    [theme=dark] .colab-df-convert {\n",
              "      background-color: #3B4455;\n",
              "      fill: #D2E3FC;\n",
              "    }\n",
              "\n",
              "    [theme=dark] .colab-df-convert:hover {\n",
              "      background-color: #434B5C;\n",
              "      box-shadow: 0px 1px 3px 1px rgba(0, 0, 0, 0.15);\n",
              "      filter: drop-shadow(0px 1px 2px rgba(0, 0, 0, 0.3));\n",
              "      fill: #FFFFFF;\n",
              "    }\n",
              "  </style>\n",
              "\n",
              "    <script>\n",
              "      const buttonEl =\n",
              "        document.querySelector('#df-50de1a28-3bf6-407b-8e08-0da57934bc7e button.colab-df-convert');\n",
              "      buttonEl.style.display =\n",
              "        google.colab.kernel.accessAllowed ? 'block' : 'none';\n",
              "\n",
              "      async function convertToInteractive(key) {\n",
              "        const element = document.querySelector('#df-50de1a28-3bf6-407b-8e08-0da57934bc7e');\n",
              "        const dataTable =\n",
              "          await google.colab.kernel.invokeFunction('convertToInteractive',\n",
              "                                                    [key], {});\n",
              "        if (!dataTable) return;\n",
              "\n",
              "        const docLinkHtml = 'Like what you see? Visit the ' +\n",
              "          '<a target=\"_blank\" href=https://colab.research.google.com/notebooks/data_table.ipynb>data table notebook</a>'\n",
              "          + ' to learn more about interactive tables.';\n",
              "        element.innerHTML = '';\n",
              "        dataTable['output_type'] = 'display_data';\n",
              "        await google.colab.output.renderOutput(dataTable, element);\n",
              "        const docLink = document.createElement('div');\n",
              "        docLink.innerHTML = docLinkHtml;\n",
              "        element.appendChild(docLink);\n",
              "      }\n",
              "    </script>\n",
              "  </div>\n",
              "\n",
              "\n",
              "<div id=\"df-e3ef9de5-ad1e-4c0f-b861-8d13870ae5f2\">\n",
              "  <button class=\"colab-df-quickchart\" onclick=\"quickchart('df-e3ef9de5-ad1e-4c0f-b861-8d13870ae5f2')\"\n",
              "            title=\"Suggest charts.\"\n",
              "            style=\"display:none;\">\n",
              "\n",
              "<svg xmlns=\"http://www.w3.org/2000/svg\" height=\"24px\"viewBox=\"0 0 24 24\"\n",
              "     width=\"24px\">\n",
              "    <g>\n",
              "        <path d=\"M19 3H5c-1.1 0-2 .9-2 2v14c0 1.1.9 2 2 2h14c1.1 0 2-.9 2-2V5c0-1.1-.9-2-2-2zM9 17H7v-7h2v7zm4 0h-2V7h2v10zm4 0h-2v-4h2v4z\"/>\n",
              "    </g>\n",
              "</svg>\n",
              "  </button>\n",
              "\n",
              "<style>\n",
              "  .colab-df-quickchart {\n",
              "      --bg-color: #E8F0FE;\n",
              "      --fill-color: #1967D2;\n",
              "      --hover-bg-color: #E2EBFA;\n",
              "      --hover-fill-color: #174EA6;\n",
              "      --disabled-fill-color: #AAA;\n",
              "      --disabled-bg-color: #DDD;\n",
              "  }\n",
              "\n",
              "  [theme=dark] .colab-df-quickchart {\n",
              "      --bg-color: #3B4455;\n",
              "      --fill-color: #D2E3FC;\n",
              "      --hover-bg-color: #434B5C;\n",
              "      --hover-fill-color: #FFFFFF;\n",
              "      --disabled-bg-color: #3B4455;\n",
              "      --disabled-fill-color: #666;\n",
              "  }\n",
              "\n",
              "  .colab-df-quickchart {\n",
              "    background-color: var(--bg-color);\n",
              "    border: none;\n",
              "    border-radius: 50%;\n",
              "    cursor: pointer;\n",
              "    display: none;\n",
              "    fill: var(--fill-color);\n",
              "    height: 32px;\n",
              "    padding: 0;\n",
              "    width: 32px;\n",
              "  }\n",
              "\n",
              "  .colab-df-quickchart:hover {\n",
              "    background-color: var(--hover-bg-color);\n",
              "    box-shadow: 0 1px 2px rgba(60, 64, 67, 0.3), 0 1px 3px 1px rgba(60, 64, 67, 0.15);\n",
              "    fill: var(--button-hover-fill-color);\n",
              "  }\n",
              "\n",
              "  .colab-df-quickchart-complete:disabled,\n",
              "  .colab-df-quickchart-complete:disabled:hover {\n",
              "    background-color: var(--disabled-bg-color);\n",
              "    fill: var(--disabled-fill-color);\n",
              "    box-shadow: none;\n",
              "  }\n",
              "\n",
              "  .colab-df-spinner {\n",
              "    border: 2px solid var(--fill-color);\n",
              "    border-color: transparent;\n",
              "    border-bottom-color: var(--fill-color);\n",
              "    animation:\n",
              "      spin 1s steps(1) infinite;\n",
              "  }\n",
              "\n",
              "  @keyframes spin {\n",
              "    0% {\n",
              "      border-color: transparent;\n",
              "      border-bottom-color: var(--fill-color);\n",
              "      border-left-color: var(--fill-color);\n",
              "    }\n",
              "    20% {\n",
              "      border-color: transparent;\n",
              "      border-left-color: var(--fill-color);\n",
              "      border-top-color: var(--fill-color);\n",
              "    }\n",
              "    30% {\n",
              "      border-color: transparent;\n",
              "      border-left-color: var(--fill-color);\n",
              "      border-top-color: var(--fill-color);\n",
              "      border-right-color: var(--fill-color);\n",
              "    }\n",
              "    40% {\n",
              "      border-color: transparent;\n",
              "      border-right-color: var(--fill-color);\n",
              "      border-top-color: var(--fill-color);\n",
              "    }\n",
              "    60% {\n",
              "      border-color: transparent;\n",
              "      border-right-color: var(--fill-color);\n",
              "    }\n",
              "    80% {\n",
              "      border-color: transparent;\n",
              "      border-right-color: var(--fill-color);\n",
              "      border-bottom-color: var(--fill-color);\n",
              "    }\n",
              "    90% {\n",
              "      border-color: transparent;\n",
              "      border-bottom-color: var(--fill-color);\n",
              "    }\n",
              "  }\n",
              "</style>\n",
              "\n",
              "  <script>\n",
              "    async function quickchart(key) {\n",
              "      const quickchartButtonEl =\n",
              "        document.querySelector('#' + key + ' button');\n",
              "      quickchartButtonEl.disabled = true;  // To prevent multiple clicks.\n",
              "      quickchartButtonEl.classList.add('colab-df-spinner');\n",
              "      try {\n",
              "        const charts = await google.colab.kernel.invokeFunction(\n",
              "            'suggestCharts', [key], {});\n",
              "      } catch (error) {\n",
              "        console.error('Error during call to suggestCharts:', error);\n",
              "      }\n",
              "      quickchartButtonEl.classList.remove('colab-df-spinner');\n",
              "      quickchartButtonEl.classList.add('colab-df-quickchart-complete');\n",
              "    }\n",
              "    (() => {\n",
              "      let quickchartButtonEl =\n",
              "        document.querySelector('#df-e3ef9de5-ad1e-4c0f-b861-8d13870ae5f2 button');\n",
              "      quickchartButtonEl.style.display =\n",
              "        google.colab.kernel.accessAllowed ? 'block' : 'none';\n",
              "    })();\n",
              "  </script>\n",
              "</div>\n",
              "    </div>\n",
              "  </div>\n"
            ]
          },
          "metadata": {},
          "execution_count": 2944
        }
      ]
    },
    {
      "cell_type": "markdown",
      "source": [
        "# »  Preparacion de los DataSets\n",
        "\n",
        "Procedemos a preparar ambos DataSets para poder entrenar y predecir."
      ],
      "metadata": {
        "id": "FlGz3aw3706E"
      }
    },
    {
      "cell_type": "markdown",
      "source": [
        "- Analizamos la cantidad de columnas y filas\n",
        "\n"
      ],
      "metadata": {
        "id": "On2wV7Yw85kt"
      }
    },
    {
      "cell_type": "code",
      "source": [
        "print('Train:', ds_train.shape)\n",
        "print('Test:', ds_test.shape)"
      ],
      "metadata": {
        "colab": {
          "base_uri": "https://localhost:8080/"
        },
        "id": "I5SGxxCL83TT",
        "outputId": "0c0039e6-2be5-432b-bca2-92fb88201cb3"
      },
      "execution_count": 2945,
      "outputs": [
        {
          "output_type": "stream",
          "name": "stdout",
          "text": [
            "Train: (61913, 31)\n",
            "Test: (26535, 31)\n"
          ]
        }
      ]
    },
    {
      "cell_type": "markdown",
      "source": [
        "Buscamos las columans que no coinciden en ambos DataSets\n"
      ],
      "metadata": {
        "id": "j6IkJYJW-kgm"
      }
    },
    {
      "cell_type": "code",
      "source": [
        "columnas_faltantes_en_train = set(ds_test.columns) - set(ds_train.columns)\n",
        "columnas_faltantes_en_test = set(ds_train.columns)- set(ds_test.columns)\n",
        "print('Columnas faltantes es train:', columnas_faltantes_en_train)\n",
        "print('Columnas faltantes es test:', columnas_faltantes_en_test)"
      ],
      "metadata": {
        "colab": {
          "base_uri": "https://localhost:8080/"
        },
        "id": "nReIi3CU-n4h",
        "outputId": "52150890-426b-465a-ead5-b05a0ea2a56e"
      },
      "execution_count": 2946,
      "outputs": [
        {
          "output_type": "stream",
          "name": "stdout",
          "text": [
            "Columnas faltantes es train: {'reservation_status_date'}\n",
            "Columnas faltantes es test: {'is_canceled'}\n"
          ]
        }
      ]
    },
    {
      "cell_type": "markdown",
      "source": [
        "Vemos que el dataSet de test tiene una columan de mas que no se encuentra en train, por lo que prodecemos a eliminarla ya que creemos que no es relevante para el calculo del is_canceled.\n",
        "\n"
      ],
      "metadata": {
        "id": "u3L7tWmY-IlQ"
      }
    },
    {
      "cell_type": "markdown",
      "source": [
        "#### - **Arreglo del DataSet de test**\n",
        "\n",
        "Debemos eliminar las columnas que unicamenten faltan el train y agregar las que faltan en test ya que deben tener las mismas columnas con los mismos nombres."
      ],
      "metadata": {
        "id": "FdyPDPwc7mYh"
      }
    },
    {
      "cell_type": "code",
      "source": [
        "columna_a_eliminar_test = 'reservation_status_date'\n",
        "\n",
        "ds_test.drop(columna_a_eliminar_test, axis='columns', inplace = True)\n",
        "ds_test.insert(1, 'is_canceled', \" \")\n",
        "df_test = pd.DataFrame(ds_test)\n",
        "ds_test.head()"
      ],
      "metadata": {
        "colab": {
          "base_uri": "https://localhost:8080/",
          "height": 516
        },
        "id": "-DxjpE587hLp",
        "outputId": "fe76f822-c52f-4d2f-b5c4-79c732c05e3f"
      },
      "execution_count": 2947,
      "outputs": [
        {
          "output_type": "execute_result",
          "data": {
            "text/plain": [
              "          hotel is_canceled  lead_time  arrival_date_year arrival_date_month  \\\n",
              "0    City Hotel                    277               2016           November   \n",
              "1    City Hotel                    286               2016                May   \n",
              "2    City Hotel                      0               2016             August   \n",
              "3  Resort Hotel                    196               2016            October   \n",
              "4  Resort Hotel                    232               2016           November   \n",
              "\n",
              "   arrival_date_week_number  arrival_date_day_of_month  \\\n",
              "0                        46                          7   \n",
              "1                        20                         11   \n",
              "2                        35                         23   \n",
              "3                        44                         29   \n",
              "4                        48                         26   \n",
              "\n",
              "   stays_in_weekend_nights  stays_in_week_nights  adults  ...  \\\n",
              "0                        1                     2       2  ...   \n",
              "1                        0                     4       2  ...   \n",
              "2                        0                     1       3  ...   \n",
              "3                        2                     5       2  ...   \n",
              "4                        2                     1       2  ...   \n",
              "\n",
              "   booking_changes  deposit_type           agent         company  \\\n",
              "0                0    Non Refund  not applicable  not applicable   \n",
              "1                0    No Deposit            30.0  not applicable   \n",
              "2                0    No Deposit  not applicable  not applicable   \n",
              "3                0    No Deposit           240.0  not applicable   \n",
              "4                0    Non Refund            11.0  not applicable   \n",
              "\n",
              "  days_in_waiting_list    customer_type    adr  required_car_parking_spaces  \\\n",
              "0                    0        Transient  100.0                            0   \n",
              "1                  176  Transient-Party  101.0                            0   \n",
              "2                    0        Transient  225.0                            0   \n",
              "3                    0        Transient   96.0                            0   \n",
              "4                    0        Transient   30.0                            0   \n",
              "\n",
              "   total_of_special_requests                                    id  \n",
              "0                          0  e6d0d58a-ab96-44d3-b28f-85df1cc15f1e  \n",
              "1                          0  aba9aac2-4495-4645-a60e-90328713c999  \n",
              "2                          2  b345b5dc-c804-4d77-a39f-1f4e65d1f1ad  \n",
              "3                          0  ce1b400e-afa1-4946-bdff-004b859eb61c  \n",
              "4                          0  c4fbec0d-8e2e-4db2-9d4f-a6ccb9f51214  \n",
              "\n",
              "[5 rows x 31 columns]"
            ],
            "text/html": [
              "\n",
              "  <div id=\"df-f20025ea-9530-4f74-859f-aaa954bf97f2\" class=\"colab-df-container\">\n",
              "    <div>\n",
              "<style scoped>\n",
              "    .dataframe tbody tr th:only-of-type {\n",
              "        vertical-align: middle;\n",
              "    }\n",
              "\n",
              "    .dataframe tbody tr th {\n",
              "        vertical-align: top;\n",
              "    }\n",
              "\n",
              "    .dataframe thead th {\n",
              "        text-align: right;\n",
              "    }\n",
              "</style>\n",
              "<table border=\"1\" class=\"dataframe\">\n",
              "  <thead>\n",
              "    <tr style=\"text-align: right;\">\n",
              "      <th></th>\n",
              "      <th>hotel</th>\n",
              "      <th>is_canceled</th>\n",
              "      <th>lead_time</th>\n",
              "      <th>arrival_date_year</th>\n",
              "      <th>arrival_date_month</th>\n",
              "      <th>arrival_date_week_number</th>\n",
              "      <th>arrival_date_day_of_month</th>\n",
              "      <th>stays_in_weekend_nights</th>\n",
              "      <th>stays_in_week_nights</th>\n",
              "      <th>adults</th>\n",
              "      <th>...</th>\n",
              "      <th>booking_changes</th>\n",
              "      <th>deposit_type</th>\n",
              "      <th>agent</th>\n",
              "      <th>company</th>\n",
              "      <th>days_in_waiting_list</th>\n",
              "      <th>customer_type</th>\n",
              "      <th>adr</th>\n",
              "      <th>required_car_parking_spaces</th>\n",
              "      <th>total_of_special_requests</th>\n",
              "      <th>id</th>\n",
              "    </tr>\n",
              "  </thead>\n",
              "  <tbody>\n",
              "    <tr>\n",
              "      <th>0</th>\n",
              "      <td>City Hotel</td>\n",
              "      <td></td>\n",
              "      <td>277</td>\n",
              "      <td>2016</td>\n",
              "      <td>November</td>\n",
              "      <td>46</td>\n",
              "      <td>7</td>\n",
              "      <td>1</td>\n",
              "      <td>2</td>\n",
              "      <td>2</td>\n",
              "      <td>...</td>\n",
              "      <td>0</td>\n",
              "      <td>Non Refund</td>\n",
              "      <td>not applicable</td>\n",
              "      <td>not applicable</td>\n",
              "      <td>0</td>\n",
              "      <td>Transient</td>\n",
              "      <td>100.0</td>\n",
              "      <td>0</td>\n",
              "      <td>0</td>\n",
              "      <td>e6d0d58a-ab96-44d3-b28f-85df1cc15f1e</td>\n",
              "    </tr>\n",
              "    <tr>\n",
              "      <th>1</th>\n",
              "      <td>City Hotel</td>\n",
              "      <td></td>\n",
              "      <td>286</td>\n",
              "      <td>2016</td>\n",
              "      <td>May</td>\n",
              "      <td>20</td>\n",
              "      <td>11</td>\n",
              "      <td>0</td>\n",
              "      <td>4</td>\n",
              "      <td>2</td>\n",
              "      <td>...</td>\n",
              "      <td>0</td>\n",
              "      <td>No Deposit</td>\n",
              "      <td>30.0</td>\n",
              "      <td>not applicable</td>\n",
              "      <td>176</td>\n",
              "      <td>Transient-Party</td>\n",
              "      <td>101.0</td>\n",
              "      <td>0</td>\n",
              "      <td>0</td>\n",
              "      <td>aba9aac2-4495-4645-a60e-90328713c999</td>\n",
              "    </tr>\n",
              "    <tr>\n",
              "      <th>2</th>\n",
              "      <td>City Hotel</td>\n",
              "      <td></td>\n",
              "      <td>0</td>\n",
              "      <td>2016</td>\n",
              "      <td>August</td>\n",
              "      <td>35</td>\n",
              "      <td>23</td>\n",
              "      <td>0</td>\n",
              "      <td>1</td>\n",
              "      <td>3</td>\n",
              "      <td>...</td>\n",
              "      <td>0</td>\n",
              "      <td>No Deposit</td>\n",
              "      <td>not applicable</td>\n",
              "      <td>not applicable</td>\n",
              "      <td>0</td>\n",
              "      <td>Transient</td>\n",
              "      <td>225.0</td>\n",
              "      <td>0</td>\n",
              "      <td>2</td>\n",
              "      <td>b345b5dc-c804-4d77-a39f-1f4e65d1f1ad</td>\n",
              "    </tr>\n",
              "    <tr>\n",
              "      <th>3</th>\n",
              "      <td>Resort Hotel</td>\n",
              "      <td></td>\n",
              "      <td>196</td>\n",
              "      <td>2016</td>\n",
              "      <td>October</td>\n",
              "      <td>44</td>\n",
              "      <td>29</td>\n",
              "      <td>2</td>\n",
              "      <td>5</td>\n",
              "      <td>2</td>\n",
              "      <td>...</td>\n",
              "      <td>0</td>\n",
              "      <td>No Deposit</td>\n",
              "      <td>240.0</td>\n",
              "      <td>not applicable</td>\n",
              "      <td>0</td>\n",
              "      <td>Transient</td>\n",
              "      <td>96.0</td>\n",
              "      <td>0</td>\n",
              "      <td>0</td>\n",
              "      <td>ce1b400e-afa1-4946-bdff-004b859eb61c</td>\n",
              "    </tr>\n",
              "    <tr>\n",
              "      <th>4</th>\n",
              "      <td>Resort Hotel</td>\n",
              "      <td></td>\n",
              "      <td>232</td>\n",
              "      <td>2016</td>\n",
              "      <td>November</td>\n",
              "      <td>48</td>\n",
              "      <td>26</td>\n",
              "      <td>2</td>\n",
              "      <td>1</td>\n",
              "      <td>2</td>\n",
              "      <td>...</td>\n",
              "      <td>0</td>\n",
              "      <td>Non Refund</td>\n",
              "      <td>11.0</td>\n",
              "      <td>not applicable</td>\n",
              "      <td>0</td>\n",
              "      <td>Transient</td>\n",
              "      <td>30.0</td>\n",
              "      <td>0</td>\n",
              "      <td>0</td>\n",
              "      <td>c4fbec0d-8e2e-4db2-9d4f-a6ccb9f51214</td>\n",
              "    </tr>\n",
              "  </tbody>\n",
              "</table>\n",
              "<p>5 rows × 31 columns</p>\n",
              "</div>\n",
              "    <div class=\"colab-df-buttons\">\n",
              "\n",
              "  <div class=\"colab-df-container\">\n",
              "    <button class=\"colab-df-convert\" onclick=\"convertToInteractive('df-f20025ea-9530-4f74-859f-aaa954bf97f2')\"\n",
              "            title=\"Convert this dataframe to an interactive table.\"\n",
              "            style=\"display:none;\">\n",
              "\n",
              "  <svg xmlns=\"http://www.w3.org/2000/svg\" height=\"24px\" viewBox=\"0 -960 960 960\">\n",
              "    <path d=\"M120-120v-720h720v720H120Zm60-500h600v-160H180v160Zm220 220h160v-160H400v160Zm0 220h160v-160H400v160ZM180-400h160v-160H180v160Zm440 0h160v-160H620v160ZM180-180h160v-160H180v160Zm440 0h160v-160H620v160Z\"/>\n",
              "  </svg>\n",
              "    </button>\n",
              "\n",
              "  <style>\n",
              "    .colab-df-container {\n",
              "      display:flex;\n",
              "      gap: 12px;\n",
              "    }\n",
              "\n",
              "    .colab-df-convert {\n",
              "      background-color: #E8F0FE;\n",
              "      border: none;\n",
              "      border-radius: 50%;\n",
              "      cursor: pointer;\n",
              "      display: none;\n",
              "      fill: #1967D2;\n",
              "      height: 32px;\n",
              "      padding: 0 0 0 0;\n",
              "      width: 32px;\n",
              "    }\n",
              "\n",
              "    .colab-df-convert:hover {\n",
              "      background-color: #E2EBFA;\n",
              "      box-shadow: 0px 1px 2px rgba(60, 64, 67, 0.3), 0px 1px 3px 1px rgba(60, 64, 67, 0.15);\n",
              "      fill: #174EA6;\n",
              "    }\n",
              "\n",
              "    .colab-df-buttons div {\n",
              "      margin-bottom: 4px;\n",
              "    }\n",
              "\n",
              "    [theme=dark] .colab-df-convert {\n",
              "      background-color: #3B4455;\n",
              "      fill: #D2E3FC;\n",
              "    }\n",
              "\n",
              "    [theme=dark] .colab-df-convert:hover {\n",
              "      background-color: #434B5C;\n",
              "      box-shadow: 0px 1px 3px 1px rgba(0, 0, 0, 0.15);\n",
              "      filter: drop-shadow(0px 1px 2px rgba(0, 0, 0, 0.3));\n",
              "      fill: #FFFFFF;\n",
              "    }\n",
              "  </style>\n",
              "\n",
              "    <script>\n",
              "      const buttonEl =\n",
              "        document.querySelector('#df-f20025ea-9530-4f74-859f-aaa954bf97f2 button.colab-df-convert');\n",
              "      buttonEl.style.display =\n",
              "        google.colab.kernel.accessAllowed ? 'block' : 'none';\n",
              "\n",
              "      async function convertToInteractive(key) {\n",
              "        const element = document.querySelector('#df-f20025ea-9530-4f74-859f-aaa954bf97f2');\n",
              "        const dataTable =\n",
              "          await google.colab.kernel.invokeFunction('convertToInteractive',\n",
              "                                                    [key], {});\n",
              "        if (!dataTable) return;\n",
              "\n",
              "        const docLinkHtml = 'Like what you see? Visit the ' +\n",
              "          '<a target=\"_blank\" href=https://colab.research.google.com/notebooks/data_table.ipynb>data table notebook</a>'\n",
              "          + ' to learn more about interactive tables.';\n",
              "        element.innerHTML = '';\n",
              "        dataTable['output_type'] = 'display_data';\n",
              "        await google.colab.output.renderOutput(dataTable, element);\n",
              "        const docLink = document.createElement('div');\n",
              "        docLink.innerHTML = docLinkHtml;\n",
              "        element.appendChild(docLink);\n",
              "      }\n",
              "    </script>\n",
              "  </div>\n",
              "\n",
              "\n",
              "<div id=\"df-50da32a2-0869-4887-a04c-e53748c54d32\">\n",
              "  <button class=\"colab-df-quickchart\" onclick=\"quickchart('df-50da32a2-0869-4887-a04c-e53748c54d32')\"\n",
              "            title=\"Suggest charts.\"\n",
              "            style=\"display:none;\">\n",
              "\n",
              "<svg xmlns=\"http://www.w3.org/2000/svg\" height=\"24px\"viewBox=\"0 0 24 24\"\n",
              "     width=\"24px\">\n",
              "    <g>\n",
              "        <path d=\"M19 3H5c-1.1 0-2 .9-2 2v14c0 1.1.9 2 2 2h14c1.1 0 2-.9 2-2V5c0-1.1-.9-2-2-2zM9 17H7v-7h2v7zm4 0h-2V7h2v10zm4 0h-2v-4h2v4z\"/>\n",
              "    </g>\n",
              "</svg>\n",
              "  </button>\n",
              "\n",
              "<style>\n",
              "  .colab-df-quickchart {\n",
              "      --bg-color: #E8F0FE;\n",
              "      --fill-color: #1967D2;\n",
              "      --hover-bg-color: #E2EBFA;\n",
              "      --hover-fill-color: #174EA6;\n",
              "      --disabled-fill-color: #AAA;\n",
              "      --disabled-bg-color: #DDD;\n",
              "  }\n",
              "\n",
              "  [theme=dark] .colab-df-quickchart {\n",
              "      --bg-color: #3B4455;\n",
              "      --fill-color: #D2E3FC;\n",
              "      --hover-bg-color: #434B5C;\n",
              "      --hover-fill-color: #FFFFFF;\n",
              "      --disabled-bg-color: #3B4455;\n",
              "      --disabled-fill-color: #666;\n",
              "  }\n",
              "\n",
              "  .colab-df-quickchart {\n",
              "    background-color: var(--bg-color);\n",
              "    border: none;\n",
              "    border-radius: 50%;\n",
              "    cursor: pointer;\n",
              "    display: none;\n",
              "    fill: var(--fill-color);\n",
              "    height: 32px;\n",
              "    padding: 0;\n",
              "    width: 32px;\n",
              "  }\n",
              "\n",
              "  .colab-df-quickchart:hover {\n",
              "    background-color: var(--hover-bg-color);\n",
              "    box-shadow: 0 1px 2px rgba(60, 64, 67, 0.3), 0 1px 3px 1px rgba(60, 64, 67, 0.15);\n",
              "    fill: var(--button-hover-fill-color);\n",
              "  }\n",
              "\n",
              "  .colab-df-quickchart-complete:disabled,\n",
              "  .colab-df-quickchart-complete:disabled:hover {\n",
              "    background-color: var(--disabled-bg-color);\n",
              "    fill: var(--disabled-fill-color);\n",
              "    box-shadow: none;\n",
              "  }\n",
              "\n",
              "  .colab-df-spinner {\n",
              "    border: 2px solid var(--fill-color);\n",
              "    border-color: transparent;\n",
              "    border-bottom-color: var(--fill-color);\n",
              "    animation:\n",
              "      spin 1s steps(1) infinite;\n",
              "  }\n",
              "\n",
              "  @keyframes spin {\n",
              "    0% {\n",
              "      border-color: transparent;\n",
              "      border-bottom-color: var(--fill-color);\n",
              "      border-left-color: var(--fill-color);\n",
              "    }\n",
              "    20% {\n",
              "      border-color: transparent;\n",
              "      border-left-color: var(--fill-color);\n",
              "      border-top-color: var(--fill-color);\n",
              "    }\n",
              "    30% {\n",
              "      border-color: transparent;\n",
              "      border-left-color: var(--fill-color);\n",
              "      border-top-color: var(--fill-color);\n",
              "      border-right-color: var(--fill-color);\n",
              "    }\n",
              "    40% {\n",
              "      border-color: transparent;\n",
              "      border-right-color: var(--fill-color);\n",
              "      border-top-color: var(--fill-color);\n",
              "    }\n",
              "    60% {\n",
              "      border-color: transparent;\n",
              "      border-right-color: var(--fill-color);\n",
              "    }\n",
              "    80% {\n",
              "      border-color: transparent;\n",
              "      border-right-color: var(--fill-color);\n",
              "      border-bottom-color: var(--fill-color);\n",
              "    }\n",
              "    90% {\n",
              "      border-color: transparent;\n",
              "      border-bottom-color: var(--fill-color);\n",
              "    }\n",
              "  }\n",
              "</style>\n",
              "\n",
              "  <script>\n",
              "    async function quickchart(key) {\n",
              "      const quickchartButtonEl =\n",
              "        document.querySelector('#' + key + ' button');\n",
              "      quickchartButtonEl.disabled = true;  // To prevent multiple clicks.\n",
              "      quickchartButtonEl.classList.add('colab-df-spinner');\n",
              "      try {\n",
              "        const charts = await google.colab.kernel.invokeFunction(\n",
              "            'suggestCharts', [key], {});\n",
              "      } catch (error) {\n",
              "        console.error('Error during call to suggestCharts:', error);\n",
              "      }\n",
              "      quickchartButtonEl.classList.remove('colab-df-spinner');\n",
              "      quickchartButtonEl.classList.add('colab-df-quickchart-complete');\n",
              "    }\n",
              "    (() => {\n",
              "      let quickchartButtonEl =\n",
              "        document.querySelector('#df-50da32a2-0869-4887-a04c-e53748c54d32 button');\n",
              "      quickchartButtonEl.style.display =\n",
              "        google.colab.kernel.accessAllowed ? 'block' : 'none';\n",
              "    })();\n",
              "  </script>\n",
              "</div>\n",
              "    </div>\n",
              "  </div>\n"
            ]
          },
          "metadata": {},
          "execution_count": 2947
        }
      ]
    },
    {
      "cell_type": "markdown",
      "source": [
        "### - **Seleccion de columnas utiles para la prediccion**"
      ],
      "metadata": {
        "id": "Mj66-5UjeAEB"
      }
    },
    {
      "cell_type": "code",
      "source": [
        "columnas_utiles = ['adults', 'children','is_repeated_guest', 'previous_cancellations', 'previous_bookings_not_canceled','booking_changes', 'country', 'assigned_room_type',\n",
        "                  'days_in_waiting_list', 'is_canceled', 'total_of_special_requests', 'hotel','id', 'meal', 'deposit_type', 'customer_type', 'lead_time', 'required_car_parking_spaces']\n",
        "\n",
        "\n",
        "\n",
        "ds_trabajo_train = df_train.loc[:, columnas_utiles]\n",
        "ds_trabajo_test = df_test.loc[:, columnas_utiles]"
      ],
      "metadata": {
        "id": "dxypqmi7d-rz"
      },
      "execution_count": 2948,
      "outputs": []
    },
    {
      "cell_type": "markdown",
      "source": [
        "- Buscamos datos faltantes y procedemos a tomar decisiones sobre que hacer con estos datos faltantes"
      ],
      "metadata": {
        "id": "yH5lfcaYPV9b"
      }
    },
    {
      "cell_type": "code",
      "source": [
        "filas_totales=ds_trabajo_train.shape[0]\n",
        "print(ds_trabajo_train.isna().sum()/filas_totales*100)"
      ],
      "metadata": {
        "colab": {
          "base_uri": "https://localhost:8080/"
        },
        "id": "2Jkwogw_gllD",
        "outputId": "7db86b98-50c6-424d-c40d-6224eddb3a3e"
      },
      "execution_count": 2949,
      "outputs": [
        {
          "output_type": "stream",
          "name": "stdout",
          "text": [
            "adults                            0.000000\n",
            "children                          0.006461\n",
            "is_repeated_guest                 0.000000\n",
            "previous_cancellations            0.000000\n",
            "previous_bookings_not_canceled    0.000000\n",
            "booking_changes                   0.000000\n",
            "country                           0.356952\n",
            "assigned_room_type                0.000000\n",
            "days_in_waiting_list              0.000000\n",
            "is_canceled                       0.000000\n",
            "total_of_special_requests         0.000000\n",
            "hotel                             0.000000\n",
            "id                                0.000000\n",
            "meal                              0.000000\n",
            "deposit_type                      0.000000\n",
            "customer_type                     0.000000\n",
            "lead_time                         0.000000\n",
            "required_car_parking_spaces       0.000000\n",
            "dtype: float64\n"
          ]
        }
      ]
    },
    {
      "cell_type": "code",
      "source": [
        "df_trabajo_train = pd.DataFrame(ds_trabajo_train)\n",
        "df_trabajo_test = pd.DataFrame(ds_trabajo_test)"
      ],
      "metadata": {
        "id": "i0AM4ILMS5OL"
      },
      "execution_count": 2950,
      "outputs": []
    },
    {
      "cell_type": "markdown",
      "source": [
        "Eliminamos los datos NaN en la columnas \"Children\" ya que son muy pocos valores los cales se eliminan"
      ],
      "metadata": {
        "id": "ocInazuYPYZ2"
      }
    },
    {
      "cell_type": "code",
      "source": [
        "df_trabajo_test.dropna(subset=['children'], inplace=True)\n",
        "df_trabajo_train.dropna(subset=['children'], inplace=True)\n"
      ],
      "metadata": {
        "id": "l1Xqsehnhw_F"
      },
      "execution_count": 2951,
      "outputs": []
    },
    {
      "cell_type": "markdown",
      "source": [
        "En el caso de los paises reemplazamos los NaN por la moda ya que pudimos observar que en ambos casos la moda coincide por lo que creemos que es una buna desicion."
      ],
      "metadata": {
        "id": "HCwrUCkPAk8g"
      }
    },
    {
      "cell_type": "code",
      "source": [
        "\"\"\"pais_mas_repetido_train = df_trabajo_train['country'].mode()\n",
        "pais_mas_repetido_test = df_trabajo_test['country'].mode()\n",
        "\n",
        "print('pais_mas_repetido_train: ',pais_mas_repetido_train)\n",
        "print('pais_mas_repetido_test: ',pais_mas_repetido_test)\n",
        "\n",
        "df_trabajo_train.country.fillna(str(pais_mas_repetido_train), inplace=True)\"\"\"\n",
        "\n",
        "df_trabajo_train.dropna(subset=['country'], inplace=True)\n"
      ],
      "metadata": {
        "id": "yzwTxjCy_PJE"
      },
      "execution_count": 2952,
      "outputs": []
    },
    {
      "cell_type": "markdown",
      "source": [
        "Verificamos la existencia de NaNs de nuevo."
      ],
      "metadata": {
        "id": "G5f6mpIaWPDi"
      }
    },
    {
      "cell_type": "code",
      "source": [
        "filas_totales = df_trabajo_train.shape[0]\n",
        "print(df_trabajo_train.isna().sum()/filas_totales*100)\n"
      ],
      "metadata": {
        "colab": {
          "base_uri": "https://localhost:8080/"
        },
        "id": "MX-mk0_aRS2Y",
        "outputId": "12301368-06b0-441f-8de3-bc7b1eb7c2c9"
      },
      "execution_count": 2953,
      "outputs": [
        {
          "output_type": "stream",
          "name": "stdout",
          "text": [
            "adults                            0.0\n",
            "children                          0.0\n",
            "is_repeated_guest                 0.0\n",
            "previous_cancellations            0.0\n",
            "previous_bookings_not_canceled    0.0\n",
            "booking_changes                   0.0\n",
            "country                           0.0\n",
            "assigned_room_type                0.0\n",
            "days_in_waiting_list              0.0\n",
            "is_canceled                       0.0\n",
            "total_of_special_requests         0.0\n",
            "hotel                             0.0\n",
            "id                                0.0\n",
            "meal                              0.0\n",
            "deposit_type                      0.0\n",
            "customer_type                     0.0\n",
            "lead_time                         0.0\n",
            "required_car_parking_spaces       0.0\n",
            "dtype: float64\n"
          ]
        }
      ]
    },
    {
      "cell_type": "markdown",
      "source": [
        "### » Entrenamiento"
      ],
      "metadata": {
        "id": "wftbHTyAiUDi"
      }
    },
    {
      "cell_type": "markdown",
      "source": [
        "- **Agregamos, eliminamos y modificamos valores para que esten en ambos DataSets**\n",
        "\n",
        "\n",
        " Analizando los graficos del CHP1 y la cantidad de valores que admiten las variables observamos que tanto country como assigned_room_type tiene valores que no se encuentran en ambos DataSets."
      ],
      "metadata": {
        "id": "f-juY2CD4BNV"
      }
    },
    {
      "cell_type": "markdown",
      "source": [
        "Procedemos a buscar los paises que se encuentran en ambos DataSets y hacemos que coincidan los de train con los de test."
      ],
      "metadata": {
        "id": "keQEKoX94hWy"
      }
    },
    {
      "cell_type": "code",
      "source": [
        "\n",
        "train_countries = set(df_trabajo_train['country'].unique())\n",
        "test_countries = set(df_trabajo_test['country'].unique())\n",
        "\n",
        "only_in_train = train_countries - test_countries\n",
        "only_in_test = test_countries - train_countries\n",
        "\n",
        "replacement_pairs = zip(only_in_train, only_in_test)\n",
        "replacement_dict = dict(replacement_pairs)\n",
        "\n",
        "df_trabajo_train['country'] = df_trabajo_train['country'].replace(replacement_dict)\n",
        "df_trabajo_train = df_trabajo_train[df_trabajo_train['country'].isin(test_countries)]\n"
      ],
      "metadata": {
        "id": "PbhB6bc2_IL_"
      },
      "execution_count": 2954,
      "outputs": []
    },
    {
      "cell_type": "markdown",
      "source": [
        "Procedemos a buscar los tipos de habitacion asignada en el DataSet de Test y agarramos los valores del DataSet de Train que tiene alguno de los valores posibles.\n",
        "\n",
        "Observacion: solo se elimino 1 fila la cual contenia otro tipo de habitacion que no existia."
      ],
      "metadata": {
        "id": "vdw5tVuz4w9g"
      }
    },
    {
      "cell_type": "code",
      "source": [
        "test_assigned_room_type = df_trabajo_test['assigned_room_type'].unique()\n",
        "df_trabajo_train = df_trabajo_train[df_trabajo_train['assigned_room_type'].isin(test_assigned_room_type)]\n"
      ],
      "metadata": {
        "id": "AcXE2YlGClgT"
      },
      "execution_count": 2955,
      "outputs": []
    },
    {
      "cell_type": "code",
      "source": [
        "df_trabajo_train.shape"
      ],
      "metadata": {
        "colab": {
          "base_uri": "https://localhost:8080/"
        },
        "id": "yXyRhd2OCkdm",
        "outputId": "b49a83e4-9eb6-467b-9259-7d33e88e412a"
      },
      "execution_count": 2956,
      "outputs": [
        {
          "output_type": "execute_result",
          "data": {
            "text/plain": [
              "(61657, 18)"
            ]
          },
          "metadata": {},
          "execution_count": 2956
        }
      ]
    },
    {
      "cell_type": "markdown",
      "source": [
        "- **Dummies a las columnas de los DataSets**"
      ],
      "metadata": {
        "id": "8t-Abp0b9bCw"
      }
    },
    {
      "cell_type": "code",
      "source": [
        "columnas = ['meal','hotel', 'deposit_type', 'country','customer_type', 'assigned_room_type']\n",
        "\n",
        "def func_get_dummies(a):\n",
        "    return  pd.get_dummies(a, columns = columnas )\n"
      ],
      "metadata": {
        "id": "6PShSt__5UDo"
      },
      "execution_count": 2957,
      "outputs": []
    },
    {
      "cell_type": "code",
      "source": [
        "df_trabajo_train_dum = func_get_dummies(df_trabajo_train)\n",
        "df_trabajo_train_dum.head(5)"
      ],
      "metadata": {
        "colab": {
          "base_uri": "https://localhost:8080/",
          "height": 516
        },
        "id": "IxmltpV1jW3Z",
        "outputId": "c98941ce-b60e-4229-c5a5-694c7c5e52c8"
      },
      "execution_count": 2958,
      "outputs": [
        {
          "output_type": "execute_result",
          "data": {
            "text/plain": [
              "   adults  children  is_repeated_guest  previous_cancellations  \\\n",
              "0       1       0.0                  0                       0   \n",
              "1       2       0.0                  0                       0   \n",
              "2       2       2.0                  0                       0   \n",
              "3       2       0.0                  0                       0   \n",
              "4       2       0.0                  0                       0   \n",
              "\n",
              "   previous_bookings_not_canceled  booking_changes  days_in_waiting_list  \\\n",
              "0                               0                0                     0   \n",
              "1                               0                0                     0   \n",
              "2                               0                0                     0   \n",
              "3                               0                0                     0   \n",
              "4                               0                0                     0   \n",
              "\n",
              "   is_canceled  total_of_special_requests  \\\n",
              "0            1                          1   \n",
              "1            0                          0   \n",
              "2            0                          2   \n",
              "3            1                          0   \n",
              "4            0                          1   \n",
              "\n",
              "                                     id  ...  assigned_room_type_B  \\\n",
              "0  7aa4cc6b-b92c-4061-b21d-4f9e0cac4689  ...                     0   \n",
              "1  b1428f80-c56c-4ae4-91a9-6962edae08b1  ...                     0   \n",
              "2  2226c018-ea20-4c4e-8f71-ea66aee70d7c  ...                     0   \n",
              "3  314f56dc-2e4d-4298-9bdd-27bb008bffff  ...                     0   \n",
              "4  28c75445-c603-413a-babf-ad377018b592  ...                     0   \n",
              "\n",
              "   assigned_room_type_C  assigned_room_type_D  assigned_room_type_E  \\\n",
              "0                     0                     1                     0   \n",
              "1                     0                     0                     0   \n",
              "2                     0                     0                     0   \n",
              "3                     0                     0                     0   \n",
              "4                     0                     0                     0   \n",
              "\n",
              "   assigned_room_type_F  assigned_room_type_G  assigned_room_type_H  \\\n",
              "0                     0                     0                     0   \n",
              "1                     0                     0                     0   \n",
              "2                     1                     0                     0   \n",
              "3                     0                     0                     0   \n",
              "4                     0                     0                     0   \n",
              "\n",
              "   assigned_room_type_I  assigned_room_type_K  assigned_room_type_P  \n",
              "0                     0                     0                     0  \n",
              "1                     0                     0                     0  \n",
              "2                     0                     0                     0  \n",
              "3                     0                     0                     0  \n",
              "4                     0                     0                     0  \n",
              "\n",
              "[5 rows x 173 columns]"
            ],
            "text/html": [
              "\n",
              "  <div id=\"df-d1b3ad76-49db-44da-82d7-9c968bf1e9c7\" class=\"colab-df-container\">\n",
              "    <div>\n",
              "<style scoped>\n",
              "    .dataframe tbody tr th:only-of-type {\n",
              "        vertical-align: middle;\n",
              "    }\n",
              "\n",
              "    .dataframe tbody tr th {\n",
              "        vertical-align: top;\n",
              "    }\n",
              "\n",
              "    .dataframe thead th {\n",
              "        text-align: right;\n",
              "    }\n",
              "</style>\n",
              "<table border=\"1\" class=\"dataframe\">\n",
              "  <thead>\n",
              "    <tr style=\"text-align: right;\">\n",
              "      <th></th>\n",
              "      <th>adults</th>\n",
              "      <th>children</th>\n",
              "      <th>is_repeated_guest</th>\n",
              "      <th>previous_cancellations</th>\n",
              "      <th>previous_bookings_not_canceled</th>\n",
              "      <th>booking_changes</th>\n",
              "      <th>days_in_waiting_list</th>\n",
              "      <th>is_canceled</th>\n",
              "      <th>total_of_special_requests</th>\n",
              "      <th>id</th>\n",
              "      <th>...</th>\n",
              "      <th>assigned_room_type_B</th>\n",
              "      <th>assigned_room_type_C</th>\n",
              "      <th>assigned_room_type_D</th>\n",
              "      <th>assigned_room_type_E</th>\n",
              "      <th>assigned_room_type_F</th>\n",
              "      <th>assigned_room_type_G</th>\n",
              "      <th>assigned_room_type_H</th>\n",
              "      <th>assigned_room_type_I</th>\n",
              "      <th>assigned_room_type_K</th>\n",
              "      <th>assigned_room_type_P</th>\n",
              "    </tr>\n",
              "  </thead>\n",
              "  <tbody>\n",
              "    <tr>\n",
              "      <th>0</th>\n",
              "      <td>1</td>\n",
              "      <td>0.0</td>\n",
              "      <td>0</td>\n",
              "      <td>0</td>\n",
              "      <td>0</td>\n",
              "      <td>0</td>\n",
              "      <td>0</td>\n",
              "      <td>1</td>\n",
              "      <td>1</td>\n",
              "      <td>7aa4cc6b-b92c-4061-b21d-4f9e0cac4689</td>\n",
              "      <td>...</td>\n",
              "      <td>0</td>\n",
              "      <td>0</td>\n",
              "      <td>1</td>\n",
              "      <td>0</td>\n",
              "      <td>0</td>\n",
              "      <td>0</td>\n",
              "      <td>0</td>\n",
              "      <td>0</td>\n",
              "      <td>0</td>\n",
              "      <td>0</td>\n",
              "    </tr>\n",
              "    <tr>\n",
              "      <th>1</th>\n",
              "      <td>2</td>\n",
              "      <td>0.0</td>\n",
              "      <td>0</td>\n",
              "      <td>0</td>\n",
              "      <td>0</td>\n",
              "      <td>0</td>\n",
              "      <td>0</td>\n",
              "      <td>0</td>\n",
              "      <td>0</td>\n",
              "      <td>b1428f80-c56c-4ae4-91a9-6962edae08b1</td>\n",
              "      <td>...</td>\n",
              "      <td>0</td>\n",
              "      <td>0</td>\n",
              "      <td>0</td>\n",
              "      <td>0</td>\n",
              "      <td>0</td>\n",
              "      <td>0</td>\n",
              "      <td>0</td>\n",
              "      <td>0</td>\n",
              "      <td>0</td>\n",
              "      <td>0</td>\n",
              "    </tr>\n",
              "    <tr>\n",
              "      <th>2</th>\n",
              "      <td>2</td>\n",
              "      <td>2.0</td>\n",
              "      <td>0</td>\n",
              "      <td>0</td>\n",
              "      <td>0</td>\n",
              "      <td>0</td>\n",
              "      <td>0</td>\n",
              "      <td>0</td>\n",
              "      <td>2</td>\n",
              "      <td>2226c018-ea20-4c4e-8f71-ea66aee70d7c</td>\n",
              "      <td>...</td>\n",
              "      <td>0</td>\n",
              "      <td>0</td>\n",
              "      <td>0</td>\n",
              "      <td>0</td>\n",
              "      <td>1</td>\n",
              "      <td>0</td>\n",
              "      <td>0</td>\n",
              "      <td>0</td>\n",
              "      <td>0</td>\n",
              "      <td>0</td>\n",
              "    </tr>\n",
              "    <tr>\n",
              "      <th>3</th>\n",
              "      <td>2</td>\n",
              "      <td>0.0</td>\n",
              "      <td>0</td>\n",
              "      <td>0</td>\n",
              "      <td>0</td>\n",
              "      <td>0</td>\n",
              "      <td>0</td>\n",
              "      <td>1</td>\n",
              "      <td>0</td>\n",
              "      <td>314f56dc-2e4d-4298-9bdd-27bb008bffff</td>\n",
              "      <td>...</td>\n",
              "      <td>0</td>\n",
              "      <td>0</td>\n",
              "      <td>0</td>\n",
              "      <td>0</td>\n",
              "      <td>0</td>\n",
              "      <td>0</td>\n",
              "      <td>0</td>\n",
              "      <td>0</td>\n",
              "      <td>0</td>\n",
              "      <td>0</td>\n",
              "    </tr>\n",
              "    <tr>\n",
              "      <th>4</th>\n",
              "      <td>2</td>\n",
              "      <td>0.0</td>\n",
              "      <td>0</td>\n",
              "      <td>0</td>\n",
              "      <td>0</td>\n",
              "      <td>0</td>\n",
              "      <td>0</td>\n",
              "      <td>0</td>\n",
              "      <td>1</td>\n",
              "      <td>28c75445-c603-413a-babf-ad377018b592</td>\n",
              "      <td>...</td>\n",
              "      <td>0</td>\n",
              "      <td>0</td>\n",
              "      <td>0</td>\n",
              "      <td>0</td>\n",
              "      <td>0</td>\n",
              "      <td>0</td>\n",
              "      <td>0</td>\n",
              "      <td>0</td>\n",
              "      <td>0</td>\n",
              "      <td>0</td>\n",
              "    </tr>\n",
              "  </tbody>\n",
              "</table>\n",
              "<p>5 rows × 173 columns</p>\n",
              "</div>\n",
              "    <div class=\"colab-df-buttons\">\n",
              "\n",
              "  <div class=\"colab-df-container\">\n",
              "    <button class=\"colab-df-convert\" onclick=\"convertToInteractive('df-d1b3ad76-49db-44da-82d7-9c968bf1e9c7')\"\n",
              "            title=\"Convert this dataframe to an interactive table.\"\n",
              "            style=\"display:none;\">\n",
              "\n",
              "  <svg xmlns=\"http://www.w3.org/2000/svg\" height=\"24px\" viewBox=\"0 -960 960 960\">\n",
              "    <path d=\"M120-120v-720h720v720H120Zm60-500h600v-160H180v160Zm220 220h160v-160H400v160Zm0 220h160v-160H400v160ZM180-400h160v-160H180v160Zm440 0h160v-160H620v160ZM180-180h160v-160H180v160Zm440 0h160v-160H620v160Z\"/>\n",
              "  </svg>\n",
              "    </button>\n",
              "\n",
              "  <style>\n",
              "    .colab-df-container {\n",
              "      display:flex;\n",
              "      gap: 12px;\n",
              "    }\n",
              "\n",
              "    .colab-df-convert {\n",
              "      background-color: #E8F0FE;\n",
              "      border: none;\n",
              "      border-radius: 50%;\n",
              "      cursor: pointer;\n",
              "      display: none;\n",
              "      fill: #1967D2;\n",
              "      height: 32px;\n",
              "      padding: 0 0 0 0;\n",
              "      width: 32px;\n",
              "    }\n",
              "\n",
              "    .colab-df-convert:hover {\n",
              "      background-color: #E2EBFA;\n",
              "      box-shadow: 0px 1px 2px rgba(60, 64, 67, 0.3), 0px 1px 3px 1px rgba(60, 64, 67, 0.15);\n",
              "      fill: #174EA6;\n",
              "    }\n",
              "\n",
              "    .colab-df-buttons div {\n",
              "      margin-bottom: 4px;\n",
              "    }\n",
              "\n",
              "    [theme=dark] .colab-df-convert {\n",
              "      background-color: #3B4455;\n",
              "      fill: #D2E3FC;\n",
              "    }\n",
              "\n",
              "    [theme=dark] .colab-df-convert:hover {\n",
              "      background-color: #434B5C;\n",
              "      box-shadow: 0px 1px 3px 1px rgba(0, 0, 0, 0.15);\n",
              "      filter: drop-shadow(0px 1px 2px rgba(0, 0, 0, 0.3));\n",
              "      fill: #FFFFFF;\n",
              "    }\n",
              "  </style>\n",
              "\n",
              "    <script>\n",
              "      const buttonEl =\n",
              "        document.querySelector('#df-d1b3ad76-49db-44da-82d7-9c968bf1e9c7 button.colab-df-convert');\n",
              "      buttonEl.style.display =\n",
              "        google.colab.kernel.accessAllowed ? 'block' : 'none';\n",
              "\n",
              "      async function convertToInteractive(key) {\n",
              "        const element = document.querySelector('#df-d1b3ad76-49db-44da-82d7-9c968bf1e9c7');\n",
              "        const dataTable =\n",
              "          await google.colab.kernel.invokeFunction('convertToInteractive',\n",
              "                                                    [key], {});\n",
              "        if (!dataTable) return;\n",
              "\n",
              "        const docLinkHtml = 'Like what you see? Visit the ' +\n",
              "          '<a target=\"_blank\" href=https://colab.research.google.com/notebooks/data_table.ipynb>data table notebook</a>'\n",
              "          + ' to learn more about interactive tables.';\n",
              "        element.innerHTML = '';\n",
              "        dataTable['output_type'] = 'display_data';\n",
              "        await google.colab.output.renderOutput(dataTable, element);\n",
              "        const docLink = document.createElement('div');\n",
              "        docLink.innerHTML = docLinkHtml;\n",
              "        element.appendChild(docLink);\n",
              "      }\n",
              "    </script>\n",
              "  </div>\n",
              "\n",
              "\n",
              "<div id=\"df-4f8821f6-be6d-4adf-8c12-10a75b3b1a63\">\n",
              "  <button class=\"colab-df-quickchart\" onclick=\"quickchart('df-4f8821f6-be6d-4adf-8c12-10a75b3b1a63')\"\n",
              "            title=\"Suggest charts.\"\n",
              "            style=\"display:none;\">\n",
              "\n",
              "<svg xmlns=\"http://www.w3.org/2000/svg\" height=\"24px\"viewBox=\"0 0 24 24\"\n",
              "     width=\"24px\">\n",
              "    <g>\n",
              "        <path d=\"M19 3H5c-1.1 0-2 .9-2 2v14c0 1.1.9 2 2 2h14c1.1 0 2-.9 2-2V5c0-1.1-.9-2-2-2zM9 17H7v-7h2v7zm4 0h-2V7h2v10zm4 0h-2v-4h2v4z\"/>\n",
              "    </g>\n",
              "</svg>\n",
              "  </button>\n",
              "\n",
              "<style>\n",
              "  .colab-df-quickchart {\n",
              "      --bg-color: #E8F0FE;\n",
              "      --fill-color: #1967D2;\n",
              "      --hover-bg-color: #E2EBFA;\n",
              "      --hover-fill-color: #174EA6;\n",
              "      --disabled-fill-color: #AAA;\n",
              "      --disabled-bg-color: #DDD;\n",
              "  }\n",
              "\n",
              "  [theme=dark] .colab-df-quickchart {\n",
              "      --bg-color: #3B4455;\n",
              "      --fill-color: #D2E3FC;\n",
              "      --hover-bg-color: #434B5C;\n",
              "      --hover-fill-color: #FFFFFF;\n",
              "      --disabled-bg-color: #3B4455;\n",
              "      --disabled-fill-color: #666;\n",
              "  }\n",
              "\n",
              "  .colab-df-quickchart {\n",
              "    background-color: var(--bg-color);\n",
              "    border: none;\n",
              "    border-radius: 50%;\n",
              "    cursor: pointer;\n",
              "    display: none;\n",
              "    fill: var(--fill-color);\n",
              "    height: 32px;\n",
              "    padding: 0;\n",
              "    width: 32px;\n",
              "  }\n",
              "\n",
              "  .colab-df-quickchart:hover {\n",
              "    background-color: var(--hover-bg-color);\n",
              "    box-shadow: 0 1px 2px rgba(60, 64, 67, 0.3), 0 1px 3px 1px rgba(60, 64, 67, 0.15);\n",
              "    fill: var(--button-hover-fill-color);\n",
              "  }\n",
              "\n",
              "  .colab-df-quickchart-complete:disabled,\n",
              "  .colab-df-quickchart-complete:disabled:hover {\n",
              "    background-color: var(--disabled-bg-color);\n",
              "    fill: var(--disabled-fill-color);\n",
              "    box-shadow: none;\n",
              "  }\n",
              "\n",
              "  .colab-df-spinner {\n",
              "    border: 2px solid var(--fill-color);\n",
              "    border-color: transparent;\n",
              "    border-bottom-color: var(--fill-color);\n",
              "    animation:\n",
              "      spin 1s steps(1) infinite;\n",
              "  }\n",
              "\n",
              "  @keyframes spin {\n",
              "    0% {\n",
              "      border-color: transparent;\n",
              "      border-bottom-color: var(--fill-color);\n",
              "      border-left-color: var(--fill-color);\n",
              "    }\n",
              "    20% {\n",
              "      border-color: transparent;\n",
              "      border-left-color: var(--fill-color);\n",
              "      border-top-color: var(--fill-color);\n",
              "    }\n",
              "    30% {\n",
              "      border-color: transparent;\n",
              "      border-left-color: var(--fill-color);\n",
              "      border-top-color: var(--fill-color);\n",
              "      border-right-color: var(--fill-color);\n",
              "    }\n",
              "    40% {\n",
              "      border-color: transparent;\n",
              "      border-right-color: var(--fill-color);\n",
              "      border-top-color: var(--fill-color);\n",
              "    }\n",
              "    60% {\n",
              "      border-color: transparent;\n",
              "      border-right-color: var(--fill-color);\n",
              "    }\n",
              "    80% {\n",
              "      border-color: transparent;\n",
              "      border-right-color: var(--fill-color);\n",
              "      border-bottom-color: var(--fill-color);\n",
              "    }\n",
              "    90% {\n",
              "      border-color: transparent;\n",
              "      border-bottom-color: var(--fill-color);\n",
              "    }\n",
              "  }\n",
              "</style>\n",
              "\n",
              "  <script>\n",
              "    async function quickchart(key) {\n",
              "      const quickchartButtonEl =\n",
              "        document.querySelector('#' + key + ' button');\n",
              "      quickchartButtonEl.disabled = true;  // To prevent multiple clicks.\n",
              "      quickchartButtonEl.classList.add('colab-df-spinner');\n",
              "      try {\n",
              "        const charts = await google.colab.kernel.invokeFunction(\n",
              "            'suggestCharts', [key], {});\n",
              "      } catch (error) {\n",
              "        console.error('Error during call to suggestCharts:', error);\n",
              "      }\n",
              "      quickchartButtonEl.classList.remove('colab-df-spinner');\n",
              "      quickchartButtonEl.classList.add('colab-df-quickchart-complete');\n",
              "    }\n",
              "    (() => {\n",
              "      let quickchartButtonEl =\n",
              "        document.querySelector('#df-4f8821f6-be6d-4adf-8c12-10a75b3b1a63 button');\n",
              "      quickchartButtonEl.style.display =\n",
              "        google.colab.kernel.accessAllowed ? 'block' : 'none';\n",
              "    })();\n",
              "  </script>\n",
              "</div>\n",
              "    </div>\n",
              "  </div>\n"
            ]
          },
          "metadata": {},
          "execution_count": 2958
        }
      ]
    },
    {
      "cell_type": "code",
      "source": [
        "df_trabajo_test_dum = func_get_dummies(df_trabajo_test)\n",
        "df_trabajo_test_dum.head()"
      ],
      "metadata": {
        "colab": {
          "base_uri": "https://localhost:8080/",
          "height": 516
        },
        "id": "g3EpVGPBKFjK",
        "outputId": "21b64ed2-2d3b-49fd-b984-7a118e62f8e8"
      },
      "execution_count": 2959,
      "outputs": [
        {
          "output_type": "execute_result",
          "data": {
            "text/plain": [
              "   adults  children  is_repeated_guest  previous_cancellations  \\\n",
              "0       2       0.0                  0                       0   \n",
              "1       2       0.0                  0                       0   \n",
              "2       3       0.0                  0                       0   \n",
              "3       2       2.0                  0                       0   \n",
              "4       2       0.0                  0                       0   \n",
              "\n",
              "   previous_bookings_not_canceled  booking_changes  days_in_waiting_list  \\\n",
              "0                               0                0                     0   \n",
              "1                               0                0                   176   \n",
              "2                               0                0                     0   \n",
              "3                               0                0                     0   \n",
              "4                               0                0                     0   \n",
              "\n",
              "  is_canceled  total_of_special_requests  \\\n",
              "0                                      0   \n",
              "1                                      0   \n",
              "2                                      2   \n",
              "3                                      0   \n",
              "4                                      0   \n",
              "\n",
              "                                     id  ...  assigned_room_type_B  \\\n",
              "0  e6d0d58a-ab96-44d3-b28f-85df1cc15f1e  ...                     0   \n",
              "1  aba9aac2-4495-4645-a60e-90328713c999  ...                     0   \n",
              "2  b345b5dc-c804-4d77-a39f-1f4e65d1f1ad  ...                     0   \n",
              "3  ce1b400e-afa1-4946-bdff-004b859eb61c  ...                     0   \n",
              "4  c4fbec0d-8e2e-4db2-9d4f-a6ccb9f51214  ...                     0   \n",
              "\n",
              "   assigned_room_type_C  assigned_room_type_D  assigned_room_type_E  \\\n",
              "0                     0                     0                     0   \n",
              "1                     0                     0                     0   \n",
              "2                     0                     1                     0   \n",
              "3                     0                     0                     0   \n",
              "4                     0                     0                     0   \n",
              "\n",
              "   assigned_room_type_F  assigned_room_type_G  assigned_room_type_H  \\\n",
              "0                     0                     0                     0   \n",
              "1                     0                     0                     0   \n",
              "2                     0                     0                     0   \n",
              "3                     0                     1                     0   \n",
              "4                     0                     0                     0   \n",
              "\n",
              "   assigned_room_type_I  assigned_room_type_K  assigned_room_type_P  \n",
              "0                     0                     0                     0  \n",
              "1                     0                     0                     0  \n",
              "2                     0                     0                     0  \n",
              "3                     0                     0                     0  \n",
              "4                     0                     0                     0  \n",
              "\n",
              "[5 rows x 173 columns]"
            ],
            "text/html": [
              "\n",
              "  <div id=\"df-12947f20-4852-4187-9680-56b073a7759d\" class=\"colab-df-container\">\n",
              "    <div>\n",
              "<style scoped>\n",
              "    .dataframe tbody tr th:only-of-type {\n",
              "        vertical-align: middle;\n",
              "    }\n",
              "\n",
              "    .dataframe tbody tr th {\n",
              "        vertical-align: top;\n",
              "    }\n",
              "\n",
              "    .dataframe thead th {\n",
              "        text-align: right;\n",
              "    }\n",
              "</style>\n",
              "<table border=\"1\" class=\"dataframe\">\n",
              "  <thead>\n",
              "    <tr style=\"text-align: right;\">\n",
              "      <th></th>\n",
              "      <th>adults</th>\n",
              "      <th>children</th>\n",
              "      <th>is_repeated_guest</th>\n",
              "      <th>previous_cancellations</th>\n",
              "      <th>previous_bookings_not_canceled</th>\n",
              "      <th>booking_changes</th>\n",
              "      <th>days_in_waiting_list</th>\n",
              "      <th>is_canceled</th>\n",
              "      <th>total_of_special_requests</th>\n",
              "      <th>id</th>\n",
              "      <th>...</th>\n",
              "      <th>assigned_room_type_B</th>\n",
              "      <th>assigned_room_type_C</th>\n",
              "      <th>assigned_room_type_D</th>\n",
              "      <th>assigned_room_type_E</th>\n",
              "      <th>assigned_room_type_F</th>\n",
              "      <th>assigned_room_type_G</th>\n",
              "      <th>assigned_room_type_H</th>\n",
              "      <th>assigned_room_type_I</th>\n",
              "      <th>assigned_room_type_K</th>\n",
              "      <th>assigned_room_type_P</th>\n",
              "    </tr>\n",
              "  </thead>\n",
              "  <tbody>\n",
              "    <tr>\n",
              "      <th>0</th>\n",
              "      <td>2</td>\n",
              "      <td>0.0</td>\n",
              "      <td>0</td>\n",
              "      <td>0</td>\n",
              "      <td>0</td>\n",
              "      <td>0</td>\n",
              "      <td>0</td>\n",
              "      <td></td>\n",
              "      <td>0</td>\n",
              "      <td>e6d0d58a-ab96-44d3-b28f-85df1cc15f1e</td>\n",
              "      <td>...</td>\n",
              "      <td>0</td>\n",
              "      <td>0</td>\n",
              "      <td>0</td>\n",
              "      <td>0</td>\n",
              "      <td>0</td>\n",
              "      <td>0</td>\n",
              "      <td>0</td>\n",
              "      <td>0</td>\n",
              "      <td>0</td>\n",
              "      <td>0</td>\n",
              "    </tr>\n",
              "    <tr>\n",
              "      <th>1</th>\n",
              "      <td>2</td>\n",
              "      <td>0.0</td>\n",
              "      <td>0</td>\n",
              "      <td>0</td>\n",
              "      <td>0</td>\n",
              "      <td>0</td>\n",
              "      <td>176</td>\n",
              "      <td></td>\n",
              "      <td>0</td>\n",
              "      <td>aba9aac2-4495-4645-a60e-90328713c999</td>\n",
              "      <td>...</td>\n",
              "      <td>0</td>\n",
              "      <td>0</td>\n",
              "      <td>0</td>\n",
              "      <td>0</td>\n",
              "      <td>0</td>\n",
              "      <td>0</td>\n",
              "      <td>0</td>\n",
              "      <td>0</td>\n",
              "      <td>0</td>\n",
              "      <td>0</td>\n",
              "    </tr>\n",
              "    <tr>\n",
              "      <th>2</th>\n",
              "      <td>3</td>\n",
              "      <td>0.0</td>\n",
              "      <td>0</td>\n",
              "      <td>0</td>\n",
              "      <td>0</td>\n",
              "      <td>0</td>\n",
              "      <td>0</td>\n",
              "      <td></td>\n",
              "      <td>2</td>\n",
              "      <td>b345b5dc-c804-4d77-a39f-1f4e65d1f1ad</td>\n",
              "      <td>...</td>\n",
              "      <td>0</td>\n",
              "      <td>0</td>\n",
              "      <td>1</td>\n",
              "      <td>0</td>\n",
              "      <td>0</td>\n",
              "      <td>0</td>\n",
              "      <td>0</td>\n",
              "      <td>0</td>\n",
              "      <td>0</td>\n",
              "      <td>0</td>\n",
              "    </tr>\n",
              "    <tr>\n",
              "      <th>3</th>\n",
              "      <td>2</td>\n",
              "      <td>2.0</td>\n",
              "      <td>0</td>\n",
              "      <td>0</td>\n",
              "      <td>0</td>\n",
              "      <td>0</td>\n",
              "      <td>0</td>\n",
              "      <td></td>\n",
              "      <td>0</td>\n",
              "      <td>ce1b400e-afa1-4946-bdff-004b859eb61c</td>\n",
              "      <td>...</td>\n",
              "      <td>0</td>\n",
              "      <td>0</td>\n",
              "      <td>0</td>\n",
              "      <td>0</td>\n",
              "      <td>0</td>\n",
              "      <td>1</td>\n",
              "      <td>0</td>\n",
              "      <td>0</td>\n",
              "      <td>0</td>\n",
              "      <td>0</td>\n",
              "    </tr>\n",
              "    <tr>\n",
              "      <th>4</th>\n",
              "      <td>2</td>\n",
              "      <td>0.0</td>\n",
              "      <td>0</td>\n",
              "      <td>0</td>\n",
              "      <td>0</td>\n",
              "      <td>0</td>\n",
              "      <td>0</td>\n",
              "      <td></td>\n",
              "      <td>0</td>\n",
              "      <td>c4fbec0d-8e2e-4db2-9d4f-a6ccb9f51214</td>\n",
              "      <td>...</td>\n",
              "      <td>0</td>\n",
              "      <td>0</td>\n",
              "      <td>0</td>\n",
              "      <td>0</td>\n",
              "      <td>0</td>\n",
              "      <td>0</td>\n",
              "      <td>0</td>\n",
              "      <td>0</td>\n",
              "      <td>0</td>\n",
              "      <td>0</td>\n",
              "    </tr>\n",
              "  </tbody>\n",
              "</table>\n",
              "<p>5 rows × 173 columns</p>\n",
              "</div>\n",
              "    <div class=\"colab-df-buttons\">\n",
              "\n",
              "  <div class=\"colab-df-container\">\n",
              "    <button class=\"colab-df-convert\" onclick=\"convertToInteractive('df-12947f20-4852-4187-9680-56b073a7759d')\"\n",
              "            title=\"Convert this dataframe to an interactive table.\"\n",
              "            style=\"display:none;\">\n",
              "\n",
              "  <svg xmlns=\"http://www.w3.org/2000/svg\" height=\"24px\" viewBox=\"0 -960 960 960\">\n",
              "    <path d=\"M120-120v-720h720v720H120Zm60-500h600v-160H180v160Zm220 220h160v-160H400v160Zm0 220h160v-160H400v160ZM180-400h160v-160H180v160Zm440 0h160v-160H620v160ZM180-180h160v-160H180v160Zm440 0h160v-160H620v160Z\"/>\n",
              "  </svg>\n",
              "    </button>\n",
              "\n",
              "  <style>\n",
              "    .colab-df-container {\n",
              "      display:flex;\n",
              "      gap: 12px;\n",
              "    }\n",
              "\n",
              "    .colab-df-convert {\n",
              "      background-color: #E8F0FE;\n",
              "      border: none;\n",
              "      border-radius: 50%;\n",
              "      cursor: pointer;\n",
              "      display: none;\n",
              "      fill: #1967D2;\n",
              "      height: 32px;\n",
              "      padding: 0 0 0 0;\n",
              "      width: 32px;\n",
              "    }\n",
              "\n",
              "    .colab-df-convert:hover {\n",
              "      background-color: #E2EBFA;\n",
              "      box-shadow: 0px 1px 2px rgba(60, 64, 67, 0.3), 0px 1px 3px 1px rgba(60, 64, 67, 0.15);\n",
              "      fill: #174EA6;\n",
              "    }\n",
              "\n",
              "    .colab-df-buttons div {\n",
              "      margin-bottom: 4px;\n",
              "    }\n",
              "\n",
              "    [theme=dark] .colab-df-convert {\n",
              "      background-color: #3B4455;\n",
              "      fill: #D2E3FC;\n",
              "    }\n",
              "\n",
              "    [theme=dark] .colab-df-convert:hover {\n",
              "      background-color: #434B5C;\n",
              "      box-shadow: 0px 1px 3px 1px rgba(0, 0, 0, 0.15);\n",
              "      filter: drop-shadow(0px 1px 2px rgba(0, 0, 0, 0.3));\n",
              "      fill: #FFFFFF;\n",
              "    }\n",
              "  </style>\n",
              "\n",
              "    <script>\n",
              "      const buttonEl =\n",
              "        document.querySelector('#df-12947f20-4852-4187-9680-56b073a7759d button.colab-df-convert');\n",
              "      buttonEl.style.display =\n",
              "        google.colab.kernel.accessAllowed ? 'block' : 'none';\n",
              "\n",
              "      async function convertToInteractive(key) {\n",
              "        const element = document.querySelector('#df-12947f20-4852-4187-9680-56b073a7759d');\n",
              "        const dataTable =\n",
              "          await google.colab.kernel.invokeFunction('convertToInteractive',\n",
              "                                                    [key], {});\n",
              "        if (!dataTable) return;\n",
              "\n",
              "        const docLinkHtml = 'Like what you see? Visit the ' +\n",
              "          '<a target=\"_blank\" href=https://colab.research.google.com/notebooks/data_table.ipynb>data table notebook</a>'\n",
              "          + ' to learn more about interactive tables.';\n",
              "        element.innerHTML = '';\n",
              "        dataTable['output_type'] = 'display_data';\n",
              "        await google.colab.output.renderOutput(dataTable, element);\n",
              "        const docLink = document.createElement('div');\n",
              "        docLink.innerHTML = docLinkHtml;\n",
              "        element.appendChild(docLink);\n",
              "      }\n",
              "    </script>\n",
              "  </div>\n",
              "\n",
              "\n",
              "<div id=\"df-abae7018-8087-412d-8630-8b178732a7aa\">\n",
              "  <button class=\"colab-df-quickchart\" onclick=\"quickchart('df-abae7018-8087-412d-8630-8b178732a7aa')\"\n",
              "            title=\"Suggest charts.\"\n",
              "            style=\"display:none;\">\n",
              "\n",
              "<svg xmlns=\"http://www.w3.org/2000/svg\" height=\"24px\"viewBox=\"0 0 24 24\"\n",
              "     width=\"24px\">\n",
              "    <g>\n",
              "        <path d=\"M19 3H5c-1.1 0-2 .9-2 2v14c0 1.1.9 2 2 2h14c1.1 0 2-.9 2-2V5c0-1.1-.9-2-2-2zM9 17H7v-7h2v7zm4 0h-2V7h2v10zm4 0h-2v-4h2v4z\"/>\n",
              "    </g>\n",
              "</svg>\n",
              "  </button>\n",
              "\n",
              "<style>\n",
              "  .colab-df-quickchart {\n",
              "      --bg-color: #E8F0FE;\n",
              "      --fill-color: #1967D2;\n",
              "      --hover-bg-color: #E2EBFA;\n",
              "      --hover-fill-color: #174EA6;\n",
              "      --disabled-fill-color: #AAA;\n",
              "      --disabled-bg-color: #DDD;\n",
              "  }\n",
              "\n",
              "  [theme=dark] .colab-df-quickchart {\n",
              "      --bg-color: #3B4455;\n",
              "      --fill-color: #D2E3FC;\n",
              "      --hover-bg-color: #434B5C;\n",
              "      --hover-fill-color: #FFFFFF;\n",
              "      --disabled-bg-color: #3B4455;\n",
              "      --disabled-fill-color: #666;\n",
              "  }\n",
              "\n",
              "  .colab-df-quickchart {\n",
              "    background-color: var(--bg-color);\n",
              "    border: none;\n",
              "    border-radius: 50%;\n",
              "    cursor: pointer;\n",
              "    display: none;\n",
              "    fill: var(--fill-color);\n",
              "    height: 32px;\n",
              "    padding: 0;\n",
              "    width: 32px;\n",
              "  }\n",
              "\n",
              "  .colab-df-quickchart:hover {\n",
              "    background-color: var(--hover-bg-color);\n",
              "    box-shadow: 0 1px 2px rgba(60, 64, 67, 0.3), 0 1px 3px 1px rgba(60, 64, 67, 0.15);\n",
              "    fill: var(--button-hover-fill-color);\n",
              "  }\n",
              "\n",
              "  .colab-df-quickchart-complete:disabled,\n",
              "  .colab-df-quickchart-complete:disabled:hover {\n",
              "    background-color: var(--disabled-bg-color);\n",
              "    fill: var(--disabled-fill-color);\n",
              "    box-shadow: none;\n",
              "  }\n",
              "\n",
              "  .colab-df-spinner {\n",
              "    border: 2px solid var(--fill-color);\n",
              "    border-color: transparent;\n",
              "    border-bottom-color: var(--fill-color);\n",
              "    animation:\n",
              "      spin 1s steps(1) infinite;\n",
              "  }\n",
              "\n",
              "  @keyframes spin {\n",
              "    0% {\n",
              "      border-color: transparent;\n",
              "      border-bottom-color: var(--fill-color);\n",
              "      border-left-color: var(--fill-color);\n",
              "    }\n",
              "    20% {\n",
              "      border-color: transparent;\n",
              "      border-left-color: var(--fill-color);\n",
              "      border-top-color: var(--fill-color);\n",
              "    }\n",
              "    30% {\n",
              "      border-color: transparent;\n",
              "      border-left-color: var(--fill-color);\n",
              "      border-top-color: var(--fill-color);\n",
              "      border-right-color: var(--fill-color);\n",
              "    }\n",
              "    40% {\n",
              "      border-color: transparent;\n",
              "      border-right-color: var(--fill-color);\n",
              "      border-top-color: var(--fill-color);\n",
              "    }\n",
              "    60% {\n",
              "      border-color: transparent;\n",
              "      border-right-color: var(--fill-color);\n",
              "    }\n",
              "    80% {\n",
              "      border-color: transparent;\n",
              "      border-right-color: var(--fill-color);\n",
              "      border-bottom-color: var(--fill-color);\n",
              "    }\n",
              "    90% {\n",
              "      border-color: transparent;\n",
              "      border-bottom-color: var(--fill-color);\n",
              "    }\n",
              "  }\n",
              "</style>\n",
              "\n",
              "  <script>\n",
              "    async function quickchart(key) {\n",
              "      const quickchartButtonEl =\n",
              "        document.querySelector('#' + key + ' button');\n",
              "      quickchartButtonEl.disabled = true;  // To prevent multiple clicks.\n",
              "      quickchartButtonEl.classList.add('colab-df-spinner');\n",
              "      try {\n",
              "        const charts = await google.colab.kernel.invokeFunction(\n",
              "            'suggestCharts', [key], {});\n",
              "      } catch (error) {\n",
              "        console.error('Error during call to suggestCharts:', error);\n",
              "      }\n",
              "      quickchartButtonEl.classList.remove('colab-df-spinner');\n",
              "      quickchartButtonEl.classList.add('colab-df-quickchart-complete');\n",
              "    }\n",
              "    (() => {\n",
              "      let quickchartButtonEl =\n",
              "        document.querySelector('#df-abae7018-8087-412d-8630-8b178732a7aa button');\n",
              "      quickchartButtonEl.style.display =\n",
              "        google.colab.kernel.accessAllowed ? 'block' : 'none';\n",
              "    })();\n",
              "  </script>\n",
              "</div>\n",
              "    </div>\n",
              "  </div>\n"
            ]
          },
          "metadata": {},
          "execution_count": 2959
        }
      ]
    },
    {
      "cell_type": "markdown",
      "source": [
        "- **Entrenamiento del arbol**"
      ],
      "metadata": {
        "id": "jSVlSVRX9uGZ"
      }
    },
    {
      "cell_type": "code",
      "source": [
        "def entrenar(datafram):\n",
        "    df_trabajo_x= datafram.drop(['is_canceled', 'id'], axis='columns', inplace=False)\n",
        "\n",
        "    df_trabajo_y = datafram['is_canceled'].copy()\n",
        "\n",
        "    x_train, x_test, y_train, y_test= train_test_split(df_trabajo_x,\n",
        "                                                        df_trabajo_y,\n",
        "                                                        test_size=0.30,\n",
        "                                                        random_state=2)\n",
        "\n",
        "    resultados = [x_train, x_test, y_train, y_test, df_trabajo_x, df_trabajo_y]\n",
        "    return resultados\n",
        "\n"
      ],
      "metadata": {
        "id": "1_gnGisSGviS"
      },
      "execution_count": 2960,
      "outputs": []
    },
    {
      "cell_type": "code",
      "source": [
        "resultados = entrenar(df_trabajo_train_dum)\n",
        "\n",
        "x_train = resultados[0]\n",
        "y_train = resultados[2]\n",
        "x_test = resultados[1]\n",
        "y_test = resultados[3]\n",
        "\n",
        "def crear_arbol(criterionp, max_depthp, min_samples_leafp, ccp_alphap):\n",
        "      tree_model = tree.DecisionTreeClassifier(criterion = criterionp,\n",
        "                                              max_depth = max_depthp,\n",
        "                                              min_samples_leaf = min_samples_leafp,\n",
        "                                              ccp_alpha = ccp_alphap)\n",
        "      return tree_model\n",
        "\n"
      ],
      "metadata": {
        "id": "kp7iI2s6mFZT"
      },
      "execution_count": 2961,
      "outputs": []
    },
    {
      "cell_type": "code",
      "source": [
        "tree_model = crear_arbol('log_loss', 25, 10, 0)\n",
        "\n",
        "model = tree_model.fit(X = x_train, y = y_train)\n",
        "y_pred = model.predict(x_test)"
      ],
      "metadata": {
        "id": "5alVBSAbdoBU"
      },
      "execution_count": 2962,
      "outputs": []
    },
    {
      "cell_type": "markdown",
      "source": [
        "- **Muestra de la matris de confusion**"
      ],
      "metadata": {
        "id": "3nvVPe_UA29j"
      }
    },
    {
      "cell_type": "code",
      "source": [
        "def crearMatriz(pr1, prt2):\n",
        "    tabla=confusion_matrix(pr1, prt2)\n",
        "\n",
        "    sns.heatmap(tabla,cmap='GnBu',annot=True,fmt='g')\n",
        "    plt.xlabel('Predicted')\n",
        "    plt.ylabel('True')\n",
        "\n"
      ],
      "metadata": {
        "id": "_CMOMrkRxvGV"
      },
      "execution_count": 2963,
      "outputs": []
    },
    {
      "cell_type": "code",
      "source": [
        "crearMatriz(y_test, y_pred)"
      ],
      "metadata": {
        "colab": {
          "base_uri": "https://localhost:8080/",
          "height": 449
        },
        "id": "lUTX_ob9cInN",
        "outputId": "bd09a2f2-8a3f-4b0d-f909-522582c0984e"
      },
      "execution_count": 2964,
      "outputs": [
        {
          "output_type": "display_data",
          "data": {
            "text/plain": [
              "<Figure size 640x480 with 2 Axes>"
            ],
            "image/png": "[encoded data removed]"
          },
          "metadata": {}
        }
      ]
    },
    {
      "cell_type": "markdown",
      "source": [
        "- **Calculo de las metricas**"
      ],
      "metadata": {
        "id": "O6s6jzQ9A7jp"
      }
    },
    {
      "cell_type": "code",
      "source": [
        "def mostrar_metricas(y_test, y_pred):\n",
        "    accuracy=accuracy_score(y_test,y_pred)\n",
        "    recall=recall_score(y_test,y_pred)\n",
        "    f1=f1_score(y_test,y_pred,)\n",
        "    precision=precision_score(y_test,y_pred)\n",
        "\n",
        "    print(\"Accuracy: \"+str(accuracy))\n",
        "    print(\"Recall: \"+str(recall))\n",
        "    print(\"Precision: \"+str(precision))\n",
        "    print(\"f1 score: \"+str(f1))"
      ],
      "metadata": {
        "id": "kd9OQKjSxwaC"
      },
      "execution_count": 2965,
      "outputs": []
    },
    {
      "cell_type": "code",
      "source": [
        "mostrar_metricas(y_test, y_pred)"
      ],
      "metadata": {
        "colab": {
          "base_uri": "https://localhost:8080/"
        },
        "id": "Ve110XSMe45Z",
        "outputId": "acad7fc7-4350-4643-f3e3-c16995b9b61f"
      },
      "execution_count": 2966,
      "outputs": [
        {
          "output_type": "stream",
          "name": "stdout",
          "text": [
            "Accuracy: 0.7968969618337117\n",
            "Recall: 0.7771005659555943\n",
            "Precision: 0.8068708328624703\n",
            "f1 score: 0.7917059377945335\n"
          ]
        }
      ]
    },
    {
      "cell_type": "markdown",
      "source": [
        "### » Creacion y download del df para entregar"
      ],
      "metadata": {
        "id": "E2MJ6dqbBKYm"
      }
    },
    {
      "cell_type": "code",
      "source": [
        "df_resultado = \"\"\n",
        "\n",
        "\n",
        "def descargar_df(ids, prediccion):\n",
        "    df_resultado = pd.DataFrame(zip(ids, prediccion),columns=['id','is_canceled'])\n",
        "    cantidad_columnas = len(df_resultado)\n",
        "\n",
        "    df_resultado.to_csv('df_prediccion')\n",
        "    files.download('df_prediccion')"
      ],
      "metadata": {
        "id": "9L3YvEanBRLk"
      },
      "execution_count": 2967,
      "outputs": []
    },
    {
      "cell_type": "markdown",
      "source": [
        "### » Prediccion\n"
      ],
      "metadata": {
        "id": "BjjOmhkMCQ9u"
      }
    },
    {
      "cell_type": "code",
      "source": [
        "df_trabajo_x = resultados[4]\n",
        "df_trabajo_x = resultados[5]"
      ],
      "metadata": {
        "id": "a211X9OKctsO"
      },
      "execution_count": 2968,
      "outputs": []
    },
    {
      "cell_type": "code",
      "source": [
        "def predecir(DataFrame):\n",
        "      df_trabajo_test_x = DataFrame.drop(['is_canceled', 'id'], axis='columns', inplace=False)\n",
        "      ids = DataFrame['id'].copy()\n",
        "\n",
        "      prediccion = tree_model.predict(X = df_trabajo_test_x)\n",
        "\n",
        "      return (ids, prediccion)"
      ],
      "metadata": {
        "id": "NaM2puD_CS1M"
      },
      "execution_count": 2969,
      "outputs": []
    },
    {
      "cell_type": "code",
      "source": [
        "resultados = predecir(df_trabajo_test_dum)\n",
        "\n",
        "ids = resultados[0]\n",
        "prediccion = resultados[1]\n",
        "\n",
        "descargar_df(ids, prediccion)\n"
      ],
      "metadata": {
        "id": "S7nvSc74CshV",
        "colab": {
          "base_uri": "https://localhost:8080/",
          "height": 17
        },
        "outputId": "ed5e4f50-dae5-4654-cb37-c5a84f0b3597"
      },
      "execution_count": 2970,
      "outputs": [
        {
          "output_type": "display_data",
          "data": {
            "text/plain": [
              "<IPython.core.display.Javascript object>"
            ],
            "application/javascript": [
              "\n",
              "    async function download(id, filename, size) {\n",
              "      if (!google.colab.kernel.accessAllowed) {\n",
              "        return;\n",
              "      }\n",
              "      const div = document.createElement('div');\n",
              "      const label = document.createElement('label');\n",
              "      label.textContent = `Downloading \"${filename}\": `;\n",
              "      div.appendChild(label);\n",
              "      const progress = document.createElement('progress');\n",
              "      progress.max = size;\n",
              "      div.appendChild(progress);\n",
              "      document.body.appendChild(div);\n",
              "\n",
              "      const buffers = [];\n",
              "      let downloaded = 0;\n",
              "\n",
              "      const channel = await google.colab.kernel.comms.open(id);\n",
              "      // Send a message to notify the kernel that we're ready.\n",
              "      channel.send({})\n",
              "\n",
              "      for await (const message of channel.messages) {\n",
              "        // Send a message to notify the kernel that we're ready.\n",
              "        channel.send({})\n",
              "        if (message.buffers) {\n",
              "          for (const buffer of message.buffers) {\n",
              "            buffers.push(buffer);\n",
              "            downloaded += buffer.byteLength;\n",
              "            progress.value = downloaded;\n",
              "          }\n",
              "        }\n",
              "      }\n",
              "      const blob = new Blob(buffers, {type: 'application/binary'});\n",
              "      const a = document.createElement('a');\n",
              "      a.href = window.URL.createObjectURL(blob);\n",
              "      a.download = filename;\n",
              "      div.appendChild(a);\n",
              "      a.click();\n",
              "      div.remove();\n",
              "    }\n",
              "  "
            ]
          },
          "metadata": {}
        },
        {
          "output_type": "display_data",
          "data": {
            "text/plain": [
              "<IPython.core.display.Javascript object>"
            ],
            "application/javascript": [
              "download(\"download_16ea2518-606c-4e5a-b179-b187d625a133\", \"df_prediccion\", 1182981)"
            ]
          },
          "metadata": {}
        }
      ]
    },
    {
      "cell_type": "code",
      "source": [
        "\"\"\"plt.figure(figsize=(50,50))\n",
        "\n",
        "tree_plot_completo = tree.plot_tree(model,\n",
        "                                    max_depth=4,\n",
        "                                    feature_names=df_trabajo_x.columns.to_list(),\n",
        "                                    filled=True,\n",
        "                                    rounded=True,\n",
        "                                    class_names=['Canceled','Not canceled'])\n",
        "plt.show(tree_plot_completo)\"\"\""
      ],
      "metadata": {
        "id": "H93zj0fRLQn-",
        "colab": {
          "base_uri": "https://localhost:8080/",
          "height": 53
        },
        "outputId": "e3c04e38-0f2f-49da-ebac-8300e9d90a42"
      },
      "execution_count": 2971,
      "outputs": [
        {
          "output_type": "execute_result",
          "data": {
            "text/plain": [
              "\"plt.figure(figsize=(50,50))\\n\\ntree_plot_completo = tree.plot_tree(model,\\n                                    max_depth=4,\\n                                    feature_names=df_trabajo_x.columns.to_list(),\\n                                    filled=True,\\n                                    rounded=True,\\n                                    class_names=['Canceled','Not canceled'])\\nplt.show(tree_plot_completo)\""
            ],
            "application/vnd.google.colaboratory.intrinsic+json": {
              "type": "string"
            }
          },
          "metadata": {},
          "execution_count": 2971
        }
      ]
    },
    {
      "cell_type": "code",
      "source": [
        "sorted(list(zip(df_trabajo_test_dum.columns.to_list(), model.feature_importances_)), key=lambda x: -x[1])"
      ],
      "metadata": {
        "colab": {
          "base_uri": "https://localhost:8080/"
        },
        "id": "DU_jYpeqT4nJ",
        "outputId": "2ff243e1-16b7-4e94-bd4d-be1c3b7d0c36"
      },
      "execution_count": 2972,
      "outputs": [
        {
          "output_type": "execute_result",
          "data": {
            "text/plain": [
              "[('hotel_Resort Hotel', 0.32933678301735675),\n",
              " ('total_of_special_requests', 0.1965819963940359),\n",
              " ('customer_type_Contract', 0.09615106106222858),\n",
              " ('id', 0.07066718390205672),\n",
              " ('country_POL', 0.059165755167982635),\n",
              " ('is_canceled', 0.03749358224646702),\n",
              " ('previous_cancellations', 0.03276510109897442),\n",
              " ('booking_changes', 0.020275147155767514),\n",
              " ('previous_bookings_not_canceled', 0.012269960811253653),\n",
              " ('customer_type_Transient', 0.012261886929255384),\n",
              " ('customer_type_Group', 0.010733801898901623),\n",
              " ('adults', 0.01072091644790134),\n",
              " ('children', 0.00984653779636889),\n",
              " ('assigned_room_type_B', 0.007749530900294018),\n",
              " ('meal_Undefined', 0.007634501766033947),\n",
              " ('country_CYP', 0.007596805610206314),\n",
              " ('meal_FB', 0.007548949576065505),\n",
              " ('meal_SC', 0.006919286968782689),\n",
              " ('country_ECU', 0.005520609845054839),\n",
              " ('country_ISL', 0.0052482281790282815),\n",
              " ('country_EST', 0.004806060225090089),\n",
              " ('country_FRA', 0.0044211133356846),\n",
              " ('meal_HB', 0.003947994101245021),\n",
              " ('meal_BB', 0.003932198170113577),\n",
              " ('assigned_room_type_C', 0.0033480229163034853),\n",
              " ('lead_time', 0.0031250852824716616),\n",
              " ('days_in_waiting_list', 0.003013614749819809),\n",
              " ('country_CHE', 0.002802540445955469),\n",
              " ('customer_type_Transient-Party', 0.0024027130048312906),\n",
              " ('deposit_type_Non Refund', 0.0023543026251865193),\n",
              " ('country_BLR', 0.0023277087053999736),\n",
              " ('is_repeated_guest', 0.0019089102538211095),\n",
              " ('assigned_room_type_D', 0.0017571274492283481),\n",
              " ('country_IMN', 0.0017317241909130443),\n",
              " ('assigned_room_type_E', 0.0012980268759718032),\n",
              " ('country_AUS', 0.0012241594610751375),\n",
              " ('country_IRQ', 0.0011887163764614504),\n",
              " ('assigned_room_type_G', 0.0010722480721589644),\n",
              " ('country_SVK', 0.0010461223851049239),\n",
              " ('country_NGA', 0.0009590120192338323),\n",
              " ('country_ZAF', 0.0008995642192186114),\n",
              " ('assigned_room_type_A', 0.0006756336662355002),\n",
              " ('country_BRB', 0.0005800488924528354),\n",
              " ('country_LVA', 0.0005515045544386632),\n",
              " ('country_UKR', 0.00047902978030706783),\n",
              " ('country_QAT', 0.00042992653946918386),\n",
              " ('country_ATA', 0.00035925926852808227),\n",
              " ('country_NIC', 0.000219600857814376),\n",
              " ('country_ATF', 0.00019085786131982577),\n",
              " ('country_ESP', 0.0001896219063933944),\n",
              " ('country_CHN', 0.00014869506802754162),\n",
              " ('required_car_parking_spaces', 0.00012122996570891377),\n",
              " ('hotel_City Hotel', 0.0),\n",
              " ('deposit_type_No Deposit', 0.0),\n",
              " ('deposit_type_Refundable', 0.0),\n",
              " ('country_AGO', 0.0),\n",
              " ('country_ALB', 0.0),\n",
              " ('country_AND', 0.0),\n",
              " ('country_ARE', 0.0),\n",
              " ('country_ARG', 0.0),\n",
              " ('country_ASM', 0.0),\n",
              " ('country_AUT', 0.0),\n",
              " ('country_BEL', 0.0),\n",
              " ('country_BFA', 0.0),\n",
              " ('country_BGD', 0.0),\n",
              " ('country_BGR', 0.0),\n",
              " ('country_BHR', 0.0),\n",
              " ('country_BIH', 0.0),\n",
              " ('country_BOL', 0.0),\n",
              " ('country_BRA', 0.0),\n",
              " ('country_CAF', 0.0),\n",
              " ('country_CHL', 0.0),\n",
              " ('country_CMR', 0.0),\n",
              " ('country_CN', 0.0),\n",
              " ('country_COL', 0.0),\n",
              " ('country_CPV', 0.0),\n",
              " ('country_CRI', 0.0),\n",
              " ('country_CUB', 0.0),\n",
              " ('country_CZE', 0.0),\n",
              " ('country_DEU', 0.0),\n",
              " ('country_DJI', 0.0),\n",
              " ('country_DMA', 0.0),\n",
              " ('country_DNK', 0.0),\n",
              " ('country_DOM', 0.0),\n",
              " ('country_DZA', 0.0),\n",
              " ('country_EGY', 0.0),\n",
              " ('country_FIN', 0.0),\n",
              " ('country_GAB', 0.0),\n",
              " ('country_GBR', 0.0),\n",
              " ('country_GEO', 0.0),\n",
              " ('country_GGY', 0.0),\n",
              " ('country_GHA', 0.0),\n",
              " ('country_GIB', 0.0),\n",
              " ('country_GLP', 0.0),\n",
              " ('country_GNB', 0.0),\n",
              " ('country_GRC', 0.0),\n",
              " ('country_HKG', 0.0),\n",
              " ('country_HRV', 0.0),\n",
              " ('country_HUN', 0.0),\n",
              " ('country_IDN', 0.0),\n",
              " ('country_IND', 0.0),\n",
              " ('country_IRL', 0.0),\n",
              " ('country_IRN', 0.0),\n",
              " ('country_ISR', 0.0),\n",
              " ('country_ITA', 0.0),\n",
              " ('country_JAM', 0.0),\n",
              " ('country_JEY', 0.0),\n",
              " ('country_JOR', 0.0),\n",
              " ('country_JPN', 0.0),\n",
              " ('country_KAZ', 0.0),\n",
              " ('country_KHM', 0.0),\n",
              " ('country_KOR', 0.0),\n",
              " ('country_KWT', 0.0),\n",
              " ('country_LBN', 0.0),\n",
              " ('country_LBY', 0.0),\n",
              " ('country_LIE', 0.0),\n",
              " ('country_LKA', 0.0),\n",
              " ('country_LTU', 0.0),\n",
              " ('country_LUX', 0.0),\n",
              " ('country_MAC', 0.0),\n",
              " ('country_MAR', 0.0),\n",
              " ('country_MCO', 0.0),\n",
              " ('country_MDV', 0.0),\n",
              " ('country_MEX', 0.0),\n",
              " ('country_MKD', 0.0),\n",
              " ('country_MLI', 0.0),\n",
              " ('country_MLT', 0.0),\n",
              " ('country_MOZ', 0.0),\n",
              " ('country_MWI', 0.0),\n",
              " ('country_MYS', 0.0),\n",
              " ('country_NLD', 0.0),\n",
              " ('country_NOR', 0.0),\n",
              " ('country_NZL', 0.0),\n",
              " ('country_OMN', 0.0),\n",
              " ('country_PAK', 0.0),\n",
              " ('country_PER', 0.0),\n",
              " ('country_PHL', 0.0),\n",
              " ('country_PRI', 0.0),\n",
              " ('country_PRT', 0.0),\n",
              " ('country_PRY', 0.0),\n",
              " ('country_ROU', 0.0),\n",
              " ('country_RUS', 0.0),\n",
              " ('country_RWA', 0.0),\n",
              " ('country_SAU', 0.0),\n",
              " ('country_SEN', 0.0),\n",
              " ('country_SGP', 0.0),\n",
              " ('country_SLV', 0.0),\n",
              " ('country_SMR', 0.0),\n",
              " ('country_SRB', 0.0),\n",
              " ('country_STP', 0.0),\n",
              " ('country_SUR', 0.0),\n",
              " ('country_SVN', 0.0),\n",
              " ('country_SWE', 0.0),\n",
              " ('country_THA', 0.0),\n",
              " ('country_TJK', 0.0),\n",
              " ('country_TMP', 0.0),\n",
              " ('country_TUN', 0.0),\n",
              " ('country_TUR', 0.0),\n",
              " ('country_TWN', 0.0),\n",
              " ('country_TZA', 0.0),\n",
              " ('country_UGA', 0.0),\n",
              " ('country_URY', 0.0),\n",
              " ('country_USA', 0.0),\n",
              " ('country_UZB', 0.0),\n",
              " ('country_Undefined', 0.0),\n",
              " ('country_VEN', 0.0),\n",
              " ('country_VNM', 0.0),\n",
              " ('country_ZWE', 0.0),\n",
              " ('assigned_room_type_F', 0.0),\n",
              " ('assigned_room_type_H', 0.0),\n",
              " ('assigned_room_type_I', 0.0)]"
            ]
          },
          "metadata": {},
          "execution_count": 2972
        }
      ]
    },
    {
      "cell_type": "markdown",
      "source": [
        "Poda\n"
      ],
      "metadata": {
        "id": "PLJeaJkW_NuB"
      }
    },
    {
      "cell_type": "code",
      "source": [
        "model_tree2 = crear_arbol('log_loss', 25, 10, 0.2)\n",
        "\n",
        "model2 = tree_model.fit(X = x_train, y = y_train)\n",
        "y_pred2 = model.predict(x_test)\n",
        "\n",
        "crearMatriz(y_test, y_pred2)"
      ],
      "metadata": {
        "colab": {
          "base_uri": "https://localhost:8080/",
          "height": 449
        },
        "id": "rpwUlHzDdJ_l",
        "outputId": "cc1e80ed-f6d4-4d52-b2e0-f352488f5d4c"
      },
      "execution_count": 2973,
      "outputs": [
        {
          "output_type": "display_data",
          "data": {
            "text/plain": [
              "<Figure size 640x480 with 2 Axes>"
            ],
            "image/png": "[encoded data removed]"
          },
          "metadata": {}
        }
      ]
    },
    {
      "cell_type": "code",
      "source": [
        "mostrar_metricas(y_test, y_pred2)"
      ],
      "metadata": {
        "colab": {
          "base_uri": "https://localhost:8080/"
        },
        "id": "xgsqX3KmejCN",
        "outputId": "ab7595ad-1ec7-4041-8ed3-fe77700332d8"
      },
      "execution_count": 2974,
      "outputs": [
        {
          "output_type": "stream",
          "name": "stdout",
          "text": [
            "Accuracy: 0.7971132014271813\n",
            "Recall: 0.7775359164127122\n",
            "Precision: 0.8069580933017056\n",
            "f1 score: 0.791973837370434\n"
          ]
        }
      ]
    },
    {
      "cell_type": "markdown",
      "source": [
        "matriz_correlacion"
      ],
      "metadata": {
        "id": "C_bG0hEo_xkJ"
      }
    },
    {
      "cell_type": "code",
      "source": [
        "ds_train.corr(numeric_only = True)\n",
        "plt.figure(figsize = (20,10))\n",
        "sns.heatmap(ds_train.corr(numeric_only = True),annot = True, cmap= \"Pastel1\")"
      ],
      "metadata": {
        "colab": {
          "base_uri": "https://localhost:8080/",
          "height": 1000
        },
        "id": "17nsMsZU_zXr",
        "outputId": "a918045d-f24c-4390-8883-910fffca0cc2"
      },
      "execution_count": 2975,
      "outputs": [
        {
          "output_type": "execute_result",
          "data": {
            "text/plain": [
              "<Axes: >"
            ]
          },
          "metadata": {},
          "execution_count": 2975
        },
        {
          "output_type": "display_data",
          "data": {
            "text/plain": [
              "<Figure size 2000x1000 with 2 Axes>"
            ],
            "image/png": "[encoded data removed]"
          },
          "metadata": {}
        }
      ]
    },
    {
      "cell_type": "markdown",
      "source": [
        "lead time y required car parking lo pusimos porque lo vimos en la matriz jaja"
      ],
      "metadata": {
        "id": "epKLHYlQBPz9"
      }
    },
    {
      "cell_type": "markdown",
      "source": [
        "K-FOLD"
      ],
      "metadata": {
        "id": "EttnI_AsC7kK"
      }
    },
    {
      "cell_type": "code",
      "source": [
        "columnas = ['adults', 'children','babies','is_repeated_guest', 'previous_cancellations', 'previous_bookings_not_canceled','booking_changes', 'country',\n",
        "                  'days_in_waiting_list', 'total_of_special_requests', 'hotel','id', 'meal', 'deposit_type', 'customer_type', 'assigned_room_type', 'lead_time', 'required_car_parking_spaces']\n",
        "\n",
        "target = ['is_canceled']"
      ],
      "metadata": {
        "id": "Nr_lXbXYDlJO"
      },
      "execution_count": 2976,
      "outputs": []
    },
    {
      "cell_type": "code",
      "source": [
        "#Verifico balanceo de clases\n",
        "ds_trabajo_train[target].value_counts(normalize=True)*100"
      ],
      "metadata": {
        "colab": {
          "base_uri": "https://localhost:8080/"
        },
        "id": "O-eJtnyEC7Ab",
        "outputId": "200cf036-e644-41b7-ea80-dd2f9de62d6d"
      },
      "execution_count": 2977,
      "outputs": [
        {
          "output_type": "execute_result",
          "data": {
            "text/plain": [
              "is_canceled\n",
              "0              50.025035\n",
              "1              49.974965\n",
              "dtype: float64"
            ]
          },
          "metadata": {},
          "execution_count": 2977
        }
      ]
    },
    {
      "cell_type": "markdown",
      "source": [],
      "metadata": {
        "id": "rE_eTLH7Mjgc"
      }
    },
    {
      "cell_type": "code",
      "source": [
        "#Separo un set de Evaluacion\n",
        "\n",
        "x_train, x_test, y_train, y_test = train_test_split(ds_trabajo_train[columnas].values,\n",
        "                                                    ds_trabajo_train[target].values,\n",
        "                                                    test_size=0.2,    #20% al conjunto de test\n",
        "                                                    random_state=13,  #para poder reproducir el experimento\n",
        "                                                    stratify=ds_trabajo_train[target].values) #estratificado para mantener proporcion\n",
        "\n",
        "#Verifico Cantidad de Datos en cada set\n",
        "print('# Datos Entrenamiento: {}'.format(len(x_train)))\n",
        "print('# Datos Prueba: {}'.format(len(x_test)))\n",
        "\n",
        "#Verifico como quedaron balanceados\n",
        "for split_name, split in zip(['% Positivos Entrenamiento','% Positivos Prueba'],[y_train,y_test]):\n",
        "  print('{}: {:.3f}'.format(split_name,pd.Series(split).value_counts(normalize=True)[1]*100))"
      ],
      "metadata": {
        "colab": {
          "base_uri": "https://localhost:8080/",
          "height": 391
        },
        "id": "KeHVkDnmDYPg",
        "outputId": "d0c25f7b-aab8-459f-8272-703acb947e15"
      },
      "execution_count": 2978,
      "outputs": [
        {
          "output_type": "error",
          "ename": "KeyError",
          "evalue": "ignored",
          "traceback": [
            "\u001b[0;31m---------------------------------------------------------------------------\u001b[0m",
            "\u001b[0;31mKeyError\u001b[0m                                  Traceback (most recent call last)",
            "\u001b[0;32m<ipython-input-2978-90f1eee0e857>\u001b[0m in \u001b[0;36m<cell line: 3>\u001b[0;34m()\u001b[0m\n\u001b[1;32m      1\u001b[0m \u001b[0;31m#Separo un set de Evaluacion\u001b[0m\u001b[0;34m\u001b[0m\u001b[0;34m\u001b[0m\u001b[0m\n\u001b[1;32m      2\u001b[0m \u001b[0;34m\u001b[0m\u001b[0m\n\u001b[0;32m----> 3\u001b[0;31m x_train, x_test, y_train, y_test = train_test_split(ds_trabajo_train[columnas].values,\n\u001b[0m\u001b[1;32m      4\u001b[0m                                                     \u001b[0mds_trabajo_train\u001b[0m\u001b[0;34m[\u001b[0m\u001b[0mtarget\u001b[0m\u001b[0;34m]\u001b[0m\u001b[0;34m.\u001b[0m\u001b[0mvalues\u001b[0m\u001b[0;34m,\u001b[0m\u001b[0;34m\u001b[0m\u001b[0;34m\u001b[0m\u001b[0m\n\u001b[1;32m      5\u001b[0m                                                     \u001b[0mtest_size\u001b[0m\u001b[0;34m=\u001b[0m\u001b[0;36m0.2\u001b[0m\u001b[0;34m,\u001b[0m    \u001b[0;31m#20% al conjunto de test\u001b[0m\u001b[0;34m\u001b[0m\u001b[0;34m\u001b[0m\u001b[0m\n",
            "\u001b[0;32m/usr/local/lib/python3.10/dist-packages/pandas/core/frame.py\u001b[0m in \u001b[0;36m__getitem__\u001b[0;34m(self, key)\u001b[0m\n\u001b[1;32m   3811\u001b[0m             \u001b[0;32mif\u001b[0m \u001b[0mis_iterator\u001b[0m\u001b[0;34m(\u001b[0m\u001b[0mkey\u001b[0m\u001b[0;34m)\u001b[0m\u001b[0;34m:\u001b[0m\u001b[0;34m\u001b[0m\u001b[0;34m\u001b[0m\u001b[0m\n\u001b[1;32m   3812\u001b[0m                 \u001b[0mkey\u001b[0m \u001b[0;34m=\u001b[0m \u001b[0mlist\u001b[0m\u001b[0;34m(\u001b[0m\u001b[0mkey\u001b[0m\u001b[0;34m)\u001b[0m\u001b[0;34m\u001b[0m\u001b[0;34m\u001b[0m\u001b[0m\n\u001b[0;32m-> 3813\u001b[0;31m             \u001b[0mindexer\u001b[0m \u001b[0;34m=\u001b[0m \u001b[0mself\u001b[0m\u001b[0;34m.\u001b[0m\u001b[0mcolumns\u001b[0m\u001b[0;34m.\u001b[0m\u001b[0m_get_indexer_strict\u001b[0m\u001b[0;34m(\u001b[0m\u001b[0mkey\u001b[0m\u001b[0;34m,\u001b[0m \u001b[0;34m\"columns\"\u001b[0m\u001b[0;34m)\u001b[0m\u001b[0;34m[\u001b[0m\u001b[0;36m1\u001b[0m\u001b[0;34m]\u001b[0m\u001b[0;34m\u001b[0m\u001b[0;34m\u001b[0m\u001b[0m\n\u001b[0m\u001b[1;32m   3814\u001b[0m \u001b[0;34m\u001b[0m\u001b[0m\n\u001b[1;32m   3815\u001b[0m         \u001b[0;31m# take() does not accept boolean indexers\u001b[0m\u001b[0;34m\u001b[0m\u001b[0;34m\u001b[0m\u001b[0m\n",
            "\u001b[0;32m/usr/local/lib/python3.10/dist-packages/pandas/core/indexes/base.py\u001b[0m in \u001b[0;36m_get_indexer_strict\u001b[0;34m(self, key, axis_name)\u001b[0m\n\u001b[1;32m   6068\u001b[0m             \u001b[0mkeyarr\u001b[0m\u001b[0;34m,\u001b[0m \u001b[0mindexer\u001b[0m\u001b[0;34m,\u001b[0m \u001b[0mnew_indexer\u001b[0m \u001b[0;34m=\u001b[0m \u001b[0mself\u001b[0m\u001b[0;34m.\u001b[0m\u001b[0m_reindex_non_unique\u001b[0m\u001b[0;34m(\u001b[0m\u001b[0mkeyarr\u001b[0m\u001b[0;34m)\u001b[0m\u001b[0;34m\u001b[0m\u001b[0;34m\u001b[0m\u001b[0m\n\u001b[1;32m   6069\u001b[0m \u001b[0;34m\u001b[0m\u001b[0m\n\u001b[0;32m-> 6070\u001b[0;31m         \u001b[0mself\u001b[0m\u001b[0;34m.\u001b[0m\u001b[0m_raise_if_missing\u001b[0m\u001b[0;34m(\u001b[0m\u001b[0mkeyarr\u001b[0m\u001b[0;34m,\u001b[0m \u001b[0mindexer\u001b[0m\u001b[0;34m,\u001b[0m \u001b[0maxis_name\u001b[0m\u001b[0;34m)\u001b[0m\u001b[0;34m\u001b[0m\u001b[0;34m\u001b[0m\u001b[0m\n\u001b[0m\u001b[1;32m   6071\u001b[0m \u001b[0;34m\u001b[0m\u001b[0m\n\u001b[1;32m   6072\u001b[0m         \u001b[0mkeyarr\u001b[0m \u001b[0;34m=\u001b[0m \u001b[0mself\u001b[0m\u001b[0;34m.\u001b[0m\u001b[0mtake\u001b[0m\u001b[0;34m(\u001b[0m\u001b[0mindexer\u001b[0m\u001b[0;34m)\u001b[0m\u001b[0;34m\u001b[0m\u001b[0;34m\u001b[0m\u001b[0m\n",
            "\u001b[0;32m/usr/local/lib/python3.10/dist-packages/pandas/core/indexes/base.py\u001b[0m in \u001b[0;36m_raise_if_missing\u001b[0;34m(self, key, indexer, axis_name)\u001b[0m\n\u001b[1;32m   6131\u001b[0m \u001b[0;34m\u001b[0m\u001b[0m\n\u001b[1;32m   6132\u001b[0m             \u001b[0mnot_found\u001b[0m \u001b[0;34m=\u001b[0m \u001b[0mlist\u001b[0m\u001b[0;34m(\u001b[0m\u001b[0mensure_index\u001b[0m\u001b[0;34m(\u001b[0m\u001b[0mkey\u001b[0m\u001b[0;34m)\u001b[0m\u001b[0;34m[\u001b[0m\u001b[0mmissing_mask\u001b[0m\u001b[0;34m.\u001b[0m\u001b[0mnonzero\u001b[0m\u001b[0;34m(\u001b[0m\u001b[0;34m)\u001b[0m\u001b[0;34m[\u001b[0m\u001b[0;36m0\u001b[0m\u001b[0;34m]\u001b[0m\u001b[0;34m]\u001b[0m\u001b[0;34m.\u001b[0m\u001b[0munique\u001b[0m\u001b[0;34m(\u001b[0m\u001b[0;34m)\u001b[0m\u001b[0;34m)\u001b[0m\u001b[0;34m\u001b[0m\u001b[0;34m\u001b[0m\u001b[0m\n\u001b[0;32m-> 6133\u001b[0;31m             \u001b[0;32mraise\u001b[0m \u001b[0mKeyError\u001b[0m\u001b[0;34m(\u001b[0m\u001b[0;34mf\"{not_found} not in index\"\u001b[0m\u001b[0;34m)\u001b[0m\u001b[0;34m\u001b[0m\u001b[0;34m\u001b[0m\u001b[0m\n\u001b[0m\u001b[1;32m   6134\u001b[0m \u001b[0;34m\u001b[0m\u001b[0m\n\u001b[1;32m   6135\u001b[0m     \u001b[0;34m@\u001b[0m\u001b[0moverload\u001b[0m\u001b[0;34m\u001b[0m\u001b[0;34m\u001b[0m\u001b[0m\n",
            "\u001b[0;31mKeyError\u001b[0m: \"['babies'] not in index\""
          ]
        }
      ]
    }
  ]
}