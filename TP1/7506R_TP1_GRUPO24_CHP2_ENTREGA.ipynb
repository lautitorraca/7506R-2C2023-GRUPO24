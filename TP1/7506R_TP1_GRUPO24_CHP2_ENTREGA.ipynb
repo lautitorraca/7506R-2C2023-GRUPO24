{
  "cells": [
    {
      "cell_type": "markdown",
      "metadata": {
        "id": "view-in-github",
        "colab_type": "text"
      },
      "source": [
        "<a href=\"https://colab.research.google.com/github/lautitorraca/7506R-2C2023-GRUPO24/blob/main/TP1/7506R_TP1_GRUPO24_CHP2_ENTREGA.ipynb\" target=\"_parent\"><img src=\"https://colab.research.google.com/assets/colab-badge.svg\" alt=\"Open In Colab\"/></a>"
      ]
    },
    {
      "cell_type": "markdown",
      "metadata": {
        "id": "qeh6KskeUyzU"
      },
      "source": [
        "# Trabajo Practico 1: Reservas de Hotel\n",
        "\n",
        "## 𝔾𝕣𝕦𝕡𝕠 𝟚𝟜 (Merequetengue👍)\n",
        "\n",
        "      ➢ Torraca Lautaro - 108813\n",
        "      ➢ Negrotti Gianluca - 108184\n",
        "      ➢ Marco Tosi - 107237"
      ]
    },
    {
      "cell_type": "markdown",
      "metadata": {
        "id": "eJEpV3GZ4zvJ"
      },
      "source": [
        "### » Imports"
      ]
    },
    {
      "cell_type": "code",
      "execution_count": 1673,
      "metadata": {
        "id": "92asqtvlSlaP"
      },
      "outputs": [],
      "source": [
        "import pandas as pd\n",
        "import numpy as np\n",
        "\n",
        "import matplotlib.pyplot as plt\n",
        "import seaborn as sns\n",
        "\n",
        "from sklearn import tree\n",
        "from sklearn.model_selection import train_test_split\n",
        "from sklearn.metrics import precision_score, recall_score, accuracy_score,f1_score\n",
        "from sklearn.metrics import confusion_matrix, classification_report\n",
        "from sklearn.model_selection import train_test_split\n",
        "\n",
        "from sklearn.preprocessing import MinMaxScaler\n",
        "\n",
        "from google.colab import files\n",
        "\n",
        "\n",
        "from six import StringIO\n",
        "from IPython.display import Image\n",
        "from sklearn.tree import export_graphviz\n",
        "import pydotplus\n",
        "\n",
        "\n",
        "import warnings\n",
        "warnings.simplefilter(action='ignore', category=FutureWarning)\n",
        "warnings.simplefilter(action='ignore', category=UserWarning)"
      ]
    },
    {
      "cell_type": "markdown",
      "metadata": {
        "id": "HGPN2owAU8PS"
      },
      "source": [
        "# » Lectura de los archivos"
      ]
    },
    {
      "cell_type": "code",
      "execution_count": 1674,
      "metadata": {
        "id": "yfzqoZ_PSqe6"
      },
      "outputs": [],
      "source": [
        "url_train = 'https://raw.githubusercontent.com/lautitorraca/7506R-2C2023-GRUPO24/main/TP1/DataSets/hotels_train.csv'\n",
        "url_test = 'https://raw.githubusercontent.com/lautitorraca/7506R-2C2023-GRUPO24/main/TP1/DataSets/test_limpio%20-%20ds_unificado.csv'\n",
        "\n",
        "ds_train_base = pd.read_csv(url_train)\n",
        "ds_test_base = pd.read_csv(url_test)\n",
        "\n",
        "ds_test = ds_test_base.copy()\n",
        "df_test = pd.DataFrame(ds_test_base)\n",
        "\n",
        "ds_train = ds_train_base.copy()\n",
        "df_train = pd.DataFrame(ds_train_base)"
      ]
    },
    {
      "cell_type": "markdown",
      "metadata": {
        "id": "y9DIfF8947xJ"
      },
      "source": [
        "# » Analisis del DataSet de train\n",
        "\n",
        "\n",
        "Realizamos un breve analizis sobre el dataset para ver valores atipicos y/o valores nulos los cuales no queremos tenerlos en cuenta."
      ]
    },
    {
      "cell_type": "markdown",
      "metadata": {
        "id": "46dFZ4P_U_rx"
      },
      "source": [
        "### » Muestra del DataSet de Train\n"
      ]
    },
    {
      "cell_type": "code",
      "execution_count": 1675,
      "metadata": {
        "colab": {
          "base_uri": "https://localhost:8080/",
          "height": 516
        },
        "id": "6qAVzZI3VB-3",
        "outputId": "a016c6c2-8266-4bfb-cce4-f77292975f33"
      },
      "outputs": [
        {
          "output_type": "execute_result",
          "data": {
            "text/plain": [
              "          hotel  lead_time  arrival_date_year arrival_date_month  \\\n",
              "0    City Hotel         49               2016          September   \n",
              "1  Resort Hotel          4               2015            October   \n",
              "2    City Hotel         25               2016            October   \n",
              "3    City Hotel         26               2016           December   \n",
              "4    City Hotel        104               2017              March   \n",
              "\n",
              "   arrival_date_week_number  arrival_date_day_of_month  \\\n",
              "0                        37                          5   \n",
              "1                        44                         31   \n",
              "2                        42                         13   \n",
              "3                        51                         12   \n",
              "4                        12                         19   \n",
              "\n",
              "   stays_in_weekend_nights  stays_in_week_nights  adults  children  ...  \\\n",
              "0                        1                     2       1       0.0  ...   \n",
              "1                        0                     1       2       0.0  ...   \n",
              "2                        0                     1       2       2.0  ...   \n",
              "3                        2                     5       2       0.0  ...   \n",
              "4                        2                     5       2       0.0  ...   \n",
              "\n",
              "   deposit_type  agent company days_in_waiting_list    customer_type    adr  \\\n",
              "0    No Deposit    9.0     NaN                    0        Transient  115.5   \n",
              "1    No Deposit    NaN     NaN                    0        Transient   42.0   \n",
              "2    No Deposit    9.0     NaN                    0        Transient  229.0   \n",
              "3    Non Refund  154.0     NaN                    0        Transient   75.0   \n",
              "4    No Deposit   20.0     NaN                    0  Transient-Party   75.0   \n",
              "\n",
              "   required_car_parking_spaces  total_of_special_requests  \\\n",
              "0                            0                          1   \n",
              "1                            1                          0   \n",
              "2                            0                          2   \n",
              "3                            0                          0   \n",
              "4                            0                          1   \n",
              "\n",
              "                                     id is_canceled  \n",
              "0  7aa4cc6b-b92c-4061-b21d-4f9e0cac4689           1  \n",
              "1  b1428f80-c56c-4ae4-91a9-6962edae08b1           0  \n",
              "2  2226c018-ea20-4c4e-8f71-ea66aee70d7c           0  \n",
              "3  314f56dc-2e4d-4298-9bdd-27bb008bffff           1  \n",
              "4  28c75445-c603-413a-babf-ad377018b592           0  \n",
              "\n",
              "[5 rows x 31 columns]"
            ],
            "text/html": [
              "\n",
              "  <div id=\"df-54f459ed-d507-4695-a546-aed612628fd5\" class=\"colab-df-container\">\n",
              "    <div>\n",
              "<style scoped>\n",
              "    .dataframe tbody tr th:only-of-type {\n",
              "        vertical-align: middle;\n",
              "    }\n",
              "\n",
              "    .dataframe tbody tr th {\n",
              "        vertical-align: top;\n",
              "    }\n",
              "\n",
              "    .dataframe thead th {\n",
              "        text-align: right;\n",
              "    }\n",
              "</style>\n",
              "<table border=\"1\" class=\"dataframe\">\n",
              "  <thead>\n",
              "    <tr style=\"text-align: right;\">\n",
              "      <th></th>\n",
              "      <th>hotel</th>\n",
              "      <th>lead_time</th>\n",
              "      <th>arrival_date_year</th>\n",
              "      <th>arrival_date_month</th>\n",
              "      <th>arrival_date_week_number</th>\n",
              "      <th>arrival_date_day_of_month</th>\n",
              "      <th>stays_in_weekend_nights</th>\n",
              "      <th>stays_in_week_nights</th>\n",
              "      <th>adults</th>\n",
              "      <th>children</th>\n",
              "      <th>...</th>\n",
              "      <th>deposit_type</th>\n",
              "      <th>agent</th>\n",
              "      <th>company</th>\n",
              "      <th>days_in_waiting_list</th>\n",
              "      <th>customer_type</th>\n",
              "      <th>adr</th>\n",
              "      <th>required_car_parking_spaces</th>\n",
              "      <th>total_of_special_requests</th>\n",
              "      <th>id</th>\n",
              "      <th>is_canceled</th>\n",
              "    </tr>\n",
              "  </thead>\n",
              "  <tbody>\n",
              "    <tr>\n",
              "      <th>0</th>\n",
              "      <td>City Hotel</td>\n",
              "      <td>49</td>\n",
              "      <td>2016</td>\n",
              "      <td>September</td>\n",
              "      <td>37</td>\n",
              "      <td>5</td>\n",
              "      <td>1</td>\n",
              "      <td>2</td>\n",
              "      <td>1</td>\n",
              "      <td>0.0</td>\n",
              "      <td>...</td>\n",
              "      <td>No Deposit</td>\n",
              "      <td>9.0</td>\n",
              "      <td>NaN</td>\n",
              "      <td>0</td>\n",
              "      <td>Transient</td>\n",
              "      <td>115.5</td>\n",
              "      <td>0</td>\n",
              "      <td>1</td>\n",
              "      <td>7aa4cc6b-b92c-4061-b21d-4f9e0cac4689</td>\n",
              "      <td>1</td>\n",
              "    </tr>\n",
              "    <tr>\n",
              "      <th>1</th>\n",
              "      <td>Resort Hotel</td>\n",
              "      <td>4</td>\n",
              "      <td>2015</td>\n",
              "      <td>October</td>\n",
              "      <td>44</td>\n",
              "      <td>31</td>\n",
              "      <td>0</td>\n",
              "      <td>1</td>\n",
              "      <td>2</td>\n",
              "      <td>0.0</td>\n",
              "      <td>...</td>\n",
              "      <td>No Deposit</td>\n",
              "      <td>NaN</td>\n",
              "      <td>NaN</td>\n",
              "      <td>0</td>\n",
              "      <td>Transient</td>\n",
              "      <td>42.0</td>\n",
              "      <td>1</td>\n",
              "      <td>0</td>\n",
              "      <td>b1428f80-c56c-4ae4-91a9-6962edae08b1</td>\n",
              "      <td>0</td>\n",
              "    </tr>\n",
              "    <tr>\n",
              "      <th>2</th>\n",
              "      <td>City Hotel</td>\n",
              "      <td>25</td>\n",
              "      <td>2016</td>\n",
              "      <td>October</td>\n",
              "      <td>42</td>\n",
              "      <td>13</td>\n",
              "      <td>0</td>\n",
              "      <td>1</td>\n",
              "      <td>2</td>\n",
              "      <td>2.0</td>\n",
              "      <td>...</td>\n",
              "      <td>No Deposit</td>\n",
              "      <td>9.0</td>\n",
              "      <td>NaN</td>\n",
              "      <td>0</td>\n",
              "      <td>Transient</td>\n",
              "      <td>229.0</td>\n",
              "      <td>0</td>\n",
              "      <td>2</td>\n",
              "      <td>2226c018-ea20-4c4e-8f71-ea66aee70d7c</td>\n",
              "      <td>0</td>\n",
              "    </tr>\n",
              "    <tr>\n",
              "      <th>3</th>\n",
              "      <td>City Hotel</td>\n",
              "      <td>26</td>\n",
              "      <td>2016</td>\n",
              "      <td>December</td>\n",
              "      <td>51</td>\n",
              "      <td>12</td>\n",
              "      <td>2</td>\n",
              "      <td>5</td>\n",
              "      <td>2</td>\n",
              "      <td>0.0</td>\n",
              "      <td>...</td>\n",
              "      <td>Non Refund</td>\n",
              "      <td>154.0</td>\n",
              "      <td>NaN</td>\n",
              "      <td>0</td>\n",
              "      <td>Transient</td>\n",
              "      <td>75.0</td>\n",
              "      <td>0</td>\n",
              "      <td>0</td>\n",
              "      <td>314f56dc-2e4d-4298-9bdd-27bb008bffff</td>\n",
              "      <td>1</td>\n",
              "    </tr>\n",
              "    <tr>\n",
              "      <th>4</th>\n",
              "      <td>City Hotel</td>\n",
              "      <td>104</td>\n",
              "      <td>2017</td>\n",
              "      <td>March</td>\n",
              "      <td>12</td>\n",
              "      <td>19</td>\n",
              "      <td>2</td>\n",
              "      <td>5</td>\n",
              "      <td>2</td>\n",
              "      <td>0.0</td>\n",
              "      <td>...</td>\n",
              "      <td>No Deposit</td>\n",
              "      <td>20.0</td>\n",
              "      <td>NaN</td>\n",
              "      <td>0</td>\n",
              "      <td>Transient-Party</td>\n",
              "      <td>75.0</td>\n",
              "      <td>0</td>\n",
              "      <td>1</td>\n",
              "      <td>28c75445-c603-413a-babf-ad377018b592</td>\n",
              "      <td>0</td>\n",
              "    </tr>\n",
              "  </tbody>\n",
              "</table>\n",
              "<p>5 rows × 31 columns</p>\n",
              "</div>\n",
              "    <div class=\"colab-df-buttons\">\n",
              "\n",
              "  <div class=\"colab-df-container\">\n",
              "    <button class=\"colab-df-convert\" onclick=\"convertToInteractive('df-54f459ed-d507-4695-a546-aed612628fd5')\"\n",
              "            title=\"Convert this dataframe to an interactive table.\"\n",
              "            style=\"display:none;\">\n",
              "\n",
              "  <svg xmlns=\"http://www.w3.org/2000/svg\" height=\"24px\" viewBox=\"0 -960 960 960\">\n",
              "    <path d=\"M120-120v-720h720v720H120Zm60-500h600v-160H180v160Zm220 220h160v-160H400v160Zm0 220h160v-160H400v160ZM180-400h160v-160H180v160Zm440 0h160v-160H620v160ZM180-180h160v-160H180v160Zm440 0h160v-160H620v160Z\"/>\n",
              "  </svg>\n",
              "    </button>\n",
              "\n",
              "  <style>\n",
              "    .colab-df-container {\n",
              "      display:flex;\n",
              "      gap: 12px;\n",
              "    }\n",
              "\n",
              "    .colab-df-convert {\n",
              "      background-color: #E8F0FE;\n",
              "      border: none;\n",
              "      border-radius: 50%;\n",
              "      cursor: pointer;\n",
              "      display: none;\n",
              "      fill: #1967D2;\n",
              "      height: 32px;\n",
              "      padding: 0 0 0 0;\n",
              "      width: 32px;\n",
              "    }\n",
              "\n",
              "    .colab-df-convert:hover {\n",
              "      background-color: #E2EBFA;\n",
              "      box-shadow: 0px 1px 2px rgba(60, 64, 67, 0.3), 0px 1px 3px 1px rgba(60, 64, 67, 0.15);\n",
              "      fill: #174EA6;\n",
              "    }\n",
              "\n",
              "    .colab-df-buttons div {\n",
              "      margin-bottom: 4px;\n",
              "    }\n",
              "\n",
              "    [theme=dark] .colab-df-convert {\n",
              "      background-color: #3B4455;\n",
              "      fill: #D2E3FC;\n",
              "    }\n",
              "\n",
              "    [theme=dark] .colab-df-convert:hover {\n",
              "      background-color: #434B5C;\n",
              "      box-shadow: 0px 1px 3px 1px rgba(0, 0, 0, 0.15);\n",
              "      filter: drop-shadow(0px 1px 2px rgba(0, 0, 0, 0.3));\n",
              "      fill: #FFFFFF;\n",
              "    }\n",
              "  </style>\n",
              "\n",
              "    <script>\n",
              "      const buttonEl =\n",
              "        document.querySelector('#df-54f459ed-d507-4695-a546-aed612628fd5 button.colab-df-convert');\n",
              "      buttonEl.style.display =\n",
              "        google.colab.kernel.accessAllowed ? 'block' : 'none';\n",
              "\n",
              "      async function convertToInteractive(key) {\n",
              "        const element = document.querySelector('#df-54f459ed-d507-4695-a546-aed612628fd5');\n",
              "        const dataTable =\n",
              "          await google.colab.kernel.invokeFunction('convertToInteractive',\n",
              "                                                    [key], {});\n",
              "        if (!dataTable) return;\n",
              "\n",
              "        const docLinkHtml = 'Like what you see? Visit the ' +\n",
              "          '<a target=\"_blank\" href=https://colab.research.google.com/notebooks/data_table.ipynb>data table notebook</a>'\n",
              "          + ' to learn more about interactive tables.';\n",
              "        element.innerHTML = '';\n",
              "        dataTable['output_type'] = 'display_data';\n",
              "        await google.colab.output.renderOutput(dataTable, element);\n",
              "        const docLink = document.createElement('div');\n",
              "        docLink.innerHTML = docLinkHtml;\n",
              "        element.appendChild(docLink);\n",
              "      }\n",
              "    </script>\n",
              "  </div>\n",
              "\n",
              "\n",
              "<div id=\"df-9ab1c863-1f80-4d91-ac0b-b491b7dd1333\">\n",
              "  <button class=\"colab-df-quickchart\" onclick=\"quickchart('df-9ab1c863-1f80-4d91-ac0b-b491b7dd1333')\"\n",
              "            title=\"Suggest charts.\"\n",
              "            style=\"display:none;\">\n",
              "\n",
              "<svg xmlns=\"http://www.w3.org/2000/svg\" height=\"24px\"viewBox=\"0 0 24 24\"\n",
              "     width=\"24px\">\n",
              "    <g>\n",
              "        <path d=\"M19 3H5c-1.1 0-2 .9-2 2v14c0 1.1.9 2 2 2h14c1.1 0 2-.9 2-2V5c0-1.1-.9-2-2-2zM9 17H7v-7h2v7zm4 0h-2V7h2v10zm4 0h-2v-4h2v4z\"/>\n",
              "    </g>\n",
              "</svg>\n",
              "  </button>\n",
              "\n",
              "<style>\n",
              "  .colab-df-quickchart {\n",
              "      --bg-color: #E8F0FE;\n",
              "      --fill-color: #1967D2;\n",
              "      --hover-bg-color: #E2EBFA;\n",
              "      --hover-fill-color: #174EA6;\n",
              "      --disabled-fill-color: #AAA;\n",
              "      --disabled-bg-color: #DDD;\n",
              "  }\n",
              "\n",
              "  [theme=dark] .colab-df-quickchart {\n",
              "      --bg-color: #3B4455;\n",
              "      --fill-color: #D2E3FC;\n",
              "      --hover-bg-color: #434B5C;\n",
              "      --hover-fill-color: #FFFFFF;\n",
              "      --disabled-bg-color: #3B4455;\n",
              "      --disabled-fill-color: #666;\n",
              "  }\n",
              "\n",
              "  .colab-df-quickchart {\n",
              "    background-color: var(--bg-color);\n",
              "    border: none;\n",
              "    border-radius: 50%;\n",
              "    cursor: pointer;\n",
              "    display: none;\n",
              "    fill: var(--fill-color);\n",
              "    height: 32px;\n",
              "    padding: 0;\n",
              "    width: 32px;\n",
              "  }\n",
              "\n",
              "  .colab-df-quickchart:hover {\n",
              "    background-color: var(--hover-bg-color);\n",
              "    box-shadow: 0 1px 2px rgba(60, 64, 67, 0.3), 0 1px 3px 1px rgba(60, 64, 67, 0.15);\n",
              "    fill: var(--button-hover-fill-color);\n",
              "  }\n",
              "\n",
              "  .colab-df-quickchart-complete:disabled,\n",
              "  .colab-df-quickchart-complete:disabled:hover {\n",
              "    background-color: var(--disabled-bg-color);\n",
              "    fill: var(--disabled-fill-color);\n",
              "    box-shadow: none;\n",
              "  }\n",
              "\n",
              "  .colab-df-spinner {\n",
              "    border: 2px solid var(--fill-color);\n",
              "    border-color: transparent;\n",
              "    border-bottom-color: var(--fill-color);\n",
              "    animation:\n",
              "      spin 1s steps(1) infinite;\n",
              "  }\n",
              "\n",
              "  @keyframes spin {\n",
              "    0% {\n",
              "      border-color: transparent;\n",
              "      border-bottom-color: var(--fill-color);\n",
              "      border-left-color: var(--fill-color);\n",
              "    }\n",
              "    20% {\n",
              "      border-color: transparent;\n",
              "      border-left-color: var(--fill-color);\n",
              "      border-top-color: var(--fill-color);\n",
              "    }\n",
              "    30% {\n",
              "      border-color: transparent;\n",
              "      border-left-color: var(--fill-color);\n",
              "      border-top-color: var(--fill-color);\n",
              "      border-right-color: var(--fill-color);\n",
              "    }\n",
              "    40% {\n",
              "      border-color: transparent;\n",
              "      border-right-color: var(--fill-color);\n",
              "      border-top-color: var(--fill-color);\n",
              "    }\n",
              "    60% {\n",
              "      border-color: transparent;\n",
              "      border-right-color: var(--fill-color);\n",
              "    }\n",
              "    80% {\n",
              "      border-color: transparent;\n",
              "      border-right-color: var(--fill-color);\n",
              "      border-bottom-color: var(--fill-color);\n",
              "    }\n",
              "    90% {\n",
              "      border-color: transparent;\n",
              "      border-bottom-color: var(--fill-color);\n",
              "    }\n",
              "  }\n",
              "</style>\n",
              "\n",
              "  <script>\n",
              "    async function quickchart(key) {\n",
              "      const quickchartButtonEl =\n",
              "        document.querySelector('#' + key + ' button');\n",
              "      quickchartButtonEl.disabled = true;  // To prevent multiple clicks.\n",
              "      quickchartButtonEl.classList.add('colab-df-spinner');\n",
              "      try {\n",
              "        const charts = await google.colab.kernel.invokeFunction(\n",
              "            'suggestCharts', [key], {});\n",
              "      } catch (error) {\n",
              "        console.error('Error during call to suggestCharts:', error);\n",
              "      }\n",
              "      quickchartButtonEl.classList.remove('colab-df-spinner');\n",
              "      quickchartButtonEl.classList.add('colab-df-quickchart-complete');\n",
              "    }\n",
              "    (() => {\n",
              "      let quickchartButtonEl =\n",
              "        document.querySelector('#df-9ab1c863-1f80-4d91-ac0b-b491b7dd1333 button');\n",
              "      quickchartButtonEl.style.display =\n",
              "        google.colab.kernel.accessAllowed ? 'block' : 'none';\n",
              "    })();\n",
              "  </script>\n",
              "</div>\n",
              "    </div>\n",
              "  </div>\n"
            ]
          },
          "metadata": {},
          "execution_count": 1675
        }
      ],
      "source": [
        "ds_train.head()"
      ]
    },
    {
      "cell_type": "markdown",
      "metadata": {
        "id": "_7Hm4ImK8AP_"
      },
      "source": [
        "#### - **Cantidad de columnas y filas**"
      ]
    },
    {
      "cell_type": "code",
      "execution_count": 1676,
      "metadata": {
        "colab": {
          "base_uri": "https://localhost:8080/"
        },
        "id": "JpJCJ8ni_teq",
        "outputId": "8b67353f-7c38-4244-f40f-77632b006290"
      },
      "outputs": [
        {
          "output_type": "execute_result",
          "data": {
            "text/plain": [
              "(61913, 31)"
            ]
          },
          "metadata": {},
          "execution_count": 1676
        }
      ],
      "source": [
        "ds_train.shape"
      ]
    },
    {
      "cell_type": "markdown",
      "metadata": {
        "id": "5cfdfTXZVIqT"
      },
      "source": [
        "### » Tipos de las varibales"
      ]
    },
    {
      "cell_type": "code",
      "execution_count": 1677,
      "metadata": {
        "colab": {
          "base_uri": "https://localhost:8080/"
        },
        "id": "x3GZbIHWVJLY",
        "outputId": "f7cdabc5-1662-4983-9721-31d35a8938ca"
      },
      "outputs": [
        {
          "output_type": "execute_result",
          "data": {
            "text/plain": [
              "hotel                              object\n",
              "lead_time                           int64\n",
              "arrival_date_year                   int64\n",
              "arrival_date_month                 object\n",
              "arrival_date_week_number            int64\n",
              "arrival_date_day_of_month           int64\n",
              "stays_in_weekend_nights             int64\n",
              "stays_in_week_nights                int64\n",
              "adults                              int64\n",
              "children                          float64\n",
              "babies                              int64\n",
              "meal                               object\n",
              "country                            object\n",
              "market_segment                     object\n",
              "distribution_channel               object\n",
              "is_repeated_guest                   int64\n",
              "previous_cancellations              int64\n",
              "previous_bookings_not_canceled      int64\n",
              "reserved_room_type                 object\n",
              "assigned_room_type                 object\n",
              "booking_changes                     int64\n",
              "deposit_type                       object\n",
              "agent                             float64\n",
              "company                           float64\n",
              "days_in_waiting_list                int64\n",
              "customer_type                      object\n",
              "adr                               float64\n",
              "required_car_parking_spaces         int64\n",
              "total_of_special_requests           int64\n",
              "id                                 object\n",
              "is_canceled                         int64\n",
              "dtype: object"
            ]
          },
          "metadata": {},
          "execution_count": 1677
        }
      ],
      "source": [
        "ds_train.dtypes"
      ]
    },
    {
      "cell_type": "markdown",
      "metadata": {
        "id": "17a2Q1ZU6XUw"
      },
      "source": [
        "### » Separación de variables cuantitativas"
      ]
    },
    {
      "cell_type": "code",
      "execution_count": 1678,
      "metadata": {
        "colab": {
          "base_uri": "https://localhost:8080/",
          "height": 488
        },
        "id": "kfqAj6LP7HK1",
        "outputId": "c3d6a202-e423-41f3-a0c6-72dff3615a05"
      },
      "outputs": [
        {
          "output_type": "execute_result",
          "data": {
            "text/plain": [
              "                                 media  mediana  moda    max\n",
              "lead_time                       112.25     78.0   0.0  629.0\n",
              "arrival_date_week_number         27.22     28.0  33.0   53.0\n",
              "stays_in_weekend_nights           0.92      1.0   0.0   16.0\n",
              "adults                            1.86      2.0   2.0   55.0\n",
              "children                          0.10      0.0   0.0   10.0\n",
              "babies                            0.01      0.0   0.0    9.0\n",
              "is_repeated_guest                 0.03      0.0   0.0    1.0\n",
              "previous_cancellations            0.11      0.0   0.0   26.0\n",
              "previous_bookings_not_canceled    0.12      0.0   0.0   70.0\n",
              "booking_changes                   0.20      0.0   0.0   17.0\n",
              "agent                            84.54     12.0   9.0  535.0\n",
              "adr                             102.38     95.0  62.0  510.0\n",
              "required_car_parking_spaces       0.05      0.0   0.0    8.0\n",
              "total_of_special_requests         0.52      0.0   0.0    5.0"
            ],
            "text/html": [
              "\n",
              "  <div id=\"df-baa3164b-d5b2-43dc-826f-0d8b73156ec3\" class=\"colab-df-container\">\n",
              "    <div>\n",
              "<style scoped>\n",
              "    .dataframe tbody tr th:only-of-type {\n",
              "        vertical-align: middle;\n",
              "    }\n",
              "\n",
              "    .dataframe tbody tr th {\n",
              "        vertical-align: top;\n",
              "    }\n",
              "\n",
              "    .dataframe thead th {\n",
              "        text-align: right;\n",
              "    }\n",
              "</style>\n",
              "<table border=\"1\" class=\"dataframe\">\n",
              "  <thead>\n",
              "    <tr style=\"text-align: right;\">\n",
              "      <th></th>\n",
              "      <th>media</th>\n",
              "      <th>mediana</th>\n",
              "      <th>moda</th>\n",
              "      <th>max</th>\n",
              "    </tr>\n",
              "  </thead>\n",
              "  <tbody>\n",
              "    <tr>\n",
              "      <th>lead_time</th>\n",
              "      <td>112.25</td>\n",
              "      <td>78.0</td>\n",
              "      <td>0.0</td>\n",
              "      <td>629.0</td>\n",
              "    </tr>\n",
              "    <tr>\n",
              "      <th>arrival_date_week_number</th>\n",
              "      <td>27.22</td>\n",
              "      <td>28.0</td>\n",
              "      <td>33.0</td>\n",
              "      <td>53.0</td>\n",
              "    </tr>\n",
              "    <tr>\n",
              "      <th>stays_in_weekend_nights</th>\n",
              "      <td>0.92</td>\n",
              "      <td>1.0</td>\n",
              "      <td>0.0</td>\n",
              "      <td>16.0</td>\n",
              "    </tr>\n",
              "    <tr>\n",
              "      <th>adults</th>\n",
              "      <td>1.86</td>\n",
              "      <td>2.0</td>\n",
              "      <td>2.0</td>\n",
              "      <td>55.0</td>\n",
              "    </tr>\n",
              "    <tr>\n",
              "      <th>children</th>\n",
              "      <td>0.10</td>\n",
              "      <td>0.0</td>\n",
              "      <td>0.0</td>\n",
              "      <td>10.0</td>\n",
              "    </tr>\n",
              "    <tr>\n",
              "      <th>babies</th>\n",
              "      <td>0.01</td>\n",
              "      <td>0.0</td>\n",
              "      <td>0.0</td>\n",
              "      <td>9.0</td>\n",
              "    </tr>\n",
              "    <tr>\n",
              "      <th>is_repeated_guest</th>\n",
              "      <td>0.03</td>\n",
              "      <td>0.0</td>\n",
              "      <td>0.0</td>\n",
              "      <td>1.0</td>\n",
              "    </tr>\n",
              "    <tr>\n",
              "      <th>previous_cancellations</th>\n",
              "      <td>0.11</td>\n",
              "      <td>0.0</td>\n",
              "      <td>0.0</td>\n",
              "      <td>26.0</td>\n",
              "    </tr>\n",
              "    <tr>\n",
              "      <th>previous_bookings_not_canceled</th>\n",
              "      <td>0.12</td>\n",
              "      <td>0.0</td>\n",
              "      <td>0.0</td>\n",
              "      <td>70.0</td>\n",
              "    </tr>\n",
              "    <tr>\n",
              "      <th>booking_changes</th>\n",
              "      <td>0.20</td>\n",
              "      <td>0.0</td>\n",
              "      <td>0.0</td>\n",
              "      <td>17.0</td>\n",
              "    </tr>\n",
              "    <tr>\n",
              "      <th>agent</th>\n",
              "      <td>84.54</td>\n",
              "      <td>12.0</td>\n",
              "      <td>9.0</td>\n",
              "      <td>535.0</td>\n",
              "    </tr>\n",
              "    <tr>\n",
              "      <th>adr</th>\n",
              "      <td>102.38</td>\n",
              "      <td>95.0</td>\n",
              "      <td>62.0</td>\n",
              "      <td>510.0</td>\n",
              "    </tr>\n",
              "    <tr>\n",
              "      <th>required_car_parking_spaces</th>\n",
              "      <td>0.05</td>\n",
              "      <td>0.0</td>\n",
              "      <td>0.0</td>\n",
              "      <td>8.0</td>\n",
              "    </tr>\n",
              "    <tr>\n",
              "      <th>total_of_special_requests</th>\n",
              "      <td>0.52</td>\n",
              "      <td>0.0</td>\n",
              "      <td>0.0</td>\n",
              "      <td>5.0</td>\n",
              "    </tr>\n",
              "  </tbody>\n",
              "</table>\n",
              "</div>\n",
              "    <div class=\"colab-df-buttons\">\n",
              "\n",
              "  <div class=\"colab-df-container\">\n",
              "    <button class=\"colab-df-convert\" onclick=\"convertToInteractive('df-baa3164b-d5b2-43dc-826f-0d8b73156ec3')\"\n",
              "            title=\"Convert this dataframe to an interactive table.\"\n",
              "            style=\"display:none;\">\n",
              "\n",
              "  <svg xmlns=\"http://www.w3.org/2000/svg\" height=\"24px\" viewBox=\"0 -960 960 960\">\n",
              "    <path d=\"M120-120v-720h720v720H120Zm60-500h600v-160H180v160Zm220 220h160v-160H400v160Zm0 220h160v-160H400v160ZM180-400h160v-160H180v160Zm440 0h160v-160H620v160ZM180-180h160v-160H180v160Zm440 0h160v-160H620v160Z\"/>\n",
              "  </svg>\n",
              "    </button>\n",
              "\n",
              "  <style>\n",
              "    .colab-df-container {\n",
              "      display:flex;\n",
              "      gap: 12px;\n",
              "    }\n",
              "\n",
              "    .colab-df-convert {\n",
              "      background-color: #E8F0FE;\n",
              "      border: none;\n",
              "      border-radius: 50%;\n",
              "      cursor: pointer;\n",
              "      display: none;\n",
              "      fill: #1967D2;\n",
              "      height: 32px;\n",
              "      padding: 0 0 0 0;\n",
              "      width: 32px;\n",
              "    }\n",
              "\n",
              "    .colab-df-convert:hover {\n",
              "      background-color: #E2EBFA;\n",
              "      box-shadow: 0px 1px 2px rgba(60, 64, 67, 0.3), 0px 1px 3px 1px rgba(60, 64, 67, 0.15);\n",
              "      fill: #174EA6;\n",
              "    }\n",
              "\n",
              "    .colab-df-buttons div {\n",
              "      margin-bottom: 4px;\n",
              "    }\n",
              "\n",
              "    [theme=dark] .colab-df-convert {\n",
              "      background-color: #3B4455;\n",
              "      fill: #D2E3FC;\n",
              "    }\n",
              "\n",
              "    [theme=dark] .colab-df-convert:hover {\n",
              "      background-color: #434B5C;\n",
              "      box-shadow: 0px 1px 3px 1px rgba(0, 0, 0, 0.15);\n",
              "      filter: drop-shadow(0px 1px 2px rgba(0, 0, 0, 0.3));\n",
              "      fill: #FFFFFF;\n",
              "    }\n",
              "  </style>\n",
              "\n",
              "    <script>\n",
              "      const buttonEl =\n",
              "        document.querySelector('#df-baa3164b-d5b2-43dc-826f-0d8b73156ec3 button.colab-df-convert');\n",
              "      buttonEl.style.display =\n",
              "        google.colab.kernel.accessAllowed ? 'block' : 'none';\n",
              "\n",
              "      async function convertToInteractive(key) {\n",
              "        const element = document.querySelector('#df-baa3164b-d5b2-43dc-826f-0d8b73156ec3');\n",
              "        const dataTable =\n",
              "          await google.colab.kernel.invokeFunction('convertToInteractive',\n",
              "                                                    [key], {});\n",
              "        if (!dataTable) return;\n",
              "\n",
              "        const docLinkHtml = 'Like what you see? Visit the ' +\n",
              "          '<a target=\"_blank\" href=https://colab.research.google.com/notebooks/data_table.ipynb>data table notebook</a>'\n",
              "          + ' to learn more about interactive tables.';\n",
              "        element.innerHTML = '';\n",
              "        dataTable['output_type'] = 'display_data';\n",
              "        await google.colab.output.renderOutput(dataTable, element);\n",
              "        const docLink = document.createElement('div');\n",
              "        docLink.innerHTML = docLinkHtml;\n",
              "        element.appendChild(docLink);\n",
              "      }\n",
              "    </script>\n",
              "  </div>\n",
              "\n",
              "\n",
              "<div id=\"df-6a161d6f-316f-48db-ae3f-ecdb8e11b61c\">\n",
              "  <button class=\"colab-df-quickchart\" onclick=\"quickchart('df-6a161d6f-316f-48db-ae3f-ecdb8e11b61c')\"\n",
              "            title=\"Suggest charts.\"\n",
              "            style=\"display:none;\">\n",
              "\n",
              "<svg xmlns=\"http://www.w3.org/2000/svg\" height=\"24px\"viewBox=\"0 0 24 24\"\n",
              "     width=\"24px\">\n",
              "    <g>\n",
              "        <path d=\"M19 3H5c-1.1 0-2 .9-2 2v14c0 1.1.9 2 2 2h14c1.1 0 2-.9 2-2V5c0-1.1-.9-2-2-2zM9 17H7v-7h2v7zm4 0h-2V7h2v10zm4 0h-2v-4h2v4z\"/>\n",
              "    </g>\n",
              "</svg>\n",
              "  </button>\n",
              "\n",
              "<style>\n",
              "  .colab-df-quickchart {\n",
              "      --bg-color: #E8F0FE;\n",
              "      --fill-color: #1967D2;\n",
              "      --hover-bg-color: #E2EBFA;\n",
              "      --hover-fill-color: #174EA6;\n",
              "      --disabled-fill-color: #AAA;\n",
              "      --disabled-bg-color: #DDD;\n",
              "  }\n",
              "\n",
              "  [theme=dark] .colab-df-quickchart {\n",
              "      --bg-color: #3B4455;\n",
              "      --fill-color: #D2E3FC;\n",
              "      --hover-bg-color: #434B5C;\n",
              "      --hover-fill-color: #FFFFFF;\n",
              "      --disabled-bg-color: #3B4455;\n",
              "      --disabled-fill-color: #666;\n",
              "  }\n",
              "\n",
              "  .colab-df-quickchart {\n",
              "    background-color: var(--bg-color);\n",
              "    border: none;\n",
              "    border-radius: 50%;\n",
              "    cursor: pointer;\n",
              "    display: none;\n",
              "    fill: var(--fill-color);\n",
              "    height: 32px;\n",
              "    padding: 0;\n",
              "    width: 32px;\n",
              "  }\n",
              "\n",
              "  .colab-df-quickchart:hover {\n",
              "    background-color: var(--hover-bg-color);\n",
              "    box-shadow: 0 1px 2px rgba(60, 64, 67, 0.3), 0 1px 3px 1px rgba(60, 64, 67, 0.15);\n",
              "    fill: var(--button-hover-fill-color);\n",
              "  }\n",
              "\n",
              "  .colab-df-quickchart-complete:disabled,\n",
              "  .colab-df-quickchart-complete:disabled:hover {\n",
              "    background-color: var(--disabled-bg-color);\n",
              "    fill: var(--disabled-fill-color);\n",
              "    box-shadow: none;\n",
              "  }\n",
              "\n",
              "  .colab-df-spinner {\n",
              "    border: 2px solid var(--fill-color);\n",
              "    border-color: transparent;\n",
              "    border-bottom-color: var(--fill-color);\n",
              "    animation:\n",
              "      spin 1s steps(1) infinite;\n",
              "  }\n",
              "\n",
              "  @keyframes spin {\n",
              "    0% {\n",
              "      border-color: transparent;\n",
              "      border-bottom-color: var(--fill-color);\n",
              "      border-left-color: var(--fill-color);\n",
              "    }\n",
              "    20% {\n",
              "      border-color: transparent;\n",
              "      border-left-color: var(--fill-color);\n",
              "      border-top-color: var(--fill-color);\n",
              "    }\n",
              "    30% {\n",
              "      border-color: transparent;\n",
              "      border-left-color: var(--fill-color);\n",
              "      border-top-color: var(--fill-color);\n",
              "      border-right-color: var(--fill-color);\n",
              "    }\n",
              "    40% {\n",
              "      border-color: transparent;\n",
              "      border-right-color: var(--fill-color);\n",
              "      border-top-color: var(--fill-color);\n",
              "    }\n",
              "    60% {\n",
              "      border-color: transparent;\n",
              "      border-right-color: var(--fill-color);\n",
              "    }\n",
              "    80% {\n",
              "      border-color: transparent;\n",
              "      border-right-color: var(--fill-color);\n",
              "      border-bottom-color: var(--fill-color);\n",
              "    }\n",
              "    90% {\n",
              "      border-color: transparent;\n",
              "      border-bottom-color: var(--fill-color);\n",
              "    }\n",
              "  }\n",
              "</style>\n",
              "\n",
              "  <script>\n",
              "    async function quickchart(key) {\n",
              "      const quickchartButtonEl =\n",
              "        document.querySelector('#' + key + ' button');\n",
              "      quickchartButtonEl.disabled = true;  // To prevent multiple clicks.\n",
              "      quickchartButtonEl.classList.add('colab-df-spinner');\n",
              "      try {\n",
              "        const charts = await google.colab.kernel.invokeFunction(\n",
              "            'suggestCharts', [key], {});\n",
              "      } catch (error) {\n",
              "        console.error('Error during call to suggestCharts:', error);\n",
              "      }\n",
              "      quickchartButtonEl.classList.remove('colab-df-spinner');\n",
              "      quickchartButtonEl.classList.add('colab-df-quickchart-complete');\n",
              "    }\n",
              "    (() => {\n",
              "      let quickchartButtonEl =\n",
              "        document.querySelector('#df-6a161d6f-316f-48db-ae3f-ecdb8e11b61c button');\n",
              "      quickchartButtonEl.style.display =\n",
              "        google.colab.kernel.accessAllowed ? 'block' : 'none';\n",
              "    })();\n",
              "  </script>\n",
              "</div>\n",
              "    </div>\n",
              "  </div>\n"
            ]
          },
          "metadata": {},
          "execution_count": 1678
        }
      ],
      "source": [
        "nombre_variables_cuantitativas = ['lead_time','arrival_date_week_number', 'stays_in_weekend_nights', 'adults',\n",
        "                                  'children','babies', 'is_repeated_guest', 'previous_cancellations', 'previous_bookings_not_canceled',\n",
        "                                  'booking_changes', 'agent', 'adr', 'required_car_parking_spaces', 'total_of_special_requests' ]\n",
        "\n",
        "ds_cuantitativo = ds_train.loc[:, nombre_variables_cuantitativas]\n",
        "df = pd.DataFrame()\n",
        "df['media'] = round(ds_cuantitativo.mean(), 2)\n",
        "df['mediana'] = ds_cuantitativo.median()\n",
        "df['moda'] = ds_cuantitativo.mode().iloc[0]\n",
        "df['max'] = ds_cuantitativo.max()\n",
        "df"
      ]
    },
    {
      "cell_type": "markdown",
      "metadata": {
        "id": "ApIL7DKf6dJd"
      },
      "source": [
        "### » Separación de las variables cualitativas"
      ]
    },
    {
      "cell_type": "code",
      "execution_count": 1679,
      "metadata": {
        "id": "tZcrizwEVxYE"
      },
      "outputs": [],
      "source": [
        "nombre_variables_cualitativas = ['hotel', 'arrival_date_month', 'meal', 'country', 'market_segment', 'reserved_room_type', 'distribution_channel', 'assigned_room_type',\n",
        "                                 'deposit_type', 'customer_type']\n",
        "\n",
        "ds_cualitativo = ds_train.loc[:, nombre_variables_cualitativas]"
      ]
    },
    {
      "cell_type": "markdown",
      "metadata": {
        "id": "POQuZmMA6hDq"
      },
      "source": [
        "### » Cantidad de valores que admiten las varibles cualitativas."
      ]
    },
    {
      "cell_type": "code",
      "execution_count": 1680,
      "metadata": {
        "colab": {
          "base_uri": "https://localhost:8080/"
        },
        "id": "YPssMTFUW7hV",
        "outputId": "0a7e4436-ed0b-4399-d266-cc129907e816"
      },
      "outputs": [
        {
          "output_type": "execute_result",
          "data": {
            "text/plain": [
              "hotel                     2\n",
              "deposit_type              3\n",
              "customer_type             4\n",
              "meal                      5\n",
              "distribution_channel      5\n",
              "market_segment            8\n",
              "reserved_room_type       10\n",
              "arrival_date_month       12\n",
              "assigned_room_type       12\n",
              "country                 149\n",
              "dtype: int64"
            ]
          },
          "metadata": {},
          "execution_count": 1680
        }
      ],
      "source": [
        "ds_cualitativo.nunique().sort_values(ascending=True)"
      ]
    },
    {
      "cell_type": "markdown",
      "metadata": {
        "id": "VItIp_ss6kER"
      },
      "source": [
        "### » Frecuencia de los valores"
      ]
    },
    {
      "cell_type": "markdown",
      "metadata": {
        "id": "ExmPlf4F6mpH"
      },
      "source": [
        "- **Hoteles.**"
      ]
    },
    {
      "cell_type": "code",
      "execution_count": 1681,
      "metadata": {
        "colab": {
          "base_uri": "https://localhost:8080/"
        },
        "id": "f2y6NzLGXtx7",
        "outputId": "7f727ea9-2dbd-47e2-b256-a5c8a3abfcf8"
      },
      "outputs": [
        {
          "output_type": "execute_result",
          "data": {
            "text/plain": [
              "City Hotel      68.05\n",
              "Resort Hotel    31.95\n",
              "Name: hotel, dtype: float64"
            ]
          },
          "metadata": {},
          "execution_count": 1681
        }
      ],
      "source": [
        "round(ds_cualitativo.hotel.value_counts(normalize=True) * 100, 2)"
      ]
    },
    {
      "cell_type": "markdown",
      "metadata": {
        "id": "YsMTX-4S6nib"
      },
      "source": [
        "\n",
        "- **Tipo de depósito.**"
      ]
    },
    {
      "cell_type": "code",
      "execution_count": 1682,
      "metadata": {
        "colab": {
          "base_uri": "https://localhost:8080/"
        },
        "id": "LKMGWAzgXulK",
        "outputId": "23d69f75-f5d5-4298-fff0-5bf1720ba04f"
      },
      "outputs": [
        {
          "output_type": "execute_result",
          "data": {
            "text/plain": [
              "No Deposit    83.48\n",
              "Non Refund    16.39\n",
              "Refundable     0.13\n",
              "Name: deposit_type, dtype: float64"
            ]
          },
          "metadata": {},
          "execution_count": 1682
        }
      ],
      "source": [
        "round(ds_cualitativo.deposit_type.value_counts(normalize=True) * 100, 2)"
      ]
    },
    {
      "cell_type": "markdown",
      "metadata": {
        "id": "Tp6aV6yJYB9i"
      },
      "source": [
        "tiene Undefined"
      ]
    },
    {
      "cell_type": "markdown",
      "metadata": {
        "id": "0UlDtmp46qkT"
      },
      "source": [
        "\n",
        "- **Canal de distribución.**"
      ]
    },
    {
      "cell_type": "code",
      "execution_count": 1683,
      "metadata": {
        "colab": {
          "base_uri": "https://localhost:8080/"
        },
        "id": "neQ6jRfgXvpp",
        "outputId": "d20db797-fc04-4201-e181-911c89af1ba2"
      },
      "outputs": [
        {
          "output_type": "execute_result",
          "data": {
            "text/plain": [
              "TA/TO        83.74\n",
              "Direct       10.98\n",
              "Corporate     5.12\n",
              "GDS           0.14\n",
              "Undefined     0.01\n",
              "Name: distribution_channel, dtype: float64"
            ]
          },
          "metadata": {},
          "execution_count": 1683
        }
      ],
      "source": [
        "round(ds_cualitativo.distribution_channel.value_counts(normalize=True) * 100, 2)"
      ]
    },
    {
      "cell_type": "markdown",
      "metadata": {
        "id": "fwCC8aRm6t3z"
      },
      "source": [
        "- **Tipo de cliente.**"
      ]
    },
    {
      "cell_type": "code",
      "execution_count": 1684,
      "metadata": {
        "colab": {
          "base_uri": "https://localhost:8080/"
        },
        "id": "gLSiB4hZXwUc",
        "outputId": "e4067dd0-d572-4fb5-aac7-c6210c9b5305"
      },
      "outputs": [
        {
          "output_type": "execute_result",
          "data": {
            "text/plain": [
              "Transient          76.64\n",
              "Transient-Party    19.65\n",
              "Contract            3.28\n",
              "Group               0.42\n",
              "Name: customer_type, dtype: float64"
            ]
          },
          "metadata": {},
          "execution_count": 1684
        }
      ],
      "source": [
        "round(ds_cualitativo.customer_type.value_counts(normalize=True) * 100, 2)"
      ]
    },
    {
      "cell_type": "markdown",
      "metadata": {
        "id": "HP05q-E66x-H"
      },
      "source": [
        "- **Comida.**"
      ]
    },
    {
      "cell_type": "code",
      "execution_count": 1685,
      "metadata": {
        "colab": {
          "base_uri": "https://localhost:8080/"
        },
        "id": "Hd3qTh9VXxCI",
        "outputId": "534cb36b-87ca-40b4-b85d-b070e1b17b3b"
      },
      "outputs": [
        {
          "output_type": "execute_result",
          "data": {
            "text/plain": [
              "BB           77.26\n",
              "HB           12.04\n",
              "SC            8.97\n",
              "Undefined     0.95\n",
              "FB            0.77\n",
              "Name: meal, dtype: float64"
            ]
          },
          "metadata": {},
          "execution_count": 1685
        }
      ],
      "source": [
        "round(ds_cualitativo.meal.value_counts(normalize=True) * 100, 2)"
      ]
    },
    {
      "cell_type": "markdown",
      "metadata": {
        "id": "Axx_W8aQYOe-"
      },
      "source": [
        "tiene Undefined"
      ]
    },
    {
      "cell_type": "markdown",
      "metadata": {
        "id": "Kff7KHmt6zVu"
      },
      "source": [
        "- **Segmento de mercado (método de reserva).**"
      ]
    },
    {
      "cell_type": "code",
      "execution_count": 1686,
      "metadata": {
        "colab": {
          "base_uri": "https://localhost:8080/"
        },
        "id": "FeXg4DD0XyJJ",
        "outputId": "c8f6aa8f-0857-4432-f45c-c0f8277e3873"
      },
      "outputs": [
        {
          "output_type": "execute_result",
          "data": {
            "text/plain": [
              "Online TA        47.274\n",
              "Offline TA/TO    20.002\n",
              "Groups           18.647\n",
              "Direct            9.299\n",
              "Corporate         4.012\n",
              "Complementary     0.580\n",
              "Aviation          0.183\n",
              "Undefined         0.003\n",
              "Name: market_segment, dtype: float64"
            ]
          },
          "metadata": {},
          "execution_count": 1686
        }
      ],
      "source": [
        "round(ds_cualitativo.market_segment.value_counts(normalize=True) * 100, 3)"
      ]
    },
    {
      "cell_type": "markdown",
      "metadata": {
        "id": "s2hem_0f62an"
      },
      "source": [
        "- **Mes de llegada**"
      ]
    },
    {
      "cell_type": "code",
      "execution_count": 1687,
      "metadata": {
        "colab": {
          "base_uri": "https://localhost:8080/"
        },
        "id": "gtm4RudrXy_L",
        "outputId": "f5b290a8-5d03-455d-a6a4-79b916f70832"
      },
      "outputs": [
        {
          "output_type": "execute_result",
          "data": {
            "text/plain": [
              "August       11.59\n",
              "July         10.54\n",
              "May           9.95\n",
              "April         9.49\n",
              "October       9.47\n",
              "June          9.32\n",
              "September     9.08\n",
              "March         7.91\n",
              "February      6.66\n",
              "December      5.64\n",
              "November      5.50\n",
              "January       4.85\n",
              "Name: arrival_date_month, dtype: float64"
            ]
          },
          "metadata": {},
          "execution_count": 1687
        }
      ],
      "source": [
        "round(ds_cualitativo.arrival_date_month.value_counts(normalize=True) * 100, 2)"
      ]
    },
    {
      "cell_type": "markdown",
      "metadata": {
        "id": "Xj4n0XZ_64eT"
      },
      "source": [
        "- **País**"
      ]
    },
    {
      "cell_type": "code",
      "execution_count": 1688,
      "metadata": {
        "colab": {
          "base_uri": "https://localhost:8080/"
        },
        "id": "zjBUx148Xz3B",
        "outputId": "7e3acc85-ea19-49a7-c417-0891488dcbb9"
      },
      "outputs": [
        {
          "output_type": "execute_result",
          "data": {
            "text/plain": [
              "PRT    45.305712\n",
              "GBR     9.292939\n",
              "FRA     7.795176\n",
              "ESP     6.824224\n",
              "DEU     5.368605\n",
              "         ...    \n",
              "HND     0.001621\n",
              "FJI     0.001621\n",
              "LIE     0.001621\n",
              "ATA     0.001621\n",
              "RWA     0.001621\n",
              "Name: country, Length: 149, dtype: float64"
            ]
          },
          "metadata": {},
          "execution_count": 1688
        }
      ],
      "source": [
        "ds_cualitativo.country.value_counts(normalize=True) * 100"
      ]
    },
    {
      "cell_type": "markdown",
      "metadata": {
        "id": "kHad3PWu66FH"
      },
      "source": [
        "### » Separacion de las variables ordinales"
      ]
    },
    {
      "cell_type": "code",
      "execution_count": 1689,
      "metadata": {
        "id": "YsM-1FSWX1I6"
      },
      "outputs": [],
      "source": [
        "nombre_variables_ordinales = ['reserved_room_type', 'assigned_room_type']\n",
        "\n",
        "ds_ordinales = ds_train.loc[:, nombre_variables_ordinales]"
      ]
    },
    {
      "cell_type": "markdown",
      "metadata": {
        "id": "-0TYO8xy69cD"
      },
      "source": [
        "- **Tipo de habitación reservada.**"
      ]
    },
    {
      "cell_type": "code",
      "execution_count": 1690,
      "metadata": {
        "colab": {
          "base_uri": "https://localhost:8080/"
        },
        "id": "BuvHu3oLX2gy",
        "outputId": "51b56023-c18b-4bd3-ad80-66f2d449a627"
      },
      "outputs": [
        {
          "output_type": "execute_result",
          "data": {
            "text/plain": [
              "A    72.899\n",
              "D    15.481\n",
              "E     5.248\n",
              "F     2.344\n",
              "G     1.761\n",
              "B     0.937\n",
              "C     0.779\n",
              "H     0.539\n",
              "P     0.011\n",
              "L     0.002\n",
              "Name: reserved_room_type, dtype: float64"
            ]
          },
          "metadata": {},
          "execution_count": 1690
        }
      ],
      "source": [
        "round(ds_ordinales.reserved_room_type.value_counts(normalize=True) * 100, 3)"
      ]
    },
    {
      "cell_type": "markdown",
      "metadata": {
        "id": "Tm0IRDPr6-GM"
      },
      "source": [
        "- **Tipo de habitación asignada**"
      ]
    },
    {
      "cell_type": "code",
      "execution_count": 1691,
      "metadata": {
        "colab": {
          "base_uri": "https://localhost:8080/"
        },
        "id": "o16WcqrUX3cQ",
        "outputId": "2f51d7e0-cc58-4b28-c592-af6bedd9e7a2"
      },
      "outputs": [
        {
          "output_type": "execute_result",
          "data": {
            "text/plain": [
              "A    64.618\n",
              "D    19.689\n",
              "E     6.104\n",
              "F     2.941\n",
              "G     2.063\n",
              "C     1.820\n",
              "B     1.706\n",
              "H     0.620\n",
              "I     0.234\n",
              "K     0.192\n",
              "P     0.011\n",
              "L     0.002\n",
              "Name: assigned_room_type, dtype: float64"
            ]
          },
          "metadata": {},
          "execution_count": 1691
        }
      ],
      "source": [
        "round(ds_ordinales.assigned_room_type.value_counts(normalize=True) * 100, 3)"
      ]
    },
    {
      "cell_type": "markdown",
      "metadata": {
        "id": "7QB6PKTd7Heb"
      },
      "source": [
        "# » Analisis de nulos en el DataSet"
      ]
    },
    {
      "cell_type": "code",
      "execution_count": 1692,
      "metadata": {
        "colab": {
          "base_uri": "https://localhost:8080/"
        },
        "id": "AIvYtq6XXJc8",
        "outputId": "357475e9-0a22-47c8-b736-299b96eaaa1f"
      },
      "outputs": [
        {
          "output_type": "execute_result",
          "data": {
            "text/plain": [
              "hotel                                 0\n",
              "lead_time                             0\n",
              "arrival_date_year                     0\n",
              "arrival_date_month                    0\n",
              "arrival_date_week_number              0\n",
              "arrival_date_day_of_month             0\n",
              "stays_in_weekend_nights               0\n",
              "stays_in_week_nights                  0\n",
              "adults                                0\n",
              "children                              4\n",
              "babies                                0\n",
              "meal                                  0\n",
              "country                             221\n",
              "market_segment                        0\n",
              "distribution_channel                  0\n",
              "is_repeated_guest                     0\n",
              "previous_cancellations                0\n",
              "previous_bookings_not_canceled        0\n",
              "reserved_room_type                    0\n",
              "assigned_room_type                    0\n",
              "booking_changes                       0\n",
              "deposit_type                          0\n",
              "agent                              7890\n",
              "company                           58761\n",
              "days_in_waiting_list                  0\n",
              "customer_type                         0\n",
              "adr                                   0\n",
              "required_car_parking_spaces           0\n",
              "total_of_special_requests             0\n",
              "id                                    0\n",
              "is_canceled                           0\n",
              "dtype: int64"
            ]
          },
          "metadata": {},
          "execution_count": 1692
        }
      ],
      "source": [
        "ds_train.isna().sum()"
      ]
    },
    {
      "cell_type": "markdown",
      "metadata": {
        "id": "i3jz6jN1Yo_6"
      },
      "source": [
        "# » Valores atipicos e imputaciones.\n",
        "\n",
        "\n",
        "Luego de analizar los valores mostrados anteriormente procedemos a eliminar los valores que consideramos como outsiders."
      ]
    },
    {
      "cell_type": "code",
      "source": [
        "df_train.shape"
      ],
      "metadata": {
        "colab": {
          "base_uri": "https://localhost:8080/"
        },
        "id": "oT_W2EYkgxKd",
        "outputId": "f94c9aac-7344-453e-dbd6-1ca9aa503ae8"
      },
      "execution_count": 1693,
      "outputs": [
        {
          "output_type": "execute_result",
          "data": {
            "text/plain": [
              "(61913, 31)"
            ]
          },
          "metadata": {},
          "execution_count": 1693
        }
      ]
    },
    {
      "cell_type": "markdown",
      "metadata": {
        "id": "1DRviFxS78V7"
      },
      "source": [
        "- **Adulto**"
      ]
    },
    {
      "cell_type": "code",
      "execution_count": 1694,
      "metadata": {
        "id": "svteXW62ZDwY",
        "colab": {
          "base_uri": "https://localhost:8080/"
        },
        "outputId": "448b93f9-124b-4a93-8184-8777a3002d45"
      },
      "outputs": [
        {
          "output_type": "execute_result",
          "data": {
            "text/plain": [
              "(61708, 31)"
            ]
          },
          "metadata": {},
          "execution_count": 1694
        }
      ],
      "source": [
        "df_train = df_train[(df_train['adults'] <= 6) & (df_train['adults'] >= 1)]\n",
        "df_train.shape"
      ]
    },
    {
      "cell_type": "markdown",
      "metadata": {
        "id": "hXYrJ6EvZQKd"
      },
      "source": [
        "- **Hijos**\n"
      ]
    },
    {
      "cell_type": "code",
      "execution_count": 1695,
      "metadata": {
        "id": "ogeUFdg4ZV5V",
        "colab": {
          "base_uri": "https://localhost:8080/"
        },
        "outputId": "05993c7d-a76d-4137-8416-767bd0fedd03"
      },
      "outputs": [
        {
          "output_type": "execute_result",
          "data": {
            "text/plain": [
              "(61703, 31)"
            ]
          },
          "metadata": {},
          "execution_count": 1695
        }
      ],
      "source": [
        "df_train = df_train[(df_train['children'] <= 4) & (df_train['children'] >= 0)]\n",
        "df_train.shape"
      ]
    },
    {
      "cell_type": "markdown",
      "metadata": {
        "id": "S1d-fRIEZl8P"
      },
      "source": [
        "- **Bebes**"
      ]
    },
    {
      "cell_type": "markdown",
      "metadata": {
        "id": "08rMAriJ9LJ3"
      },
      "source": [
        "Filtrado de los datos"
      ]
    },
    {
      "cell_type": "code",
      "execution_count": 1696,
      "metadata": {
        "id": "0NCMYttdZmcv",
        "colab": {
          "base_uri": "https://localhost:8080/"
        },
        "outputId": "7a2bf69d-4064-4167-d5b2-3aecac84d659"
      },
      "outputs": [
        {
          "output_type": "execute_result",
          "data": {
            "text/plain": [
              "(61702, 31)"
            ]
          },
          "metadata": {},
          "execution_count": 1696
        }
      ],
      "source": [
        "df_train = df_train[(df_train['babies'] <= 3) & (df_train['babies'] >= 0)]\n",
        "df_train.shape"
      ]
    },
    {
      "cell_type": "markdown",
      "metadata": {
        "id": "o8TTctAgcqXY"
      },
      "source": [
        "- **Playas de estacionamientos**"
      ]
    },
    {
      "cell_type": "code",
      "execution_count": 1697,
      "metadata": {
        "id": "Efd4a9BOc_-9",
        "colab": {
          "base_uri": "https://localhost:8080/"
        },
        "outputId": "6cfc9b69-cece-447d-b208-e9ff58e06b8c"
      },
      "outputs": [
        {
          "output_type": "execute_result",
          "data": {
            "text/plain": [
              "(61701, 31)"
            ]
          },
          "metadata": {},
          "execution_count": 1697
        }
      ],
      "source": [
        "df_train = df_train[(df_train['required_car_parking_spaces'] <= 3) & (df_train['required_car_parking_spaces'] >= 0)]\n",
        "df_train.shape"
      ]
    },
    {
      "cell_type": "markdown",
      "metadata": {
        "id": "vDZB9CXXgxiW"
      },
      "source": [
        "## - **Muestra del DataSet limpio**"
      ]
    },
    {
      "cell_type": "code",
      "execution_count": 1698,
      "metadata": {
        "colab": {
          "base_uri": "https://localhost:8080/",
          "height": 488
        },
        "id": "UjpHWw2fdx_-",
        "outputId": "affdb70c-90c6-4895-fe91-a5fb7bb5b5c5"
      },
      "outputs": [
        {
          "output_type": "execute_result",
          "data": {
            "text/plain": [
              "                                 media  mediana  moda    max\n",
              "lead_time                       112.27     78.0   0.0  629.0\n",
              "arrival_date_week_number         27.21     28.0  33.0   53.0\n",
              "stays_in_weekend_nights           0.92      1.0   0.0   16.0\n",
              "adults                            1.87      2.0   2.0    6.0\n",
              "children                          0.10      0.0   0.0    3.0\n",
              "babies                            0.01      0.0   0.0    2.0\n",
              "is_repeated_guest                 0.03      0.0   0.0    1.0\n",
              "previous_cancellations            0.12      0.0   0.0   26.0\n",
              "previous_bookings_not_canceled    0.12      0.0   0.0   70.0\n",
              "booking_changes                   0.19      0.0   0.0   17.0\n",
              "agent                            84.72     12.0   9.0  535.0\n",
              "adr                             102.55     95.0  62.0  510.0\n",
              "required_car_parking_spaces       0.05      0.0   0.0    3.0\n",
              "total_of_special_requests         0.52      0.0   0.0    5.0"
            ],
            "text/html": [
              "\n",
              "  <div id=\"df-90e3a344-d0f3-4dba-8ffe-51aa2783d19d\" class=\"colab-df-container\">\n",
              "    <div>\n",
              "<style scoped>\n",
              "    .dataframe tbody tr th:only-of-type {\n",
              "        vertical-align: middle;\n",
              "    }\n",
              "\n",
              "    .dataframe tbody tr th {\n",
              "        vertical-align: top;\n",
              "    }\n",
              "\n",
              "    .dataframe thead th {\n",
              "        text-align: right;\n",
              "    }\n",
              "</style>\n",
              "<table border=\"1\" class=\"dataframe\">\n",
              "  <thead>\n",
              "    <tr style=\"text-align: right;\">\n",
              "      <th></th>\n",
              "      <th>media</th>\n",
              "      <th>mediana</th>\n",
              "      <th>moda</th>\n",
              "      <th>max</th>\n",
              "    </tr>\n",
              "  </thead>\n",
              "  <tbody>\n",
              "    <tr>\n",
              "      <th>lead_time</th>\n",
              "      <td>112.27</td>\n",
              "      <td>78.0</td>\n",
              "      <td>0.0</td>\n",
              "      <td>629.0</td>\n",
              "    </tr>\n",
              "    <tr>\n",
              "      <th>arrival_date_week_number</th>\n",
              "      <td>27.21</td>\n",
              "      <td>28.0</td>\n",
              "      <td>33.0</td>\n",
              "      <td>53.0</td>\n",
              "    </tr>\n",
              "    <tr>\n",
              "      <th>stays_in_weekend_nights</th>\n",
              "      <td>0.92</td>\n",
              "      <td>1.0</td>\n",
              "      <td>0.0</td>\n",
              "      <td>16.0</td>\n",
              "    </tr>\n",
              "    <tr>\n",
              "      <th>adults</th>\n",
              "      <td>1.87</td>\n",
              "      <td>2.0</td>\n",
              "      <td>2.0</td>\n",
              "      <td>6.0</td>\n",
              "    </tr>\n",
              "    <tr>\n",
              "      <th>children</th>\n",
              "      <td>0.10</td>\n",
              "      <td>0.0</td>\n",
              "      <td>0.0</td>\n",
              "      <td>3.0</td>\n",
              "    </tr>\n",
              "    <tr>\n",
              "      <th>babies</th>\n",
              "      <td>0.01</td>\n",
              "      <td>0.0</td>\n",
              "      <td>0.0</td>\n",
              "      <td>2.0</td>\n",
              "    </tr>\n",
              "    <tr>\n",
              "      <th>is_repeated_guest</th>\n",
              "      <td>0.03</td>\n",
              "      <td>0.0</td>\n",
              "      <td>0.0</td>\n",
              "      <td>1.0</td>\n",
              "    </tr>\n",
              "    <tr>\n",
              "      <th>previous_cancellations</th>\n",
              "      <td>0.12</td>\n",
              "      <td>0.0</td>\n",
              "      <td>0.0</td>\n",
              "      <td>26.0</td>\n",
              "    </tr>\n",
              "    <tr>\n",
              "      <th>previous_bookings_not_canceled</th>\n",
              "      <td>0.12</td>\n",
              "      <td>0.0</td>\n",
              "      <td>0.0</td>\n",
              "      <td>70.0</td>\n",
              "    </tr>\n",
              "    <tr>\n",
              "      <th>booking_changes</th>\n",
              "      <td>0.19</td>\n",
              "      <td>0.0</td>\n",
              "      <td>0.0</td>\n",
              "      <td>17.0</td>\n",
              "    </tr>\n",
              "    <tr>\n",
              "      <th>agent</th>\n",
              "      <td>84.72</td>\n",
              "      <td>12.0</td>\n",
              "      <td>9.0</td>\n",
              "      <td>535.0</td>\n",
              "    </tr>\n",
              "    <tr>\n",
              "      <th>adr</th>\n",
              "      <td>102.55</td>\n",
              "      <td>95.0</td>\n",
              "      <td>62.0</td>\n",
              "      <td>510.0</td>\n",
              "    </tr>\n",
              "    <tr>\n",
              "      <th>required_car_parking_spaces</th>\n",
              "      <td>0.05</td>\n",
              "      <td>0.0</td>\n",
              "      <td>0.0</td>\n",
              "      <td>3.0</td>\n",
              "    </tr>\n",
              "    <tr>\n",
              "      <th>total_of_special_requests</th>\n",
              "      <td>0.52</td>\n",
              "      <td>0.0</td>\n",
              "      <td>0.0</td>\n",
              "      <td>5.0</td>\n",
              "    </tr>\n",
              "  </tbody>\n",
              "</table>\n",
              "</div>\n",
              "    <div class=\"colab-df-buttons\">\n",
              "\n",
              "  <div class=\"colab-df-container\">\n",
              "    <button class=\"colab-df-convert\" onclick=\"convertToInteractive('df-90e3a344-d0f3-4dba-8ffe-51aa2783d19d')\"\n",
              "            title=\"Convert this dataframe to an interactive table.\"\n",
              "            style=\"display:none;\">\n",
              "\n",
              "  <svg xmlns=\"http://www.w3.org/2000/svg\" height=\"24px\" viewBox=\"0 -960 960 960\">\n",
              "    <path d=\"M120-120v-720h720v720H120Zm60-500h600v-160H180v160Zm220 220h160v-160H400v160Zm0 220h160v-160H400v160ZM180-400h160v-160H180v160Zm440 0h160v-160H620v160ZM180-180h160v-160H180v160Zm440 0h160v-160H620v160Z\"/>\n",
              "  </svg>\n",
              "    </button>\n",
              "\n",
              "  <style>\n",
              "    .colab-df-container {\n",
              "      display:flex;\n",
              "      gap: 12px;\n",
              "    }\n",
              "\n",
              "    .colab-df-convert {\n",
              "      background-color: #E8F0FE;\n",
              "      border: none;\n",
              "      border-radius: 50%;\n",
              "      cursor: pointer;\n",
              "      display: none;\n",
              "      fill: #1967D2;\n",
              "      height: 32px;\n",
              "      padding: 0 0 0 0;\n",
              "      width: 32px;\n",
              "    }\n",
              "\n",
              "    .colab-df-convert:hover {\n",
              "      background-color: #E2EBFA;\n",
              "      box-shadow: 0px 1px 2px rgba(60, 64, 67, 0.3), 0px 1px 3px 1px rgba(60, 64, 67, 0.15);\n",
              "      fill: #174EA6;\n",
              "    }\n",
              "\n",
              "    .colab-df-buttons div {\n",
              "      margin-bottom: 4px;\n",
              "    }\n",
              "\n",
              "    [theme=dark] .colab-df-convert {\n",
              "      background-color: #3B4455;\n",
              "      fill: #D2E3FC;\n",
              "    }\n",
              "\n",
              "    [theme=dark] .colab-df-convert:hover {\n",
              "      background-color: #434B5C;\n",
              "      box-shadow: 0px 1px 3px 1px rgba(0, 0, 0, 0.15);\n",
              "      filter: drop-shadow(0px 1px 2px rgba(0, 0, 0, 0.3));\n",
              "      fill: #FFFFFF;\n",
              "    }\n",
              "  </style>\n",
              "\n",
              "    <script>\n",
              "      const buttonEl =\n",
              "        document.querySelector('#df-90e3a344-d0f3-4dba-8ffe-51aa2783d19d button.colab-df-convert');\n",
              "      buttonEl.style.display =\n",
              "        google.colab.kernel.accessAllowed ? 'block' : 'none';\n",
              "\n",
              "      async function convertToInteractive(key) {\n",
              "        const element = document.querySelector('#df-90e3a344-d0f3-4dba-8ffe-51aa2783d19d');\n",
              "        const dataTable =\n",
              "          await google.colab.kernel.invokeFunction('convertToInteractive',\n",
              "                                                    [key], {});\n",
              "        if (!dataTable) return;\n",
              "\n",
              "        const docLinkHtml = 'Like what you see? Visit the ' +\n",
              "          '<a target=\"_blank\" href=https://colab.research.google.com/notebooks/data_table.ipynb>data table notebook</a>'\n",
              "          + ' to learn more about interactive tables.';\n",
              "        element.innerHTML = '';\n",
              "        dataTable['output_type'] = 'display_data';\n",
              "        await google.colab.output.renderOutput(dataTable, element);\n",
              "        const docLink = document.createElement('div');\n",
              "        docLink.innerHTML = docLinkHtml;\n",
              "        element.appendChild(docLink);\n",
              "      }\n",
              "    </script>\n",
              "  </div>\n",
              "\n",
              "\n",
              "<div id=\"df-289048f8-5d0c-4fb9-871b-8cdf45012778\">\n",
              "  <button class=\"colab-df-quickchart\" onclick=\"quickchart('df-289048f8-5d0c-4fb9-871b-8cdf45012778')\"\n",
              "            title=\"Suggest charts.\"\n",
              "            style=\"display:none;\">\n",
              "\n",
              "<svg xmlns=\"http://www.w3.org/2000/svg\" height=\"24px\"viewBox=\"0 0 24 24\"\n",
              "     width=\"24px\">\n",
              "    <g>\n",
              "        <path d=\"M19 3H5c-1.1 0-2 .9-2 2v14c0 1.1.9 2 2 2h14c1.1 0 2-.9 2-2V5c0-1.1-.9-2-2-2zM9 17H7v-7h2v7zm4 0h-2V7h2v10zm4 0h-2v-4h2v4z\"/>\n",
              "    </g>\n",
              "</svg>\n",
              "  </button>\n",
              "\n",
              "<style>\n",
              "  .colab-df-quickchart {\n",
              "      --bg-color: #E8F0FE;\n",
              "      --fill-color: #1967D2;\n",
              "      --hover-bg-color: #E2EBFA;\n",
              "      --hover-fill-color: #174EA6;\n",
              "      --disabled-fill-color: #AAA;\n",
              "      --disabled-bg-color: #DDD;\n",
              "  }\n",
              "\n",
              "  [theme=dark] .colab-df-quickchart {\n",
              "      --bg-color: #3B4455;\n",
              "      --fill-color: #D2E3FC;\n",
              "      --hover-bg-color: #434B5C;\n",
              "      --hover-fill-color: #FFFFFF;\n",
              "      --disabled-bg-color: #3B4455;\n",
              "      --disabled-fill-color: #666;\n",
              "  }\n",
              "\n",
              "  .colab-df-quickchart {\n",
              "    background-color: var(--bg-color);\n",
              "    border: none;\n",
              "    border-radius: 50%;\n",
              "    cursor: pointer;\n",
              "    display: none;\n",
              "    fill: var(--fill-color);\n",
              "    height: 32px;\n",
              "    padding: 0;\n",
              "    width: 32px;\n",
              "  }\n",
              "\n",
              "  .colab-df-quickchart:hover {\n",
              "    background-color: var(--hover-bg-color);\n",
              "    box-shadow: 0 1px 2px rgba(60, 64, 67, 0.3), 0 1px 3px 1px rgba(60, 64, 67, 0.15);\n",
              "    fill: var(--button-hover-fill-color);\n",
              "  }\n",
              "\n",
              "  .colab-df-quickchart-complete:disabled,\n",
              "  .colab-df-quickchart-complete:disabled:hover {\n",
              "    background-color: var(--disabled-bg-color);\n",
              "    fill: var(--disabled-fill-color);\n",
              "    box-shadow: none;\n",
              "  }\n",
              "\n",
              "  .colab-df-spinner {\n",
              "    border: 2px solid var(--fill-color);\n",
              "    border-color: transparent;\n",
              "    border-bottom-color: var(--fill-color);\n",
              "    animation:\n",
              "      spin 1s steps(1) infinite;\n",
              "  }\n",
              "\n",
              "  @keyframes spin {\n",
              "    0% {\n",
              "      border-color: transparent;\n",
              "      border-bottom-color: var(--fill-color);\n",
              "      border-left-color: var(--fill-color);\n",
              "    }\n",
              "    20% {\n",
              "      border-color: transparent;\n",
              "      border-left-color: var(--fill-color);\n",
              "      border-top-color: var(--fill-color);\n",
              "    }\n",
              "    30% {\n",
              "      border-color: transparent;\n",
              "      border-left-color: var(--fill-color);\n",
              "      border-top-color: var(--fill-color);\n",
              "      border-right-color: var(--fill-color);\n",
              "    }\n",
              "    40% {\n",
              "      border-color: transparent;\n",
              "      border-right-color: var(--fill-color);\n",
              "      border-top-color: var(--fill-color);\n",
              "    }\n",
              "    60% {\n",
              "      border-color: transparent;\n",
              "      border-right-color: var(--fill-color);\n",
              "    }\n",
              "    80% {\n",
              "      border-color: transparent;\n",
              "      border-right-color: var(--fill-color);\n",
              "      border-bottom-color: var(--fill-color);\n",
              "    }\n",
              "    90% {\n",
              "      border-color: transparent;\n",
              "      border-bottom-color: var(--fill-color);\n",
              "    }\n",
              "  }\n",
              "</style>\n",
              "\n",
              "  <script>\n",
              "    async function quickchart(key) {\n",
              "      const quickchartButtonEl =\n",
              "        document.querySelector('#' + key + ' button');\n",
              "      quickchartButtonEl.disabled = true;  // To prevent multiple clicks.\n",
              "      quickchartButtonEl.classList.add('colab-df-spinner');\n",
              "      try {\n",
              "        const charts = await google.colab.kernel.invokeFunction(\n",
              "            'suggestCharts', [key], {});\n",
              "      } catch (error) {\n",
              "        console.error('Error during call to suggestCharts:', error);\n",
              "      }\n",
              "      quickchartButtonEl.classList.remove('colab-df-spinner');\n",
              "      quickchartButtonEl.classList.add('colab-df-quickchart-complete');\n",
              "    }\n",
              "    (() => {\n",
              "      let quickchartButtonEl =\n",
              "        document.querySelector('#df-289048f8-5d0c-4fb9-871b-8cdf45012778 button');\n",
              "      quickchartButtonEl.style.display =\n",
              "        google.colab.kernel.accessAllowed ? 'block' : 'none';\n",
              "    })();\n",
              "  </script>\n",
              "</div>\n",
              "    </div>\n",
              "  </div>\n"
            ]
          },
          "metadata": {},
          "execution_count": 1698
        }
      ],
      "source": [
        "nombre_variables_cuantitativas = ['lead_time','arrival_date_week_number', 'stays_in_weekend_nights', 'adults',\n",
        "                                  'children','babies', 'is_repeated_guest', 'previous_cancellations', 'previous_bookings_not_canceled',\n",
        "                                  'booking_changes', 'agent', 'adr', 'required_car_parking_spaces', 'total_of_special_requests' ]\n",
        "\n",
        "ds_cuantitativo = df_train.loc[:, nombre_variables_cuantitativas]\n",
        "df = pd.DataFrame()\n",
        "df['media'] = round(ds_cuantitativo.mean(), 2)\n",
        "df['mediana'] = ds_cuantitativo.median()\n",
        "df['moda'] = ds_cuantitativo.mode().iloc[0]\n",
        "df['max'] = ds_cuantitativo.max()\n",
        "df"
      ]
    },
    {
      "cell_type": "markdown",
      "source": [
        "### » Ingeniería de Features"
      ],
      "metadata": {
        "id": "gFa1NKvfwXdv"
      }
    },
    {
      "cell_type": "code",
      "source": [
        "ds_trabajo_train = ds_train.copy()\n",
        "ds_trabajo_test = ds_test.copy()\n",
        "\n",
        "df_trabajo_train = pd.DataFrame(ds_trabajo_train)\n",
        "df_trabajo_test = pd.DataFrame(ds_trabajo_test)"
      ],
      "metadata": {
        "id": "KPVPpOBBy8lm"
      },
      "execution_count": 1699,
      "outputs": []
    },
    {
      "cell_type": "code",
      "source": [
        "df_trabajo_test.isna().sum()"
      ],
      "metadata": {
        "colab": {
          "base_uri": "https://localhost:8080/"
        },
        "id": "tw53vWQQyqiO",
        "outputId": "b47602a1-dcf9-4f55-d3a8-4a5856052bab"
      },
      "execution_count": 1700,
      "outputs": [
        {
          "output_type": "execute_result",
          "data": {
            "text/plain": [
              "hotel                             0\n",
              "lead_time                         0\n",
              "arrival_date_year                 0\n",
              "arrival_date_month                0\n",
              "arrival_date_week_number          0\n",
              "arrival_date_day_of_month         0\n",
              "stays_in_weekend_nights           0\n",
              "stays_in_week_nights              0\n",
              "adults                            0\n",
              "children                          0\n",
              "babies                            0\n",
              "meal                              0\n",
              "country                           0\n",
              "market_segment                    0\n",
              "distribution_channel              0\n",
              "is_repeated_guest                 0\n",
              "previous_cancellations            0\n",
              "previous_bookings_not_canceled    0\n",
              "reserved_room_type                0\n",
              "assigned_room_type                0\n",
              "booking_changes                   0\n",
              "deposit_type                      0\n",
              "agent                             0\n",
              "company                           0\n",
              "days_in_waiting_list              0\n",
              "customer_type                     0\n",
              "adr                               0\n",
              "required_car_parking_spaces       0\n",
              "total_of_special_requests         0\n",
              "reservation_status_date           0\n",
              "id                                0\n",
              "dtype: int64"
            ]
          },
          "metadata": {},
          "execution_count": 1700
        }
      ]
    },
    {
      "cell_type": "code",
      "source": [
        "month_to_number = {\n",
        "    'January': 1,\n",
        "    'February': 2,\n",
        "    'March': 3,\n",
        "    'April': 4,\n",
        "    'May': 5,\n",
        "    'June': 6,\n",
        "    'July': 7,\n",
        "    'August': 8,\n",
        "    'September': 9,\n",
        "    'October': 10,\n",
        "    'November': 11,\n",
        "    'December': 12\n",
        "}\n"
      ],
      "metadata": {
        "id": "opqis5ZWwYGH"
      },
      "execution_count": 1701,
      "outputs": []
    },
    {
      "cell_type": "code",
      "source": [
        "df_trabajo_train['total_guests'] = df_trabajo_train['adults'] + df_trabajo_train['children']\n",
        "df_trabajo_test['total_guests'] = df_trabajo_test['adults'] + df_trabajo_test['children']\n",
        "\n",
        "df_trabajo_train['room_type_match'] = df_trabajo_train['assigned_room_type'] == df_trabajo_train['reserved_room_type']\n",
        "df_trabajo_test['room_type_match'] = df_trabajo_test['assigned_room_type'] == df_trabajo_test['reserved_room_type']\n",
        "\n",
        "df_trabajo_train['days_in_waiting_list'] = ds_trabajo_train['days_in_waiting_list'] >= 0\n",
        "\n",
        "df_trabajo_train['cancel_to_noncancel_ratio'] = df_trabajo_train['previous_cancellations'] / (1 + df_trabajo_train['previous_bookings_not_canceled'])\n",
        "df_trabajo_test['cancel_to_noncancel_ratio'] = df_trabajo_test['previous_cancellations'] / (1 + df_trabajo_test['previous_bookings_not_canceled'])\n",
        "\n",
        "df_trabajo_train['lead_time_category'] = pd.cut(df_trabajo_train['lead_time'], bins=[0, 10, 50, 100, 500, 10000], labels=['Very Short', 'Short', 'Medium', 'Long', 'Very Long'], right=False)\n",
        "df_trabajo_test['lead_time_category'] = pd.cut(df_trabajo_test['lead_time'], bins=[0, 10, 50, 100, 500, 10000], labels=['Very Short', 'Short', 'Medium', 'Long', 'Very Long'], right=False)\n",
        "\n",
        "df_trabajo_train['days_in_waiting_list_category'] = pd.cut(df_trabajo_train['days_in_waiting_list'], bins=[0, 10, 50, 100, 500, 10000], labels=['Very Short', 'Short', 'Medium', 'Long', 'Very Long'], right=False)\n",
        "df_trabajo_test['days_in_waiting_list_category'] = pd.cut(df_trabajo_test['days_in_waiting_list'], bins=[0, 10, 50, 100, 500, 10000], labels=['Very Short', 'Short', 'Medium', 'Long', 'Very Long'], right=False)"
      ],
      "metadata": {
        "id": "HWSMLtvVwYjV"
      },
      "execution_count": 1702,
      "outputs": []
    },
    {
      "cell_type": "code",
      "source": [
        "df_trabajo_test['arrival_date_month'] = df_trabajo_test['arrival_date_month'].map(month_to_number)\n",
        "df_trabajo_train['arrival_date_month'] = df_trabajo_train['arrival_date_month'].map(month_to_number)"
      ],
      "metadata": {
        "id": "VFack0KawY32"
      },
      "execution_count": 1703,
      "outputs": []
    },
    {
      "cell_type": "code",
      "source": [
        "df_trabajo_test['Fecha'] = df_trabajo_test.apply(lambda row: str(row['arrival_date_year']) + '-' + str(row['arrival_date_month']) + '-' + str(row['arrival_date_day_of_month']), axis=1)\n",
        "df_trabajo_test['Fecha'] = pd.to_datetime(df_trabajo_test['Fecha'])"
      ],
      "metadata": {
        "id": "DOXcH1QKwZHV"
      },
      "execution_count": 1704,
      "outputs": []
    },
    {
      "cell_type": "code",
      "source": [
        "df_trabajo_test['DoY'] = df_trabajo_test['Fecha'].dt.dayofyear\n",
        "#df_test['Valueofday'] = min((365 - df_test['DoY']), (df_test['DoY'] - 1))\n",
        "df_trabajo_train['Fecha'] = df_trabajo_train.apply(lambda row: str(row['arrival_date_year']) + '-' + str(row['arrival_date_month']) + '-' + str(row['arrival_date_day_of_month']), axis=1)\n",
        "df_trabajo_train['Fecha'] = pd.to_datetime(df_trabajo_train['Fecha'])\n",
        "\n",
        "df_trabajo_train['DoY'] = df_trabajo_train['Fecha'].dt.dayofyear\n",
        "\n",
        "df_trabajo_train['dif'] = df_trabajo_train['DoY'].apply(lambda x: min((366 - x), (x - 1)))\n",
        "df_trabajo_test['dif'] = df_trabajo_test['DoY'].apply(lambda x: min((366 - x), (x - 1)))\n",
        "\n",
        "df_trabajo_train.head()"
      ],
      "metadata": {
        "colab": {
          "base_uri": "https://localhost:8080/",
          "height": 516
        },
        "id": "Oz5zbPw-w2uV",
        "outputId": "34f14351-b2f5-4b27-ef62-e6d6a71dc7fa"
      },
      "execution_count": 1705,
      "outputs": [
        {
          "output_type": "execute_result",
          "data": {
            "text/plain": [
              "          hotel  lead_time  arrival_date_year  arrival_date_month  \\\n",
              "0    City Hotel         49               2016                   9   \n",
              "1  Resort Hotel          4               2015                  10   \n",
              "2    City Hotel         25               2016                  10   \n",
              "3    City Hotel         26               2016                  12   \n",
              "4    City Hotel        104               2017                   3   \n",
              "\n",
              "   arrival_date_week_number  arrival_date_day_of_month  \\\n",
              "0                        37                          5   \n",
              "1                        44                         31   \n",
              "2                        42                         13   \n",
              "3                        51                         12   \n",
              "4                        12                         19   \n",
              "\n",
              "   stays_in_weekend_nights  stays_in_week_nights  adults  children  ...  \\\n",
              "0                        1                     2       1       0.0  ...   \n",
              "1                        0                     1       2       0.0  ...   \n",
              "2                        0                     1       2       2.0  ...   \n",
              "3                        2                     5       2       0.0  ...   \n",
              "4                        2                     5       2       0.0  ...   \n",
              "\n",
              "                                     id is_canceled total_guests  \\\n",
              "0  7aa4cc6b-b92c-4061-b21d-4f9e0cac4689           1          1.0   \n",
              "1  b1428f80-c56c-4ae4-91a9-6962edae08b1           0          2.0   \n",
              "2  2226c018-ea20-4c4e-8f71-ea66aee70d7c           0          4.0   \n",
              "3  314f56dc-2e4d-4298-9bdd-27bb008bffff           1          2.0   \n",
              "4  28c75445-c603-413a-babf-ad377018b592           0          2.0   \n",
              "\n",
              "  room_type_match cancel_to_noncancel_ratio  lead_time_category  \\\n",
              "0            True                       0.0               Short   \n",
              "1            True                       0.0          Very Short   \n",
              "2            True                       0.0               Short   \n",
              "3            True                       0.0               Short   \n",
              "4            True                       0.0                Long   \n",
              "\n",
              "   days_in_waiting_list_category      Fecha  DoY  dif  \n",
              "0                     Very Short 2016-09-05  249  117  \n",
              "1                     Very Short 2015-10-31  304   62  \n",
              "2                     Very Short 2016-10-13  287   79  \n",
              "3                     Very Short 2016-12-12  347   19  \n",
              "4                     Very Short 2017-03-19   78   77  \n",
              "\n",
              "[5 rows x 39 columns]"
            ],
            "text/html": [
              "\n",
              "  <div id=\"df-0a35808e-0592-4c66-bfd5-f29e8b333a11\" class=\"colab-df-container\">\n",
              "    <div>\n",
              "<style scoped>\n",
              "    .dataframe tbody tr th:only-of-type {\n",
              "        vertical-align: middle;\n",
              "    }\n",
              "\n",
              "    .dataframe tbody tr th {\n",
              "        vertical-align: top;\n",
              "    }\n",
              "\n",
              "    .dataframe thead th {\n",
              "        text-align: right;\n",
              "    }\n",
              "</style>\n",
              "<table border=\"1\" class=\"dataframe\">\n",
              "  <thead>\n",
              "    <tr style=\"text-align: right;\">\n",
              "      <th></th>\n",
              "      <th>hotel</th>\n",
              "      <th>lead_time</th>\n",
              "      <th>arrival_date_year</th>\n",
              "      <th>arrival_date_month</th>\n",
              "      <th>arrival_date_week_number</th>\n",
              "      <th>arrival_date_day_of_month</th>\n",
              "      <th>stays_in_weekend_nights</th>\n",
              "      <th>stays_in_week_nights</th>\n",
              "      <th>adults</th>\n",
              "      <th>children</th>\n",
              "      <th>...</th>\n",
              "      <th>id</th>\n",
              "      <th>is_canceled</th>\n",
              "      <th>total_guests</th>\n",
              "      <th>room_type_match</th>\n",
              "      <th>cancel_to_noncancel_ratio</th>\n",
              "      <th>lead_time_category</th>\n",
              "      <th>days_in_waiting_list_category</th>\n",
              "      <th>Fecha</th>\n",
              "      <th>DoY</th>\n",
              "      <th>dif</th>\n",
              "    </tr>\n",
              "  </thead>\n",
              "  <tbody>\n",
              "    <tr>\n",
              "      <th>0</th>\n",
              "      <td>City Hotel</td>\n",
              "      <td>49</td>\n",
              "      <td>2016</td>\n",
              "      <td>9</td>\n",
              "      <td>37</td>\n",
              "      <td>5</td>\n",
              "      <td>1</td>\n",
              "      <td>2</td>\n",
              "      <td>1</td>\n",
              "      <td>0.0</td>\n",
              "      <td>...</td>\n",
              "      <td>7aa4cc6b-b92c-4061-b21d-4f9e0cac4689</td>\n",
              "      <td>1</td>\n",
              "      <td>1.0</td>\n",
              "      <td>True</td>\n",
              "      <td>0.0</td>\n",
              "      <td>Short</td>\n",
              "      <td>Very Short</td>\n",
              "      <td>2016-09-05</td>\n",
              "      <td>249</td>\n",
              "      <td>117</td>\n",
              "    </tr>\n",
              "    <tr>\n",
              "      <th>1</th>\n",
              "      <td>Resort Hotel</td>\n",
              "      <td>4</td>\n",
              "      <td>2015</td>\n",
              "      <td>10</td>\n",
              "      <td>44</td>\n",
              "      <td>31</td>\n",
              "      <td>0</td>\n",
              "      <td>1</td>\n",
              "      <td>2</td>\n",
              "      <td>0.0</td>\n",
              "      <td>...</td>\n",
              "      <td>b1428f80-c56c-4ae4-91a9-6962edae08b1</td>\n",
              "      <td>0</td>\n",
              "      <td>2.0</td>\n",
              "      <td>True</td>\n",
              "      <td>0.0</td>\n",
              "      <td>Very Short</td>\n",
              "      <td>Very Short</td>\n",
              "      <td>2015-10-31</td>\n",
              "      <td>304</td>\n",
              "      <td>62</td>\n",
              "    </tr>\n",
              "    <tr>\n",
              "      <th>2</th>\n",
              "      <td>City Hotel</td>\n",
              "      <td>25</td>\n",
              "      <td>2016</td>\n",
              "      <td>10</td>\n",
              "      <td>42</td>\n",
              "      <td>13</td>\n",
              "      <td>0</td>\n",
              "      <td>1</td>\n",
              "      <td>2</td>\n",
              "      <td>2.0</td>\n",
              "      <td>...</td>\n",
              "      <td>2226c018-ea20-4c4e-8f71-ea66aee70d7c</td>\n",
              "      <td>0</td>\n",
              "      <td>4.0</td>\n",
              "      <td>True</td>\n",
              "      <td>0.0</td>\n",
              "      <td>Short</td>\n",
              "      <td>Very Short</td>\n",
              "      <td>2016-10-13</td>\n",
              "      <td>287</td>\n",
              "      <td>79</td>\n",
              "    </tr>\n",
              "    <tr>\n",
              "      <th>3</th>\n",
              "      <td>City Hotel</td>\n",
              "      <td>26</td>\n",
              "      <td>2016</td>\n",
              "      <td>12</td>\n",
              "      <td>51</td>\n",
              "      <td>12</td>\n",
              "      <td>2</td>\n",
              "      <td>5</td>\n",
              "      <td>2</td>\n",
              "      <td>0.0</td>\n",
              "      <td>...</td>\n",
              "      <td>314f56dc-2e4d-4298-9bdd-27bb008bffff</td>\n",
              "      <td>1</td>\n",
              "      <td>2.0</td>\n",
              "      <td>True</td>\n",
              "      <td>0.0</td>\n",
              "      <td>Short</td>\n",
              "      <td>Very Short</td>\n",
              "      <td>2016-12-12</td>\n",
              "      <td>347</td>\n",
              "      <td>19</td>\n",
              "    </tr>\n",
              "    <tr>\n",
              "      <th>4</th>\n",
              "      <td>City Hotel</td>\n",
              "      <td>104</td>\n",
              "      <td>2017</td>\n",
              "      <td>3</td>\n",
              "      <td>12</td>\n",
              "      <td>19</td>\n",
              "      <td>2</td>\n",
              "      <td>5</td>\n",
              "      <td>2</td>\n",
              "      <td>0.0</td>\n",
              "      <td>...</td>\n",
              "      <td>28c75445-c603-413a-babf-ad377018b592</td>\n",
              "      <td>0</td>\n",
              "      <td>2.0</td>\n",
              "      <td>True</td>\n",
              "      <td>0.0</td>\n",
              "      <td>Long</td>\n",
              "      <td>Very Short</td>\n",
              "      <td>2017-03-19</td>\n",
              "      <td>78</td>\n",
              "      <td>77</td>\n",
              "    </tr>\n",
              "  </tbody>\n",
              "</table>\n",
              "<p>5 rows × 39 columns</p>\n",
              "</div>\n",
              "    <div class=\"colab-df-buttons\">\n",
              "\n",
              "  <div class=\"colab-df-container\">\n",
              "    <button class=\"colab-df-convert\" onclick=\"convertToInteractive('df-0a35808e-0592-4c66-bfd5-f29e8b333a11')\"\n",
              "            title=\"Convert this dataframe to an interactive table.\"\n",
              "            style=\"display:none;\">\n",
              "\n",
              "  <svg xmlns=\"http://www.w3.org/2000/svg\" height=\"24px\" viewBox=\"0 -960 960 960\">\n",
              "    <path d=\"M120-120v-720h720v720H120Zm60-500h600v-160H180v160Zm220 220h160v-160H400v160Zm0 220h160v-160H400v160ZM180-400h160v-160H180v160Zm440 0h160v-160H620v160ZM180-180h160v-160H180v160Zm440 0h160v-160H620v160Z\"/>\n",
              "  </svg>\n",
              "    </button>\n",
              "\n",
              "  <style>\n",
              "    .colab-df-container {\n",
              "      display:flex;\n",
              "      gap: 12px;\n",
              "    }\n",
              "\n",
              "    .colab-df-convert {\n",
              "      background-color: #E8F0FE;\n",
              "      border: none;\n",
              "      border-radius: 50%;\n",
              "      cursor: pointer;\n",
              "      display: none;\n",
              "      fill: #1967D2;\n",
              "      height: 32px;\n",
              "      padding: 0 0 0 0;\n",
              "      width: 32px;\n",
              "    }\n",
              "\n",
              "    .colab-df-convert:hover {\n",
              "      background-color: #E2EBFA;\n",
              "      box-shadow: 0px 1px 2px rgba(60, 64, 67, 0.3), 0px 1px 3px 1px rgba(60, 64, 67, 0.15);\n",
              "      fill: #174EA6;\n",
              "    }\n",
              "\n",
              "    .colab-df-buttons div {\n",
              "      margin-bottom: 4px;\n",
              "    }\n",
              "\n",
              "    [theme=dark] .colab-df-convert {\n",
              "      background-color: #3B4455;\n",
              "      fill: #D2E3FC;\n",
              "    }\n",
              "\n",
              "    [theme=dark] .colab-df-convert:hover {\n",
              "      background-color: #434B5C;\n",
              "      box-shadow: 0px 1px 3px 1px rgba(0, 0, 0, 0.15);\n",
              "      filter: drop-shadow(0px 1px 2px rgba(0, 0, 0, 0.3));\n",
              "      fill: #FFFFFF;\n",
              "    }\n",
              "  </style>\n",
              "\n",
              "    <script>\n",
              "      const buttonEl =\n",
              "        document.querySelector('#df-0a35808e-0592-4c66-bfd5-f29e8b333a11 button.colab-df-convert');\n",
              "      buttonEl.style.display =\n",
              "        google.colab.kernel.accessAllowed ? 'block' : 'none';\n",
              "\n",
              "      async function convertToInteractive(key) {\n",
              "        const element = document.querySelector('#df-0a35808e-0592-4c66-bfd5-f29e8b333a11');\n",
              "        const dataTable =\n",
              "          await google.colab.kernel.invokeFunction('convertToInteractive',\n",
              "                                                    [key], {});\n",
              "        if (!dataTable) return;\n",
              "\n",
              "        const docLinkHtml = 'Like what you see? Visit the ' +\n",
              "          '<a target=\"_blank\" href=https://colab.research.google.com/notebooks/data_table.ipynb>data table notebook</a>'\n",
              "          + ' to learn more about interactive tables.';\n",
              "        element.innerHTML = '';\n",
              "        dataTable['output_type'] = 'display_data';\n",
              "        await google.colab.output.renderOutput(dataTable, element);\n",
              "        const docLink = document.createElement('div');\n",
              "        docLink.innerHTML = docLinkHtml;\n",
              "        element.appendChild(docLink);\n",
              "      }\n",
              "    </script>\n",
              "  </div>\n",
              "\n",
              "\n",
              "<div id=\"df-447efb57-cd95-4cc7-b3d9-b75d4a5cf9b4\">\n",
              "  <button class=\"colab-df-quickchart\" onclick=\"quickchart('df-447efb57-cd95-4cc7-b3d9-b75d4a5cf9b4')\"\n",
              "            title=\"Suggest charts.\"\n",
              "            style=\"display:none;\">\n",
              "\n",
              "<svg xmlns=\"http://www.w3.org/2000/svg\" height=\"24px\"viewBox=\"0 0 24 24\"\n",
              "     width=\"24px\">\n",
              "    <g>\n",
              "        <path d=\"M19 3H5c-1.1 0-2 .9-2 2v14c0 1.1.9 2 2 2h14c1.1 0 2-.9 2-2V5c0-1.1-.9-2-2-2zM9 17H7v-7h2v7zm4 0h-2V7h2v10zm4 0h-2v-4h2v4z\"/>\n",
              "    </g>\n",
              "</svg>\n",
              "  </button>\n",
              "\n",
              "<style>\n",
              "  .colab-df-quickchart {\n",
              "      --bg-color: #E8F0FE;\n",
              "      --fill-color: #1967D2;\n",
              "      --hover-bg-color: #E2EBFA;\n",
              "      --hover-fill-color: #174EA6;\n",
              "      --disabled-fill-color: #AAA;\n",
              "      --disabled-bg-color: #DDD;\n",
              "  }\n",
              "\n",
              "  [theme=dark] .colab-df-quickchart {\n",
              "      --bg-color: #3B4455;\n",
              "      --fill-color: #D2E3FC;\n",
              "      --hover-bg-color: #434B5C;\n",
              "      --hover-fill-color: #FFFFFF;\n",
              "      --disabled-bg-color: #3B4455;\n",
              "      --disabled-fill-color: #666;\n",
              "  }\n",
              "\n",
              "  .colab-df-quickchart {\n",
              "    background-color: var(--bg-color);\n",
              "    border: none;\n",
              "    border-radius: 50%;\n",
              "    cursor: pointer;\n",
              "    display: none;\n",
              "    fill: var(--fill-color);\n",
              "    height: 32px;\n",
              "    padding: 0;\n",
              "    width: 32px;\n",
              "  }\n",
              "\n",
              "  .colab-df-quickchart:hover {\n",
              "    background-color: var(--hover-bg-color);\n",
              "    box-shadow: 0 1px 2px rgba(60, 64, 67, 0.3), 0 1px 3px 1px rgba(60, 64, 67, 0.15);\n",
              "    fill: var(--button-hover-fill-color);\n",
              "  }\n",
              "\n",
              "  .colab-df-quickchart-complete:disabled,\n",
              "  .colab-df-quickchart-complete:disabled:hover {\n",
              "    background-color: var(--disabled-bg-color);\n",
              "    fill: var(--disabled-fill-color);\n",
              "    box-shadow: none;\n",
              "  }\n",
              "\n",
              "  .colab-df-spinner {\n",
              "    border: 2px solid var(--fill-color);\n",
              "    border-color: transparent;\n",
              "    border-bottom-color: var(--fill-color);\n",
              "    animation:\n",
              "      spin 1s steps(1) infinite;\n",
              "  }\n",
              "\n",
              "  @keyframes spin {\n",
              "    0% {\n",
              "      border-color: transparent;\n",
              "      border-bottom-color: var(--fill-color);\n",
              "      border-left-color: var(--fill-color);\n",
              "    }\n",
              "    20% {\n",
              "      border-color: transparent;\n",
              "      border-left-color: var(--fill-color);\n",
              "      border-top-color: var(--fill-color);\n",
              "    }\n",
              "    30% {\n",
              "      border-color: transparent;\n",
              "      border-left-color: var(--fill-color);\n",
              "      border-top-color: var(--fill-color);\n",
              "      border-right-color: var(--fill-color);\n",
              "    }\n",
              "    40% {\n",
              "      border-color: transparent;\n",
              "      border-right-color: var(--fill-color);\n",
              "      border-top-color: var(--fill-color);\n",
              "    }\n",
              "    60% {\n",
              "      border-color: transparent;\n",
              "      border-right-color: var(--fill-color);\n",
              "    }\n",
              "    80% {\n",
              "      border-color: transparent;\n",
              "      border-right-color: var(--fill-color);\n",
              "      border-bottom-color: var(--fill-color);\n",
              "    }\n",
              "    90% {\n",
              "      border-color: transparent;\n",
              "      border-bottom-color: var(--fill-color);\n",
              "    }\n",
              "  }\n",
              "</style>\n",
              "\n",
              "  <script>\n",
              "    async function quickchart(key) {\n",
              "      const quickchartButtonEl =\n",
              "        document.querySelector('#' + key + ' button');\n",
              "      quickchartButtonEl.disabled = true;  // To prevent multiple clicks.\n",
              "      quickchartButtonEl.classList.add('colab-df-spinner');\n",
              "      try {\n",
              "        const charts = await google.colab.kernel.invokeFunction(\n",
              "            'suggestCharts', [key], {});\n",
              "      } catch (error) {\n",
              "        console.error('Error during call to suggestCharts:', error);\n",
              "      }\n",
              "      quickchartButtonEl.classList.remove('colab-df-spinner');\n",
              "      quickchartButtonEl.classList.add('colab-df-quickchart-complete');\n",
              "    }\n",
              "    (() => {\n",
              "      let quickchartButtonEl =\n",
              "        document.querySelector('#df-447efb57-cd95-4cc7-b3d9-b75d4a5cf9b4 button');\n",
              "      quickchartButtonEl.style.display =\n",
              "        google.colab.kernel.accessAllowed ? 'block' : 'none';\n",
              "    })();\n",
              "  </script>\n",
              "</div>\n",
              "    </div>\n",
              "  </div>\n"
            ]
          },
          "metadata": {},
          "execution_count": 1705
        }
      ]
    },
    {
      "cell_type": "markdown",
      "metadata": {
        "id": "FlGz3aw3706E"
      },
      "source": [
        "# »  Preparacion de los DataSets\n",
        "\n",
        "Procedemos a preparar ambos DataSets para poder entrenar y predecir."
      ]
    },
    {
      "cell_type": "markdown",
      "metadata": {
        "id": "On2wV7Yw85kt"
      },
      "source": [
        "- Analizamos la cantidad de columnas y filas\n",
        "\n"
      ]
    },
    {
      "cell_type": "code",
      "execution_count": 1706,
      "metadata": {
        "colab": {
          "base_uri": "https://localhost:8080/"
        },
        "id": "I5SGxxCL83TT",
        "outputId": "7e75247a-0333-4380-dca9-85fc809c3cdb"
      },
      "outputs": [
        {
          "output_type": "stream",
          "name": "stdout",
          "text": [
            "Train: (61913, 39)\n",
            "Test: (26535, 39)\n"
          ]
        }
      ],
      "source": [
        "print('Train:', df_trabajo_train.shape)\n",
        "print('Test:', df_trabajo_test.shape)"
      ]
    },
    {
      "cell_type": "markdown",
      "metadata": {
        "id": "j6IkJYJW-kgm"
      },
      "source": [
        "Buscamos las columans que no coinciden en ambos DataSets\n"
      ]
    },
    {
      "cell_type": "code",
      "execution_count": 1707,
      "metadata": {
        "colab": {
          "base_uri": "https://localhost:8080/"
        },
        "id": "nReIi3CU-n4h",
        "outputId": "29ca2c92-808e-4108-e77e-0f5c2d15882b"
      },
      "outputs": [
        {
          "output_type": "stream",
          "name": "stdout",
          "text": [
            "Columnas faltantes es train: {'reservation_status_date'}\n",
            "Columnas faltantes es test: {'is_canceled'}\n"
          ]
        }
      ],
      "source": [
        "columnas_faltantes_en_train = set(df_trabajo_test.columns) - set(df_trabajo_train.columns)\n",
        "columnas_faltantes_en_test = set(df_trabajo_train.columns)- set(df_trabajo_test.columns)\n",
        "print('Columnas faltantes es train:', columnas_faltantes_en_train)\n",
        "print('Columnas faltantes es test:', columnas_faltantes_en_test)"
      ]
    },
    {
      "cell_type": "markdown",
      "metadata": {
        "id": "u3L7tWmY-IlQ"
      },
      "source": [
        "Vemos que el dataSet de test tiene una columan de mas que no se encuentra en train, por lo que prodecemos a eliminarla ya que creemos que no es relevante para el calculo del is_canceled.\n",
        "\n"
      ]
    },
    {
      "cell_type": "markdown",
      "metadata": {
        "id": "FdyPDPwc7mYh"
      },
      "source": [
        "#### - **Arreglo del DataSet de test**\n",
        "\n",
        "Debemos eliminar las columnas que unicamenten faltan el train y agregar las que faltan en test ya que deben tener las mismas columnas con los mismos nombres."
      ]
    },
    {
      "cell_type": "code",
      "execution_count": 1708,
      "metadata": {
        "colab": {
          "base_uri": "https://localhost:8080/",
          "height": 516
        },
        "id": "-DxjpE587hLp",
        "outputId": "b6e3ed0f-bb60-4b6a-93b6-b69ea27c2a1e"
      },
      "outputs": [
        {
          "output_type": "execute_result",
          "data": {
            "text/plain": [
              "          hotel is_canceled  lead_time  arrival_date_year  arrival_date_month  \\\n",
              "0    City Hotel                    277               2016                  11   \n",
              "1    City Hotel                    286               2016                   5   \n",
              "2    City Hotel                      0               2016                   8   \n",
              "3  Resort Hotel                    196               2016                  10   \n",
              "4  Resort Hotel                    232               2016                  11   \n",
              "\n",
              "   arrival_date_week_number  arrival_date_day_of_month  \\\n",
              "0                        46                          7   \n",
              "1                        20                         11   \n",
              "2                        35                         23   \n",
              "3                        44                         29   \n",
              "4                        48                         26   \n",
              "\n",
              "   stays_in_weekend_nights  stays_in_week_nights  adults  ...  \\\n",
              "0                        1                     2       2  ...   \n",
              "1                        0                     4       2  ...   \n",
              "2                        0                     1       3  ...   \n",
              "3                        2                     5       2  ...   \n",
              "4                        2                     1       2  ...   \n",
              "\n",
              "   total_of_special_requests                                    id  \\\n",
              "0                          0  e6d0d58a-ab96-44d3-b28f-85df1cc15f1e   \n",
              "1                          0  aba9aac2-4495-4645-a60e-90328713c999   \n",
              "2                          2  b345b5dc-c804-4d77-a39f-1f4e65d1f1ad   \n",
              "3                          0  ce1b400e-afa1-4946-bdff-004b859eb61c   \n",
              "4                          0  c4fbec0d-8e2e-4db2-9d4f-a6ccb9f51214   \n",
              "\n",
              "  total_guests room_type_match cancel_to_noncancel_ratio lead_time_category  \\\n",
              "0          2.0            True                       0.0               Long   \n",
              "1          2.0            True                       0.0               Long   \n",
              "2          3.0            True                       0.0         Very Short   \n",
              "3          4.0            True                       0.0               Long   \n",
              "4          2.0            True                       0.0               Long   \n",
              "\n",
              "   days_in_waiting_list_category      Fecha  DoY  dif  \n",
              "0                     Very Short 2016-11-07  312   54  \n",
              "1                           Long 2016-05-11  132  131  \n",
              "2                     Very Short 2016-08-23  236  130  \n",
              "3                     Very Short 2016-10-29  303   63  \n",
              "4                     Very Short 2016-11-26  331   35  \n",
              "\n",
              "[5 rows x 39 columns]"
            ],
            "text/html": [
              "\n",
              "  <div id=\"df-ba306393-731e-4a85-9fc4-a3634f20640f\" class=\"colab-df-container\">\n",
              "    <div>\n",
              "<style scoped>\n",
              "    .dataframe tbody tr th:only-of-type {\n",
              "        vertical-align: middle;\n",
              "    }\n",
              "\n",
              "    .dataframe tbody tr th {\n",
              "        vertical-align: top;\n",
              "    }\n",
              "\n",
              "    .dataframe thead th {\n",
              "        text-align: right;\n",
              "    }\n",
              "</style>\n",
              "<table border=\"1\" class=\"dataframe\">\n",
              "  <thead>\n",
              "    <tr style=\"text-align: right;\">\n",
              "      <th></th>\n",
              "      <th>hotel</th>\n",
              "      <th>is_canceled</th>\n",
              "      <th>lead_time</th>\n",
              "      <th>arrival_date_year</th>\n",
              "      <th>arrival_date_month</th>\n",
              "      <th>arrival_date_week_number</th>\n",
              "      <th>arrival_date_day_of_month</th>\n",
              "      <th>stays_in_weekend_nights</th>\n",
              "      <th>stays_in_week_nights</th>\n",
              "      <th>adults</th>\n",
              "      <th>...</th>\n",
              "      <th>total_of_special_requests</th>\n",
              "      <th>id</th>\n",
              "      <th>total_guests</th>\n",
              "      <th>room_type_match</th>\n",
              "      <th>cancel_to_noncancel_ratio</th>\n",
              "      <th>lead_time_category</th>\n",
              "      <th>days_in_waiting_list_category</th>\n",
              "      <th>Fecha</th>\n",
              "      <th>DoY</th>\n",
              "      <th>dif</th>\n",
              "    </tr>\n",
              "  </thead>\n",
              "  <tbody>\n",
              "    <tr>\n",
              "      <th>0</th>\n",
              "      <td>City Hotel</td>\n",
              "      <td></td>\n",
              "      <td>277</td>\n",
              "      <td>2016</td>\n",
              "      <td>11</td>\n",
              "      <td>46</td>\n",
              "      <td>7</td>\n",
              "      <td>1</td>\n",
              "      <td>2</td>\n",
              "      <td>2</td>\n",
              "      <td>...</td>\n",
              "      <td>0</td>\n",
              "      <td>e6d0d58a-ab96-44d3-b28f-85df1cc15f1e</td>\n",
              "      <td>2.0</td>\n",
              "      <td>True</td>\n",
              "      <td>0.0</td>\n",
              "      <td>Long</td>\n",
              "      <td>Very Short</td>\n",
              "      <td>2016-11-07</td>\n",
              "      <td>312</td>\n",
              "      <td>54</td>\n",
              "    </tr>\n",
              "    <tr>\n",
              "      <th>1</th>\n",
              "      <td>City Hotel</td>\n",
              "      <td></td>\n",
              "      <td>286</td>\n",
              "      <td>2016</td>\n",
              "      <td>5</td>\n",
              "      <td>20</td>\n",
              "      <td>11</td>\n",
              "      <td>0</td>\n",
              "      <td>4</td>\n",
              "      <td>2</td>\n",
              "      <td>...</td>\n",
              "      <td>0</td>\n",
              "      <td>aba9aac2-4495-4645-a60e-90328713c999</td>\n",
              "      <td>2.0</td>\n",
              "      <td>True</td>\n",
              "      <td>0.0</td>\n",
              "      <td>Long</td>\n",
              "      <td>Long</td>\n",
              "      <td>2016-05-11</td>\n",
              "      <td>132</td>\n",
              "      <td>131</td>\n",
              "    </tr>\n",
              "    <tr>\n",
              "      <th>2</th>\n",
              "      <td>City Hotel</td>\n",
              "      <td></td>\n",
              "      <td>0</td>\n",
              "      <td>2016</td>\n",
              "      <td>8</td>\n",
              "      <td>35</td>\n",
              "      <td>23</td>\n",
              "      <td>0</td>\n",
              "      <td>1</td>\n",
              "      <td>3</td>\n",
              "      <td>...</td>\n",
              "      <td>2</td>\n",
              "      <td>b345b5dc-c804-4d77-a39f-1f4e65d1f1ad</td>\n",
              "      <td>3.0</td>\n",
              "      <td>True</td>\n",
              "      <td>0.0</td>\n",
              "      <td>Very Short</td>\n",
              "      <td>Very Short</td>\n",
              "      <td>2016-08-23</td>\n",
              "      <td>236</td>\n",
              "      <td>130</td>\n",
              "    </tr>\n",
              "    <tr>\n",
              "      <th>3</th>\n",
              "      <td>Resort Hotel</td>\n",
              "      <td></td>\n",
              "      <td>196</td>\n",
              "      <td>2016</td>\n",
              "      <td>10</td>\n",
              "      <td>44</td>\n",
              "      <td>29</td>\n",
              "      <td>2</td>\n",
              "      <td>5</td>\n",
              "      <td>2</td>\n",
              "      <td>...</td>\n",
              "      <td>0</td>\n",
              "      <td>ce1b400e-afa1-4946-bdff-004b859eb61c</td>\n",
              "      <td>4.0</td>\n",
              "      <td>True</td>\n",
              "      <td>0.0</td>\n",
              "      <td>Long</td>\n",
              "      <td>Very Short</td>\n",
              "      <td>2016-10-29</td>\n",
              "      <td>303</td>\n",
              "      <td>63</td>\n",
              "    </tr>\n",
              "    <tr>\n",
              "      <th>4</th>\n",
              "      <td>Resort Hotel</td>\n",
              "      <td></td>\n",
              "      <td>232</td>\n",
              "      <td>2016</td>\n",
              "      <td>11</td>\n",
              "      <td>48</td>\n",
              "      <td>26</td>\n",
              "      <td>2</td>\n",
              "      <td>1</td>\n",
              "      <td>2</td>\n",
              "      <td>...</td>\n",
              "      <td>0</td>\n",
              "      <td>c4fbec0d-8e2e-4db2-9d4f-a6ccb9f51214</td>\n",
              "      <td>2.0</td>\n",
              "      <td>True</td>\n",
              "      <td>0.0</td>\n",
              "      <td>Long</td>\n",
              "      <td>Very Short</td>\n",
              "      <td>2016-11-26</td>\n",
              "      <td>331</td>\n",
              "      <td>35</td>\n",
              "    </tr>\n",
              "  </tbody>\n",
              "</table>\n",
              "<p>5 rows × 39 columns</p>\n",
              "</div>\n",
              "    <div class=\"colab-df-buttons\">\n",
              "\n",
              "  <div class=\"colab-df-container\">\n",
              "    <button class=\"colab-df-convert\" onclick=\"convertToInteractive('df-ba306393-731e-4a85-9fc4-a3634f20640f')\"\n",
              "            title=\"Convert this dataframe to an interactive table.\"\n",
              "            style=\"display:none;\">\n",
              "\n",
              "  <svg xmlns=\"http://www.w3.org/2000/svg\" height=\"24px\" viewBox=\"0 -960 960 960\">\n",
              "    <path d=\"M120-120v-720h720v720H120Zm60-500h600v-160H180v160Zm220 220h160v-160H400v160Zm0 220h160v-160H400v160ZM180-400h160v-160H180v160Zm440 0h160v-160H620v160ZM180-180h160v-160H180v160Zm440 0h160v-160H620v160Z\"/>\n",
              "  </svg>\n",
              "    </button>\n",
              "\n",
              "  <style>\n",
              "    .colab-df-container {\n",
              "      display:flex;\n",
              "      gap: 12px;\n",
              "    }\n",
              "\n",
              "    .colab-df-convert {\n",
              "      background-color: #E8F0FE;\n",
              "      border: none;\n",
              "      border-radius: 50%;\n",
              "      cursor: pointer;\n",
              "      display: none;\n",
              "      fill: #1967D2;\n",
              "      height: 32px;\n",
              "      padding: 0 0 0 0;\n",
              "      width: 32px;\n",
              "    }\n",
              "\n",
              "    .colab-df-convert:hover {\n",
              "      background-color: #E2EBFA;\n",
              "      box-shadow: 0px 1px 2px rgba(60, 64, 67, 0.3), 0px 1px 3px 1px rgba(60, 64, 67, 0.15);\n",
              "      fill: #174EA6;\n",
              "    }\n",
              "\n",
              "    .colab-df-buttons div {\n",
              "      margin-bottom: 4px;\n",
              "    }\n",
              "\n",
              "    [theme=dark] .colab-df-convert {\n",
              "      background-color: #3B4455;\n",
              "      fill: #D2E3FC;\n",
              "    }\n",
              "\n",
              "    [theme=dark] .colab-df-convert:hover {\n",
              "      background-color: #434B5C;\n",
              "      box-shadow: 0px 1px 3px 1px rgba(0, 0, 0, 0.15);\n",
              "      filter: drop-shadow(0px 1px 2px rgba(0, 0, 0, 0.3));\n",
              "      fill: #FFFFFF;\n",
              "    }\n",
              "  </style>\n",
              "\n",
              "    <script>\n",
              "      const buttonEl =\n",
              "        document.querySelector('#df-ba306393-731e-4a85-9fc4-a3634f20640f button.colab-df-convert');\n",
              "      buttonEl.style.display =\n",
              "        google.colab.kernel.accessAllowed ? 'block' : 'none';\n",
              "\n",
              "      async function convertToInteractive(key) {\n",
              "        const element = document.querySelector('#df-ba306393-731e-4a85-9fc4-a3634f20640f');\n",
              "        const dataTable =\n",
              "          await google.colab.kernel.invokeFunction('convertToInteractive',\n",
              "                                                    [key], {});\n",
              "        if (!dataTable) return;\n",
              "\n",
              "        const docLinkHtml = 'Like what you see? Visit the ' +\n",
              "          '<a target=\"_blank\" href=https://colab.research.google.com/notebooks/data_table.ipynb>data table notebook</a>'\n",
              "          + ' to learn more about interactive tables.';\n",
              "        element.innerHTML = '';\n",
              "        dataTable['output_type'] = 'display_data';\n",
              "        await google.colab.output.renderOutput(dataTable, element);\n",
              "        const docLink = document.createElement('div');\n",
              "        docLink.innerHTML = docLinkHtml;\n",
              "        element.appendChild(docLink);\n",
              "      }\n",
              "    </script>\n",
              "  </div>\n",
              "\n",
              "\n",
              "<div id=\"df-dec7ad36-9007-4a66-9f61-144b11f50499\">\n",
              "  <button class=\"colab-df-quickchart\" onclick=\"quickchart('df-dec7ad36-9007-4a66-9f61-144b11f50499')\"\n",
              "            title=\"Suggest charts.\"\n",
              "            style=\"display:none;\">\n",
              "\n",
              "<svg xmlns=\"http://www.w3.org/2000/svg\" height=\"24px\"viewBox=\"0 0 24 24\"\n",
              "     width=\"24px\">\n",
              "    <g>\n",
              "        <path d=\"M19 3H5c-1.1 0-2 .9-2 2v14c0 1.1.9 2 2 2h14c1.1 0 2-.9 2-2V5c0-1.1-.9-2-2-2zM9 17H7v-7h2v7zm4 0h-2V7h2v10zm4 0h-2v-4h2v4z\"/>\n",
              "    </g>\n",
              "</svg>\n",
              "  </button>\n",
              "\n",
              "<style>\n",
              "  .colab-df-quickchart {\n",
              "      --bg-color: #E8F0FE;\n",
              "      --fill-color: #1967D2;\n",
              "      --hover-bg-color: #E2EBFA;\n",
              "      --hover-fill-color: #174EA6;\n",
              "      --disabled-fill-color: #AAA;\n",
              "      --disabled-bg-color: #DDD;\n",
              "  }\n",
              "\n",
              "  [theme=dark] .colab-df-quickchart {\n",
              "      --bg-color: #3B4455;\n",
              "      --fill-color: #D2E3FC;\n",
              "      --hover-bg-color: #434B5C;\n",
              "      --hover-fill-color: #FFFFFF;\n",
              "      --disabled-bg-color: #3B4455;\n",
              "      --disabled-fill-color: #666;\n",
              "  }\n",
              "\n",
              "  .colab-df-quickchart {\n",
              "    background-color: var(--bg-color);\n",
              "    border: none;\n",
              "    border-radius: 50%;\n",
              "    cursor: pointer;\n",
              "    display: none;\n",
              "    fill: var(--fill-color);\n",
              "    height: 32px;\n",
              "    padding: 0;\n",
              "    width: 32px;\n",
              "  }\n",
              "\n",
              "  .colab-df-quickchart:hover {\n",
              "    background-color: var(--hover-bg-color);\n",
              "    box-shadow: 0 1px 2px rgba(60, 64, 67, 0.3), 0 1px 3px 1px rgba(60, 64, 67, 0.15);\n",
              "    fill: var(--button-hover-fill-color);\n",
              "  }\n",
              "\n",
              "  .colab-df-quickchart-complete:disabled,\n",
              "  .colab-df-quickchart-complete:disabled:hover {\n",
              "    background-color: var(--disabled-bg-color);\n",
              "    fill: var(--disabled-fill-color);\n",
              "    box-shadow: none;\n",
              "  }\n",
              "\n",
              "  .colab-df-spinner {\n",
              "    border: 2px solid var(--fill-color);\n",
              "    border-color: transparent;\n",
              "    border-bottom-color: var(--fill-color);\n",
              "    animation:\n",
              "      spin 1s steps(1) infinite;\n",
              "  }\n",
              "\n",
              "  @keyframes spin {\n",
              "    0% {\n",
              "      border-color: transparent;\n",
              "      border-bottom-color: var(--fill-color);\n",
              "      border-left-color: var(--fill-color);\n",
              "    }\n",
              "    20% {\n",
              "      border-color: transparent;\n",
              "      border-left-color: var(--fill-color);\n",
              "      border-top-color: var(--fill-color);\n",
              "    }\n",
              "    30% {\n",
              "      border-color: transparent;\n",
              "      border-left-color: var(--fill-color);\n",
              "      border-top-color: var(--fill-color);\n",
              "      border-right-color: var(--fill-color);\n",
              "    }\n",
              "    40% {\n",
              "      border-color: transparent;\n",
              "      border-right-color: var(--fill-color);\n",
              "      border-top-color: var(--fill-color);\n",
              "    }\n",
              "    60% {\n",
              "      border-color: transparent;\n",
              "      border-right-color: var(--fill-color);\n",
              "    }\n",
              "    80% {\n",
              "      border-color: transparent;\n",
              "      border-right-color: var(--fill-color);\n",
              "      border-bottom-color: var(--fill-color);\n",
              "    }\n",
              "    90% {\n",
              "      border-color: transparent;\n",
              "      border-bottom-color: var(--fill-color);\n",
              "    }\n",
              "  }\n",
              "</style>\n",
              "\n",
              "  <script>\n",
              "    async function quickchart(key) {\n",
              "      const quickchartButtonEl =\n",
              "        document.querySelector('#' + key + ' button');\n",
              "      quickchartButtonEl.disabled = true;  // To prevent multiple clicks.\n",
              "      quickchartButtonEl.classList.add('colab-df-spinner');\n",
              "      try {\n",
              "        const charts = await google.colab.kernel.invokeFunction(\n",
              "            'suggestCharts', [key], {});\n",
              "      } catch (error) {\n",
              "        console.error('Error during call to suggestCharts:', error);\n",
              "      }\n",
              "      quickchartButtonEl.classList.remove('colab-df-spinner');\n",
              "      quickchartButtonEl.classList.add('colab-df-quickchart-complete');\n",
              "    }\n",
              "    (() => {\n",
              "      let quickchartButtonEl =\n",
              "        document.querySelector('#df-dec7ad36-9007-4a66-9f61-144b11f50499 button');\n",
              "      quickchartButtonEl.style.display =\n",
              "        google.colab.kernel.accessAllowed ? 'block' : 'none';\n",
              "    })();\n",
              "  </script>\n",
              "</div>\n",
              "    </div>\n",
              "  </div>\n"
            ]
          },
          "metadata": {},
          "execution_count": 1708
        }
      ],
      "source": [
        "columna_a_eliminar_test = 'reservation_status_date'\n",
        "\n",
        "df_trabajo_test.drop(columna_a_eliminar_test, axis='columns', inplace = True)\n",
        "df_trabajo_test.insert(1, 'is_canceled', \" \")\n",
        "df_trabajo_test = pd.DataFrame(df_trabajo_test)\n",
        "df_trabajo_test.head()"
      ]
    },
    {
      "cell_type": "markdown",
      "metadata": {
        "id": "Mj66-5UjeAEB"
      },
      "source": [
        "### - **Seleccion de columnas utiles para la prediccion**"
      ]
    },
    {
      "cell_type": "markdown",
      "metadata": {
        "id": "yH5lfcaYPV9b"
      },
      "source": [
        "- Buscamos datos faltantes y procedemos a tomar decisiones sobre que hacer con estos datos faltantes"
      ]
    },
    {
      "cell_type": "code",
      "execution_count": 1709,
      "metadata": {
        "colab": {
          "base_uri": "https://localhost:8080/"
        },
        "id": "2Jkwogw_gllD",
        "outputId": "10bb0582-6774-4438-b350-d62ea1eb419d"
      },
      "outputs": [
        {
          "output_type": "stream",
          "name": "stdout",
          "text": [
            "hotel                              0.000000\n",
            "lead_time                          0.000000\n",
            "arrival_date_year                  0.000000\n",
            "arrival_date_month                 0.000000\n",
            "arrival_date_week_number           0.000000\n",
            "arrival_date_day_of_month          0.000000\n",
            "stays_in_weekend_nights            0.000000\n",
            "stays_in_week_nights               0.000000\n",
            "adults                             0.000000\n",
            "children                           0.006461\n",
            "babies                             0.000000\n",
            "meal                               0.000000\n",
            "country                            0.356952\n",
            "market_segment                     0.000000\n",
            "distribution_channel               0.000000\n",
            "is_repeated_guest                  0.000000\n",
            "previous_cancellations             0.000000\n",
            "previous_bookings_not_canceled     0.000000\n",
            "reserved_room_type                 0.000000\n",
            "assigned_room_type                 0.000000\n",
            "booking_changes                    0.000000\n",
            "deposit_type                       0.000000\n",
            "agent                             12.743689\n",
            "company                           94.908985\n",
            "days_in_waiting_list               0.000000\n",
            "customer_type                      0.000000\n",
            "adr                                0.000000\n",
            "required_car_parking_spaces        0.000000\n",
            "total_of_special_requests          0.000000\n",
            "id                                 0.000000\n",
            "is_canceled                        0.000000\n",
            "total_guests                       0.006461\n",
            "room_type_match                    0.000000\n",
            "cancel_to_noncancel_ratio          0.000000\n",
            "lead_time_category                 0.000000\n",
            "days_in_waiting_list_category      0.000000\n",
            "dtype: float64\n"
          ]
        }
      ],
      "source": [
        "filas_totales=ds_trabajo_train.shape[0]\n",
        "print(ds_trabajo_train.isna().sum()/filas_totales*100)"
      ]
    },
    {
      "cell_type": "code",
      "execution_count": 1710,
      "metadata": {
        "id": "i0AM4ILMS5OL",
        "colab": {
          "base_uri": "https://localhost:8080/"
        },
        "outputId": "9f75450c-7ed9-4759-f32a-b0abc6a927c8"
      },
      "outputs": [
        {
          "output_type": "execute_result",
          "data": {
            "text/plain": [
              "(61913, 39)"
            ]
          },
          "metadata": {},
          "execution_count": 1710
        }
      ],
      "source": [
        "\n",
        "df_trabajo_train.shape"
      ]
    },
    {
      "cell_type": "code",
      "execution_count": 1711,
      "metadata": {
        "id": "l1Xqsehnhw_F",
        "colab": {
          "base_uri": "https://localhost:8080/"
        },
        "outputId": "174cc18c-b4e2-4feb-b057-a20509445a2e"
      },
      "outputs": [
        {
          "output_type": "execute_result",
          "data": {
            "text/plain": [
              "(61688, 39)"
            ]
          },
          "metadata": {},
          "execution_count": 1711
        }
      ],
      "source": [
        "df_trabajo_train.dropna(subset=['children'], inplace=True)\n",
        "df_trabajo_train.dropna(subset=['country'], inplace=True)\n",
        "# df_trabajo_train.dropna(subset=['agent'], inplace=True)\n",
        "df_trabajo_train['company'] = df_trabajo_train['company'].notna().astype(int)\n",
        "df_trabajo_train.shape"
      ]
    },
    {
      "cell_type": "markdown",
      "metadata": {
        "id": "G5f6mpIaWPDi"
      },
      "source": [
        "Verificamos la existencia de NaNs de nuevo."
      ]
    },
    {
      "cell_type": "code",
      "execution_count": 1712,
      "metadata": {
        "colab": {
          "base_uri": "https://localhost:8080/"
        },
        "id": "MX-mk0_aRS2Y",
        "outputId": "9c2f43ad-211b-46dd-e793-6cb818009e73"
      },
      "outputs": [
        {
          "output_type": "stream",
          "name": "stdout",
          "text": [
            "hotel                              0.000000\n",
            "lead_time                          0.000000\n",
            "arrival_date_year                  0.000000\n",
            "arrival_date_month                 0.000000\n",
            "arrival_date_week_number           0.000000\n",
            "arrival_date_day_of_month          0.000000\n",
            "stays_in_weekend_nights            0.000000\n",
            "stays_in_week_nights               0.000000\n",
            "adults                             0.000000\n",
            "children                           0.000000\n",
            "babies                             0.000000\n",
            "meal                               0.000000\n",
            "country                            0.000000\n",
            "market_segment                     0.000000\n",
            "distribution_channel               0.000000\n",
            "is_repeated_guest                  0.000000\n",
            "previous_cancellations             0.000000\n",
            "previous_bookings_not_canceled     0.000000\n",
            "reserved_room_type                 0.000000\n",
            "assigned_room_type                 0.000000\n",
            "booking_changes                    0.000000\n",
            "deposit_type                       0.000000\n",
            "agent                             12.553495\n",
            "company                            0.000000\n",
            "days_in_waiting_list               0.000000\n",
            "customer_type                      0.000000\n",
            "adr                                0.000000\n",
            "required_car_parking_spaces        0.000000\n",
            "total_of_special_requests          0.000000\n",
            "id                                 0.000000\n",
            "is_canceled                        0.000000\n",
            "total_guests                       0.000000\n",
            "room_type_match                    0.000000\n",
            "cancel_to_noncancel_ratio          0.000000\n",
            "lead_time_category                 0.000000\n",
            "days_in_waiting_list_category      0.000000\n",
            "Fecha                              0.000000\n",
            "DoY                                0.000000\n",
            "dif                                0.000000\n",
            "dtype: float64\n"
          ]
        }
      ],
      "source": [
        "filas_totales = df_trabajo_train.shape[0]\n",
        "print(df_trabajo_train.isna().sum()/filas_totales*100)\n"
      ]
    },
    {
      "cell_type": "markdown",
      "source": [
        "» Matriz de correlacion\n",
        "\n",
        "Sera utilizada para analizar posibles columnas utiles para el calculo de la columnas is_canceled"
      ],
      "metadata": {
        "id": "DUsCmGPxmOFy"
      }
    },
    {
      "cell_type": "code",
      "source": [
        "df_trabajo_train.corr(numeric_only = True)\n",
        "plt.figure(figsize = (20,10))\n",
        "sns.heatmap(df_trabajo_train.corr(numeric_only = True),annot = True, cmap= \"Pastel1\")"
      ],
      "metadata": {
        "colab": {
          "base_uri": "https://localhost:8080/",
          "height": 1000
        },
        "id": "kLX3KROhmN01",
        "outputId": "15612f6c-2dc4-4b47-f700-5838431b2240"
      },
      "execution_count": 1713,
      "outputs": [
        {
          "output_type": "execute_result",
          "data": {
            "text/plain": [
              "<Axes: >"
            ]
          },
          "metadata": {},
          "execution_count": 1713
        },
        {
          "output_type": "display_data",
          "data": {
            "text/plain": [
              "<Figure size 2000x1000 with 2 Axes>"
            ],
            "image/png": "[encoded data removed]"
          },
          "metadata": {}
        }
      ]
    },
    {
      "cell_type": "markdown",
      "metadata": {
        "id": "wftbHTyAiUDi"
      },
      "source": [
        "### » Entramiento y prediccion con el primer modelo de arbol planteado. (Modelo 1)"
      ]
    },
    {
      "cell_type": "markdown",
      "metadata": {
        "id": "f-juY2CD4BNV"
      },
      "source": [
        "- **Agregamos, eliminamos y modificamos valores para que esten en ambos DataSets**\n",
        "\n",
        "\n",
        " Analizando los graficos del CHP1 y la cantidad de valores que admiten las variables observamos que tanto country como assigned_room_type tiene valores que no se encuentran en ambos DataSets."
      ]
    },
    {
      "cell_type": "markdown",
      "metadata": {
        "id": "keQEKoX94hWy"
      },
      "source": [
        "Procedemos a buscar los paises que se encuentran en ambos DataSets y hacemos que coincidan los de train con los de test."
      ]
    },
    {
      "cell_type": "code",
      "execution_count": 1714,
      "metadata": {
        "colab": {
          "base_uri": "https://localhost:8080/"
        },
        "id": "yXyRhd2OCkdm",
        "outputId": "2ddf9860-0ec4-4d36-816e-37cf7adf31cb"
      },
      "outputs": [
        {
          "output_type": "execute_result",
          "data": {
            "text/plain": [
              "(61688, 39)"
            ]
          },
          "metadata": {},
          "execution_count": 1714
        }
      ],
      "source": [
        "df_trabajo_train.shape"
      ]
    },
    {
      "cell_type": "code",
      "source": [
        "features1 = ['hotel', 'total_guests', 'meal', 'country', 'is_repeated_guest', 'cancel_to_noncancel_ratio', 'room_type_match', 'lead_time_category', 'dif',\n",
        "             'booking_changes', 'deposit_type', 'days_in_waiting_list_category', 'customer_type', 'required_car_parking_spaces', 'is_canceled', 'id']\n",
        "\n",
        "df_trabajo_train1 = df_trabajo_train[features1]\n",
        "df_trabajo_test1 = df_trabajo_test[features1]"
      ],
      "metadata": {
        "id": "Tst798iTj9fY"
      },
      "execution_count": 1715,
      "outputs": []
    },
    {
      "cell_type": "code",
      "source": [
        "df_trabajo_train1 = df_trabajo_train1.dropna(subset=['country'])\n",
        "\n",
        "train_countries = set(df_trabajo_train1['country'].unique())\n",
        "test_countries = set(df_trabajo_test1['country'].unique())\n",
        "\n",
        "# 1. Manejar ds_trabajo_train\n",
        "for country in train_countries:\n",
        "    # Si el país no está en ds_trabajo_test\n",
        "    if country not in test_countries:\n",
        "        country_count = df_trabajo_train1['country'].value_counts()[country]\n",
        "        # Si aparece menos del 0.01%\n",
        "        if country_count / len(df_trabajo_train1) <= 0.0001:\n",
        "            df_trabajo_train1.loc[df_trabajo_train1['country'] == country, 'country'] = 'Undefined'\n",
        "\n",
        "# 2. Manejar ds_trabajo_test\n",
        "for country in test_countries:\n",
        "    # Si el país no está en ds_trabajo_train (después de las posibles sustituciones)\n",
        "    if country not in train_countries:\n",
        "        df_trabajo_test1.loc[df_trabajo_test1['country'] == country, 'country'] = 'Undefined'\n",
        "\n",
        "missing_categories = set(df_trabajo_train1['country'].unique()) - set(df_trabajo_test1['country'].unique())\n",
        "\n",
        "# Cambiar estas categorías a 'Undefined' en 'ds_trabajo_train'\n",
        "for category in missing_categories:\n",
        "    df_trabajo_train1.loc[df_trabajo_train1['country'] == category, 'country'] = 'Undefined'"
      ],
      "metadata": {
        "id": "7Ku0mVWj7l_q"
      },
      "execution_count": 1716,
      "outputs": []
    },
    {
      "cell_type": "markdown",
      "metadata": {
        "id": "8t-Abp0b9bCw"
      },
      "source": [
        "- **Dummies a las columnas de los DataSets**"
      ]
    },
    {
      "cell_type": "code",
      "execution_count": 1717,
      "metadata": {
        "id": "6PShSt__5UDo"
      },
      "outputs": [],
      "source": [
        "columns_to_dum1= ['hotel', 'meal', 'country', 'deposit_type', 'customer_type', 'lead_time_category', 'days_in_waiting_list_category']"
      ]
    },
    {
      "cell_type": "code",
      "execution_count": 1718,
      "metadata": {
        "colab": {
          "base_uri": "https://localhost:8080/",
          "height": 533
        },
        "id": "IxmltpV1jW3Z",
        "outputId": "4877d4ea-0c3f-46ed-a10f-1b5c4c823fb4"
      },
      "outputs": [
        {
          "output_type": "execute_result",
          "data": {
            "text/plain": [
              "   total_guests  is_repeated_guest  cancel_to_noncancel_ratio  \\\n",
              "0           1.0                  0                        0.0   \n",
              "1           2.0                  0                        0.0   \n",
              "2           4.0                  0                        0.0   \n",
              "3           2.0                  0                        0.0   \n",
              "4           2.0                  0                        0.0   \n",
              "\n",
              "   room_type_match  dif  booking_changes  required_car_parking_spaces  \\\n",
              "0             True  117                0                            0   \n",
              "1             True   62                0                            1   \n",
              "2             True   79                0                            0   \n",
              "3             True   19                0                            0   \n",
              "4             True   77                0                            0   \n",
              "\n",
              "   is_canceled                                    id  hotel_City Hotel  ...  \\\n",
              "0            1  7aa4cc6b-b92c-4061-b21d-4f9e0cac4689                 1  ...   \n",
              "1            0  b1428f80-c56c-4ae4-91a9-6962edae08b1                 0  ...   \n",
              "2            0  2226c018-ea20-4c4e-8f71-ea66aee70d7c                 1  ...   \n",
              "3            1  314f56dc-2e4d-4298-9bdd-27bb008bffff                 1  ...   \n",
              "4            0  28c75445-c603-413a-babf-ad377018b592                 1  ...   \n",
              "\n",
              "   lead_time_category_Very Short  lead_time_category_Short  \\\n",
              "0                              0                         1   \n",
              "1                              1                         0   \n",
              "2                              0                         1   \n",
              "3                              0                         1   \n",
              "4                              0                         0   \n",
              "\n",
              "   lead_time_category_Medium  lead_time_category_Long  \\\n",
              "0                          0                        0   \n",
              "1                          0                        0   \n",
              "2                          0                        0   \n",
              "3                          0                        0   \n",
              "4                          0                        1   \n",
              "\n",
              "   lead_time_category_Very Long  days_in_waiting_list_category_Very Short  \\\n",
              "0                             0                                         1   \n",
              "1                             0                                         1   \n",
              "2                             0                                         1   \n",
              "3                             0                                         1   \n",
              "4                             0                                         1   \n",
              "\n",
              "   days_in_waiting_list_category_Short  days_in_waiting_list_category_Medium  \\\n",
              "0                                    0                                     0   \n",
              "1                                    0                                     0   \n",
              "2                                    0                                     0   \n",
              "3                                    0                                     0   \n",
              "4                                    0                                     0   \n",
              "\n",
              "   days_in_waiting_list_category_Long  days_in_waiting_list_category_Very Long  \n",
              "0                                   0                                        0  \n",
              "1                                   0                                        0  \n",
              "2                                   0                                        0  \n",
              "3                                   0                                        0  \n",
              "4                                   0                                        0  \n",
              "\n",
              "[5 rows x 157 columns]"
            ],
            "text/html": [
              "\n",
              "  <div id=\"df-aacaf9a6-82bc-4f61-98a0-714a632990cd\" class=\"colab-df-container\">\n",
              "    <div>\n",
              "<style scoped>\n",
              "    .dataframe tbody tr th:only-of-type {\n",
              "        vertical-align: middle;\n",
              "    }\n",
              "\n",
              "    .dataframe tbody tr th {\n",
              "        vertical-align: top;\n",
              "    }\n",
              "\n",
              "    .dataframe thead th {\n",
              "        text-align: right;\n",
              "    }\n",
              "</style>\n",
              "<table border=\"1\" class=\"dataframe\">\n",
              "  <thead>\n",
              "    <tr style=\"text-align: right;\">\n",
              "      <th></th>\n",
              "      <th>total_guests</th>\n",
              "      <th>is_repeated_guest</th>\n",
              "      <th>cancel_to_noncancel_ratio</th>\n",
              "      <th>room_type_match</th>\n",
              "      <th>dif</th>\n",
              "      <th>booking_changes</th>\n",
              "      <th>required_car_parking_spaces</th>\n",
              "      <th>is_canceled</th>\n",
              "      <th>id</th>\n",
              "      <th>hotel_City Hotel</th>\n",
              "      <th>...</th>\n",
              "      <th>lead_time_category_Very Short</th>\n",
              "      <th>lead_time_category_Short</th>\n",
              "      <th>lead_time_category_Medium</th>\n",
              "      <th>lead_time_category_Long</th>\n",
              "      <th>lead_time_category_Very Long</th>\n",
              "      <th>days_in_waiting_list_category_Very Short</th>\n",
              "      <th>days_in_waiting_list_category_Short</th>\n",
              "      <th>days_in_waiting_list_category_Medium</th>\n",
              "      <th>days_in_waiting_list_category_Long</th>\n",
              "      <th>days_in_waiting_list_category_Very Long</th>\n",
              "    </tr>\n",
              "  </thead>\n",
              "  <tbody>\n",
              "    <tr>\n",
              "      <th>0</th>\n",
              "      <td>1.0</td>\n",
              "      <td>0</td>\n",
              "      <td>0.0</td>\n",
              "      <td>True</td>\n",
              "      <td>117</td>\n",
              "      <td>0</td>\n",
              "      <td>0</td>\n",
              "      <td>1</td>\n",
              "      <td>7aa4cc6b-b92c-4061-b21d-4f9e0cac4689</td>\n",
              "      <td>1</td>\n",
              "      <td>...</td>\n",
              "      <td>0</td>\n",
              "      <td>1</td>\n",
              "      <td>0</td>\n",
              "      <td>0</td>\n",
              "      <td>0</td>\n",
              "      <td>1</td>\n",
              "      <td>0</td>\n",
              "      <td>0</td>\n",
              "      <td>0</td>\n",
              "      <td>0</td>\n",
              "    </tr>\n",
              "    <tr>\n",
              "      <th>1</th>\n",
              "      <td>2.0</td>\n",
              "      <td>0</td>\n",
              "      <td>0.0</td>\n",
              "      <td>True</td>\n",
              "      <td>62</td>\n",
              "      <td>0</td>\n",
              "      <td>1</td>\n",
              "      <td>0</td>\n",
              "      <td>b1428f80-c56c-4ae4-91a9-6962edae08b1</td>\n",
              "      <td>0</td>\n",
              "      <td>...</td>\n",
              "      <td>1</td>\n",
              "      <td>0</td>\n",
              "      <td>0</td>\n",
              "      <td>0</td>\n",
              "      <td>0</td>\n",
              "      <td>1</td>\n",
              "      <td>0</td>\n",
              "      <td>0</td>\n",
              "      <td>0</td>\n",
              "      <td>0</td>\n",
              "    </tr>\n",
              "    <tr>\n",
              "      <th>2</th>\n",
              "      <td>4.0</td>\n",
              "      <td>0</td>\n",
              "      <td>0.0</td>\n",
              "      <td>True</td>\n",
              "      <td>79</td>\n",
              "      <td>0</td>\n",
              "      <td>0</td>\n",
              "      <td>0</td>\n",
              "      <td>2226c018-ea20-4c4e-8f71-ea66aee70d7c</td>\n",
              "      <td>1</td>\n",
              "      <td>...</td>\n",
              "      <td>0</td>\n",
              "      <td>1</td>\n",
              "      <td>0</td>\n",
              "      <td>0</td>\n",
              "      <td>0</td>\n",
              "      <td>1</td>\n",
              "      <td>0</td>\n",
              "      <td>0</td>\n",
              "      <td>0</td>\n",
              "      <td>0</td>\n",
              "    </tr>\n",
              "    <tr>\n",
              "      <th>3</th>\n",
              "      <td>2.0</td>\n",
              "      <td>0</td>\n",
              "      <td>0.0</td>\n",
              "      <td>True</td>\n",
              "      <td>19</td>\n",
              "      <td>0</td>\n",
              "      <td>0</td>\n",
              "      <td>1</td>\n",
              "      <td>314f56dc-2e4d-4298-9bdd-27bb008bffff</td>\n",
              "      <td>1</td>\n",
              "      <td>...</td>\n",
              "      <td>0</td>\n",
              "      <td>1</td>\n",
              "      <td>0</td>\n",
              "      <td>0</td>\n",
              "      <td>0</td>\n",
              "      <td>1</td>\n",
              "      <td>0</td>\n",
              "      <td>0</td>\n",
              "      <td>0</td>\n",
              "      <td>0</td>\n",
              "    </tr>\n",
              "    <tr>\n",
              "      <th>4</th>\n",
              "      <td>2.0</td>\n",
              "      <td>0</td>\n",
              "      <td>0.0</td>\n",
              "      <td>True</td>\n",
              "      <td>77</td>\n",
              "      <td>0</td>\n",
              "      <td>0</td>\n",
              "      <td>0</td>\n",
              "      <td>28c75445-c603-413a-babf-ad377018b592</td>\n",
              "      <td>1</td>\n",
              "      <td>...</td>\n",
              "      <td>0</td>\n",
              "      <td>0</td>\n",
              "      <td>0</td>\n",
              "      <td>1</td>\n",
              "      <td>0</td>\n",
              "      <td>1</td>\n",
              "      <td>0</td>\n",
              "      <td>0</td>\n",
              "      <td>0</td>\n",
              "      <td>0</td>\n",
              "    </tr>\n",
              "  </tbody>\n",
              "</table>\n",
              "<p>5 rows × 157 columns</p>\n",
              "</div>\n",
              "    <div class=\"colab-df-buttons\">\n",
              "\n",
              "  <div class=\"colab-df-container\">\n",
              "    <button class=\"colab-df-convert\" onclick=\"convertToInteractive('df-aacaf9a6-82bc-4f61-98a0-714a632990cd')\"\n",
              "            title=\"Convert this dataframe to an interactive table.\"\n",
              "            style=\"display:none;\">\n",
              "\n",
              "  <svg xmlns=\"http://www.w3.org/2000/svg\" height=\"24px\" viewBox=\"0 -960 960 960\">\n",
              "    <path d=\"M120-120v-720h720v720H120Zm60-500h600v-160H180v160Zm220 220h160v-160H400v160Zm0 220h160v-160H400v160ZM180-400h160v-160H180v160Zm440 0h160v-160H620v160ZM180-180h160v-160H180v160Zm440 0h160v-160H620v160Z\"/>\n",
              "  </svg>\n",
              "    </button>\n",
              "\n",
              "  <style>\n",
              "    .colab-df-container {\n",
              "      display:flex;\n",
              "      gap: 12px;\n",
              "    }\n",
              "\n",
              "    .colab-df-convert {\n",
              "      background-color: #E8F0FE;\n",
              "      border: none;\n",
              "      border-radius: 50%;\n",
              "      cursor: pointer;\n",
              "      display: none;\n",
              "      fill: #1967D2;\n",
              "      height: 32px;\n",
              "      padding: 0 0 0 0;\n",
              "      width: 32px;\n",
              "    }\n",
              "\n",
              "    .colab-df-convert:hover {\n",
              "      background-color: #E2EBFA;\n",
              "      box-shadow: 0px 1px 2px rgba(60, 64, 67, 0.3), 0px 1px 3px 1px rgba(60, 64, 67, 0.15);\n",
              "      fill: #174EA6;\n",
              "    }\n",
              "\n",
              "    .colab-df-buttons div {\n",
              "      margin-bottom: 4px;\n",
              "    }\n",
              "\n",
              "    [theme=dark] .colab-df-convert {\n",
              "      background-color: #3B4455;\n",
              "      fill: #D2E3FC;\n",
              "    }\n",
              "\n",
              "    [theme=dark] .colab-df-convert:hover {\n",
              "      background-color: #434B5C;\n",
              "      box-shadow: 0px 1px 3px 1px rgba(0, 0, 0, 0.15);\n",
              "      filter: drop-shadow(0px 1px 2px rgba(0, 0, 0, 0.3));\n",
              "      fill: #FFFFFF;\n",
              "    }\n",
              "  </style>\n",
              "\n",
              "    <script>\n",
              "      const buttonEl =\n",
              "        document.querySelector('#df-aacaf9a6-82bc-4f61-98a0-714a632990cd button.colab-df-convert');\n",
              "      buttonEl.style.display =\n",
              "        google.colab.kernel.accessAllowed ? 'block' : 'none';\n",
              "\n",
              "      async function convertToInteractive(key) {\n",
              "        const element = document.querySelector('#df-aacaf9a6-82bc-4f61-98a0-714a632990cd');\n",
              "        const dataTable =\n",
              "          await google.colab.kernel.invokeFunction('convertToInteractive',\n",
              "                                                    [key], {});\n",
              "        if (!dataTable) return;\n",
              "\n",
              "        const docLinkHtml = 'Like what you see? Visit the ' +\n",
              "          '<a target=\"_blank\" href=https://colab.research.google.com/notebooks/data_table.ipynb>data table notebook</a>'\n",
              "          + ' to learn more about interactive tables.';\n",
              "        element.innerHTML = '';\n",
              "        dataTable['output_type'] = 'display_data';\n",
              "        await google.colab.output.renderOutput(dataTable, element);\n",
              "        const docLink = document.createElement('div');\n",
              "        docLink.innerHTML = docLinkHtml;\n",
              "        element.appendChild(docLink);\n",
              "      }\n",
              "    </script>\n",
              "  </div>\n",
              "\n",
              "\n",
              "<div id=\"df-159ed77a-0387-43af-ba51-e1a94f2b09d0\">\n",
              "  <button class=\"colab-df-quickchart\" onclick=\"quickchart('df-159ed77a-0387-43af-ba51-e1a94f2b09d0')\"\n",
              "            title=\"Suggest charts.\"\n",
              "            style=\"display:none;\">\n",
              "\n",
              "<svg xmlns=\"http://www.w3.org/2000/svg\" height=\"24px\"viewBox=\"0 0 24 24\"\n",
              "     width=\"24px\">\n",
              "    <g>\n",
              "        <path d=\"M19 3H5c-1.1 0-2 .9-2 2v14c0 1.1.9 2 2 2h14c1.1 0 2-.9 2-2V5c0-1.1-.9-2-2-2zM9 17H7v-7h2v7zm4 0h-2V7h2v10zm4 0h-2v-4h2v4z\"/>\n",
              "    </g>\n",
              "</svg>\n",
              "  </button>\n",
              "\n",
              "<style>\n",
              "  .colab-df-quickchart {\n",
              "      --bg-color: #E8F0FE;\n",
              "      --fill-color: #1967D2;\n",
              "      --hover-bg-color: #E2EBFA;\n",
              "      --hover-fill-color: #174EA6;\n",
              "      --disabled-fill-color: #AAA;\n",
              "      --disabled-bg-color: #DDD;\n",
              "  }\n",
              "\n",
              "  [theme=dark] .colab-df-quickchart {\n",
              "      --bg-color: #3B4455;\n",
              "      --fill-color: #D2E3FC;\n",
              "      --hover-bg-color: #434B5C;\n",
              "      --hover-fill-color: #FFFFFF;\n",
              "      --disabled-bg-color: #3B4455;\n",
              "      --disabled-fill-color: #666;\n",
              "  }\n",
              "\n",
              "  .colab-df-quickchart {\n",
              "    background-color: var(--bg-color);\n",
              "    border: none;\n",
              "    border-radius: 50%;\n",
              "    cursor: pointer;\n",
              "    display: none;\n",
              "    fill: var(--fill-color);\n",
              "    height: 32px;\n",
              "    padding: 0;\n",
              "    width: 32px;\n",
              "  }\n",
              "\n",
              "  .colab-df-quickchart:hover {\n",
              "    background-color: var(--hover-bg-color);\n",
              "    box-shadow: 0 1px 2px rgba(60, 64, 67, 0.3), 0 1px 3px 1px rgba(60, 64, 67, 0.15);\n",
              "    fill: var(--button-hover-fill-color);\n",
              "  }\n",
              "\n",
              "  .colab-df-quickchart-complete:disabled,\n",
              "  .colab-df-quickchart-complete:disabled:hover {\n",
              "    background-color: var(--disabled-bg-color);\n",
              "    fill: var(--disabled-fill-color);\n",
              "    box-shadow: none;\n",
              "  }\n",
              "\n",
              "  .colab-df-spinner {\n",
              "    border: 2px solid var(--fill-color);\n",
              "    border-color: transparent;\n",
              "    border-bottom-color: var(--fill-color);\n",
              "    animation:\n",
              "      spin 1s steps(1) infinite;\n",
              "  }\n",
              "\n",
              "  @keyframes spin {\n",
              "    0% {\n",
              "      border-color: transparent;\n",
              "      border-bottom-color: var(--fill-color);\n",
              "      border-left-color: var(--fill-color);\n",
              "    }\n",
              "    20% {\n",
              "      border-color: transparent;\n",
              "      border-left-color: var(--fill-color);\n",
              "      border-top-color: var(--fill-color);\n",
              "    }\n",
              "    30% {\n",
              "      border-color: transparent;\n",
              "      border-left-color: var(--fill-color);\n",
              "      border-top-color: var(--fill-color);\n",
              "      border-right-color: var(--fill-color);\n",
              "    }\n",
              "    40% {\n",
              "      border-color: transparent;\n",
              "      border-right-color: var(--fill-color);\n",
              "      border-top-color: var(--fill-color);\n",
              "    }\n",
              "    60% {\n",
              "      border-color: transparent;\n",
              "      border-right-color: var(--fill-color);\n",
              "    }\n",
              "    80% {\n",
              "      border-color: transparent;\n",
              "      border-right-color: var(--fill-color);\n",
              "      border-bottom-color: var(--fill-color);\n",
              "    }\n",
              "    90% {\n",
              "      border-color: transparent;\n",
              "      border-bottom-color: var(--fill-color);\n",
              "    }\n",
              "  }\n",
              "</style>\n",
              "\n",
              "  <script>\n",
              "    async function quickchart(key) {\n",
              "      const quickchartButtonEl =\n",
              "        document.querySelector('#' + key + ' button');\n",
              "      quickchartButtonEl.disabled = true;  // To prevent multiple clicks.\n",
              "      quickchartButtonEl.classList.add('colab-df-spinner');\n",
              "      try {\n",
              "        const charts = await google.colab.kernel.invokeFunction(\n",
              "            'suggestCharts', [key], {});\n",
              "      } catch (error) {\n",
              "        console.error('Error during call to suggestCharts:', error);\n",
              "      }\n",
              "      quickchartButtonEl.classList.remove('colab-df-spinner');\n",
              "      quickchartButtonEl.classList.add('colab-df-quickchart-complete');\n",
              "    }\n",
              "    (() => {\n",
              "      let quickchartButtonEl =\n",
              "        document.querySelector('#df-159ed77a-0387-43af-ba51-e1a94f2b09d0 button');\n",
              "      quickchartButtonEl.style.display =\n",
              "        google.colab.kernel.accessAllowed ? 'block' : 'none';\n",
              "    })();\n",
              "  </script>\n",
              "</div>\n",
              "    </div>\n",
              "  </div>\n"
            ]
          },
          "metadata": {},
          "execution_count": 1718
        }
      ],
      "source": [
        "df_trabajo_train_dum1 = pd.get_dummies(df_trabajo_train1, columns = columns_to_dum1 )\n",
        "df_trabajo_train_dum1.head(5)"
      ]
    },
    {
      "cell_type": "code",
      "execution_count": 1719,
      "metadata": {
        "colab": {
          "base_uri": "https://localhost:8080/",
          "height": 533
        },
        "id": "g3EpVGPBKFjK",
        "outputId": "475d4a8d-663a-4029-f586-8d9680e0176e"
      },
      "outputs": [
        {
          "output_type": "execute_result",
          "data": {
            "text/plain": [
              "   total_guests  is_repeated_guest  cancel_to_noncancel_ratio  \\\n",
              "0           2.0                  0                        0.0   \n",
              "1           2.0                  0                        0.0   \n",
              "2           3.0                  0                        0.0   \n",
              "3           4.0                  0                        0.0   \n",
              "4           2.0                  0                        0.0   \n",
              "\n",
              "   room_type_match  dif  booking_changes  required_car_parking_spaces  \\\n",
              "0             True   54                0                            0   \n",
              "1             True  131                0                            0   \n",
              "2             True  130                0                            0   \n",
              "3             True   63                0                            0   \n",
              "4             True   35                0                            0   \n",
              "\n",
              "  is_canceled                                    id  hotel_City Hotel  ...  \\\n",
              "0              e6d0d58a-ab96-44d3-b28f-85df1cc15f1e                 1  ...   \n",
              "1              aba9aac2-4495-4645-a60e-90328713c999                 1  ...   \n",
              "2              b345b5dc-c804-4d77-a39f-1f4e65d1f1ad                 1  ...   \n",
              "3              ce1b400e-afa1-4946-bdff-004b859eb61c                 0  ...   \n",
              "4              c4fbec0d-8e2e-4db2-9d4f-a6ccb9f51214                 0  ...   \n",
              "\n",
              "   lead_time_category_Very Short  lead_time_category_Short  \\\n",
              "0                              0                         0   \n",
              "1                              0                         0   \n",
              "2                              1                         0   \n",
              "3                              0                         0   \n",
              "4                              0                         0   \n",
              "\n",
              "   lead_time_category_Medium  lead_time_category_Long  \\\n",
              "0                          0                        1   \n",
              "1                          0                        1   \n",
              "2                          0                        0   \n",
              "3                          0                        1   \n",
              "4                          0                        1   \n",
              "\n",
              "   lead_time_category_Very Long  days_in_waiting_list_category_Very Short  \\\n",
              "0                             0                                         1   \n",
              "1                             0                                         0   \n",
              "2                             0                                         1   \n",
              "3                             0                                         1   \n",
              "4                             0                                         1   \n",
              "\n",
              "   days_in_waiting_list_category_Short  days_in_waiting_list_category_Medium  \\\n",
              "0                                    0                                     0   \n",
              "1                                    0                                     0   \n",
              "2                                    0                                     0   \n",
              "3                                    0                                     0   \n",
              "4                                    0                                     0   \n",
              "\n",
              "   days_in_waiting_list_category_Long  days_in_waiting_list_category_Very Long  \n",
              "0                                   0                                        0  \n",
              "1                                   1                                        0  \n",
              "2                                   0                                        0  \n",
              "3                                   0                                        0  \n",
              "4                                   0                                        0  \n",
              "\n",
              "[5 rows x 157 columns]"
            ],
            "text/html": [
              "\n",
              "  <div id=\"df-8fc3721b-7e6d-4050-b7ca-1061da7abcf3\" class=\"colab-df-container\">\n",
              "    <div>\n",
              "<style scoped>\n",
              "    .dataframe tbody tr th:only-of-type {\n",
              "        vertical-align: middle;\n",
              "    }\n",
              "\n",
              "    .dataframe tbody tr th {\n",
              "        vertical-align: top;\n",
              "    }\n",
              "\n",
              "    .dataframe thead th {\n",
              "        text-align: right;\n",
              "    }\n",
              "</style>\n",
              "<table border=\"1\" class=\"dataframe\">\n",
              "  <thead>\n",
              "    <tr style=\"text-align: right;\">\n",
              "      <th></th>\n",
              "      <th>total_guests</th>\n",
              "      <th>is_repeated_guest</th>\n",
              "      <th>cancel_to_noncancel_ratio</th>\n",
              "      <th>room_type_match</th>\n",
              "      <th>dif</th>\n",
              "      <th>booking_changes</th>\n",
              "      <th>required_car_parking_spaces</th>\n",
              "      <th>is_canceled</th>\n",
              "      <th>id</th>\n",
              "      <th>hotel_City Hotel</th>\n",
              "      <th>...</th>\n",
              "      <th>lead_time_category_Very Short</th>\n",
              "      <th>lead_time_category_Short</th>\n",
              "      <th>lead_time_category_Medium</th>\n",
              "      <th>lead_time_category_Long</th>\n",
              "      <th>lead_time_category_Very Long</th>\n",
              "      <th>days_in_waiting_list_category_Very Short</th>\n",
              "      <th>days_in_waiting_list_category_Short</th>\n",
              "      <th>days_in_waiting_list_category_Medium</th>\n",
              "      <th>days_in_waiting_list_category_Long</th>\n",
              "      <th>days_in_waiting_list_category_Very Long</th>\n",
              "    </tr>\n",
              "  </thead>\n",
              "  <tbody>\n",
              "    <tr>\n",
              "      <th>0</th>\n",
              "      <td>2.0</td>\n",
              "      <td>0</td>\n",
              "      <td>0.0</td>\n",
              "      <td>True</td>\n",
              "      <td>54</td>\n",
              "      <td>0</td>\n",
              "      <td>0</td>\n",
              "      <td></td>\n",
              "      <td>e6d0d58a-ab96-44d3-b28f-85df1cc15f1e</td>\n",
              "      <td>1</td>\n",
              "      <td>...</td>\n",
              "      <td>0</td>\n",
              "      <td>0</td>\n",
              "      <td>0</td>\n",
              "      <td>1</td>\n",
              "      <td>0</td>\n",
              "      <td>1</td>\n",
              "      <td>0</td>\n",
              "      <td>0</td>\n",
              "      <td>0</td>\n",
              "      <td>0</td>\n",
              "    </tr>\n",
              "    <tr>\n",
              "      <th>1</th>\n",
              "      <td>2.0</td>\n",
              "      <td>0</td>\n",
              "      <td>0.0</td>\n",
              "      <td>True</td>\n",
              "      <td>131</td>\n",
              "      <td>0</td>\n",
              "      <td>0</td>\n",
              "      <td></td>\n",
              "      <td>aba9aac2-4495-4645-a60e-90328713c999</td>\n",
              "      <td>1</td>\n",
              "      <td>...</td>\n",
              "      <td>0</td>\n",
              "      <td>0</td>\n",
              "      <td>0</td>\n",
              "      <td>1</td>\n",
              "      <td>0</td>\n",
              "      <td>0</td>\n",
              "      <td>0</td>\n",
              "      <td>0</td>\n",
              "      <td>1</td>\n",
              "      <td>0</td>\n",
              "    </tr>\n",
              "    <tr>\n",
              "      <th>2</th>\n",
              "      <td>3.0</td>\n",
              "      <td>0</td>\n",
              "      <td>0.0</td>\n",
              "      <td>True</td>\n",
              "      <td>130</td>\n",
              "      <td>0</td>\n",
              "      <td>0</td>\n",
              "      <td></td>\n",
              "      <td>b345b5dc-c804-4d77-a39f-1f4e65d1f1ad</td>\n",
              "      <td>1</td>\n",
              "      <td>...</td>\n",
              "      <td>1</td>\n",
              "      <td>0</td>\n",
              "      <td>0</td>\n",
              "      <td>0</td>\n",
              "      <td>0</td>\n",
              "      <td>1</td>\n",
              "      <td>0</td>\n",
              "      <td>0</td>\n",
              "      <td>0</td>\n",
              "      <td>0</td>\n",
              "    </tr>\n",
              "    <tr>\n",
              "      <th>3</th>\n",
              "      <td>4.0</td>\n",
              "      <td>0</td>\n",
              "      <td>0.0</td>\n",
              "      <td>True</td>\n",
              "      <td>63</td>\n",
              "      <td>0</td>\n",
              "      <td>0</td>\n",
              "      <td></td>\n",
              "      <td>ce1b400e-afa1-4946-bdff-004b859eb61c</td>\n",
              "      <td>0</td>\n",
              "      <td>...</td>\n",
              "      <td>0</td>\n",
              "      <td>0</td>\n",
              "      <td>0</td>\n",
              "      <td>1</td>\n",
              "      <td>0</td>\n",
              "      <td>1</td>\n",
              "      <td>0</td>\n",
              "      <td>0</td>\n",
              "      <td>0</td>\n",
              "      <td>0</td>\n",
              "    </tr>\n",
              "    <tr>\n",
              "      <th>4</th>\n",
              "      <td>2.0</td>\n",
              "      <td>0</td>\n",
              "      <td>0.0</td>\n",
              "      <td>True</td>\n",
              "      <td>35</td>\n",
              "      <td>0</td>\n",
              "      <td>0</td>\n",
              "      <td></td>\n",
              "      <td>c4fbec0d-8e2e-4db2-9d4f-a6ccb9f51214</td>\n",
              "      <td>0</td>\n",
              "      <td>...</td>\n",
              "      <td>0</td>\n",
              "      <td>0</td>\n",
              "      <td>0</td>\n",
              "      <td>1</td>\n",
              "      <td>0</td>\n",
              "      <td>1</td>\n",
              "      <td>0</td>\n",
              "      <td>0</td>\n",
              "      <td>0</td>\n",
              "      <td>0</td>\n",
              "    </tr>\n",
              "  </tbody>\n",
              "</table>\n",
              "<p>5 rows × 157 columns</p>\n",
              "</div>\n",
              "    <div class=\"colab-df-buttons\">\n",
              "\n",
              "  <div class=\"colab-df-container\">\n",
              "    <button class=\"colab-df-convert\" onclick=\"convertToInteractive('df-8fc3721b-7e6d-4050-b7ca-1061da7abcf3')\"\n",
              "            title=\"Convert this dataframe to an interactive table.\"\n",
              "            style=\"display:none;\">\n",
              "\n",
              "  <svg xmlns=\"http://www.w3.org/2000/svg\" height=\"24px\" viewBox=\"0 -960 960 960\">\n",
              "    <path d=\"M120-120v-720h720v720H120Zm60-500h600v-160H180v160Zm220 220h160v-160H400v160Zm0 220h160v-160H400v160ZM180-400h160v-160H180v160Zm440 0h160v-160H620v160ZM180-180h160v-160H180v160Zm440 0h160v-160H620v160Z\"/>\n",
              "  </svg>\n",
              "    </button>\n",
              "\n",
              "  <style>\n",
              "    .colab-df-container {\n",
              "      display:flex;\n",
              "      gap: 12px;\n",
              "    }\n",
              "\n",
              "    .colab-df-convert {\n",
              "      background-color: #E8F0FE;\n",
              "      border: none;\n",
              "      border-radius: 50%;\n",
              "      cursor: pointer;\n",
              "      display: none;\n",
              "      fill: #1967D2;\n",
              "      height: 32px;\n",
              "      padding: 0 0 0 0;\n",
              "      width: 32px;\n",
              "    }\n",
              "\n",
              "    .colab-df-convert:hover {\n",
              "      background-color: #E2EBFA;\n",
              "      box-shadow: 0px 1px 2px rgba(60, 64, 67, 0.3), 0px 1px 3px 1px rgba(60, 64, 67, 0.15);\n",
              "      fill: #174EA6;\n",
              "    }\n",
              "\n",
              "    .colab-df-buttons div {\n",
              "      margin-bottom: 4px;\n",
              "    }\n",
              "\n",
              "    [theme=dark] .colab-df-convert {\n",
              "      background-color: #3B4455;\n",
              "      fill: #D2E3FC;\n",
              "    }\n",
              "\n",
              "    [theme=dark] .colab-df-convert:hover {\n",
              "      background-color: #434B5C;\n",
              "      box-shadow: 0px 1px 3px 1px rgba(0, 0, 0, 0.15);\n",
              "      filter: drop-shadow(0px 1px 2px rgba(0, 0, 0, 0.3));\n",
              "      fill: #FFFFFF;\n",
              "    }\n",
              "  </style>\n",
              "\n",
              "    <script>\n",
              "      const buttonEl =\n",
              "        document.querySelector('#df-8fc3721b-7e6d-4050-b7ca-1061da7abcf3 button.colab-df-convert');\n",
              "      buttonEl.style.display =\n",
              "        google.colab.kernel.accessAllowed ? 'block' : 'none';\n",
              "\n",
              "      async function convertToInteractive(key) {\n",
              "        const element = document.querySelector('#df-8fc3721b-7e6d-4050-b7ca-1061da7abcf3');\n",
              "        const dataTable =\n",
              "          await google.colab.kernel.invokeFunction('convertToInteractive',\n",
              "                                                    [key], {});\n",
              "        if (!dataTable) return;\n",
              "\n",
              "        const docLinkHtml = 'Like what you see? Visit the ' +\n",
              "          '<a target=\"_blank\" href=https://colab.research.google.com/notebooks/data_table.ipynb>data table notebook</a>'\n",
              "          + ' to learn more about interactive tables.';\n",
              "        element.innerHTML = '';\n",
              "        dataTable['output_type'] = 'display_data';\n",
              "        await google.colab.output.renderOutput(dataTable, element);\n",
              "        const docLink = document.createElement('div');\n",
              "        docLink.innerHTML = docLinkHtml;\n",
              "        element.appendChild(docLink);\n",
              "      }\n",
              "    </script>\n",
              "  </div>\n",
              "\n",
              "\n",
              "<div id=\"df-3a3b16dc-68ee-4eef-b6d0-8cdd70068df4\">\n",
              "  <button class=\"colab-df-quickchart\" onclick=\"quickchart('df-3a3b16dc-68ee-4eef-b6d0-8cdd70068df4')\"\n",
              "            title=\"Suggest charts.\"\n",
              "            style=\"display:none;\">\n",
              "\n",
              "<svg xmlns=\"http://www.w3.org/2000/svg\" height=\"24px\"viewBox=\"0 0 24 24\"\n",
              "     width=\"24px\">\n",
              "    <g>\n",
              "        <path d=\"M19 3H5c-1.1 0-2 .9-2 2v14c0 1.1.9 2 2 2h14c1.1 0 2-.9 2-2V5c0-1.1-.9-2-2-2zM9 17H7v-7h2v7zm4 0h-2V7h2v10zm4 0h-2v-4h2v4z\"/>\n",
              "    </g>\n",
              "</svg>\n",
              "  </button>\n",
              "\n",
              "<style>\n",
              "  .colab-df-quickchart {\n",
              "      --bg-color: #E8F0FE;\n",
              "      --fill-color: #1967D2;\n",
              "      --hover-bg-color: #E2EBFA;\n",
              "      --hover-fill-color: #174EA6;\n",
              "      --disabled-fill-color: #AAA;\n",
              "      --disabled-bg-color: #DDD;\n",
              "  }\n",
              "\n",
              "  [theme=dark] .colab-df-quickchart {\n",
              "      --bg-color: #3B4455;\n",
              "      --fill-color: #D2E3FC;\n",
              "      --hover-bg-color: #434B5C;\n",
              "      --hover-fill-color: #FFFFFF;\n",
              "      --disabled-bg-color: #3B4455;\n",
              "      --disabled-fill-color: #666;\n",
              "  }\n",
              "\n",
              "  .colab-df-quickchart {\n",
              "    background-color: var(--bg-color);\n",
              "    border: none;\n",
              "    border-radius: 50%;\n",
              "    cursor: pointer;\n",
              "    display: none;\n",
              "    fill: var(--fill-color);\n",
              "    height: 32px;\n",
              "    padding: 0;\n",
              "    width: 32px;\n",
              "  }\n",
              "\n",
              "  .colab-df-quickchart:hover {\n",
              "    background-color: var(--hover-bg-color);\n",
              "    box-shadow: 0 1px 2px rgba(60, 64, 67, 0.3), 0 1px 3px 1px rgba(60, 64, 67, 0.15);\n",
              "    fill: var(--button-hover-fill-color);\n",
              "  }\n",
              "\n",
              "  .colab-df-quickchart-complete:disabled,\n",
              "  .colab-df-quickchart-complete:disabled:hover {\n",
              "    background-color: var(--disabled-bg-color);\n",
              "    fill: var(--disabled-fill-color);\n",
              "    box-shadow: none;\n",
              "  }\n",
              "\n",
              "  .colab-df-spinner {\n",
              "    border: 2px solid var(--fill-color);\n",
              "    border-color: transparent;\n",
              "    border-bottom-color: var(--fill-color);\n",
              "    animation:\n",
              "      spin 1s steps(1) infinite;\n",
              "  }\n",
              "\n",
              "  @keyframes spin {\n",
              "    0% {\n",
              "      border-color: transparent;\n",
              "      border-bottom-color: var(--fill-color);\n",
              "      border-left-color: var(--fill-color);\n",
              "    }\n",
              "    20% {\n",
              "      border-color: transparent;\n",
              "      border-left-color: var(--fill-color);\n",
              "      border-top-color: var(--fill-color);\n",
              "    }\n",
              "    30% {\n",
              "      border-color: transparent;\n",
              "      border-left-color: var(--fill-color);\n",
              "      border-top-color: var(--fill-color);\n",
              "      border-right-color: var(--fill-color);\n",
              "    }\n",
              "    40% {\n",
              "      border-color: transparent;\n",
              "      border-right-color: var(--fill-color);\n",
              "      border-top-color: var(--fill-color);\n",
              "    }\n",
              "    60% {\n",
              "      border-color: transparent;\n",
              "      border-right-color: var(--fill-color);\n",
              "    }\n",
              "    80% {\n",
              "      border-color: transparent;\n",
              "      border-right-color: var(--fill-color);\n",
              "      border-bottom-color: var(--fill-color);\n",
              "    }\n",
              "    90% {\n",
              "      border-color: transparent;\n",
              "      border-bottom-color: var(--fill-color);\n",
              "    }\n",
              "  }\n",
              "</style>\n",
              "\n",
              "  <script>\n",
              "    async function quickchart(key) {\n",
              "      const quickchartButtonEl =\n",
              "        document.querySelector('#' + key + ' button');\n",
              "      quickchartButtonEl.disabled = true;  // To prevent multiple clicks.\n",
              "      quickchartButtonEl.classList.add('colab-df-spinner');\n",
              "      try {\n",
              "        const charts = await google.colab.kernel.invokeFunction(\n",
              "            'suggestCharts', [key], {});\n",
              "      } catch (error) {\n",
              "        console.error('Error during call to suggestCharts:', error);\n",
              "      }\n",
              "      quickchartButtonEl.classList.remove('colab-df-spinner');\n",
              "      quickchartButtonEl.classList.add('colab-df-quickchart-complete');\n",
              "    }\n",
              "    (() => {\n",
              "      let quickchartButtonEl =\n",
              "        document.querySelector('#df-3a3b16dc-68ee-4eef-b6d0-8cdd70068df4 button');\n",
              "      quickchartButtonEl.style.display =\n",
              "        google.colab.kernel.accessAllowed ? 'block' : 'none';\n",
              "    })();\n",
              "  </script>\n",
              "</div>\n",
              "    </div>\n",
              "  </div>\n"
            ]
          },
          "metadata": {},
          "execution_count": 1719
        }
      ],
      "source": [
        "df_trabajo_test_dum1 = pd.get_dummies(df_trabajo_test1, columns = columns_to_dum1 )\n",
        "df_trabajo_test_dum1.head()"
      ]
    },
    {
      "cell_type": "markdown",
      "metadata": {
        "id": "jSVlSVRX9uGZ"
      },
      "source": [
        "- **Entrenamiento del arbol1**"
      ]
    },
    {
      "cell_type": "code",
      "execution_count": 1720,
      "metadata": {
        "id": "1_gnGisSGviS"
      },
      "outputs": [],
      "source": [
        "\n",
        "df_trabajo_x1= df_trabajo_train_dum1.drop(['is_canceled', 'id'], axis='columns', inplace=False)\n",
        "\n",
        "df_trabajo_y1 = df_trabajo_train_dum1['is_canceled'].copy()\n",
        "\n",
        "x_train1, x_test1, y_train1, y_test1= train_test_split(df_trabajo_x1,\n",
        "                                                       df_trabajo_y1,\n",
        "                                                       test_size=0.30,\n",
        "                                                       random_state=13)\n"
      ]
    },
    {
      "cell_type": "code",
      "execution_count": 1721,
      "metadata": {
        "id": "kp7iI2s6mFZT"
      },
      "outputs": [],
      "source": [
        "tree_model1 = tree.DecisionTreeClassifier(criterion = 'log_loss',\n",
        "                                          max_depth = 25,\n",
        "                                          min_samples_leaf = 10,\n",
        "                                          ccp_alpha = 0)"
      ]
    },
    {
      "cell_type": "code",
      "execution_count": 1722,
      "metadata": {
        "id": "5alVBSAbdoBU"
      },
      "outputs": [],
      "source": [
        "model1 = tree_model1.fit(X = x_train1, y = y_train1)\n",
        "\n",
        "y_pred1 = model1.predict(x_test1)\n"
      ]
    },
    {
      "cell_type": "markdown",
      "metadata": {
        "id": "3nvVPe_UA29j"
      },
      "source": [
        "- **Muestra de la matris de confusion**"
      ]
    },
    {
      "cell_type": "code",
      "execution_count": 1723,
      "metadata": {
        "colab": {
          "base_uri": "https://localhost:8080/",
          "height": 467
        },
        "id": "lUTX_ob9cInN",
        "outputId": "536f9fec-433b-4c2c-c320-a916f123307e"
      },
      "outputs": [
        {
          "output_type": "execute_result",
          "data": {
            "text/plain": [
              "Text(50.722222222222214, 0.5, 'True')"
            ]
          },
          "metadata": {},
          "execution_count": 1723
        },
        {
          "output_type": "display_data",
          "data": {
            "text/plain": [
              "<Figure size 640x480 with 2 Axes>"
            ],
            "image/png": "[encoded data removed]"
          },
          "metadata": {}
        }
      ],
      "source": [
        "tabla1 = confusion_matrix(y_test1, y_pred1)\n",
        "sns.heatmap(tabla1,cmap='GnBu',annot=True,fmt='g')\n",
        "plt.xlabel('Predicted')\n",
        "plt.ylabel('True')\n"
      ]
    },
    {
      "cell_type": "markdown",
      "metadata": {
        "id": "O6s6jzQ9A7jp"
      },
      "source": [
        "- **Calculo de las metricas**"
      ]
    },
    {
      "cell_type": "code",
      "execution_count": 1724,
      "metadata": {
        "id": "kd9OQKjSxwaC"
      },
      "outputs": [],
      "source": [
        "def mostrar_metricas(y_test, y_pred):\n",
        "    accuracy=accuracy_score(y_test,y_pred)\n",
        "    recall=recall_score(y_test,y_pred)\n",
        "    f1=f1_score(y_test,y_pred)\n",
        "    precision=precision_score(y_test,y_pred)\n",
        "\n",
        "    print(\"Accuracy: \"+str(accuracy))\n",
        "    print(\"Recall: \"+str(recall))\n",
        "    print(\"Precision: \"+str(precision))\n",
        "    print(\"f1 score: \"+str(f1))"
      ]
    },
    {
      "cell_type": "code",
      "execution_count": 1725,
      "metadata": {
        "colab": {
          "base_uri": "https://localhost:8080/"
        },
        "id": "Ve110XSMe45Z",
        "outputId": "89728134-6e7c-4ff7-a157-fc690348b320"
      },
      "outputs": [
        {
          "output_type": "stream",
          "name": "stdout",
          "text": [
            "Accuracy: 0.7899713621872805\n",
            "Recall: 0.7829181494661922\n",
            "Precision: 0.7948324939785417\n",
            "f1 score: 0.788830336285109\n"
          ]
        }
      ],
      "source": [
        "mostrar_metricas(y_test1, y_pred1)"
      ]
    },
    {
      "cell_type": "markdown",
      "source": [
        "- Prediccion con el dataset de Test"
      ],
      "metadata": {
        "id": "j8lRVhGvnWaZ"
      }
    },
    {
      "cell_type": "code",
      "execution_count": 1726,
      "metadata": {
        "id": "NaM2puD_CS1M",
        "colab": {
          "base_uri": "https://localhost:8080/",
          "height": 17
        },
        "outputId": "161fae6d-4540-47f3-d83e-9709ffa8e446"
      },
      "outputs": [
        {
          "output_type": "display_data",
          "data": {
            "text/plain": [
              "<IPython.core.display.Javascript object>"
            ],
            "application/javascript": [
              "\n",
              "    async function download(id, filename, size) {\n",
              "      if (!google.colab.kernel.accessAllowed) {\n",
              "        return;\n",
              "      }\n",
              "      const div = document.createElement('div');\n",
              "      const label = document.createElement('label');\n",
              "      label.textContent = `Downloading \"${filename}\": `;\n",
              "      div.appendChild(label);\n",
              "      const progress = document.createElement('progress');\n",
              "      progress.max = size;\n",
              "      div.appendChild(progress);\n",
              "      document.body.appendChild(div);\n",
              "\n",
              "      const buffers = [];\n",
              "      let downloaded = 0;\n",
              "\n",
              "      const channel = await google.colab.kernel.comms.open(id);\n",
              "      // Send a message to notify the kernel that we're ready.\n",
              "      channel.send({})\n",
              "\n",
              "      for await (const message of channel.messages) {\n",
              "        // Send a message to notify the kernel that we're ready.\n",
              "        channel.send({})\n",
              "        if (message.buffers) {\n",
              "          for (const buffer of message.buffers) {\n",
              "            buffers.push(buffer);\n",
              "            downloaded += buffer.byteLength;\n",
              "            progress.value = downloaded;\n",
              "          }\n",
              "        }\n",
              "      }\n",
              "      const blob = new Blob(buffers, {type: 'application/binary'});\n",
              "      const a = document.createElement('a');\n",
              "      a.href = window.URL.createObjectURL(blob);\n",
              "      a.download = filename;\n",
              "      div.appendChild(a);\n",
              "      a.click();\n",
              "      div.remove();\n",
              "    }\n",
              "  "
            ]
          },
          "metadata": {}
        },
        {
          "output_type": "display_data",
          "data": {
            "text/plain": [
              "<IPython.core.display.Javascript object>"
            ],
            "application/javascript": [
              "download(\"download_58ee5530-61ee-481b-940c-0872ebcd5f1f\", \"df_prediccion1.csv\", 1182981)"
            ]
          },
          "metadata": {}
        }
      ],
      "source": [
        "\n",
        "df_trabajo_test_x1 = df_trabajo_test_dum1.drop(['is_canceled', 'id'], axis='columns', inplace=False)\n",
        "ids1 = df_trabajo_test_dum1['id'].copy()\n",
        "\n",
        "\n",
        "prediccion1 = model1.predict(df_trabajo_test_x1)\n",
        "\n",
        "df_prediccion1 = pd.DataFrame({'id': ids1, 'is_canceled': prediccion1})\n",
        "\n",
        "df_prediccion1.to_csv('df_prediccion1.csv')\n",
        "files.download('df_prediccion1.csv')\n"
      ]
    },
    {
      "cell_type": "markdown",
      "source": [
        "- Analisis de la importancia de cada feature en al hora de al prediccion"
      ],
      "metadata": {
        "id": "WoFMoW1nnflz"
      }
    },
    {
      "cell_type": "code",
      "execution_count": 1727,
      "metadata": {
        "id": "DU_jYpeqT4nJ",
        "colab": {
          "base_uri": "https://localhost:8080/"
        },
        "outputId": "eaa5c066-e067-415f-af9b-e0ae72bf7671"
      },
      "outputs": [
        {
          "output_type": "execute_result",
          "data": {
            "text/plain": [
              "[('country_ZWE', 0.3342237783709227),\n",
              " ('dif', 0.14102083536641902),\n",
              " ('customer_type_Contract', 0.08977980732291245),\n",
              " ('room_type_match', 0.0833620865751727),\n",
              " ('required_car_parking_spaces', 0.0642386710660223),\n",
              " ('cancel_to_noncancel_ratio', 0.0498914536491416),\n",
              " ('country_POL', 0.049060313982977055),\n",
              " ('customer_type_Transient', 0.04371128433168165),\n",
              " ('booking_changes', 0.02154370564020687),\n",
              " ('total_guests', 0.01744424965177266),\n",
              " ('customer_type_Group', 0.010226665342940535),\n",
              " ('lead_time_category_Short', 0.010039019236466842),\n",
              " ('id', 0.008860681029611723),\n",
              " ('customer_type_Transient-Party', 0.006681187515943144),\n",
              " ('country_ISL', 0.0064004539858707075),\n",
              " ('meal_FB', 0.006137460542132591),\n",
              " ('country_ECU', 0.005381524652578021),\n",
              " ('is_repeated_guest', 0.0050620023215142435),\n",
              " ('is_canceled', 0.004393644820252762),\n",
              " ('meal_HB', 0.004259167986793303),\n",
              " ('hotel_City Hotel', 0.004067268536426051),\n",
              " ('country_FRA', 0.003704400157448241),\n",
              " ('meal_BB', 0.0036014704026343654),\n",
              " ('country_EST', 0.003586707563766514),\n",
              " ('country_CYP', 0.0031450422927978236),\n",
              " ('lead_time_category_Very Short', 0.0030288203163448785),\n",
              " ('meal_SC', 0.00292910608189133),\n",
              " ('country_CHE', 0.002857167784354296),\n",
              " ('country_BLR', 0.0018867327027930515),\n",
              " ('country_IMN', 0.001386558548263149),\n",
              " ('hotel_Resort Hotel', 0.0010733237234923955),\n",
              " ('country_AUS', 0.0010386709825077136),\n",
              " ('country_MYS', 0.0008715786542387015),\n",
              " ('country_NGA', 0.0007135859359320407),\n",
              " ('country_IRQ', 0.0006802200168237605),\n",
              " ('country_BRB', 0.0004522027231178619),\n",
              " ('country_HKG', 0.00043925538212847507),\n",
              " ('country_ATA', 0.0004048506607710505),\n",
              " ('country_PER', 0.000404045035117007),\n",
              " ('country_QAT', 0.0003512563059635078),\n",
              " ('country_UKR', 0.00034982731316384136),\n",
              " ('deposit_type_Non Refund', 0.00031967204849057176),\n",
              " ('country_SVK', 0.00031776365709689403),\n",
              " ('country_ESP', 0.00028657147607057587),\n",
              " ('country_LVA', 0.00023523046544890664),\n",
              " ('country_CHN', 0.00010041945940799024),\n",
              " ('country_ARG', 5.025838217613608e-05),\n",
              " ('meal_Undefined', 0.0),\n",
              " ('country_AGO', 0.0),\n",
              " ('country_ALB', 0.0),\n",
              " ('country_AND', 0.0),\n",
              " ('country_ARE', 0.0),\n",
              " ('country_AUT', 0.0),\n",
              " ('country_BEL', 0.0),\n",
              " ('country_BGD', 0.0),\n",
              " ('country_BGR', 0.0),\n",
              " ('country_BHR', 0.0),\n",
              " ('country_BIH', 0.0),\n",
              " ('country_BOL', 0.0),\n",
              " ('country_BRA', 0.0),\n",
              " ('country_CAF', 0.0),\n",
              " ('country_CHL', 0.0),\n",
              " ('country_CMR', 0.0),\n",
              " ('country_CN', 0.0),\n",
              " ('country_COL', 0.0),\n",
              " ('country_CPV', 0.0),\n",
              " ('country_CRI', 0.0),\n",
              " ('country_CUB', 0.0),\n",
              " ('country_CZE', 0.0),\n",
              " ('country_DEU', 0.0),\n",
              " ('country_DNK', 0.0),\n",
              " ('country_DOM', 0.0),\n",
              " ('country_DZA', 0.0),\n",
              " ('country_EGY', 0.0),\n",
              " ('country_FIN', 0.0),\n",
              " ('country_GAB', 0.0),\n",
              " ('country_GBR', 0.0),\n",
              " ('country_GEO', 0.0),\n",
              " ('country_GGY', 0.0),\n",
              " ('country_GHA', 0.0),\n",
              " ('country_GIB', 0.0),\n",
              " ('country_GLP', 0.0),\n",
              " ('country_GNB', 0.0),\n",
              " ('country_GRC', 0.0),\n",
              " ('country_HRV', 0.0),\n",
              " ('country_HUN', 0.0),\n",
              " ('country_IDN', 0.0),\n",
              " ('country_IND', 0.0),\n",
              " ('country_IRL', 0.0),\n",
              " ('country_IRN', 0.0),\n",
              " ('country_ISR', 0.0),\n",
              " ('country_ITA', 0.0),\n",
              " ('country_JAM', 0.0),\n",
              " ('country_JEY', 0.0),\n",
              " ('country_JOR', 0.0),\n",
              " ('country_JPN', 0.0),\n",
              " ('country_KAZ', 0.0),\n",
              " ('country_KOR', 0.0),\n",
              " ('country_KWT', 0.0),\n",
              " ('country_LBN', 0.0),\n",
              " ('country_LBY', 0.0),\n",
              " ('country_LIE', 0.0),\n",
              " ('country_LKA', 0.0),\n",
              " ('country_LTU', 0.0),\n",
              " ('country_LUX', 0.0),\n",
              " ('country_MAC', 0.0),\n",
              " ('country_MAR', 0.0),\n",
              " ('country_MCO', 0.0),\n",
              " ('country_MDV', 0.0),\n",
              " ('country_MEX', 0.0),\n",
              " ('country_MKD', 0.0),\n",
              " ('country_MLT', 0.0),\n",
              " ('country_MOZ', 0.0),\n",
              " ('country_MWI', 0.0),\n",
              " ('country_NLD', 0.0),\n",
              " ('country_NOR', 0.0),\n",
              " ('country_NZL', 0.0),\n",
              " ('country_OMN', 0.0),\n",
              " ('country_PAK', 0.0),\n",
              " ('country_PHL', 0.0),\n",
              " ('country_PRI', 0.0),\n",
              " ('country_PRT', 0.0),\n",
              " ('country_PRY', 0.0),\n",
              " ('country_ROU', 0.0),\n",
              " ('country_RUS', 0.0),\n",
              " ('country_RWA', 0.0),\n",
              " ('country_SAU', 0.0),\n",
              " ('country_SEN', 0.0),\n",
              " ('country_SGP', 0.0),\n",
              " ('country_SRB', 0.0),\n",
              " ('country_STP', 0.0),\n",
              " ('country_SUR', 0.0),\n",
              " ('country_SVN', 0.0),\n",
              " ('country_SWE', 0.0),\n",
              " ('country_THA', 0.0),\n",
              " ('country_TJK', 0.0),\n",
              " ('country_TUN', 0.0),\n",
              " ('country_TUR', 0.0),\n",
              " ('country_TWN', 0.0),\n",
              " ('country_TZA', 0.0),\n",
              " ('country_UGA', 0.0),\n",
              " ('country_URY', 0.0),\n",
              " ('country_USA', 0.0),\n",
              " ('country_Undefined', 0.0),\n",
              " ('country_VEN', 0.0),\n",
              " ('country_VNM', 0.0),\n",
              " ('country_ZAF', 0.0),\n",
              " ('deposit_type_No Deposit', 0.0),\n",
              " ('deposit_type_Refundable', 0.0),\n",
              " ('lead_time_category_Medium', 0.0),\n",
              " ('lead_time_category_Long', 0.0),\n",
              " ('lead_time_category_Very Long', 0.0),\n",
              " ('days_in_waiting_list_category_Very Short', 0.0),\n",
              " ('days_in_waiting_list_category_Short', 0.0),\n",
              " ('days_in_waiting_list_category_Medium', 0.0)]"
            ]
          },
          "metadata": {},
          "execution_count": 1727
        }
      ],
      "source": [
        "sorted(list(zip(df_trabajo_test_dum1.columns.to_list(), model1.feature_importances_)), key=lambda x: -x[1])"
      ]
    },
    {
      "cell_type": "markdown",
      "metadata": {
        "id": "EttnI_AsC7kK"
      },
      "source": [
        "### » Entramiento y prediccion con el segundo modelo de arbol planteado. (Modelo 2, Split)"
      ]
    },
    {
      "cell_type": "code",
      "execution_count": 1728,
      "metadata": {
        "id": "Nr_lXbXYDlJO"
      },
      "outputs": [],
      "source": [
        "\n",
        "\n",
        "features2 = ['hotel', 'total_guests', 'meal', 'country', 'is_repeated_guest', 'cancel_to_noncancel_ratio', 'room_type_match', 'lead_time_category', 'dif',\n",
        "             'booking_changes', 'deposit_type', 'days_in_waiting_list_category', 'customer_type', 'required_car_parking_spaces', 'is_canceled', 'id']\n",
        "\n",
        "\n",
        "\n",
        "df_split_train2 = df_trabajo_train[features2]\n",
        "df_split_test2= df_trabajo_test[features2]\n",
        "\n",
        "features_to_dum2 = [ 'hotel', 'meal', 'country', 'deposit_type', 'customer_type', 'lead_time_category', 'days_in_waiting_list_category']\n",
        "\n",
        "target2 = 'is_canceled'\n"
      ]
    },
    {
      "cell_type": "code",
      "source": [
        "df_split_train2 = df_split_train2.dropna(subset=['country'])\n",
        "\n",
        "train_countries = set(df_split_train2['country'].unique())\n",
        "test_countries = set(df_split_test2['country'].unique())\n",
        "\n",
        "# 1. Manejar ds_trabajo_train\n",
        "for country in train_countries:\n",
        "    # Si el país no está en ds_trabajo_test\n",
        "    if country not in test_countries:\n",
        "        country_count = df_split_train2['country'].value_counts()[country]\n",
        "        # Si aparece menos del 0.01%\n",
        "        if country_count / len(df_split_train2) <= 0.0001:\n",
        "            df_split_train2.loc[df_split_train2['country'] == country, 'country'] = 'Undefined'\n",
        "\n",
        "# 2. Manejar ds_trabajo_test\n",
        "for country in test_countries:\n",
        "    # Si el país no está en ds_trabajo_train (después de las posibles sustituciones)\n",
        "    if country not in train_countries:\n",
        "        df_split_test2.loc[df_split_test2['country'] == country, 'country'] = 'Undefined'\n"
      ],
      "metadata": {
        "id": "_5rstVUisq9m"
      },
      "execution_count": 1729,
      "outputs": []
    },
    {
      "cell_type": "code",
      "source": [
        "missing_categories = set(df_split_train2['country'].unique()) - set(df_split_test2['country'].unique())\n",
        "\n",
        "# Cambiar estas categorías a 'Undefined' en 'ds_trabajo_train'\n",
        "for category in missing_categories:\n",
        "    df_split_train2.loc[df_split_train2['country'] == category, 'country'] = 'Undefined'"
      ],
      "metadata": {
        "id": "eDUs1NRKswcG"
      },
      "execution_count": 1730,
      "outputs": []
    },
    {
      "cell_type": "code",
      "source": [
        "# unique_values_in_test = set(df_split_test2['assigned_room_type'].unique())\n",
        "# unique_values_in_train = set(df_split_train2['assigned_room_type'].unique())\n",
        "\n",
        "# values_to_replace_test = unique_values_in_test - unique_values_in_train\n",
        "# values_to_replace_train = unique_values_in_train - unique_values_in_test\n",
        "\n",
        "# mode_in_test = df_split_test2['assigned_room_type'].mode()[0]\n",
        "\n",
        "# for value in values_to_replace_test:\n",
        "#     df_split_test2.loc[df_split_test2['assigned_room_type'] == value, 'assigned_room_type'] = mode_in_test\n",
        "\n",
        "# for value in values_to_replace_train:\n",
        "#     df_split_train2.loc[df_split_train2['assigned_room_type'] == value, 'assigned_room_type'] = mode_in_test"
      ],
      "metadata": {
        "id": "L3mcRwsovHnJ"
      },
      "execution_count": 1731,
      "outputs": []
    },
    {
      "cell_type": "markdown",
      "source": [
        "- Verificacion del balanceo de clases"
      ],
      "metadata": {
        "id": "4NuuaB5Jo0B5"
      }
    },
    {
      "cell_type": "code",
      "execution_count": 1732,
      "metadata": {
        "colab": {
          "base_uri": "https://localhost:8080/"
        },
        "id": "O-eJtnyEC7Ab",
        "outputId": "86f94f66-be9f-4926-c59d-614e88baa237"
      },
      "outputs": [
        {
          "output_type": "execute_result",
          "data": {
            "text/plain": [
              "1    50.071327\n",
              "0    49.928673\n",
              "Name: is_canceled, dtype: float64"
            ]
          },
          "metadata": {},
          "execution_count": 1732
        }
      ],
      "source": [
        "df_split_train2[target2].value_counts(normalize=True)*100"
      ]
    },
    {
      "cell_type": "markdown",
      "source": [
        "- Evaluacion del dataset"
      ],
      "metadata": {
        "id": "mmzDvayFo1iq"
      }
    },
    {
      "cell_type": "code",
      "execution_count": 1733,
      "metadata": {
        "id": "KeHVkDnmDYPg"
      },
      "outputs": [],
      "source": [
        "\n",
        "df_split_train_dum2 = pd.get_dummies(df_split_train2[features2], columns = features_to_dum2)\n",
        "df_split_test_dum2 = pd.get_dummies(df_split_test2[features2], columns = features_to_dum2)\n",
        "\n",
        "x_train2, x_test2, y_train2, y_test2 = train_test_split(df_split_train_dum2.drop(['id', 'is_canceled'], axis=1).values,\n",
        "                                                     df_split_train2[target2].values,\n",
        "                                                     test_size=0.3,\n",
        "                                                     random_state=13,\n",
        "                                                     stratify=df_split_train2[target2].values)\n",
        "\n"
      ]
    },
    {
      "cell_type": "code",
      "execution_count": 1734,
      "metadata": {
        "colab": {
          "base_uri": "https://localhost:8080/"
        },
        "id": "Bm3FXvzbczMe",
        "outputId": "8f5a60cb-a0ca-42a8-b0ed-52e89629227f"
      },
      "outputs": [
        {
          "output_type": "stream",
          "name": "stdout",
          "text": [
            "# Datos Entrenamiento: 43181\n",
            "# Datos Prueba: 18507\n",
            "% Positivos Entrenamiento: 50.071\n",
            "% Positivos Prueba: 50.073\n"
          ]
        }
      ],
      "source": [
        "\n",
        "print('# Datos Entrenamiento: {}'.format(len(x_train2)))\n",
        "print('# Datos Prueba: {}'.format(len(x_test2)))\n",
        "\n",
        "for split_name, split in zip(['% Positivos Entrenamiento','% Positivos Prueba'],[y_train2,y_test2]):\n",
        "  print('{}: {:.3f}'.format(split_name,pd.Series(split).value_counts(normalize=True)[1]*100))\n"
      ]
    },
    {
      "cell_type": "code",
      "execution_count": 1735,
      "metadata": {
        "colab": {
          "base_uri": "https://localhost:8080/",
          "height": 406
        },
        "id": "7zM0u5jzPeSx",
        "outputId": "271e4997-88ec-4251-af23-6455a6c31b76"
      },
      "outputs": [
        {
          "output_type": "error",
          "ename": "KeyboardInterrupt",
          "evalue": "ignored",
          "traceback": [
            "\u001b[0;31m---------------------------------------------------------------------------\u001b[0m",
            "\u001b[0;31mKeyboardInterrupt\u001b[0m                         Traceback (most recent call last)",
            "\u001b[0;32m<ipython-input-1735-53b2d5e623f8>\u001b[0m in \u001b[0;36m<cell line: 8>\u001b[0;34m()\u001b[0m\n\u001b[1;32m      6\u001b[0m \u001b[0;34m\u001b[0m\u001b[0m\n\u001b[1;32m      7\u001b[0m \u001b[0;34m\u001b[0m\u001b[0m\n\u001b[0;32m----> 8\u001b[0;31m \u001b[0mmodel2\u001b[0m \u001b[0;34m=\u001b[0m \u001b[0mtree_model2\u001b[0m\u001b[0;34m.\u001b[0m\u001b[0mfit\u001b[0m\u001b[0;34m(\u001b[0m\u001b[0mX\u001b[0m \u001b[0;34m=\u001b[0m \u001b[0mx_train2\u001b[0m\u001b[0;34m,\u001b[0m \u001b[0my\u001b[0m \u001b[0;34m=\u001b[0m \u001b[0my_train2\u001b[0m\u001b[0;34m)\u001b[0m\u001b[0;34m\u001b[0m\u001b[0;34m\u001b[0m\u001b[0m\n\u001b[0m\u001b[1;32m      9\u001b[0m \u001b[0my_pred2\u001b[0m \u001b[0;34m=\u001b[0m \u001b[0mmodel2\u001b[0m\u001b[0;34m.\u001b[0m\u001b[0mpredict\u001b[0m\u001b[0;34m(\u001b[0m\u001b[0mx_test2\u001b[0m\u001b[0;34m)\u001b[0m\u001b[0;34m\u001b[0m\u001b[0;34m\u001b[0m\u001b[0m\n\u001b[1;32m     10\u001b[0m \u001b[0;34m\u001b[0m\u001b[0m\n",
            "\u001b[0;32m/usr/local/lib/python3.10/dist-packages/sklearn/tree/_classes.py\u001b[0m in \u001b[0;36mfit\u001b[0;34m(self, X, y, sample_weight, check_input)\u001b[0m\n\u001b[1;32m    887\u001b[0m         \"\"\"\n\u001b[1;32m    888\u001b[0m \u001b[0;34m\u001b[0m\u001b[0m\n\u001b[0;32m--> 889\u001b[0;31m         super().fit(\n\u001b[0m\u001b[1;32m    890\u001b[0m             \u001b[0mX\u001b[0m\u001b[0;34m,\u001b[0m\u001b[0;34m\u001b[0m\u001b[0;34m\u001b[0m\u001b[0m\n\u001b[1;32m    891\u001b[0m             \u001b[0my\u001b[0m\u001b[0;34m,\u001b[0m\u001b[0;34m\u001b[0m\u001b[0;34m\u001b[0m\u001b[0m\n",
            "\u001b[0;32m/usr/local/lib/python3.10/dist-packages/sklearn/tree/_classes.py\u001b[0m in \u001b[0;36mfit\u001b[0;34m(self, X, y, sample_weight, check_input)\u001b[0m\n\u001b[1;32m    184\u001b[0m             \u001b[0mcheck_X_params\u001b[0m \u001b[0;34m=\u001b[0m \u001b[0mdict\u001b[0m\u001b[0;34m(\u001b[0m\u001b[0mdtype\u001b[0m\u001b[0;34m=\u001b[0m\u001b[0mDTYPE\u001b[0m\u001b[0;34m,\u001b[0m \u001b[0maccept_sparse\u001b[0m\u001b[0;34m=\u001b[0m\u001b[0;34m\"csc\"\u001b[0m\u001b[0;34m)\u001b[0m\u001b[0;34m\u001b[0m\u001b[0;34m\u001b[0m\u001b[0m\n\u001b[1;32m    185\u001b[0m             \u001b[0mcheck_y_params\u001b[0m \u001b[0;34m=\u001b[0m \u001b[0mdict\u001b[0m\u001b[0;34m(\u001b[0m\u001b[0mensure_2d\u001b[0m\u001b[0;34m=\u001b[0m\u001b[0;32mFalse\u001b[0m\u001b[0;34m,\u001b[0m \u001b[0mdtype\u001b[0m\u001b[0;34m=\u001b[0m\u001b[0;32mNone\u001b[0m\u001b[0;34m)\u001b[0m\u001b[0;34m\u001b[0m\u001b[0;34m\u001b[0m\u001b[0m\n\u001b[0;32m--> 186\u001b[0;31m             X, y = self._validate_data(\n\u001b[0m\u001b[1;32m    187\u001b[0m                 \u001b[0mX\u001b[0m\u001b[0;34m,\u001b[0m \u001b[0my\u001b[0m\u001b[0;34m,\u001b[0m \u001b[0mvalidate_separately\u001b[0m\u001b[0;34m=\u001b[0m\u001b[0;34m(\u001b[0m\u001b[0mcheck_X_params\u001b[0m\u001b[0;34m,\u001b[0m \u001b[0mcheck_y_params\u001b[0m\u001b[0;34m)\u001b[0m\u001b[0;34m\u001b[0m\u001b[0;34m\u001b[0m\u001b[0m\n\u001b[1;32m    188\u001b[0m             )\n",
            "\u001b[0;32m/usr/local/lib/python3.10/dist-packages/sklearn/base.py\u001b[0m in \u001b[0;36m_validate_data\u001b[0;34m(self, X, y, reset, validate_separately, **check_params)\u001b[0m\n\u001b[1;32m    577\u001b[0m                 \u001b[0;32mif\u001b[0m \u001b[0;34m\"estimator\"\u001b[0m \u001b[0;32mnot\u001b[0m \u001b[0;32min\u001b[0m \u001b[0mcheck_X_params\u001b[0m\u001b[0;34m:\u001b[0m\u001b[0;34m\u001b[0m\u001b[0;34m\u001b[0m\u001b[0m\n\u001b[1;32m    578\u001b[0m                     \u001b[0mcheck_X_params\u001b[0m \u001b[0;34m=\u001b[0m \u001b[0;34m{\u001b[0m\u001b[0;34m**\u001b[0m\u001b[0mdefault_check_params\u001b[0m\u001b[0;34m,\u001b[0m \u001b[0;34m**\u001b[0m\u001b[0mcheck_X_params\u001b[0m\u001b[0;34m}\u001b[0m\u001b[0;34m\u001b[0m\u001b[0;34m\u001b[0m\u001b[0m\n\u001b[0;32m--> 579\u001b[0;31m                 \u001b[0mX\u001b[0m \u001b[0;34m=\u001b[0m \u001b[0mcheck_array\u001b[0m\u001b[0;34m(\u001b[0m\u001b[0mX\u001b[0m\u001b[0;34m,\u001b[0m \u001b[0minput_name\u001b[0m\u001b[0;34m=\u001b[0m\u001b[0;34m\"X\"\u001b[0m\u001b[0;34m,\u001b[0m \u001b[0;34m**\u001b[0m\u001b[0mcheck_X_params\u001b[0m\u001b[0;34m)\u001b[0m\u001b[0;34m\u001b[0m\u001b[0;34m\u001b[0m\u001b[0m\n\u001b[0m\u001b[1;32m    580\u001b[0m                 \u001b[0;32mif\u001b[0m \u001b[0;34m\"estimator\"\u001b[0m \u001b[0;32mnot\u001b[0m \u001b[0;32min\u001b[0m \u001b[0mcheck_y_params\u001b[0m\u001b[0;34m:\u001b[0m\u001b[0;34m\u001b[0m\u001b[0;34m\u001b[0m\u001b[0m\n\u001b[1;32m    581\u001b[0m                     \u001b[0mcheck_y_params\u001b[0m \u001b[0;34m=\u001b[0m \u001b[0;34m{\u001b[0m\u001b[0;34m**\u001b[0m\u001b[0mdefault_check_params\u001b[0m\u001b[0;34m,\u001b[0m \u001b[0;34m**\u001b[0m\u001b[0mcheck_y_params\u001b[0m\u001b[0;34m}\u001b[0m\u001b[0;34m\u001b[0m\u001b[0;34m\u001b[0m\u001b[0m\n",
            "\u001b[0;32m/usr/local/lib/python3.10/dist-packages/sklearn/utils/validation.py\u001b[0m in \u001b[0;36mcheck_array\u001b[0;34m(array, accept_sparse, accept_large_sparse, dtype, order, copy, force_all_finite, ensure_2d, allow_nd, ensure_min_samples, ensure_min_features, estimator, input_name)\u001b[0m\n\u001b[1;32m    877\u001b[0m                     \u001b[0marray\u001b[0m \u001b[0;34m=\u001b[0m \u001b[0mxp\u001b[0m\u001b[0;34m.\u001b[0m\u001b[0mastype\u001b[0m\u001b[0;34m(\u001b[0m\u001b[0marray\u001b[0m\u001b[0;34m,\u001b[0m \u001b[0mdtype\u001b[0m\u001b[0;34m,\u001b[0m \u001b[0mcopy\u001b[0m\u001b[0;34m=\u001b[0m\u001b[0;32mFalse\u001b[0m\u001b[0;34m)\u001b[0m\u001b[0;34m\u001b[0m\u001b[0;34m\u001b[0m\u001b[0m\n\u001b[1;32m    878\u001b[0m                 \u001b[0;32melse\u001b[0m\u001b[0;34m:\u001b[0m\u001b[0;34m\u001b[0m\u001b[0;34m\u001b[0m\u001b[0m\n\u001b[0;32m--> 879\u001b[0;31m                     \u001b[0marray\u001b[0m \u001b[0;34m=\u001b[0m \u001b[0m_asarray_with_order\u001b[0m\u001b[0;34m(\u001b[0m\u001b[0marray\u001b[0m\u001b[0;34m,\u001b[0m \u001b[0morder\u001b[0m\u001b[0;34m=\u001b[0m\u001b[0morder\u001b[0m\u001b[0;34m,\u001b[0m \u001b[0mdtype\u001b[0m\u001b[0;34m=\u001b[0m\u001b[0mdtype\u001b[0m\u001b[0;34m,\u001b[0m \u001b[0mxp\u001b[0m\u001b[0;34m=\u001b[0m\u001b[0mxp\u001b[0m\u001b[0;34m)\u001b[0m\u001b[0;34m\u001b[0m\u001b[0;34m\u001b[0m\u001b[0m\n\u001b[0m\u001b[1;32m    880\u001b[0m             \u001b[0;32mexcept\u001b[0m \u001b[0mComplexWarning\u001b[0m \u001b[0;32mas\u001b[0m \u001b[0mcomplex_warning\u001b[0m\u001b[0;34m:\u001b[0m\u001b[0;34m\u001b[0m\u001b[0;34m\u001b[0m\u001b[0m\n\u001b[1;32m    881\u001b[0m                 raise ValueError(\n",
            "\u001b[0;32m/usr/local/lib/python3.10/dist-packages/sklearn/utils/_array_api.py\u001b[0m in \u001b[0;36m_asarray_with_order\u001b[0;34m(array, dtype, order, copy, xp)\u001b[0m\n\u001b[1;32m    184\u001b[0m         \u001b[0;31m# Use NumPy API to support order\u001b[0m\u001b[0;34m\u001b[0m\u001b[0;34m\u001b[0m\u001b[0m\n\u001b[1;32m    185\u001b[0m         \u001b[0marray\u001b[0m \u001b[0;34m=\u001b[0m \u001b[0mnumpy\u001b[0m\u001b[0;34m.\u001b[0m\u001b[0masarray\u001b[0m\u001b[0;34m(\u001b[0m\u001b[0marray\u001b[0m\u001b[0;34m,\u001b[0m \u001b[0morder\u001b[0m\u001b[0;34m=\u001b[0m\u001b[0morder\u001b[0m\u001b[0;34m,\u001b[0m \u001b[0mdtype\u001b[0m\u001b[0;34m=\u001b[0m\u001b[0mdtype\u001b[0m\u001b[0;34m)\u001b[0m\u001b[0;34m\u001b[0m\u001b[0;34m\u001b[0m\u001b[0m\n\u001b[0;32m--> 186\u001b[0;31m         \u001b[0;32mreturn\u001b[0m \u001b[0mxp\u001b[0m\u001b[0;34m.\u001b[0m\u001b[0masarray\u001b[0m\u001b[0;34m(\u001b[0m\u001b[0marray\u001b[0m\u001b[0;34m,\u001b[0m \u001b[0mcopy\u001b[0m\u001b[0;34m=\u001b[0m\u001b[0mcopy\u001b[0m\u001b[0;34m)\u001b[0m\u001b[0;34m\u001b[0m\u001b[0;34m\u001b[0m\u001b[0m\n\u001b[0m\u001b[1;32m    187\u001b[0m     \u001b[0;32melse\u001b[0m\u001b[0;34m:\u001b[0m\u001b[0;34m\u001b[0m\u001b[0;34m\u001b[0m\u001b[0m\n\u001b[1;32m    188\u001b[0m         \u001b[0;32mreturn\u001b[0m \u001b[0mxp\u001b[0m\u001b[0;34m.\u001b[0m\u001b[0masarray\u001b[0m\u001b[0;34m(\u001b[0m\u001b[0marray\u001b[0m\u001b[0;34m,\u001b[0m \u001b[0mdtype\u001b[0m\u001b[0;34m=\u001b[0m\u001b[0mdtype\u001b[0m\u001b[0;34m,\u001b[0m \u001b[0mcopy\u001b[0m\u001b[0;34m=\u001b[0m\u001b[0mcopy\u001b[0m\u001b[0;34m)\u001b[0m\u001b[0;34m\u001b[0m\u001b[0;34m\u001b[0m\u001b[0m\n",
            "\u001b[0;32m/usr/local/lib/python3.10/dist-packages/sklearn/utils/_array_api.py\u001b[0m in \u001b[0;36masarray\u001b[0;34m(self, x, dtype, device, copy)\u001b[0m\n\u001b[1;32m     68\u001b[0m         \u001b[0;32mreturn\u001b[0m \u001b[0mx\u001b[0m\u001b[0;34m.\u001b[0m\u001b[0mastype\u001b[0m\u001b[0;34m(\u001b[0m\u001b[0mdtype\u001b[0m\u001b[0;34m,\u001b[0m \u001b[0mcopy\u001b[0m\u001b[0;34m=\u001b[0m\u001b[0mcopy\u001b[0m\u001b[0;34m,\u001b[0m \u001b[0mcasting\u001b[0m\u001b[0;34m=\u001b[0m\u001b[0mcasting\u001b[0m\u001b[0;34m)\u001b[0m\u001b[0;34m\u001b[0m\u001b[0;34m\u001b[0m\u001b[0m\n\u001b[1;32m     69\u001b[0m \u001b[0;34m\u001b[0m\u001b[0m\n\u001b[0;32m---> 70\u001b[0;31m     \u001b[0;32mdef\u001b[0m \u001b[0masarray\u001b[0m\u001b[0;34m(\u001b[0m\u001b[0mself\u001b[0m\u001b[0;34m,\u001b[0m \u001b[0mx\u001b[0m\u001b[0;34m,\u001b[0m \u001b[0;34m*\u001b[0m\u001b[0;34m,\u001b[0m \u001b[0mdtype\u001b[0m\u001b[0;34m=\u001b[0m\u001b[0;32mNone\u001b[0m\u001b[0;34m,\u001b[0m \u001b[0mdevice\u001b[0m\u001b[0;34m=\u001b[0m\u001b[0;32mNone\u001b[0m\u001b[0;34m,\u001b[0m \u001b[0mcopy\u001b[0m\u001b[0;34m=\u001b[0m\u001b[0;32mNone\u001b[0m\u001b[0;34m)\u001b[0m\u001b[0;34m:\u001b[0m\u001b[0;34m\u001b[0m\u001b[0;34m\u001b[0m\u001b[0m\n\u001b[0m\u001b[1;32m     71\u001b[0m         \u001b[0;31m# Support copy in NumPy namespace\u001b[0m\u001b[0;34m\u001b[0m\u001b[0;34m\u001b[0m\u001b[0m\n\u001b[1;32m     72\u001b[0m         \u001b[0;32mif\u001b[0m \u001b[0mcopy\u001b[0m \u001b[0;32mis\u001b[0m \u001b[0;32mTrue\u001b[0m\u001b[0;34m:\u001b[0m\u001b[0;34m\u001b[0m\u001b[0;34m\u001b[0m\u001b[0m\n",
            "\u001b[0;31mKeyboardInterrupt\u001b[0m: "
          ]
        }
      ],
      "source": [
        "\n",
        "tree_model2 = tree.DecisionTreeClassifier(criterion = 'entropy',\n",
        "                                        max_depth = 13,\n",
        "                                        min_samples_leaf = 6,\n",
        "                                        ccp_alpha = 0.001,\n",
        "                                        min_samples_split= 36)\n",
        "\n",
        "\n",
        "model2 = tree_model2.fit(X = x_train2, y = y_train2)\n",
        "y_pred2 = model2.predict(x_test2)\n",
        "\n",
        "\n",
        "tabla2 = confusion_matrix(y_test2, y_pred2)\n",
        "sns.heatmap(tabla2,cmap='GnBu',annot=True,fmt='g')\n",
        "plt.xlabel('Predicted')\n",
        "plt.ylabel('True')\n"
      ]
    },
    {
      "cell_type": "code",
      "execution_count": null,
      "metadata": {
        "id": "QhVEU0RUPxPj"
      },
      "outputs": [],
      "source": [
        "mostrar_metricas(y_test2, y_pred2)"
      ]
    },
    {
      "cell_type": "code",
      "execution_count": null,
      "metadata": {
        "id": "BsELjmmyZFaW"
      },
      "outputs": [],
      "source": [
        "df_split_test2 = df_split_test_dum2.drop(['is_canceled', 'id'], axis='columns', inplace=False)\n",
        "ids2 = df_split_test_dum2['id'].copy()\n",
        "\n",
        "columnas_faltantes_en_train = set(df_split_test_dum2.columns) - set(df_split_train_dum2.columns)\n",
        "columnas_faltantes_en_test = set(df_split_train_dum2.columns)- set(df_split_test_dum2.columns)\n",
        "\n",
        "print('Columnas faltantes es train:', columnas_faltantes_en_train)\n",
        "print('Columnas faltantes es test:', columnas_faltantes_en_test)\n",
        "\n",
        "prediccion2 = model2.predict(df_split_test2)\n",
        "\n",
        "df_prediccion2 = pd.DataFrame({'id': ids2, 'is_canceled': prediccion2})\n",
        "\n",
        "df_prediccion2.to_csv('df_prediccion2.csv')\n",
        "files.download('df_prediccion2.csv')"
      ]
    },
    {
      "cell_type": "markdown",
      "source": [
        "## » Muestra del arbol"
      ],
      "metadata": {
        "id": "rvTcA4F8v73e"
      }
    },
    {
      "cell_type": "code",
      "source": [
        "\n",
        "dot_data = StringIO()\n",
        "export_graphviz(model2, out_file=dot_data,\n",
        "                filled=True, rounded=True,\n",
        "                special_characters=True,\n",
        "                feature_names=df_split_test2.columns.to_list(),\n",
        "                class_names=['is_cancled','is_not_canceled'])\n",
        "\n",
        "graph = pydotplus.graph_from_dot_data(dot_data.getvalue())\n",
        "Image(graph.create_png())\n",
        "\n"
      ],
      "metadata": {
        "id": "Lji5dZzKBCzR"
      },
      "execution_count": null,
      "outputs": []
    },
    {
      "cell_type": "markdown",
      "source": [
        "## » Optimizacion de parametros con Random Search -  Cross Validation (Modelo 3)\n",
        "\n",
        "Seguimos utilizando lo mismo que el modelo 2"
      ],
      "metadata": {
        "id": "5GaYZFt9wIOd"
      }
    },
    {
      "cell_type": "code",
      "execution_count": null,
      "metadata": {
        "id": "3u3BdrpCzSYB"
      },
      "outputs": [],
      "source": [
        "from sklearn.model_selection import StratifiedKFold, KFold,RandomizedSearchCV\n",
        "from sklearn.tree import DecisionTreeClassifier\n",
        "from sklearn.metrics import make_scorer, f1_score\n",
        "\n",
        "#Cantidad de combinaciones que quiero porbar\n",
        "n=10\n",
        "\n",
        "#Conjunto de parámetros que quiero usar\n",
        "params_grid = {'criterion':['gini','entropy'],\n",
        "               'min_samples_leaf':list(range(5,50)),\n",
        "               'min_samples_split': list(range(4,40)),\n",
        "               'ccp_alpha':np.linspace(0.001,0.005,n),\n",
        "               'max_depth':list(range(5,30))}\n",
        "\n",
        "#Cantidad de splits para el Cross Validation\n",
        "folds=15\n",
        "\n",
        "#Kfold estratificado\n",
        "kfoldcv = StratifiedKFold(n_splits=folds)\n",
        "\n",
        "#Clasificador\n",
        "base_tree = DecisionTreeClassifier()\n",
        "\n",
        "#Metrica que quiero optimizar F1 Score\n",
        "scorer_fn = make_scorer(f1_score)\n",
        "\n",
        "#Random Search Cross Validation\n",
        "randomcv = RandomizedSearchCV(estimator=base_tree,\n",
        "                              param_distributions = params_grid,\n",
        "                              scoring=scorer_fn,\n",
        "                              cv=kfoldcv,\n",
        "                              n_iter=n)\n",
        "\n",
        "#Busco los hiperparamtros que optimizan F1 Score\n",
        "randomcv.fit(x_train2,y_train2);"
      ]
    },
    {
      "cell_type": "code",
      "execution_count": null,
      "metadata": {
        "id": "i7sD8c9lzW1B"
      },
      "outputs": [],
      "source": [
        "print(randomcv.best_params_)\n",
        "#Mejor métrica\n",
        "print(randomcv.best_score_)"
      ]
    },
    {
      "cell_type": "code",
      "execution_count": null,
      "metadata": {
        "id": "7qoA8QZkzX9-"
      },
      "outputs": [],
      "source": [
        "randomcv.cv_results_['mean_test_score']"
      ]
    },
    {
      "cell_type": "code",
      "source": [
        "x_train3, x_test3, y_train3, y_test3 = train_test_split(df_split_train_dum2.drop(['id', 'is_canceled'], axis=1).values,\n",
        "                                                     df_split_train2[target2].values,\n",
        "                                                     test_size=0.2,\n",
        "                                                     random_state=13,\n",
        "                                                     stratify=df_split_train2[target2].values)\n"
      ],
      "metadata": {
        "id": "URy0LnVA1KN1"
      },
      "execution_count": null,
      "outputs": []
    },
    {
      "cell_type": "code",
      "source": [
        "#Entrenamiento con K Fold Cross Validation\n",
        "from sklearn.model_selection import cross_validate, StratifiedKFold\n",
        "\n",
        "# Spits que respeten la proporción delas clases\n",
        "kfoldcv =StratifiedKFold(n_splits=15)\n",
        "\n",
        "#Creo árbol con los mejores hiperparámetros\n",
        "arbolcv3 = DecisionTreeClassifier().set_params(**randomcv.best_params_)\n",
        "\n",
        "#Selecciono métrica F1-Score\n",
        "scorer_fn = make_scorer(f1_score)\n",
        "\n",
        "#Hago CV\n",
        "resultados = cross_validate(arbolcv3,x_train3, y_train3, cv=kfoldcv,scoring=scorer_fn,return_estimator=True)\n",
        "\n",
        "metricsCV=resultados['test_score']\n",
        "mejor_performance=resultados['estimator'][np.where(metricsCV==max(metricsCV))[0][0]]\n"
      ],
      "metadata": {
        "id": "8u4GLXWv0b-a"
      },
      "execution_count": null,
      "outputs": []
    },
    {
      "cell_type": "code",
      "source": [
        "resultados"
      ],
      "metadata": {
        "id": "TPt1sj3H0hJd"
      },
      "execution_count": null,
      "outputs": []
    },
    {
      "cell_type": "code",
      "source": [
        "metricsCV\n"
      ],
      "metadata": {
        "id": "H954Qz1o0ige"
      },
      "execution_count": null,
      "outputs": []
    },
    {
      "cell_type": "code",
      "source": [
        "\n",
        "model3 = arbolcv3.fit(X = x_train3, y = y_train3)\n",
        "y_pred3 = model3.predict(x_test3)\n",
        "\n",
        "\n",
        "tabla3 = confusion_matrix(y_test3, y_pred3)\n",
        "\n",
        "sns.heatmap(tabla3,cmap='GnBu',annot=True,fmt='g')\n",
        "plt.xlabel('Predicted')\n",
        "plt.ylabel('True')"
      ],
      "metadata": {
        "id": "UKMqyrMIzrzc"
      },
      "execution_count": null,
      "outputs": []
    },
    {
      "cell_type": "code",
      "source": [
        "mostrar_metricas(y_test3, y_pred3)"
      ],
      "metadata": {
        "id": "YjdnZl570D3O"
      },
      "execution_count": null,
      "outputs": []
    },
    {
      "cell_type": "code",
      "source": [
        "df_split_test3 = df_split_test_dum2.drop(['is_canceled', 'id'], axis='columns', inplace=False)\n",
        "ids3 = df_split_test_dum2['id'].copy()\n",
        "\n",
        "prediccion3 = mejor_performance.predict(df_split_test3)\n",
        "\n",
        "df_prediccion3 = pd.DataFrame({'id': ids3, 'is_canceled': prediccion3})\n",
        "\n",
        "df_resultado3 = pd.DataFrame(zip(ids3, prediccion3),columns=['id','is_canceled'])\n",
        "df_resultado3.to_csv('df_prediccion3.csv')\n",
        "files.download('df_prediccion3.csv')"
      ],
      "metadata": {
        "id": "kwcne2cq00gB"
      },
      "execution_count": null,
      "outputs": []
    },
    {
      "cell_type": "code",
      "source": [
        "#Grafico\n",
        "dot_data = StringIO()\n",
        "export_graphviz(mejor_performance, out_file=dot_data,\n",
        "                filled=True, rounded=True,\n",
        "                special_characters=True,\n",
        "                feature_names=df_split_test3.columns.to_list(),\n",
        "                class_names=['is_canceled','is_not_canceled'])\n",
        "\n",
        "graph = pydotplus.graph_from_dot_data(dot_data.getvalue())\n",
        "Image(graph.create_png())"
      ],
      "metadata": {
        "id": "1IDLT3oQCgEa"
      },
      "execution_count": null,
      "outputs": []
    }
  ],
  "metadata": {
    "colab": {
      "provenance": [],
      "include_colab_link": true
    },
    "kernelspec": {
      "display_name": "Python 3",
      "name": "python3"
    },
    "language_info": {
      "name": "python"
    }
  },
  "nbformat": 4,
  "nbformat_minor": 0
}