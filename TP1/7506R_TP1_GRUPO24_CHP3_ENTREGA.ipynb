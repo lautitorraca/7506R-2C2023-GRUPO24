{
  "cells": [
    {
      "cell_type": "markdown",
      "metadata": {
        "id": "view-in-github",
        "colab_type": "text"
      },
      "source": [
        "<a href=\"https://colab.research.google.com/github/lautitorraca/7506R-2C2023-GRUPO24/blob/main/TP1/7506R_TP1_GRUPO24_CHP3_ENTREGA.ipynb\" target=\"_parent\"><img src=\"https://colab.research.google.com/assets/colab-badge.svg\" alt=\"Open In Colab\"/></a>"
      ]
    },
    {
      "cell_type": "code",
      "execution_count": 65,
      "metadata": {
        "colab": {
          "base_uri": "https://localhost:8080/"
        },
        "id": "0dLd23tbjFoc",
        "outputId": "a54d0db0-848e-4460-d09a-f0586f270cd8"
      },
      "outputs": [
        {
          "output_type": "stream",
          "name": "stdout",
          "text": [
            "Requirement already satisfied: dtreeviz in /usr/local/lib/python3.10/dist-packages (2.2.2)\n",
            "Requirement already satisfied: graphviz>=0.9 in /usr/local/lib/python3.10/dist-packages (from dtreeviz) (0.20.1)\n",
            "Requirement already satisfied: pandas in /usr/local/lib/python3.10/dist-packages (from dtreeviz) (1.5.3)\n",
            "Requirement already satisfied: numpy in /usr/local/lib/python3.10/dist-packages (from dtreeviz) (1.23.5)\n",
            "Requirement already satisfied: scikit-learn in /usr/local/lib/python3.10/dist-packages (from dtreeviz) (1.2.2)\n",
            "Requirement already satisfied: matplotlib in /usr/local/lib/python3.10/dist-packages (from dtreeviz) (3.7.1)\n",
            "Requirement already satisfied: colour in /usr/local/lib/python3.10/dist-packages (from dtreeviz) (0.1.5)\n",
            "Requirement already satisfied: pytest in /usr/local/lib/python3.10/dist-packages (from dtreeviz) (7.4.2)\n",
            "Requirement already satisfied: contourpy>=1.0.1 in /usr/local/lib/python3.10/dist-packages (from matplotlib->dtreeviz) (1.1.1)\n",
            "Requirement already satisfied: cycler>=0.10 in /usr/local/lib/python3.10/dist-packages (from matplotlib->dtreeviz) (0.12.1)\n",
            "Requirement already satisfied: fonttools>=4.22.0 in /usr/local/lib/python3.10/dist-packages (from matplotlib->dtreeviz) (4.43.1)\n",
            "Requirement already satisfied: kiwisolver>=1.0.1 in /usr/local/lib/python3.10/dist-packages (from matplotlib->dtreeviz) (1.4.5)\n",
            "Requirement already satisfied: packaging>=20.0 in /usr/local/lib/python3.10/dist-packages (from matplotlib->dtreeviz) (23.2)\n",
            "Requirement already satisfied: pillow>=6.2.0 in /usr/local/lib/python3.10/dist-packages (from matplotlib->dtreeviz) (9.4.0)\n",
            "Requirement already satisfied: pyparsing>=2.3.1 in /usr/local/lib/python3.10/dist-packages (from matplotlib->dtreeviz) (3.1.1)\n",
            "Requirement already satisfied: python-dateutil>=2.7 in /usr/local/lib/python3.10/dist-packages (from matplotlib->dtreeviz) (2.8.2)\n",
            "Requirement already satisfied: pytz>=2020.1 in /usr/local/lib/python3.10/dist-packages (from pandas->dtreeviz) (2023.3.post1)\n",
            "Requirement already satisfied: iniconfig in /usr/local/lib/python3.10/dist-packages (from pytest->dtreeviz) (2.0.0)\n",
            "Requirement already satisfied: pluggy<2.0,>=0.12 in /usr/local/lib/python3.10/dist-packages (from pytest->dtreeviz) (1.3.0)\n",
            "Requirement already satisfied: exceptiongroup>=1.0.0rc8 in /usr/local/lib/python3.10/dist-packages (from pytest->dtreeviz) (1.1.3)\n",
            "Requirement already satisfied: tomli>=1.0.0 in /usr/local/lib/python3.10/dist-packages (from pytest->dtreeviz) (2.0.1)\n",
            "Requirement already satisfied: scipy>=1.3.2 in /usr/local/lib/python3.10/dist-packages (from scikit-learn->dtreeviz) (1.11.3)\n",
            "Requirement already satisfied: joblib>=1.1.1 in /usr/local/lib/python3.10/dist-packages (from scikit-learn->dtreeviz) (1.3.2)\n",
            "Requirement already satisfied: threadpoolctl>=2.0.0 in /usr/local/lib/python3.10/dist-packages (from scikit-learn->dtreeviz) (3.2.0)\n",
            "Requirement already satisfied: six>=1.5 in /usr/local/lib/python3.10/dist-packages (from python-dateutil>=2.7->matplotlib->dtreeviz) (1.16.0)\n",
            "Requirement already satisfied: scikit-learn-intelex in /usr/local/lib/python3.10/dist-packages (2023.2.1)\n",
            "Requirement already satisfied: daal4py==2023.2.1 in /usr/local/lib/python3.10/dist-packages (from scikit-learn-intelex) (2023.2.1)\n",
            "Requirement already satisfied: scikit-learn>=0.22 in /usr/local/lib/python3.10/dist-packages (from scikit-learn-intelex) (1.2.2)\n",
            "Requirement already satisfied: daal==2023.2.1 in /usr/local/lib/python3.10/dist-packages (from daal4py==2023.2.1->scikit-learn-intelex) (2023.2.1)\n",
            "Requirement already satisfied: numpy>=1.19 in /usr/local/lib/python3.10/dist-packages (from daal4py==2023.2.1->scikit-learn-intelex) (1.23.5)\n",
            "Requirement already satisfied: tbb==2021.* in /usr/local/lib/python3.10/dist-packages (from daal==2023.2.1->daal4py==2023.2.1->scikit-learn-intelex) (2021.10.0)\n",
            "Requirement already satisfied: scipy>=1.3.2 in /usr/local/lib/python3.10/dist-packages (from scikit-learn>=0.22->scikit-learn-intelex) (1.11.3)\n",
            "Requirement already satisfied: joblib>=1.1.1 in /usr/local/lib/python3.10/dist-packages (from scikit-learn>=0.22->scikit-learn-intelex) (1.3.2)\n",
            "Requirement already satisfied: threadpoolctl>=2.0.0 in /usr/local/lib/python3.10/dist-packages (from scikit-learn>=0.22->scikit-learn-intelex) (3.2.0)\n"
          ]
        }
      ],
      "source": [
        "!pip install 'dtreeviz'\n",
        "!pip install scikit-learn-intelex\n"
      ]
    },
    {
      "cell_type": "code",
      "execution_count": 66,
      "metadata": {
        "id": "cDTOM01OvEQe",
        "colab": {
          "base_uri": "https://localhost:8080/"
        },
        "outputId": "c28fe0f8-5179-42c4-b482-1ac7d0baca82"
      },
      "outputs": [
        {
          "output_type": "stream",
          "name": "stderr",
          "text": [
            "Intel(R) Extension for Scikit-learn* enabled (https://github.com/intel/scikit-learn-intelex)\n"
          ]
        }
      ],
      "source": [
        "import pandas as pd\n",
        "import numpy as np\n",
        "\n",
        "from sklearnex import patch_sklearn\n",
        "\n",
        "patch_sklearn()\n",
        "\n",
        "from sklearn.model_selection import train_test_split\n",
        "from sklearn.neighbors import KNeighborsClassifier, NeighborhoodComponentsAnalysis\n",
        "from sklearn.metrics import (\n",
        "    accuracy_score,\n",
        "    confusion_matrix,\n",
        "    classification_report,\n",
        "    precision_recall_curve,\n",
        "    roc_curve,\n",
        "    recall_score,\n",
        "    f1_score,\n",
        "    precision_score,\n",
        ")\n",
        "\n",
        "# Visualización\n",
        "import matplotlib.pyplot as plt\n",
        "import seaborn as sns\n",
        "import dtreeviz.trees as dtreeviz\n",
        "\n",
        "# Modelos y métricas\n",
        "from sklearn import tree\n",
        "from sklearn.model_selection import GridSearchCV, RandomizedSearchCV\n",
        "from sklearn.ensemble import RandomForestClassifier\n",
        "from sklearn.preprocessing import MinMaxScaler\n",
        "from sklearn.svm import SVC\n",
        "from sklearn.datasets import make_classification\n",
        "from xgboost import XGBClassifier\n",
        "import xgboost as xgb\n",
        "from sklearn.linear_model import LogisticRegression, LogisticRegressionCV\n",
        "from sklearn.ensemble import VotingClassifier\n",
        "from sklearn.model_selection import StratifiedKFold, KFold\n",
        "from sklearn.metrics import roc_auc_score\n",
        "from sklearn.neural_network import MLPClassifier\n",
        "from collections import defaultdict\n",
        "from sklearn.model_selection import cross_val_score, RepeatedStratifiedKFold\n",
        "from sklearn.model_selection import train_test_split\n",
        "from sklearn.neighbors import KNeighborsClassifier\n",
        "\n",
        "#Download\n",
        "from google.colab import files\n",
        "\n",
        "# Configuración de advertencias\n",
        "import warnings\n",
        "\n",
        "warnings.simplefilter(action='ignore', category=FutureWarning)\n",
        "warnings.simplefilter(action='ignore', category=UserWarning)"
      ]
    },
    {
      "cell_type": "code",
      "execution_count": 67,
      "metadata": {
        "id": "x8mqJgYGsLVc"
      },
      "outputs": [],
      "source": [
        "\n",
        "# url_train = 'https://raw.githubusercontent.com/lautitorraca/7506R-2C2023-GRUPO24/main/TP1/DataSets/df_train_limpio.csv'\n",
        "# url_test = 'https://raw.githubusercontent.com/lautitorraca/7506R-2C2023-GRUPO24/main/TP1/DataSets/df_test_limpio.csv'\n",
        "\n",
        "url_train = '/content/df_train_limpio.csv'\n",
        "url_test = '/content/df_test_limpio.csv'\n",
        "\n",
        "ds_train_base = pd.read_csv(url_train)\n",
        "ds_test_base = pd.read_csv(url_test)\n",
        "\n",
        "ds_test = ds_test_base.copy()\n",
        "df_test = pd.DataFrame(ds_test_base)\n",
        "\n",
        "ds_train = ds_train_base.copy()\n",
        "df_train = pd.DataFrame(ds_train_base)"
      ]
    },
    {
      "cell_type": "code",
      "source": [
        "print(df_train.shape)\n",
        "print(df_test.shape)"
      ],
      "metadata": {
        "colab": {
          "base_uri": "https://localhost:8080/"
        },
        "id": "lKwIreaNoqdZ",
        "outputId": "16d075a4-1c5f-4842-de11-e81909bfa02c"
      },
      "execution_count": 68,
      "outputs": [
        {
          "output_type": "stream",
          "name": "stdout",
          "text": [
            "(61913, 52)\n",
            "(26535, 52)\n"
          ]
        }
      ]
    },
    {
      "cell_type": "code",
      "source": [
        "# features = ['lead_time_category','booking_changes','required_car_parking_spaces','total_of_special_requests','room_type_match','cancel_to_noncancel_ratio', 'is_repeated_guest',\n",
        "#              'previous_cancellations','country', 'market_segment', 'deposit_type', 'distribution_channel', 'stays_in_weekend_nights', 'stays_in_week_nights', 'adr',\n",
        "#              'adults','children','babies', 'days_in_waiting_list_category','customer_type','hotel','is_canceled','id']\n",
        "\n",
        "# columns_to_dum= ['lead_time_category','hotel', 'country', 'market_segment', 'deposit_type', 'distribution_channel', 'days_in_waiting_list_category', 'customer_type']\n",
        "\n",
        "\n",
        "\n",
        "# # columna_a_eliminar_test = 'reservation_status_date'\n",
        "# # df_test.drop(columna_a_eliminar_test, axis='columns', inplace = True)\n",
        "# df_test.insert(1, 'is_canceled', \" \")\n",
        "\n",
        "# df_trabajo_train = df_train[features]\n",
        "# df_trabajo_train_dum = pd.get_dummies(df_trabajo_train, columns = columns_to_dum)\n",
        "# df_trabajo_train_dum = pd.DataFrame(df_trabajo_train_dum)\n",
        "\n",
        "# df_trabajo_test = df_test[features]\n",
        "# df_trabajo_test_dum = pd.get_dummies(df_trabajo_test, columns = columns_to_dum)\n",
        "# df_trabajo_test_dum = pd.DataFrame(df_trabajo_test_dum)\n",
        "\n",
        "df_trabajo_train_dum = df_train\n",
        "df_trabajo_test_dum = df_test\n",
        "\n"
      ],
      "metadata": {
        "id": "qim3Uharm74A"
      },
      "execution_count": 69,
      "outputs": []
    },
    {
      "cell_type": "markdown",
      "metadata": {
        "id": "38YutA_extCs"
      },
      "source": [
        "### KNN"
      ]
    },
    {
      "cell_type": "code",
      "execution_count": 70,
      "metadata": {
        "id": "Pz2mX1sw2jv3",
        "colab": {
          "base_uri": "https://localhost:8080/"
        },
        "outputId": "6d618202-eb42-4da6-9af4-8781f988f419"
      },
      "outputs": [
        {
          "output_type": "stream",
          "name": "stdout",
          "text": [
            "NaN en X_train: 0\n",
            "NaN en y_train: 0\n",
            "Tipo de X_train: <class 'pandas.core.frame.DataFrame'>\n",
            "Tipo de y_train: <class 'pandas.core.series.Series'>\n",
            "Dimensiones de X_train: (49530, 50)\n",
            "Dimensiones de y_train: (49530,)\n"
          ]
        }
      ],
      "source": [
        "from sklearn.model_selection import train_test_split\n",
        "\n",
        "X = df_trabajo_train_dum.drop(['is_canceled', 'id'], axis=1) # 'columna_resultado' es la columna que quieres predecir\n",
        "y = df_trabajo_train_dum['is_canceled']\n",
        "\n",
        "X_train, X_test, y_train, y_test = train_test_split(X, y, test_size=0.2, random_state=42)\n",
        "\n",
        "print(\"NaN en X_train:\", X_train.isnull().sum().sum())\n",
        "print(\"NaN en y_train:\", y_train.isnull().sum())\n",
        "\n",
        "# Verificar el tipo de datos\n",
        "print(\"Tipo de X_train:\", type(X_train))\n",
        "print(\"Tipo de y_train:\", type(y_train))\n",
        "\n",
        "# Convertir y_train a numpy array si es una Serie\n",
        "if isinstance(y_train, pd.Series):\n",
        "    y_train = y_train.values\n",
        "\n",
        "# Verificar dimensiones\n",
        "print(\"Dimensiones de X_train:\", X_train.shape)\n",
        "print(\"Dimensiones de y_train:\", y_train.shape)"
      ]
    },
    {
      "cell_type": "code",
      "source": [
        "X_train = X_train.to_numpy()\n",
        "y_train = y_train\n",
        "X_test = X_test.to_numpy()\n",
        "\n",
        "metrics = []\n",
        "\n",
        "k_range = range(19, 20)\n",
        "\n",
        "for n in k_range:\n",
        "    knn = KNeighborsClassifier(n_neighbors=n)\n",
        "    knn.fit(X_train, y_train)\n",
        "    y_pred = knn.predict(X_test)"
      ],
      "metadata": {
        "id": "izxjWVb-q6Mv"
      },
      "execution_count": 71,
      "outputs": []
    },
    {
      "cell_type": "code",
      "execution_count": 72,
      "metadata": {
        "colab": {
          "base_uri": "https://localhost:8080/"
        },
        "id": "Fk2N0nQ4sDBk",
        "outputId": "9011d161-0c14-4d56-cabf-b6d2e7c37fc3"
      },
      "outputs": [
        {
          "output_type": "stream",
          "name": "stdout",
          "text": [
            "best params:  {'weights': 'distance', 'n_neighbors': 28, 'metric': 'minkowski', 'algorithm': 'kd_tree'}\n",
            "best score:  0.536856598371355\n"
          ]
        }
      ],
      "source": [
        "from sklearn.model_selection import RandomizedSearchCV\n",
        "\n",
        "#Grilla de Parámetros\n",
        "params_grid={ 'n_neighbors':range(20,30),\n",
        "              'weights':['distance'],\n",
        "              'algorithm':['kd_tree'],\n",
        "              'metric':['minkowski']}\n",
        "\n",
        "\n",
        "#Clasificador KNN\n",
        "knn=KNeighborsClassifier()\n",
        "\n",
        "#Random Search con 10 Folds y 10 iteraciones\n",
        "rand = RandomizedSearchCV(knn, params_grid, cv=10, scoring='f1', n_iter=10, random_state=22)\n",
        "\n",
        "rand.fit(X_train, y_train)\n",
        "rand.cv_results_['mean_test_score']\n",
        "\n",
        "print('best params: ',rand.best_params_)\n",
        "\n",
        "print('best score: ',rand.best_score_)"
      ]
    },
    {
      "cell_type": "markdown",
      "metadata": {
        "id": "v8q2rxo72WtB"
      },
      "source": [
        "Mejores hiperparámetros:  {'weights': 'distance', 'n_neighbors': 27, 'metric': 'minkowski', 'algorithm': 'kd_tree'}\n",
        "best params:  {'weights': 'distance', 'n_neighbors': 27, 'metric': 'minkowski', 'algorithm': 'kd_tree'}\n",
        "best score:  0.8200656794820416"
      ]
    },
    {
      "cell_type": "code",
      "execution_count": 73,
      "metadata": {
        "colab": {
          "base_uri": "https://localhost:8080/"
        },
        "id": "CRv4A9o-uP2T",
        "outputId": "e0ff72de-b363-4688-b649-f5cd6d33f779"
      },
      "outputs": [
        {
          "output_type": "stream",
          "name": "stdout",
          "text": [
            "F1-Score en el conjunto de prueba con las características seleccionadas: 0.5403\n"
          ]
        }
      ],
      "source": [
        "best_knn=rand.best_estimator_\n",
        "\n",
        "y_pred = best_knn.predict(X_test)\n",
        "f1 = f1_score(y_test, y_pred)\n",
        "print(f\"F1-Score en el conjunto de prueba con las características seleccionadas: {f1:.4f}\")"
      ]
    },
    {
      "cell_type": "code",
      "execution_count": 74,
      "metadata": {
        "colab": {
          "base_uri": "https://localhost:8080/",
          "height": 467
        },
        "id": "5OLIQ8_2sFuw",
        "outputId": "6a02da06-171b-42ac-ac3d-c907c4dc5ae4"
      },
      "outputs": [
        {
          "output_type": "execute_result",
          "data": {
            "text/plain": [
              "Text(50.722222222222214, 0.5, 'True')"
            ]
          },
          "metadata": {},
          "execution_count": 74
        },
        {
          "output_type": "display_data",
          "data": {
            "text/plain": [
              "<Figure size 640x480 with 2 Axes>"
            ],
            "image/png": "[encoded data removed]"
          },
          "metadata": {}
        }
      ],
      "source": [
        "tabla1 = confusion_matrix(y_test, y_pred)\n",
        "sns.heatmap(tabla1,cmap='GnBu',annot=True,fmt='g')\n",
        "plt.xlabel('Predicted')\n",
        "plt.ylabel('True')\n"
      ]
    },
    {
      "cell_type": "code",
      "execution_count": 75,
      "metadata": {
        "id": "a6Y3-kzYsGh0"
      },
      "outputs": [],
      "source": [
        "def mostrar_metricas(y_test, y_pred):\n",
        "    accuracy=accuracy_score(y_test,y_pred)\n",
        "    recall=recall_score(y_test,y_pred)\n",
        "    f1=f1_score(y_test,y_pred)\n",
        "    precision=precision_score(y_test,y_pred)\n",
        "\n",
        "    print(\"Accuracy: \"+str(accuracy))\n",
        "    print(\"Recall: \"+str(recall))\n",
        "    print(\"Precision: \"+str(precision))\n",
        "    print(\"f1 score: \"+str(f1))"
      ]
    },
    {
      "cell_type": "code",
      "execution_count": 76,
      "metadata": {
        "colab": {
          "base_uri": "https://localhost:8080/"
        },
        "id": "mX0kw4AssHgm",
        "outputId": "293fa478-6789-4d98-f17b-c836e458ee2d"
      },
      "outputs": [
        {
          "output_type": "stream",
          "name": "stdout",
          "text": [
            "Accuracy: 0.5365420334329323\n",
            "Recall: 0.5424573817947893\n",
            "Precision: 0.5382160523376416\n",
            "f1 score: 0.5403283940728875\n"
          ]
        }
      ],
      "source": [
        "mostrar_metricas(y_test, y_pred)"
      ]
    },
    {
      "cell_type": "code",
      "source": [
        "\n",
        "# df_knn = df_trabajo_test_dum.drop(['is_canceled', 'id'], axis='columns', inplace=False)\n",
        "# ids1 = df_trabajo_test_dum['id'].copy()\n",
        "\n",
        "# pred_knn = best_knn.predict(df_knn)\n",
        "\n",
        "# df_pred_knn = pd.DataFrame({'id': ids1, 'is_canceled': pred_knn})\n",
        "\n",
        "# df_pred_knn.to_csv('df_pred_knn.csv')\n",
        "# files.download('df_pred_knn.csv')\n"
      ],
      "metadata": {
        "id": "g-sx5tibauiC"
      },
      "execution_count": 77,
      "outputs": []
    },
    {
      "cell_type": "markdown",
      "metadata": {
        "id": "Cn82y3lNy_Bo"
      },
      "source": [
        "### SVM"
      ]
    },
    {
      "cell_type": "code",
      "execution_count": 78,
      "metadata": {
        "id": "soY_os6Fy-mk"
      },
      "outputs": [],
      "source": [
        "def metricas(y_pred,y_test):\n",
        "\n",
        "  print(classification_report(y_test,y_pred))\n",
        "\n",
        "  cm = confusion_matrix(y_test,y_pred)\n",
        "  sns.heatmap(cm, cmap='Blues',annot=True,fmt='g')\n",
        "  plt.xlabel('Predicted')\n",
        "  plt.ylabel('True')"
      ]
    },
    {
      "cell_type": "code",
      "execution_count": 79,
      "metadata": {
        "id": "rnQylVAQzGPV"
      },
      "outputs": [],
      "source": [
        "from sklearn import preprocessing\n",
        "#Armo una version escalada con minmax (media=0 , var=1  )\n",
        "min_max_scaler = preprocessing.MinMaxScaler()\n",
        "x_train_minmax = min_max_scaler.fit_transform(X_train)\n",
        "x_test_minmax  = min_max_scaler.transform(X_test)\n",
        "\n",
        "#Armo una version estandarizada\n",
        "stand_scaler = preprocessing.StandardScaler()\n",
        "x_train_norm = stand_scaler.fit_transform(X_train)\n",
        "x_test_norm=stand_scaler.transform(X_test)"
      ]
    },
    {
      "cell_type": "code",
      "execution_count": 80,
      "metadata": {
        "id": "AYPm6z-EzIOI",
        "colab": {
          "base_uri": "https://localhost:8080/",
          "height": 613
        },
        "outputId": "3aca1434-2b9b-455a-bf4c-d56a94920505"
      },
      "outputs": [
        {
          "output_type": "stream",
          "name": "stdout",
          "text": [
            "              precision    recall  f1-score   support\n",
            "\n",
            "           0       0.50      0.82      0.62      6165\n",
            "           1       0.50      0.18      0.27      6218\n",
            "\n",
            "    accuracy                           0.50     12383\n",
            "   macro avg       0.50      0.50      0.44     12383\n",
            "weighted avg       0.50      0.50      0.44     12383\n",
            "\n"
          ]
        },
        {
          "output_type": "display_data",
          "data": {
            "text/plain": [
              "<Figure size 640x480 with 2 Axes>"
            ],
            "image/png": "[encoded data removed]"
          },
          "metadata": {}
        }
      ],
      "source": [
        "#Construyo un modelo SVM\n",
        "svm = SVC()\n",
        "\n",
        "#Lo entreno con los datos sin escalar\n",
        "svm.fit(X_train, y_train)\n",
        "\n",
        "#Hago la prediccion y calculo las métricas\n",
        "y_pred1=svm.predict(X_test)\n",
        "metricas(y_pred1,y_test)"
      ]
    },
    {
      "cell_type": "code",
      "execution_count": 81,
      "metadata": {
        "id": "u8X-nvDg4ZQs",
        "colab": {
          "base_uri": "https://localhost:8080/"
        },
        "outputId": "af9f92ba-585a-4eae-8f36-80309c75bb83"
      },
      "outputs": [
        {
          "output_type": "stream",
          "name": "stdout",
          "text": [
            "Accuracy: 0.4980214810627473\n",
            "Recall: 0.1804438726278546\n",
            "Precision: 0.5004460303300624\n",
            "f1 score: 0.2652482269503546\n"
          ]
        }
      ],
      "source": [
        "mostrar_metricas(y_test, y_pred1)"
      ]
    },
    {
      "cell_type": "code",
      "execution_count": 82,
      "metadata": {
        "id": "S5UyTY3AzKda",
        "colab": {
          "base_uri": "https://localhost:8080/",
          "height": 613
        },
        "outputId": "9d237e78-2f80-408c-b5ac-645424214463"
      },
      "outputs": [
        {
          "output_type": "stream",
          "name": "stdout",
          "text": [
            "              precision    recall  f1-score   support\n",
            "\n",
            "           0       0.85      0.84      0.84      6165\n",
            "           1       0.84      0.85      0.85      6218\n",
            "\n",
            "    accuracy                           0.84     12383\n",
            "   macro avg       0.84      0.84      0.84     12383\n",
            "weighted avg       0.84      0.84      0.84     12383\n",
            "\n"
          ]
        },
        {
          "output_type": "display_data",
          "data": {
            "text/plain": [
              "<Figure size 640x480 with 2 Axes>"
            ],
            "image/png": "[encoded data removed]"
          },
          "metadata": {}
        }
      ],
      "source": [
        "#Construyo un modelo SVM\n",
        "svm_norm= SVC()\n",
        "\n",
        "#Lo entreno con los datos escalados con normalizacion\n",
        "svm_norm.fit(x_train_norm, y_train)\n",
        "\n",
        "#Hago la prediccion y calculo las métricas\n",
        "y_pred_norm1=svm_norm.predict(x_test_norm)\n",
        "metricas(y_pred_norm1,y_test)"
      ]
    },
    {
      "cell_type": "code",
      "execution_count": 83,
      "metadata": {
        "id": "Fc6W-V8b4e8u",
        "colab": {
          "base_uri": "https://localhost:8080/"
        },
        "outputId": "c6426051-97bc-478a-9a34-68e8c89f576c"
      },
      "outputs": [
        {
          "output_type": "stream",
          "name": "stdout",
          "text": [
            "Accuracy: 0.8437373818945328\n",
            "Recall: 0.8523641042135734\n",
            "Precision: 0.8390058572107013\n",
            "f1 score: 0.8456322297566813\n"
          ]
        }
      ],
      "source": [
        "mostrar_metricas(y_test, y_pred_norm1)"
      ]
    },
    {
      "cell_type": "markdown",
      "metadata": {
        "id": "APqqwU6I0sFv"
      },
      "source": [
        "SVM - Kernels"
      ]
    },
    {
      "cell_type": "code",
      "execution_count": 84,
      "metadata": {
        "id": "JoT4U0N80tPb",
        "colab": {
          "base_uri": "https://localhost:8080/",
          "height": 613
        },
        "outputId": "776c9076-6d4b-48d3-e322-46d6502da5d5"
      },
      "outputs": [
        {
          "output_type": "stream",
          "name": "stdout",
          "text": [
            "              precision    recall  f1-score   support\n",
            "\n",
            "           0       0.83      0.79      0.81      6165\n",
            "           1       0.80      0.84      0.82      6218\n",
            "\n",
            "    accuracy                           0.82     12383\n",
            "   macro avg       0.82      0.82      0.82     12383\n",
            "weighted avg       0.82      0.82      0.82     12383\n",
            "\n"
          ]
        },
        {
          "output_type": "display_data",
          "data": {
            "text/plain": [
              "<Figure size 640x480 with 2 Axes>"
            ],
            "image/png": "[encoded data removed]"
          },
          "metadata": {}
        }
      ],
      "source": [
        "#Creo un clasificador con kernel lineal y lo entreno sobre los datos escalados min-max\n",
        "clf = SVC(kernel='linear', C=5)\n",
        "clf.fit(x_train_minmax, y_train)\n",
        "\n",
        "#Hago la predicción y calculo las métricas\n",
        "y_pred_lin=clf.predict(x_test_minmax)\n",
        "metricas(y_pred_lin,y_test)"
      ]
    },
    {
      "cell_type": "code",
      "execution_count": 85,
      "metadata": {
        "id": "Vt_UCy7e57N_",
        "colab": {
          "base_uri": "https://localhost:8080/"
        },
        "outputId": "886572df-ddcb-4ad7-b61d-c34bb46565e9"
      },
      "outputs": [
        {
          "output_type": "stream",
          "name": "stdout",
          "text": [
            "Accuracy: 0.8160381167729952\n",
            "Recall: 0.8390157606947571\n",
            "Precision: 0.8033569448721897\n",
            "f1 score: 0.8207992448080553\n"
          ]
        }
      ],
      "source": [
        "mostrar_metricas(y_test, y_pred_lin)"
      ]
    },
    {
      "cell_type": "markdown",
      "metadata": {
        "id": "Gn1rb-WO0usK"
      },
      "source": [
        "SVM con kernel POLINOMICO"
      ]
    },
    {
      "cell_type": "code",
      "execution_count": 86,
      "metadata": {
        "id": "9k5rXeZQ0vMw"
      },
      "outputs": [],
      "source": [
        "# #Creo un clasificador con kernel polinomico y lo entreno sobre los datos escalados min-max\n",
        "# clf = SVC(kernel='poly', C=5, degree=10, gamma=10, coef0=10)\n",
        "# clf.fit(x_train_minmax, y_train)\n",
        "\n",
        "# #Hago la predicción y calculo las métricas\n",
        "# y_pred_pol=clf.predict(x_test_minmax)\n",
        "# metricas(y_pred_pol,y_test)"
      ]
    },
    {
      "cell_type": "code",
      "execution_count": 87,
      "metadata": {
        "id": "dM9Yolwu6CMy"
      },
      "outputs": [],
      "source": [
        "# mostrar_metricas(y_test, y_pred_pol)"
      ]
    },
    {
      "cell_type": "markdown",
      "metadata": {
        "id": "B5RcD4GQ0wq7"
      },
      "source": [
        "**SVM con kernel RADIAL**"
      ]
    },
    {
      "cell_type": "code",
      "execution_count": 88,
      "metadata": {
        "id": "CjimEMnz0wcw",
        "colab": {
          "base_uri": "https://localhost:8080/",
          "height": 613
        },
        "outputId": "932cdc9c-d259-4073-e88d-82b86a01537a"
      },
      "outputs": [
        {
          "output_type": "stream",
          "name": "stdout",
          "text": [
            "              precision    recall  f1-score   support\n",
            "\n",
            "           0       0.80      0.83      0.82      6165\n",
            "           1       0.83      0.80      0.81      6218\n",
            "\n",
            "    accuracy                           0.82     12383\n",
            "   macro avg       0.82      0.82      0.82     12383\n",
            "weighted avg       0.82      0.82      0.82     12383\n",
            "\n"
          ]
        },
        {
          "output_type": "display_data",
          "data": {
            "text/plain": [
              "<Figure size 640x480 with 2 Axes>"
            ],
            "image/png": "[encoded data removed]"
          },
          "metadata": {}
        }
      ],
      "source": [
        "#Creo un clasificador con kernel radial y lo entreno sobre los datos escalados min-max\n",
        "clf = SVC(kernel='rbf', C=5, gamma=10)\n",
        "clf.fit(x_train_minmax, y_train)\n",
        "\n",
        "#Hago la predicción y calculo las métricas\n",
        "y_pred_rad=clf.predict(x_test_minmax)\n",
        "metricas(y_pred_rad,y_test)"
      ]
    },
    {
      "cell_type": "code",
      "execution_count": 89,
      "metadata": {
        "id": "C4Uz5Oad44TQ",
        "colab": {
          "base_uri": "https://localhost:8080/"
        },
        "outputId": "8b56fb42-ef3b-4b03-ca95-42bca26e10d8"
      },
      "outputs": [
        {
          "output_type": "stream",
          "name": "stdout",
          "text": [
            "Accuracy: 0.8161188726479851\n",
            "Recall: 0.7978449662270827\n",
            "Precision: 0.8294599565290085\n",
            "f1 score: 0.8133453561767359\n"
          ]
        }
      ],
      "source": [
        "mostrar_metricas(y_test, y_pred_rad)"
      ]
    },
    {
      "cell_type": "markdown",
      "metadata": {
        "id": "CHkJM8o66_1q"
      },
      "source": [
        "### ENSAMBLES"
      ]
    },
    {
      "cell_type": "markdown",
      "metadata": {
        "id": "97zhp9jc7I3M"
      },
      "source": [
        "### RF - KFOLD CROSSVALIDATION"
      ]
    },
    {
      "cell_type": "code",
      "execution_count": 90,
      "metadata": {
        "id": "dC1enIVy7ShX"
      },
      "outputs": [],
      "source": [
        "rfc = RandomForestClassifier(max_features='auto',\n",
        "                             oob_score=True,\n",
        "                             random_state=2,\n",
        "                             n_jobs=-1,\n",
        "                             criterion=\"entropy\",\n",
        "                             min_samples_leaf=5,\n",
        "                             min_samples_split=5,\n",
        "                             n_estimators=50 )\n",
        "#Entrenamos el modelo\n",
        "model = rfc.fit(X = X_train, y = y_train)"
      ]
    },
    {
      "cell_type": "code",
      "execution_count": 91,
      "metadata": {
        "id": "xr4JK6yv7-TP"
      },
      "outputs": [],
      "source": [
        "y_predRF = model.predict(X_test)"
      ]
    },
    {
      "cell_type": "code",
      "execution_count": 92,
      "metadata": {
        "id": "w9VZpM9o8CDT",
        "colab": {
          "base_uri": "https://localhost:8080/",
          "height": 467
        },
        "outputId": "3e65e623-0046-46bb-8577-36017d1a1d8a"
      },
      "outputs": [
        {
          "output_type": "execute_result",
          "data": {
            "text/plain": [
              "Text(50.722222222222214, 0.5, 'True')"
            ]
          },
          "metadata": {},
          "execution_count": 92
        },
        {
          "output_type": "display_data",
          "data": {
            "text/plain": [
              "<Figure size 640x480 with 2 Axes>"
            ],
            "image/png": "[encoded data removed]"
          },
          "metadata": {}
        }
      ],
      "source": [
        "tabla=confusion_matrix(y_test, y_predRF)\n",
        "\n",
        "sns.heatmap(tabla,cmap='GnBu',annot=True,fmt='g')\n",
        "plt.xlabel('Predicted')\n",
        "plt.ylabel('True')"
      ]
    },
    {
      "cell_type": "code",
      "execution_count": 93,
      "metadata": {
        "id": "FUteU49V8D92",
        "colab": {
          "base_uri": "https://localhost:8080/"
        },
        "outputId": "3b4d9921-6405-455d-f547-3ca72aab21b9"
      },
      "outputs": [
        {
          "output_type": "stream",
          "name": "stdout",
          "text": [
            "Accuracy: 0.8638455947670193\n",
            "Recall: 0.8620135091669348\n",
            "Precision: 0.8661926308985133\n",
            "f1 score: 0.8640980170885055\n"
          ]
        }
      ],
      "source": [
        "mostrar_metricas(y_test,y_predRF)"
      ]
    },
    {
      "cell_type": "code",
      "execution_count": 94,
      "metadata": {
        "id": "9muh5r8N8SQR"
      },
      "outputs": [],
      "source": [
        "rf_cv = RandomForestClassifier(max_features='auto', oob_score=True, random_state=1, n_jobs=-1)\n",
        "\n",
        "param_grid = { \"criterion\" : [\"gini\", \"entropy\"],\n",
        "               \"min_samples_leaf\" : [1, 5, 10],\n",
        "               \"min_samples_split\" : [2, 4, 10, 12, 16],\n",
        "               \"n_estimators\": [10,20, 50] }\n",
        "\n",
        "gs = RandomizedSearchCV(estimator=rf_cv, param_distributions=param_grid, scoring=\"f1\", cv=5, n_jobs=-1)\n",
        "gs_fit = gs.fit(X = X_train, y = y_train)"
      ]
    },
    {
      "cell_type": "code",
      "execution_count": 95,
      "metadata": {
        "id": "PsOBdjoK8TYs",
        "colab": {
          "base_uri": "https://localhost:8080/"
        },
        "outputId": "09301033-86b5-4fdc-c3cf-dadc6f115dbe"
      },
      "outputs": [
        {
          "output_type": "execute_result",
          "data": {
            "text/plain": [
              "{'n_estimators': 50,\n",
              " 'min_samples_split': 10,\n",
              " 'min_samples_leaf': 1,\n",
              " 'criterion': 'gini'}"
            ]
          },
          "metadata": {},
          "execution_count": 95
        }
      ],
      "source": [
        "gs_fit.best_params_"
      ]
    },
    {
      "cell_type": "code",
      "execution_count": 96,
      "metadata": {
        "id": "jmuL9yVo8UE2",
        "colab": {
          "base_uri": "https://localhost:8080/"
        },
        "outputId": "8abf0a2b-4e93-4bd3-ad91-138fa243956a"
      },
      "outputs": [
        {
          "output_type": "stream",
          "name": "stdout",
          "text": [
            "F1 en entrenamiento con cv: 0.864641195935824\n"
          ]
        }
      ],
      "source": [
        "print(\"F1 en entrenamiento con cv: \"+str(gs_fit.best_score_))"
      ]
    },
    {
      "cell_type": "code",
      "execution_count": 97,
      "metadata": {
        "id": "fjxZX8TY8Ux4"
      },
      "outputs": [],
      "source": [
        "rf_cv_best=gs_fit.best_estimator_\n",
        "\n",
        "y_pred_rf_cv_best = rf_cv_best.predict(X_test)"
      ]
    },
    {
      "cell_type": "code",
      "execution_count": 98,
      "metadata": {
        "id": "iBVDesVe8WQy",
        "colab": {
          "base_uri": "https://localhost:8080/",
          "height": 613
        },
        "outputId": "b9919429-e0ad-478f-f24e-bd3dbf77158b"
      },
      "outputs": [
        {
          "output_type": "stream",
          "name": "stdout",
          "text": [
            "              precision    recall  f1-score   support\n",
            "\n",
            "           0       0.86      0.87      0.87      6165\n",
            "           1       0.87      0.86      0.87      6218\n",
            "\n",
            "    accuracy                           0.87     12383\n",
            "   macro avg       0.87      0.87      0.87     12383\n",
            "weighted avg       0.87      0.87      0.87     12383\n",
            "\n"
          ]
        },
        {
          "output_type": "display_data",
          "data": {
            "text/plain": [
              "<Figure size 640x480 with 2 Axes>"
            ],
            "image/png": "[encoded data removed]"
          },
          "metadata": {}
        }
      ],
      "source": [
        "tabla=confusion_matrix(y_test,y_pred_rf_cv_best)\n",
        "\n",
        "sns.heatmap(tabla, cmap='Blues',annot=True,fmt='g')\n",
        "plt.xlabel('Predicted')\n",
        "plt.ylabel('True')\n",
        "\n",
        "print(classification_report(y_test,y_pred_rf_cv_best))"
      ]
    },
    {
      "cell_type": "code",
      "execution_count": 99,
      "metadata": {
        "id": "ecv32NkP8Xs5",
        "colab": {
          "base_uri": "https://localhost:8080/"
        },
        "outputId": "675db37f-ccca-47b4-88d6-06508bd2d2cb"
      },
      "outputs": [
        {
          "output_type": "stream",
          "name": "stdout",
          "text": [
            "Accuracy: 0.8668335621416458\n",
            "Recall: 0.864908330652943\n",
            "Precision: 0.8692419589461775\n",
            "f1 score: 0.8670697299476018\n"
          ]
        }
      ],
      "source": [
        "mostrar_metricas(y_test,y_pred_rf_cv_best)"
      ]
    },
    {
      "cell_type": "code",
      "source": [
        "\n",
        "# df_rf = df_trabajo_test_dum.drop(['is_canceled', 'id'], axis='columns', inplace=False)\n",
        "# ids2 = df_trabajo_test_dum['id'].copy()\n",
        "\n",
        "# pred_rf = rf_cv_best.predict(df_rf)\n",
        "\n",
        "# df_pred_rf = pd.DataFrame({'id': ids2, 'is_canceled': pred_rf})\n",
        "\n",
        "# df_pred_rf.to_csv('df_pred_rf.csv')\n",
        "# files.download('df_pred_rf.csv')"
      ],
      "metadata": {
        "id": "0U3vJ9m0a9O5"
      },
      "execution_count": 100,
      "outputs": []
    },
    {
      "cell_type": "markdown",
      "metadata": {
        "id": "L1S4S0xb-NYv"
      },
      "source": [
        "### XGBOOST"
      ]
    },
    {
      "cell_type": "code",
      "execution_count": 101,
      "metadata": {
        "id": "WOs53H05VwYQ",
        "colab": {
          "base_uri": "https://localhost:8080/"
        },
        "outputId": "790a517a-f073-437c-bd4a-301cc2fd2840"
      },
      "outputs": [
        {
          "output_type": "stream",
          "name": "stdout",
          "text": [
            "Fitting 3 folds for each of 40 candidates, totalling 120 fits\n"
          ]
        }
      ],
      "source": [
        "\n",
        "param_dist = {\n",
        "    'learning_rate': [0.01, 0.05, 0.1],\n",
        "    'n_estimators': [100, 500, 1000],\n",
        "    'max_depth': [3, 5, 7, 10],\n",
        "    'subsample': [0.8, 0.9, 1],\n",
        "    'colsample_bytree': [0.8, 0.9, 1],\n",
        "    'gamma': [0, 0.1, 0.2]\n",
        "}\n",
        "\n",
        "xgb_model = XGBClassifier()\n",
        "\n",
        "n_iter_search = 40\n",
        "\n",
        "random_search = RandomizedSearchCV(xgb_model, param_distributions=param_dist, n_iter=n_iter_search, scoring='f1', cv=3, verbose=1)\n",
        "random_search.fit(X_train, y_train)\n",
        "\n",
        "best_xgb = random_search.best_estimator_"
      ]
    },
    {
      "cell_type": "code",
      "execution_count": 102,
      "metadata": {
        "id": "xkiGF1jK-Zyn",
        "colab": {
          "base_uri": "https://localhost:8080/",
          "height": 248
        },
        "outputId": "3775de35-5da8-4f50-cdaa-861bfa4074e2"
      },
      "outputs": [
        {
          "output_type": "execute_result",
          "data": {
            "text/plain": [
              "XGBClassifier(base_score=None, booster=None, callbacks=None,\n",
              "              colsample_bylevel=None, colsample_bynode=None,\n",
              "              colsample_bytree=0.8, device=None, early_stopping_rounds=None,\n",
              "              enable_categorical=False, eval_metric=None, feature_types=None,\n",
              "              gamma=0.2, grow_policy=None, importance_type=None,\n",
              "              interaction_constraints=None, learning_rate=0.05, max_bin=None,\n",
              "              max_cat_threshold=None, max_cat_to_onehot=None,\n",
              "              max_delta_step=None, max_depth=10, max_leaves=None,\n",
              "              min_child_weight=None, missing=nan, monotone_constraints=None,\n",
              "              multi_strategy=None, n_estimators=1000, n_jobs=None,\n",
              "              num_parallel_tree=None, random_state=None, ...)"
            ],
            "text/html": [
              "<style>#sk-container-id-2 {color: black;background-color: white;}#sk-container-id-2 pre{padding: 0;}#sk-container-id-2 div.sk-toggleable {background-color: white;}#sk-container-id-2 label.sk-toggleable__label {cursor: pointer;display: block;width: 100%;margin-bottom: 0;padding: 0.3em;box-sizing: border-box;text-align: center;}#sk-container-id-2 label.sk-toggleable__label-arrow:before {content: \"▸\";float: left;margin-right: 0.25em;color: #696969;}#sk-container-id-2 label.sk-toggleable__label-arrow:hover:before {color: black;}#sk-container-id-2 div.sk-estimator:hover label.sk-toggleable__label-arrow:before {color: black;}#sk-container-id-2 div.sk-toggleable__content {max-height: 0;max-width: 0;overflow: hidden;text-align: left;background-color: #f0f8ff;}#sk-container-id-2 div.sk-toggleable__content pre {margin: 0.2em;color: black;border-radius: 0.25em;background-color: #f0f8ff;}#sk-container-id-2 input.sk-toggleable__control:checked~div.sk-toggleable__content {max-height: 200px;max-width: 100%;overflow: auto;}#sk-container-id-2 input.sk-toggleable__control:checked~label.sk-toggleable__label-arrow:before {content: \"▾\";}#sk-container-id-2 div.sk-estimator input.sk-toggleable__control:checked~label.sk-toggleable__label {background-color: #d4ebff;}#sk-container-id-2 div.sk-label input.sk-toggleable__control:checked~label.sk-toggleable__label {background-color: #d4ebff;}#sk-container-id-2 input.sk-hidden--visually {border: 0;clip: rect(1px 1px 1px 1px);clip: rect(1px, 1px, 1px, 1px);height: 1px;margin: -1px;overflow: hidden;padding: 0;position: absolute;width: 1px;}#sk-container-id-2 div.sk-estimator {font-family: monospace;background-color: #f0f8ff;border: 1px dotted black;border-radius: 0.25em;box-sizing: border-box;margin-bottom: 0.5em;}#sk-container-id-2 div.sk-estimator:hover {background-color: #d4ebff;}#sk-container-id-2 div.sk-parallel-item::after {content: \"\";width: 100%;border-bottom: 1px solid gray;flex-grow: 1;}#sk-container-id-2 div.sk-label:hover label.sk-toggleable__label {background-color: #d4ebff;}#sk-container-id-2 div.sk-serial::before {content: \"\";position: absolute;border-left: 1px solid gray;box-sizing: border-box;top: 0;bottom: 0;left: 50%;z-index: 0;}#sk-container-id-2 div.sk-serial {display: flex;flex-direction: column;align-items: center;background-color: white;padding-right: 0.2em;padding-left: 0.2em;position: relative;}#sk-container-id-2 div.sk-item {position: relative;z-index: 1;}#sk-container-id-2 div.sk-parallel {display: flex;align-items: stretch;justify-content: center;background-color: white;position: relative;}#sk-container-id-2 div.sk-item::before, #sk-container-id-2 div.sk-parallel-item::before {content: \"\";position: absolute;border-left: 1px solid gray;box-sizing: border-box;top: 0;bottom: 0;left: 50%;z-index: -1;}#sk-container-id-2 div.sk-parallel-item {display: flex;flex-direction: column;z-index: 1;position: relative;background-color: white;}#sk-container-id-2 div.sk-parallel-item:first-child::after {align-self: flex-end;width: 50%;}#sk-container-id-2 div.sk-parallel-item:last-child::after {align-self: flex-start;width: 50%;}#sk-container-id-2 div.sk-parallel-item:only-child::after {width: 0;}#sk-container-id-2 div.sk-dashed-wrapped {border: 1px dashed gray;margin: 0 0.4em 0.5em 0.4em;box-sizing: border-box;padding-bottom: 0.4em;background-color: white;}#sk-container-id-2 div.sk-label label {font-family: monospace;font-weight: bold;display: inline-block;line-height: 1.2em;}#sk-container-id-2 div.sk-label-container {text-align: center;}#sk-container-id-2 div.sk-container {/* jupyter's `normalize.less` sets `[hidden] { display: none; }` but bootstrap.min.css set `[hidden] { display: none !important; }` so we also need the `!important` here to be able to override the default hidden behavior on the sphinx rendered scikit-learn.org. See: https://github.com/scikit-learn/scikit-learn/issues/21755 */display: inline-block !important;position: relative;}#sk-container-id-2 div.sk-text-repr-fallback {display: none;}</style><div id=\"sk-container-id-2\" class=\"sk-top-container\"><div class=\"sk-text-repr-fallback\"><pre>XGBClassifier(base_score=None, booster=None, callbacks=None,\n",
              "              colsample_bylevel=None, colsample_bynode=None,\n",
              "              colsample_bytree=0.8, device=None, early_stopping_rounds=None,\n",
              "              enable_categorical=False, eval_metric=None, feature_types=None,\n",
              "              gamma=0.2, grow_policy=None, importance_type=None,\n",
              "              interaction_constraints=None, learning_rate=0.05, max_bin=None,\n",
              "              max_cat_threshold=None, max_cat_to_onehot=None,\n",
              "              max_delta_step=None, max_depth=10, max_leaves=None,\n",
              "              min_child_weight=None, missing=nan, monotone_constraints=None,\n",
              "              multi_strategy=None, n_estimators=1000, n_jobs=None,\n",
              "              num_parallel_tree=None, random_state=None, ...)</pre><b>In a Jupyter environment, please rerun this cell to show the HTML representation or trust the notebook. <br />On GitHub, the HTML representation is unable to render, please try loading this page with nbviewer.org.</b></div><div class=\"sk-container\" hidden><div class=\"sk-item\"><div class=\"sk-estimator sk-toggleable\"><input class=\"sk-toggleable__control sk-hidden--visually\" id=\"sk-estimator-id-2\" type=\"checkbox\" checked><label for=\"sk-estimator-id-2\" class=\"sk-toggleable__label sk-toggleable__label-arrow\">XGBClassifier</label><div class=\"sk-toggleable__content\"><pre>XGBClassifier(base_score=None, booster=None, callbacks=None,\n",
              "              colsample_bylevel=None, colsample_bynode=None,\n",
              "              colsample_bytree=0.8, device=None, early_stopping_rounds=None,\n",
              "              enable_categorical=False, eval_metric=None, feature_types=None,\n",
              "              gamma=0.2, grow_policy=None, importance_type=None,\n",
              "              interaction_constraints=None, learning_rate=0.05, max_bin=None,\n",
              "              max_cat_threshold=None, max_cat_to_onehot=None,\n",
              "              max_delta_step=None, max_depth=10, max_leaves=None,\n",
              "              min_child_weight=None, missing=nan, monotone_constraints=None,\n",
              "              multi_strategy=None, n_estimators=1000, n_jobs=None,\n",
              "              num_parallel_tree=None, random_state=None, ...)</pre></div></div></div></div></div>"
            ]
          },
          "metadata": {},
          "execution_count": 102
        }
      ],
      "source": [
        "\n",
        "best_xgb.fit(X_train, y_train)"
      ]
    },
    {
      "cell_type": "code",
      "execution_count": 103,
      "metadata": {
        "id": "87TTlMXY-bdF",
        "colab": {
          "base_uri": "https://localhost:8080/",
          "height": 632
        },
        "outputId": "bfdaf055-82f1-4f57-d488-dbf5b7336a53"
      },
      "outputs": [
        {
          "output_type": "stream",
          "name": "stdout",
          "text": [
            "AUC: 0.95004539055047\n",
            "              precision    recall  f1-score   support\n",
            "\n",
            "           0       0.88      0.86      0.87      6165\n",
            "           1       0.86      0.88      0.87      6218\n",
            "\n",
            "    accuracy                           0.87     12383\n",
            "   macro avg       0.87      0.87      0.87     12383\n",
            "weighted avg       0.87      0.87      0.87     12383\n",
            "\n"
          ]
        },
        {
          "output_type": "display_data",
          "data": {
            "text/plain": [
              "<Figure size 640x480 with 2 Axes>"
            ],
            "image/png": "[encoded data removed]"
          },
          "metadata": {}
        }
      ],
      "source": [
        "\n",
        "y_pred_proba= best_xgb.predict_proba(X_test)[:, 1]\n",
        "print('AUC:',roc_auc_score(y_test, y_pred_proba))\n",
        "\n",
        "y_predxgboost=best_xgb.predict(X_test)\n",
        "\n",
        "cm = confusion_matrix(y_test,y_predxgboost)\n",
        "sns.heatmap(cm, cmap='Blues',annot=True,fmt='g')\n",
        "plt.xlabel('Predicted')\n",
        "plt.ylabel('True')\n",
        "\n",
        "print(classification_report(y_test,y_predxgboost))\n"
      ]
    },
    {
      "cell_type": "code",
      "execution_count": 104,
      "metadata": {
        "id": "rJPgNyinBBuP",
        "colab": {
          "base_uri": "https://localhost:8080/"
        },
        "outputId": "ba4745cf-1956-4c35-d39d-576df83d8b12"
      },
      "outputs": [
        {
          "output_type": "stream",
          "name": "stdout",
          "text": [
            "Accuracy: 0.8720826940159897\n",
            "Recall: 0.8835638468961081\n",
            "Precision: 0.8646521875983633\n",
            "f1 score: 0.8740057270124084\n"
          ]
        }
      ],
      "source": [
        "mostrar_metricas(y_test,y_predxgboost)"
      ]
    },
    {
      "cell_type": "code",
      "execution_count": 105,
      "metadata": {
        "id": "PRBgYjvu-dKp",
        "colab": {
          "base_uri": "https://localhost:8080/",
          "height": 300
        },
        "outputId": "35fdbbb9-20a9-4579-8c71-7da9194e696c"
      },
      "outputs": [
        {
          "output_type": "execute_result",
          "data": {
            "text/plain": [
              "   train-auc-mean  train-auc-std  test-auc-mean  test-auc-std\n",
              "0        0.888650       0.000871       0.887574      0.003194\n",
              "1        0.890229       0.000755       0.889118      0.003674\n",
              "2        0.893789       0.000944       0.892690      0.004696\n",
              "3        0.897277       0.001336       0.896295      0.002825\n",
              "4        0.902905       0.001431       0.901518      0.004848\n",
              "5        0.905163       0.001692       0.903831      0.005000\n",
              "6        0.907594       0.001321       0.906191      0.004578\n",
              "7        0.910165       0.001303       0.908918      0.004064"
            ],
            "text/html": [
              "\n",
              "  <div id=\"df-5b6816f6-80ef-4cb3-82d6-da712949a635\" class=\"colab-df-container\">\n",
              "    <div>\n",
              "<style scoped>\n",
              "    .dataframe tbody tr th:only-of-type {\n",
              "        vertical-align: middle;\n",
              "    }\n",
              "\n",
              "    .dataframe tbody tr th {\n",
              "        vertical-align: top;\n",
              "    }\n",
              "\n",
              "    .dataframe thead th {\n",
              "        text-align: right;\n",
              "    }\n",
              "</style>\n",
              "<table border=\"1\" class=\"dataframe\">\n",
              "  <thead>\n",
              "    <tr style=\"text-align: right;\">\n",
              "      <th></th>\n",
              "      <th>train-auc-mean</th>\n",
              "      <th>train-auc-std</th>\n",
              "      <th>test-auc-mean</th>\n",
              "      <th>test-auc-std</th>\n",
              "    </tr>\n",
              "  </thead>\n",
              "  <tbody>\n",
              "    <tr>\n",
              "      <th>0</th>\n",
              "      <td>0.888650</td>\n",
              "      <td>0.000871</td>\n",
              "      <td>0.887574</td>\n",
              "      <td>0.003194</td>\n",
              "    </tr>\n",
              "    <tr>\n",
              "      <th>1</th>\n",
              "      <td>0.890229</td>\n",
              "      <td>0.000755</td>\n",
              "      <td>0.889118</td>\n",
              "      <td>0.003674</td>\n",
              "    </tr>\n",
              "    <tr>\n",
              "      <th>2</th>\n",
              "      <td>0.893789</td>\n",
              "      <td>0.000944</td>\n",
              "      <td>0.892690</td>\n",
              "      <td>0.004696</td>\n",
              "    </tr>\n",
              "    <tr>\n",
              "      <th>3</th>\n",
              "      <td>0.897277</td>\n",
              "      <td>0.001336</td>\n",
              "      <td>0.896295</td>\n",
              "      <td>0.002825</td>\n",
              "    </tr>\n",
              "    <tr>\n",
              "      <th>4</th>\n",
              "      <td>0.902905</td>\n",
              "      <td>0.001431</td>\n",
              "      <td>0.901518</td>\n",
              "      <td>0.004848</td>\n",
              "    </tr>\n",
              "    <tr>\n",
              "      <th>5</th>\n",
              "      <td>0.905163</td>\n",
              "      <td>0.001692</td>\n",
              "      <td>0.903831</td>\n",
              "      <td>0.005000</td>\n",
              "    </tr>\n",
              "    <tr>\n",
              "      <th>6</th>\n",
              "      <td>0.907594</td>\n",
              "      <td>0.001321</td>\n",
              "      <td>0.906191</td>\n",
              "      <td>0.004578</td>\n",
              "    </tr>\n",
              "    <tr>\n",
              "      <th>7</th>\n",
              "      <td>0.910165</td>\n",
              "      <td>0.001303</td>\n",
              "      <td>0.908918</td>\n",
              "      <td>0.004064</td>\n",
              "    </tr>\n",
              "  </tbody>\n",
              "</table>\n",
              "</div>\n",
              "    <div class=\"colab-df-buttons\">\n",
              "\n",
              "  <div class=\"colab-df-container\">\n",
              "    <button class=\"colab-df-convert\" onclick=\"convertToInteractive('df-5b6816f6-80ef-4cb3-82d6-da712949a635')\"\n",
              "            title=\"Convert this dataframe to an interactive table.\"\n",
              "            style=\"display:none;\">\n",
              "\n",
              "  <svg xmlns=\"http://www.w3.org/2000/svg\" height=\"24px\" viewBox=\"0 -960 960 960\">\n",
              "    <path d=\"M120-120v-720h720v720H120Zm60-500h600v-160H180v160Zm220 220h160v-160H400v160Zm0 220h160v-160H400v160ZM180-400h160v-160H180v160Zm440 0h160v-160H620v160ZM180-180h160v-160H180v160Zm440 0h160v-160H620v160Z\"/>\n",
              "  </svg>\n",
              "    </button>\n",
              "\n",
              "  <style>\n",
              "    .colab-df-container {\n",
              "      display:flex;\n",
              "      gap: 12px;\n",
              "    }\n",
              "\n",
              "    .colab-df-convert {\n",
              "      background-color: #E8F0FE;\n",
              "      border: none;\n",
              "      border-radius: 50%;\n",
              "      cursor: pointer;\n",
              "      display: none;\n",
              "      fill: #1967D2;\n",
              "      height: 32px;\n",
              "      padding: 0 0 0 0;\n",
              "      width: 32px;\n",
              "    }\n",
              "\n",
              "    .colab-df-convert:hover {\n",
              "      background-color: #E2EBFA;\n",
              "      box-shadow: 0px 1px 2px rgba(60, 64, 67, 0.3), 0px 1px 3px 1px rgba(60, 64, 67, 0.15);\n",
              "      fill: #174EA6;\n",
              "    }\n",
              "\n",
              "    .colab-df-buttons div {\n",
              "      margin-bottom: 4px;\n",
              "    }\n",
              "\n",
              "    [theme=dark] .colab-df-convert {\n",
              "      background-color: #3B4455;\n",
              "      fill: #D2E3FC;\n",
              "    }\n",
              "\n",
              "    [theme=dark] .colab-df-convert:hover {\n",
              "      background-color: #434B5C;\n",
              "      box-shadow: 0px 1px 3px 1px rgba(0, 0, 0, 0.15);\n",
              "      filter: drop-shadow(0px 1px 2px rgba(0, 0, 0, 0.3));\n",
              "      fill: #FFFFFF;\n",
              "    }\n",
              "  </style>\n",
              "\n",
              "    <script>\n",
              "      const buttonEl =\n",
              "        document.querySelector('#df-5b6816f6-80ef-4cb3-82d6-da712949a635 button.colab-df-convert');\n",
              "      buttonEl.style.display =\n",
              "        google.colab.kernel.accessAllowed ? 'block' : 'none';\n",
              "\n",
              "      async function convertToInteractive(key) {\n",
              "        const element = document.querySelector('#df-5b6816f6-80ef-4cb3-82d6-da712949a635');\n",
              "        const dataTable =\n",
              "          await google.colab.kernel.invokeFunction('convertToInteractive',\n",
              "                                                    [key], {});\n",
              "        if (!dataTable) return;\n",
              "\n",
              "        const docLinkHtml = 'Like what you see? Visit the ' +\n",
              "          '<a target=\"_blank\" href=https://colab.research.google.com/notebooks/data_table.ipynb>data table notebook</a>'\n",
              "          + ' to learn more about interactive tables.';\n",
              "        element.innerHTML = '';\n",
              "        dataTable['output_type'] = 'display_data';\n",
              "        await google.colab.output.renderOutput(dataTable, element);\n",
              "        const docLink = document.createElement('div');\n",
              "        docLink.innerHTML = docLinkHtml;\n",
              "        element.appendChild(docLink);\n",
              "      }\n",
              "    </script>\n",
              "  </div>\n",
              "\n",
              "\n",
              "<div id=\"df-85651bb7-77fe-4cd2-85c8-0f1aab31a8c0\">\n",
              "  <button class=\"colab-df-quickchart\" onclick=\"quickchart('df-85651bb7-77fe-4cd2-85c8-0f1aab31a8c0')\"\n",
              "            title=\"Suggest charts.\"\n",
              "            style=\"display:none;\">\n",
              "\n",
              "<svg xmlns=\"http://www.w3.org/2000/svg\" height=\"24px\"viewBox=\"0 0 24 24\"\n",
              "     width=\"24px\">\n",
              "    <g>\n",
              "        <path d=\"M19 3H5c-1.1 0-2 .9-2 2v14c0 1.1.9 2 2 2h14c1.1 0 2-.9 2-2V5c0-1.1-.9-2-2-2zM9 17H7v-7h2v7zm4 0h-2V7h2v10zm4 0h-2v-4h2v4z\"/>\n",
              "    </g>\n",
              "</svg>\n",
              "  </button>\n",
              "\n",
              "<style>\n",
              "  .colab-df-quickchart {\n",
              "      --bg-color: #E8F0FE;\n",
              "      --fill-color: #1967D2;\n",
              "      --hover-bg-color: #E2EBFA;\n",
              "      --hover-fill-color: #174EA6;\n",
              "      --disabled-fill-color: #AAA;\n",
              "      --disabled-bg-color: #DDD;\n",
              "  }\n",
              "\n",
              "  [theme=dark] .colab-df-quickchart {\n",
              "      --bg-color: #3B4455;\n",
              "      --fill-color: #D2E3FC;\n",
              "      --hover-bg-color: #434B5C;\n",
              "      --hover-fill-color: #FFFFFF;\n",
              "      --disabled-bg-color: #3B4455;\n",
              "      --disabled-fill-color: #666;\n",
              "  }\n",
              "\n",
              "  .colab-df-quickchart {\n",
              "    background-color: var(--bg-color);\n",
              "    border: none;\n",
              "    border-radius: 50%;\n",
              "    cursor: pointer;\n",
              "    display: none;\n",
              "    fill: var(--fill-color);\n",
              "    height: 32px;\n",
              "    padding: 0;\n",
              "    width: 32px;\n",
              "  }\n",
              "\n",
              "  .colab-df-quickchart:hover {\n",
              "    background-color: var(--hover-bg-color);\n",
              "    box-shadow: 0 1px 2px rgba(60, 64, 67, 0.3), 0 1px 3px 1px rgba(60, 64, 67, 0.15);\n",
              "    fill: var(--button-hover-fill-color);\n",
              "  }\n",
              "\n",
              "  .colab-df-quickchart-complete:disabled,\n",
              "  .colab-df-quickchart-complete:disabled:hover {\n",
              "    background-color: var(--disabled-bg-color);\n",
              "    fill: var(--disabled-fill-color);\n",
              "    box-shadow: none;\n",
              "  }\n",
              "\n",
              "  .colab-df-spinner {\n",
              "    border: 2px solid var(--fill-color);\n",
              "    border-color: transparent;\n",
              "    border-bottom-color: var(--fill-color);\n",
              "    animation:\n",
              "      spin 1s steps(1) infinite;\n",
              "  }\n",
              "\n",
              "  @keyframes spin {\n",
              "    0% {\n",
              "      border-color: transparent;\n",
              "      border-bottom-color: var(--fill-color);\n",
              "      border-left-color: var(--fill-color);\n",
              "    }\n",
              "    20% {\n",
              "      border-color: transparent;\n",
              "      border-left-color: var(--fill-color);\n",
              "      border-top-color: var(--fill-color);\n",
              "    }\n",
              "    30% {\n",
              "      border-color: transparent;\n",
              "      border-left-color: var(--fill-color);\n",
              "      border-top-color: var(--fill-color);\n",
              "      border-right-color: var(--fill-color);\n",
              "    }\n",
              "    40% {\n",
              "      border-color: transparent;\n",
              "      border-right-color: var(--fill-color);\n",
              "      border-top-color: var(--fill-color);\n",
              "    }\n",
              "    60% {\n",
              "      border-color: transparent;\n",
              "      border-right-color: var(--fill-color);\n",
              "    }\n",
              "    80% {\n",
              "      border-color: transparent;\n",
              "      border-right-color: var(--fill-color);\n",
              "      border-bottom-color: var(--fill-color);\n",
              "    }\n",
              "    90% {\n",
              "      border-color: transparent;\n",
              "      border-bottom-color: var(--fill-color);\n",
              "    }\n",
              "  }\n",
              "</style>\n",
              "\n",
              "  <script>\n",
              "    async function quickchart(key) {\n",
              "      const quickchartButtonEl =\n",
              "        document.querySelector('#' + key + ' button');\n",
              "      quickchartButtonEl.disabled = true;  // To prevent multiple clicks.\n",
              "      quickchartButtonEl.classList.add('colab-df-spinner');\n",
              "      try {\n",
              "        const charts = await google.colab.kernel.invokeFunction(\n",
              "            'suggestCharts', [key], {});\n",
              "      } catch (error) {\n",
              "        console.error('Error during call to suggestCharts:', error);\n",
              "      }\n",
              "      quickchartButtonEl.classList.remove('colab-df-spinner');\n",
              "      quickchartButtonEl.classList.add('colab-df-quickchart-complete');\n",
              "    }\n",
              "    (() => {\n",
              "      let quickchartButtonEl =\n",
              "        document.querySelector('#df-85651bb7-77fe-4cd2-85c8-0f1aab31a8c0 button');\n",
              "      quickchartButtonEl.style.display =\n",
              "        google.colab.kernel.accessAllowed ? 'block' : 'none';\n",
              "    })();\n",
              "  </script>\n",
              "</div>\n",
              "    </div>\n",
              "  </div>\n"
            ]
          },
          "metadata": {},
          "execution_count": 105
        }
      ],
      "source": [
        "data_dmatrix = xgb.DMatrix(data=X_train, label=y_train)\n",
        "\n",
        "results=xgb.cv(dtrain=data_dmatrix,nfold=5,params={'learning_rate':0.1},num_boost_round=8,metrics='auc')\n",
        "results"
      ]
    },
    {
      "cell_type": "code",
      "execution_count": 106,
      "metadata": {
        "id": "ATpBVP8C-eW3",
        "colab": {
          "base_uri": "https://localhost:8080/",
          "height": 300
        },
        "outputId": "49639afa-6d18-4200-aea0-07178309a82a"
      },
      "outputs": [
        {
          "output_type": "execute_result",
          "data": {
            "text/plain": [
              "   train-auc-mean  train-auc-std  test-auc-mean  test-auc-std\n",
              "0        0.888650       0.000871       0.887574      0.003194\n",
              "1        0.894547       0.001255       0.893480      0.005316\n",
              "2        0.901669       0.000916       0.900518      0.004289\n",
              "3        0.908664       0.001405       0.907729      0.002068\n",
              "4        0.911558       0.002160       0.910527      0.001572\n",
              "5        0.914470       0.001577       0.913215      0.001376\n",
              "6        0.917199       0.001703       0.915733      0.001790\n",
              "7        0.918737       0.001591       0.917338      0.001843"
            ],
            "text/html": [
              "\n",
              "  <div id=\"df-4bf6d5ff-596d-41af-a6c8-0ce0458cf613\" class=\"colab-df-container\">\n",
              "    <div>\n",
              "<style scoped>\n",
              "    .dataframe tbody tr th:only-of-type {\n",
              "        vertical-align: middle;\n",
              "    }\n",
              "\n",
              "    .dataframe tbody tr th {\n",
              "        vertical-align: top;\n",
              "    }\n",
              "\n",
              "    .dataframe thead th {\n",
              "        text-align: right;\n",
              "    }\n",
              "</style>\n",
              "<table border=\"1\" class=\"dataframe\">\n",
              "  <thead>\n",
              "    <tr style=\"text-align: right;\">\n",
              "      <th></th>\n",
              "      <th>train-auc-mean</th>\n",
              "      <th>train-auc-std</th>\n",
              "      <th>test-auc-mean</th>\n",
              "      <th>test-auc-std</th>\n",
              "    </tr>\n",
              "  </thead>\n",
              "  <tbody>\n",
              "    <tr>\n",
              "      <th>0</th>\n",
              "      <td>0.888650</td>\n",
              "      <td>0.000871</td>\n",
              "      <td>0.887574</td>\n",
              "      <td>0.003194</td>\n",
              "    </tr>\n",
              "    <tr>\n",
              "      <th>1</th>\n",
              "      <td>0.894547</td>\n",
              "      <td>0.001255</td>\n",
              "      <td>0.893480</td>\n",
              "      <td>0.005316</td>\n",
              "    </tr>\n",
              "    <tr>\n",
              "      <th>2</th>\n",
              "      <td>0.901669</td>\n",
              "      <td>0.000916</td>\n",
              "      <td>0.900518</td>\n",
              "      <td>0.004289</td>\n",
              "    </tr>\n",
              "    <tr>\n",
              "      <th>3</th>\n",
              "      <td>0.908664</td>\n",
              "      <td>0.001405</td>\n",
              "      <td>0.907729</td>\n",
              "      <td>0.002068</td>\n",
              "    </tr>\n",
              "    <tr>\n",
              "      <th>4</th>\n",
              "      <td>0.911558</td>\n",
              "      <td>0.002160</td>\n",
              "      <td>0.910527</td>\n",
              "      <td>0.001572</td>\n",
              "    </tr>\n",
              "    <tr>\n",
              "      <th>5</th>\n",
              "      <td>0.914470</td>\n",
              "      <td>0.001577</td>\n",
              "      <td>0.913215</td>\n",
              "      <td>0.001376</td>\n",
              "    </tr>\n",
              "    <tr>\n",
              "      <th>6</th>\n",
              "      <td>0.917199</td>\n",
              "      <td>0.001703</td>\n",
              "      <td>0.915733</td>\n",
              "      <td>0.001790</td>\n",
              "    </tr>\n",
              "    <tr>\n",
              "      <th>7</th>\n",
              "      <td>0.918737</td>\n",
              "      <td>0.001591</td>\n",
              "      <td>0.917338</td>\n",
              "      <td>0.001843</td>\n",
              "    </tr>\n",
              "  </tbody>\n",
              "</table>\n",
              "</div>\n",
              "    <div class=\"colab-df-buttons\">\n",
              "\n",
              "  <div class=\"colab-df-container\">\n",
              "    <button class=\"colab-df-convert\" onclick=\"convertToInteractive('df-4bf6d5ff-596d-41af-a6c8-0ce0458cf613')\"\n",
              "            title=\"Convert this dataframe to an interactive table.\"\n",
              "            style=\"display:none;\">\n",
              "\n",
              "  <svg xmlns=\"http://www.w3.org/2000/svg\" height=\"24px\" viewBox=\"0 -960 960 960\">\n",
              "    <path d=\"M120-120v-720h720v720H120Zm60-500h600v-160H180v160Zm220 220h160v-160H400v160Zm0 220h160v-160H400v160ZM180-400h160v-160H180v160Zm440 0h160v-160H620v160ZM180-180h160v-160H180v160Zm440 0h160v-160H620v160Z\"/>\n",
              "  </svg>\n",
              "    </button>\n",
              "\n",
              "  <style>\n",
              "    .colab-df-container {\n",
              "      display:flex;\n",
              "      gap: 12px;\n",
              "    }\n",
              "\n",
              "    .colab-df-convert {\n",
              "      background-color: #E8F0FE;\n",
              "      border: none;\n",
              "      border-radius: 50%;\n",
              "      cursor: pointer;\n",
              "      display: none;\n",
              "      fill: #1967D2;\n",
              "      height: 32px;\n",
              "      padding: 0 0 0 0;\n",
              "      width: 32px;\n",
              "    }\n",
              "\n",
              "    .colab-df-convert:hover {\n",
              "      background-color: #E2EBFA;\n",
              "      box-shadow: 0px 1px 2px rgba(60, 64, 67, 0.3), 0px 1px 3px 1px rgba(60, 64, 67, 0.15);\n",
              "      fill: #174EA6;\n",
              "    }\n",
              "\n",
              "    .colab-df-buttons div {\n",
              "      margin-bottom: 4px;\n",
              "    }\n",
              "\n",
              "    [theme=dark] .colab-df-convert {\n",
              "      background-color: #3B4455;\n",
              "      fill: #D2E3FC;\n",
              "    }\n",
              "\n",
              "    [theme=dark] .colab-df-convert:hover {\n",
              "      background-color: #434B5C;\n",
              "      box-shadow: 0px 1px 3px 1px rgba(0, 0, 0, 0.15);\n",
              "      filter: drop-shadow(0px 1px 2px rgba(0, 0, 0, 0.3));\n",
              "      fill: #FFFFFF;\n",
              "    }\n",
              "  </style>\n",
              "\n",
              "    <script>\n",
              "      const buttonEl =\n",
              "        document.querySelector('#df-4bf6d5ff-596d-41af-a6c8-0ce0458cf613 button.colab-df-convert');\n",
              "      buttonEl.style.display =\n",
              "        google.colab.kernel.accessAllowed ? 'block' : 'none';\n",
              "\n",
              "      async function convertToInteractive(key) {\n",
              "        const element = document.querySelector('#df-4bf6d5ff-596d-41af-a6c8-0ce0458cf613');\n",
              "        const dataTable =\n",
              "          await google.colab.kernel.invokeFunction('convertToInteractive',\n",
              "                                                    [key], {});\n",
              "        if (!dataTable) return;\n",
              "\n",
              "        const docLinkHtml = 'Like what you see? Visit the ' +\n",
              "          '<a target=\"_blank\" href=https://colab.research.google.com/notebooks/data_table.ipynb>data table notebook</a>'\n",
              "          + ' to learn more about interactive tables.';\n",
              "        element.innerHTML = '';\n",
              "        dataTable['output_type'] = 'display_data';\n",
              "        await google.colab.output.renderOutput(dataTable, element);\n",
              "        const docLink = document.createElement('div');\n",
              "        docLink.innerHTML = docLinkHtml;\n",
              "        element.appendChild(docLink);\n",
              "      }\n",
              "    </script>\n",
              "  </div>\n",
              "\n",
              "\n",
              "<div id=\"df-a2c9a03a-8494-4fe3-b47b-772fe4037194\">\n",
              "  <button class=\"colab-df-quickchart\" onclick=\"quickchart('df-a2c9a03a-8494-4fe3-b47b-772fe4037194')\"\n",
              "            title=\"Suggest charts.\"\n",
              "            style=\"display:none;\">\n",
              "\n",
              "<svg xmlns=\"http://www.w3.org/2000/svg\" height=\"24px\"viewBox=\"0 0 24 24\"\n",
              "     width=\"24px\">\n",
              "    <g>\n",
              "        <path d=\"M19 3H5c-1.1 0-2 .9-2 2v14c0 1.1.9 2 2 2h14c1.1 0 2-.9 2-2V5c0-1.1-.9-2-2-2zM9 17H7v-7h2v7zm4 0h-2V7h2v10zm4 0h-2v-4h2v4z\"/>\n",
              "    </g>\n",
              "</svg>\n",
              "  </button>\n",
              "\n",
              "<style>\n",
              "  .colab-df-quickchart {\n",
              "      --bg-color: #E8F0FE;\n",
              "      --fill-color: #1967D2;\n",
              "      --hover-bg-color: #E2EBFA;\n",
              "      --hover-fill-color: #174EA6;\n",
              "      --disabled-fill-color: #AAA;\n",
              "      --disabled-bg-color: #DDD;\n",
              "  }\n",
              "\n",
              "  [theme=dark] .colab-df-quickchart {\n",
              "      --bg-color: #3B4455;\n",
              "      --fill-color: #D2E3FC;\n",
              "      --hover-bg-color: #434B5C;\n",
              "      --hover-fill-color: #FFFFFF;\n",
              "      --disabled-bg-color: #3B4455;\n",
              "      --disabled-fill-color: #666;\n",
              "  }\n",
              "\n",
              "  .colab-df-quickchart {\n",
              "    background-color: var(--bg-color);\n",
              "    border: none;\n",
              "    border-radius: 50%;\n",
              "    cursor: pointer;\n",
              "    display: none;\n",
              "    fill: var(--fill-color);\n",
              "    height: 32px;\n",
              "    padding: 0;\n",
              "    width: 32px;\n",
              "  }\n",
              "\n",
              "  .colab-df-quickchart:hover {\n",
              "    background-color: var(--hover-bg-color);\n",
              "    box-shadow: 0 1px 2px rgba(60, 64, 67, 0.3), 0 1px 3px 1px rgba(60, 64, 67, 0.15);\n",
              "    fill: var(--button-hover-fill-color);\n",
              "  }\n",
              "\n",
              "  .colab-df-quickchart-complete:disabled,\n",
              "  .colab-df-quickchart-complete:disabled:hover {\n",
              "    background-color: var(--disabled-bg-color);\n",
              "    fill: var(--disabled-fill-color);\n",
              "    box-shadow: none;\n",
              "  }\n",
              "\n",
              "  .colab-df-spinner {\n",
              "    border: 2px solid var(--fill-color);\n",
              "    border-color: transparent;\n",
              "    border-bottom-color: var(--fill-color);\n",
              "    animation:\n",
              "      spin 1s steps(1) infinite;\n",
              "  }\n",
              "\n",
              "  @keyframes spin {\n",
              "    0% {\n",
              "      border-color: transparent;\n",
              "      border-bottom-color: var(--fill-color);\n",
              "      border-left-color: var(--fill-color);\n",
              "    }\n",
              "    20% {\n",
              "      border-color: transparent;\n",
              "      border-left-color: var(--fill-color);\n",
              "      border-top-color: var(--fill-color);\n",
              "    }\n",
              "    30% {\n",
              "      border-color: transparent;\n",
              "      border-left-color: var(--fill-color);\n",
              "      border-top-color: var(--fill-color);\n",
              "      border-right-color: var(--fill-color);\n",
              "    }\n",
              "    40% {\n",
              "      border-color: transparent;\n",
              "      border-right-color: var(--fill-color);\n",
              "      border-top-color: var(--fill-color);\n",
              "    }\n",
              "    60% {\n",
              "      border-color: transparent;\n",
              "      border-right-color: var(--fill-color);\n",
              "    }\n",
              "    80% {\n",
              "      border-color: transparent;\n",
              "      border-right-color: var(--fill-color);\n",
              "      border-bottom-color: var(--fill-color);\n",
              "    }\n",
              "    90% {\n",
              "      border-color: transparent;\n",
              "      border-bottom-color: var(--fill-color);\n",
              "    }\n",
              "  }\n",
              "</style>\n",
              "\n",
              "  <script>\n",
              "    async function quickchart(key) {\n",
              "      const quickchartButtonEl =\n",
              "        document.querySelector('#' + key + ' button');\n",
              "      quickchartButtonEl.disabled = true;  // To prevent multiple clicks.\n",
              "      quickchartButtonEl.classList.add('colab-df-spinner');\n",
              "      try {\n",
              "        const charts = await google.colab.kernel.invokeFunction(\n",
              "            'suggestCharts', [key], {});\n",
              "      } catch (error) {\n",
              "        console.error('Error during call to suggestCharts:', error);\n",
              "      }\n",
              "      quickchartButtonEl.classList.remove('colab-df-spinner');\n",
              "      quickchartButtonEl.classList.add('colab-df-quickchart-complete');\n",
              "    }\n",
              "    (() => {\n",
              "      let quickchartButtonEl =\n",
              "        document.querySelector('#df-a2c9a03a-8494-4fe3-b47b-772fe4037194 button');\n",
              "      quickchartButtonEl.style.display =\n",
              "        google.colab.kernel.accessAllowed ? 'block' : 'none';\n",
              "    })();\n",
              "  </script>\n",
              "</div>\n",
              "    </div>\n",
              "  </div>\n"
            ]
          },
          "metadata": {},
          "execution_count": 106
        }
      ],
      "source": [
        "results=xgb.cv(dtrain=data_dmatrix,nfold=5,params={'learning_rate':0.2},num_boost_round=8,metrics='auc',seed=0)\n",
        "results"
      ]
    },
    {
      "cell_type": "code",
      "execution_count": 107,
      "metadata": {
        "id": "In577c_j5G10",
        "colab": {
          "base_uri": "https://localhost:8080/",
          "height": 17
        },
        "outputId": "e4f1a71e-9604-4377-8497-5ec0f73c1b1f"
      },
      "outputs": [
        {
          "output_type": "display_data",
          "data": {
            "text/plain": [
              "<IPython.core.display.Javascript object>"
            ],
            "application/javascript": [
              "\n",
              "    async function download(id, filename, size) {\n",
              "      if (!google.colab.kernel.accessAllowed) {\n",
              "        return;\n",
              "      }\n",
              "      const div = document.createElement('div');\n",
              "      const label = document.createElement('label');\n",
              "      label.textContent = `Downloading \"${filename}\": `;\n",
              "      div.appendChild(label);\n",
              "      const progress = document.createElement('progress');\n",
              "      progress.max = size;\n",
              "      div.appendChild(progress);\n",
              "      document.body.appendChild(div);\n",
              "\n",
              "      const buffers = [];\n",
              "      let downloaded = 0;\n",
              "\n",
              "      const channel = await google.colab.kernel.comms.open(id);\n",
              "      // Send a message to notify the kernel that we're ready.\n",
              "      channel.send({})\n",
              "\n",
              "      for await (const message of channel.messages) {\n",
              "        // Send a message to notify the kernel that we're ready.\n",
              "        channel.send({})\n",
              "        if (message.buffers) {\n",
              "          for (const buffer of message.buffers) {\n",
              "            buffers.push(buffer);\n",
              "            downloaded += buffer.byteLength;\n",
              "            progress.value = downloaded;\n",
              "          }\n",
              "        }\n",
              "      }\n",
              "      const blob = new Blob(buffers, {type: 'application/binary'});\n",
              "      const a = document.createElement('a');\n",
              "      a.href = window.URL.createObjectURL(blob);\n",
              "      a.download = filename;\n",
              "      div.appendChild(a);\n",
              "      a.click();\n",
              "      div.remove();\n",
              "    }\n",
              "  "
            ]
          },
          "metadata": {}
        },
        {
          "output_type": "display_data",
          "data": {
            "text/plain": [
              "<IPython.core.display.Javascript object>"
            ],
            "application/javascript": [
              "download(\"download_b846d9bc-ce96-4d11-89a4-a74ad25c83cc\", \"df_pred_xgb.csv\", 1182981)"
            ]
          },
          "metadata": {}
        }
      ],
      "source": [
        "from google.colab import files\n",
        "df_xgb = df_trabajo_test_dum.drop(['is_canceled', 'id'], axis='columns', inplace=False)\n",
        "ids3 = df_trabajo_test_dum['id'].copy()\n",
        "\n",
        "pred_xgb = best_xgb.predict(df_xgb)\n",
        "\n",
        "df_pred_xgb = pd.DataFrame({'id': ids3, 'is_canceled': pred_xgb})\n",
        "\n",
        "df_pred_xgb.to_csv('df_pred_xgb.csv')\n",
        "files.download('df_pred_xgb.csv')"
      ]
    },
    {
      "cell_type": "markdown",
      "metadata": {
        "id": "OJsfT1l0-0tL"
      },
      "source": [
        "## Ensamble STACKING"
      ]
    },
    {
      "cell_type": "code",
      "execution_count": 108,
      "metadata": {
        "id": "JzFyJuGX-9uT"
      },
      "outputs": [],
      "source": [
        "#Creo un conjunto de datos para entrenar los modelos\n",
        "x, y = make_classification(n_samples=3000,\n",
        "                           n_features=20,\n",
        "                           n_informative=15,\n",
        "                           n_redundant=5,\n",
        "                           n_clusters_per_class=5,\n",
        "                           class_sep=0.7,\n",
        "                           flip_y=0.03,\n",
        "                           n_classes=2)"
      ]
    },
    {
      "cell_type": "code",
      "execution_count": 109,
      "metadata": {
        "id": "a_RCosCK--kA"
      },
      "outputs": [],
      "source": [
        "#Funcion para evaluar los modelos 5fold -CV (repite 2 veces)\n",
        "def evaluate_model(model, x, y):\n",
        "    cv = RepeatedStratifiedKFold(n_splits=5, n_repeats=2, random_state=1)\n",
        "    scores = cross_val_score(model, x, y, scoring='accuracy', cv=cv, verbose=1, n_jobs=3, error_score='raise')\n",
        "    return scores"
      ]
    },
    {
      "cell_type": "code",
      "execution_count": 110,
      "metadata": {
        "id": "_b26XHM0-_H2"
      },
      "outputs": [],
      "source": [
        "#Funcion para plotear a performance\n",
        "def plot_results(model_scores, name):\n",
        "\n",
        "    model_names = list(model_scores.keys())\n",
        "    results = [model_scores[model] for model in model_names]\n",
        "    fig = go.Figure()\n",
        "    for model, result in zip(model_names, results):\n",
        "        fig.add_trace(go.Box(\n",
        "            y=result,\n",
        "            name=model,\n",
        "            boxpoints='all',\n",
        "            jitter=0.5,\n",
        "            whiskerwidth=0.2,\n",
        "            marker_size=2,\n",
        "            line_width=1)\n",
        "        )\n",
        "\n",
        "    fig.update_layout(\n",
        "    title='Performance of Different Models Using 5-Fold Cross-Validation',\n",
        "    paper_bgcolor='rgb(243, 243, 243)',\n",
        "    plot_bgcolor='rgb(243, 243, 243)',\n",
        "    xaxis_title='Model',\n",
        "    yaxis_title='Accuracy',\n",
        "    showlegend=False)\n",
        "    fig.show()"
      ]
    },
    {
      "cell_type": "code",
      "execution_count": 111,
      "metadata": {
        "id": "YyAeyo2B_A6v",
        "colab": {
          "base_uri": "https://localhost:8080/"
        },
        "outputId": "5af5256a-ef62-4121-f635-c74ae910f969"
      },
      "outputs": [
        {
          "output_type": "stream",
          "name": "stdout",
          "text": [
            "Evaluating random_forest\n"
          ]
        },
        {
          "output_type": "stream",
          "name": "stderr",
          "text": [
            "[Parallel(n_jobs=3)]: Using backend LokyBackend with 3 concurrent workers.\n",
            "[Parallel(n_jobs=3)]: Done  10 out of  10 | elapsed:   34.6s finished\n",
            "[Parallel(n_jobs=3)]: Using backend LokyBackend with 3 concurrent workers.\n"
          ]
        },
        {
          "output_type": "stream",
          "name": "stdout",
          "text": [
            "Evaluating svm\n"
          ]
        },
        {
          "output_type": "stream",
          "name": "stderr",
          "text": [
            "[Parallel(n_jobs=3)]: Done  10 out of  10 | elapsed:  7.9min finished\n",
            "[Parallel(n_jobs=3)]: Using backend LokyBackend with 3 concurrent workers.\n"
          ]
        },
        {
          "output_type": "stream",
          "name": "stdout",
          "text": [
            "Evaluating knn\n"
          ]
        },
        {
          "output_type": "stream",
          "name": "stderr",
          "text": [
            "[Parallel(n_jobs=3)]: Done  10 out of  10 | elapsed:   24.2s finished\n"
          ]
        }
      ],
      "source": [
        "#Modelos Base\n",
        "base_models = {'random_forest':RandomForestClassifier(n_estimators=50),\n",
        "               'svm': SVC(),\n",
        "               'knn': KNeighborsClassifier(n_neighbors=11)}\n",
        "\n",
        "#Guarda los scores de cada modelo\n",
        "model_scores = defaultdict()\n",
        "\n",
        "#Entreno los clasificadores\n",
        "for name, model in base_models.items():\n",
        "    print('Evaluating {}'.format(name))\n",
        "    scores = evaluate_model(model, X_train, y_train)\n",
        "    model_scores[name] = scores"
      ]
    },
    {
      "cell_type": "code",
      "execution_count": 112,
      "metadata": {
        "id": "rkF7jijf_BhK"
      },
      "outputs": [],
      "source": [
        "from sklearn.ensemble import StackingClassifier\n",
        "\n",
        "#Modelos Base\n",
        "base_models = [('random_forest', RandomForestClassifier(n_estimators=50)),\n",
        "               ('svm', SVC()),\n",
        "               ('knn', KNeighborsClassifier(n_neighbors=11))]\n",
        "\n",
        "#Meta Modelo\n",
        "meta_model = LogisticRegressionCV()\n",
        "\n",
        "#Ensemble Stacking\n",
        "stacking_model = StackingClassifier(estimators=base_models,\n",
        "                                    final_estimator=meta_model,\n",
        "                                    passthrough=True,\n",
        "                                    cv=5,\n",
        "                                    verbose=2)"
      ]
    },
    {
      "cell_type": "code",
      "execution_count": 113,
      "metadata": {
        "id": "Ahxo-3UX_CEs",
        "colab": {
          "base_uri": "https://localhost:8080/"
        },
        "outputId": "de520b38-05ec-46ad-d669-ab84eff53fd8"
      },
      "outputs": [
        {
          "output_type": "stream",
          "name": "stderr",
          "text": [
            "[Parallel(n_jobs=3)]: Using backend LokyBackend with 3 concurrent workers.\n",
            "[Parallel(n_jobs=3)]: Done  10 out of  10 | elapsed: 38.0min finished\n"
          ]
        }
      ],
      "source": [
        "#Performance el modelo en entrenamiento\n",
        "stacking_scores = evaluate_model(stacking_model, X_train, y_train)\n",
        "model_scores['stacking'] = stacking_scores"
      ]
    },
    {
      "cell_type": "code",
      "source": [
        "#Evaluo en conjunto de test\n",
        "\n",
        "stacking_model.fit(X_train,y_train)\n",
        "y_pred_st = stacking_model.predict(X_test)\n",
        "accuracy_score(y_test, y_pred_st)"
      ],
      "metadata": {
        "id": "57JglmA9aIML",
        "colab": {
          "base_uri": "https://localhost:8080/"
        },
        "outputId": "841cf901-306b-4f5e-8726-c9e74a77b794"
      },
      "execution_count": 114,
      "outputs": [
        {
          "output_type": "execute_result",
          "data": {
            "text/plain": [
              "0.8543971573932003"
            ]
          },
          "metadata": {},
          "execution_count": 114
        }
      ]
    },
    {
      "cell_type": "code",
      "source": [
        "#Creo matriz de confusión\n",
        "tabla=confusion_matrix(y_test,y_pred_st)\n",
        "\n",
        "#Grafico matriz de confusión\n",
        "sns.heatmap(tabla, cmap='Blues',annot=True,fmt='g')\n",
        "plt.xlabel('Predicted')\n",
        "plt.ylabel('True')\n",
        "\n",
        "#Reporte\n",
        "print(classification_report(y_test,y_pred_st))"
      ],
      "metadata": {
        "id": "ntbtiwgPaiMw",
        "colab": {
          "base_uri": "https://localhost:8080/",
          "height": 613
        },
        "outputId": "45842750-eb04-479d-f65c-983541143273"
      },
      "execution_count": 115,
      "outputs": [
        {
          "output_type": "stream",
          "name": "stdout",
          "text": [
            "              precision    recall  f1-score   support\n",
            "\n",
            "           0       0.84      0.88      0.86      6165\n",
            "           1       0.87      0.83      0.85      6218\n",
            "\n",
            "    accuracy                           0.85     12383\n",
            "   macro avg       0.86      0.85      0.85     12383\n",
            "weighted avg       0.86      0.85      0.85     12383\n",
            "\n"
          ]
        },
        {
          "output_type": "display_data",
          "data": {
            "text/plain": [
              "<Figure size 640x480 with 2 Axes>"
            ],
            "image/png": "[encoded data removed]"
          },
          "metadata": {}
        }
      ]
    },
    {
      "cell_type": "code",
      "source": [
        "mostrar_metricas(y_test,y_pred_st)"
      ],
      "metadata": {
        "id": "gnZgmzp-aTuD",
        "colab": {
          "base_uri": "https://localhost:8080/"
        },
        "outputId": "576113b8-0415-4d1a-94c0-e3324dbd403f"
      },
      "execution_count": 116,
      "outputs": [
        {
          "output_type": "stream",
          "name": "stdout",
          "text": [
            "Accuracy: 0.8543971573932003\n",
            "Recall: 0.8319395303956256\n",
            "Precision: 0.872196931377508\n",
            "f1 score: 0.8515927236809614\n"
          ]
        }
      ]
    },
    {
      "cell_type": "code",
      "source": [
        "# df_stacking = df_trabajo_test_dum.drop(['is_canceled', 'id'], axis='columns', inplace=False)\n",
        "# ids4 = df_trabajo_test_dum['id'].copy()\n",
        "\n",
        "# pred_stacking = stacking_model.predict(df_stacking)\n",
        "\n",
        "# df_pred_stacking = pd.DataFrame({'id': ids4, 'is_canceled': pred_stacking})\n",
        "\n",
        "# df_pred_stacking.to_csv('df_pred_stacking.csv')\n",
        "# files.download('df_pred_stacking.csv')"
      ],
      "metadata": {
        "id": "TBvt--bhbmQz"
      },
      "execution_count": 117,
      "outputs": []
    },
    {
      "cell_type": "markdown",
      "metadata": {
        "id": "d66XNcjw_EO0"
      },
      "source": [
        "#VOTING"
      ]
    },
    {
      "cell_type": "code",
      "execution_count": 118,
      "metadata": {
        "id": "oi7GvP9o_I_W"
      },
      "outputs": [],
      "source": [
        "#Creo un conjunto de datos para entrenar los modelos\n",
        "\n",
        "x, y = make_classification(n_samples=3000,\n",
        "                           n_features=20,\n",
        "                           n_informative=15,\n",
        "                           n_redundant=5,\n",
        "                           n_clusters_per_class=5,\n",
        "                           class_sep=0.7,\n",
        "                           flip_y=0.03,\n",
        "                           n_classes=2)"
      ]
    },
    {
      "cell_type": "code",
      "execution_count": 119,
      "metadata": {
        "id": "UdzoUaGL_Jhy",
        "colab": {
          "base_uri": "https://localhost:8080/"
        },
        "outputId": "ee7cab10-d478-47a9-b46c-dda1ad908ba2"
      },
      "outputs": [
        {
          "output_type": "execute_result",
          "data": {
            "text/plain": [
              "0.7977777777777778"
            ]
          },
          "metadata": {},
          "execution_count": 119
        }
      ],
      "source": [
        "#Creo clasificadores\n",
        "\n",
        "log_clf = LogisticRegression()\n",
        "rnd_clf = RandomForestClassifier()\n",
        "knn_clf = KNeighborsClassifier()\n",
        "\n",
        "#Creo ensemble de Votación\n",
        "vot_clf = VotingClassifier(estimators = [('lr', log_clf), ('rnd', rnd_clf), ('knn', knn_clf)], voting = 'hard')\n",
        "\n",
        "#Armo conjunto entrenamiento y test 80-20\n",
        "x_train, x_test, y_train, y_test = train_test_split(x, y, random_state = 42, test_size = 0.3)\n",
        "\n",
        "#Entreno el ensemble\n",
        "vot_clf.fit(x_train, y_train)\n",
        "\n",
        "#Evaluo en conjunto de test\n",
        "y_pred_voting = vot_clf.predict(x_test)\n",
        "accuracy_score(y_test, y_pred_voting)"
      ]
    },
    {
      "cell_type": "code",
      "source": [
        "#Creo matriz de confusión\n",
        "tabla=confusion_matrix(y_test,y_pred_voting)\n",
        "\n",
        "#Grafico matriz de confusión\n",
        "sns.heatmap(tabla, cmap='Blues',annot=True,fmt='g')\n",
        "plt.xlabel('Predicted')\n",
        "plt.ylabel('True')\n",
        "\n",
        "#Reporte\n",
        "print(classification_report(y_test,y_pred_voting))"
      ],
      "metadata": {
        "id": "G6vH5_CvafRc",
        "colab": {
          "base_uri": "https://localhost:8080/",
          "height": 613
        },
        "outputId": "4969e95d-1c89-42c9-ec11-af7388f6b43c"
      },
      "execution_count": 120,
      "outputs": [
        {
          "output_type": "stream",
          "name": "stdout",
          "text": [
            "              precision    recall  f1-score   support\n",
            "\n",
            "           0       0.78      0.82      0.80       440\n",
            "           1       0.82      0.77      0.80       460\n",
            "\n",
            "    accuracy                           0.80       900\n",
            "   macro avg       0.80      0.80      0.80       900\n",
            "weighted avg       0.80      0.80      0.80       900\n",
            "\n"
          ]
        },
        {
          "output_type": "display_data",
          "data": {
            "text/plain": [
              "<Figure size 640x480 with 2 Axes>"
            ],
            "image/png": "[encoded data removed]"
          },
          "metadata": {}
        }
      ]
    },
    {
      "cell_type": "code",
      "source": [
        "mostrar_metricas(y_test,y_pred_voting)"
      ],
      "metadata": {
        "id": "xKt0VqH8aU-7",
        "colab": {
          "base_uri": "https://localhost:8080/"
        },
        "outputId": "538ec8ea-fa53-41a4-b7de-899868141e68"
      },
      "execution_count": 121,
      "outputs": [
        {
          "output_type": "stream",
          "name": "stdout",
          "text": [
            "Accuracy: 0.7977777777777778\n",
            "Recall: 0.7717391304347826\n",
            "Precision: 0.8217592592592593\n",
            "f1 score: 0.7959641255605381\n"
          ]
        }
      ]
    },
    {
      "cell_type": "code",
      "source": [
        "\n",
        "# df_voting = df_trabajo_test_dum.drop(['is_canceled', 'id'], axis='columns', inplace=False)\n",
        "# ids5 = df_trabajo_test_dum['id'].copy()\n",
        "\n",
        "# pred_voting = vot_clf.predict(df_voting)\n",
        "\n",
        "# df_pred_voting = pd.DataFrame({'id': ids5, 'is_canceled': pred_voting})\n",
        "\n",
        "# df_pred_voting.to_csv('df_pred_voting.csv')\n",
        "# files.download('df_pred_voting.csv')\n"
      ],
      "metadata": {
        "id": "wFog-Mocb5P-"
      },
      "execution_count": 122,
      "outputs": []
    }
  ],
  "metadata": {
    "colab": {
      "provenance": [],
      "include_colab_link": true
    },
    "kernelspec": {
      "display_name": "Python 3",
      "name": "python3"
    },
    "language_info": {
      "name": "python"
    }
  },
  "nbformat": 4,
  "nbformat_minor": 0
}