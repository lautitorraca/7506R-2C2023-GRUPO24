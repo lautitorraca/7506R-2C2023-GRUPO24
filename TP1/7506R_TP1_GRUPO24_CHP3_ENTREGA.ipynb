{
  "cells": [
    {
      "cell_type": "markdown",
      "metadata": {
        "id": "view-in-github",
        "colab_type": "text"
      },
      "source": [
        "<a href=\"https://colab.research.google.com/github/lautitorraca/7506R-2C2023-GRUPO24/blob/main/TP1/7506R_TP1_GRUPO24_CHP3_ENTREGA.ipynb\" target=\"_parent\"><img src=\"https://colab.research.google.com/assets/colab-badge.svg\" alt=\"Open In Colab\"/></a>"
      ]
    },
    {
      "cell_type": "markdown",
      "metadata": {
        "id": "qeh6KskeUyzU"
      },
      "source": [
        "# Trabajo Practico 1: Reservas de Hotel\n",
        "\n",
        "## 𝔾𝕣𝕦𝕡𝕠 𝟚𝟜 (Merequetengue👍)\n",
        "\n",
        "      ➢ Torraca Lautaro - 108813\n",
        "      ➢ Negrotti Gianluca - 108184\n",
        "      ➢ Marco Tosi - 107237"
      ]
    },
    {
      "cell_type": "markdown",
      "source": [
        "#TODO: ORGANIZAR EL CODIGO"
      ],
      "metadata": {
        "id": "YF5Y0O7WBVpn"
      }
    },
    {
      "cell_type": "markdown",
      "metadata": {
        "id": "eJEpV3GZ4zvJ"
      },
      "source": [
        "### » Imports"
      ]
    },
    {
      "cell_type": "code",
      "execution_count": 48,
      "metadata": {
        "id": "92asqtvlSlaP"
      },
      "outputs": [],
      "source": [
        "import pandas as pd\n",
        "import numpy as np\n",
        "\n",
        "import matplotlib.pyplot as plt\n",
        "import seaborn as sns\n",
        "\n",
        "from sklearn import tree\n",
        "from sklearn.model_selection import train_test_split\n",
        "from sklearn.metrics import precision_score, recall_score, accuracy_score,f1_score\n",
        "from sklearn.metrics import confusion_matrix, classification_report\n",
        "from sklearn.model_selection import train_test_split\n",
        "\n",
        "from sklearn.preprocessing import MinMaxScaler\n",
        "\n",
        "from google.colab import files\n",
        "\n",
        "\n",
        "from six import StringIO\n",
        "from IPython.display import Image\n",
        "from sklearn.tree import export_graphviz\n",
        "import pydotplus\n",
        "\n",
        "\n",
        "import warnings\n",
        "warnings.simplefilter(action='ignore', category=FutureWarning)\n",
        "warnings.simplefilter(action='ignore', category=UserWarning)"
      ]
    },
    {
      "cell_type": "markdown",
      "metadata": {
        "id": "HGPN2owAU8PS"
      },
      "source": [
        "# » Lectura de los archivos"
      ]
    },
    {
      "cell_type": "code",
      "execution_count": 49,
      "metadata": {
        "id": "yfzqoZ_PSqe6"
      },
      "outputs": [],
      "source": [
        "url_train = 'https://raw.githubusercontent.com/lautitorraca/7506R-2C2023-GRUPO24/main/TP1/DataSets/hotels_train.csv'\n",
        "url_test = 'https://raw.githubusercontent.com/lautitorraca/7506R-2C2023-GRUPO24/main/TP1/DataSets/df_base_limpio.csv'\n",
        "\n",
        "ds_train_base = pd.read_csv(url_train)\n",
        "ds_test_base = pd.read_csv(url_test)\n",
        "\n",
        "ds_test = ds_test_base.copy()\n",
        "df_test = pd.DataFrame(ds_test_base)\n",
        "\n",
        "ds_train = ds_train_base.copy()\n",
        "df_train = pd.DataFrame(ds_train_base)"
      ]
    },
    {
      "cell_type": "markdown",
      "metadata": {
        "id": "wftbHTyAiUDi"
      },
      "source": [
        "### » Entramiento y prediccion con el primer modelo de arbol planteado. (Modelo 1)"
      ]
    },
    {
      "cell_type": "markdown",
      "metadata": {
        "id": "keQEKoX94hWy"
      },
      "source": [
        "Procedemos a buscar los paises que se encuentran en ambos DataSets y hacemos que coincidan los de train con los de test."
      ]
    },
    {
      "cell_type": "code",
      "source": [
        "df_train['room_type_match'] = df_train['assigned_room_type'] == df_train['reserved_room_type']\n",
        "df_test['room_type_match'] = df_test['assigned_room_type'] == df_test['reserved_room_type']\n",
        "df_test\n",
        "df_train['days_in_waiting_list'] = df_train['days_in_waiting_list'] >= 0\n",
        "\n",
        "df_train['cancel_to_noncancel_ratio'] = df_train['previous_cancellations'] / (1 + df_train['previous_bookings_not_canceled'])\n",
        "df_test['cancel_to_noncancel_ratio'] = df_test['previous_cancellations'] / (1 + df_test['previous_bookings_not_canceled'])\n",
        "\n",
        "df_train['lead_time_category'] = pd.cut(df_train['lead_time'], bins=[0, 10, 50, 100, 500, 10000], labels=['Very Short', 'Short', 'Medium', 'Long', 'Very Long'], right=False)\n",
        "df_test['lead_time_category'] = pd.cut(df_test['lead_time'], bins=[0, 10, 50, 100, 500, 10000], labels=['Very Short', 'Short', 'Medium', 'Long', 'Very Long'], right=False)\n",
        "\n",
        "df_train['days_in_waiting_list_category'] = pd.cut(df_train['days_in_waiting_list'], bins=[0, 10, 50, 100, 500, 10000], labels=['Very Short', 'Short', 'Medium', 'Long', 'Very Long'], right=False)\n",
        "df_test['days_in_waiting_list_category'] = pd.cut(df_test['days_in_waiting_list'], bins=[0, 10, 50, 100, 500, 10000], labels=['Very Short', 'Short', 'Medium', 'Long', 'Very Long'], right=False)"
      ],
      "metadata": {
        "id": "FgGSAZIA271h"
      },
      "execution_count": 50,
      "outputs": []
    },
    {
      "cell_type": "code",
      "source": [
        "columnas_faltantes_en_train = set(df_test.columns) - set(df_train.columns)\n",
        "columnas_faltantes_en_test = set(df_train.columns)- set(df_test.columns)\n",
        "print('Columnas faltantes es train:', columnas_faltantes_en_train)\n",
        "print('Columnas faltantes es test:', columnas_faltantes_en_test)\n",
        "\n",
        "print('Train:', df_train.shape)\n",
        "print('Test:', df_test.shape)"
      ],
      "metadata": {
        "colab": {
          "base_uri": "https://localhost:8080/"
        },
        "id": "GRzpWY123_-E",
        "outputId": "92774d04-1de3-46be-d34c-b5da61ae8dac"
      },
      "execution_count": 51,
      "outputs": [
        {
          "output_type": "stream",
          "name": "stdout",
          "text": [
            "Columnas faltantes es train: {'Unnamed: 0', 'reservation_status_date', 'z_adr', 'z_total_of_special_requests', 'mahalanobis', 'z_stays_in_weekend_nights'}\n",
            "Columnas faltantes es test: {'is_canceled'}\n",
            "Train: (61913, 35)\n",
            "Test: (26535, 40)\n"
          ]
        }
      ]
    },
    {
      "cell_type": "code",
      "source": [
        "df_train.dropna(subset=['children'], inplace=True)\n",
        "\n",
        "df_train.dropna(subset=['agent'], inplace=True)"
      ],
      "metadata": {
        "id": "8wOydhL34HbB"
      },
      "execution_count": 52,
      "outputs": []
    },
    {
      "cell_type": "code",
      "source": [
        "country_counts_train = df_train['country'].value_counts()\n",
        "country_counts_test = df_test['country'].value_counts()\n",
        "\n",
        "# Selecciona los 10 países más relevantes\n",
        "top_10_countries_train = country_counts_train.head(10).index.tolist()\n",
        "top_10_countries_test = country_counts_test.head(10).index.tolist()\n",
        "\n",
        "# Reemplaza los países que no están en los 10 más relevantes con \"otro\"\n",
        "df_train['country'] = df_train['country'].apply(lambda x: x if x in top_10_countries_train else 'otro')\n",
        "df_test['country'] = df_test['country'].apply(lambda x: x if x in top_10_countries_test else 'otro')\n"
      ],
      "metadata": {
        "colab": {
          "base_uri": "https://localhost:8080/",
          "height": 488
        },
        "id": "E8H-8d_g4GTr",
        "outputId": "2cd72cb4-ba13-48d9-d871-23eecf9fbcb9"
      },
      "execution_count": 53,
      "outputs": [
        {
          "output_type": "display_data",
          "data": {
            "text/plain": [
              "<Figure size 640x480 with 1 Axes>"
            ],
            "image/png": "[encoded data removed]"
          },
          "metadata": {}
        }
      ]
    },
    {
      "cell_type": "code",
      "source": [
        "market_segment_counts_train = df_train['market_segment'].value_counts()\n",
        "market_segment_counts_test = df_test['market_segment'].value_counts()\n",
        "\n",
        "\n",
        "top_3_ms_train = market_segment_counts_train.head(4).index.tolist()\n",
        "top_3_ms_test = market_segment_counts_test.head(4).index.tolist()\n",
        "\n",
        "df_train['market_segment'] = df_train['market_segment'].apply(lambda x: x if x in top_3_ms_train else 'otro')\n",
        "df_test['market_segment'] = df_test['market_segment'].apply(lambda x: x if x in top_3_ms_test else 'otro')"
      ],
      "metadata": {
        "id": "qinND7mc4Iq7"
      },
      "execution_count": 54,
      "outputs": []
    },
    {
      "cell_type": "code",
      "source": [
        "ct_counts_train = df_train['customer_type'].value_counts()\n",
        "ct_counts_test = df_test['customer_type'].value_counts()\n",
        "\n",
        "\n",
        "top_ct_train = ct_counts_train.head(2).index.tolist()\n",
        "top_ct_test = ct_counts_test.head(2).index.tolist()\n",
        "\n",
        "df_train['customer_type'] = df_train['customer_type'].apply(lambda x: x if x in top_ct_train else 'otro')\n",
        "df_test['customer_type'] = df_test['customer_type'].apply(lambda x: x if x in top_ct_test else 'otro')\n"
      ],
      "metadata": {
        "id": "Vz4ZLrca4J2H"
      },
      "execution_count": 55,
      "outputs": []
    },
    {
      "cell_type": "code",
      "source": [
        "columna_a_eliminar_test = 'reservation_status_date'\n",
        "\n",
        "df_test.drop(columna_a_eliminar_test, axis='columns', inplace = True)\n",
        "df_test.insert(1, 'is_canceled', \" \")\n",
        "df_test = pd.DataFrame(df_test)"
      ],
      "metadata": {
        "id": "2c4ZYb6h4Dy4"
      },
      "execution_count": 56,
      "outputs": []
    },
    {
      "cell_type": "code",
      "execution_count": 57,
      "metadata": {
        "id": "Tst798iTj9fY"
      },
      "outputs": [],
      "source": [
        "\n",
        "features = ['lead_time_category','booking_changes','required_car_parking_spaces','total_of_special_requests','room_type_match','cancel_to_noncancel_ratio', 'is_repeated_guest',\n",
        "             'previous_cancellations','country', 'market_segment', 'deposit_type', 'distribution_channel', 'stays_in_weekend_nights', 'adults','babies', 'days_in_waiting_list_category',\n",
        "             'customer_type','is_canceled','id']\n",
        "\n",
        "\n",
        "df_trabajo_train = df_train[features]\n",
        "df_trabajo_test = df_test[features]\n",
        "\n",
        "\n"
      ]
    },
    {
      "cell_type": "code",
      "source": [
        "columns_to_dum= ['lead_time_category', 'country', 'market_segment', 'deposit_type', 'distribution_channel', 'days_in_waiting_list_category', 'customer_type']\n",
        "df_trabajo_train_dum = pd.get_dummies(df_trabajo_train, columns = columns_to_dum)\n",
        "df_trabajo_test_dum = pd.get_dummies(df_trabajo_test, columns = columns_to_dum)"
      ],
      "metadata": {
        "id": "uEoBWEet3Nhk"
      },
      "execution_count": 58,
      "outputs": []
    },
    {
      "cell_type": "markdown",
      "metadata": {
        "id": "jSVlSVRX9uGZ"
      },
      "source": [
        "- **Entrenamiento del arbol**"
      ]
    },
    {
      "cell_type": "code",
      "execution_count": 59,
      "metadata": {
        "id": "1_gnGisSGviS"
      },
      "outputs": [],
      "source": [
        "from sklearn.model_selection import train_test_split\n",
        "from sklearn.neighbors import KNeighborsClassifier,NeighborhoodComponentsAnalysis\n",
        "from sklearn.metrics import accuracy_score\n",
        "\n",
        "df_trabajo_x= df_trabajo_train_dum.drop(['is_canceled', 'id'], axis='columns', inplace=False)\n",
        "\n",
        "df_trabajo_y = df_trabajo_train_dum['is_canceled'].copy()\n",
        "\n",
        "x_train, x_test, y_train, y_test= train_test_split(df_trabajo_x,\n",
        "                                                       df_trabajo_y,\n",
        "                                                       test_size=0.30,\n",
        "                                                       random_state=13)\n"
      ]
    },
    {
      "cell_type": "code",
      "execution_count": 60,
      "metadata": {
        "id": "kd9OQKjSxwaC"
      },
      "outputs": [],
      "source": [
        "def mostrar_metricas(y_test, y_pred):\n",
        "    accuracy=accuracy_score(y_test,y_pred)\n",
        "    recall=recall_score(y_test,y_pred)\n",
        "    f1=f1_score(y_test,y_pred)\n",
        "    precision=precision_score(y_test,y_pred)\n",
        "\n",
        "    print(\"Accuracy: \"+str(accuracy))\n",
        "    print(\"Recall: \"+str(recall))\n",
        "    print(\"Precision: \"+str(precision))\n",
        "    print(\"f1 score: \"+str(f1))"
      ]
    },
    {
      "cell_type": "code",
      "execution_count": 61,
      "metadata": {
        "id": "gTZ5HOfc5CDp"
      },
      "outputs": [],
      "source": [
        "# Variamos la cantidad de vecinos (K)\n",
        "\n",
        "metrics = [] #cantidad de vecinos y cantidad de aciertos\n",
        "\n",
        "k_range=range(19,20) # vecinos desde 1 hasta cantidad total de puntos en test\n",
        "\n",
        "for n in k_range:\n",
        "\n",
        "    knn = KNeighborsClassifier(n_neighbors=n)\n",
        "    knn.fit(x_train, y_train)\n",
        "    y_pred = knn.predict(x_test)\n",
        "    metrics.append((n, (y_test == y_pred).sum()))"
      ]
    },
    {
      "cell_type": "code",
      "source": [
        "# ploteamos\n",
        "\n",
        "df_metrics = pd.DataFrame(metrics, columns=['cant_vecinos', 'correctos'])\n",
        "\n",
        "ax = df_metrics.plot( x='cant_vecinos',\n",
        "                      y='correctos',\n",
        "                      title='Aciertos vs Cantidad de Vecinos'\n",
        "                     )\n",
        "\n",
        "ax.set_ylabel(\"Cantidad de aciertos\")\n",
        "ax.set_xlabel(\"Cantidad de Vecinos\")\n",
        "plt.show()\n"
      ],
      "metadata": {
        "id": "cpkuDpYjNrq8",
        "colab": {
          "base_uri": "https://localhost:8080/",
          "height": 472
        },
        "outputId": "c4bf97ce-df28-4f5c-92c0-7e40810d5798"
      },
      "execution_count": 62,
      "outputs": [
        {
          "output_type": "display_data",
          "data": {
            "text/plain": [
              "<Figure size 640x480 with 1 Axes>"
            ],
            "image/png": "[encoded data removed]"
          },
          "metadata": {}
        }
      ]
    },
    {
      "cell_type": "code",
      "source": [
        "from sklearn.model_selection import cross_val_score\n",
        "\n",
        "k_range=[27,50] #canidad de vecinos a probar\n",
        "\n",
        "k_scores=[] # accuracy para cada K utilizado\n",
        "\n",
        "for k in k_range:\n",
        "    #clasificador Knn\n",
        "    knn=KNeighborsClassifier(n_neighbors=k)\n",
        "    #uso 10 folds\n",
        "    scores=cross_val_score(knn,x_train,y_train, cv=10,scoring='f1')\n",
        "    #promedio las 10 métricas\n",
        "    k_scores.append(scores.mean())\n",
        "    #ploteamos accuracy vs cantidad de vecinos\n",
        "plt.plot(k_range, k_scores)\n",
        "plt.xlabel('Cantidad de Vecinos')\n",
        "plt.ylabel('Cross Validation Accuracy')\n",
        "plt.title('Accuracy vs Cantidad de Vecinos')\n",
        "plt.show()"
      ],
      "metadata": {
        "id": "sxQYU_bGN0yN",
        "colab": {
          "base_uri": "https://localhost:8080/",
          "height": 472
        },
        "outputId": "ba36313b-3216-49b1-bd73-c4e30df38591"
      },
      "execution_count": 63,
      "outputs": [
        {
          "output_type": "display_data",
          "data": {
            "text/plain": [
              "<Figure size 640x480 with 1 Axes>"
            ],
            "image/png": "[encoded data removed]"
          },
          "metadata": {}
        }
      ]
    },
    {
      "cell_type": "code",
      "source": [
        "from sklearn.metrics.pairwise import PAIRWISE_DISTANCE_FUNCTIONS\n",
        "from sklearn.neighbors import BallTree\n",
        "from sklearn.neighbors import KDTree\n",
        "\n",
        "#Métricas Válidas\n",
        "VALID_METRICS = dict(\n",
        "    ball_tree=BallTree.valid_metrics,\n",
        "    kd_tree=KDTree.valid_metrics,\n",
        "    # The following list comes from the sklearn.metrics.pairwise doc string\n",
        "    brute=list(PAIRWISE_DISTANCE_FUNCTIONS.keys())\n",
        "    + [ 'braycurtis','canberra','chebyshev','correlation',\n",
        "        'cosine','dice','hamming','jaccard','kulsinski',\n",
        "        'mahalanobis','matching','minkowski','rogerstanimoto',\n",
        "        'russellrao','seuclidean','sokalmichener','sokalsneath',\n",
        "        'sqeuclidean','yule','wminkowski','pdist'\n",
        "    ],\n",
        ")\n",
        "\n",
        "#Ejemplo\n",
        "for alg in VALID_METRICS:\n",
        "    print(f'algoritmo: {alg}')\n",
        "    print(VALID_METRICS[alg])\n",
        "    print()"
      ],
      "metadata": {
        "id": "L1WtLNb6aETD",
        "colab": {
          "base_uri": "https://localhost:8080/"
        },
        "outputId": "e7f495a2-11b1-4ef3-ffb1-d80fbfd4b559"
      },
      "execution_count": 64,
      "outputs": [
        {
          "output_type": "stream",
          "name": "stdout",
          "text": [
            "algoritmo: ball_tree\n",
            "['euclidean', 'l2', 'minkowski', 'p', 'manhattan', 'cityblock', 'l1', 'chebyshev', 'infinity', 'seuclidean', 'mahalanobis', 'wminkowski', 'hamming', 'canberra', 'braycurtis', 'matching', 'jaccard', 'dice', 'kulsinski', 'rogerstanimoto', 'russellrao', 'sokalmichener', 'sokalsneath', 'haversine', 'pyfunc']\n",
            "\n",
            "algoritmo: kd_tree\n",
            "['euclidean', 'l2', 'minkowski', 'p', 'manhattan', 'cityblock', 'l1', 'chebyshev', 'infinity']\n",
            "\n",
            "algoritmo: brute\n",
            "['cityblock', 'cosine', 'euclidean', 'haversine', 'l2', 'l1', 'manhattan', 'precomputed', 'nan_euclidean', 'braycurtis', 'canberra', 'chebyshev', 'correlation', 'cosine', 'dice', 'hamming', 'jaccard', 'kulsinski', 'mahalanobis', 'matching', 'minkowski', 'rogerstanimoto', 'russellrao', 'seuclidean', 'sokalmichener', 'sokalsneath', 'sqeuclidean', 'yule', 'wminkowski', 'pdist']\n",
            "\n"
          ]
        }
      ]
    },
    {
      "cell_type": "code",
      "source": [
        "from sklearn.model_selection import RandomizedSearchCV\n",
        "\n",
        "#Grilla de Parámetros\n",
        "params_grid={ 'n_neighbors':[50],\n",
        "              'weights':['distance'],\n",
        "              'algorithm':['ball_tree', 'kd_tree', 'brute', 'auto'],\n",
        "              'metric':['minkowski']\n",
        "             }\n",
        "# nca = NeighborhoodComponentsAnalysis(random_state=13)\n",
        "# nca.fit(x_train, y_train)\n",
        "#Clasificador KNN\n",
        "knn=KNeighborsClassifier()\n",
        "\n",
        "#Random Search con 10 Folds y 10 iteraciones\n",
        "rand = RandomizedSearchCV(knn, params_grid, cv=10, scoring='f1', n_iter=10, random_state=5)\n",
        "\n",
        "rand.fit(x_train, y_train)\n",
        "\n",
        "rand.cv_results_['mean_test_score']"
      ],
      "metadata": {
        "id": "zr4GeyrbZg1J",
        "colab": {
          "base_uri": "https://localhost:8080/"
        },
        "outputId": "498bac3e-a972-4897-d639-fe9320b78503"
      },
      "execution_count": 65,
      "outputs": [
        {
          "output_type": "execute_result",
          "data": {
            "text/plain": [
              "array([0.81866637, 0.8193746 , 0.81906801, 0.81906801])"
            ]
          },
          "metadata": {},
          "execution_count": 65
        }
      ]
    },
    {
      "cell_type": "code",
      "source": [
        "#Mejores hiperparametros\n",
        "print(rand.best_params_)\n",
        "#Mejor métrica\n",
        "print(rand.best_score_)"
      ],
      "metadata": {
        "id": "T3gWdpZYZnHz",
        "colab": {
          "base_uri": "https://localhost:8080/"
        },
        "outputId": "7c054d28-1689-4579-eee0-4e0c2e1b2fbe"
      },
      "execution_count": 66,
      "outputs": [
        {
          "output_type": "stream",
          "name": "stdout",
          "text": [
            "{'weights': 'distance', 'n_neighbors': 50, 'metric': 'minkowski', 'algorithm': 'kd_tree'}\n",
            "0.8193746023263051\n"
          ]
        }
      ]
    },
    {
      "cell_type": "code",
      "source": [
        "#Mejor estimador\n",
        "best_knn=rand.best_estimator_\n",
        "\n",
        "#Predicción con mejor estimador\n",
        "y_pred=best_knn.predict(x_test)\n",
        "\n",
        "#Accuracy test\n",
        "accuracy_score(y_test, y_pred)"
      ],
      "metadata": {
        "id": "Hyxe9wzwZoe7",
        "colab": {
          "base_uri": "https://localhost:8080/"
        },
        "outputId": "6f2899a3-4370-4c24-85ee-3f108a94a4db"
      },
      "execution_count": 67,
      "outputs": [
        {
          "output_type": "execute_result",
          "data": {
            "text/plain": [
              "0.8136607638674647"
            ]
          },
          "metadata": {},
          "execution_count": 67
        }
      ]
    },
    {
      "cell_type": "code",
      "source": [
        "tabla1 = confusion_matrix(y_test, y_pred)\n",
        "sns.heatmap(tabla1,cmap='GnBu',annot=True,fmt='g')\n",
        "plt.xlabel('Predicted')\n",
        "plt.ylabel('True')\n"
      ],
      "metadata": {
        "id": "PjbNLY067YZj"
      },
      "execution_count": null,
      "outputs": []
    },
    {
      "cell_type": "code",
      "source": [
        "mostrar_metricas(y_test, y_pred)"
      ],
      "metadata": {
        "id": "q1sTPZeJZo64",
        "colab": {
          "base_uri": "https://localhost:8080/"
        },
        "outputId": "10d5a31c-d3a2-42d8-e6b2-60613dcbe7a1"
      },
      "execution_count": 68,
      "outputs": [
        {
          "output_type": "stream",
          "name": "stdout",
          "text": [
            "Accuracy: 0.8136607638674647\n",
            "Recall: 0.8381054640897161\n",
            "Precision: 0.8085865561694291\n",
            "f1 score: 0.8230814294083187\n"
          ]
        }
      ]
    },
    {
      "cell_type": "code",
      "source": [
        "\n",
        "# df_trabajo_test_x = df_trabajo_test_dum.drop(['is_canceled', 'id'], axis='columns', inplace=False)\n",
        "# ids1 = df_trabajo_test_dum['id'].copy()\n",
        "\n",
        "\n",
        "# prediccion1 = best_knn.predict(df_trabajo_test_x)\n",
        "\n",
        "# df_prediccion1 = pd.DataFrame({'id': ids1, 'is_canceled': prediccion1})\n",
        "\n",
        "# df_prediccion1.to_csv('df_prediccion1.csv')\n",
        "# files.download('df_prediccion1.csv')\n"
      ],
      "metadata": {
        "colab": {
          "base_uri": "https://localhost:8080/",
          "height": 17
        },
        "id": "6hZHKKHx6g20",
        "outputId": "5ace6b8a-5915-413f-9316-cb1083a7cebb"
      },
      "execution_count": 72,
      "outputs": [
        {
          "output_type": "display_data",
          "data": {
            "text/plain": [
              "<IPython.core.display.Javascript object>"
            ],
            "application/javascript": [
              "\n",
              "    async function download(id, filename, size) {\n",
              "      if (!google.colab.kernel.accessAllowed) {\n",
              "        return;\n",
              "      }\n",
              "      const div = document.createElement('div');\n",
              "      const label = document.createElement('label');\n",
              "      label.textContent = `Downloading \"${filename}\": `;\n",
              "      div.appendChild(label);\n",
              "      const progress = document.createElement('progress');\n",
              "      progress.max = size;\n",
              "      div.appendChild(progress);\n",
              "      document.body.appendChild(div);\n",
              "\n",
              "      const buffers = [];\n",
              "      let downloaded = 0;\n",
              "\n",
              "      const channel = await google.colab.kernel.comms.open(id);\n",
              "      // Send a message to notify the kernel that we're ready.\n",
              "      channel.send({})\n",
              "\n",
              "      for await (const message of channel.messages) {\n",
              "        // Send a message to notify the kernel that we're ready.\n",
              "        channel.send({})\n",
              "        if (message.buffers) {\n",
              "          for (const buffer of message.buffers) {\n",
              "            buffers.push(buffer);\n",
              "            downloaded += buffer.byteLength;\n",
              "            progress.value = downloaded;\n",
              "          }\n",
              "        }\n",
              "      }\n",
              "      const blob = new Blob(buffers, {type: 'application/binary'});\n",
              "      const a = document.createElement('a');\n",
              "      a.href = window.URL.createObjectURL(blob);\n",
              "      a.download = filename;\n",
              "      div.appendChild(a);\n",
              "      a.click();\n",
              "      div.remove();\n",
              "    }\n",
              "  "
            ]
          },
          "metadata": {}
        },
        {
          "output_type": "display_data",
          "data": {
            "text/plain": [
              "<IPython.core.display.Javascript object>"
            ],
            "application/javascript": [
              "download(\"download_db3bcc0d-739f-4a00-84df-76ab490da56b\", \"df_prediccion1.csv\", 1182981)"
            ]
          },
          "metadata": {}
        }
      ]
    }
  ],
  "metadata": {
    "colab": {
      "provenance": [],
      "include_colab_link": true
    },
    "kernelspec": {
      "display_name": "Python 3",
      "name": "python3"
    },
    "language_info": {
      "name": "python"
    }
  },
  "nbformat": 4,
  "nbformat_minor": 0
}