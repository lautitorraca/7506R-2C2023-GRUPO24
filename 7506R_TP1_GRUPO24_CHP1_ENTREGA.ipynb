{
  "nbformat": 4,
  "nbformat_minor": 0,
  "metadata": {
    "colab": {
      "provenance": [],
      "include_colab_link": true
    },
    "kernelspec": {
      "name": "python3",
      "display_name": "Python 3"
    },
    "language_info": {
      "name": "python"
    }
  },
  "cells": [
    {
      "cell_type": "markdown",
      "metadata": {
        "id": "view-in-github",
        "colab_type": "text"
      },
      "source": [
        "<a href=\"https://colab.research.google.com/github/lautitorraca/7506R-2C2023-GRUPO24/blob/main/7506R_TP1_GRUPO24_CHP1_ENTREGA.ipynb\" target=\"_parent\"><img src=\"https://colab.research.google.com/assets/colab-badge.svg\" alt=\"Open In Colab\"/></a>"
      ]
    },
    {
      "cell_type": "markdown",
      "source": [
        "# Trabajo Practico 1: Reservas de Hotel\n",
        "\n",
        "## 𝔾𝕣𝕦𝕡𝕠 𝟚𝟜 (Merequetengue👍)\n",
        "\n",
        "      ➢ Torraca Lautaro - 108813\n",
        "      ➢ Negrotti Gianluca - 108184\n",
        "      ➢ Marco Tosi - 107237"
      ],
      "metadata": {
        "id": "BqVoyExC-qsX"
      }
    },
    {
      "cell_type": "code",
      "execution_count": 1,
      "metadata": {
        "id": "jaZWyoTZ27NW"
      },
      "outputs": [],
      "source": [
        "# Imports for notebook\n",
        "\n",
        "import pandas as pd\n",
        "from IPython.display import display\n",
        "from datetime import datetime\n",
        "import matplotlib.pyplot as plt\n",
        "from matplotlib.ticker import PercentFormatter\n",
        "import seaborn as sns\n",
        "\n",
        "\n",
        "url = 'TP1/DataSets/hotels_test.csv'\n",
        "\n",
        "plt.style.use('seaborn-v0_8-pastel')"
      ]
    },
    {
      "cell_type": "markdown",
      "source": [
        "============================== TODO ==============================\n",
        "\n",
        "\n",
        "-> Ver donde ponemos la Fecha y el ID.\n",
        "\n",
        "-> Leer el Paper y ver si hay variables irrelevantes.\n",
        "(Yo creo que sin contar de company el resto si puede llegar a ser util para algo)\n",
        "\n",
        "\n",
        "-> Que paso con las variables con muchos Nan?\n",
        "\n",
        "**-> Vivirla en el informe:**"
      ],
      "metadata": {
        "id": "wqgNZiyMwXVK"
      }
    },
    {
      "cell_type": "markdown",
      "source": [
        "# » Lectura del archivo"
      ],
      "metadata": {
        "id": "WmyS6_Zm36vd"
      }
    },
    {
      "cell_type": "code",
      "source": [
        "ds_original = pd.read_csv(url)\n",
        "ds_base = ds_original.copy()"
      ],
      "metadata": {
        "id": "mQ0sTpnp4A8T",
        "colab": {
          "base_uri": "https://localhost:8080/",
          "height": 252
        },
        "outputId": "e23cc4ba-9bd1-4abc-901e-8fd366eba728"
      },
      "execution_count": 2,
      "outputs": [
        {
          "output_type": "error",
          "ename": "ParserError",
          "evalue": "ignored",
          "traceback": [
            "\u001b[0;31m---------------------------------------------------------------------------\u001b[0m",
            "\u001b[0;31mParserError\u001b[0m                               Traceback (most recent call last)",
            "\u001b[0;32m<ipython-input-2-c8284defe4fb>\u001b[0m in \u001b[0;36m<cell line: 1>\u001b[0;34m()\u001b[0m\n\u001b[0;32m----> 1\u001b[0;31m \u001b[0mds_original\u001b[0m \u001b[0;34m=\u001b[0m \u001b[0mpd\u001b[0m\u001b[0;34m.\u001b[0m\u001b[0mread_csv\u001b[0m\u001b[0;34m(\u001b[0m\u001b[0murl\u001b[0m\u001b[0;34m)\u001b[0m\u001b[0;34m\u001b[0m\u001b[0;34m\u001b[0m\u001b[0m\n\u001b[0m\u001b[1;32m      2\u001b[0m \u001b[0mds_base\u001b[0m \u001b[0;34m=\u001b[0m \u001b[0mds_original\u001b[0m\u001b[0;34m.\u001b[0m\u001b[0mcopy\u001b[0m\u001b[0;34m(\u001b[0m\u001b[0;34m)\u001b[0m\u001b[0;34m\u001b[0m\u001b[0;34m\u001b[0m\u001b[0m\n",
            "\u001b[0;32m/usr/local/lib/python3.10/dist-packages/pandas/util/_decorators.py\u001b[0m in \u001b[0;36mwrapper\u001b[0;34m(*args, **kwargs)\u001b[0m\n\u001b[1;32m    209\u001b[0m                 \u001b[0;32melse\u001b[0m\u001b[0;34m:\u001b[0m\u001b[0;34m\u001b[0m\u001b[0;34m\u001b[0m\u001b[0m\n\u001b[1;32m    210\u001b[0m                     \u001b[0mkwargs\u001b[0m\u001b[0;34m[\u001b[0m\u001b[0mnew_arg_name\u001b[0m\u001b[0;34m]\u001b[0m \u001b[0;34m=\u001b[0m \u001b[0mnew_arg_value\u001b[0m\u001b[0;34m\u001b[0m\u001b[0;34m\u001b[0m\u001b[0m\n\u001b[0;32m--> 211\u001b[0;31m             \u001b[0;32mreturn\u001b[0m \u001b[0mfunc\u001b[0m\u001b[0;34m(\u001b[0m\u001b[0;34m*\u001b[0m\u001b[0margs\u001b[0m\u001b[0;34m,\u001b[0m \u001b[0;34m**\u001b[0m\u001b[0mkwargs\u001b[0m\u001b[0;34m)\u001b[0m\u001b[0;34m\u001b[0m\u001b[0;34m\u001b[0m\u001b[0m\n\u001b[0m\u001b[1;32m    212\u001b[0m \u001b[0;34m\u001b[0m\u001b[0m\n\u001b[1;32m    213\u001b[0m         \u001b[0;32mreturn\u001b[0m \u001b[0mcast\u001b[0m\u001b[0;34m(\u001b[0m\u001b[0mF\u001b[0m\u001b[0;34m,\u001b[0m \u001b[0mwrapper\u001b[0m\u001b[0;34m)\u001b[0m\u001b[0;34m\u001b[0m\u001b[0;34m\u001b[0m\u001b[0m\n",
            "\u001b[0;32m/usr/local/lib/python3.10/dist-packages/pandas/util/_decorators.py\u001b[0m in \u001b[0;36mwrapper\u001b[0;34m(*args, **kwargs)\u001b[0m\n\u001b[1;32m    329\u001b[0m                     \u001b[0mstacklevel\u001b[0m\u001b[0;34m=\u001b[0m\u001b[0mfind_stack_level\u001b[0m\u001b[0;34m(\u001b[0m\u001b[0;34m)\u001b[0m\u001b[0;34m,\u001b[0m\u001b[0;34m\u001b[0m\u001b[0;34m\u001b[0m\u001b[0m\n\u001b[1;32m    330\u001b[0m                 )\n\u001b[0;32m--> 331\u001b[0;31m             \u001b[0;32mreturn\u001b[0m \u001b[0mfunc\u001b[0m\u001b[0;34m(\u001b[0m\u001b[0;34m*\u001b[0m\u001b[0margs\u001b[0m\u001b[0;34m,\u001b[0m \u001b[0;34m**\u001b[0m\u001b[0mkwargs\u001b[0m\u001b[0;34m)\u001b[0m\u001b[0;34m\u001b[0m\u001b[0;34m\u001b[0m\u001b[0m\n\u001b[0m\u001b[1;32m    332\u001b[0m \u001b[0;34m\u001b[0m\u001b[0m\n\u001b[1;32m    333\u001b[0m         \u001b[0;31m# error: \"Callable[[VarArg(Any), KwArg(Any)], Any]\" has no\u001b[0m\u001b[0;34m\u001b[0m\u001b[0;34m\u001b[0m\u001b[0m\n",
            "\u001b[0;32m/usr/local/lib/python3.10/dist-packages/pandas/io/parsers/readers.py\u001b[0m in \u001b[0;36mread_csv\u001b[0;34m(filepath_or_buffer, sep, delimiter, header, names, index_col, usecols, squeeze, prefix, mangle_dupe_cols, dtype, engine, converters, true_values, false_values, skipinitialspace, skiprows, skipfooter, nrows, na_values, keep_default_na, na_filter, verbose, skip_blank_lines, parse_dates, infer_datetime_format, keep_date_col, date_parser, dayfirst, cache_dates, iterator, chunksize, compression, thousands, decimal, lineterminator, quotechar, quoting, doublequote, escapechar, comment, encoding, encoding_errors, dialect, error_bad_lines, warn_bad_lines, on_bad_lines, delim_whitespace, low_memory, memory_map, float_precision, storage_options)\u001b[0m\n\u001b[1;32m    948\u001b[0m     \u001b[0mkwds\u001b[0m\u001b[0;34m.\u001b[0m\u001b[0mupdate\u001b[0m\u001b[0;34m(\u001b[0m\u001b[0mkwds_defaults\u001b[0m\u001b[0;34m)\u001b[0m\u001b[0;34m\u001b[0m\u001b[0;34m\u001b[0m\u001b[0m\n\u001b[1;32m    949\u001b[0m \u001b[0;34m\u001b[0m\u001b[0m\n\u001b[0;32m--> 950\u001b[0;31m     \u001b[0;32mreturn\u001b[0m \u001b[0m_read\u001b[0m\u001b[0;34m(\u001b[0m\u001b[0mfilepath_or_buffer\u001b[0m\u001b[0;34m,\u001b[0m \u001b[0mkwds\u001b[0m\u001b[0;34m)\u001b[0m\u001b[0;34m\u001b[0m\u001b[0;34m\u001b[0m\u001b[0m\n\u001b[0m\u001b[1;32m    951\u001b[0m \u001b[0;34m\u001b[0m\u001b[0m\n\u001b[1;32m    952\u001b[0m \u001b[0;34m\u001b[0m\u001b[0m\n",
            "\u001b[0;32m/usr/local/lib/python3.10/dist-packages/pandas/io/parsers/readers.py\u001b[0m in \u001b[0;36m_read\u001b[0;34m(filepath_or_buffer, kwds)\u001b[0m\n\u001b[1;32m    609\u001b[0m \u001b[0;34m\u001b[0m\u001b[0m\n\u001b[1;32m    610\u001b[0m     \u001b[0;32mwith\u001b[0m \u001b[0mparser\u001b[0m\u001b[0;34m:\u001b[0m\u001b[0;34m\u001b[0m\u001b[0;34m\u001b[0m\u001b[0m\n\u001b[0;32m--> 611\u001b[0;31m         \u001b[0;32mreturn\u001b[0m \u001b[0mparser\u001b[0m\u001b[0;34m.\u001b[0m\u001b[0mread\u001b[0m\u001b[0;34m(\u001b[0m\u001b[0mnrows\u001b[0m\u001b[0;34m)\u001b[0m\u001b[0;34m\u001b[0m\u001b[0;34m\u001b[0m\u001b[0m\n\u001b[0m\u001b[1;32m    612\u001b[0m \u001b[0;34m\u001b[0m\u001b[0m\n\u001b[1;32m    613\u001b[0m \u001b[0;34m\u001b[0m\u001b[0m\n",
            "\u001b[0;32m/usr/local/lib/python3.10/dist-packages/pandas/io/parsers/readers.py\u001b[0m in \u001b[0;36mread\u001b[0;34m(self, nrows)\u001b[0m\n\u001b[1;32m   1776\u001b[0m                     \u001b[0mcolumns\u001b[0m\u001b[0;34m,\u001b[0m\u001b[0;34m\u001b[0m\u001b[0;34m\u001b[0m\u001b[0m\n\u001b[1;32m   1777\u001b[0m                     \u001b[0mcol_dict\u001b[0m\u001b[0;34m,\u001b[0m\u001b[0;34m\u001b[0m\u001b[0;34m\u001b[0m\u001b[0m\n\u001b[0;32m-> 1778\u001b[0;31m                 \u001b[0;34m)\u001b[0m \u001b[0;34m=\u001b[0m \u001b[0mself\u001b[0m\u001b[0;34m.\u001b[0m\u001b[0m_engine\u001b[0m\u001b[0;34m.\u001b[0m\u001b[0mread\u001b[0m\u001b[0;34m(\u001b[0m  \u001b[0;31m# type: ignore[attr-defined]\u001b[0m\u001b[0;34m\u001b[0m\u001b[0;34m\u001b[0m\u001b[0m\n\u001b[0m\u001b[1;32m   1779\u001b[0m                     \u001b[0mnrows\u001b[0m\u001b[0;34m\u001b[0m\u001b[0;34m\u001b[0m\u001b[0m\n\u001b[1;32m   1780\u001b[0m                 )\n",
            "\u001b[0;32m/usr/local/lib/python3.10/dist-packages/pandas/io/parsers/c_parser_wrapper.py\u001b[0m in \u001b[0;36mread\u001b[0;34m(self, nrows)\u001b[0m\n\u001b[1;32m    228\u001b[0m         \u001b[0;32mtry\u001b[0m\u001b[0;34m:\u001b[0m\u001b[0;34m\u001b[0m\u001b[0;34m\u001b[0m\u001b[0m\n\u001b[1;32m    229\u001b[0m             \u001b[0;32mif\u001b[0m \u001b[0mself\u001b[0m\u001b[0;34m.\u001b[0m\u001b[0mlow_memory\u001b[0m\u001b[0;34m:\u001b[0m\u001b[0;34m\u001b[0m\u001b[0;34m\u001b[0m\u001b[0m\n\u001b[0;32m--> 230\u001b[0;31m                 \u001b[0mchunks\u001b[0m \u001b[0;34m=\u001b[0m \u001b[0mself\u001b[0m\u001b[0;34m.\u001b[0m\u001b[0m_reader\u001b[0m\u001b[0;34m.\u001b[0m\u001b[0mread_low_memory\u001b[0m\u001b[0;34m(\u001b[0m\u001b[0mnrows\u001b[0m\u001b[0;34m)\u001b[0m\u001b[0;34m\u001b[0m\u001b[0;34m\u001b[0m\u001b[0m\n\u001b[0m\u001b[1;32m    231\u001b[0m                 \u001b[0;31m# destructive to chunks\u001b[0m\u001b[0;34m\u001b[0m\u001b[0;34m\u001b[0m\u001b[0m\n\u001b[1;32m    232\u001b[0m                 \u001b[0mdata\u001b[0m \u001b[0;34m=\u001b[0m \u001b[0m_concatenate_chunks\u001b[0m\u001b[0;34m(\u001b[0m\u001b[0mchunks\u001b[0m\u001b[0;34m)\u001b[0m\u001b[0;34m\u001b[0m\u001b[0;34m\u001b[0m\u001b[0m\n",
            "\u001b[0;32m/usr/local/lib/python3.10/dist-packages/pandas/_libs/parsers.pyx\u001b[0m in \u001b[0;36mpandas._libs.parsers.TextReader.read_low_memory\u001b[0;34m()\u001b[0m\n",
            "\u001b[0;32m/usr/local/lib/python3.10/dist-packages/pandas/_libs/parsers.pyx\u001b[0m in \u001b[0;36mpandas._libs.parsers.TextReader._read_rows\u001b[0;34m()\u001b[0m\n",
            "\u001b[0;32m/usr/local/lib/python3.10/dist-packages/pandas/_libs/parsers.pyx\u001b[0m in \u001b[0;36mpandas._libs.parsers.TextReader._tokenize_rows\u001b[0;34m()\u001b[0m\n",
            "\u001b[0;32m/usr/local/lib/python3.10/dist-packages/pandas/_libs/parsers.pyx\u001b[0m in \u001b[0;36mpandas._libs.parsers.raise_parser_error\u001b[0;34m()\u001b[0m\n",
            "\u001b[0;31mParserError\u001b[0m: Error tokenizing data. C error: Expected 1 fields in line 33, saw 8\n"
          ]
        }
      ]
    },
    {
      "cell_type": "markdown",
      "source": [
        "# » Muestra del DataSet\n"
      ],
      "metadata": {
        "id": "84AoNr-ou6vy"
      }
    },
    {
      "cell_type": "code",
      "source": [
        "ds_base.head()"
      ],
      "metadata": {
        "id": "C_16iRIU-B5z"
      },
      "execution_count": null,
      "outputs": []
    },
    {
      "cell_type": "markdown",
      "source": [],
      "metadata": {
        "id": "FKTsKrr8bemC"
      }
    },
    {
      "cell_type": "markdown",
      "source": [
        "# » Exploración Inicial y filtrado de datos."
      ],
      "metadata": {
        "id": "sYo5j3OB4QVh"
      }
    },
    {
      "cell_type": "markdown",
      "source": [
        "Analizando el DataSet, podemos observar que la columna 'company' se encuentra en un gran porcentaje vacía, por lo que se decidió eliminar la columna del DataSet con el fin de dejar lo más limpio posible el archivo y trabajar únicamente con datos que puedan ser relevantes en el trabajo práctico."
      ],
      "metadata": {
        "id": "80ZYVQTdbD2O"
      }
    },
    {
      "cell_type": "code",
      "source": [
        "ds_filtrado_company = ds_base['company']\n",
        "\n",
        "numero_de_NaN_company = ds_filtrado_company.isna().sum()\n",
        "numero_de_lineas_company = ds_filtrado_company.shape[0]\n",
        "\n",
        "porcentaje_de_NaN_company = (numero_de_NaN_company/numero_de_lineas_company ) * 100\n",
        "porcentaje_de_NaN_redondeado_company = round(porcentaje_de_NaN_company, 2)\n",
        "\n",
        "valores_company = {'numero_de_NaN': [numero_de_NaN_company],\n",
        "           'numero_de_lineas': [numero_de_lineas_company],\n",
        "           'porcentaje_de_NaN': [porcentaje_de_NaN_redondeado_company]}\n",
        "\n",
        "\n",
        "df_company = pd.DataFrame.from_dict(valores_company)\n",
        "df_company.head()\n",
        "\n"
      ],
      "metadata": {
        "id": "GVz715F8cBuW"
      },
      "execution_count": null,
      "outputs": []
    },
    {
      "cell_type": "code",
      "source": [
        "ds_filtrado_agent = ds_base['agent']\n",
        "\n",
        "numero_de_NaN_agent = ds_filtrado_agent.isna().sum()\n",
        "numero_de_lineas_agent = ds_filtrado_agent.shape[0]\n",
        "\n",
        "porcentaje_de_NaN_agent = (numero_de_NaN_agent/numero_de_lineas_agent ) * 100\n",
        "porcentaje_de_NaN_redondeado_agent = round(porcentaje_de_NaN_agent, 2)\n",
        "\n",
        "valores_agent = {'numero_de_NaN': [numero_de_NaN_agent],\n",
        "           'numero_de_lineas': [numero_de_lineas_agent],\n",
        "           'porcentaje_de_NaN': [porcentaje_de_NaN_redondeado_agent]}\n",
        "\n",
        "\n",
        "df_agent = pd.DataFrame.from_dict(valores_agent)\n",
        "df_agent.head()"
      ],
      "metadata": {
        "id": "t-grV2gulDmP"
      },
      "execution_count": null,
      "outputs": []
    },
    {
      "cell_type": "markdown",
      "source": [
        "### » Tipos de las varibales"
      ],
      "metadata": {
        "id": "ED55FjP-8-2f"
      }
    },
    {
      "cell_type": "code",
      "source": [
        "ds_base.dtypes"
      ],
      "metadata": {
        "id": "msz7VbouuVN2"
      },
      "execution_count": null,
      "outputs": []
    },
    {
      "cell_type": "markdown",
      "source": [
        "### » Separación de variables cuantitativas del DataSet para analizar la media, mediana y moda."
      ],
      "metadata": {
        "id": "8SAaxEtF6Po9"
      }
    },
    {
      "cell_type": "code",
      "source": [
        "nombre_variables_cuantitativas = ['lead_time','arrival_date_week_number', 'stays_in_weekend_nights', 'adults', 'children','babies',\n",
        "                                                         'is_repeated_guest', 'previous_cancellations', 'previous_bookings_not_canceled', 'booking_changes',\n",
        "                                                         'agent', 'days_in_waiting_list', 'adr', 'required_car_parking_spaces', 'total_of_special_requests' ]\n",
        "\n",
        "ds_cuantitativo = ds_base.loc[:, nombre_variables_cuantitativas]\n",
        "df = pd.DataFrame()\n",
        "df['media'] = round(ds_cuantitativo.mean(), 2)\n",
        "df['mediana'] = ds_cuantitativo.median()\n",
        "df['moda'] = ds_cuantitativo.mode().iloc[0]\n",
        "df"
      ],
      "metadata": {
        "id": "uxofVnkFElaU"
      },
      "execution_count": null,
      "outputs": []
    },
    {
      "cell_type": "code",
      "source": [
        "round(ds_cuantitativo.describe(), 2).transpose()"
      ],
      "metadata": {
        "id": "_lm96ImavTmv"
      },
      "execution_count": null,
      "outputs": []
    },
    {
      "cell_type": "markdown",
      "source": [
        "### » Separación de las variables cualitativas y análisis."
      ],
      "metadata": {
        "id": "QA90Dzk4iKbr"
      }
    },
    {
      "cell_type": "code",
      "source": [
        "nombre_variables_cualitativas = ['hotel', 'arrival_date_month', 'meal', 'country', 'market_segment', 'reserved_room_type', 'distribution_channel', 'assigned_room_type', 'deposit_type',\n",
        "                                 'customer_type']\n",
        "\n",
        "ds_cualitativo = ds_base.loc[:, nombre_variables_cualitativas]\n"
      ],
      "metadata": {
        "id": "29WattoaOjEJ"
      },
      "execution_count": null,
      "outputs": []
    },
    {
      "cell_type": "markdown",
      "source": [
        "### » Cantidad de valores posibles dentro del DataSet con variables cualitativas unicamente:\n"
      ],
      "metadata": {
        "id": "KwUGv8IpnpPJ"
      }
    },
    {
      "cell_type": "code",
      "source": [
        "ds_cualitativo.nunique().sort_values(ascending=True)\n"
      ],
      "metadata": {
        "id": "GyYDYiqanvno"
      },
      "execution_count": null,
      "outputs": []
    },
    {
      "cell_type": "markdown",
      "source": [
        "### » Frecuencia de los valores\n",
        "Los numeros representan el porcentaje de aparacion de esa variable."
      ],
      "metadata": {
        "id": "jgHbv8q7pM-H"
      }
    },
    {
      "cell_type": "markdown",
      "source": [
        "- Hoteles."
      ],
      "metadata": {
        "id": "JcGLUqydqXu0"
      }
    },
    {
      "cell_type": "code",
      "source": [
        "round(ds_cualitativo.hotel.value_counts(normalize=True) * 100, 2)"
      ],
      "metadata": {
        "id": "bljX903upMt8"
      },
      "execution_count": null,
      "outputs": []
    },
    {
      "cell_type": "markdown",
      "source": [
        "\n",
        "- **Tipo de depósito.**"
      ],
      "metadata": {
        "id": "VxVIy4ZBsK3u"
      }
    },
    {
      "cell_type": "code",
      "source": [
        "round(ds_cualitativo.deposit_type.value_counts(normalize=True) * 100, 2)"
      ],
      "metadata": {
        "id": "Zd_50CE5sKrR"
      },
      "execution_count": null,
      "outputs": []
    },
    {
      "cell_type": "markdown",
      "source": [
        "\n",
        "- **Canal de distribución.**"
      ],
      "metadata": {
        "id": "3oAg6jFVs1Mb"
      }
    },
    {
      "cell_type": "code",
      "source": [
        "round(ds_cualitativo.distribution_channel.value_counts(normalize=True) * 100, 2)"
      ],
      "metadata": {
        "id": "sd7oUBn2sI9r"
      },
      "execution_count": null,
      "outputs": []
    },
    {
      "cell_type": "markdown",
      "source": [
        "- **Tipo de cliente.**\n"
      ],
      "metadata": {
        "id": "bKQiIT8ysw2P"
      }
    },
    {
      "cell_type": "code",
      "source": [
        "round(ds_cualitativo.customer_type.value_counts(normalize=True) * 100, 2)"
      ],
      "metadata": {
        "id": "ML4eltH3sXv5"
      },
      "execution_count": null,
      "outputs": []
    },
    {
      "cell_type": "markdown",
      "source": [
        "- **Comida.**"
      ],
      "metadata": {
        "id": "jaEn-ToxsxMM"
      }
    },
    {
      "cell_type": "code",
      "source": [
        "round(ds_cualitativo.meal.value_counts(normalize=True) * 100, 2)"
      ],
      "metadata": {
        "id": "8-4uR3YisX8c"
      },
      "execution_count": null,
      "outputs": []
    },
    {
      "cell_type": "markdown",
      "source": [
        "- **Segmento de mercado (método de reserva).**"
      ],
      "metadata": {
        "id": "qNoAdWojsxcl"
      }
    },
    {
      "cell_type": "code",
      "source": [
        "round(ds_cualitativo.market_segment.value_counts(normalize=True) * 100, 2)"
      ],
      "metadata": {
        "id": "vre1_f-zsYNs"
      },
      "execution_count": null,
      "outputs": []
    },
    {
      "cell_type": "markdown",
      "source": [
        "- **Mes de llegada**"
      ],
      "metadata": {
        "id": "Gm1E5kHRsyYH"
      }
    },
    {
      "cell_type": "code",
      "source": [
        "round(ds_cualitativo.arrival_date_month.value_counts(normalize=True) * 100, 2)"
      ],
      "metadata": {
        "id": "WzIvltMYsZAM"
      },
      "execution_count": null,
      "outputs": []
    },
    {
      "cell_type": "markdown",
      "source": [
        "- **País**"
      ],
      "metadata": {
        "id": "H8BG2tJDsyzT"
      }
    },
    {
      "cell_type": "code",
      "source": [
        "ds_cualitativo.country.value_counts(normalize=True) * 100"
      ],
      "metadata": {
        "id": "4ikio9LYsooM"
      },
      "execution_count": null,
      "outputs": []
    },
    {
      "cell_type": "markdown",
      "source": [
        "## » Varibles ordinales\n",
        "Los numeros representan el porcentaje de aparacion de esa variable."
      ],
      "metadata": {
        "id": "p-t7Qdtg8Opf"
      }
    },
    {
      "cell_type": "code",
      "source": [
        "nombre_variables_ordinales = ['reserved_room_type', 'assigned_room_type']\n",
        "\n",
        "ds_ordinales = ds_base.loc[:, nombre_variables_ordinales]"
      ],
      "metadata": {
        "id": "itmPcqRo9ZeQ"
      },
      "execution_count": null,
      "outputs": []
    },
    {
      "cell_type": "markdown",
      "source": [
        "- **Tipo de habitación reservada.**"
      ],
      "metadata": {
        "id": "3RVVAElb8ZZ4"
      }
    },
    {
      "cell_type": "code",
      "source": [
        "round(ds_ordinales.reserved_room_type.value_counts(normalize=True) * 100, 2)"
      ],
      "metadata": {
        "id": "qGmIDsPB8SfL"
      },
      "execution_count": null,
      "outputs": []
    },
    {
      "cell_type": "markdown",
      "source": [
        "- **Tipo de habitación asignada**"
      ],
      "metadata": {
        "id": "Gaq3rQiV8YhH"
      }
    },
    {
      "cell_type": "code",
      "source": [
        "round(ds_ordinales.assigned_room_type.value_counts(normalize=True) * 100, 2)"
      ],
      "metadata": {
        "id": "LXlN9fvt8Yzg"
      },
      "execution_count": null,
      "outputs": []
    },
    {
      "cell_type": "code",
      "source": [
        "## QUEDA COMPLETAR EL GRAFICO CON %\n",
        "plt.subplot(2,1,1)\n",
        "\n",
        "a = plt.bar(ds_ordinales['reserved_room_type'].value_counts().index, ds_ordinales['reserved_room_type'].value_counts())\n",
        "plt.ylabel('Porcentaje')\n",
        "\n",
        "\n",
        "plt.subplot(2,1,2)\n",
        "\n",
        "b= plt.bar(ds_ordinales['assigned_room_type'].value_counts().index, ds_ordinales['assigned_room_type'].value_counts())\n",
        "plt.ylabel('Porcentaje')\n"
      ],
      "metadata": {
        "id": "_RVZ9km38Jvl"
      },
      "execution_count": null,
      "outputs": []
    },
    {
      "cell_type": "markdown",
      "source": [
        "# » Análisis gráfico de las distribuciones de las variables."
      ],
      "metadata": {
        "id": "7EWf1sE2ySSs"
      }
    },
    {
      "cell_type": "markdown",
      "source": [
        "-  **Meses**\n",
        "\n",
        "\n",
        "En el siguiente gráfico podemos observar cuales son los meses con mayor actividad de reserva en la totalidad de los hoteles."
      ],
      "metadata": {
        "id": "BXlp8w_8yYjb"
      }
    },
    {
      "cell_type": "code",
      "source": [
        "\n",
        "grafico_distribucion_meses = ds_cualitativo['arrival_date_month'].value_counts().plot.barh(alpha=1, title=\"Cantidad de reservas por mes \",xlabel='Cantidad de reservas',ylabel='Meses')\n",
        "\n",
        "valores_barras = round(ds_cualitativo['arrival_date_month'].value_counts(normalize = True) * 100, 2)\n",
        "\n",
        "\n",
        "for index, value in enumerate(valores_barras):\n",
        "    plt.text(value, index, str(value) +\"%\")\n"
      ],
      "metadata": {
        "id": "wXri7naD0ys_"
      },
      "execution_count": null,
      "outputs": []
    },
    {
      "cell_type": "markdown",
      "source": [
        "- **Hoteles**\n",
        "\n",
        "En el grafico a continuacion se logra observar el porcentaje en que se realizan reservas en cada hotel."
      ],
      "metadata": {
        "id": "zwkpI4Zt4adK"
      }
    },
    {
      "cell_type": "code",
      "source": [
        "\n",
        "hoteles = ds_cualitativo.hotel.value_counts()\n",
        "\n",
        "df = pd.DataFrame(hoteles)\n",
        "\n",
        "valores = df['hotel']\n",
        "categoria = df.index\n",
        "\n",
        "plt.figure(figsize=(6, 6))\n",
        "\n",
        "plt.pie(valores, autopct=lambda p: '{:.2f}% ({:.0f})'.format(p,(p/100)*valores.sum()), startangle=0)\n",
        "plt.title('Frecuencia de reservas por hotel')\n",
        "\n",
        "plt.legend(labels=categoria, loc=\"best\")\n",
        "\n",
        "\n",
        "plt.show()"
      ],
      "metadata": {
        "id": "deBvHWKV4pZX"
      },
      "execution_count": null,
      "outputs": []
    },
    {
      "cell_type": "markdown",
      "source": [
        "- **Tipo de deposito**"
      ],
      "metadata": {
        "id": "B2YE3W9MF7nL"
      }
    },
    {
      "cell_type": "code",
      "source": [
        "tipo_deposito = ds_cualitativo.deposit_type.value_counts()\n",
        "\n",
        "df = pd.DataFrame(tipo_deposito)\n",
        "\n",
        "valores = df['deposit_type']\n",
        "categoria = df.index\n",
        "\n",
        "plt.figure(figsize=(6, 6))\n",
        "plt.pie(valores, explode=(0.2, 0.2, 0.1) ,autopct=lambda p: '{:.2f}% ({:.0f})'.format(p,(p/100)*valores.sum()), startangle=0)\n",
        "\n",
        "plt.title('Frecuencia de reservas por hotel')\n",
        "\n",
        "plt.legend(labels=categoria,loc=\"upper right\")\n",
        "\n",
        "\n",
        "plt.show()\n",
        "\n"
      ],
      "metadata": {
        "id": "5Kq0sXYKG1ii"
      },
      "execution_count": null,
      "outputs": []
    },
    {
      "cell_type": "markdown",
      "source": [
        "- **Canal de distribucion**"
      ],
      "metadata": {
        "id": "r1cFWU9vs0wG"
      }
    },
    {
      "cell_type": "code",
      "source": [
        "tipos_de_canales = ds_cualitativo.distribution_channel.value_counts()\n",
        "\n",
        "df = pd.DataFrame(tipos_de_canales)\n",
        "\n",
        "valores = df['distribution_channel']\n",
        "categoria = df.index\n",
        "\n",
        "plt.figure(figsize=(6, 6))\n",
        "plt.pie(valores, explode=(0, 0.05, 0.1, 0.4) ,autopct=lambda p: '{:.2f}% ({:.0f})'.format(p,(p/100)*valores.sum()), startangle=0)\n",
        "\n",
        "plt.title('Impacto de los canales de distribucion')\n",
        "\n",
        "plt.legend(labels=categoria,loc=\"upper right\")\n",
        "\n",
        "plt.show()\n",
        "\n"
      ],
      "metadata": {
        "id": "niszsH69s0_k"
      },
      "execution_count": null,
      "outputs": []
    },
    {
      "cell_type": "markdown",
      "source": [
        "- **Tipo de cliente**"
      ],
      "metadata": {
        "id": "PKDW0qFFuANJ"
      }
    },
    {
      "cell_type": "code",
      "source": [
        "tipos_de_clientes = ds_cualitativo.customer_type.value_counts()\n",
        "\n",
        "df = pd.DataFrame(tipos_de_clientes)\n",
        "\n",
        "valores = df['customer_type']\n",
        "categoria = df.index\n",
        "\n",
        "plt.figure(figsize=(6, 6))\n",
        "plt.pie(valores, explode=(0, 0.05, 0.1, 0.4) ,autopct=lambda p: '{:.2f}% ({:.0f})'.format(p,(p/100)*valores.sum()), startangle=0)\n",
        "\n",
        "plt.title('Tipos de clientes')\n",
        "\n",
        "plt.legend(labels=categoria,loc=\"upper right\")\n",
        "\n",
        "\n",
        "plt.show()\n"
      ],
      "metadata": {
        "id": "lkFzT9xFt_ur"
      },
      "execution_count": null,
      "outputs": []
    },
    {
      "cell_type": "markdown",
      "source": [
        "- **Comida**"
      ],
      "metadata": {
        "id": "kfBr7gBpusml"
      }
    },
    {
      "cell_type": "code",
      "source": [
        "tipos_de_comidas = ds_cualitativo.meal.value_counts()\n",
        "\n",
        "df = pd.DataFrame(tipos_de_comidas)\n",
        "\n",
        "valores = df['meal']\n",
        "categoria = df.index\n",
        "\n",
        "plt.figure(figsize=(6, 6))\n",
        "plt.pie(valores, explode=(0, 0.1, 0.1, 0.1, 0.7),autopct=lambda p: '{:.2f}% ({:.0f})'.format(p,(p/100)*valores.sum()), startangle=0)\n",
        "\n",
        "plt.title('Tipos de clientes')\n",
        "\n",
        "plt.legend(labels=categoria,loc=\"upper right\")\n",
        "\n",
        "\n",
        "plt.show()\n"
      ],
      "metadata": {
        "id": "wG-wyPC3usHe"
      },
      "execution_count": null,
      "outputs": []
    },
    {
      "cell_type": "markdown",
      "source": [
        "- **Segmento de mercado**"
      ],
      "metadata": {
        "id": "MvG8EOfiu19I"
      }
    },
    {
      "cell_type": "code",
      "source": [
        "\n",
        "grafico_distribucion_meses = ds_cualitativo['market_segment'].value_counts().plot.barh(alpha=1, title=\"Cantidad de reservas por mes\",xlabel='Cantidad de reservas',ylabel='Meses')\n",
        "valores_barras = round(ds_cualitativo['market_segment'].value_counts(normalize = True) * 100, 2)\n",
        "\n",
        "\n",
        "for index, value in enumerate(valores_barras):\n",
        "    plt.text(value, index, str(value) +\"%\")\n"
      ],
      "metadata": {
        "id": "ixye0MzZu2OW"
      },
      "execution_count": null,
      "outputs": []
    },
    {
      "cell_type": "markdown",
      "source": [
        "- **Tipos de clienteS**\n",
        "\n"
      ],
      "metadata": {
        "id": "1ZsBOXv1u2iv"
      }
    },
    {
      "cell_type": "code",
      "source": [
        "tipos_de_clientes = ds_cualitativo.customer_type.value_counts()\n",
        "\n",
        "df = pd.DataFrame(tipos_de_clientes)\n",
        "\n",
        "valores = df['customer_type']\n",
        "categoria = df.index\n",
        "\n",
        "plt.figure(figsize=(6, 6))\n",
        "plt.pie(valores, explode=(0, 0.05, 0.1, 0.4) ,autopct=lambda p: '{:.2f}% ({:.0f})'.format(p,(p/100)*valores.sum()), startangle=0)\n",
        "\n",
        "plt.title('Tipos de clientes')\n",
        "\n",
        "plt.legend(labels=categoria,loc=\"upper right\")\n",
        "\n",
        "\n",
        "plt.show()"
      ],
      "metadata": {
        "id": "ZTgVnibKu3Li"
      },
      "execution_count": null,
      "outputs": []
    },
    {
      "cell_type": "markdown",
      "source": [
        "- **Paises con mas reservas en los hoteles**"
      ],
      "metadata": {
        "id": "nXV2yH27bXmZ"
      }
    },
    {
      "cell_type": "code",
      "source": [
        "\n",
        "#top_paises = ds_cualitativo['country'].value_counts()\n",
        "sns.histplot(data=ds_cualitativo, x=ds_cualitativo.babies, bins=5)#, title=\"Top países con más reservas\", xlabel='Países', ylabel='Cantidad de reservas')\n"
      ],
      "metadata": {
        "id": "V2i2xftS3zNq"
      },
      "execution_count": null,
      "outputs": []
    },
    {
      "cell_type": "code",
      "source": [
        "top_paises = ds_cualitativo['country'].value_counts().head(31)\n",
        "paises = top_paises.plot.bar(alpha=1, title=\"Top países con más reservas\", xlabel='Países', ylabel='Cantidad de reservas')\n"
      ],
      "metadata": {
        "id": "K7SCJJh5fyCX"
      },
      "execution_count": null,
      "outputs": []
    },
    {
      "cell_type": "markdown",
      "source": [
        "# » Grafico de los valores atipicos"
      ],
      "metadata": {
        "id": "oUUAs42fO48s"
      }
    },
    {
      "cell_type": "markdown",
      "source": [
        "- **Cantidad de adultos por habitacion**"
      ],
      "metadata": {
        "id": "2LrPLuTyOIwq"
      }
    },
    {
      "cell_type": "code",
      "source": [
        "\n",
        "grf = ds_base.adults.plot(kind = 'hist', bins= 60, log=True, ylabel='Cantidad')\n"
      ],
      "metadata": {
        "id": "eyc2G3J4OJOO"
      },
      "execution_count": null,
      "outputs": []
    },
    {
      "cell_type": "code",
      "source": [
        "grf = sns.boxplot(y=ds_base.adults, data= ds_base ).set(title=\"Boxplot cantidad de adultos por habitación\",xlabel=\"\",ylabel=\"Cantidad\")"
      ],
      "metadata": {
        "id": "Ejcn-A38OVop"
      },
      "execution_count": null,
      "outputs": []
    },
    {
      "cell_type": "markdown",
      "source": [
        "- **Estadia los fines de semana en el hotel**"
      ],
      "metadata": {
        "id": "ehIjLmxMPK2s"
      }
    },
    {
      "cell_type": "code",
      "source": [
        "grf = sns.boxplot(y=ds_base.stays_in_weekend_nights, data= ds_base).set(title=\"Boxplot cantidad de fines de semana en el hotel\",xlabel=\"\",ylabel=\"Cantidad\")"
      ],
      "metadata": {
        "id": "r-Y1f88TP3TG"
      },
      "execution_count": null,
      "outputs": []
    },
    {
      "cell_type": "markdown",
      "source": [
        "- **Cantidad de bebes en cada familia**"
      ],
      "metadata": {
        "id": "agwfAdWzP3GS"
      }
    },
    {
      "cell_type": "code",
      "source": [
        "grf = sns.boxplot(y=ds_base.babies, data= ds_base).set(title=\"Boxplot cantidad de bebes en cada familia\",xlabel=\"\",ylabel=\"Cantidad\")"
      ],
      "metadata": {
        "id": "KgY2YUz2Qiya"
      },
      "execution_count": null,
      "outputs": []
    },
    {
      "cell_type": "markdown",
      "source": [
        "- **Cancelaciones previas de la habitacion**"
      ],
      "metadata": {
        "id": "P1-nRD8iQwyp"
      }
    },
    {
      "cell_type": "code",
      "source": [
        "grf = sns.boxplot(y=ds_base.previous_cancellations, data= ds_base).set(title=\"Boxplot cantidad cancelaciones previas\",xlabel=\"\",ylabel=\"Cantidad\")"
      ],
      "metadata": {
        "id": "s8SqXHY0QwUP"
      },
      "execution_count": null,
      "outputs": []
    },
    {
      "cell_type": "markdown",
      "source": [
        "- **Dias en la lista de espera**"
      ],
      "metadata": {
        "id": "vz-0CmIiR8sS"
      }
    },
    {
      "cell_type": "code",
      "source": [
        "grf = sns.boxplot(y = ds_base.days_in_waiting_list, data = ds_base).set(title=\"Boxplot cantidad dias de espera en la lista\",xlabel=\"\",ylabel=\"Cantidad\")"
      ],
      "metadata": {
        "id": "v0mq82Z3R8Se"
      },
      "execution_count": null,
      "outputs": []
    },
    {
      "cell_type": "markdown",
      "source": [
        "- **ADR**"
      ],
      "metadata": {
        "id": "yWWtIzZs5u_N"
      }
    },
    {
      "cell_type": "code",
      "source": [
        "grf = sns.boxplot(y= ds_base.adr, data= ds_base ).set(title=\"Boxplot de ADR \",xlabel=\"\",ylabel=\"Cantidad\")"
      ],
      "metadata": {
        "id": "TnYVgQJFSbmP"
      },
      "execution_count": null,
      "outputs": []
    },
    {
      "cell_type": "markdown",
      "source": [
        "# » Análisis de las correlaciones entre las variables.\n"
      ],
      "metadata": {
        "id": "uZfbY6Lhy8pU"
      }
    },
    {
      "cell_type": "code",
      "source": [
        "ds_base.corr(numeric_only = True)"
      ],
      "metadata": {
        "id": "KSbd6RJGzAN6"
      },
      "execution_count": null,
      "outputs": []
    },
    {
      "cell_type": "code",
      "source": [
        "plt.figure(figsize = (20,10))\n",
        "sns.heatmap(ds_base.corr(numeric_only = True),annot = True, cmap= \"Pastel1\")"
      ],
      "metadata": {
        "id": "npQT8afIzWOA"
      },
      "execution_count": null,
      "outputs": []
    },
    {
      "cell_type": "markdown",
      "source": [
        "# » Analisis de nulos en el DataSet"
      ],
      "metadata": {
        "id": "kBSloa47cHk_"
      }
    },
    {
      "cell_type": "markdown",
      "source": [
        "- **Grafico de porcenataje de nulos de todas las variables**"
      ],
      "metadata": {
        "id": "ahWTO1oDcbSO"
      }
    },
    {
      "cell_type": "markdown",
      "source": [
        "Procederemos a calcular el porcentaje de valores nulos por columna. Esta información nos sera muy útil para tomar decisiones individuales sobre cómo abordar estos valores nulos en cada caso específico.\n"
      ],
      "metadata": {
        "id": "r0enI_GOpEfd"
      }
    },
    {
      "cell_type": "code",
      "source": [
        "porcentaje_nulos = (ds_original.isnull().sum() / len(ds_original)) * 100\n",
        "porcentaje_nulos = porcentaje_nulos.sort_values(ascending=False)\n",
        "plt.figure(figsize=(25, 8))\n",
        "ax = porcentaje_nulos.plot(kind='bar', color='skyblue')\n",
        "\n",
        "porcentaje_nulos.plot(kind='bar', color='skyblue')#,autopct=lambda p: '{:.2f}% ({:.0f})'.format(p,(p/100)*valores.sum()))\n",
        "plt.title('Porcentaje de valores nulos por columna')\n",
        "plt.xlabel('Columnas')\n",
        "plt.ylabel('Porcentaje de Nulos')\n",
        "plt.xticks(rotation=75)\n",
        "plt.ylim(0, 100)\n",
        "plt.gca().yaxis.set_major_formatter(PercentFormatter())\n",
        "for p in ax.patches:\n",
        "    ax.annotate(f'{p.get_height():.2f}%', (p.get_x() + p.get_width() / 2., p.get_height()), ha='center', va='bottom')\n",
        "\n",
        "plt.show()"
      ],
      "metadata": {
        "id": "BqHONpb3ix8I"
      },
      "execution_count": null,
      "outputs": []
    },
    {
      "cell_type": "markdown",
      "source": [
        "Primero decidimos en la columna agent reemplazar los valores Nan con ceros.\n",
        "Luego, tomamos la decision de unir las columnas company y agent ya que describen el ID y la columna company tenia un alto porcentaje de valores NULL. En el caso que un registro no tuviera NULL en las dos columnas, decidimos dejar el valor de company."
      ],
      "metadata": {
        "id": "DVChVURa1my4"
      }
    },
    {
      "cell_type": "markdown",
      "source": [
        "Reemplazamos los valores NULL en la columna country con 'Undefined'\n",
        "para .."
      ],
      "metadata": {
        "id": "WBnlE5oB4Odk"
      }
    },
    {
      "cell_type": "code",
      "source": [
        "ds_copia = ds_original.copy()\n",
        "###agregar una C a los que sean company\n",
        "ds_unificado = pd.DataFrame(ds_copia)\n",
        "\n",
        "ds_unificado.agent.fillna(0, inplace=True)\n",
        "\n",
        "ds_unificado['agent_company'] = ds_unificado['company'].fillna(ds_unificado['agent'])\n",
        "ds_unificado = ds_unificado.drop(['company', 'agent'], axis=1)\n",
        "\n",
        "ds_unificado.isna().any()"
      ],
      "metadata": {
        "id": "coJW-ZcRpNnd"
      },
      "execution_count": null,
      "outputs": []
    },
    {
      "cell_type": "markdown",
      "source": [
        "Mostramos la cantidad de valores NaN previo a la imputacion de la columna country"
      ],
      "metadata": {
        "id": "BfxNwD5MCz4X"
      }
    },
    {
      "cell_type": "code",
      "source": [
        "ds_filtrado_agent = ds_base['country']\n",
        "\n",
        "numero_de_NaN_agent = ds_filtrado_agent.isna().sum()\n",
        "numero_de_lineas_agent = ds_filtrado_agent.shape[0]\n",
        "\n",
        "porcentaje_de_NaN_agent = (numero_de_NaN_agent/numero_de_lineas_agent ) * 100\n",
        "porcentaje_de_NaN_redondeado_agent = round(porcentaje_de_NaN_agent, 2)\n",
        "\n",
        "valores_agent = {'numero_de_NaN': [numero_de_NaN_agent],\n",
        "           'numero_de_lineas': [numero_de_lineas_agent],\n",
        "           'porcentaje_de_NaN': [porcentaje_de_NaN_redondeado_agent]}\n",
        "\n",
        "\n",
        "df_agent = pd.DataFrame.from_dict(valores_agent)\n",
        "df_agent.head()\n",
        "#Se perdieron como 20000 lineas ¿?"
      ],
      "metadata": {
        "id": "LCzMh_OxAI1k"
      },
      "execution_count": null,
      "outputs": []
    },
    {
      "cell_type": "markdown",
      "source": [
        "Asi quedaria la distribucion de country luego de la imputacion"
      ],
      "metadata": {
        "id": "Ot8bSKebDD9e"
      }
    },
    {
      "cell_type": "code",
      "source": [
        "ds_filtrado_agent = ds_unificado['country']\n",
        "\n",
        "numero_de_NaN_agent = ds_filtrado_agent.isna().sum()\n",
        "numero_de_lineas_agent = ds_filtrado_agent.shape[0]\n",
        "\n",
        "porcentaje_de_NaN_agent = (numero_de_NaN_agent/numero_de_lineas_agent ) * 100\n",
        "porcentaje_de_NaN_redondeado_agent = round(porcentaje_de_NaN_agent, 2)\n",
        "\n",
        "valores_agent = {'numero_de_NaN': [numero_de_NaN_agent],\n",
        "           'numero_de_lineas': [numero_de_lineas_agent],\n",
        "           'porcentaje_de_NaN': [porcentaje_de_NaN_redondeado_agent]}\n",
        "\n",
        "\n",
        "df_agent = pd.DataFrame.from_dict(valores_agent)\n",
        "print(df_agent)\n",
        "\n",
        "ds_unificado.country.fillna('Undefined', inplace=True)\n",
        "\n",
        "top_10_paises = ds_unificado['country'].value_counts().head(31)\n",
        "paises = top_10_paises.plot.bar(alpha=1, title=\"Top 10 países con más reservas\", xlabel='Cantidad de reservas', ylabel='Países')\n"
      ],
      "metadata": {
        "id": "3bWdhOB16qhG"
      },
      "execution_count": null,
      "outputs": []
    },
    {
      "cell_type": "code",
      "source": [
        "print(\"Hay valores NULL? :\" , ds_unificado.country.isna().any())\n",
        "porcentaje_nulos = (ds_unificado.isnull().sum() / len(ds_original)) * 100\n",
        "porcentaje_nulos = porcentaje_nulos.sort_values(ascending=False)\n",
        "plt.figure(figsize=(25, 8))\n",
        "ax = porcentaje_nulos.plot(kind='bar', color='skyblue')\n",
        "\n",
        "porcentaje_nulos.plot(kind='bar', color='skyblue')#,autopct=lambda p: '{:.2f}% ({:.0f})'.format(p,(p/100)*valores.sum()))\n",
        "plt.title('Porcentaje de valores nulos por columna')\n",
        "plt.xlabel('Columnas')\n",
        "plt.ylabel('Porcentaje de Nulos')\n",
        "plt.xticks(rotation=75)\n",
        "plt.ylim(0, 100)\n",
        "plt.gca().yaxis.set_major_formatter(PercentFormatter())\n",
        "for p in ax.patches:\n",
        "    ax.annotate(f'{p.get_height():.2f}%', (p.get_x() + p.get_width() / 2., p.get_height()), ha='center', va='bottom')\n",
        "\n",
        "plt.show()"
      ],
      "metadata": {
        "id": "1tp8oeBeFL-R"
      },
      "execution_count": null,
      "outputs": []
    },
    {
      "cell_type": "code",
      "source": [],
      "metadata": {
        "id": "BD3sQmXQY1Fg"
      },
      "execution_count": null,
      "outputs": []
    }
  ]
}